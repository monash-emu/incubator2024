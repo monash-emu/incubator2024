{
 "cells": [
  {
   "cell_type": "code",
   "execution_count": null,
   "id": "4e2ce3d9",
   "metadata": {},
   "outputs": [],
   "source": [
    "import warnings\n",
    "warnings.filterwarnings(\"ignore\")\n",
    "import pandas as pd\n",
    "from tb_incubator.constants import set_project_base_path, QUANTILES, image_path\n",
    "from tb_incubator.calibrate import plot_output_ranges, add_line_breaks\n",
    "from tb_incubator.plotting import get_combined_plot\n",
    "from tb_incubator.input import load_targets\n",
    "from estival.sampling import tools as esamp\n",
    "\n",
    "project_paths = set_project_base_path(\"../tb_incubator/\")\n",
    "calib_out = project_paths[\"OUT_PATH\"]"
   ]
  },
  {
   "cell_type": "code",
   "execution_count": null,
   "id": "3a801947",
   "metadata": {},
   "outputs": [],
   "source": [
    "file_suffixes = [\"xpert_utilisation_improvement_p17_96\", \"no_xpert_utilisation_improvement_p17_96\"]\n",
    "assumption_titles = {\n",
    "    \"xpert_utilisation_improvement_p17_96\": \"With Xpert Improvement\",\n",
    "    \"no_xpert_utilisation_improvement_p17_96\": \"Without Xpert Improvement\"\n",
    "}\n",
    "    \n",
    "titles = [assumption_titles[suffix] for suffix in file_suffixes]\n",
    "\n",
    "spaghettis = {}\n",
    "quantile_outputs = {}\n",
    "\n",
    "for suffix in file_suffixes:\n",
    "    spaghetti = pd.read_hdf(calib_out / f'results_{suffix}.hdf', 'spaghetti')\n",
    "    spaghettis[suffix] = spaghetti\n",
    "    quantile_outputs[suffix] = esamp.quantiles_for_results(spaghetti, QUANTILES)\n",
    "\n",
    "targets = load_targets()\n",
    "out_req = [\"notification_log\", \"adults_prevalence_pulmonary_log\"]"
   ]
  },
  {
   "cell_type": "code",
   "execution_count": null,
   "id": "79b17fbd",
   "metadata": {},
   "outputs": [],
   "source": [
    "notif_plots = {}\n",
    "for suffix in file_suffixes:\n",
    "    notif_plots[suffix] = plot_output_ranges(\n",
    "        quantile_outputs[suffix], targets, ['notification'], 1, 2010, 2025, 2013, show_legend=True\n",
    "    )"
   ]
  },
  {
   "cell_type": "code",
   "execution_count": null,
   "id": "09301a64",
   "metadata": {},
   "outputs": [],
   "source": [
    "adults_prev_plots = {}\n",
    "for suffix in file_suffixes:\n",
    "    adults_prev_plots[suffix] = plot_output_ranges(\n",
    "        quantile_outputs[suffix], targets, ['adults_prevalence_pulmonary'], 1, 2010, 2025, 2013, show_legend=True\n",
    "    )"
   ]
  },
  {
   "cell_type": "code",
   "execution_count": null,
   "id": "7db99477",
   "metadata": {},
   "outputs": [],
   "source": [
    "notif_combined = get_combined_plot(\n",
    "    plot_list=list(notif_plots.values()),\n",
    "    n_cols=2,\n",
    "    subplot_titles=titles,\n",
    "    shared_yaxes=True,\n",
    "    shared_xaxes=False\n",
    ")\n",
    "\n",
    "notif_combined.update_yaxes(\n",
    "    title=dict(\n",
    "        text=add_line_breaks(f\"<b>Case notifications<b>\", max_chars=30),\n",
    "        font=dict(size=12)  \n",
    "    ), \n",
    "    row=1, col=1\n",
    ")\n",
    "\n",
    "#notif_combined.write_image(image_path / 'notifications_comp.png', scale=3)"
   ]
  },
  {
   "cell_type": "code",
   "execution_count": null,
   "id": "ab74e1af",
   "metadata": {},
   "outputs": [],
   "source": [
    "adults_prev_combined = get_combined_plot(\n",
    "    plot_list=list(adults_prev_plots.values()),\n",
    "    n_cols=2,\n",
    "    subplot_titles=titles,\n",
    "    shared_yaxes=True,\n",
    "    shared_xaxes=False\n",
    ")\n",
    "\n",
    "adults_prev_combined.update_yaxes(\n",
    "    title=dict(\n",
    "        text=add_line_breaks(f\"<b>Prevalence of pulmonary TB among adults (per 100,000/year)<b>\", max_chars=30),\n",
    "        font=dict(size=12) \n",
    "    ), \n",
    "    row=1, col=1\n",
    ")\n",
    "\n",
    "#adults_prev_combined.write_image(image_path / 'adults_prev_comp.png', scale=3)"
   ]
  },
  {
   "cell_type": "code",
   "execution_count": null,
   "id": "36658571",
   "metadata": {},
   "outputs": [],
   "source": []
  }
 ],
 "metadata": {
  "kernelspec": {
   "display_name": "tbmodel310",
   "language": "python",
   "name": "python3"
  },
  "language_info": {
   "codemirror_mode": {
    "name": "ipython",
    "version": 3
   },
   "file_extension": ".py",
   "mimetype": "text/x-python",
   "name": "python",
   "nbconvert_exporter": "python",
   "pygments_lexer": "ipython3",
   "version": "3.10.16"
  }
 },
 "nbformat": 4,
 "nbformat_minor": 5
}
