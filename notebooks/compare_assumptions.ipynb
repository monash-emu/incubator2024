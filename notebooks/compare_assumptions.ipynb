{
 "cells": [
  {
   "cell_type": "code",
   "execution_count": null,
   "id": "4e2ce3d9",
   "metadata": {},
   "outputs": [],
   "source": [
    "import warnings\n",
    "warnings.filterwarnings(\"ignore\")\n",
    "import copy\n",
    "import pandas as pd\n",
    "from tb_incubator.constants import set_project_base_path, QUANTILES, image_path\n",
    "from tb_incubator.calibrate import (\n",
    "    plot_output_ranges, get_quantile_outputs, calculate_loo_comparison, load_idata, extract_and_save_idata, run_model_for_scenario\n",
    ")\n",
    "from tb_incubator.plotting import get_combined_plot, overlay_plots\n",
    "from tb_incubator.input import load_targets, load_param_info\n",
    "\n",
    "project_paths = set_project_base_path(\"../tb_incubator/\")\n",
    "calib_out = project_paths[\"OUT_PATH\"]"
   ]
  },
  {
   "cell_type": "code",
   "execution_count": null,
   "id": "9974985a",
   "metadata": {},
   "outputs": [],
   "source": [
    "targets = load_targets()\n",
    "out_req = [\"notification_log\", \"adults_prevalence_pulmonary_log\"]\n",
    "params= load_param_info()[\"value\"]"
   ]
  },
  {
   "cell_type": "code",
   "execution_count": null,
   "id": "3a801947",
   "metadata": {},
   "outputs": [],
   "source": [
    "file_suffix = \"25000d10000t_01\"\n",
    "file_names = [f\"xpert_only_{file_suffix}\",\n",
    "              f\"no_xpert_no_cdr_{file_suffix}\",\n",
    "              f\"xpert_cdr_inside_{file_suffix}\",\n",
    "              f\"cdr_inside_{file_suffix}\"]\n",
    "\n",
    "assumption_titles = {}\n",
    "for i, name in enumerate(file_names):\n",
    "    assumption_titles[name] = f\"Assumption {i+1}\""
   ]
  },
  {
   "cell_type": "code",
   "execution_count": null,
   "id": "5fc3acec",
   "metadata": {},
   "outputs": [],
   "source": [
    "titles = [assumption_titles[name] for name in file_names]\n",
    "quantile_outputs = get_quantile_outputs(file_names, calib_out)\n",
    "quantile_outs = quantile_outputs['xpert_only_25000d10000t_01']"
   ]
  },
  {
   "cell_type": "code",
   "execution_count": null,
   "id": "799f1e9a",
   "metadata": {},
   "outputs": [],
   "source": [
    "plot_indicators = {\n",
    "    'notification': ['notification'],\n",
    "    'adults_prev': ['adults_prevalence_pulmonary'], \n",
    "    'incidence': ['incidence'],\n",
    "    'ltbi': ['percentage_latent'],\n",
    "    'mortality': ['mortality'],\n",
    "    'pdetect': ['passive_notification_raw']\n",
    "}\n",
    "\n",
    "plots = {}\n",
    "for indicator_key, indicator_list in plot_indicators.items():\n",
    "    plots[indicator_key] = {}\n",
    "    for name in file_names:\n",
    "        plots[indicator_key][name] = plot_output_ranges(\n",
    "            quantile_outputs[name], targets, indicator_list, 1, 2015, 2035, 2013, \n",
    "            show_legend=True, show_target_data=False, show_title=False\n",
    "        )\n"
   ]
  },
  {
   "cell_type": "code",
   "execution_count": null,
   "id": "aa0f5559",
   "metadata": {},
   "outputs": [],
   "source": [
    "indicators = ['notification', 'adults_prev', 'incidence', 'mortality']\n",
    "assump_keys = ['xpert_only_25000d10000t_01', 'no_xpert_no_cdr_25000d10000t_01']\n",
    "\n",
    "overlay_results = {}\n",
    "for indicator in indicators:\n",
    "    plot_list = [plots[indicator][key] for key in assump_keys]\n",
    "    overlay_results[indicator] = overlay_plots(plot_list)\n",
    "\n",
    "inc_plot_overlay = overlay_results['incidence']\n",
    "mort_plot_overlay = overlay_results['mortality']\n",
    "xpert_overlay = [inc_plot_overlay, mort_plot_overlay]\n",
    "\n",
    "xpert_comp = get_combined_plot(\n",
    "    plot_list=xpert_overlay, n_cols=2, subplot_titles=None, shared_yaxes=False, shared_xaxes=False\n",
    ")\n",
    "xpert_comp\n",
    "\n",
    "#xpert_countf.write_image(image_path / f'xpert_countfact.png', scale=3)\n"
   ]
  },
  {
   "cell_type": "code",
   "execution_count": null,
   "id": "bb00a069",
   "metadata": {},
   "outputs": [],
   "source": [
    "plot_list = [plots['pdetect']['xpert_only_25000d10000t_01'], plots['notification']['xpert_only_25000d10000t_01']]\n",
    "overlay_plots(plot_list, update_layout=True, yaxis_title='No. of TB patient commenced treatment')"
   ]
  },
  {
   "cell_type": "code",
   "execution_count": null,
   "id": "7db99477",
   "metadata": {},
   "outputs": [],
   "source": [
    "plots_target = {}\n",
    "for indicator_key, indicator_list in plot_indicators.items():\n",
    "    plots_target[indicator_key] = {}\n",
    "    for name in file_names:\n",
    "        plots_target[indicator_key][name] = get_combined_plot(\n",
    "                plot_list=list(plots[f'{indicator_key}'].values()),\n",
    "                n_cols=2,\n",
    "                subplot_titles=titles,\n",
    "                shared_yaxes=True,\n",
    "                shared_xaxes=False\n",
    "        )\n",
    "\n",
    "# save combined plots\n",
    "# notif_combined = plots_target['notification']['xpert_only_25000d10000t_01']\n",
    "# notif_combined.write_image(image_path / f'notifications_comp_{file_suffix}.png', scale=3)\n"
   ]
  },
  {
   "cell_type": "code",
   "execution_count": null,
   "id": "4ee7cb91",
   "metadata": {},
   "outputs": [],
   "source": [
    "model_configs = {\n",
    "    f'xpert_only_{file_suffix}': { # cdr is used outside detection function (only when calculating notification)\n",
    "        'xpert_improvement': True,\n",
    "        'apply_cdr_within_model': False,\n",
    "    },\n",
    "    f'no_xpert_no_cdr_{file_suffix}': {\n",
    "        'xpert_improvement': False,\n",
    "        'apply_cdr_within_model': False,\n",
    "    },\n",
    "    f'xpert_cdr_inside_{file_suffix}': {\n",
    "        'xpert_improvement': True,\n",
    "        'apply_cdr_within_model': True,\n",
    "    },\n",
    "    f'cdr_inside_{file_suffix}': {\n",
    "        'xpert_improvement': False,\n",
    "        'apply_cdr_within_model': True,\n",
    "    },\n",
    "}\n"
   ]
  },
  {
   "cell_type": "code",
   "execution_count": null,
   "id": "54e3e35d",
   "metadata": {},
   "outputs": [],
   "source": [
    "inference_data_dict = load_idata(calib_out, model_configs)\n",
    "extract_and_save_idata(inference_data_dict, calib_out)\n",
    "xpert_outputs = run_model_for_scenario(params, calib_out, model_configs, QUANTILES)"
   ]
  },
  {
   "cell_type": "code",
   "execution_count": null,
   "id": "478ff928",
   "metadata": {},
   "outputs": [],
   "source": [
    "loo_results = calculate_loo_comparison(xpert_outputs)\n",
    "loo_results.to_csv('results_table_loo.csv', index=True)"
   ]
  },
  {
   "cell_type": "code",
   "execution_count": null,
   "id": "b2e3a79a",
   "metadata": {},
   "outputs": [],
   "source": []
  }
 ],
 "metadata": {
  "kernelspec": {
   "display_name": "tbmodel310",
   "language": "python",
   "name": "python3"
  },
  "language_info": {
   "codemirror_mode": {
    "name": "ipython",
    "version": 3
   },
   "file_extension": ".py",
   "mimetype": "text/x-python",
   "name": "python",
   "nbconvert_exporter": "python",
   "pygments_lexer": "ipython3",
   "version": "3.10.16"
  }
 },
 "nbformat": 4,
 "nbformat_minor": 5
}
