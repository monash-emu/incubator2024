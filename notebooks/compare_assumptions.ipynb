{
 "cells": [
  {
   "cell_type": "code",
   "execution_count": null,
   "id": "4e2ce3d9",
   "metadata": {},
   "outputs": [],
   "source": [
    "import warnings\n",
    "warnings.filterwarnings(\"ignore\")\n",
    "import copy\n",
    "import pandas as pd\n",
    "from tb_incubator.constants import set_project_base_path, QUANTILES, image_path, ImplementCDR\n",
    "from tb_incubator.calibrate import (\n",
    "    plot_output_ranges\n",
    ")\n",
    "from tb_incubator.scenario_utils import (\n",
    "    get_quantile_outputs, \n",
    "    load_idata, \n",
    "    extract_and_save_idata, \n",
    "    run_model_for_scenario, calculate_waic_comparison\n",
    ")\n",
    "from tb_incubator.plotting import get_combined_plot, overlay_plots\n",
    "from tb_incubator.input import load_targets\n",
    "import arviz as az\n",
    "project_paths = set_project_base_path(\"../tb_incubator/\")\n",
    "calib_out = project_paths[\"OUT_PATH\"]\n",
    "out_path = project_paths['OUTPUTS']"
   ]
  },
  {
   "cell_type": "code",
   "execution_count": null,
   "id": "9974985a",
   "metadata": {},
   "outputs": [],
   "source": [
    "targets = load_targets()\n",
    "out_req = [\"notification_log\", \"adults_prevalence_pulmonary_log\"]\n",
    "params = {\n",
    "    \"start_population_size\": 1.0,\n",
    "    \"seed_time\": 1805.0,\n",
    "    \"seed_num\": 1.0,\n",
    "    \"seed_duration\": 1.0,\n",
    "}"
   ]
  },
  {
   "cell_type": "markdown",
   "id": "6a26ec4e",
   "metadata": {},
   "source": [
    "## WAIC"
   ]
  },
  {
   "cell_type": "code",
   "execution_count": null,
   "id": "2a3e8617",
   "metadata": {},
   "outputs": [],
   "source": [
    "file_suffix = \"25000d10000t_01nr\"\n",
    "model_configs = {\n",
    "    f'no_cdr_{file_suffix}': {\n",
    "        'apply_diagnostic_capacity': True,\n",
    "        'xpert_improvement': True,\n",
    "        'apply_cdr': ImplementCDR.NONE,\n",
    "    },\n",
    "    f'cdr_notif_{file_suffix}': { \n",
    "        'apply_diagnostic_capacity': True,\n",
    "        'xpert_improvement': True,\n",
    "        'apply_cdr': ImplementCDR.ON_NOTIFICATION,\n",
    "    },\n",
    "    f'cdr_detect_{file_suffix}': {\n",
    "        'apply_diagnostic_capacity': True,\n",
    "        'xpert_improvement': True,\n",
    "        'apply_cdr': ImplementCDR.ON_DETECTION,\n",
    "    }\n",
    "}"
   ]
  },
  {
   "cell_type": "code",
   "execution_count": null,
   "id": "5c4c57b9",
   "metadata": {},
   "outputs": [],
   "source": [
    "# Run this to create idata for the first time\n",
    "#inference_data_dict = load_idata(calib_out, model_configs)\n",
    "#extract_and_save_idata(inference_data_dict, calib_out, num_samples=1000)"
   ]
  },
  {
   "cell_type": "code",
   "execution_count": null,
   "id": "fbe562fb",
   "metadata": {},
   "outputs": [],
   "source": [
    "assump_outputs = run_model_for_scenario(params, calib_out, model_configs, QUANTILES)"
   ]
  },
  {
   "cell_type": "code",
   "execution_count": null,
   "id": "ecb13e89",
   "metadata": {},
   "outputs": [],
   "source": [
    "waic_results = calculate_waic_comparison(assump_outputs)\n",
    "waic_results\n",
    "waic_results.to_csv(out_path / 'results_table_waic.csv', index=True)"
   ]
  },
  {
   "cell_type": "markdown",
   "id": "d64bdbfe",
   "metadata": {},
   "source": [
    "## Plots"
   ]
  },
  {
   "cell_type": "code",
   "execution_count": null,
   "id": "3a801947",
   "metadata": {},
   "outputs": [],
   "source": [
    "file_names = [f\"no_cdr_{file_suffix}\",\n",
    "              f\"cdr_notif_{file_suffix}\",\n",
    "              f\"cdr_detect_{file_suffix}\"\n",
    "            ]"
   ]
  },
  {
   "cell_type": "code",
   "execution_count": null,
   "id": "799f1e9a",
   "metadata": {},
   "outputs": [],
   "source": [
    "#quantile_outputs = get_quantile_outputs(file_names, calib_out)\n",
    "quantile_outputs = assump_outputs\n",
    "plot_indicators = {\n",
    "    'notification': ['notification'],\n",
    "    'adults_prev': ['adults_prevalence_pulmonary'],\n",
    "}\n",
    "\n",
    "plots = {}\n",
    "for indicator_key, indicator_list in plot_indicators.items():\n",
    "    plots[indicator_key] = {}\n",
    "    for name in file_names:\n",
    "        name_index = file_names.index(name)\n",
    "        \n",
    "        if name_index == 0:  \n",
    "            color = \"217,95,2\"\n",
    "        elif name_index == 1: \n",
    "            color = \"27, 158, 119\"  \n",
    "        else:  \n",
    "            color = \"100, 150, 200\" \n",
    "        \n",
    "        plots[indicator_key][name] = plot_output_ranges(\n",
    "            quantile_outputs[name]['indicator_outputs'], targets, indicator_list, 1, 2010, 2025, 2013,\n",
    "            show_legend=False, show_target_data=True, show_title=False, colour=color\n",
    "        )"
   ]
  },
  {
   "cell_type": "markdown",
   "id": "15cc6cec",
   "metadata": {},
   "source": [
    "## Compare all assumptions"
   ]
  },
  {
   "cell_type": "code",
   "execution_count": null,
   "id": "bf323a4e",
   "metadata": {},
   "outputs": [],
   "source": [
    "scenarios = [\n",
    "    ('no_cdr_25000d10000t_01nr', 'No CDR'),\n",
    "    ('cdr_notif_25000d10000t_01nr', 'CDR on notification'),\n",
    "    ('cdr_detect_25000d10000t_01nr', 'CDR on treatment commencement'),\n",
    "]\n",
    "\n",
    "notif_prev = [\n",
    "    plots[plot_type][scenario_key]\n",
    "    for plot_type in ['notification', 'adults_prev']\n",
    "    for scenario_key, _ in scenarios\n",
    "]\n",
    "\n",
    "plot_titles = [title for _ in range(2) for _, title in scenarios]\n",
    "\n",
    "comb_plot = get_combined_plot(\n",
    "    plot_list=notif_prev,\n",
    "    n_cols=3,\n",
    "    subplot_titles=plot_titles,\n",
    "    shared_yaxes=True,\n",
    "    shared_xaxes=False,\n",
    "    horizontal_spacing=0.03,\n",
    "    vertical_spacing=0.15\n",
    ")"
   ]
  },
  {
   "cell_type": "code",
   "execution_count": null,
   "id": "517ca423",
   "metadata": {},
   "outputs": [],
   "source": [
    "positions = [(1, 1), (1, 2), (1, 3), \n",
    "             (2, 1), (2, 2), (2, 3)\n",
    "             ]\n",
    "years_data = [\n",
    "    (2017, \"1st inventory study\"),\n",
    "    (2023, \"2nd inventory study\")\n",
    "]\n",
    "\n",
    "for row, col in positions:\n",
    "    for year, text in years_data:\n",
    "        comb_plot.add_vline(x=year, line_dash=\"dot\", row=row, col=col, \n",
    "                       line_color=\"rgba(148, 145, 145, 0.5)\", line_width=2,\n",
    "                       annotation_text=text, annotation_textangle=-90,\n",
    "                       annotation_position=\"bottom right\",\n",
    "                       annotation_font_size=8, annotation_font_color=\"#4E4B4B\")\n",
    "\n",
    "comb_plot"
   ]
  },
  {
   "cell_type": "code",
   "execution_count": null,
   "id": "bdc14e58",
   "metadata": {},
   "outputs": [],
   "source": [
    "comb_plot.write_image(image_path / f'assump_compare.png', width=1200, height=600,scale=3)"
   ]
  },
  {
   "cell_type": "code",
   "execution_count": null,
   "id": "9bb7455d",
   "metadata": {},
   "outputs": [],
   "source": []
  }
 ],
 "metadata": {
  "kernelspec": {
   "display_name": "tbmodel310",
   "language": "python",
   "name": "python3"
  },
  "language_info": {
   "codemirror_mode": {
    "name": "ipython",
    "version": 3
   },
   "file_extension": ".py",
   "mimetype": "text/x-python",
   "name": "python",
   "nbconvert_exporter": "python",
   "pygments_lexer": "ipython3",
   "version": "3.10.16"
  }
 },
 "nbformat": 4,
 "nbformat_minor": 5
}
