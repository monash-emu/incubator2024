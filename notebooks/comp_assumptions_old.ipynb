{
 "cells": [
  {
   "cell_type": "code",
   "execution_count": 2,
   "id": "4e2ce3d9",
   "metadata": {},
   "outputs": [],
   "source": [
    "import warnings\n",
    "warnings.filterwarnings(\"ignore\")\n",
    "import copy\n",
    "import pandas as pd\n",
    "from tb_incubator.constants import set_project_base_path, QUANTILES, image_path, ImplementCDR\n",
    "from tb_incubator.calibrate import (\n",
    "    plot_output_ranges\n",
    ")\n",
    "from tb_incubator.scenario_utils import (\n",
    "    get_quantile_outputs, \n",
    "    load_idata, \n",
    "    extract_and_save_idata, \n",
    "    run_model_for_scenario, calculate_waic_comparison\n",
    ")\n",
    "from tb_incubator.plotting import get_combined_plot, overlay_plots\n",
    "from tb_incubator.input import load_targets\n",
    "\n",
    "project_paths = set_project_base_path(\"../tb_incubator/\")\n",
    "calib_out = project_paths[\"OUT_PATH\"]"
   ]
  },
  {
   "cell_type": "code",
   "execution_count": 3,
   "id": "9974985a",
   "metadata": {},
   "outputs": [],
   "source": [
    "targets = load_targets()\n",
    "out_req = [\"notification_log\", \"adults_prevalence_pulmonary_log\"]\n",
    "params = {\n",
    "    \"start_population_size\": 1.0,\n",
    "    \"seed_time\": 1805.0,\n",
    "    \"seed_num\": 1.0,\n",
    "    \"seed_duration\": 1.0,\n",
    "}"
   ]
  },
  {
   "cell_type": "markdown",
   "id": "6a26ec4e",
   "metadata": {},
   "source": [
    "## WAIC"
   ]
  },
  {
   "cell_type": "code",
   "execution_count": null,
   "id": "2a3e8617",
   "metadata": {},
   "outputs": [],
   "source": [
    "file_suffix = \"25000d10000t_01rs\"\n",
    "model_configs = {\n",
    "    f'no_cdr_{file_suffix}': {\n",
    "        'apply_diagnostic_capacity': True,\n",
    "        'xpert_improvement': True,\n",
    "        'apply_cdr': ImplementCDR.NONE,\n",
    "    },\n",
    "    f'cdr_notif_{file_suffix}': { \n",
    "        'apply_diagnostic_capacity': True,\n",
    "        'xpert_improvement': True,\n",
    "        'apply_cdr': ImplementCDR.ON_NOTIFICATION,\n",
    "    },\n",
    "    f'cdr_detect_{file_suffix}': {\n",
    "        'apply_diagnostic_capacity': True,\n",
    "        'xpert_improvement': True,\n",
    "        'apply_cdr': ImplementCDR.ON_DETECTION,\n",
    "    }\n",
    "}"
   ]
  },
  {
   "cell_type": "code",
   "execution_count": null,
   "id": "fbe562fb",
   "metadata": {},
   "outputs": [],
   "source": [
    "inference_data_dict = load_idata(calib_out, model_configs)\n",
    "extract_and_save_idata(inference_data_dict, calib_out)\n",
    "xpert_outputs = run_model_for_scenario(params, calib_out, model_configs, QUANTILES)"
   ]
  },
  {
   "cell_type": "code",
   "execution_count": null,
   "id": "ecb13e89",
   "metadata": {},
   "outputs": [],
   "source": [
    "waic_results = calculate_waic_comparison(xpert_outputs)\n",
    "waic_results\n",
    "#waic_results.to_csv('results_table_waic.csv', index=True)"
   ]
  },
  {
   "cell_type": "markdown",
   "id": "d64bdbfe",
   "metadata": {},
   "source": [
    "## Plots"
   ]
  },
  {
   "cell_type": "code",
   "execution_count": null,
   "id": "3a801947",
   "metadata": {},
   "outputs": [
    {
     "data": {
      "text/plain": [
       "['No CDR', 'CDR on notification', 'CDR on treatment commencement']"
      ]
     },
     "execution_count": 59,
     "metadata": {},
     "output_type": "execute_result"
    }
   ],
   "source": [
    "file_names = [f\"no_cdr_{file_suffix}\",\n",
    "              f\"cdr_notif_{file_suffix}\",\n",
    "              f\"cdr_detect_{file_suffix}\"\n",
    "            ]\n",
    "\n",
    "assumption_titles = {\n",
    "    f\"no_cdr_{file_suffix}\": \"No CDR\",\n",
    "    f\"no_cdr_{file_suffix}\": \"No CDR\",\n",
    "    f\"cdr_notif_{file_suffix}\": \"CDR on notification\",\n",
    "    f\"cdr_notif_{file_suffix}\": \"CDR on notification\",\n",
    "    f\"cdr_detect_{file_suffix}\": \"CDR on treatment commencement\",\n",
    "    f\"cdr_detect_{file_suffix}\": \"CDR on treatment commencement\"\n",
    "}\n",
    "titles = [assumption_titles[name] for name in file_names]\n",
    "\n"
   ]
  },
  {
   "cell_type": "code",
   "execution_count": 54,
   "id": "799f1e9a",
   "metadata": {},
   "outputs": [],
   "source": [
    "quantile_outputs = get_quantile_outputs(file_names, calib_out)\n",
    "\n",
    "plot_indicators = {\n",
    "    'notification': ['notification'],\n",
    "    'adults_prev': ['adults_prevalence_pulmonary'],\n",
    "    'incidence': ['incidence'],\n",
    "    'ltbi': ['percentage_latent'],\n",
    "    'mortality': ['mortality'],\n",
    "    'pdetect': ['passive_notification_raw']\n",
    "}\n",
    "\n",
    "plots = {}\n",
    "for indicator_key, indicator_list in plot_indicators.items():\n",
    "    plots[indicator_key] = {}\n",
    "    for name in file_names:\n",
    "        name_index = file_names.index(name)\n",
    "        \n",
    "        if name_index == 0:  \n",
    "            color = \"217,95,2\"\n",
    "        elif name_index == 1: \n",
    "            color = \"27, 158, 119\"  \n",
    "        else:  \n",
    "            color = \"100, 150, 200\" \n",
    "        \n",
    "        plots[indicator_key][name] = plot_output_ranges(\n",
    "            quantile_outputs[name], targets, indicator_list, 1, 2010, 2035, 2013,\n",
    "            show_legend=False, show_target_data=True, show_title=False, colour=color\n",
    "        )"
   ]
  },
  {
   "cell_type": "markdown",
   "id": "15cc6cec",
   "metadata": {},
   "source": [
    "## Compare all assumptions"
   ]
  },
  {
   "cell_type": "code",
   "execution_count": 68,
   "id": "bf323a4e",
   "metadata": {},
   "outputs": [],
   "source": [
    "scenarios = [\n",
    "    ('no_cdr_25000d10000t_01rs', 'No CDR'),\n",
    "    ('cdr_notif_25000d10000t_01rs', 'CDR on notification'),\n",
    "    ('cdr_detect_25000d10000t_01rs', 'CDR on treatment commencement'),\n",
    "]\n",
    "\n",
    "notif_prev = [\n",
    "    plots[plot_type][scenario_key]\n",
    "    for scenario_key, _ in scenarios\n",
    "    for plot_type in ['notification', 'adults_prev']\n",
    "]\n",
    "\n",
    "plot_titles = [title for _, title in scenarios for _ in range(2)]\n",
    "\n",
    "comb_plot = get_combined_plot(\n",
    "    plot_list=notif_prev,\n",
    "    n_cols=2,\n",
    "    subplot_titles=plot_titles,\n",
    "    shared_yaxes=False,\n",
    "    shared_xaxes=False,\n",
    "    horizontal_spacing=0.15,\n",
    "    vertical_spacing=0.10\n",
    ")"
   ]
  },
  {
   "cell_type": "code",
   "execution_count": null,
   "id": "517ca423",
   "metadata": {},
   "outputs": [],
   "source": [
    "positions = [(1, 1), (2, 1), (3, 1), (1, 2), (2, 2), (3, 2)]\n",
    "years_data = [\n",
    "    (2017, \"1st inventory study\"),\n",
    "    (2023, \"2nd inventory study\")\n",
    "]\n",
    "\n",
    "for row, col in positions:\n",
    "    for year, text in years_data:\n",
    "        comb_plot.add_vline(x=year, line_dash=\"dot\", row=row, col=col, \n",
    "                       line_color=\"rgba(148, 145, 145, 0.5)\", line_width=2,\n",
    "                       annotation_text=text, annotation_textangle=-90,\n",
    "                       annotation_position=\"bottom right\",\n",
    "                       annotation_font_size=8, annotation_font_color=\"#4E4B4B\")\n",
    "\n",
    "comb_plot"
   ]
  },
  {
   "cell_type": "markdown",
   "id": "e5cfee8f",
   "metadata": {},
   "source": [
    "## Overlay comparison"
   ]
  },
  {
   "cell_type": "code",
   "execution_count": 71,
   "id": "9bb993bc",
   "metadata": {},
   "outputs": [],
   "source": [
    "targets = load_targets()\n",
    "out_req = [\"notification_log\", \"adults_prevalence_pulmonary_log\"]\n",
    "file_id = \"25000d10000t_01rs\"\n",
    "file_suffixes = [f'no_extensions_{file_id}',\n",
    "                 f'no_cdr_{file_id}',\n",
    "                 f'cdr_notif_noxpert_{file_id}',\n",
    "                 f'cdr_notif_{file_id}',\n",
    "                 f'cdr_detect_noxpert_{file_id}',\n",
    "                 f'cdr_detect_{file_id}']\n",
    "\n",
    "quantile_outputs = get_quantile_outputs(file_suffixes, calib_out)"
   ]
  },
  {
   "cell_type": "code",
   "execution_count": 10,
   "id": "f7c0a34a",
   "metadata": {},
   "outputs": [
    {
     "data": {
      "application/vnd.plotly.v1+json": {
       "config": {
        "plotlyServerURL": "https://plot.ly"
       },
       "data": [
        {
         "fill": "tonexty",
         "fillcolor": "rgba(27,158,119,0.2)",
         "line": {
          "color": "rgb(27,158,119)",
          "width": 0
         },
         "marker": {
          "color": "rgb(27,158,119)"
         },
         "mode": "lines",
         "name": "0.025",
         "showlegend": false,
         "type": "scatter",
         "x": [
          2010,
          2011,
          2012,
          2013,
          2014,
          2015,
          2016,
          2017,
          2018,
          2019,
          2020,
          2021,
          2022,
          2023,
          2024,
          2025,
          2026,
          2027,
          2028,
          2029,
          2030,
          2031,
          2032,
          2033,
          2034,
          2035
         ],
         "xaxis": "x",
         "y": [
          153541.293302877,
          191961.65001447906,
          227537.68967921037,
          261401.72008502806,
          285913.342345874,
          298890.03658037644,
          307076.7633064902,
          312371.8218978083,
          360467.58187395893,
          418103.30373137025,
          279042.8443488839,
          320147.91371601634,
          526807.3889239002,
          538019.6747463584,
          529467.1755279603,
          505864.10430012655,
          486650.5595614425,
          469576.00319639454,
          453989.3907343809,
          441255.3314301111,
          429527.6613947816,
          420620.8961162786,
          413863.40698266856,
          408764.5024645575,
          404953.2835384627,
          402153.09542537405
         ],
         "yaxis": "y"
        },
        {
         "fill": "tonexty",
         "fillcolor": "rgba(27,158,119,0.2)",
         "line": {
          "color": "rgb(27,158,119)",
          "width": 0
         },
         "marker": {
          "color": "rgb(27,158,119)"
         },
         "mode": "lines",
         "name": "0.25",
         "showlegend": false,
         "type": "scatter",
         "x": [
          2010,
          2011,
          2012,
          2013,
          2014,
          2015,
          2016,
          2017,
          2018,
          2019,
          2020,
          2021,
          2022,
          2023,
          2024,
          2025,
          2026,
          2027,
          2028,
          2029,
          2030,
          2031,
          2032,
          2033,
          2034,
          2035
         ],
         "xaxis": "x",
         "y": [
          237325.89905528977,
          267496.3990304101,
          304576.67575487297,
          330437.7406901632,
          351129.89707673615,
          371943.07244074316,
          394699.8234606079,
          411273.23882561637,
          453015.99973376736,
          497479.52171662543,
          355365.4953398254,
          397781.1592867972,
          611162.6995575354,
          609570.2169870324,
          601882.9685510122,
          577590.6242637213,
          545452.3774282301,
          525652.8587777172,
          510825.85433573305,
          498416.95175083843,
          488074.81954468554,
          479509.9209182237,
          472480.9722873946,
          466780.45999488817,
          462228.3492285132,
          458670.707387984
         ],
         "yaxis": "y"
        },
        {
         "fill": "tonexty",
         "fillcolor": "rgba(27,158,119,0.2)",
         "line": {
          "color": "rgb(27,158,119)",
          "width": 0
         },
         "marker": {
          "color": "rgb(27,158,119)"
         },
         "mode": "lines",
         "name": "0.5",
         "showlegend": false,
         "type": "scatter",
         "x": [
          2010,
          2011,
          2012,
          2013,
          2014,
          2015,
          2016,
          2017,
          2018,
          2019,
          2020,
          2021,
          2022,
          2023,
          2024,
          2025,
          2026,
          2027,
          2028,
          2029,
          2030,
          2031,
          2032,
          2033,
          2034,
          2035
         ],
         "xaxis": "x",
         "y": [
          293159.12634135125,
          310424.24323504977,
          325509.33622497506,
          347884.6205259583,
          380450.2520612362,
          416688.8814899685,
          419733.43941681425,
          427059.184058657,
          473839.6019148522,
          526133.141705431,
          424623.39578986494,
          481125.7639278832,
          735596.4434436332,
          705564.5765444052,
          687100.5337928417,
          655152.4638224308,
          628404.425811257,
          605986.4147136661,
          587229.255143387,
          571582.8460025885,
          558593.1507183034,
          547892.7926306879,
          539167.9602649054,
          532157.697934689,
          526638.2377584934,
          522416.5622294833
         ],
         "yaxis": "y"
        },
        {
         "fill": "tonexty",
         "fillcolor": "rgba(27,158,119,0.2)",
         "line": {
          "color": "rgb(27,158,119)",
          "width": 0
         },
         "marker": {
          "color": "rgb(27,158,119)"
         },
         "mode": "lines",
         "name": "0.75",
         "showlegend": false,
         "type": "scatter",
         "x": [
          2010,
          2011,
          2012,
          2013,
          2014,
          2015,
          2016,
          2017,
          2018,
          2019,
          2020,
          2021,
          2022,
          2023,
          2024,
          2025,
          2026,
          2027,
          2028,
          2029,
          2030,
          2031,
          2032,
          2033,
          2034,
          2035
         ],
         "xaxis": "x",
         "y": [
          345120.65556752536,
          390771.8091239144,
          426269.58879971126,
          435519.8777715281,
          440561.7038250033,
          443882.9544331912,
          465509.80005365156,
          491218.338793377,
          535943.8131009372,
          623214.1217974981,
          543618.0503320529,
          621184.5984761526,
          803201.761123815,
          863904.0701715199,
          859674.0779514192,
          817805.8288668343,
          785315.5480198353,
          760221.7602812214,
          743602.1296162996,
          732756.0938821122,
          720536.9919756111,
          709431.406811572,
          702564.1590867967,
          699285.6684933498,
          697664.4786084739,
          698773.4416132234
         ],
         "yaxis": "y"
        },
        {
         "fill": "tonexty",
         "fillcolor": "rgba(27,158,119,0.2)",
         "line": {
          "color": "rgb(27,158,119)",
          "width": 0
         },
         "marker": {
          "color": "rgb(27,158,119)"
         },
         "mode": "lines",
         "name": "0.975",
         "showlegend": false,
         "type": "scatter",
         "x": [
          2010,
          2011,
          2012,
          2013,
          2014,
          2015,
          2016,
          2017,
          2018,
          2019,
          2020,
          2021,
          2022,
          2023,
          2024,
          2025,
          2026,
          2027,
          2028,
          2029,
          2030,
          2031,
          2032,
          2033,
          2034,
          2035
         ],
         "xaxis": "x",
         "y": [
          556604.7491872697,
          559797.9024517395,
          555811.8617984641,
          557299.3387745469,
          552158.3202227486,
          543215.4289401228,
          544058.0855730252,
          555404.4390774659,
          587478.4908549907,
          730511.4169365265,
          651414.8416893486,
          802585.0532029343,
          1146121.2388823181,
          1191548.5488161878,
          1156262.3523541566,
          1067966.1579812784,
          1007293.2082116811,
          970711.6998822406,
          945309.8406706413,
          928145.3852261909,
          917151.6077040548,
          910832.8738793497,
          908102.6273967891,
          908126.28499398,
          910267.1369207894,
          914022.232146385
         ],
         "yaxis": "y"
        },
        {
         "fillcolor": "rgba(27,158,119,0.2)",
         "line": {
          "color": "rgb(27,158,119)",
          "width": 2
         },
         "marker": {
          "color": "rgb(27,158,119)"
         },
         "mode": "lines",
         "name": "Without Xpert improvement",
         "showlegend": true,
         "type": "scatter",
         "x": [
          2010,
          2011,
          2012,
          2013,
          2014,
          2015,
          2016,
          2017,
          2018,
          2019,
          2020,
          2021,
          2022,
          2023,
          2024,
          2025,
          2026,
          2027,
          2028,
          2029,
          2030,
          2031,
          2032,
          2033,
          2034,
          2035
         ],
         "xaxis": "x",
         "y": [
          293159.12634135125,
          310424.24323504977,
          325509.33622497506,
          347884.6205259583,
          380450.2520612362,
          416688.8814899685,
          419733.43941681425,
          427059.184058657,
          473839.6019148522,
          526133.141705431,
          424623.39578986494,
          481125.7639278832,
          735596.4434436332,
          705564.5765444052,
          687100.5337928417,
          655152.4638224308,
          628404.425811257,
          605986.4147136661,
          587229.255143387,
          571582.8460025885,
          558593.1507183034,
          547892.7926306879,
          539167.9602649054,
          532157.697934689,
          526638.2377584934,
          522416.5622294833
         ],
         "yaxis": "y"
        },
        {
         "fill": "tonexty",
         "fillcolor": "rgba(217,95,2,0.2)",
         "line": {
          "color": "rgb(217,95,2)",
          "width": 0
         },
         "marker": {
          "color": "rgb(217,95,2)"
         },
         "mode": "lines",
         "name": "0.025",
         "showlegend": false,
         "type": "scatter",
         "x": [
          2010,
          2011,
          2012,
          2013,
          2014,
          2015,
          2016,
          2017,
          2018,
          2019,
          2020,
          2021,
          2022,
          2023,
          2024,
          2025,
          2026,
          2027,
          2028,
          2029,
          2030,
          2031,
          2032,
          2033,
          2034,
          2035
         ],
         "xaxis": "x",
         "y": [
          125233.10453062863,
          161258.3164826904,
          196591.23135715464,
          224255.06331028536,
          242253.51461149444,
          257852.1014750958,
          286915.2132404528,
          308962.0025936536,
          398066.13701384387,
          504153.8942310697,
          379805.96404754533,
          363293.54151724756,
          573770.3498106778,
          598005.1575621103,
          555534.8928872147,
          504366.4177302418,
          462915.2647873631,
          428010.3611404255,
          400851.95930503437,
          381012.42760545993,
          364301.2988661691,
          349662.2612254787,
          338802.13733176,
          330663.298421007,
          324507.4033658274,
          319807.4814379517
         ],
         "yaxis": "y"
        },
        {
         "fill": "tonexty",
         "fillcolor": "rgba(217,95,2,0.2)",
         "line": {
          "color": "rgb(217,95,2)",
          "width": 0
         },
         "marker": {
          "color": "rgb(217,95,2)"
         },
         "mode": "lines",
         "name": "0.25",
         "showlegend": false,
         "type": "scatter",
         "x": [
          2010,
          2011,
          2012,
          2013,
          2014,
          2015,
          2016,
          2017,
          2018,
          2019,
          2020,
          2021,
          2022,
          2023,
          2024,
          2025,
          2026,
          2027,
          2028,
          2029,
          2030,
          2031,
          2032,
          2033,
          2034,
          2035
         ],
         "xaxis": "x",
         "y": [
          181839.20652987072,
          227978.06616201584,
          244219.4104132732,
          257197.49906169245,
          269974.6431189669,
          278750.95956798515,
          360322.85830652295,
          419473.7789767906,
          485306.48069409723,
          591778.5974066412,
          408409.92218773393,
          444446.505754126,
          685119.8692289408,
          763031.8451944855,
          680697.5434124758,
          606542.4792468346,
          556347.8998532748,
          502215.50962980685,
          462653.30638289533,
          437861.6435864196,
          420700.0859807629,
          403926.59548068454,
          393391.1006682074,
          385204.05911938124,
          378787.7854342449,
          373715.7805092579
         ],
         "yaxis": "y"
        },
        {
         "fill": "tonexty",
         "fillcolor": "rgba(217,95,2,0.2)",
         "line": {
          "color": "rgb(217,95,2)",
          "width": 0
         },
         "marker": {
          "color": "rgb(217,95,2)"
         },
         "mode": "lines",
         "name": "0.5",
         "showlegend": false,
         "type": "scatter",
         "x": [
          2010,
          2011,
          2012,
          2013,
          2014,
          2015,
          2016,
          2017,
          2018,
          2019,
          2020,
          2021,
          2022,
          2023,
          2024,
          2025,
          2026,
          2027,
          2028,
          2029,
          2030,
          2031,
          2032,
          2033,
          2034,
          2035
         ],
         "xaxis": "x",
         "y": [
          251181.5318161903,
          269046.86354927183,
          319860.31764843117,
          331307.53668539395,
          341958.1522903978,
          352461.5455170636,
          426007.3578284725,
          457953.7973596606,
          498473.46764548466,
          641242.8810493331,
          494072.47679249727,
          507071.355398907,
          791840.5728095588,
          820407.4693622473,
          761956.818469285,
          695646.4656589273,
          660026.7420488307,
          623575.1351105508,
          580376.1365021777,
          538467.0361650013,
          508298.41056408297,
          486327.8332308008,
          474304.61031092727,
          465090.17559927225,
          452700.95893198246,
          442592.9938143014
         ],
         "yaxis": "y"
        },
        {
         "fill": "tonexty",
         "fillcolor": "rgba(217,95,2,0.2)",
         "line": {
          "color": "rgb(217,95,2)",
          "width": 0
         },
         "marker": {
          "color": "rgb(217,95,2)"
         },
         "mode": "lines",
         "name": "0.75",
         "showlegend": false,
         "type": "scatter",
         "x": [
          2010,
          2011,
          2012,
          2013,
          2014,
          2015,
          2016,
          2017,
          2018,
          2019,
          2020,
          2021,
          2022,
          2023,
          2024,
          2025,
          2026,
          2027,
          2028,
          2029,
          2030,
          2031,
          2032,
          2033,
          2034,
          2035
         ],
         "xaxis": "x",
         "y": [
          328438.70617355546,
          352893.1074505151,
          375682.5125723443,
          410610.7775037625,
          427906.1919574504,
          443986.629122925,
          483485.8647762061,
          542552.5235626891,
          608931.8756878696,
          730648.0764368401,
          629629.4827911614,
          696664.3764344878,
          926153.6727903873,
          945199.160495312,
          837518.2188041598,
          745056.7837242861,
          697282.9304315018,
          659547.980060059,
          639939.1104884648,
          632777.3866065043,
          629435.3342289648,
          627281.6333298992,
          626103.431581804,
          623887.6976743506,
          622536.3642643164,
          622375.6152000468
         ],
         "yaxis": "y"
        },
        {
         "fill": "tonexty",
         "fillcolor": "rgba(217,95,2,0.2)",
         "line": {
          "color": "rgb(217,95,2)",
          "width": 0
         },
         "marker": {
          "color": "rgb(217,95,2)"
         },
         "mode": "lines",
         "name": "0.975",
         "showlegend": false,
         "type": "scatter",
         "x": [
          2010,
          2011,
          2012,
          2013,
          2014,
          2015,
          2016,
          2017,
          2018,
          2019,
          2020,
          2021,
          2022,
          2023,
          2024,
          2025,
          2026,
          2027,
          2028,
          2029,
          2030,
          2031,
          2032,
          2033,
          2034,
          2035
         ],
         "xaxis": "x",
         "y": [
          1245491.639275022,
          1261046.3521526577,
          1216127.157849162,
          1134719.4641678706,
          1041672.5049038404,
          956181.0468039962,
          904816.2444020468,
          855455.2350209466,
          851021.2411128902,
          902237.9707856589,
          764510.6977816201,
          761606.5442049449,
          1140356.3736701927,
          1137566.9230052303,
          1009261.9007346483,
          861200.3152553866,
          791246.6393765537,
          743822.35649327,
          709264.0597100987,
          683942.9260367478,
          665329.6374653953,
          651660.0624923538,
          642332.1099992704,
          638595.4431425421,
          638627.5588613008,
          639662.5943458433
         ],
         "yaxis": "y"
        },
        {
         "fillcolor": "rgba(217,95,2,0.2)",
         "line": {
          "color": "rgb(217,95,2)",
          "width": 2
         },
         "marker": {
          "color": "rgb(217,95,2)"
         },
         "mode": "lines",
         "name": "With Xpert improvement",
         "showlegend": true,
         "type": "scatter",
         "x": [
          2010,
          2011,
          2012,
          2013,
          2014,
          2015,
          2016,
          2017,
          2018,
          2019,
          2020,
          2021,
          2022,
          2023,
          2024,
          2025,
          2026,
          2027,
          2028,
          2029,
          2030,
          2031,
          2032,
          2033,
          2034,
          2035
         ],
         "xaxis": "x",
         "y": [
          251181.5318161903,
          269046.86354927183,
          319860.31764843117,
          331307.53668539395,
          341958.1522903978,
          352461.5455170636,
          426007.3578284725,
          457953.7973596606,
          498473.46764548466,
          641242.8810493331,
          494072.47679249727,
          507071.355398907,
          791840.5728095588,
          820407.4693622473,
          761956.818469285,
          695646.4656589273,
          660026.7420488307,
          623575.1351105508,
          580376.1365021777,
          538467.0361650013,
          508298.41056408297,
          486327.8332308008,
          474304.61031092727,
          465090.17559927225,
          452700.95893198246,
          442592.9938143014
         ],
         "yaxis": "y"
        },
        {
         "legendgroup": "Target",
         "marker": {
          "color": "black",
          "size": 5
         },
         "mode": "markers",
         "name": "Case notifications (WHO)",
         "type": "scatter",
         "x": [
          2014,
          2015,
          2016,
          2017,
          2018,
          2019,
          2020,
          2021,
          2022,
          2023
         ],
         "y": [
          322806,
          331703,
          364671,
          442172,
          568865,
          559847,
          384025,
          432577,
          708658,
          804836
         ]
        }
       ],
       "layout": {
        "font": {
         "family": "Space Grotesk"
        },
        "height": 300,
        "legend": {
         "bgcolor": "rgba(255,255,255,0.8)",
         "bordercolor": "rgba(0,0,0,0.2)",
         "borderwidth": 1,
         "x": 0.98,
         "xanchor": "right",
         "y": 0.025,
         "yanchor": "bottom"
        },
        "margin": {
         "b": 20,
         "l": 20,
         "r": 20,
         "t": 20
        },
        "showlegend": false,
        "template": {
         "data": {
          "bar": [
           {
            "error_x": {
             "color": "#2a3f5f"
            },
            "error_y": {
             "color": "#2a3f5f"
            },
            "marker": {
             "line": {
              "color": "white",
              "width": 0.5
             },
             "pattern": {
              "fillmode": "overlay",
              "size": 10,
              "solidity": 0.2
             }
            },
            "type": "bar"
           }
          ],
          "barpolar": [
           {
            "marker": {
             "line": {
              "color": "white",
              "width": 0.5
             },
             "pattern": {
              "fillmode": "overlay",
              "size": 10,
              "solidity": 0.2
             }
            },
            "type": "barpolar"
           }
          ],
          "carpet": [
           {
            "aaxis": {
             "endlinecolor": "#2a3f5f",
             "gridcolor": "#C8D4E3",
             "linecolor": "#C8D4E3",
             "minorgridcolor": "#C8D4E3",
             "startlinecolor": "#2a3f5f"
            },
            "baxis": {
             "endlinecolor": "#2a3f5f",
             "gridcolor": "#C8D4E3",
             "linecolor": "#C8D4E3",
             "minorgridcolor": "#C8D4E3",
             "startlinecolor": "#2a3f5f"
            },
            "type": "carpet"
           }
          ],
          "choropleth": [
           {
            "colorbar": {
             "outlinewidth": 0,
             "ticks": ""
            },
            "type": "choropleth"
           }
          ],
          "contour": [
           {
            "colorbar": {
             "outlinewidth": 0,
             "ticks": ""
            },
            "colorscale": [
             [
              0,
              "#0d0887"
             ],
             [
              0.1111111111111111,
              "#46039f"
             ],
             [
              0.2222222222222222,
              "#7201a8"
             ],
             [
              0.3333333333333333,
              "#9c179e"
             ],
             [
              0.4444444444444444,
              "#bd3786"
             ],
             [
              0.5555555555555556,
              "#d8576b"
             ],
             [
              0.6666666666666666,
              "#ed7953"
             ],
             [
              0.7777777777777778,
              "#fb9f3a"
             ],
             [
              0.8888888888888888,
              "#fdca26"
             ],
             [
              1,
              "#f0f921"
             ]
            ],
            "type": "contour"
           }
          ],
          "contourcarpet": [
           {
            "colorbar": {
             "outlinewidth": 0,
             "ticks": ""
            },
            "type": "contourcarpet"
           }
          ],
          "heatmap": [
           {
            "colorbar": {
             "outlinewidth": 0,
             "ticks": ""
            },
            "colorscale": [
             [
              0,
              "#0d0887"
             ],
             [
              0.1111111111111111,
              "#46039f"
             ],
             [
              0.2222222222222222,
              "#7201a8"
             ],
             [
              0.3333333333333333,
              "#9c179e"
             ],
             [
              0.4444444444444444,
              "#bd3786"
             ],
             [
              0.5555555555555556,
              "#d8576b"
             ],
             [
              0.6666666666666666,
              "#ed7953"
             ],
             [
              0.7777777777777778,
              "#fb9f3a"
             ],
             [
              0.8888888888888888,
              "#fdca26"
             ],
             [
              1,
              "#f0f921"
             ]
            ],
            "type": "heatmap"
           }
          ],
          "heatmapgl": [
           {
            "colorbar": {
             "outlinewidth": 0,
             "ticks": ""
            },
            "colorscale": [
             [
              0,
              "#0d0887"
             ],
             [
              0.1111111111111111,
              "#46039f"
             ],
             [
              0.2222222222222222,
              "#7201a8"
             ],
             [
              0.3333333333333333,
              "#9c179e"
             ],
             [
              0.4444444444444444,
              "#bd3786"
             ],
             [
              0.5555555555555556,
              "#d8576b"
             ],
             [
              0.6666666666666666,
              "#ed7953"
             ],
             [
              0.7777777777777778,
              "#fb9f3a"
             ],
             [
              0.8888888888888888,
              "#fdca26"
             ],
             [
              1,
              "#f0f921"
             ]
            ],
            "type": "heatmapgl"
           }
          ],
          "histogram": [
           {
            "marker": {
             "pattern": {
              "fillmode": "overlay",
              "size": 10,
              "solidity": 0.2
             }
            },
            "type": "histogram"
           }
          ],
          "histogram2d": [
           {
            "colorbar": {
             "outlinewidth": 0,
             "ticks": ""
            },
            "colorscale": [
             [
              0,
              "#0d0887"
             ],
             [
              0.1111111111111111,
              "#46039f"
             ],
             [
              0.2222222222222222,
              "#7201a8"
             ],
             [
              0.3333333333333333,
              "#9c179e"
             ],
             [
              0.4444444444444444,
              "#bd3786"
             ],
             [
              0.5555555555555556,
              "#d8576b"
             ],
             [
              0.6666666666666666,
              "#ed7953"
             ],
             [
              0.7777777777777778,
              "#fb9f3a"
             ],
             [
              0.8888888888888888,
              "#fdca26"
             ],
             [
              1,
              "#f0f921"
             ]
            ],
            "type": "histogram2d"
           }
          ],
          "histogram2dcontour": [
           {
            "colorbar": {
             "outlinewidth": 0,
             "ticks": ""
            },
            "colorscale": [
             [
              0,
              "#0d0887"
             ],
             [
              0.1111111111111111,
              "#46039f"
             ],
             [
              0.2222222222222222,
              "#7201a8"
             ],
             [
              0.3333333333333333,
              "#9c179e"
             ],
             [
              0.4444444444444444,
              "#bd3786"
             ],
             [
              0.5555555555555556,
              "#d8576b"
             ],
             [
              0.6666666666666666,
              "#ed7953"
             ],
             [
              0.7777777777777778,
              "#fb9f3a"
             ],
             [
              0.8888888888888888,
              "#fdca26"
             ],
             [
              1,
              "#f0f921"
             ]
            ],
            "type": "histogram2dcontour"
           }
          ],
          "mesh3d": [
           {
            "colorbar": {
             "outlinewidth": 0,
             "ticks": ""
            },
            "type": "mesh3d"
           }
          ],
          "parcoords": [
           {
            "line": {
             "colorbar": {
              "outlinewidth": 0,
              "ticks": ""
             }
            },
            "type": "parcoords"
           }
          ],
          "pie": [
           {
            "automargin": true,
            "type": "pie"
           }
          ],
          "scatter": [
           {
            "fillpattern": {
             "fillmode": "overlay",
             "size": 10,
             "solidity": 0.2
            },
            "type": "scatter"
           }
          ],
          "scatter3d": [
           {
            "line": {
             "colorbar": {
              "outlinewidth": 0,
              "ticks": ""
             }
            },
            "marker": {
             "colorbar": {
              "outlinewidth": 0,
              "ticks": ""
             }
            },
            "type": "scatter3d"
           }
          ],
          "scattercarpet": [
           {
            "marker": {
             "colorbar": {
              "outlinewidth": 0,
              "ticks": ""
             }
            },
            "type": "scattercarpet"
           }
          ],
          "scattergeo": [
           {
            "marker": {
             "colorbar": {
              "outlinewidth": 0,
              "ticks": ""
             }
            },
            "type": "scattergeo"
           }
          ],
          "scattergl": [
           {
            "marker": {
             "colorbar": {
              "outlinewidth": 0,
              "ticks": ""
             }
            },
            "type": "scattergl"
           }
          ],
          "scattermapbox": [
           {
            "marker": {
             "colorbar": {
              "outlinewidth": 0,
              "ticks": ""
             }
            },
            "type": "scattermapbox"
           }
          ],
          "scatterpolar": [
           {
            "marker": {
             "colorbar": {
              "outlinewidth": 0,
              "ticks": ""
             }
            },
            "type": "scatterpolar"
           }
          ],
          "scatterpolargl": [
           {
            "marker": {
             "colorbar": {
              "outlinewidth": 0,
              "ticks": ""
             }
            },
            "type": "scatterpolargl"
           }
          ],
          "scatterternary": [
           {
            "marker": {
             "colorbar": {
              "outlinewidth": 0,
              "ticks": ""
             }
            },
            "type": "scatterternary"
           }
          ],
          "surface": [
           {
            "colorbar": {
             "outlinewidth": 0,
             "ticks": ""
            },
            "colorscale": [
             [
              0,
              "#0d0887"
             ],
             [
              0.1111111111111111,
              "#46039f"
             ],
             [
              0.2222222222222222,
              "#7201a8"
             ],
             [
              0.3333333333333333,
              "#9c179e"
             ],
             [
              0.4444444444444444,
              "#bd3786"
             ],
             [
              0.5555555555555556,
              "#d8576b"
             ],
             [
              0.6666666666666666,
              "#ed7953"
             ],
             [
              0.7777777777777778,
              "#fb9f3a"
             ],
             [
              0.8888888888888888,
              "#fdca26"
             ],
             [
              1,
              "#f0f921"
             ]
            ],
            "type": "surface"
           }
          ],
          "table": [
           {
            "cells": {
             "fill": {
              "color": "#EBF0F8"
             },
             "line": {
              "color": "white"
             }
            },
            "header": {
             "fill": {
              "color": "#C8D4E3"
             },
             "line": {
              "color": "white"
             }
            },
            "type": "table"
           }
          ]
         },
         "layout": {
          "annotationdefaults": {
           "arrowcolor": "#2a3f5f",
           "arrowhead": 0,
           "arrowwidth": 1
          },
          "autotypenumbers": "strict",
          "coloraxis": {
           "colorbar": {
            "outlinewidth": 0,
            "ticks": ""
           }
          },
          "colorscale": {
           "diverging": [
            [
             0,
             "#8e0152"
            ],
            [
             0.1,
             "#c51b7d"
            ],
            [
             0.2,
             "#de77ae"
            ],
            [
             0.3,
             "#f1b6da"
            ],
            [
             0.4,
             "#fde0ef"
            ],
            [
             0.5,
             "#f7f7f7"
            ],
            [
             0.6,
             "#e6f5d0"
            ],
            [
             0.7,
             "#b8e186"
            ],
            [
             0.8,
             "#7fbc41"
            ],
            [
             0.9,
             "#4d9221"
            ],
            [
             1,
             "#276419"
            ]
           ],
           "sequential": [
            [
             0,
             "#0d0887"
            ],
            [
             0.1111111111111111,
             "#46039f"
            ],
            [
             0.2222222222222222,
             "#7201a8"
            ],
            [
             0.3333333333333333,
             "#9c179e"
            ],
            [
             0.4444444444444444,
             "#bd3786"
            ],
            [
             0.5555555555555556,
             "#d8576b"
            ],
            [
             0.6666666666666666,
             "#ed7953"
            ],
            [
             0.7777777777777778,
             "#fb9f3a"
            ],
            [
             0.8888888888888888,
             "#fdca26"
            ],
            [
             1,
             "#f0f921"
            ]
           ],
           "sequentialminus": [
            [
             0,
             "#0d0887"
            ],
            [
             0.1111111111111111,
             "#46039f"
            ],
            [
             0.2222222222222222,
             "#7201a8"
            ],
            [
             0.3333333333333333,
             "#9c179e"
            ],
            [
             0.4444444444444444,
             "#bd3786"
            ],
            [
             0.5555555555555556,
             "#d8576b"
            ],
            [
             0.6666666666666666,
             "#ed7953"
            ],
            [
             0.7777777777777778,
             "#fb9f3a"
            ],
            [
             0.8888888888888888,
             "#fdca26"
            ],
            [
             1,
             "#f0f921"
            ]
           ]
          },
          "colorway": [
           "#636efa",
           "#EF553B",
           "#00cc96",
           "#ab63fa",
           "#FFA15A",
           "#19d3f3",
           "#FF6692",
           "#B6E880",
           "#FF97FF",
           "#FECB52"
          ],
          "font": {
           "color": "#2a3f5f"
          },
          "geo": {
           "bgcolor": "white",
           "lakecolor": "white",
           "landcolor": "white",
           "showlakes": true,
           "showland": true,
           "subunitcolor": "#C8D4E3"
          },
          "hoverlabel": {
           "align": "left"
          },
          "hovermode": "closest",
          "mapbox": {
           "style": "light"
          },
          "paper_bgcolor": "white",
          "plot_bgcolor": "white",
          "polar": {
           "angularaxis": {
            "gridcolor": "#EBF0F8",
            "linecolor": "#EBF0F8",
            "ticks": ""
           },
           "bgcolor": "white",
           "radialaxis": {
            "gridcolor": "#EBF0F8",
            "linecolor": "#EBF0F8",
            "ticks": ""
           }
          },
          "scene": {
           "xaxis": {
            "backgroundcolor": "white",
            "gridcolor": "#DFE8F3",
            "gridwidth": 2,
            "linecolor": "#EBF0F8",
            "showbackground": true,
            "ticks": "",
            "zerolinecolor": "#EBF0F8"
           },
           "yaxis": {
            "backgroundcolor": "white",
            "gridcolor": "#DFE8F3",
            "gridwidth": 2,
            "linecolor": "#EBF0F8",
            "showbackground": true,
            "ticks": "",
            "zerolinecolor": "#EBF0F8"
           },
           "zaxis": {
            "backgroundcolor": "white",
            "gridcolor": "#DFE8F3",
            "gridwidth": 2,
            "linecolor": "#EBF0F8",
            "showbackground": true,
            "ticks": "",
            "zerolinecolor": "#EBF0F8"
           }
          },
          "shapedefaults": {
           "line": {
            "color": "#2a3f5f"
           }
          },
          "ternary": {
           "aaxis": {
            "gridcolor": "#DFE8F3",
            "linecolor": "#A2B1C6",
            "ticks": ""
           },
           "baxis": {
            "gridcolor": "#DFE8F3",
            "linecolor": "#A2B1C6",
            "ticks": ""
           },
           "bgcolor": "white",
           "caxis": {
            "gridcolor": "#DFE8F3",
            "linecolor": "#A2B1C6",
            "ticks": ""
           }
          },
          "title": {
           "x": 0.05
          },
          "xaxis": {
           "automargin": true,
           "gridcolor": "#EBF0F8",
           "linecolor": "#EBF0F8",
           "ticks": "",
           "title": {
            "standoff": 15
           },
           "zerolinecolor": "#EBF0F8",
           "zerolinewidth": 2
          },
          "yaxis": {
           "automargin": true,
           "gridcolor": "#EBF0F8",
           "linecolor": "#EBF0F8",
           "ticks": "",
           "title": {
            "standoff": 15
           },
           "zerolinecolor": "#EBF0F8",
           "zerolinewidth": 2
          }
         }
        },
        "title": {
         "font": {
          "family": "Space Grotesk"
         }
        },
        "width": 400,
        "xaxis": {
         "anchor": "y",
         "domain": [
          0,
          1
         ],
         "dtick": 2,
         "range": [
          2010,
          2035
         ],
         "tick0": 2010,
         "tickmode": "linear",
         "title": {
          "text": ""
         }
        },
        "yaxis": {
         "anchor": "x",
         "automargin": true,
         "domain": [
          0,
          1
         ],
         "range": [
          -59577.42744080939,
          1251125.976256997
         ],
         "title": {
          "font": {
           "size": 14
          },
          "standoff": 5,
          "text": "<b>No. of case notification</b>"
         }
        }
       }
      }
     },
     "metadata": {},
     "output_type": "display_data"
    }
   ],
   "source": [
    "from tb_incubator.plotting import overlay_plots\n",
    "from plotly.subplots import make_subplots\n",
    "import plotly.graph_objects as go\n",
    "\n",
    "epi_plots = {}\n",
    "indicators = ['notification', 'adults_prevalence_pulmonary', 'incidence', 'mortality']\n",
    "\n",
    "for file in file_suffixes:\n",
    "    epi_plots[file] = {}  \n",
    "    for indicator in indicators:\n",
    "        epi_plots[file][indicator] = plot_output_ranges(\n",
    "            quantile_outputs[file], targets, \n",
    "            [f'{indicator}'], 1, 2010, 2035, 2013, show_legend=False, show_title=False, show_target_data=False\n",
    "        )\n",
    "        \n",
    "notif_none = epi_plots[f'no_extensions_{file_id}']['notification']\n",
    "notif_none_xpert = epi_plots[f'no_cdr_{file_id}']['notification']\n",
    "notif_notif = epi_plots[f'cdr_notif_noxpert_{file_id}']['notification']\n",
    "notif_notif_xpert = epi_plots[f'cdr_notif_{file_id}']['notification']\n",
    "notif_detect = epi_plots[f'cdr_detect_noxpert_{file_id}']['notification']\n",
    "notif_detect_xpert = epi_plots[f'cdr_detect_{file_id}']['notification']\n",
    "\n",
    "fig1 = overlay_plots([notif_none, notif_none_xpert], colors=None, title=None, yaxis_title=None, update_layout=False, show_legend=True, \n",
    "              plot_names=[\"Without Xpert improvement\", \"With Xpert improvement\"],\n",
    "              legend_position=\"bottom-right\")\n",
    "\n",
    "fig2 = overlay_plots([notif_notif, notif_notif_xpert], colors=None, title=None, yaxis_title=None, update_layout=False, show_legend=False, \n",
    "              plot_names=[\"Without Xpert improvement\", \"With Xpert improvement\"],\n",
    "              legend_position=\"bottom-right\")\n",
    "\n",
    "fig3 = overlay_plots([notif_detect, notif_detect_xpert], colors=None, title=None, yaxis_title=None, update_layout=False, show_legend=False, \n",
    "              plot_names=[\"Without Xpert improvement\", \"With Xpert improvement\"],\n",
    "              legend_position=\"bottom-right\")\n",
    "\n",
    "fig1.add_trace(\n",
    "    go.Scatter(\n",
    "        x=targets['notif2000'].index,\n",
    "        y=targets['notif2000'].values,\n",
    "        mode=\"markers\",\n",
    "        marker=dict(size=5, color='black'),\n",
    "        name=\"Case notifications (WHO)\",\n",
    "        legendgroup=\"Target\",\n",
    "    )\n",
    ")\n",
    "fig2.add_trace(\n",
    "    go.Scatter(\n",
    "        x=targets['notif2000'].index,\n",
    "        y=targets['notif2000'].values,\n",
    "        mode=\"markers\",\n",
    "        marker=dict(size=5, color='black'),\n",
    "        name=\"Case notifications (WHO)\",\n",
    "        legendgroup=\"Target\",\n",
    "    )\n",
    ")\n",
    "fig3.add_trace(\n",
    "    go.Scatter(\n",
    "        x=targets['notif2000'].index,\n",
    "        y=targets['notif2000'].values,\n",
    "        mode=\"markers\",\n",
    "        marker=dict(size=5, color='black'),\n",
    "        name=\"Case notifications (WHO)\",\n",
    "        legendgroup=\"Target\",\n",
    "    )\n",
    ")\n",
    "\n",
    "\n",
    "#fig.write_image(image_path / f'xpert_compare.png', width=600, height=400,scale=3)"
   ]
  },
  {
   "cell_type": "code",
   "execution_count": 11,
   "id": "35ebcea2",
   "metadata": {},
   "outputs": [
    {
     "data": {
      "application/vnd.plotly.v1+json": {
       "config": {
        "plotlyServerURL": "https://plot.ly"
       },
       "data": [
        {
         "fill": "tonexty",
         "fillcolor": "rgba(27,158,119,0.2)",
         "line": {
          "color": "rgb(27,158,119)",
          "width": 0
         },
         "marker": {
          "color": "rgb(27,158,119)"
         },
         "mode": "lines",
         "name": "0.025",
         "showlegend": false,
         "type": "scatter",
         "x": [
          2010,
          2011,
          2012,
          2013,
          2014,
          2015,
          2016,
          2017,
          2018,
          2019,
          2020,
          2021,
          2022,
          2023,
          2024,
          2025,
          2026,
          2027,
          2028,
          2029,
          2030,
          2031,
          2032,
          2033,
          2034,
          2035
         ],
         "xaxis": "x",
         "y": [
          357086.86956401187,
          389548.0497654134,
          423476.25250460097,
          455424.79570340714,
          462640.2680586347,
          446184.6617218575,
          431771.70823388663,
          418703.2905178454,
          404117.55030802963,
          389570.579617376,
          258993.11032851235,
          287772.46194690955,
          373090.70183322043,
          351495.52208694996,
          336150.0832162853,
          317271.5055201564,
          300461.2936692562,
          288115.8718751302,
          278303.05246441095,
          269196.3329324396,
          262162.177212827,
          256593.0626123141,
          252072.82895990845,
          248311.05140360707,
          245101.74246698513,
          242297.75018772075
         ],
         "yaxis": "y"
        },
        {
         "fill": "tonexty",
         "fillcolor": "rgba(27,158,119,0.2)",
         "line": {
          "color": "rgb(27,158,119)",
          "width": 0
         },
         "marker": {
          "color": "rgb(27,158,119)"
         },
         "mode": "lines",
         "name": "0.25",
         "showlegend": false,
         "type": "scatter",
         "x": [
          2010,
          2011,
          2012,
          2013,
          2014,
          2015,
          2016,
          2017,
          2018,
          2019,
          2020,
          2021,
          2022,
          2023,
          2024,
          2025,
          2026,
          2027,
          2028,
          2029,
          2030,
          2031,
          2032,
          2033,
          2034,
          2035
         ],
         "xaxis": "x",
         "y": [
          797400.7585611762,
          814200.6606045968,
          794915.1621245818,
          735592.4613388253,
          709506.3098024668,
          661538.5162351162,
          601735.6044308934,
          550447.3947417683,
          510379.197204984,
          487701.34550334874,
          374677.88153304777,
          375478.2430623962,
          481686.2859578788,
          442019.3131973708,
          404093.82354210544,
          386833.80161103624,
          374305.0320277608,
          364866.39101717016,
          360137.55583259644,
          356187.08926861564,
          352822.48917626846,
          349910.46421828686,
          347355.28505393193,
          345085.74071527517,
          343046.50834764796,
          341195.9554045247
         ],
         "yaxis": "y"
        },
        {
         "fill": "tonexty",
         "fillcolor": "rgba(27,158,119,0.2)",
         "line": {
          "color": "rgb(27,158,119)",
          "width": 0
         },
         "marker": {
          "color": "rgb(27,158,119)"
         },
         "mode": "lines",
         "name": "0.5",
         "showlegend": false,
         "type": "scatter",
         "x": [
          2010,
          2011,
          2012,
          2013,
          2014,
          2015,
          2016,
          2017,
          2018,
          2019,
          2020,
          2021,
          2022,
          2023,
          2024,
          2025,
          2026,
          2027,
          2028,
          2029,
          2030,
          2031,
          2032,
          2033,
          2034,
          2035
         ],
         "xaxis": "x",
         "y": [
          924250.2688264975,
          862622.359082891,
          849675.6294468158,
          815538.382255164,
          790988.3398557798,
          717114.6216559527,
          643927.2375365503,
          618606.9235331728,
          600378.3270802395,
          588255.8736214748,
          411021.83234840026,
          421156.35668721964,
          553138.4617997906,
          513028.6444299423,
          490776.15921833774,
          474777.9826585596,
          463048.1135443781,
          454304.2290055853,
          447694.0633991789,
          442639.2407106579,
          438739.12881699257,
          435709.14107846544,
          433347.9037762014,
          431502.34447036305,
          430064.69333414326,
          428951.3708345789
         ],
         "yaxis": "y"
        },
        {
         "fill": "tonexty",
         "fillcolor": "rgba(27,158,119,0.2)",
         "line": {
          "color": "rgb(27,158,119)",
          "width": 0
         },
         "marker": {
          "color": "rgb(27,158,119)"
         },
         "mode": "lines",
         "name": "0.75",
         "showlegend": false,
         "type": "scatter",
         "x": [
          2010,
          2011,
          2012,
          2013,
          2014,
          2015,
          2016,
          2017,
          2018,
          2019,
          2020,
          2021,
          2022,
          2023,
          2024,
          2025,
          2026,
          2027,
          2028,
          2029,
          2030,
          2031,
          2032,
          2033,
          2034,
          2035
         ],
         "xaxis": "x",
         "y": [
          1323040.8530045205,
          1246837.9395931547,
          1138736.7753682903,
          1055431.7665429944,
          985887.6517155445,
          911649.720508852,
          811099.0786663314,
          759429.2722604126,
          724941.7600411043,
          689580.7471796654,
          502211.69022853393,
          545497.3893947052,
          710356.0124460368,
          651781.7577868889,
          618084.3766389444,
          596881.3372079416,
          582415.9205102067,
          571752.572166648,
          564057.4409631176,
          558836.1444024143,
          555272.131916966,
          552998.1119285157,
          551751.7400262005,
          551329.1469067502,
          551568.2671887989,
          552348.5920996118
         ],
         "yaxis": "y"
        },
        {
         "fill": "tonexty",
         "fillcolor": "rgba(27,158,119,0.2)",
         "line": {
          "color": "rgb(27,158,119)",
          "width": 0
         },
         "marker": {
          "color": "rgb(27,158,119)"
         },
         "mode": "lines",
         "name": "0.975",
         "showlegend": false,
         "type": "scatter",
         "x": [
          2010,
          2011,
          2012,
          2013,
          2014,
          2015,
          2016,
          2017,
          2018,
          2019,
          2020,
          2021,
          2022,
          2023,
          2024,
          2025,
          2026,
          2027,
          2028,
          2029,
          2030,
          2031,
          2032,
          2033,
          2034,
          2035
         ],
         "xaxis": "x",
         "y": [
          1705618.8719917042,
          1628596.0183981564,
          1469779.4700046729,
          1272569.3142441174,
          1088458.6668474397,
          985787.6752469223,
          926386.8977613017,
          876609.7928146399,
          841261.1980378255,
          821544.7448455438,
          542795.0052914264,
          618465.5726940109,
          990258.6805171686,
          887526.4860657292,
          827213.664748373,
          790742.8418664943,
          768229.039882288,
          754074.157322971,
          745112.6488647464,
          739512.2552118271,
          736171.4117808476,
          734410.3546047203,
          733789.4003205822,
          734012.0730656139,
          734877.1035461995,
          736233.3002021144
         ],
         "yaxis": "y"
        },
        {
         "fillcolor": "rgba(27,158,119,0.2)",
         "line": {
          "color": "rgb(27,158,119)",
          "width": 2
         },
         "marker": {
          "color": "rgb(27,158,119)"
         },
         "mode": "lines",
         "name": "Without Xpert improvement",
         "showlegend": true,
         "type": "scatter",
         "x": [
          2010,
          2011,
          2012,
          2013,
          2014,
          2015,
          2016,
          2017,
          2018,
          2019,
          2020,
          2021,
          2022,
          2023,
          2024,
          2025,
          2026,
          2027,
          2028,
          2029,
          2030,
          2031,
          2032,
          2033,
          2034,
          2035
         ],
         "xaxis": "x",
         "y": [
          924250.2688264975,
          862622.359082891,
          849675.6294468158,
          815538.382255164,
          790988.3398557798,
          717114.6216559527,
          643927.2375365503,
          618606.9235331728,
          600378.3270802395,
          588255.8736214748,
          411021.83234840026,
          421156.35668721964,
          553138.4617997906,
          513028.6444299423,
          490776.15921833774,
          474777.9826585596,
          463048.1135443781,
          454304.2290055853,
          447694.0633991789,
          442639.2407106579,
          438739.12881699257,
          435709.14107846544,
          433347.9037762014,
          431502.34447036305,
          430064.69333414326,
          428951.3708345789
         ],
         "yaxis": "y"
        },
        {
         "fill": "tonexty",
         "fillcolor": "rgba(217,95,2,0.2)",
         "line": {
          "color": "rgb(217,95,2)",
          "width": 0
         },
         "marker": {
          "color": "rgb(217,95,2)"
         },
         "mode": "lines",
         "name": "0.025",
         "showlegend": false,
         "type": "scatter",
         "x": [
          2010,
          2011,
          2012,
          2013,
          2014,
          2015,
          2016,
          2017,
          2018,
          2019,
          2020,
          2021,
          2022,
          2023,
          2024,
          2025,
          2026,
          2027,
          2028,
          2029,
          2030,
          2031,
          2032,
          2033,
          2034,
          2035
         ],
         "xaxis": "x",
         "y": [
          114137.55627172637,
          124988.08694996739,
          135451.83687986145,
          145486.74695004808,
          155048.79622074566,
          164115.2928465909,
          283560.4094538267,
          375619.6296027149,
          402098.3690043466,
          455828.3754590641,
          327493.05694167974,
          292653.494614325,
          416822.06792067585,
          461788.25420100626,
          423839.0787719459,
          394040.3527208337,
          373663.2393368607,
          359492.3969820222,
          349523.1219961698,
          342477.0977289038,
          337512.07740459585,
          334060.99291121605,
          331171.6209328112,
          328599.5984416006,
          326774.3487662303,
          325543.08168288716
         ],
         "yaxis": "y"
        },
        {
         "fill": "tonexty",
         "fillcolor": "rgba(217,95,2,0.2)",
         "line": {
          "color": "rgb(217,95,2)",
          "width": 0
         },
         "marker": {
          "color": "rgb(217,95,2)"
         },
         "mode": "lines",
         "name": "0.25",
         "showlegend": false,
         "type": "scatter",
         "x": [
          2010,
          2011,
          2012,
          2013,
          2014,
          2015,
          2016,
          2017,
          2018,
          2019,
          2020,
          2021,
          2022,
          2023,
          2024,
          2025,
          2026,
          2027,
          2028,
          2029,
          2030,
          2031,
          2032,
          2033,
          2034,
          2035
         ],
         "xaxis": "x",
         "y": [
          251099.55942419101,
          274844.5859956334,
          296296.52750597993,
          333772.24886490067,
          357780.72126525035,
          377778.37556247273,
          454568.3369999266,
          526131.6918193751,
          573066.325181996,
          617341.2645010317,
          430467.0865421656,
          395346.3101468574,
          570583.7869724608,
          584275.1190900737,
          542520.8487565258,
          505566.84481049865,
          477230.6764862599,
          454854.71833281673,
          437387.7804732659,
          423678.840790784,
          412872.611622458,
          404324.1840842957,
          397543.40589531756,
          392153.8101612598,
          387861.82224244677,
          384440.475684296
         ],
         "yaxis": "y"
        },
        {
         "fill": "tonexty",
         "fillcolor": "rgba(217,95,2,0.2)",
         "line": {
          "color": "rgb(217,95,2)",
          "width": 0
         },
         "marker": {
          "color": "rgb(217,95,2)"
         },
         "mode": "lines",
         "name": "0.5",
         "showlegend": false,
         "type": "scatter",
         "x": [
          2010,
          2011,
          2012,
          2013,
          2014,
          2015,
          2016,
          2017,
          2018,
          2019,
          2020,
          2021,
          2022,
          2023,
          2024,
          2025,
          2026,
          2027,
          2028,
          2029,
          2030,
          2031,
          2032,
          2033,
          2034,
          2035
         ],
         "xaxis": "x",
         "y": [
          374928.56532956567,
          384484.4161789762,
          417906.7206082034,
          465725.5534914982,
          487409.00297118793,
          484957.3928846634,
          547456.0196316729,
          592611.3006634526,
          613067.624628979,
          651213.4915870556,
          475760.6112496761,
          428012.4311597048,
          614998.7790637136,
          641580.7922311458,
          595280.2982639848,
          563947.2071568898,
          543958.3994608137,
          530798.6908180926,
          521907.8735582499,
          515785.2017435684,
          506037.78522464936,
          484615.0131562288,
          466149.22668001574,
          450319.78430015605,
          436816.96427775675,
          425347.9873856299
         ],
         "yaxis": "y"
        },
        {
         "fill": "tonexty",
         "fillcolor": "rgba(217,95,2,0.2)",
         "line": {
          "color": "rgb(217,95,2)",
          "width": 0
         },
         "marker": {
          "color": "rgb(217,95,2)"
         },
         "mode": "lines",
         "name": "0.75",
         "showlegend": false,
         "type": "scatter",
         "x": [
          2010,
          2011,
          2012,
          2013,
          2014,
          2015,
          2016,
          2017,
          2018,
          2019,
          2020,
          2021,
          2022,
          2023,
          2024,
          2025,
          2026,
          2027,
          2028,
          2029,
          2030,
          2031,
          2032,
          2033,
          2034,
          2035
         ],
         "xaxis": "x",
         "y": [
          740113.7473983024,
          719573.4886276477,
          698897.9347135378,
          672938.2152473049,
          658009.8531470079,
          646186.0398571093,
          660220.6877117974,
          662403.8130410251,
          653379.7170650021,
          679904.1581582369,
          515710.0325249275,
          460380.0151017647,
          687784.7794664304,
          704754.9516905021,
          662836.7441462501,
          633898.8370890738,
          611588.0598761437,
          593247.1182148943,
          568657.7281919611,
          553200.3590422487,
          546194.2350757191,
          540782.8981912701,
          536513.967083442,
          531906.4771067065,
          524438.7382583672,
          517839.1251433039
         ],
         "yaxis": "y"
        },
        {
         "fill": "tonexty",
         "fillcolor": "rgba(217,95,2,0.2)",
         "line": {
          "color": "rgb(217,95,2)",
          "width": 0
         },
         "marker": {
          "color": "rgb(217,95,2)"
         },
         "mode": "lines",
         "name": "0.975",
         "showlegend": false,
         "type": "scatter",
         "x": [
          2010,
          2011,
          2012,
          2013,
          2014,
          2015,
          2016,
          2017,
          2018,
          2019,
          2020,
          2021,
          2022,
          2023,
          2024,
          2025,
          2026,
          2027,
          2028,
          2029,
          2030,
          2031,
          2032,
          2033,
          2034,
          2035
         ],
         "xaxis": "x",
         "y": [
          788991.5310133238,
          789275.2367280283,
          785441.1373291793,
          772265.4163765181,
          758032.851991029,
          743485.7145716723,
          804907.2349602217,
          835748.3296563892,
          814576.4228115969,
          859108.5779072712,
          611364.940942529,
          609700.386131276,
          845244.1879068514,
          898032.9531069979,
          813984.2913838082,
          747895.2987839191,
          695647.3132204877,
          657238.2392386029,
          626716.4523909381,
          602857.6040710647,
          585757.164119248,
          583310.8437958555,
          581689.3199953794,
          580701.4370917203,
          580220.0235684149,
          580137.0907178979
         ],
         "yaxis": "y"
        },
        {
         "fillcolor": "rgba(217,95,2,0.2)",
         "line": {
          "color": "rgb(217,95,2)",
          "width": 2
         },
         "marker": {
          "color": "rgb(217,95,2)"
         },
         "mode": "lines",
         "name": "With Xpert improvement",
         "showlegend": true,
         "type": "scatter",
         "x": [
          2010,
          2011,
          2012,
          2013,
          2014,
          2015,
          2016,
          2017,
          2018,
          2019,
          2020,
          2021,
          2022,
          2023,
          2024,
          2025,
          2026,
          2027,
          2028,
          2029,
          2030,
          2031,
          2032,
          2033,
          2034,
          2035
         ],
         "xaxis": "x",
         "y": [
          374928.56532956567,
          384484.4161789762,
          417906.7206082034,
          465725.5534914982,
          487409.00297118793,
          484957.3928846634,
          547456.0196316729,
          592611.3006634526,
          613067.624628979,
          651213.4915870556,
          475760.6112496761,
          428012.4311597048,
          614998.7790637136,
          641580.7922311458,
          595280.2982639848,
          563947.2071568898,
          543958.3994608137,
          530798.6908180926,
          521907.8735582499,
          515785.2017435684,
          506037.78522464936,
          484615.0131562288,
          466149.22668001574,
          450319.78430015605,
          436816.96427775675,
          425347.9873856299
         ],
         "yaxis": "y"
        },
        {
         "legendgroup": "Target",
         "marker": {
          "color": "black",
          "size": 5
         },
         "mode": "markers",
         "name": "Case notifications (WHO)",
         "type": "scatter",
         "x": [
          2014,
          2015,
          2016,
          2017,
          2018,
          2019,
          2020,
          2021,
          2022,
          2023
         ],
         "xaxis": "x",
         "y": [
          322806,
          331703,
          364671,
          442172,
          568865,
          559847,
          384025,
          432577,
          708658,
          804836
         ],
         "yaxis": "y"
        },
        {
         "fill": "tonexty",
         "fillcolor": "rgba(27,158,119,0.2)",
         "line": {
          "color": "rgb(27,158,119)",
          "width": 0
         },
         "marker": {
          "color": "rgb(27,158,119)"
         },
         "mode": "lines",
         "name": "0.025",
         "showlegend": false,
         "type": "scatter",
         "x": [
          2010,
          2011,
          2012,
          2013,
          2014,
          2015,
          2016,
          2017,
          2018,
          2019,
          2020,
          2021,
          2022,
          2023,
          2024,
          2025,
          2026,
          2027,
          2028,
          2029,
          2030,
          2031,
          2032,
          2033,
          2034,
          2035
         ],
         "xaxis": "x2",
         "y": [
          134939.60075189336,
          183939.8201222862,
          231254.4779634392,
          285938.9738951391,
          309428.9050539083,
          308491.0180891035,
          305146.162687543,
          300114.1185356684,
          347041.25590457686,
          386739.8564754746,
          325473.41715535545,
          366757.1813434122,
          495045.08078400686,
          519762.87244155986,
          502739.405112629,
          488952.73503523937,
          477799.4723971113,
          468808.1430057417,
          461539.563884029,
          455444.88548510603,
          450745.31254429277,
          447182.32559356076,
          444549.6021343683,
          442678.784531737,
          441434.6569696895,
          440707.6245180112
         ],
         "yaxis": "y2"
        },
        {
         "fill": "tonexty",
         "fillcolor": "rgba(27,158,119,0.2)",
         "line": {
          "color": "rgb(27,158,119)",
          "width": 0
         },
         "marker": {
          "color": "rgb(27,158,119)"
         },
         "mode": "lines",
         "name": "0.25",
         "showlegend": false,
         "type": "scatter",
         "x": [
          2010,
          2011,
          2012,
          2013,
          2014,
          2015,
          2016,
          2017,
          2018,
          2019,
          2020,
          2021,
          2022,
          2023,
          2024,
          2025,
          2026,
          2027,
          2028,
          2029,
          2030,
          2031,
          2032,
          2033,
          2034,
          2035
         ],
         "xaxis": "x2",
         "y": [
          296385.7802275184,
          315302.48200891865,
          332400.19965689234,
          339108.725331267,
          354190.6379552376,
          356934.9380476122,
          348612.49766811816,
          341095.66226772516,
          402324.0765226744,
          448872.27825035306,
          369419.55091205786,
          438215.1477561614,
          627260.9339071315,
          655104.3559624297,
          646544.698204079,
          636515.4838839644,
          625525.4033785812,
          618029.219284063,
          612549.509328898,
          608355.6811330854,
          605073.203481076,
          602487.8367894243,
          600472.0861073864,
          598941.7449847553,
          597834.5690419797,
          597110.4060773992
         ],
         "yaxis": "y2"
        },
        {
         "fill": "tonexty",
         "fillcolor": "rgba(27,158,119,0.2)",
         "line": {
          "color": "rgb(27,158,119)",
          "width": 0
         },
         "marker": {
          "color": "rgb(27,158,119)"
         },
         "mode": "lines",
         "name": "0.5",
         "showlegend": false,
         "type": "scatter",
         "x": [
          2010,
          2011,
          2012,
          2013,
          2014,
          2015,
          2016,
          2017,
          2018,
          2019,
          2020,
          2021,
          2022,
          2023,
          2024,
          2025,
          2026,
          2027,
          2028,
          2029,
          2030,
          2031,
          2032,
          2033,
          2034,
          2035
         ],
         "xaxis": "x2",
         "y": [
          338823.1040985823,
          401248.59382395505,
          393810.4866357652,
          406948.7503069583,
          410122.3177815195,
          433864.12790163886,
          423057.6857677434,
          404211.64352433366,
          463368.23368103907,
          508424.08118127764,
          412230.28098552756,
          487581.4083746209,
          688352.2097166728,
          710589.6742749684,
          681899.3621316967,
          660605.467968385,
          653298.3799256089,
          648640.0351576325,
          647965.7497266268,
          648633.3960076141,
          650269.1066171991,
          652633.4614608493,
          655522.4922839876,
          657808.6378925999,
          660696.1048918667,
          661476.5325733927
         ],
         "yaxis": "y2"
        },
        {
         "fill": "tonexty",
         "fillcolor": "rgba(27,158,119,0.2)",
         "line": {
          "color": "rgb(27,158,119)",
          "width": 0
         },
         "marker": {
          "color": "rgb(27,158,119)"
         },
         "mode": "lines",
         "name": "0.75",
         "showlegend": false,
         "type": "scatter",
         "x": [
          2010,
          2011,
          2012,
          2013,
          2014,
          2015,
          2016,
          2017,
          2018,
          2019,
          2020,
          2021,
          2022,
          2023,
          2024,
          2025,
          2026,
          2027,
          2028,
          2029,
          2030,
          2031,
          2032,
          2033,
          2034,
          2035
         ],
         "xaxis": "x2",
         "y": [
          414772.72330072394,
          429397.6855972139,
          447601.4048317368,
          462412.55818649573,
          475386.76685188815,
          486789.7377417054,
          485672.2920351792,
          493393.50225794537,
          533525.3999966373,
          592334.8310596253,
          434150.8815657468,
          511929.5509948574,
          808395.2598549409,
          794427.1649661683,
          746677.2281375239,
          720375.7595733008,
          709879.8621227986,
          703730.4224738072,
          700574.402547735,
          699540.1944090106,
          695184.0599445497,
          691439.3963971967,
          689570.7911323651,
          689246.7685114515,
          690195.4690924198,
          692185.8123798629
         ],
         "yaxis": "y2"
        },
        {
         "fill": "tonexty",
         "fillcolor": "rgba(27,158,119,0.2)",
         "line": {
          "color": "rgb(27,158,119)",
          "width": 0
         },
         "marker": {
          "color": "rgb(27,158,119)"
         },
         "mode": "lines",
         "name": "0.975",
         "showlegend": false,
         "type": "scatter",
         "x": [
          2010,
          2011,
          2012,
          2013,
          2014,
          2015,
          2016,
          2017,
          2018,
          2019,
          2020,
          2021,
          2022,
          2023,
          2024,
          2025,
          2026,
          2027,
          2028,
          2029,
          2030,
          2031,
          2032,
          2033,
          2034,
          2035
         ],
         "xaxis": "x2",
         "y": [
          989847.962175359,
          911938.1982048458,
          810063.3788254114,
          707507.632653998,
          632698.1680880975,
          610489.2870683786,
          585411.8610885101,
          566531.8325097079,
          594731.1023832734,
          628794.5589432771,
          564620.4867129495,
          622521.0108556958,
          906405.8797591722,
          949427.7276120828,
          915822.968374733,
          898292.439788426,
          882922.2990145679,
          869652.9899116526,
          858374.9273797997,
          848947.9416664486,
          841227.114512415,
          835071.0469472766,
          830343.2898133905,
          826913.5287560568,
          824657.27760438,
          823453.7069425718
         ],
         "yaxis": "y2"
        },
        {
         "fillcolor": "rgba(27,158,119,0.2)",
         "line": {
          "color": "rgb(27,158,119)",
          "width": 2
         },
         "marker": {
          "color": "rgb(27,158,119)"
         },
         "mode": "lines",
         "name": "Without Xpert improvement",
         "showlegend": false,
         "type": "scatter",
         "x": [
          2010,
          2011,
          2012,
          2013,
          2014,
          2015,
          2016,
          2017,
          2018,
          2019,
          2020,
          2021,
          2022,
          2023,
          2024,
          2025,
          2026,
          2027,
          2028,
          2029,
          2030,
          2031,
          2032,
          2033,
          2034,
          2035
         ],
         "xaxis": "x2",
         "y": [
          338823.1040985823,
          401248.59382395505,
          393810.4866357652,
          406948.7503069583,
          410122.3177815195,
          433864.12790163886,
          423057.6857677434,
          404211.64352433366,
          463368.23368103907,
          508424.08118127764,
          412230.28098552756,
          487581.4083746209,
          688352.2097166728,
          710589.6742749684,
          681899.3621316967,
          660605.467968385,
          653298.3799256089,
          648640.0351576325,
          647965.7497266268,
          648633.3960076141,
          650269.1066171991,
          652633.4614608493,
          655522.4922839876,
          657808.6378925999,
          660696.1048918667,
          661476.5325733927
         ],
         "yaxis": "y2"
        },
        {
         "fill": "tonexty",
         "fillcolor": "rgba(217,95,2,0.2)",
         "line": {
          "color": "rgb(217,95,2)",
          "width": 0
         },
         "marker": {
          "color": "rgb(217,95,2)"
         },
         "mode": "lines",
         "name": "0.025",
         "showlegend": false,
         "type": "scatter",
         "x": [
          2010,
          2011,
          2012,
          2013,
          2014,
          2015,
          2016,
          2017,
          2018,
          2019,
          2020,
          2021,
          2022,
          2023,
          2024,
          2025,
          2026,
          2027,
          2028,
          2029,
          2030,
          2031,
          2032,
          2033,
          2034,
          2035
         ],
         "xaxis": "x2",
         "y": [
          78906.37766141225,
          99825.56665821944,
          128913.8721907813,
          168776.4915361596,
          191625.06782876267,
          200524.94026016127,
          262506.2494219501,
          281842.85742727516,
          361303.154058512,
          399621.7781527354,
          283792.88123684993,
          254575.74131133762,
          408067.01795140485,
          436818.0552107236,
          400860.36361915356,
          371604.73875998857,
          349843.8924505385,
          333400.14250900364,
          320841.6947019144,
          311187.67131764884,
          303748.8633045978,
          298025.2691526331,
          293646.77359975025,
          290334.087924524,
          287873.1487737253,
          286097.61727276345
         ],
         "yaxis": "y2"
        },
        {
         "fill": "tonexty",
         "fillcolor": "rgba(217,95,2,0.2)",
         "line": {
          "color": "rgb(217,95,2)",
          "width": 0
         },
         "marker": {
          "color": "rgb(217,95,2)"
         },
         "mode": "lines",
         "name": "0.25",
         "showlegend": false,
         "type": "scatter",
         "x": [
          2010,
          2011,
          2012,
          2013,
          2014,
          2015,
          2016,
          2017,
          2018,
          2019,
          2020,
          2021,
          2022,
          2023,
          2024,
          2025,
          2026,
          2027,
          2028,
          2029,
          2030,
          2031,
          2032,
          2033,
          2034,
          2035
         ],
         "xaxis": "x2",
         "y": [
          227050.0799297064,
          238883.7494100132,
          249931.78739233955,
          260163.68193417415,
          264085.90987328906,
          287874.3007938613,
          302154.517297022,
          321701.9898612214,
          389226.2404153715,
          470109.78279082227,
          395153.52690768207,
          407361.0792463021,
          570288.1461773401,
          634618.05591128,
          595822.3122860494,
          560604.9599868272,
          532889.1073972908,
          515879.3474010137,
          504926.54523122474,
          496819.62544202886,
          490971.0747732179,
          486937.8577056789,
          484380.2930000997,
          483034.6303675304,
          482687.92464673286,
          483171.79227180756
         ],
         "yaxis": "y2"
        },
        {
         "fill": "tonexty",
         "fillcolor": "rgba(217,95,2,0.2)",
         "line": {
          "color": "rgb(217,95,2)",
          "width": 0
         },
         "marker": {
          "color": "rgb(217,95,2)"
         },
         "mode": "lines",
         "name": "0.5",
         "showlegend": false,
         "type": "scatter",
         "x": [
          2010,
          2011,
          2012,
          2013,
          2014,
          2015,
          2016,
          2017,
          2018,
          2019,
          2020,
          2021,
          2022,
          2023,
          2024,
          2025,
          2026,
          2027,
          2028,
          2029,
          2030,
          2031,
          2032,
          2033,
          2034,
          2035
         ],
         "xaxis": "x2",
         "y": [
          292314.48450343113,
          309350.6676440739,
          307690.1948001991,
          304605.3442994265,
          310415.38484784967,
          322840.4765068902,
          336616.750216441,
          350880.89887530525,
          423836.565378439,
          542712.5907710065,
          437891.96674389305,
          490825.28446758207,
          702680.6668628429,
          800695.2212707469,
          745202.6266265749,
          701867.3665555757,
          684060.4600705397,
          676410.4283975103,
          673453.2190235886,
          673022.2626209647,
          674107.4698568637,
          676191.1706224056,
          678948.7768419102,
          682175.9511292153,
          681564.9108150062,
          680924.1237885056
         ],
         "yaxis": "y2"
        },
        {
         "fill": "tonexty",
         "fillcolor": "rgba(217,95,2,0.2)",
         "line": {
          "color": "rgb(217,95,2)",
          "width": 0
         },
         "marker": {
          "color": "rgb(217,95,2)"
         },
         "mode": "lines",
         "name": "0.75",
         "showlegend": false,
         "type": "scatter",
         "x": [
          2010,
          2011,
          2012,
          2013,
          2014,
          2015,
          2016,
          2017,
          2018,
          2019,
          2020,
          2021,
          2022,
          2023,
          2024,
          2025,
          2026,
          2027,
          2028,
          2029,
          2030,
          2031,
          2032,
          2033,
          2034,
          2035
         ],
         "xaxis": "x2",
         "y": [
          343484.76765075757,
          345250.89083472826,
          356831.63379679166,
          361543.0732298018,
          349724.85208067857,
          333179.94805803197,
          382082.54203270737,
          415328.7021378847,
          527491.6200089701,
          616635.5504751992,
          479212.9337020813,
          545334.2566917012,
          882112.9195725129,
          892242.0349485911,
          834760.6326201966,
          794569.1765565376,
          768054.3822036878,
          749092.9503356158,
          735453.839786578,
          725787.1251165912,
          719198.5646571819,
          718875.5930819712,
          722241.7259747044,
          726494.1442401417,
          731357.0296506161,
          736629.7949654774
         ],
         "yaxis": "y2"
        },
        {
         "fill": "tonexty",
         "fillcolor": "rgba(217,95,2,0.2)",
         "line": {
          "color": "rgb(217,95,2)",
          "width": 0
         },
         "marker": {
          "color": "rgb(217,95,2)"
         },
         "mode": "lines",
         "name": "0.975",
         "showlegend": false,
         "type": "scatter",
         "x": [
          2010,
          2011,
          2012,
          2013,
          2014,
          2015,
          2016,
          2017,
          2018,
          2019,
          2020,
          2021,
          2022,
          2023,
          2024,
          2025,
          2026,
          2027,
          2028,
          2029,
          2030,
          2031,
          2032,
          2033,
          2034,
          2035
         ],
         "xaxis": "x2",
         "y": [
          462772.87997472787,
          584218.4902677147,
          689058.6875844146,
          743100.3739314375,
          731444.9278912423,
          671396.6350069733,
          628081.2305206141,
          575659.6873813061,
          626555.6777266725,
          744490.7035958628,
          761467.8563629928,
          841399.3521945855,
          1187601.385929293,
          1304479.516446407,
          1199640.035897319,
          1138487.6003423051,
          1103426.6941525843,
          1082972.1480257993,
          1071581.1489753406,
          1066286.9320587162,
          1065285.5848611454,
          1067436.106328125,
          1071931.329843582,
          1078175.2749521907,
          1085757.8893354249,
          1094319.5922910029
         ],
         "yaxis": "y2"
        },
        {
         "fillcolor": "rgba(217,95,2,0.2)",
         "line": {
          "color": "rgb(217,95,2)",
          "width": 2
         },
         "marker": {
          "color": "rgb(217,95,2)"
         },
         "mode": "lines",
         "name": "With Xpert improvement",
         "showlegend": false,
         "type": "scatter",
         "x": [
          2010,
          2011,
          2012,
          2013,
          2014,
          2015,
          2016,
          2017,
          2018,
          2019,
          2020,
          2021,
          2022,
          2023,
          2024,
          2025,
          2026,
          2027,
          2028,
          2029,
          2030,
          2031,
          2032,
          2033,
          2034,
          2035
         ],
         "xaxis": "x2",
         "y": [
          292314.48450343113,
          309350.6676440739,
          307690.1948001991,
          304605.3442994265,
          310415.38484784967,
          322840.4765068902,
          336616.750216441,
          350880.89887530525,
          423836.565378439,
          542712.5907710065,
          437891.96674389305,
          490825.28446758207,
          702680.6668628429,
          800695.2212707469,
          745202.6266265749,
          701867.3665555757,
          684060.4600705397,
          676410.4283975103,
          673453.2190235886,
          673022.2626209647,
          674107.4698568637,
          676191.1706224056,
          678948.7768419102,
          682175.9511292153,
          681564.9108150062,
          680924.1237885056
         ],
         "yaxis": "y2"
        },
        {
         "legendgroup": "Target",
         "marker": {
          "color": "black",
          "size": 5
         },
         "mode": "markers",
         "name": "Case notifications (WHO)",
         "showlegend": false,
         "type": "scatter",
         "x": [
          2014,
          2015,
          2016,
          2017,
          2018,
          2019,
          2020,
          2021,
          2022,
          2023
         ],
         "xaxis": "x2",
         "y": [
          322806,
          331703,
          364671,
          442172,
          568865,
          559847,
          384025,
          432577,
          708658,
          804836
         ],
         "yaxis": "y2"
        },
        {
         "fill": "tonexty",
         "fillcolor": "rgba(27,158,119,0.2)",
         "line": {
          "color": "rgb(27,158,119)",
          "width": 0
         },
         "marker": {
          "color": "rgb(27,158,119)"
         },
         "mode": "lines",
         "name": "0.025",
         "showlegend": false,
         "type": "scatter",
         "x": [
          2010,
          2011,
          2012,
          2013,
          2014,
          2015,
          2016,
          2017,
          2018,
          2019,
          2020,
          2021,
          2022,
          2023,
          2024,
          2025,
          2026,
          2027,
          2028,
          2029,
          2030,
          2031,
          2032,
          2033,
          2034,
          2035
         ],
         "xaxis": "x3",
         "y": [
          153541.293302877,
          191961.65001447906,
          227537.68967921037,
          261401.72008502806,
          285913.342345874,
          298890.03658037644,
          307076.7633064902,
          312371.8218978083,
          360467.58187395893,
          418103.30373137025,
          279042.8443488839,
          320147.91371601634,
          526807.3889239002,
          538019.6747463584,
          529467.1755279603,
          505864.10430012655,
          486650.5595614425,
          469576.00319639454,
          453989.3907343809,
          441255.3314301111,
          429527.6613947816,
          420620.8961162786,
          413863.40698266856,
          408764.5024645575,
          404953.2835384627,
          402153.09542537405
         ],
         "yaxis": "y3"
        },
        {
         "fill": "tonexty",
         "fillcolor": "rgba(27,158,119,0.2)",
         "line": {
          "color": "rgb(27,158,119)",
          "width": 0
         },
         "marker": {
          "color": "rgb(27,158,119)"
         },
         "mode": "lines",
         "name": "0.25",
         "showlegend": false,
         "type": "scatter",
         "x": [
          2010,
          2011,
          2012,
          2013,
          2014,
          2015,
          2016,
          2017,
          2018,
          2019,
          2020,
          2021,
          2022,
          2023,
          2024,
          2025,
          2026,
          2027,
          2028,
          2029,
          2030,
          2031,
          2032,
          2033,
          2034,
          2035
         ],
         "xaxis": "x3",
         "y": [
          237325.89905528977,
          267496.3990304101,
          304576.67575487297,
          330437.7406901632,
          351129.89707673615,
          371943.07244074316,
          394699.8234606079,
          411273.23882561637,
          453015.99973376736,
          497479.52171662543,
          355365.4953398254,
          397781.1592867972,
          611162.6995575354,
          609570.2169870324,
          601882.9685510122,
          577590.6242637213,
          545452.3774282301,
          525652.8587777172,
          510825.85433573305,
          498416.95175083843,
          488074.81954468554,
          479509.9209182237,
          472480.9722873946,
          466780.45999488817,
          462228.3492285132,
          458670.707387984
         ],
         "yaxis": "y3"
        },
        {
         "fill": "tonexty",
         "fillcolor": "rgba(27,158,119,0.2)",
         "line": {
          "color": "rgb(27,158,119)",
          "width": 0
         },
         "marker": {
          "color": "rgb(27,158,119)"
         },
         "mode": "lines",
         "name": "0.5",
         "showlegend": false,
         "type": "scatter",
         "x": [
          2010,
          2011,
          2012,
          2013,
          2014,
          2015,
          2016,
          2017,
          2018,
          2019,
          2020,
          2021,
          2022,
          2023,
          2024,
          2025,
          2026,
          2027,
          2028,
          2029,
          2030,
          2031,
          2032,
          2033,
          2034,
          2035
         ],
         "xaxis": "x3",
         "y": [
          293159.12634135125,
          310424.24323504977,
          325509.33622497506,
          347884.6205259583,
          380450.2520612362,
          416688.8814899685,
          419733.43941681425,
          427059.184058657,
          473839.6019148522,
          526133.141705431,
          424623.39578986494,
          481125.7639278832,
          735596.4434436332,
          705564.5765444052,
          687100.5337928417,
          655152.4638224308,
          628404.425811257,
          605986.4147136661,
          587229.255143387,
          571582.8460025885,
          558593.1507183034,
          547892.7926306879,
          539167.9602649054,
          532157.697934689,
          526638.2377584934,
          522416.5622294833
         ],
         "yaxis": "y3"
        },
        {
         "fill": "tonexty",
         "fillcolor": "rgba(27,158,119,0.2)",
         "line": {
          "color": "rgb(27,158,119)",
          "width": 0
         },
         "marker": {
          "color": "rgb(27,158,119)"
         },
         "mode": "lines",
         "name": "0.75",
         "showlegend": false,
         "type": "scatter",
         "x": [
          2010,
          2011,
          2012,
          2013,
          2014,
          2015,
          2016,
          2017,
          2018,
          2019,
          2020,
          2021,
          2022,
          2023,
          2024,
          2025,
          2026,
          2027,
          2028,
          2029,
          2030,
          2031,
          2032,
          2033,
          2034,
          2035
         ],
         "xaxis": "x3",
         "y": [
          345120.65556752536,
          390771.8091239144,
          426269.58879971126,
          435519.8777715281,
          440561.7038250033,
          443882.9544331912,
          465509.80005365156,
          491218.338793377,
          535943.8131009372,
          623214.1217974981,
          543618.0503320529,
          621184.5984761526,
          803201.761123815,
          863904.0701715199,
          859674.0779514192,
          817805.8288668343,
          785315.5480198353,
          760221.7602812214,
          743602.1296162996,
          732756.0938821122,
          720536.9919756111,
          709431.406811572,
          702564.1590867967,
          699285.6684933498,
          697664.4786084739,
          698773.4416132234
         ],
         "yaxis": "y3"
        },
        {
         "fill": "tonexty",
         "fillcolor": "rgba(27,158,119,0.2)",
         "line": {
          "color": "rgb(27,158,119)",
          "width": 0
         },
         "marker": {
          "color": "rgb(27,158,119)"
         },
         "mode": "lines",
         "name": "0.975",
         "showlegend": false,
         "type": "scatter",
         "x": [
          2010,
          2011,
          2012,
          2013,
          2014,
          2015,
          2016,
          2017,
          2018,
          2019,
          2020,
          2021,
          2022,
          2023,
          2024,
          2025,
          2026,
          2027,
          2028,
          2029,
          2030,
          2031,
          2032,
          2033,
          2034,
          2035
         ],
         "xaxis": "x3",
         "y": [
          556604.7491872697,
          559797.9024517395,
          555811.8617984641,
          557299.3387745469,
          552158.3202227486,
          543215.4289401228,
          544058.0855730252,
          555404.4390774659,
          587478.4908549907,
          730511.4169365265,
          651414.8416893486,
          802585.0532029343,
          1146121.2388823181,
          1191548.5488161878,
          1156262.3523541566,
          1067966.1579812784,
          1007293.2082116811,
          970711.6998822406,
          945309.8406706413,
          928145.3852261909,
          917151.6077040548,
          910832.8738793497,
          908102.6273967891,
          908126.28499398,
          910267.1369207894,
          914022.232146385
         ],
         "yaxis": "y3"
        },
        {
         "fillcolor": "rgba(27,158,119,0.2)",
         "line": {
          "color": "rgb(27,158,119)",
          "width": 2
         },
         "marker": {
          "color": "rgb(27,158,119)"
         },
         "mode": "lines",
         "name": "Without Xpert improvement",
         "showlegend": false,
         "type": "scatter",
         "x": [
          2010,
          2011,
          2012,
          2013,
          2014,
          2015,
          2016,
          2017,
          2018,
          2019,
          2020,
          2021,
          2022,
          2023,
          2024,
          2025,
          2026,
          2027,
          2028,
          2029,
          2030,
          2031,
          2032,
          2033,
          2034,
          2035
         ],
         "xaxis": "x3",
         "y": [
          293159.12634135125,
          310424.24323504977,
          325509.33622497506,
          347884.6205259583,
          380450.2520612362,
          416688.8814899685,
          419733.43941681425,
          427059.184058657,
          473839.6019148522,
          526133.141705431,
          424623.39578986494,
          481125.7639278832,
          735596.4434436332,
          705564.5765444052,
          687100.5337928417,
          655152.4638224308,
          628404.425811257,
          605986.4147136661,
          587229.255143387,
          571582.8460025885,
          558593.1507183034,
          547892.7926306879,
          539167.9602649054,
          532157.697934689,
          526638.2377584934,
          522416.5622294833
         ],
         "yaxis": "y3"
        },
        {
         "fill": "tonexty",
         "fillcolor": "rgba(217,95,2,0.2)",
         "line": {
          "color": "rgb(217,95,2)",
          "width": 0
         },
         "marker": {
          "color": "rgb(217,95,2)"
         },
         "mode": "lines",
         "name": "0.025",
         "showlegend": false,
         "type": "scatter",
         "x": [
          2010,
          2011,
          2012,
          2013,
          2014,
          2015,
          2016,
          2017,
          2018,
          2019,
          2020,
          2021,
          2022,
          2023,
          2024,
          2025,
          2026,
          2027,
          2028,
          2029,
          2030,
          2031,
          2032,
          2033,
          2034,
          2035
         ],
         "xaxis": "x3",
         "y": [
          125233.10453062863,
          161258.3164826904,
          196591.23135715464,
          224255.06331028536,
          242253.51461149444,
          257852.1014750958,
          286915.2132404528,
          308962.0025936536,
          398066.13701384387,
          504153.8942310697,
          379805.96404754533,
          363293.54151724756,
          573770.3498106778,
          598005.1575621103,
          555534.8928872147,
          504366.4177302418,
          462915.2647873631,
          428010.3611404255,
          400851.95930503437,
          381012.42760545993,
          364301.2988661691,
          349662.2612254787,
          338802.13733176,
          330663.298421007,
          324507.4033658274,
          319807.4814379517
         ],
         "yaxis": "y3"
        },
        {
         "fill": "tonexty",
         "fillcolor": "rgba(217,95,2,0.2)",
         "line": {
          "color": "rgb(217,95,2)",
          "width": 0
         },
         "marker": {
          "color": "rgb(217,95,2)"
         },
         "mode": "lines",
         "name": "0.25",
         "showlegend": false,
         "type": "scatter",
         "x": [
          2010,
          2011,
          2012,
          2013,
          2014,
          2015,
          2016,
          2017,
          2018,
          2019,
          2020,
          2021,
          2022,
          2023,
          2024,
          2025,
          2026,
          2027,
          2028,
          2029,
          2030,
          2031,
          2032,
          2033,
          2034,
          2035
         ],
         "xaxis": "x3",
         "y": [
          181839.20652987072,
          227978.06616201584,
          244219.4104132732,
          257197.49906169245,
          269974.6431189669,
          278750.95956798515,
          360322.85830652295,
          419473.7789767906,
          485306.48069409723,
          591778.5974066412,
          408409.92218773393,
          444446.505754126,
          685119.8692289408,
          763031.8451944855,
          680697.5434124758,
          606542.4792468346,
          556347.8998532748,
          502215.50962980685,
          462653.30638289533,
          437861.6435864196,
          420700.0859807629,
          403926.59548068454,
          393391.1006682074,
          385204.05911938124,
          378787.7854342449,
          373715.7805092579
         ],
         "yaxis": "y3"
        },
        {
         "fill": "tonexty",
         "fillcolor": "rgba(217,95,2,0.2)",
         "line": {
          "color": "rgb(217,95,2)",
          "width": 0
         },
         "marker": {
          "color": "rgb(217,95,2)"
         },
         "mode": "lines",
         "name": "0.5",
         "showlegend": false,
         "type": "scatter",
         "x": [
          2010,
          2011,
          2012,
          2013,
          2014,
          2015,
          2016,
          2017,
          2018,
          2019,
          2020,
          2021,
          2022,
          2023,
          2024,
          2025,
          2026,
          2027,
          2028,
          2029,
          2030,
          2031,
          2032,
          2033,
          2034,
          2035
         ],
         "xaxis": "x3",
         "y": [
          251181.5318161903,
          269046.86354927183,
          319860.31764843117,
          331307.53668539395,
          341958.1522903978,
          352461.5455170636,
          426007.3578284725,
          457953.7973596606,
          498473.46764548466,
          641242.8810493331,
          494072.47679249727,
          507071.355398907,
          791840.5728095588,
          820407.4693622473,
          761956.818469285,
          695646.4656589273,
          660026.7420488307,
          623575.1351105508,
          580376.1365021777,
          538467.0361650013,
          508298.41056408297,
          486327.8332308008,
          474304.61031092727,
          465090.17559927225,
          452700.95893198246,
          442592.9938143014
         ],
         "yaxis": "y3"
        },
        {
         "fill": "tonexty",
         "fillcolor": "rgba(217,95,2,0.2)",
         "line": {
          "color": "rgb(217,95,2)",
          "width": 0
         },
         "marker": {
          "color": "rgb(217,95,2)"
         },
         "mode": "lines",
         "name": "0.75",
         "showlegend": false,
         "type": "scatter",
         "x": [
          2010,
          2011,
          2012,
          2013,
          2014,
          2015,
          2016,
          2017,
          2018,
          2019,
          2020,
          2021,
          2022,
          2023,
          2024,
          2025,
          2026,
          2027,
          2028,
          2029,
          2030,
          2031,
          2032,
          2033,
          2034,
          2035
         ],
         "xaxis": "x3",
         "y": [
          328438.70617355546,
          352893.1074505151,
          375682.5125723443,
          410610.7775037625,
          427906.1919574504,
          443986.629122925,
          483485.8647762061,
          542552.5235626891,
          608931.8756878696,
          730648.0764368401,
          629629.4827911614,
          696664.3764344878,
          926153.6727903873,
          945199.160495312,
          837518.2188041598,
          745056.7837242861,
          697282.9304315018,
          659547.980060059,
          639939.1104884648,
          632777.3866065043,
          629435.3342289648,
          627281.6333298992,
          626103.431581804,
          623887.6976743506,
          622536.3642643164,
          622375.6152000468
         ],
         "yaxis": "y3"
        },
        {
         "fill": "tonexty",
         "fillcolor": "rgba(217,95,2,0.2)",
         "line": {
          "color": "rgb(217,95,2)",
          "width": 0
         },
         "marker": {
          "color": "rgb(217,95,2)"
         },
         "mode": "lines",
         "name": "0.975",
         "showlegend": false,
         "type": "scatter",
         "x": [
          2010,
          2011,
          2012,
          2013,
          2014,
          2015,
          2016,
          2017,
          2018,
          2019,
          2020,
          2021,
          2022,
          2023,
          2024,
          2025,
          2026,
          2027,
          2028,
          2029,
          2030,
          2031,
          2032,
          2033,
          2034,
          2035
         ],
         "xaxis": "x3",
         "y": [
          1245491.639275022,
          1261046.3521526577,
          1216127.157849162,
          1134719.4641678706,
          1041672.5049038404,
          956181.0468039962,
          904816.2444020468,
          855455.2350209466,
          851021.2411128902,
          902237.9707856589,
          764510.6977816201,
          761606.5442049449,
          1140356.3736701927,
          1137566.9230052303,
          1009261.9007346483,
          861200.3152553866,
          791246.6393765537,
          743822.35649327,
          709264.0597100987,
          683942.9260367478,
          665329.6374653953,
          651660.0624923538,
          642332.1099992704,
          638595.4431425421,
          638627.5588613008,
          639662.5943458433
         ],
         "yaxis": "y3"
        },
        {
         "fillcolor": "rgba(217,95,2,0.2)",
         "line": {
          "color": "rgb(217,95,2)",
          "width": 2
         },
         "marker": {
          "color": "rgb(217,95,2)"
         },
         "mode": "lines",
         "name": "With Xpert improvement",
         "showlegend": false,
         "type": "scatter",
         "x": [
          2010,
          2011,
          2012,
          2013,
          2014,
          2015,
          2016,
          2017,
          2018,
          2019,
          2020,
          2021,
          2022,
          2023,
          2024,
          2025,
          2026,
          2027,
          2028,
          2029,
          2030,
          2031,
          2032,
          2033,
          2034,
          2035
         ],
         "xaxis": "x3",
         "y": [
          251181.5318161903,
          269046.86354927183,
          319860.31764843117,
          331307.53668539395,
          341958.1522903978,
          352461.5455170636,
          426007.3578284725,
          457953.7973596606,
          498473.46764548466,
          641242.8810493331,
          494072.47679249727,
          507071.355398907,
          791840.5728095588,
          820407.4693622473,
          761956.818469285,
          695646.4656589273,
          660026.7420488307,
          623575.1351105508,
          580376.1365021777,
          538467.0361650013,
          508298.41056408297,
          486327.8332308008,
          474304.61031092727,
          465090.17559927225,
          452700.95893198246,
          442592.9938143014
         ],
         "yaxis": "y3"
        },
        {
         "legendgroup": "Target",
         "marker": {
          "color": "black",
          "size": 5
         },
         "mode": "markers",
         "name": "Case notifications (WHO)",
         "showlegend": false,
         "type": "scatter",
         "x": [
          2014,
          2015,
          2016,
          2017,
          2018,
          2019,
          2020,
          2021,
          2022,
          2023
         ],
         "xaxis": "x3",
         "y": [
          322806,
          331703,
          364671,
          442172,
          568865,
          559847,
          384025,
          432577,
          708658,
          804836
         ],
         "yaxis": "y3"
        }
       ],
       "layout": {
        "annotations": [
         {
          "font": {
           "size": 16
          },
          "showarrow": false,
          "text": "<b>No CDR</b>",
          "x": 0.5,
          "xanchor": "center",
          "xref": "paper",
          "y": 1,
          "yanchor": "bottom",
          "yref": "paper"
         },
         {
          "font": {
           "size": 16
          },
          "showarrow": false,
          "text": "<b>CDR on notification</b>",
          "x": 0.5,
          "xanchor": "center",
          "xref": "paper",
          "y": 0.6399999999999999,
          "yanchor": "bottom",
          "yref": "paper"
         },
         {
          "font": {
           "size": 16
          },
          "showarrow": false,
          "text": "<b>CDR on treatment commencement</b>",
          "x": 0.5,
          "xanchor": "center",
          "xref": "paper",
          "y": 0.27999999999999997,
          "yanchor": "bottom",
          "yref": "paper"
         }
        ],
        "font": {
         "family": "Space Grotesk"
        },
        "height": 900,
        "legend": {
         "orientation": "h",
         "x": 0.5,
         "xanchor": "center",
         "y": -0.15,
         "yanchor": "bottom"
        },
        "margin": {
         "b": 20,
         "l": 20,
         "r": 20,
         "t": 20
        },
        "showlegend": true,
        "template": {
         "data": {
          "bar": [
           {
            "error_x": {
             "color": "#2a3f5f"
            },
            "error_y": {
             "color": "#2a3f5f"
            },
            "marker": {
             "line": {
              "color": "#E5ECF6",
              "width": 0.5
             },
             "pattern": {
              "fillmode": "overlay",
              "size": 10,
              "solidity": 0.2
             }
            },
            "type": "bar"
           }
          ],
          "barpolar": [
           {
            "marker": {
             "line": {
              "color": "#E5ECF6",
              "width": 0.5
             },
             "pattern": {
              "fillmode": "overlay",
              "size": 10,
              "solidity": 0.2
             }
            },
            "type": "barpolar"
           }
          ],
          "carpet": [
           {
            "aaxis": {
             "endlinecolor": "#2a3f5f",
             "gridcolor": "white",
             "linecolor": "white",
             "minorgridcolor": "white",
             "startlinecolor": "#2a3f5f"
            },
            "baxis": {
             "endlinecolor": "#2a3f5f",
             "gridcolor": "white",
             "linecolor": "white",
             "minorgridcolor": "white",
             "startlinecolor": "#2a3f5f"
            },
            "type": "carpet"
           }
          ],
          "choropleth": [
           {
            "colorbar": {
             "outlinewidth": 0,
             "ticks": ""
            },
            "type": "choropleth"
           }
          ],
          "contour": [
           {
            "colorbar": {
             "outlinewidth": 0,
             "ticks": ""
            },
            "colorscale": [
             [
              0,
              "#0d0887"
             ],
             [
              0.1111111111111111,
              "#46039f"
             ],
             [
              0.2222222222222222,
              "#7201a8"
             ],
             [
              0.3333333333333333,
              "#9c179e"
             ],
             [
              0.4444444444444444,
              "#bd3786"
             ],
             [
              0.5555555555555556,
              "#d8576b"
             ],
             [
              0.6666666666666666,
              "#ed7953"
             ],
             [
              0.7777777777777778,
              "#fb9f3a"
             ],
             [
              0.8888888888888888,
              "#fdca26"
             ],
             [
              1,
              "#f0f921"
             ]
            ],
            "type": "contour"
           }
          ],
          "contourcarpet": [
           {
            "colorbar": {
             "outlinewidth": 0,
             "ticks": ""
            },
            "type": "contourcarpet"
           }
          ],
          "heatmap": [
           {
            "colorbar": {
             "outlinewidth": 0,
             "ticks": ""
            },
            "colorscale": [
             [
              0,
              "#0d0887"
             ],
             [
              0.1111111111111111,
              "#46039f"
             ],
             [
              0.2222222222222222,
              "#7201a8"
             ],
             [
              0.3333333333333333,
              "#9c179e"
             ],
             [
              0.4444444444444444,
              "#bd3786"
             ],
             [
              0.5555555555555556,
              "#d8576b"
             ],
             [
              0.6666666666666666,
              "#ed7953"
             ],
             [
              0.7777777777777778,
              "#fb9f3a"
             ],
             [
              0.8888888888888888,
              "#fdca26"
             ],
             [
              1,
              "#f0f921"
             ]
            ],
            "type": "heatmap"
           }
          ],
          "heatmapgl": [
           {
            "colorbar": {
             "outlinewidth": 0,
             "ticks": ""
            },
            "colorscale": [
             [
              0,
              "#0d0887"
             ],
             [
              0.1111111111111111,
              "#46039f"
             ],
             [
              0.2222222222222222,
              "#7201a8"
             ],
             [
              0.3333333333333333,
              "#9c179e"
             ],
             [
              0.4444444444444444,
              "#bd3786"
             ],
             [
              0.5555555555555556,
              "#d8576b"
             ],
             [
              0.6666666666666666,
              "#ed7953"
             ],
             [
              0.7777777777777778,
              "#fb9f3a"
             ],
             [
              0.8888888888888888,
              "#fdca26"
             ],
             [
              1,
              "#f0f921"
             ]
            ],
            "type": "heatmapgl"
           }
          ],
          "histogram": [
           {
            "marker": {
             "pattern": {
              "fillmode": "overlay",
              "size": 10,
              "solidity": 0.2
             }
            },
            "type": "histogram"
           }
          ],
          "histogram2d": [
           {
            "colorbar": {
             "outlinewidth": 0,
             "ticks": ""
            },
            "colorscale": [
             [
              0,
              "#0d0887"
             ],
             [
              0.1111111111111111,
              "#46039f"
             ],
             [
              0.2222222222222222,
              "#7201a8"
             ],
             [
              0.3333333333333333,
              "#9c179e"
             ],
             [
              0.4444444444444444,
              "#bd3786"
             ],
             [
              0.5555555555555556,
              "#d8576b"
             ],
             [
              0.6666666666666666,
              "#ed7953"
             ],
             [
              0.7777777777777778,
              "#fb9f3a"
             ],
             [
              0.8888888888888888,
              "#fdca26"
             ],
             [
              1,
              "#f0f921"
             ]
            ],
            "type": "histogram2d"
           }
          ],
          "histogram2dcontour": [
           {
            "colorbar": {
             "outlinewidth": 0,
             "ticks": ""
            },
            "colorscale": [
             [
              0,
              "#0d0887"
             ],
             [
              0.1111111111111111,
              "#46039f"
             ],
             [
              0.2222222222222222,
              "#7201a8"
             ],
             [
              0.3333333333333333,
              "#9c179e"
             ],
             [
              0.4444444444444444,
              "#bd3786"
             ],
             [
              0.5555555555555556,
              "#d8576b"
             ],
             [
              0.6666666666666666,
              "#ed7953"
             ],
             [
              0.7777777777777778,
              "#fb9f3a"
             ],
             [
              0.8888888888888888,
              "#fdca26"
             ],
             [
              1,
              "#f0f921"
             ]
            ],
            "type": "histogram2dcontour"
           }
          ],
          "mesh3d": [
           {
            "colorbar": {
             "outlinewidth": 0,
             "ticks": ""
            },
            "type": "mesh3d"
           }
          ],
          "parcoords": [
           {
            "line": {
             "colorbar": {
              "outlinewidth": 0,
              "ticks": ""
             }
            },
            "type": "parcoords"
           }
          ],
          "pie": [
           {
            "automargin": true,
            "type": "pie"
           }
          ],
          "scatter": [
           {
            "fillpattern": {
             "fillmode": "overlay",
             "size": 10,
             "solidity": 0.2
            },
            "type": "scatter"
           }
          ],
          "scatter3d": [
           {
            "line": {
             "colorbar": {
              "outlinewidth": 0,
              "ticks": ""
             }
            },
            "marker": {
             "colorbar": {
              "outlinewidth": 0,
              "ticks": ""
             }
            },
            "type": "scatter3d"
           }
          ],
          "scattercarpet": [
           {
            "marker": {
             "colorbar": {
              "outlinewidth": 0,
              "ticks": ""
             }
            },
            "type": "scattercarpet"
           }
          ],
          "scattergeo": [
           {
            "marker": {
             "colorbar": {
              "outlinewidth": 0,
              "ticks": ""
             }
            },
            "type": "scattergeo"
           }
          ],
          "scattergl": [
           {
            "marker": {
             "colorbar": {
              "outlinewidth": 0,
              "ticks": ""
             }
            },
            "type": "scattergl"
           }
          ],
          "scattermapbox": [
           {
            "marker": {
             "colorbar": {
              "outlinewidth": 0,
              "ticks": ""
             }
            },
            "type": "scattermapbox"
           }
          ],
          "scatterpolar": [
           {
            "marker": {
             "colorbar": {
              "outlinewidth": 0,
              "ticks": ""
             }
            },
            "type": "scatterpolar"
           }
          ],
          "scatterpolargl": [
           {
            "marker": {
             "colorbar": {
              "outlinewidth": 0,
              "ticks": ""
             }
            },
            "type": "scatterpolargl"
           }
          ],
          "scatterternary": [
           {
            "marker": {
             "colorbar": {
              "outlinewidth": 0,
              "ticks": ""
             }
            },
            "type": "scatterternary"
           }
          ],
          "surface": [
           {
            "colorbar": {
             "outlinewidth": 0,
             "ticks": ""
            },
            "colorscale": [
             [
              0,
              "#0d0887"
             ],
             [
              0.1111111111111111,
              "#46039f"
             ],
             [
              0.2222222222222222,
              "#7201a8"
             ],
             [
              0.3333333333333333,
              "#9c179e"
             ],
             [
              0.4444444444444444,
              "#bd3786"
             ],
             [
              0.5555555555555556,
              "#d8576b"
             ],
             [
              0.6666666666666666,
              "#ed7953"
             ],
             [
              0.7777777777777778,
              "#fb9f3a"
             ],
             [
              0.8888888888888888,
              "#fdca26"
             ],
             [
              1,
              "#f0f921"
             ]
            ],
            "type": "surface"
           }
          ],
          "table": [
           {
            "cells": {
             "fill": {
              "color": "#EBF0F8"
             },
             "line": {
              "color": "white"
             }
            },
            "header": {
             "fill": {
              "color": "#C8D4E3"
             },
             "line": {
              "color": "white"
             }
            },
            "type": "table"
           }
          ]
         },
         "layout": {
          "annotationdefaults": {
           "arrowcolor": "#2a3f5f",
           "arrowhead": 0,
           "arrowwidth": 1
          },
          "autotypenumbers": "strict",
          "coloraxis": {
           "colorbar": {
            "outlinewidth": 0,
            "ticks": ""
           }
          },
          "colorscale": {
           "diverging": [
            [
             0,
             "#8e0152"
            ],
            [
             0.1,
             "#c51b7d"
            ],
            [
             0.2,
             "#de77ae"
            ],
            [
             0.3,
             "#f1b6da"
            ],
            [
             0.4,
             "#fde0ef"
            ],
            [
             0.5,
             "#f7f7f7"
            ],
            [
             0.6,
             "#e6f5d0"
            ],
            [
             0.7,
             "#b8e186"
            ],
            [
             0.8,
             "#7fbc41"
            ],
            [
             0.9,
             "#4d9221"
            ],
            [
             1,
             "#276419"
            ]
           ],
           "sequential": [
            [
             0,
             "#0d0887"
            ],
            [
             0.1111111111111111,
             "#46039f"
            ],
            [
             0.2222222222222222,
             "#7201a8"
            ],
            [
             0.3333333333333333,
             "#9c179e"
            ],
            [
             0.4444444444444444,
             "#bd3786"
            ],
            [
             0.5555555555555556,
             "#d8576b"
            ],
            [
             0.6666666666666666,
             "#ed7953"
            ],
            [
             0.7777777777777778,
             "#fb9f3a"
            ],
            [
             0.8888888888888888,
             "#fdca26"
            ],
            [
             1,
             "#f0f921"
            ]
           ],
           "sequentialminus": [
            [
             0,
             "#0d0887"
            ],
            [
             0.1111111111111111,
             "#46039f"
            ],
            [
             0.2222222222222222,
             "#7201a8"
            ],
            [
             0.3333333333333333,
             "#9c179e"
            ],
            [
             0.4444444444444444,
             "#bd3786"
            ],
            [
             0.5555555555555556,
             "#d8576b"
            ],
            [
             0.6666666666666666,
             "#ed7953"
            ],
            [
             0.7777777777777778,
             "#fb9f3a"
            ],
            [
             0.8888888888888888,
             "#fdca26"
            ],
            [
             1,
             "#f0f921"
            ]
           ]
          },
          "colorway": [
           "#636efa",
           "#EF553B",
           "#00cc96",
           "#ab63fa",
           "#FFA15A",
           "#19d3f3",
           "#FF6692",
           "#B6E880",
           "#FF97FF",
           "#FECB52"
          ],
          "font": {
           "color": "#2a3f5f"
          },
          "geo": {
           "bgcolor": "white",
           "lakecolor": "white",
           "landcolor": "#E5ECF6",
           "showlakes": true,
           "showland": true,
           "subunitcolor": "white"
          },
          "hoverlabel": {
           "align": "left"
          },
          "hovermode": "closest",
          "mapbox": {
           "style": "light"
          },
          "paper_bgcolor": "white",
          "plot_bgcolor": "#E5ECF6",
          "polar": {
           "angularaxis": {
            "gridcolor": "white",
            "linecolor": "white",
            "ticks": ""
           },
           "bgcolor": "#E5ECF6",
           "radialaxis": {
            "gridcolor": "white",
            "linecolor": "white",
            "ticks": ""
           }
          },
          "scene": {
           "xaxis": {
            "backgroundcolor": "#E5ECF6",
            "gridcolor": "white",
            "gridwidth": 2,
            "linecolor": "white",
            "showbackground": true,
            "ticks": "",
            "zerolinecolor": "white"
           },
           "yaxis": {
            "backgroundcolor": "#E5ECF6",
            "gridcolor": "white",
            "gridwidth": 2,
            "linecolor": "white",
            "showbackground": true,
            "ticks": "",
            "zerolinecolor": "white"
           },
           "zaxis": {
            "backgroundcolor": "#E5ECF6",
            "gridcolor": "white",
            "gridwidth": 2,
            "linecolor": "white",
            "showbackground": true,
            "ticks": "",
            "zerolinecolor": "white"
           }
          },
          "shapedefaults": {
           "line": {
            "color": "#2a3f5f"
           }
          },
          "ternary": {
           "aaxis": {
            "gridcolor": "white",
            "linecolor": "white",
            "ticks": ""
           },
           "baxis": {
            "gridcolor": "white",
            "linecolor": "white",
            "ticks": ""
           },
           "bgcolor": "#E5ECF6",
           "caxis": {
            "gridcolor": "white",
            "linecolor": "white",
            "ticks": ""
           }
          },
          "title": {
           "x": 0.05
          },
          "xaxis": {
           "automargin": true,
           "gridcolor": "white",
           "linecolor": "white",
           "ticks": "",
           "title": {
            "standoff": 15
           },
           "zerolinecolor": "white",
           "zerolinewidth": 2
          },
          "yaxis": {
           "automargin": true,
           "gridcolor": "white",
           "linecolor": "white",
           "ticks": "",
           "title": {
            "standoff": 15
           },
           "zerolinecolor": "white",
           "zerolinewidth": 2
          }
         }
        },
        "title": {
         "font": {
          "family": "Space Grotesk"
         }
        },
        "xaxis": {
         "anchor": "y",
         "domain": [
          0,
          1
         ],
         "matches": "x3",
         "showticklabels": false
        },
        "xaxis2": {
         "anchor": "y2",
         "domain": [
          0,
          1
         ],
         "matches": "x3",
         "showticklabels": false
        },
        "xaxis3": {
         "anchor": "y3",
         "domain": [
          0,
          1
         ],
         "title": {
          "text": "Year"
         }
        },
        "yaxis": {
         "anchor": "x",
         "domain": [
          0.72,
          1
         ],
         "title": {
          "text": "No. of case notification"
         }
        },
        "yaxis2": {
         "anchor": "x2",
         "domain": [
          0.36,
          0.6399999999999999
         ],
         "title": {
          "text": "No. of case notification"
         }
        },
        "yaxis3": {
         "anchor": "x3",
         "domain": [
          0,
          0.27999999999999997
         ],
         "title": {
          "text": "No. of case notification"
         }
        }
       }
      }
     },
     "metadata": {},
     "output_type": "display_data"
    },
    {
     "data": {
      "application/vnd.plotly.v1+json": {
       "config": {
        "plotlyServerURL": "https://plot.ly"
       },
       "data": [
        {
         "fill": "tonexty",
         "fillcolor": "rgba(27,158,119,0.2)",
         "line": {
          "color": "rgb(27,158,119)",
          "width": 0
         },
         "marker": {
          "color": "rgb(27,158,119)"
         },
         "mode": "lines",
         "name": "0.025",
         "showlegend": false,
         "type": "scatter",
         "x": [
          2010,
          2011,
          2012,
          2013,
          2014,
          2015,
          2016,
          2017,
          2018,
          2019,
          2020,
          2021,
          2022,
          2023,
          2024,
          2025,
          2026,
          2027,
          2028,
          2029,
          2030,
          2031,
          2032,
          2033,
          2034,
          2035
         ],
         "xaxis": "x",
         "y": [
          357086.86956401187,
          389548.0497654134,
          423476.25250460097,
          455424.79570340714,
          462640.2680586347,
          446184.6617218575,
          431771.70823388663,
          418703.2905178454,
          404117.55030802963,
          389570.579617376,
          258993.11032851235,
          287772.46194690955,
          373090.70183322043,
          351495.52208694996,
          336150.0832162853,
          317271.5055201564,
          300461.2936692562,
          288115.8718751302,
          278303.05246441095,
          269196.3329324396,
          262162.177212827,
          256593.0626123141,
          252072.82895990845,
          248311.05140360707,
          245101.74246698513,
          242297.75018772075
         ],
         "yaxis": "y"
        },
        {
         "fill": "tonexty",
         "fillcolor": "rgba(27,158,119,0.2)",
         "line": {
          "color": "rgb(27,158,119)",
          "width": 0
         },
         "marker": {
          "color": "rgb(27,158,119)"
         },
         "mode": "lines",
         "name": "0.25",
         "showlegend": false,
         "type": "scatter",
         "x": [
          2010,
          2011,
          2012,
          2013,
          2014,
          2015,
          2016,
          2017,
          2018,
          2019,
          2020,
          2021,
          2022,
          2023,
          2024,
          2025,
          2026,
          2027,
          2028,
          2029,
          2030,
          2031,
          2032,
          2033,
          2034,
          2035
         ],
         "xaxis": "x",
         "y": [
          797400.7585611762,
          814200.6606045968,
          794915.1621245818,
          735592.4613388253,
          709506.3098024668,
          661538.5162351162,
          601735.6044308934,
          550447.3947417683,
          510379.197204984,
          487701.34550334874,
          374677.88153304777,
          375478.2430623962,
          481686.2859578788,
          442019.3131973708,
          404093.82354210544,
          386833.80161103624,
          374305.0320277608,
          364866.39101717016,
          360137.55583259644,
          356187.08926861564,
          352822.48917626846,
          349910.46421828686,
          347355.28505393193,
          345085.74071527517,
          343046.50834764796,
          341195.9554045247
         ],
         "yaxis": "y"
        },
        {
         "fill": "tonexty",
         "fillcolor": "rgba(27,158,119,0.2)",
         "line": {
          "color": "rgb(27,158,119)",
          "width": 0
         },
         "marker": {
          "color": "rgb(27,158,119)"
         },
         "mode": "lines",
         "name": "0.5",
         "showlegend": false,
         "type": "scatter",
         "x": [
          2010,
          2011,
          2012,
          2013,
          2014,
          2015,
          2016,
          2017,
          2018,
          2019,
          2020,
          2021,
          2022,
          2023,
          2024,
          2025,
          2026,
          2027,
          2028,
          2029,
          2030,
          2031,
          2032,
          2033,
          2034,
          2035
         ],
         "xaxis": "x",
         "y": [
          924250.2688264975,
          862622.359082891,
          849675.6294468158,
          815538.382255164,
          790988.3398557798,
          717114.6216559527,
          643927.2375365503,
          618606.9235331728,
          600378.3270802395,
          588255.8736214748,
          411021.83234840026,
          421156.35668721964,
          553138.4617997906,
          513028.6444299423,
          490776.15921833774,
          474777.9826585596,
          463048.1135443781,
          454304.2290055853,
          447694.0633991789,
          442639.2407106579,
          438739.12881699257,
          435709.14107846544,
          433347.9037762014,
          431502.34447036305,
          430064.69333414326,
          428951.3708345789
         ],
         "yaxis": "y"
        },
        {
         "fill": "tonexty",
         "fillcolor": "rgba(27,158,119,0.2)",
         "line": {
          "color": "rgb(27,158,119)",
          "width": 0
         },
         "marker": {
          "color": "rgb(27,158,119)"
         },
         "mode": "lines",
         "name": "0.75",
         "showlegend": false,
         "type": "scatter",
         "x": [
          2010,
          2011,
          2012,
          2013,
          2014,
          2015,
          2016,
          2017,
          2018,
          2019,
          2020,
          2021,
          2022,
          2023,
          2024,
          2025,
          2026,
          2027,
          2028,
          2029,
          2030,
          2031,
          2032,
          2033,
          2034,
          2035
         ],
         "xaxis": "x",
         "y": [
          1323040.8530045205,
          1246837.9395931547,
          1138736.7753682903,
          1055431.7665429944,
          985887.6517155445,
          911649.720508852,
          811099.0786663314,
          759429.2722604126,
          724941.7600411043,
          689580.7471796654,
          502211.69022853393,
          545497.3893947052,
          710356.0124460368,
          651781.7577868889,
          618084.3766389444,
          596881.3372079416,
          582415.9205102067,
          571752.572166648,
          564057.4409631176,
          558836.1444024143,
          555272.131916966,
          552998.1119285157,
          551751.7400262005,
          551329.1469067502,
          551568.2671887989,
          552348.5920996118
         ],
         "yaxis": "y"
        },
        {
         "fill": "tonexty",
         "fillcolor": "rgba(27,158,119,0.2)",
         "line": {
          "color": "rgb(27,158,119)",
          "width": 0
         },
         "marker": {
          "color": "rgb(27,158,119)"
         },
         "mode": "lines",
         "name": "0.975",
         "showlegend": false,
         "type": "scatter",
         "x": [
          2010,
          2011,
          2012,
          2013,
          2014,
          2015,
          2016,
          2017,
          2018,
          2019,
          2020,
          2021,
          2022,
          2023,
          2024,
          2025,
          2026,
          2027,
          2028,
          2029,
          2030,
          2031,
          2032,
          2033,
          2034,
          2035
         ],
         "xaxis": "x",
         "y": [
          1705618.8719917042,
          1628596.0183981564,
          1469779.4700046729,
          1272569.3142441174,
          1088458.6668474397,
          985787.6752469223,
          926386.8977613017,
          876609.7928146399,
          841261.1980378255,
          821544.7448455438,
          542795.0052914264,
          618465.5726940109,
          990258.6805171686,
          887526.4860657292,
          827213.664748373,
          790742.8418664943,
          768229.039882288,
          754074.157322971,
          745112.6488647464,
          739512.2552118271,
          736171.4117808476,
          734410.3546047203,
          733789.4003205822,
          734012.0730656139,
          734877.1035461995,
          736233.3002021144
         ],
         "yaxis": "y"
        },
        {
         "fillcolor": "rgba(27,158,119,0.2)",
         "line": {
          "color": "rgb(27,158,119)",
          "width": 2
         },
         "marker": {
          "color": "rgb(27,158,119)"
         },
         "mode": "lines",
         "name": "Without Xpert improvement",
         "showlegend": true,
         "type": "scatter",
         "x": [
          2010,
          2011,
          2012,
          2013,
          2014,
          2015,
          2016,
          2017,
          2018,
          2019,
          2020,
          2021,
          2022,
          2023,
          2024,
          2025,
          2026,
          2027,
          2028,
          2029,
          2030,
          2031,
          2032,
          2033,
          2034,
          2035
         ],
         "xaxis": "x",
         "y": [
          924250.2688264975,
          862622.359082891,
          849675.6294468158,
          815538.382255164,
          790988.3398557798,
          717114.6216559527,
          643927.2375365503,
          618606.9235331728,
          600378.3270802395,
          588255.8736214748,
          411021.83234840026,
          421156.35668721964,
          553138.4617997906,
          513028.6444299423,
          490776.15921833774,
          474777.9826585596,
          463048.1135443781,
          454304.2290055853,
          447694.0633991789,
          442639.2407106579,
          438739.12881699257,
          435709.14107846544,
          433347.9037762014,
          431502.34447036305,
          430064.69333414326,
          428951.3708345789
         ],
         "yaxis": "y"
        },
        {
         "fill": "tonexty",
         "fillcolor": "rgba(217,95,2,0.2)",
         "line": {
          "color": "rgb(217,95,2)",
          "width": 0
         },
         "marker": {
          "color": "rgb(217,95,2)"
         },
         "mode": "lines",
         "name": "0.025",
         "showlegend": false,
         "type": "scatter",
         "x": [
          2010,
          2011,
          2012,
          2013,
          2014,
          2015,
          2016,
          2017,
          2018,
          2019,
          2020,
          2021,
          2022,
          2023,
          2024,
          2025,
          2026,
          2027,
          2028,
          2029,
          2030,
          2031,
          2032,
          2033,
          2034,
          2035
         ],
         "xaxis": "x",
         "y": [
          114137.55627172637,
          124988.08694996739,
          135451.83687986145,
          145486.74695004808,
          155048.79622074566,
          164115.2928465909,
          283560.4094538267,
          375619.6296027149,
          402098.3690043466,
          455828.3754590641,
          327493.05694167974,
          292653.494614325,
          416822.06792067585,
          461788.25420100626,
          423839.0787719459,
          394040.3527208337,
          373663.2393368607,
          359492.3969820222,
          349523.1219961698,
          342477.0977289038,
          337512.07740459585,
          334060.99291121605,
          331171.6209328112,
          328599.5984416006,
          326774.3487662303,
          325543.08168288716
         ],
         "yaxis": "y"
        },
        {
         "fill": "tonexty",
         "fillcolor": "rgba(217,95,2,0.2)",
         "line": {
          "color": "rgb(217,95,2)",
          "width": 0
         },
         "marker": {
          "color": "rgb(217,95,2)"
         },
         "mode": "lines",
         "name": "0.25",
         "showlegend": false,
         "type": "scatter",
         "x": [
          2010,
          2011,
          2012,
          2013,
          2014,
          2015,
          2016,
          2017,
          2018,
          2019,
          2020,
          2021,
          2022,
          2023,
          2024,
          2025,
          2026,
          2027,
          2028,
          2029,
          2030,
          2031,
          2032,
          2033,
          2034,
          2035
         ],
         "xaxis": "x",
         "y": [
          251099.55942419101,
          274844.5859956334,
          296296.52750597993,
          333772.24886490067,
          357780.72126525035,
          377778.37556247273,
          454568.3369999266,
          526131.6918193751,
          573066.325181996,
          617341.2645010317,
          430467.0865421656,
          395346.3101468574,
          570583.7869724608,
          584275.1190900737,
          542520.8487565258,
          505566.84481049865,
          477230.6764862599,
          454854.71833281673,
          437387.7804732659,
          423678.840790784,
          412872.611622458,
          404324.1840842957,
          397543.40589531756,
          392153.8101612598,
          387861.82224244677,
          384440.475684296
         ],
         "yaxis": "y"
        },
        {
         "fill": "tonexty",
         "fillcolor": "rgba(217,95,2,0.2)",
         "line": {
          "color": "rgb(217,95,2)",
          "width": 0
         },
         "marker": {
          "color": "rgb(217,95,2)"
         },
         "mode": "lines",
         "name": "0.5",
         "showlegend": false,
         "type": "scatter",
         "x": [
          2010,
          2011,
          2012,
          2013,
          2014,
          2015,
          2016,
          2017,
          2018,
          2019,
          2020,
          2021,
          2022,
          2023,
          2024,
          2025,
          2026,
          2027,
          2028,
          2029,
          2030,
          2031,
          2032,
          2033,
          2034,
          2035
         ],
         "xaxis": "x",
         "y": [
          374928.56532956567,
          384484.4161789762,
          417906.7206082034,
          465725.5534914982,
          487409.00297118793,
          484957.3928846634,
          547456.0196316729,
          592611.3006634526,
          613067.624628979,
          651213.4915870556,
          475760.6112496761,
          428012.4311597048,
          614998.7790637136,
          641580.7922311458,
          595280.2982639848,
          563947.2071568898,
          543958.3994608137,
          530798.6908180926,
          521907.8735582499,
          515785.2017435684,
          506037.78522464936,
          484615.0131562288,
          466149.22668001574,
          450319.78430015605,
          436816.96427775675,
          425347.9873856299
         ],
         "yaxis": "y"
        },
        {
         "fill": "tonexty",
         "fillcolor": "rgba(217,95,2,0.2)",
         "line": {
          "color": "rgb(217,95,2)",
          "width": 0
         },
         "marker": {
          "color": "rgb(217,95,2)"
         },
         "mode": "lines",
         "name": "0.75",
         "showlegend": false,
         "type": "scatter",
         "x": [
          2010,
          2011,
          2012,
          2013,
          2014,
          2015,
          2016,
          2017,
          2018,
          2019,
          2020,
          2021,
          2022,
          2023,
          2024,
          2025,
          2026,
          2027,
          2028,
          2029,
          2030,
          2031,
          2032,
          2033,
          2034,
          2035
         ],
         "xaxis": "x",
         "y": [
          740113.7473983024,
          719573.4886276477,
          698897.9347135378,
          672938.2152473049,
          658009.8531470079,
          646186.0398571093,
          660220.6877117974,
          662403.8130410251,
          653379.7170650021,
          679904.1581582369,
          515710.0325249275,
          460380.0151017647,
          687784.7794664304,
          704754.9516905021,
          662836.7441462501,
          633898.8370890738,
          611588.0598761437,
          593247.1182148943,
          568657.7281919611,
          553200.3590422487,
          546194.2350757191,
          540782.8981912701,
          536513.967083442,
          531906.4771067065,
          524438.7382583672,
          517839.1251433039
         ],
         "yaxis": "y"
        },
        {
         "fill": "tonexty",
         "fillcolor": "rgba(217,95,2,0.2)",
         "line": {
          "color": "rgb(217,95,2)",
          "width": 0
         },
         "marker": {
          "color": "rgb(217,95,2)"
         },
         "mode": "lines",
         "name": "0.975",
         "showlegend": false,
         "type": "scatter",
         "x": [
          2010,
          2011,
          2012,
          2013,
          2014,
          2015,
          2016,
          2017,
          2018,
          2019,
          2020,
          2021,
          2022,
          2023,
          2024,
          2025,
          2026,
          2027,
          2028,
          2029,
          2030,
          2031,
          2032,
          2033,
          2034,
          2035
         ],
         "xaxis": "x",
         "y": [
          788991.5310133238,
          789275.2367280283,
          785441.1373291793,
          772265.4163765181,
          758032.851991029,
          743485.7145716723,
          804907.2349602217,
          835748.3296563892,
          814576.4228115969,
          859108.5779072712,
          611364.940942529,
          609700.386131276,
          845244.1879068514,
          898032.9531069979,
          813984.2913838082,
          747895.2987839191,
          695647.3132204877,
          657238.2392386029,
          626716.4523909381,
          602857.6040710647,
          585757.164119248,
          583310.8437958555,
          581689.3199953794,
          580701.4370917203,
          580220.0235684149,
          580137.0907178979
         ],
         "yaxis": "y"
        },
        {
         "fillcolor": "rgba(217,95,2,0.2)",
         "line": {
          "color": "rgb(217,95,2)",
          "width": 2
         },
         "marker": {
          "color": "rgb(217,95,2)"
         },
         "mode": "lines",
         "name": "With Xpert improvement",
         "showlegend": true,
         "type": "scatter",
         "x": [
          2010,
          2011,
          2012,
          2013,
          2014,
          2015,
          2016,
          2017,
          2018,
          2019,
          2020,
          2021,
          2022,
          2023,
          2024,
          2025,
          2026,
          2027,
          2028,
          2029,
          2030,
          2031,
          2032,
          2033,
          2034,
          2035
         ],
         "xaxis": "x",
         "y": [
          374928.56532956567,
          384484.4161789762,
          417906.7206082034,
          465725.5534914982,
          487409.00297118793,
          484957.3928846634,
          547456.0196316729,
          592611.3006634526,
          613067.624628979,
          651213.4915870556,
          475760.6112496761,
          428012.4311597048,
          614998.7790637136,
          641580.7922311458,
          595280.2982639848,
          563947.2071568898,
          543958.3994608137,
          530798.6908180926,
          521907.8735582499,
          515785.2017435684,
          506037.78522464936,
          484615.0131562288,
          466149.22668001574,
          450319.78430015605,
          436816.96427775675,
          425347.9873856299
         ],
         "yaxis": "y"
        },
        {
         "legendgroup": "Target",
         "marker": {
          "color": "black",
          "size": 5
         },
         "mode": "markers",
         "name": "Case notifications (WHO)",
         "type": "scatter",
         "x": [
          2014,
          2015,
          2016,
          2017,
          2018,
          2019,
          2020,
          2021,
          2022,
          2023
         ],
         "xaxis": "x",
         "y": [
          322806,
          331703,
          364671,
          442172,
          568865,
          559847,
          384025,
          432577,
          708658,
          804836
         ],
         "yaxis": "y"
        },
        {
         "fill": "tonexty",
         "fillcolor": "rgba(27,158,119,0.2)",
         "line": {
          "color": "rgb(27,158,119)",
          "width": 0
         },
         "marker": {
          "color": "rgb(27,158,119)"
         },
         "mode": "lines",
         "name": "0.025",
         "showlegend": false,
         "type": "scatter",
         "x": [
          2010,
          2011,
          2012,
          2013,
          2014,
          2015,
          2016,
          2017,
          2018,
          2019,
          2020,
          2021,
          2022,
          2023,
          2024,
          2025,
          2026,
          2027,
          2028,
          2029,
          2030,
          2031,
          2032,
          2033,
          2034,
          2035
         ],
         "xaxis": "x2",
         "y": [
          134939.60075189336,
          183939.8201222862,
          231254.4779634392,
          285938.9738951391,
          309428.9050539083,
          308491.0180891035,
          305146.162687543,
          300114.1185356684,
          347041.25590457686,
          386739.8564754746,
          325473.41715535545,
          366757.1813434122,
          495045.08078400686,
          519762.87244155986,
          502739.405112629,
          488952.73503523937,
          477799.4723971113,
          468808.1430057417,
          461539.563884029,
          455444.88548510603,
          450745.31254429277,
          447182.32559356076,
          444549.6021343683,
          442678.784531737,
          441434.6569696895,
          440707.6245180112
         ],
         "yaxis": "y2"
        },
        {
         "fill": "tonexty",
         "fillcolor": "rgba(27,158,119,0.2)",
         "line": {
          "color": "rgb(27,158,119)",
          "width": 0
         },
         "marker": {
          "color": "rgb(27,158,119)"
         },
         "mode": "lines",
         "name": "0.25",
         "showlegend": false,
         "type": "scatter",
         "x": [
          2010,
          2011,
          2012,
          2013,
          2014,
          2015,
          2016,
          2017,
          2018,
          2019,
          2020,
          2021,
          2022,
          2023,
          2024,
          2025,
          2026,
          2027,
          2028,
          2029,
          2030,
          2031,
          2032,
          2033,
          2034,
          2035
         ],
         "xaxis": "x2",
         "y": [
          296385.7802275184,
          315302.48200891865,
          332400.19965689234,
          339108.725331267,
          354190.6379552376,
          356934.9380476122,
          348612.49766811816,
          341095.66226772516,
          402324.0765226744,
          448872.27825035306,
          369419.55091205786,
          438215.1477561614,
          627260.9339071315,
          655104.3559624297,
          646544.698204079,
          636515.4838839644,
          625525.4033785812,
          618029.219284063,
          612549.509328898,
          608355.6811330854,
          605073.203481076,
          602487.8367894243,
          600472.0861073864,
          598941.7449847553,
          597834.5690419797,
          597110.4060773992
         ],
         "yaxis": "y2"
        },
        {
         "fill": "tonexty",
         "fillcolor": "rgba(27,158,119,0.2)",
         "line": {
          "color": "rgb(27,158,119)",
          "width": 0
         },
         "marker": {
          "color": "rgb(27,158,119)"
         },
         "mode": "lines",
         "name": "0.5",
         "showlegend": false,
         "type": "scatter",
         "x": [
          2010,
          2011,
          2012,
          2013,
          2014,
          2015,
          2016,
          2017,
          2018,
          2019,
          2020,
          2021,
          2022,
          2023,
          2024,
          2025,
          2026,
          2027,
          2028,
          2029,
          2030,
          2031,
          2032,
          2033,
          2034,
          2035
         ],
         "xaxis": "x2",
         "y": [
          338823.1040985823,
          401248.59382395505,
          393810.4866357652,
          406948.7503069583,
          410122.3177815195,
          433864.12790163886,
          423057.6857677434,
          404211.64352433366,
          463368.23368103907,
          508424.08118127764,
          412230.28098552756,
          487581.4083746209,
          688352.2097166728,
          710589.6742749684,
          681899.3621316967,
          660605.467968385,
          653298.3799256089,
          648640.0351576325,
          647965.7497266268,
          648633.3960076141,
          650269.1066171991,
          652633.4614608493,
          655522.4922839876,
          657808.6378925999,
          660696.1048918667,
          661476.5325733927
         ],
         "yaxis": "y2"
        },
        {
         "fill": "tonexty",
         "fillcolor": "rgba(27,158,119,0.2)",
         "line": {
          "color": "rgb(27,158,119)",
          "width": 0
         },
         "marker": {
          "color": "rgb(27,158,119)"
         },
         "mode": "lines",
         "name": "0.75",
         "showlegend": false,
         "type": "scatter",
         "x": [
          2010,
          2011,
          2012,
          2013,
          2014,
          2015,
          2016,
          2017,
          2018,
          2019,
          2020,
          2021,
          2022,
          2023,
          2024,
          2025,
          2026,
          2027,
          2028,
          2029,
          2030,
          2031,
          2032,
          2033,
          2034,
          2035
         ],
         "xaxis": "x2",
         "y": [
          414772.72330072394,
          429397.6855972139,
          447601.4048317368,
          462412.55818649573,
          475386.76685188815,
          486789.7377417054,
          485672.2920351792,
          493393.50225794537,
          533525.3999966373,
          592334.8310596253,
          434150.8815657468,
          511929.5509948574,
          808395.2598549409,
          794427.1649661683,
          746677.2281375239,
          720375.7595733008,
          709879.8621227986,
          703730.4224738072,
          700574.402547735,
          699540.1944090106,
          695184.0599445497,
          691439.3963971967,
          689570.7911323651,
          689246.7685114515,
          690195.4690924198,
          692185.8123798629
         ],
         "yaxis": "y2"
        },
        {
         "fill": "tonexty",
         "fillcolor": "rgba(27,158,119,0.2)",
         "line": {
          "color": "rgb(27,158,119)",
          "width": 0
         },
         "marker": {
          "color": "rgb(27,158,119)"
         },
         "mode": "lines",
         "name": "0.975",
         "showlegend": false,
         "type": "scatter",
         "x": [
          2010,
          2011,
          2012,
          2013,
          2014,
          2015,
          2016,
          2017,
          2018,
          2019,
          2020,
          2021,
          2022,
          2023,
          2024,
          2025,
          2026,
          2027,
          2028,
          2029,
          2030,
          2031,
          2032,
          2033,
          2034,
          2035
         ],
         "xaxis": "x2",
         "y": [
          989847.962175359,
          911938.1982048458,
          810063.3788254114,
          707507.632653998,
          632698.1680880975,
          610489.2870683786,
          585411.8610885101,
          566531.8325097079,
          594731.1023832734,
          628794.5589432771,
          564620.4867129495,
          622521.0108556958,
          906405.8797591722,
          949427.7276120828,
          915822.968374733,
          898292.439788426,
          882922.2990145679,
          869652.9899116526,
          858374.9273797997,
          848947.9416664486,
          841227.114512415,
          835071.0469472766,
          830343.2898133905,
          826913.5287560568,
          824657.27760438,
          823453.7069425718
         ],
         "yaxis": "y2"
        },
        {
         "fillcolor": "rgba(27,158,119,0.2)",
         "line": {
          "color": "rgb(27,158,119)",
          "width": 2
         },
         "marker": {
          "color": "rgb(27,158,119)"
         },
         "mode": "lines",
         "name": "Without Xpert improvement",
         "showlegend": false,
         "type": "scatter",
         "x": [
          2010,
          2011,
          2012,
          2013,
          2014,
          2015,
          2016,
          2017,
          2018,
          2019,
          2020,
          2021,
          2022,
          2023,
          2024,
          2025,
          2026,
          2027,
          2028,
          2029,
          2030,
          2031,
          2032,
          2033,
          2034,
          2035
         ],
         "xaxis": "x2",
         "y": [
          338823.1040985823,
          401248.59382395505,
          393810.4866357652,
          406948.7503069583,
          410122.3177815195,
          433864.12790163886,
          423057.6857677434,
          404211.64352433366,
          463368.23368103907,
          508424.08118127764,
          412230.28098552756,
          487581.4083746209,
          688352.2097166728,
          710589.6742749684,
          681899.3621316967,
          660605.467968385,
          653298.3799256089,
          648640.0351576325,
          647965.7497266268,
          648633.3960076141,
          650269.1066171991,
          652633.4614608493,
          655522.4922839876,
          657808.6378925999,
          660696.1048918667,
          661476.5325733927
         ],
         "yaxis": "y2"
        },
        {
         "fill": "tonexty",
         "fillcolor": "rgba(217,95,2,0.2)",
         "line": {
          "color": "rgb(217,95,2)",
          "width": 0
         },
         "marker": {
          "color": "rgb(217,95,2)"
         },
         "mode": "lines",
         "name": "0.025",
         "showlegend": false,
         "type": "scatter",
         "x": [
          2010,
          2011,
          2012,
          2013,
          2014,
          2015,
          2016,
          2017,
          2018,
          2019,
          2020,
          2021,
          2022,
          2023,
          2024,
          2025,
          2026,
          2027,
          2028,
          2029,
          2030,
          2031,
          2032,
          2033,
          2034,
          2035
         ],
         "xaxis": "x2",
         "y": [
          78906.37766141225,
          99825.56665821944,
          128913.8721907813,
          168776.4915361596,
          191625.06782876267,
          200524.94026016127,
          262506.2494219501,
          281842.85742727516,
          361303.154058512,
          399621.7781527354,
          283792.88123684993,
          254575.74131133762,
          408067.01795140485,
          436818.0552107236,
          400860.36361915356,
          371604.73875998857,
          349843.8924505385,
          333400.14250900364,
          320841.6947019144,
          311187.67131764884,
          303748.8633045978,
          298025.2691526331,
          293646.77359975025,
          290334.087924524,
          287873.1487737253,
          286097.61727276345
         ],
         "yaxis": "y2"
        },
        {
         "fill": "tonexty",
         "fillcolor": "rgba(217,95,2,0.2)",
         "line": {
          "color": "rgb(217,95,2)",
          "width": 0
         },
         "marker": {
          "color": "rgb(217,95,2)"
         },
         "mode": "lines",
         "name": "0.25",
         "showlegend": false,
         "type": "scatter",
         "x": [
          2010,
          2011,
          2012,
          2013,
          2014,
          2015,
          2016,
          2017,
          2018,
          2019,
          2020,
          2021,
          2022,
          2023,
          2024,
          2025,
          2026,
          2027,
          2028,
          2029,
          2030,
          2031,
          2032,
          2033,
          2034,
          2035
         ],
         "xaxis": "x2",
         "y": [
          227050.0799297064,
          238883.7494100132,
          249931.78739233955,
          260163.68193417415,
          264085.90987328906,
          287874.3007938613,
          302154.517297022,
          321701.9898612214,
          389226.2404153715,
          470109.78279082227,
          395153.52690768207,
          407361.0792463021,
          570288.1461773401,
          634618.05591128,
          595822.3122860494,
          560604.9599868272,
          532889.1073972908,
          515879.3474010137,
          504926.54523122474,
          496819.62544202886,
          490971.0747732179,
          486937.8577056789,
          484380.2930000997,
          483034.6303675304,
          482687.92464673286,
          483171.79227180756
         ],
         "yaxis": "y2"
        },
        {
         "fill": "tonexty",
         "fillcolor": "rgba(217,95,2,0.2)",
         "line": {
          "color": "rgb(217,95,2)",
          "width": 0
         },
         "marker": {
          "color": "rgb(217,95,2)"
         },
         "mode": "lines",
         "name": "0.5",
         "showlegend": false,
         "type": "scatter",
         "x": [
          2010,
          2011,
          2012,
          2013,
          2014,
          2015,
          2016,
          2017,
          2018,
          2019,
          2020,
          2021,
          2022,
          2023,
          2024,
          2025,
          2026,
          2027,
          2028,
          2029,
          2030,
          2031,
          2032,
          2033,
          2034,
          2035
         ],
         "xaxis": "x2",
         "y": [
          292314.48450343113,
          309350.6676440739,
          307690.1948001991,
          304605.3442994265,
          310415.38484784967,
          322840.4765068902,
          336616.750216441,
          350880.89887530525,
          423836.565378439,
          542712.5907710065,
          437891.96674389305,
          490825.28446758207,
          702680.6668628429,
          800695.2212707469,
          745202.6266265749,
          701867.3665555757,
          684060.4600705397,
          676410.4283975103,
          673453.2190235886,
          673022.2626209647,
          674107.4698568637,
          676191.1706224056,
          678948.7768419102,
          682175.9511292153,
          681564.9108150062,
          680924.1237885056
         ],
         "yaxis": "y2"
        },
        {
         "fill": "tonexty",
         "fillcolor": "rgba(217,95,2,0.2)",
         "line": {
          "color": "rgb(217,95,2)",
          "width": 0
         },
         "marker": {
          "color": "rgb(217,95,2)"
         },
         "mode": "lines",
         "name": "0.75",
         "showlegend": false,
         "type": "scatter",
         "x": [
          2010,
          2011,
          2012,
          2013,
          2014,
          2015,
          2016,
          2017,
          2018,
          2019,
          2020,
          2021,
          2022,
          2023,
          2024,
          2025,
          2026,
          2027,
          2028,
          2029,
          2030,
          2031,
          2032,
          2033,
          2034,
          2035
         ],
         "xaxis": "x2",
         "y": [
          343484.76765075757,
          345250.89083472826,
          356831.63379679166,
          361543.0732298018,
          349724.85208067857,
          333179.94805803197,
          382082.54203270737,
          415328.7021378847,
          527491.6200089701,
          616635.5504751992,
          479212.9337020813,
          545334.2566917012,
          882112.9195725129,
          892242.0349485911,
          834760.6326201966,
          794569.1765565376,
          768054.3822036878,
          749092.9503356158,
          735453.839786578,
          725787.1251165912,
          719198.5646571819,
          718875.5930819712,
          722241.7259747044,
          726494.1442401417,
          731357.0296506161,
          736629.7949654774
         ],
         "yaxis": "y2"
        },
        {
         "fill": "tonexty",
         "fillcolor": "rgba(217,95,2,0.2)",
         "line": {
          "color": "rgb(217,95,2)",
          "width": 0
         },
         "marker": {
          "color": "rgb(217,95,2)"
         },
         "mode": "lines",
         "name": "0.975",
         "showlegend": false,
         "type": "scatter",
         "x": [
          2010,
          2011,
          2012,
          2013,
          2014,
          2015,
          2016,
          2017,
          2018,
          2019,
          2020,
          2021,
          2022,
          2023,
          2024,
          2025,
          2026,
          2027,
          2028,
          2029,
          2030,
          2031,
          2032,
          2033,
          2034,
          2035
         ],
         "xaxis": "x2",
         "y": [
          462772.87997472787,
          584218.4902677147,
          689058.6875844146,
          743100.3739314375,
          731444.9278912423,
          671396.6350069733,
          628081.2305206141,
          575659.6873813061,
          626555.6777266725,
          744490.7035958628,
          761467.8563629928,
          841399.3521945855,
          1187601.385929293,
          1304479.516446407,
          1199640.035897319,
          1138487.6003423051,
          1103426.6941525843,
          1082972.1480257993,
          1071581.1489753406,
          1066286.9320587162,
          1065285.5848611454,
          1067436.106328125,
          1071931.329843582,
          1078175.2749521907,
          1085757.8893354249,
          1094319.5922910029
         ],
         "yaxis": "y2"
        },
        {
         "fillcolor": "rgba(217,95,2,0.2)",
         "line": {
          "color": "rgb(217,95,2)",
          "width": 2
         },
         "marker": {
          "color": "rgb(217,95,2)"
         },
         "mode": "lines",
         "name": "With Xpert improvement",
         "showlegend": false,
         "type": "scatter",
         "x": [
          2010,
          2011,
          2012,
          2013,
          2014,
          2015,
          2016,
          2017,
          2018,
          2019,
          2020,
          2021,
          2022,
          2023,
          2024,
          2025,
          2026,
          2027,
          2028,
          2029,
          2030,
          2031,
          2032,
          2033,
          2034,
          2035
         ],
         "xaxis": "x2",
         "y": [
          292314.48450343113,
          309350.6676440739,
          307690.1948001991,
          304605.3442994265,
          310415.38484784967,
          322840.4765068902,
          336616.750216441,
          350880.89887530525,
          423836.565378439,
          542712.5907710065,
          437891.96674389305,
          490825.28446758207,
          702680.6668628429,
          800695.2212707469,
          745202.6266265749,
          701867.3665555757,
          684060.4600705397,
          676410.4283975103,
          673453.2190235886,
          673022.2626209647,
          674107.4698568637,
          676191.1706224056,
          678948.7768419102,
          682175.9511292153,
          681564.9108150062,
          680924.1237885056
         ],
         "yaxis": "y2"
        },
        {
         "legendgroup": "Target",
         "marker": {
          "color": "black",
          "size": 5
         },
         "mode": "markers",
         "name": "Case notifications (WHO)",
         "showlegend": false,
         "type": "scatter",
         "x": [
          2014,
          2015,
          2016,
          2017,
          2018,
          2019,
          2020,
          2021,
          2022,
          2023
         ],
         "xaxis": "x2",
         "y": [
          322806,
          331703,
          364671,
          442172,
          568865,
          559847,
          384025,
          432577,
          708658,
          804836
         ],
         "yaxis": "y2"
        },
        {
         "fill": "tonexty",
         "fillcolor": "rgba(27,158,119,0.2)",
         "line": {
          "color": "rgb(27,158,119)",
          "width": 0
         },
         "marker": {
          "color": "rgb(27,158,119)"
         },
         "mode": "lines",
         "name": "0.025",
         "showlegend": false,
         "type": "scatter",
         "x": [
          2010,
          2011,
          2012,
          2013,
          2014,
          2015,
          2016,
          2017,
          2018,
          2019,
          2020,
          2021,
          2022,
          2023,
          2024,
          2025,
          2026,
          2027,
          2028,
          2029,
          2030,
          2031,
          2032,
          2033,
          2034,
          2035
         ],
         "xaxis": "x3",
         "y": [
          153541.293302877,
          191961.65001447906,
          227537.68967921037,
          261401.72008502806,
          285913.342345874,
          298890.03658037644,
          307076.7633064902,
          312371.8218978083,
          360467.58187395893,
          418103.30373137025,
          279042.8443488839,
          320147.91371601634,
          526807.3889239002,
          538019.6747463584,
          529467.1755279603,
          505864.10430012655,
          486650.5595614425,
          469576.00319639454,
          453989.3907343809,
          441255.3314301111,
          429527.6613947816,
          420620.8961162786,
          413863.40698266856,
          408764.5024645575,
          404953.2835384627,
          402153.09542537405
         ],
         "yaxis": "y3"
        },
        {
         "fill": "tonexty",
         "fillcolor": "rgba(27,158,119,0.2)",
         "line": {
          "color": "rgb(27,158,119)",
          "width": 0
         },
         "marker": {
          "color": "rgb(27,158,119)"
         },
         "mode": "lines",
         "name": "0.25",
         "showlegend": false,
         "type": "scatter",
         "x": [
          2010,
          2011,
          2012,
          2013,
          2014,
          2015,
          2016,
          2017,
          2018,
          2019,
          2020,
          2021,
          2022,
          2023,
          2024,
          2025,
          2026,
          2027,
          2028,
          2029,
          2030,
          2031,
          2032,
          2033,
          2034,
          2035
         ],
         "xaxis": "x3",
         "y": [
          237325.89905528977,
          267496.3990304101,
          304576.67575487297,
          330437.7406901632,
          351129.89707673615,
          371943.07244074316,
          394699.8234606079,
          411273.23882561637,
          453015.99973376736,
          497479.52171662543,
          355365.4953398254,
          397781.1592867972,
          611162.6995575354,
          609570.2169870324,
          601882.9685510122,
          577590.6242637213,
          545452.3774282301,
          525652.8587777172,
          510825.85433573305,
          498416.95175083843,
          488074.81954468554,
          479509.9209182237,
          472480.9722873946,
          466780.45999488817,
          462228.3492285132,
          458670.707387984
         ],
         "yaxis": "y3"
        },
        {
         "fill": "tonexty",
         "fillcolor": "rgba(27,158,119,0.2)",
         "line": {
          "color": "rgb(27,158,119)",
          "width": 0
         },
         "marker": {
          "color": "rgb(27,158,119)"
         },
         "mode": "lines",
         "name": "0.5",
         "showlegend": false,
         "type": "scatter",
         "x": [
          2010,
          2011,
          2012,
          2013,
          2014,
          2015,
          2016,
          2017,
          2018,
          2019,
          2020,
          2021,
          2022,
          2023,
          2024,
          2025,
          2026,
          2027,
          2028,
          2029,
          2030,
          2031,
          2032,
          2033,
          2034,
          2035
         ],
         "xaxis": "x3",
         "y": [
          293159.12634135125,
          310424.24323504977,
          325509.33622497506,
          347884.6205259583,
          380450.2520612362,
          416688.8814899685,
          419733.43941681425,
          427059.184058657,
          473839.6019148522,
          526133.141705431,
          424623.39578986494,
          481125.7639278832,
          735596.4434436332,
          705564.5765444052,
          687100.5337928417,
          655152.4638224308,
          628404.425811257,
          605986.4147136661,
          587229.255143387,
          571582.8460025885,
          558593.1507183034,
          547892.7926306879,
          539167.9602649054,
          532157.697934689,
          526638.2377584934,
          522416.5622294833
         ],
         "yaxis": "y3"
        },
        {
         "fill": "tonexty",
         "fillcolor": "rgba(27,158,119,0.2)",
         "line": {
          "color": "rgb(27,158,119)",
          "width": 0
         },
         "marker": {
          "color": "rgb(27,158,119)"
         },
         "mode": "lines",
         "name": "0.75",
         "showlegend": false,
         "type": "scatter",
         "x": [
          2010,
          2011,
          2012,
          2013,
          2014,
          2015,
          2016,
          2017,
          2018,
          2019,
          2020,
          2021,
          2022,
          2023,
          2024,
          2025,
          2026,
          2027,
          2028,
          2029,
          2030,
          2031,
          2032,
          2033,
          2034,
          2035
         ],
         "xaxis": "x3",
         "y": [
          345120.65556752536,
          390771.8091239144,
          426269.58879971126,
          435519.8777715281,
          440561.7038250033,
          443882.9544331912,
          465509.80005365156,
          491218.338793377,
          535943.8131009372,
          623214.1217974981,
          543618.0503320529,
          621184.5984761526,
          803201.761123815,
          863904.0701715199,
          859674.0779514192,
          817805.8288668343,
          785315.5480198353,
          760221.7602812214,
          743602.1296162996,
          732756.0938821122,
          720536.9919756111,
          709431.406811572,
          702564.1590867967,
          699285.6684933498,
          697664.4786084739,
          698773.4416132234
         ],
         "yaxis": "y3"
        },
        {
         "fill": "tonexty",
         "fillcolor": "rgba(27,158,119,0.2)",
         "line": {
          "color": "rgb(27,158,119)",
          "width": 0
         },
         "marker": {
          "color": "rgb(27,158,119)"
         },
         "mode": "lines",
         "name": "0.975",
         "showlegend": false,
         "type": "scatter",
         "x": [
          2010,
          2011,
          2012,
          2013,
          2014,
          2015,
          2016,
          2017,
          2018,
          2019,
          2020,
          2021,
          2022,
          2023,
          2024,
          2025,
          2026,
          2027,
          2028,
          2029,
          2030,
          2031,
          2032,
          2033,
          2034,
          2035
         ],
         "xaxis": "x3",
         "y": [
          556604.7491872697,
          559797.9024517395,
          555811.8617984641,
          557299.3387745469,
          552158.3202227486,
          543215.4289401228,
          544058.0855730252,
          555404.4390774659,
          587478.4908549907,
          730511.4169365265,
          651414.8416893486,
          802585.0532029343,
          1146121.2388823181,
          1191548.5488161878,
          1156262.3523541566,
          1067966.1579812784,
          1007293.2082116811,
          970711.6998822406,
          945309.8406706413,
          928145.3852261909,
          917151.6077040548,
          910832.8738793497,
          908102.6273967891,
          908126.28499398,
          910267.1369207894,
          914022.232146385
         ],
         "yaxis": "y3"
        },
        {
         "fillcolor": "rgba(27,158,119,0.2)",
         "line": {
          "color": "rgb(27,158,119)",
          "width": 2
         },
         "marker": {
          "color": "rgb(27,158,119)"
         },
         "mode": "lines",
         "name": "Without Xpert improvement",
         "showlegend": false,
         "type": "scatter",
         "x": [
          2010,
          2011,
          2012,
          2013,
          2014,
          2015,
          2016,
          2017,
          2018,
          2019,
          2020,
          2021,
          2022,
          2023,
          2024,
          2025,
          2026,
          2027,
          2028,
          2029,
          2030,
          2031,
          2032,
          2033,
          2034,
          2035
         ],
         "xaxis": "x3",
         "y": [
          293159.12634135125,
          310424.24323504977,
          325509.33622497506,
          347884.6205259583,
          380450.2520612362,
          416688.8814899685,
          419733.43941681425,
          427059.184058657,
          473839.6019148522,
          526133.141705431,
          424623.39578986494,
          481125.7639278832,
          735596.4434436332,
          705564.5765444052,
          687100.5337928417,
          655152.4638224308,
          628404.425811257,
          605986.4147136661,
          587229.255143387,
          571582.8460025885,
          558593.1507183034,
          547892.7926306879,
          539167.9602649054,
          532157.697934689,
          526638.2377584934,
          522416.5622294833
         ],
         "yaxis": "y3"
        },
        {
         "fill": "tonexty",
         "fillcolor": "rgba(217,95,2,0.2)",
         "line": {
          "color": "rgb(217,95,2)",
          "width": 0
         },
         "marker": {
          "color": "rgb(217,95,2)"
         },
         "mode": "lines",
         "name": "0.025",
         "showlegend": false,
         "type": "scatter",
         "x": [
          2010,
          2011,
          2012,
          2013,
          2014,
          2015,
          2016,
          2017,
          2018,
          2019,
          2020,
          2021,
          2022,
          2023,
          2024,
          2025,
          2026,
          2027,
          2028,
          2029,
          2030,
          2031,
          2032,
          2033,
          2034,
          2035
         ],
         "xaxis": "x3",
         "y": [
          125233.10453062863,
          161258.3164826904,
          196591.23135715464,
          224255.06331028536,
          242253.51461149444,
          257852.1014750958,
          286915.2132404528,
          308962.0025936536,
          398066.13701384387,
          504153.8942310697,
          379805.96404754533,
          363293.54151724756,
          573770.3498106778,
          598005.1575621103,
          555534.8928872147,
          504366.4177302418,
          462915.2647873631,
          428010.3611404255,
          400851.95930503437,
          381012.42760545993,
          364301.2988661691,
          349662.2612254787,
          338802.13733176,
          330663.298421007,
          324507.4033658274,
          319807.4814379517
         ],
         "yaxis": "y3"
        },
        {
         "fill": "tonexty",
         "fillcolor": "rgba(217,95,2,0.2)",
         "line": {
          "color": "rgb(217,95,2)",
          "width": 0
         },
         "marker": {
          "color": "rgb(217,95,2)"
         },
         "mode": "lines",
         "name": "0.25",
         "showlegend": false,
         "type": "scatter",
         "x": [
          2010,
          2011,
          2012,
          2013,
          2014,
          2015,
          2016,
          2017,
          2018,
          2019,
          2020,
          2021,
          2022,
          2023,
          2024,
          2025,
          2026,
          2027,
          2028,
          2029,
          2030,
          2031,
          2032,
          2033,
          2034,
          2035
         ],
         "xaxis": "x3",
         "y": [
          181839.20652987072,
          227978.06616201584,
          244219.4104132732,
          257197.49906169245,
          269974.6431189669,
          278750.95956798515,
          360322.85830652295,
          419473.7789767906,
          485306.48069409723,
          591778.5974066412,
          408409.92218773393,
          444446.505754126,
          685119.8692289408,
          763031.8451944855,
          680697.5434124758,
          606542.4792468346,
          556347.8998532748,
          502215.50962980685,
          462653.30638289533,
          437861.6435864196,
          420700.0859807629,
          403926.59548068454,
          393391.1006682074,
          385204.05911938124,
          378787.7854342449,
          373715.7805092579
         ],
         "yaxis": "y3"
        },
        {
         "fill": "tonexty",
         "fillcolor": "rgba(217,95,2,0.2)",
         "line": {
          "color": "rgb(217,95,2)",
          "width": 0
         },
         "marker": {
          "color": "rgb(217,95,2)"
         },
         "mode": "lines",
         "name": "0.5",
         "showlegend": false,
         "type": "scatter",
         "x": [
          2010,
          2011,
          2012,
          2013,
          2014,
          2015,
          2016,
          2017,
          2018,
          2019,
          2020,
          2021,
          2022,
          2023,
          2024,
          2025,
          2026,
          2027,
          2028,
          2029,
          2030,
          2031,
          2032,
          2033,
          2034,
          2035
         ],
         "xaxis": "x3",
         "y": [
          251181.5318161903,
          269046.86354927183,
          319860.31764843117,
          331307.53668539395,
          341958.1522903978,
          352461.5455170636,
          426007.3578284725,
          457953.7973596606,
          498473.46764548466,
          641242.8810493331,
          494072.47679249727,
          507071.355398907,
          791840.5728095588,
          820407.4693622473,
          761956.818469285,
          695646.4656589273,
          660026.7420488307,
          623575.1351105508,
          580376.1365021777,
          538467.0361650013,
          508298.41056408297,
          486327.8332308008,
          474304.61031092727,
          465090.17559927225,
          452700.95893198246,
          442592.9938143014
         ],
         "yaxis": "y3"
        },
        {
         "fill": "tonexty",
         "fillcolor": "rgba(217,95,2,0.2)",
         "line": {
          "color": "rgb(217,95,2)",
          "width": 0
         },
         "marker": {
          "color": "rgb(217,95,2)"
         },
         "mode": "lines",
         "name": "0.75",
         "showlegend": false,
         "type": "scatter",
         "x": [
          2010,
          2011,
          2012,
          2013,
          2014,
          2015,
          2016,
          2017,
          2018,
          2019,
          2020,
          2021,
          2022,
          2023,
          2024,
          2025,
          2026,
          2027,
          2028,
          2029,
          2030,
          2031,
          2032,
          2033,
          2034,
          2035
         ],
         "xaxis": "x3",
         "y": [
          328438.70617355546,
          352893.1074505151,
          375682.5125723443,
          410610.7775037625,
          427906.1919574504,
          443986.629122925,
          483485.8647762061,
          542552.5235626891,
          608931.8756878696,
          730648.0764368401,
          629629.4827911614,
          696664.3764344878,
          926153.6727903873,
          945199.160495312,
          837518.2188041598,
          745056.7837242861,
          697282.9304315018,
          659547.980060059,
          639939.1104884648,
          632777.3866065043,
          629435.3342289648,
          627281.6333298992,
          626103.431581804,
          623887.6976743506,
          622536.3642643164,
          622375.6152000468
         ],
         "yaxis": "y3"
        },
        {
         "fill": "tonexty",
         "fillcolor": "rgba(217,95,2,0.2)",
         "line": {
          "color": "rgb(217,95,2)",
          "width": 0
         },
         "marker": {
          "color": "rgb(217,95,2)"
         },
         "mode": "lines",
         "name": "0.975",
         "showlegend": false,
         "type": "scatter",
         "x": [
          2010,
          2011,
          2012,
          2013,
          2014,
          2015,
          2016,
          2017,
          2018,
          2019,
          2020,
          2021,
          2022,
          2023,
          2024,
          2025,
          2026,
          2027,
          2028,
          2029,
          2030,
          2031,
          2032,
          2033,
          2034,
          2035
         ],
         "xaxis": "x3",
         "y": [
          1245491.639275022,
          1261046.3521526577,
          1216127.157849162,
          1134719.4641678706,
          1041672.5049038404,
          956181.0468039962,
          904816.2444020468,
          855455.2350209466,
          851021.2411128902,
          902237.9707856589,
          764510.6977816201,
          761606.5442049449,
          1140356.3736701927,
          1137566.9230052303,
          1009261.9007346483,
          861200.3152553866,
          791246.6393765537,
          743822.35649327,
          709264.0597100987,
          683942.9260367478,
          665329.6374653953,
          651660.0624923538,
          642332.1099992704,
          638595.4431425421,
          638627.5588613008,
          639662.5943458433
         ],
         "yaxis": "y3"
        },
        {
         "fillcolor": "rgba(217,95,2,0.2)",
         "line": {
          "color": "rgb(217,95,2)",
          "width": 2
         },
         "marker": {
          "color": "rgb(217,95,2)"
         },
         "mode": "lines",
         "name": "With Xpert improvement",
         "showlegend": false,
         "type": "scatter",
         "x": [
          2010,
          2011,
          2012,
          2013,
          2014,
          2015,
          2016,
          2017,
          2018,
          2019,
          2020,
          2021,
          2022,
          2023,
          2024,
          2025,
          2026,
          2027,
          2028,
          2029,
          2030,
          2031,
          2032,
          2033,
          2034,
          2035
         ],
         "xaxis": "x3",
         "y": [
          251181.5318161903,
          269046.86354927183,
          319860.31764843117,
          331307.53668539395,
          341958.1522903978,
          352461.5455170636,
          426007.3578284725,
          457953.7973596606,
          498473.46764548466,
          641242.8810493331,
          494072.47679249727,
          507071.355398907,
          791840.5728095588,
          820407.4693622473,
          761956.818469285,
          695646.4656589273,
          660026.7420488307,
          623575.1351105508,
          580376.1365021777,
          538467.0361650013,
          508298.41056408297,
          486327.8332308008,
          474304.61031092727,
          465090.17559927225,
          452700.95893198246,
          442592.9938143014
         ],
         "yaxis": "y3"
        },
        {
         "legendgroup": "Target",
         "marker": {
          "color": "black",
          "size": 5
         },
         "mode": "markers",
         "name": "Case notifications (WHO)",
         "showlegend": false,
         "type": "scatter",
         "x": [
          2014,
          2015,
          2016,
          2017,
          2018,
          2019,
          2020,
          2021,
          2022,
          2023
         ],
         "xaxis": "x3",
         "y": [
          322806,
          331703,
          364671,
          442172,
          568865,
          559847,
          384025,
          432577,
          708658,
          804836
         ],
         "yaxis": "y3"
        }
       ],
       "layout": {
        "annotations": [
         {
          "font": {
           "size": 16
          },
          "showarrow": false,
          "text": "<b>No CDR</b>",
          "x": 0.5,
          "xanchor": "center",
          "xref": "paper",
          "y": 1,
          "yanchor": "bottom",
          "yref": "paper"
         },
         {
          "font": {
           "size": 16
          },
          "showarrow": false,
          "text": "<b>CDR on notification</b>",
          "x": 0.5,
          "xanchor": "center",
          "xref": "paper",
          "y": 0.6399999999999999,
          "yanchor": "bottom",
          "yref": "paper"
         },
         {
          "font": {
           "size": 16
          },
          "showarrow": false,
          "text": "<b>CDR on treatment commencement</b>",
          "x": 0.5,
          "xanchor": "center",
          "xref": "paper",
          "y": 0.27999999999999997,
          "yanchor": "bottom",
          "yref": "paper"
         },
         {
          "font": {
           "color": "#949191",
           "size": 9
          },
          "showarrow": false,
          "text": "1st inventory study",
          "textangle": -90,
          "x": 2017,
          "xanchor": "left",
          "xref": "x",
          "y": 0,
          "yanchor": "bottom",
          "yref": "y domain"
         },
         {
          "font": {
           "color": "#949191",
           "size": 9
          },
          "showarrow": false,
          "text": "2nd inventory study",
          "textangle": -90,
          "x": 2023,
          "xanchor": "left",
          "xref": "x",
          "y": 0,
          "yanchor": "bottom",
          "yref": "y domain"
         },
         {
          "font": {
           "color": "#949191",
           "size": 9
          },
          "showarrow": false,
          "text": "1st inventory study",
          "textangle": -90,
          "x": 2017,
          "xanchor": "left",
          "xref": "x2",
          "y": 0,
          "yanchor": "bottom",
          "yref": "y2 domain"
         },
         {
          "font": {
           "color": "#949191",
           "size": 9
          },
          "showarrow": false,
          "text": "2nd inventory study",
          "textangle": -90,
          "x": 2023,
          "xanchor": "left",
          "xref": "x2",
          "y": 0,
          "yanchor": "bottom",
          "yref": "y2 domain"
         },
         {
          "font": {
           "color": "#949191",
           "size": 9
          },
          "showarrow": false,
          "text": "1st inventory study",
          "textangle": -90,
          "x": 2017,
          "xanchor": "left",
          "xref": "x3",
          "y": 0,
          "yanchor": "bottom",
          "yref": "y3 domain"
         },
         {
          "font": {
           "color": "#949191",
           "size": 9
          },
          "showarrow": false,
          "text": "2nd inventory study",
          "textangle": -90,
          "x": 2023,
          "xanchor": "left",
          "xref": "x3",
          "y": 0,
          "yanchor": "bottom",
          "yref": "y3 domain"
         }
        ],
        "font": {
         "family": "Space Grotesk"
        },
        "height": 900,
        "legend": {
         "orientation": "h",
         "x": 0.5,
         "xanchor": "center",
         "y": -0.15,
         "yanchor": "bottom"
        },
        "margin": {
         "b": 20,
         "l": 20,
         "r": 20,
         "t": 20
        },
        "shapes": [
         {
          "line": {
           "color": "rgba(148, 145, 145, 0.5)",
           "dash": "dot",
           "width": 1
          },
          "type": "line",
          "x0": 2017,
          "x1": 2017,
          "xref": "x",
          "y0": 0,
          "y1": 1,
          "yref": "y domain"
         },
         {
          "line": {
           "color": "rgba(148, 145, 145, 0.5)",
           "dash": "dot",
           "width": 1
          },
          "type": "line",
          "x0": 2023,
          "x1": 2023,
          "xref": "x",
          "y0": 0,
          "y1": 1,
          "yref": "y domain"
         },
         {
          "line": {
           "color": "rgba(148, 145, 145, 0.5)",
           "dash": "dot",
           "width": 1
          },
          "type": "line",
          "x0": 2017,
          "x1": 2017,
          "xref": "x2",
          "y0": 0,
          "y1": 1,
          "yref": "y2 domain"
         },
         {
          "line": {
           "color": "rgba(148, 145, 145, 0.5)",
           "dash": "dot",
           "width": 1
          },
          "type": "line",
          "x0": 2023,
          "x1": 2023,
          "xref": "x2",
          "y0": 0,
          "y1": 1,
          "yref": "y2 domain"
         },
         {
          "line": {
           "color": "rgba(148, 145, 145, 0.5)",
           "dash": "dot",
           "width": 1
          },
          "type": "line",
          "x0": 2017,
          "x1": 2017,
          "xref": "x3",
          "y0": 0,
          "y1": 1,
          "yref": "y3 domain"
         },
         {
          "line": {
           "color": "rgba(148, 145, 145, 0.5)",
           "dash": "dot",
           "width": 1
          },
          "type": "line",
          "x0": 2023,
          "x1": 2023,
          "xref": "x3",
          "y0": 0,
          "y1": 1,
          "yref": "y3 domain"
         }
        ],
        "showlegend": true,
        "template": {
         "data": {
          "bar": [
           {
            "error_x": {
             "color": "#2a3f5f"
            },
            "error_y": {
             "color": "#2a3f5f"
            },
            "marker": {
             "line": {
              "color": "#E5ECF6",
              "width": 0.5
             },
             "pattern": {
              "fillmode": "overlay",
              "size": 10,
              "solidity": 0.2
             }
            },
            "type": "bar"
           }
          ],
          "barpolar": [
           {
            "marker": {
             "line": {
              "color": "#E5ECF6",
              "width": 0.5
             },
             "pattern": {
              "fillmode": "overlay",
              "size": 10,
              "solidity": 0.2
             }
            },
            "type": "barpolar"
           }
          ],
          "carpet": [
           {
            "aaxis": {
             "endlinecolor": "#2a3f5f",
             "gridcolor": "white",
             "linecolor": "white",
             "minorgridcolor": "white",
             "startlinecolor": "#2a3f5f"
            },
            "baxis": {
             "endlinecolor": "#2a3f5f",
             "gridcolor": "white",
             "linecolor": "white",
             "minorgridcolor": "white",
             "startlinecolor": "#2a3f5f"
            },
            "type": "carpet"
           }
          ],
          "choropleth": [
           {
            "colorbar": {
             "outlinewidth": 0,
             "ticks": ""
            },
            "type": "choropleth"
           }
          ],
          "contour": [
           {
            "colorbar": {
             "outlinewidth": 0,
             "ticks": ""
            },
            "colorscale": [
             [
              0,
              "#0d0887"
             ],
             [
              0.1111111111111111,
              "#46039f"
             ],
             [
              0.2222222222222222,
              "#7201a8"
             ],
             [
              0.3333333333333333,
              "#9c179e"
             ],
             [
              0.4444444444444444,
              "#bd3786"
             ],
             [
              0.5555555555555556,
              "#d8576b"
             ],
             [
              0.6666666666666666,
              "#ed7953"
             ],
             [
              0.7777777777777778,
              "#fb9f3a"
             ],
             [
              0.8888888888888888,
              "#fdca26"
             ],
             [
              1,
              "#f0f921"
             ]
            ],
            "type": "contour"
           }
          ],
          "contourcarpet": [
           {
            "colorbar": {
             "outlinewidth": 0,
             "ticks": ""
            },
            "type": "contourcarpet"
           }
          ],
          "heatmap": [
           {
            "colorbar": {
             "outlinewidth": 0,
             "ticks": ""
            },
            "colorscale": [
             [
              0,
              "#0d0887"
             ],
             [
              0.1111111111111111,
              "#46039f"
             ],
             [
              0.2222222222222222,
              "#7201a8"
             ],
             [
              0.3333333333333333,
              "#9c179e"
             ],
             [
              0.4444444444444444,
              "#bd3786"
             ],
             [
              0.5555555555555556,
              "#d8576b"
             ],
             [
              0.6666666666666666,
              "#ed7953"
             ],
             [
              0.7777777777777778,
              "#fb9f3a"
             ],
             [
              0.8888888888888888,
              "#fdca26"
             ],
             [
              1,
              "#f0f921"
             ]
            ],
            "type": "heatmap"
           }
          ],
          "heatmapgl": [
           {
            "colorbar": {
             "outlinewidth": 0,
             "ticks": ""
            },
            "colorscale": [
             [
              0,
              "#0d0887"
             ],
             [
              0.1111111111111111,
              "#46039f"
             ],
             [
              0.2222222222222222,
              "#7201a8"
             ],
             [
              0.3333333333333333,
              "#9c179e"
             ],
             [
              0.4444444444444444,
              "#bd3786"
             ],
             [
              0.5555555555555556,
              "#d8576b"
             ],
             [
              0.6666666666666666,
              "#ed7953"
             ],
             [
              0.7777777777777778,
              "#fb9f3a"
             ],
             [
              0.8888888888888888,
              "#fdca26"
             ],
             [
              1,
              "#f0f921"
             ]
            ],
            "type": "heatmapgl"
           }
          ],
          "histogram": [
           {
            "marker": {
             "pattern": {
              "fillmode": "overlay",
              "size": 10,
              "solidity": 0.2
             }
            },
            "type": "histogram"
           }
          ],
          "histogram2d": [
           {
            "colorbar": {
             "outlinewidth": 0,
             "ticks": ""
            },
            "colorscale": [
             [
              0,
              "#0d0887"
             ],
             [
              0.1111111111111111,
              "#46039f"
             ],
             [
              0.2222222222222222,
              "#7201a8"
             ],
             [
              0.3333333333333333,
              "#9c179e"
             ],
             [
              0.4444444444444444,
              "#bd3786"
             ],
             [
              0.5555555555555556,
              "#d8576b"
             ],
             [
              0.6666666666666666,
              "#ed7953"
             ],
             [
              0.7777777777777778,
              "#fb9f3a"
             ],
             [
              0.8888888888888888,
              "#fdca26"
             ],
             [
              1,
              "#f0f921"
             ]
            ],
            "type": "histogram2d"
           }
          ],
          "histogram2dcontour": [
           {
            "colorbar": {
             "outlinewidth": 0,
             "ticks": ""
            },
            "colorscale": [
             [
              0,
              "#0d0887"
             ],
             [
              0.1111111111111111,
              "#46039f"
             ],
             [
              0.2222222222222222,
              "#7201a8"
             ],
             [
              0.3333333333333333,
              "#9c179e"
             ],
             [
              0.4444444444444444,
              "#bd3786"
             ],
             [
              0.5555555555555556,
              "#d8576b"
             ],
             [
              0.6666666666666666,
              "#ed7953"
             ],
             [
              0.7777777777777778,
              "#fb9f3a"
             ],
             [
              0.8888888888888888,
              "#fdca26"
             ],
             [
              1,
              "#f0f921"
             ]
            ],
            "type": "histogram2dcontour"
           }
          ],
          "mesh3d": [
           {
            "colorbar": {
             "outlinewidth": 0,
             "ticks": ""
            },
            "type": "mesh3d"
           }
          ],
          "parcoords": [
           {
            "line": {
             "colorbar": {
              "outlinewidth": 0,
              "ticks": ""
             }
            },
            "type": "parcoords"
           }
          ],
          "pie": [
           {
            "automargin": true,
            "type": "pie"
           }
          ],
          "scatter": [
           {
            "fillpattern": {
             "fillmode": "overlay",
             "size": 10,
             "solidity": 0.2
            },
            "type": "scatter"
           }
          ],
          "scatter3d": [
           {
            "line": {
             "colorbar": {
              "outlinewidth": 0,
              "ticks": ""
             }
            },
            "marker": {
             "colorbar": {
              "outlinewidth": 0,
              "ticks": ""
             }
            },
            "type": "scatter3d"
           }
          ],
          "scattercarpet": [
           {
            "marker": {
             "colorbar": {
              "outlinewidth": 0,
              "ticks": ""
             }
            },
            "type": "scattercarpet"
           }
          ],
          "scattergeo": [
           {
            "marker": {
             "colorbar": {
              "outlinewidth": 0,
              "ticks": ""
             }
            },
            "type": "scattergeo"
           }
          ],
          "scattergl": [
           {
            "marker": {
             "colorbar": {
              "outlinewidth": 0,
              "ticks": ""
             }
            },
            "type": "scattergl"
           }
          ],
          "scattermapbox": [
           {
            "marker": {
             "colorbar": {
              "outlinewidth": 0,
              "ticks": ""
             }
            },
            "type": "scattermapbox"
           }
          ],
          "scatterpolar": [
           {
            "marker": {
             "colorbar": {
              "outlinewidth": 0,
              "ticks": ""
             }
            },
            "type": "scatterpolar"
           }
          ],
          "scatterpolargl": [
           {
            "marker": {
             "colorbar": {
              "outlinewidth": 0,
              "ticks": ""
             }
            },
            "type": "scatterpolargl"
           }
          ],
          "scatterternary": [
           {
            "marker": {
             "colorbar": {
              "outlinewidth": 0,
              "ticks": ""
             }
            },
            "type": "scatterternary"
           }
          ],
          "surface": [
           {
            "colorbar": {
             "outlinewidth": 0,
             "ticks": ""
            },
            "colorscale": [
             [
              0,
              "#0d0887"
             ],
             [
              0.1111111111111111,
              "#46039f"
             ],
             [
              0.2222222222222222,
              "#7201a8"
             ],
             [
              0.3333333333333333,
              "#9c179e"
             ],
             [
              0.4444444444444444,
              "#bd3786"
             ],
             [
              0.5555555555555556,
              "#d8576b"
             ],
             [
              0.6666666666666666,
              "#ed7953"
             ],
             [
              0.7777777777777778,
              "#fb9f3a"
             ],
             [
              0.8888888888888888,
              "#fdca26"
             ],
             [
              1,
              "#f0f921"
             ]
            ],
            "type": "surface"
           }
          ],
          "table": [
           {
            "cells": {
             "fill": {
              "color": "#EBF0F8"
             },
             "line": {
              "color": "white"
             }
            },
            "header": {
             "fill": {
              "color": "#C8D4E3"
             },
             "line": {
              "color": "white"
             }
            },
            "type": "table"
           }
          ]
         },
         "layout": {
          "annotationdefaults": {
           "arrowcolor": "#2a3f5f",
           "arrowhead": 0,
           "arrowwidth": 1
          },
          "autotypenumbers": "strict",
          "coloraxis": {
           "colorbar": {
            "outlinewidth": 0,
            "ticks": ""
           }
          },
          "colorscale": {
           "diverging": [
            [
             0,
             "#8e0152"
            ],
            [
             0.1,
             "#c51b7d"
            ],
            [
             0.2,
             "#de77ae"
            ],
            [
             0.3,
             "#f1b6da"
            ],
            [
             0.4,
             "#fde0ef"
            ],
            [
             0.5,
             "#f7f7f7"
            ],
            [
             0.6,
             "#e6f5d0"
            ],
            [
             0.7,
             "#b8e186"
            ],
            [
             0.8,
             "#7fbc41"
            ],
            [
             0.9,
             "#4d9221"
            ],
            [
             1,
             "#276419"
            ]
           ],
           "sequential": [
            [
             0,
             "#0d0887"
            ],
            [
             0.1111111111111111,
             "#46039f"
            ],
            [
             0.2222222222222222,
             "#7201a8"
            ],
            [
             0.3333333333333333,
             "#9c179e"
            ],
            [
             0.4444444444444444,
             "#bd3786"
            ],
            [
             0.5555555555555556,
             "#d8576b"
            ],
            [
             0.6666666666666666,
             "#ed7953"
            ],
            [
             0.7777777777777778,
             "#fb9f3a"
            ],
            [
             0.8888888888888888,
             "#fdca26"
            ],
            [
             1,
             "#f0f921"
            ]
           ],
           "sequentialminus": [
            [
             0,
             "#0d0887"
            ],
            [
             0.1111111111111111,
             "#46039f"
            ],
            [
             0.2222222222222222,
             "#7201a8"
            ],
            [
             0.3333333333333333,
             "#9c179e"
            ],
            [
             0.4444444444444444,
             "#bd3786"
            ],
            [
             0.5555555555555556,
             "#d8576b"
            ],
            [
             0.6666666666666666,
             "#ed7953"
            ],
            [
             0.7777777777777778,
             "#fb9f3a"
            ],
            [
             0.8888888888888888,
             "#fdca26"
            ],
            [
             1,
             "#f0f921"
            ]
           ]
          },
          "colorway": [
           "#636efa",
           "#EF553B",
           "#00cc96",
           "#ab63fa",
           "#FFA15A",
           "#19d3f3",
           "#FF6692",
           "#B6E880",
           "#FF97FF",
           "#FECB52"
          ],
          "font": {
           "color": "#2a3f5f"
          },
          "geo": {
           "bgcolor": "white",
           "lakecolor": "white",
           "landcolor": "#E5ECF6",
           "showlakes": true,
           "showland": true,
           "subunitcolor": "white"
          },
          "hoverlabel": {
           "align": "left"
          },
          "hovermode": "closest",
          "mapbox": {
           "style": "light"
          },
          "paper_bgcolor": "white",
          "plot_bgcolor": "#E5ECF6",
          "polar": {
           "angularaxis": {
            "gridcolor": "white",
            "linecolor": "white",
            "ticks": ""
           },
           "bgcolor": "#E5ECF6",
           "radialaxis": {
            "gridcolor": "white",
            "linecolor": "white",
            "ticks": ""
           }
          },
          "scene": {
           "xaxis": {
            "backgroundcolor": "#E5ECF6",
            "gridcolor": "white",
            "gridwidth": 2,
            "linecolor": "white",
            "showbackground": true,
            "ticks": "",
            "zerolinecolor": "white"
           },
           "yaxis": {
            "backgroundcolor": "#E5ECF6",
            "gridcolor": "white",
            "gridwidth": 2,
            "linecolor": "white",
            "showbackground": true,
            "ticks": "",
            "zerolinecolor": "white"
           },
           "zaxis": {
            "backgroundcolor": "#E5ECF6",
            "gridcolor": "white",
            "gridwidth": 2,
            "linecolor": "white",
            "showbackground": true,
            "ticks": "",
            "zerolinecolor": "white"
           }
          },
          "shapedefaults": {
           "line": {
            "color": "#2a3f5f"
           }
          },
          "ternary": {
           "aaxis": {
            "gridcolor": "white",
            "linecolor": "white",
            "ticks": ""
           },
           "baxis": {
            "gridcolor": "white",
            "linecolor": "white",
            "ticks": ""
           },
           "bgcolor": "#E5ECF6",
           "caxis": {
            "gridcolor": "white",
            "linecolor": "white",
            "ticks": ""
           }
          },
          "title": {
           "x": 0.05
          },
          "xaxis": {
           "automargin": true,
           "gridcolor": "white",
           "linecolor": "white",
           "ticks": "",
           "title": {
            "standoff": 15
           },
           "zerolinecolor": "white",
           "zerolinewidth": 2
          },
          "yaxis": {
           "automargin": true,
           "gridcolor": "white",
           "linecolor": "white",
           "ticks": "",
           "title": {
            "standoff": 15
           },
           "zerolinecolor": "white",
           "zerolinewidth": 2
          }
         }
        },
        "title": {
         "font": {
          "family": "Space Grotesk"
         }
        },
        "xaxis": {
         "anchor": "y",
         "domain": [
          0,
          1
         ],
         "matches": "x3",
         "showticklabels": false
        },
        "xaxis2": {
         "anchor": "y2",
         "domain": [
          0,
          1
         ],
         "matches": "x3",
         "showticklabels": false
        },
        "xaxis3": {
         "anchor": "y3",
         "domain": [
          0,
          1
         ],
         "title": {
          "text": "Year"
         }
        },
        "yaxis": {
         "anchor": "x",
         "domain": [
          0.72,
          1
         ],
         "title": {
          "text": "No. of case notification"
         }
        },
        "yaxis2": {
         "anchor": "x2",
         "domain": [
          0.36,
          0.6399999999999999
         ],
         "title": {
          "text": "No. of case notification"
         }
        },
        "yaxis3": {
         "anchor": "x3",
         "domain": [
          0,
          0.27999999999999997
         ],
         "title": {
          "text": "No. of case notification"
         }
        }
       }
      }
     },
     "metadata": {},
     "output_type": "display_data"
    }
   ],
   "source": [
    "stacked_fig = make_subplots(\n",
    "    rows=3, cols=1,\n",
    "    subplot_titles=[f\"<b>No CDR</b>\", f\"<b>CDR on notification</b>\", f\"<b>CDR on treatment commencement</b>\"],  # Update with your actual titles\n",
    "    vertical_spacing=0.08,  # Adjust spacing between subplots\n",
    "    shared_xaxes=True  # Share x-axis if they have the same range\n",
    ")\n",
    "\n",
    "# Add traces from fig1 to row 1\n",
    "for trace in fig1.data:\n",
    "    stacked_fig.add_trace(trace, row=1, col=1)\n",
    "\n",
    "# Add traces from fig2 to row 2\n",
    "for trace in fig2.data:\n",
    "    trace.showlegend = False  # Hide duplicate legends\n",
    "    stacked_fig.add_trace(trace, row=2, col=1)\n",
    "\n",
    "# Add traces from fig3 to row 3\n",
    "for trace in fig3.data:\n",
    "    trace.showlegend = False  # Hide duplicate legends\n",
    "    stacked_fig.add_trace(trace, row=3, col=1)\n",
    "\n",
    "# Update layout\n",
    "stacked_fig.update_layout(\n",
    "    height=900,  # Adjust total height\n",
    "    showlegend=True,\n",
    "    font_family=\"Space Grotesk\",\n",
    "    title_font_family=\"Space Grotesk\",\n",
    "    margin=dict(l=20, r=20, t=20, b=20),\n",
    "    legend=dict(\n",
    "        orientation=\"h\",\n",
    "        yanchor=\"bottom\",\n",
    "        y=-0.15,\n",
    "        xanchor=\"center\",\n",
    "        x=0.5\n",
    "    )\n",
    ")\n",
    "\n",
    "# Update y-axis titles if needed\n",
    "stacked_fig.update_yaxes(title_text=\"No. of case notification\", row=1, col=1)\n",
    "stacked_fig.update_yaxes(title_text=\"No. of case notification\", row=2, col=1)\n",
    "stacked_fig.update_yaxes(title_text=\"No. of case notification\", row=3, col=1)\n",
    "\n",
    "stacked_fig.update_xaxes(title_text=\"Year\", row=3, col=1)  # Only bottom x-axis gets label\n",
    "\n",
    "stacked_fig.show()\n",
    "\n",
    "\n",
    "positions = [(1, 1), (2, 1), (3, 1)]\n",
    "years_data = [\n",
    "    (2017, \"1st inventory study\"),\n",
    "    (2023, \"2nd inventory study\")\n",
    "]\n",
    "\n",
    "for row, col in positions:\n",
    "    for year, text in years_data:\n",
    "        stacked_fig.add_vline(x=year, line_dash=\"dot\", row=row, col=col, \n",
    "                       line_color=\"rgba(148, 145, 145, 0.5)\", line_width=1,\n",
    "                       annotation_text=text, annotation_textangle=-90,\n",
    "                       annotation_position=\"bottom right\",\n",
    "                       annotation_font_size=9, annotation_font_color=\"#949191\")\n",
    "\n",
    "stacked_fig\n",
    "#stacked_fig.write_image(image_path / f'assumpt_xpert_compare.png', width=800, height=800,scale=3)\n"
   ]
  },
  {
   "cell_type": "code",
   "execution_count": 13,
   "id": "a9fe3c75",
   "metadata": {},
   "outputs": [
    {
     "data": {
      "application/vnd.plotly.v1+json": {
       "config": {
        "plotlyServerURL": "https://plot.ly"
       },
       "data": [
        {
         "fill": "tonexty",
         "fillcolor": "rgba(27,158,119,0.2)",
         "line": {
          "color": "rgb(27,158,119)",
          "width": 0
         },
         "marker": {
          "color": "rgb(27,158,119)"
         },
         "mode": "lines",
         "name": "0.025",
         "showlegend": false,
         "type": "scatter",
         "x": [
          2010,
          2011,
          2012,
          2013,
          2014,
          2015,
          2016,
          2017,
          2018,
          2019,
          2020,
          2021,
          2022,
          2023,
          2024,
          2025,
          2026,
          2027,
          2028,
          2029,
          2030,
          2031,
          2032,
          2033,
          2034,
          2035
         ],
         "xaxis": "x",
         "y": [
          692.3793140953652,
          681.7087775816507,
          670.6212293149844,
          649.4899234914395,
          620.4900847317438,
          594.668418730629,
          570.2932452844399,
          547.3047613132394,
          527.0098392185265,
          508.17344197039057,
          489.7692522860683,
          475.93622239600774,
          460.87553577309166,
          442.0606479002973,
          421.5184443676701,
          397.593941757909,
          376.1949267367722,
          357.72766625865745,
          342.1283307453843,
          329.1138876372687,
          318.32386655679153,
          309.3940836629655,
          301.9918359235705,
          295.82916548169464,
          290.66489457962365,
          286.30137554550134
         ],
         "yaxis": "y"
        },
        {
         "fill": "tonexty",
         "fillcolor": "rgba(27,158,119,0.2)",
         "line": {
          "color": "rgb(27,158,119)",
          "width": 0
         },
         "marker": {
          "color": "rgb(27,158,119)"
         },
         "mode": "lines",
         "name": "0.25",
         "showlegend": false,
         "type": "scatter",
         "x": [
          2010,
          2011,
          2012,
          2013,
          2014,
          2015,
          2016,
          2017,
          2018,
          2019,
          2020,
          2021,
          2022,
          2023,
          2024,
          2025,
          2026,
          2027,
          2028,
          2029,
          2030,
          2031,
          2032,
          2033,
          2034,
          2035
         ],
         "xaxis": "x",
         "y": [
          806.4115357425017,
          794.4842272889996,
          773.6068447397065,
          750.4986955501772,
          728.4865832142661,
          708.1132044259398,
          688.1371680585305,
          669.6519262593516,
          653.6930056756485,
          639.1794514291748,
          614.916066718593,
          590.8999807275932,
          570.848399988248,
          555.0132676458993,
          537.0908185999292,
          518.647365376482,
          500.8439281589811,
          484.3178685350591,
          469.3553427213464,
          456.02995614266297,
          444.2938267141556,
          434.0353739358902,
          423.6133747487936,
          412.9044855096563,
          403.48265785518333,
          395.2058612222311
         ],
         "yaxis": "y"
        },
        {
         "fill": "tonexty",
         "fillcolor": "rgba(27,158,119,0.2)",
         "line": {
          "color": "rgb(27,158,119)",
          "width": 0
         },
         "marker": {
          "color": "rgb(27,158,119)"
         },
         "mode": "lines",
         "name": "0.5",
         "showlegend": false,
         "type": "scatter",
         "x": [
          2010,
          2011,
          2012,
          2013,
          2014,
          2015,
          2016,
          2017,
          2018,
          2019,
          2020,
          2021,
          2022,
          2023,
          2024,
          2025,
          2026,
          2027,
          2028,
          2029,
          2030,
          2031,
          2032,
          2033,
          2034,
          2035
         ],
         "xaxis": "x",
         "y": [
          880.6844410091551,
          861.8136879513982,
          851.2613702241517,
          840.5864523972749,
          830.272647328398,
          818.9299337160556,
          794.3925718640756,
          769.9175282444651,
          750.0558145062811,
          740.4090256006302,
          729.2272761930515,
          716.9086385564083,
          703.6826744085552,
          688.589854897469,
          663.2266618491137,
          635.817416882872,
          609.7790964965467,
          585.6609841251558,
          563.7220712432547,
          544.0311316036158,
          526.5361923192501,
          513.079127584798,
          507.8630439581745,
          503.7027444797936,
          500.420861628632,
          497.86060578360747
         ],
         "yaxis": "y"
        },
        {
         "fill": "tonexty",
         "fillcolor": "rgba(27,158,119,0.2)",
         "line": {
          "color": "rgb(27,158,119)",
          "width": 0
         },
         "marker": {
          "color": "rgb(27,158,119)"
         },
         "mode": "lines",
         "name": "0.75",
         "showlegend": false,
         "type": "scatter",
         "x": [
          2010,
          2011,
          2012,
          2013,
          2014,
          2015,
          2016,
          2017,
          2018,
          2019,
          2020,
          2021,
          2022,
          2023,
          2024,
          2025,
          2026,
          2027,
          2028,
          2029,
          2030,
          2031,
          2032,
          2033,
          2034,
          2035
         ],
         "xaxis": "x",
         "y": [
          946.2832722273647,
          929.5539129067292,
          913.8306059959959,
          897.7344948195391,
          881.8266726789711,
          863.9215836707472,
          845.2506380765642,
          826.6072452319589,
          808.9503616330793,
          791.6377609189879,
          775.1847957731854,
          764.682873609019,
          753.1152863412353,
          738.0153120086187,
          720.8906585477916,
          702.9897676883002,
          680.0743675341469,
          658.4947320063312,
          638.866650345409,
          621.3323239159465,
          605.8754392195378,
          592.6523641743523,
          584.7136129874807,
          578.0502201602753,
          572.4979540409565,
          567.9029446824106
         ],
         "yaxis": "y"
        },
        {
         "fill": "tonexty",
         "fillcolor": "rgba(27,158,119,0.2)",
         "line": {
          "color": "rgb(27,158,119)",
          "width": 0
         },
         "marker": {
          "color": "rgb(27,158,119)"
         },
         "mode": "lines",
         "name": "0.975",
         "showlegend": false,
         "type": "scatter",
         "x": [
          2010,
          2011,
          2012,
          2013,
          2014,
          2015,
          2016,
          2017,
          2018,
          2019,
          2020,
          2021,
          2022,
          2023,
          2024,
          2025,
          2026,
          2027,
          2028,
          2029,
          2030,
          2031,
          2032,
          2033,
          2034,
          2035
         ],
         "xaxis": "x",
         "y": [
          1064.4499487537917,
          1042.892242606227,
          1021.3782618676508,
          1001.1245593089859,
          984.8655934031167,
          969.6981391814849,
          954.5471382203444,
          940.0771974537917,
          927.0267169051901,
          914.2700051158599,
          900.4554409271625,
          884.4503754445923,
          865.653400517637,
          839.9768303837504,
          809.7584882356851,
          777.9274118752074,
          747.3261110773258,
          719.605207335486,
          695.4957502488628,
          675.6876604242785,
          660.2900047162168,
          647.7044836684661,
          637.5701321193128,
          629.517488990885,
          623.1973643450743,
          618.2951451612358
         ],
         "yaxis": "y"
        },
        {
         "fillcolor": "rgba(27,158,119,0.2)",
         "line": {
          "color": "rgb(27,158,119)",
          "width": 2
         },
         "marker": {
          "color": "rgb(27,158,119)"
         },
         "mode": "lines",
         "name": "Without Xpert improvement",
         "showlegend": true,
         "type": "scatter",
         "x": [
          2010,
          2011,
          2012,
          2013,
          2014,
          2015,
          2016,
          2017,
          2018,
          2019,
          2020,
          2021,
          2022,
          2023,
          2024,
          2025,
          2026,
          2027,
          2028,
          2029,
          2030,
          2031,
          2032,
          2033,
          2034,
          2035
         ],
         "xaxis": "x",
         "y": [
          880.6844410091551,
          861.8136879513982,
          851.2613702241517,
          840.5864523972749,
          830.272647328398,
          818.9299337160556,
          794.3925718640756,
          769.9175282444651,
          750.0558145062811,
          740.4090256006302,
          729.2272761930515,
          716.9086385564083,
          703.6826744085552,
          688.589854897469,
          663.2266618491137,
          635.817416882872,
          609.7790964965467,
          585.6609841251558,
          563.7220712432547,
          544.0311316036158,
          526.5361923192501,
          513.079127584798,
          507.8630439581745,
          503.7027444797936,
          500.420861628632,
          497.86060578360747
         ],
         "yaxis": "y"
        },
        {
         "fill": "tonexty",
         "fillcolor": "rgba(217,95,2,0.2)",
         "line": {
          "color": "rgb(217,95,2)",
          "width": 0
         },
         "marker": {
          "color": "rgb(217,95,2)"
         },
         "mode": "lines",
         "name": "0.025",
         "showlegend": false,
         "type": "scatter",
         "x": [
          2010,
          2011,
          2012,
          2013,
          2014,
          2015,
          2016,
          2017,
          2018,
          2019,
          2020,
          2021,
          2022,
          2023,
          2024,
          2025,
          2026,
          2027,
          2028,
          2029,
          2030,
          2031,
          2032,
          2033,
          2034,
          2035
         ],
         "xaxis": "x",
         "y": [
          646.7031904006452,
          638.0109848264301,
          628.159526765487,
          618.0520274859952,
          608.3079122674965,
          597.3494398629084,
          563.1075422311673,
          526.1225931748119,
          496.32754521984526,
          471.1609777396318,
          446.89635517893646,
          425.20905471988164,
          405.0341662846512,
          384.4385511517436,
          364.60867177132127,
          346.81228192334885,
          326.83549346937866,
          310.46382984073176,
          297.26236633269195,
          284.7065830133297,
          272.66008698539605,
          260.6004506634516,
          250.22794079640596,
          241.85349947634876,
          235.01752121638273,
          229.36002861191463
         ],
         "yaxis": "y"
        },
        {
         "fill": "tonexty",
         "fillcolor": "rgba(217,95,2,0.2)",
         "line": {
          "color": "rgb(217,95,2)",
          "width": 0
         },
         "marker": {
          "color": "rgb(217,95,2)"
         },
         "mode": "lines",
         "name": "0.25",
         "showlegend": false,
         "type": "scatter",
         "x": [
          2010,
          2011,
          2012,
          2013,
          2014,
          2015,
          2016,
          2017,
          2018,
          2019,
          2020,
          2021,
          2022,
          2023,
          2024,
          2025,
          2026,
          2027,
          2028,
          2029,
          2030,
          2031,
          2032,
          2033,
          2034,
          2035
         ],
         "xaxis": "x",
         "y": [
          774.9383138699843,
          761.4305556961473,
          744.9421148284275,
          727.2757875750824,
          696.2559540722527,
          685.4782909412543,
          665.3646321213465,
          642.7228084079246,
          619.3157416723602,
          603.0510622998254,
          585.4922717208153,
          561.8349237760972,
          534.3976749306711,
          498.7909607135474,
          455.5304746362425,
          418.1938755019346,
          385.324577107405,
          359.2752541254493,
          340.64935796997815,
          324.9764379137707,
          311.8763340793009,
          300.95170377446937,
          288.61825509569996,
          278.44118972100443,
          272.4542225637099,
          268.31713715250737
         ],
         "yaxis": "y"
        },
        {
         "fill": "tonexty",
         "fillcolor": "rgba(217,95,2,0.2)",
         "line": {
          "color": "rgb(217,95,2)",
          "width": 0
         },
         "marker": {
          "color": "rgb(217,95,2)"
         },
         "mode": "lines",
         "name": "0.5",
         "showlegend": false,
         "type": "scatter",
         "x": [
          2010,
          2011,
          2012,
          2013,
          2014,
          2015,
          2016,
          2017,
          2018,
          2019,
          2020,
          2021,
          2022,
          2023,
          2024,
          2025,
          2026,
          2027,
          2028,
          2029,
          2030,
          2031,
          2032,
          2033,
          2034,
          2035
         ],
         "xaxis": "x",
         "y": [
          854.9004969498366,
          831.3173292897812,
          805.204511504036,
          769.2260993576688,
          751.8240910222595,
          726.1864547803807,
          701.2795974887428,
          683.7874828863444,
          676.3416581537875,
          664.8650888983739,
          634.2997260584717,
          609.1938785096842,
          585.6804483344968,
          558.6465856966652,
          530.0987694117097,
          502.51094159877636,
          458.3432882734698,
          417.7778720998312,
          383.66696648454723,
          362.7503554882853,
          346.34860288684087,
          333.13425966607565,
          322.43543471241554,
          313.6972922194217,
          306.4762642293261,
          300.4247484519601
         ],
         "yaxis": "y"
        },
        {
         "fill": "tonexty",
         "fillcolor": "rgba(217,95,2,0.2)",
         "line": {
          "color": "rgb(217,95,2)",
          "width": 0
         },
         "marker": {
          "color": "rgb(217,95,2)"
         },
         "mode": "lines",
         "name": "0.75",
         "showlegend": false,
         "type": "scatter",
         "x": [
          2010,
          2011,
          2012,
          2013,
          2014,
          2015,
          2016,
          2017,
          2018,
          2019,
          2020,
          2021,
          2022,
          2023,
          2024,
          2025,
          2026,
          2027,
          2028,
          2029,
          2030,
          2031,
          2032,
          2033,
          2034,
          2035
         ],
         "xaxis": "x",
         "y": [
          932.5023127487057,
          918.9822670619942,
          875.8096800437868,
          855.6197906568825,
          831.9717858674387,
          806.00630336472,
          777.4056336973488,
          745.9224115962797,
          713.8529573432289,
          683.9403088921639,
          655.1977144661039,
          635.6976864018438,
          617.8870976236705,
          598.479429623683,
          558.888038523268,
          513.5613807877362,
          483.27843443603126,
          461.67531211430116,
          443.2771058361341,
          427.82492598230954,
          412.22145622753186,
          399.0341124451936,
          390.3511604025886,
          383.2954250493481,
          377.5591946725947,
          372.8854686749204
         ],
         "yaxis": "y"
        },
        {
         "fill": "tonexty",
         "fillcolor": "rgba(217,95,2,0.2)",
         "line": {
          "color": "rgb(217,95,2)",
          "width": 0
         },
         "marker": {
          "color": "rgb(217,95,2)"
         },
         "mode": "lines",
         "name": "0.975",
         "showlegend": false,
         "type": "scatter",
         "x": [
          2010,
          2011,
          2012,
          2013,
          2014,
          2015,
          2016,
          2017,
          2018,
          2019,
          2020,
          2021,
          2022,
          2023,
          2024,
          2025,
          2026,
          2027,
          2028,
          2029,
          2030,
          2031,
          2032,
          2033,
          2034,
          2035
         ],
         "xaxis": "x",
         "y": [
          1327.0387227789497,
          1258.0157194375192,
          1215.2684741440135,
          1169.7969037466917,
          1123.6823194356862,
          1078.289704840362,
          1032.374007947071,
          986.7410319560071,
          942.5253721940425,
          894.876696198029,
          842.1111039435443,
          793.4599818795534,
          736.9215822318249,
          678.5849226767332,
          630.4711275361752,
          596.9302373158148,
          572.5139991755796,
          550.8021231306426,
          540.3318839792157,
          531.582753161058,
          524.3799677486393,
          518.4997825396645,
          513.7163020356378,
          509.82412326451947,
          506.64692906477364,
          504.03887094641516
         ],
         "yaxis": "y"
        },
        {
         "fillcolor": "rgba(217,95,2,0.2)",
         "line": {
          "color": "rgb(217,95,2)",
          "width": 2
         },
         "marker": {
          "color": "rgb(217,95,2)"
         },
         "mode": "lines",
         "name": "With Xpert improvement",
         "showlegend": true,
         "type": "scatter",
         "x": [
          2010,
          2011,
          2012,
          2013,
          2014,
          2015,
          2016,
          2017,
          2018,
          2019,
          2020,
          2021,
          2022,
          2023,
          2024,
          2025,
          2026,
          2027,
          2028,
          2029,
          2030,
          2031,
          2032,
          2033,
          2034,
          2035
         ],
         "xaxis": "x",
         "y": [
          854.9004969498366,
          831.3173292897812,
          805.204511504036,
          769.2260993576688,
          751.8240910222595,
          726.1864547803807,
          701.2795974887428,
          683.7874828863444,
          676.3416581537875,
          664.8650888983739,
          634.2997260584717,
          609.1938785096842,
          585.6804483344968,
          558.6465856966652,
          530.0987694117097,
          502.51094159877636,
          458.3432882734698,
          417.7778720998312,
          383.66696648454723,
          362.7503554882853,
          346.34860288684087,
          333.13425966607565,
          322.43543471241554,
          313.6972922194217,
          306.4762642293261,
          300.4247484519601
         ],
         "yaxis": "y"
        },
        {
         "legendgroup": "Target",
         "marker": {
          "color": "black",
          "size": 5
         },
         "mode": "markers",
         "name": "Pulmonary TB prevalence in adults (2013-2014 National Prevalence Survey)",
         "type": "scatter",
         "x": [
          2014
         ],
         "y": [
          759.1
         ]
        }
       ],
       "layout": {
        "font": {
         "family": "Space Grotesk"
        },
        "height": 300,
        "legend": {
         "bgcolor": "rgba(255,255,255,0.8)",
         "bordercolor": "rgba(0,0,0,0.2)",
         "borderwidth": 1,
         "x": 0.98,
         "xanchor": "right",
         "y": 0.025,
         "yanchor": "bottom"
        },
        "margin": {
         "b": 20,
         "l": 20,
         "r": 20,
         "t": 20
        },
        "showlegend": false,
        "template": {
         "data": {
          "bar": [
           {
            "error_x": {
             "color": "#2a3f5f"
            },
            "error_y": {
             "color": "#2a3f5f"
            },
            "marker": {
             "line": {
              "color": "white",
              "width": 0.5
             },
             "pattern": {
              "fillmode": "overlay",
              "size": 10,
              "solidity": 0.2
             }
            },
            "type": "bar"
           }
          ],
          "barpolar": [
           {
            "marker": {
             "line": {
              "color": "white",
              "width": 0.5
             },
             "pattern": {
              "fillmode": "overlay",
              "size": 10,
              "solidity": 0.2
             }
            },
            "type": "barpolar"
           }
          ],
          "carpet": [
           {
            "aaxis": {
             "endlinecolor": "#2a3f5f",
             "gridcolor": "#C8D4E3",
             "linecolor": "#C8D4E3",
             "minorgridcolor": "#C8D4E3",
             "startlinecolor": "#2a3f5f"
            },
            "baxis": {
             "endlinecolor": "#2a3f5f",
             "gridcolor": "#C8D4E3",
             "linecolor": "#C8D4E3",
             "minorgridcolor": "#C8D4E3",
             "startlinecolor": "#2a3f5f"
            },
            "type": "carpet"
           }
          ],
          "choropleth": [
           {
            "colorbar": {
             "outlinewidth": 0,
             "ticks": ""
            },
            "type": "choropleth"
           }
          ],
          "contour": [
           {
            "colorbar": {
             "outlinewidth": 0,
             "ticks": ""
            },
            "colorscale": [
             [
              0,
              "#0d0887"
             ],
             [
              0.1111111111111111,
              "#46039f"
             ],
             [
              0.2222222222222222,
              "#7201a8"
             ],
             [
              0.3333333333333333,
              "#9c179e"
             ],
             [
              0.4444444444444444,
              "#bd3786"
             ],
             [
              0.5555555555555556,
              "#d8576b"
             ],
             [
              0.6666666666666666,
              "#ed7953"
             ],
             [
              0.7777777777777778,
              "#fb9f3a"
             ],
             [
              0.8888888888888888,
              "#fdca26"
             ],
             [
              1,
              "#f0f921"
             ]
            ],
            "type": "contour"
           }
          ],
          "contourcarpet": [
           {
            "colorbar": {
             "outlinewidth": 0,
             "ticks": ""
            },
            "type": "contourcarpet"
           }
          ],
          "heatmap": [
           {
            "colorbar": {
             "outlinewidth": 0,
             "ticks": ""
            },
            "colorscale": [
             [
              0,
              "#0d0887"
             ],
             [
              0.1111111111111111,
              "#46039f"
             ],
             [
              0.2222222222222222,
              "#7201a8"
             ],
             [
              0.3333333333333333,
              "#9c179e"
             ],
             [
              0.4444444444444444,
              "#bd3786"
             ],
             [
              0.5555555555555556,
              "#d8576b"
             ],
             [
              0.6666666666666666,
              "#ed7953"
             ],
             [
              0.7777777777777778,
              "#fb9f3a"
             ],
             [
              0.8888888888888888,
              "#fdca26"
             ],
             [
              1,
              "#f0f921"
             ]
            ],
            "type": "heatmap"
           }
          ],
          "heatmapgl": [
           {
            "colorbar": {
             "outlinewidth": 0,
             "ticks": ""
            },
            "colorscale": [
             [
              0,
              "#0d0887"
             ],
             [
              0.1111111111111111,
              "#46039f"
             ],
             [
              0.2222222222222222,
              "#7201a8"
             ],
             [
              0.3333333333333333,
              "#9c179e"
             ],
             [
              0.4444444444444444,
              "#bd3786"
             ],
             [
              0.5555555555555556,
              "#d8576b"
             ],
             [
              0.6666666666666666,
              "#ed7953"
             ],
             [
              0.7777777777777778,
              "#fb9f3a"
             ],
             [
              0.8888888888888888,
              "#fdca26"
             ],
             [
              1,
              "#f0f921"
             ]
            ],
            "type": "heatmapgl"
           }
          ],
          "histogram": [
           {
            "marker": {
             "pattern": {
              "fillmode": "overlay",
              "size": 10,
              "solidity": 0.2
             }
            },
            "type": "histogram"
           }
          ],
          "histogram2d": [
           {
            "colorbar": {
             "outlinewidth": 0,
             "ticks": ""
            },
            "colorscale": [
             [
              0,
              "#0d0887"
             ],
             [
              0.1111111111111111,
              "#46039f"
             ],
             [
              0.2222222222222222,
              "#7201a8"
             ],
             [
              0.3333333333333333,
              "#9c179e"
             ],
             [
              0.4444444444444444,
              "#bd3786"
             ],
             [
              0.5555555555555556,
              "#d8576b"
             ],
             [
              0.6666666666666666,
              "#ed7953"
             ],
             [
              0.7777777777777778,
              "#fb9f3a"
             ],
             [
              0.8888888888888888,
              "#fdca26"
             ],
             [
              1,
              "#f0f921"
             ]
            ],
            "type": "histogram2d"
           }
          ],
          "histogram2dcontour": [
           {
            "colorbar": {
             "outlinewidth": 0,
             "ticks": ""
            },
            "colorscale": [
             [
              0,
              "#0d0887"
             ],
             [
              0.1111111111111111,
              "#46039f"
             ],
             [
              0.2222222222222222,
              "#7201a8"
             ],
             [
              0.3333333333333333,
              "#9c179e"
             ],
             [
              0.4444444444444444,
              "#bd3786"
             ],
             [
              0.5555555555555556,
              "#d8576b"
             ],
             [
              0.6666666666666666,
              "#ed7953"
             ],
             [
              0.7777777777777778,
              "#fb9f3a"
             ],
             [
              0.8888888888888888,
              "#fdca26"
             ],
             [
              1,
              "#f0f921"
             ]
            ],
            "type": "histogram2dcontour"
           }
          ],
          "mesh3d": [
           {
            "colorbar": {
             "outlinewidth": 0,
             "ticks": ""
            },
            "type": "mesh3d"
           }
          ],
          "parcoords": [
           {
            "line": {
             "colorbar": {
              "outlinewidth": 0,
              "ticks": ""
             }
            },
            "type": "parcoords"
           }
          ],
          "pie": [
           {
            "automargin": true,
            "type": "pie"
           }
          ],
          "scatter": [
           {
            "fillpattern": {
             "fillmode": "overlay",
             "size": 10,
             "solidity": 0.2
            },
            "type": "scatter"
           }
          ],
          "scatter3d": [
           {
            "line": {
             "colorbar": {
              "outlinewidth": 0,
              "ticks": ""
             }
            },
            "marker": {
             "colorbar": {
              "outlinewidth": 0,
              "ticks": ""
             }
            },
            "type": "scatter3d"
           }
          ],
          "scattercarpet": [
           {
            "marker": {
             "colorbar": {
              "outlinewidth": 0,
              "ticks": ""
             }
            },
            "type": "scattercarpet"
           }
          ],
          "scattergeo": [
           {
            "marker": {
             "colorbar": {
              "outlinewidth": 0,
              "ticks": ""
             }
            },
            "type": "scattergeo"
           }
          ],
          "scattergl": [
           {
            "marker": {
             "colorbar": {
              "outlinewidth": 0,
              "ticks": ""
             }
            },
            "type": "scattergl"
           }
          ],
          "scattermapbox": [
           {
            "marker": {
             "colorbar": {
              "outlinewidth": 0,
              "ticks": ""
             }
            },
            "type": "scattermapbox"
           }
          ],
          "scatterpolar": [
           {
            "marker": {
             "colorbar": {
              "outlinewidth": 0,
              "ticks": ""
             }
            },
            "type": "scatterpolar"
           }
          ],
          "scatterpolargl": [
           {
            "marker": {
             "colorbar": {
              "outlinewidth": 0,
              "ticks": ""
             }
            },
            "type": "scatterpolargl"
           }
          ],
          "scatterternary": [
           {
            "marker": {
             "colorbar": {
              "outlinewidth": 0,
              "ticks": ""
             }
            },
            "type": "scatterternary"
           }
          ],
          "surface": [
           {
            "colorbar": {
             "outlinewidth": 0,
             "ticks": ""
            },
            "colorscale": [
             [
              0,
              "#0d0887"
             ],
             [
              0.1111111111111111,
              "#46039f"
             ],
             [
              0.2222222222222222,
              "#7201a8"
             ],
             [
              0.3333333333333333,
              "#9c179e"
             ],
             [
              0.4444444444444444,
              "#bd3786"
             ],
             [
              0.5555555555555556,
              "#d8576b"
             ],
             [
              0.6666666666666666,
              "#ed7953"
             ],
             [
              0.7777777777777778,
              "#fb9f3a"
             ],
             [
              0.8888888888888888,
              "#fdca26"
             ],
             [
              1,
              "#f0f921"
             ]
            ],
            "type": "surface"
           }
          ],
          "table": [
           {
            "cells": {
             "fill": {
              "color": "#EBF0F8"
             },
             "line": {
              "color": "white"
             }
            },
            "header": {
             "fill": {
              "color": "#C8D4E3"
             },
             "line": {
              "color": "white"
             }
            },
            "type": "table"
           }
          ]
         },
         "layout": {
          "annotationdefaults": {
           "arrowcolor": "#2a3f5f",
           "arrowhead": 0,
           "arrowwidth": 1
          },
          "autotypenumbers": "strict",
          "coloraxis": {
           "colorbar": {
            "outlinewidth": 0,
            "ticks": ""
           }
          },
          "colorscale": {
           "diverging": [
            [
             0,
             "#8e0152"
            ],
            [
             0.1,
             "#c51b7d"
            ],
            [
             0.2,
             "#de77ae"
            ],
            [
             0.3,
             "#f1b6da"
            ],
            [
             0.4,
             "#fde0ef"
            ],
            [
             0.5,
             "#f7f7f7"
            ],
            [
             0.6,
             "#e6f5d0"
            ],
            [
             0.7,
             "#b8e186"
            ],
            [
             0.8,
             "#7fbc41"
            ],
            [
             0.9,
             "#4d9221"
            ],
            [
             1,
             "#276419"
            ]
           ],
           "sequential": [
            [
             0,
             "#0d0887"
            ],
            [
             0.1111111111111111,
             "#46039f"
            ],
            [
             0.2222222222222222,
             "#7201a8"
            ],
            [
             0.3333333333333333,
             "#9c179e"
            ],
            [
             0.4444444444444444,
             "#bd3786"
            ],
            [
             0.5555555555555556,
             "#d8576b"
            ],
            [
             0.6666666666666666,
             "#ed7953"
            ],
            [
             0.7777777777777778,
             "#fb9f3a"
            ],
            [
             0.8888888888888888,
             "#fdca26"
            ],
            [
             1,
             "#f0f921"
            ]
           ],
           "sequentialminus": [
            [
             0,
             "#0d0887"
            ],
            [
             0.1111111111111111,
             "#46039f"
            ],
            [
             0.2222222222222222,
             "#7201a8"
            ],
            [
             0.3333333333333333,
             "#9c179e"
            ],
            [
             0.4444444444444444,
             "#bd3786"
            ],
            [
             0.5555555555555556,
             "#d8576b"
            ],
            [
             0.6666666666666666,
             "#ed7953"
            ],
            [
             0.7777777777777778,
             "#fb9f3a"
            ],
            [
             0.8888888888888888,
             "#fdca26"
            ],
            [
             1,
             "#f0f921"
            ]
           ]
          },
          "colorway": [
           "#636efa",
           "#EF553B",
           "#00cc96",
           "#ab63fa",
           "#FFA15A",
           "#19d3f3",
           "#FF6692",
           "#B6E880",
           "#FF97FF",
           "#FECB52"
          ],
          "font": {
           "color": "#2a3f5f"
          },
          "geo": {
           "bgcolor": "white",
           "lakecolor": "white",
           "landcolor": "white",
           "showlakes": true,
           "showland": true,
           "subunitcolor": "#C8D4E3"
          },
          "hoverlabel": {
           "align": "left"
          },
          "hovermode": "closest",
          "mapbox": {
           "style": "light"
          },
          "paper_bgcolor": "white",
          "plot_bgcolor": "white",
          "polar": {
           "angularaxis": {
            "gridcolor": "#EBF0F8",
            "linecolor": "#EBF0F8",
            "ticks": ""
           },
           "bgcolor": "white",
           "radialaxis": {
            "gridcolor": "#EBF0F8",
            "linecolor": "#EBF0F8",
            "ticks": ""
           }
          },
          "scene": {
           "xaxis": {
            "backgroundcolor": "white",
            "gridcolor": "#DFE8F3",
            "gridwidth": 2,
            "linecolor": "#EBF0F8",
            "showbackground": true,
            "ticks": "",
            "zerolinecolor": "#EBF0F8"
           },
           "yaxis": {
            "backgroundcolor": "white",
            "gridcolor": "#DFE8F3",
            "gridwidth": 2,
            "linecolor": "#EBF0F8",
            "showbackground": true,
            "ticks": "",
            "zerolinecolor": "#EBF0F8"
           },
           "zaxis": {
            "backgroundcolor": "white",
            "gridcolor": "#DFE8F3",
            "gridwidth": 2,
            "linecolor": "#EBF0F8",
            "showbackground": true,
            "ticks": "",
            "zerolinecolor": "#EBF0F8"
           }
          },
          "shapedefaults": {
           "line": {
            "color": "#2a3f5f"
           }
          },
          "ternary": {
           "aaxis": {
            "gridcolor": "#DFE8F3",
            "linecolor": "#A2B1C6",
            "ticks": ""
           },
           "baxis": {
            "gridcolor": "#DFE8F3",
            "linecolor": "#A2B1C6",
            "ticks": ""
           },
           "bgcolor": "white",
           "caxis": {
            "gridcolor": "#DFE8F3",
            "linecolor": "#A2B1C6",
            "ticks": ""
           }
          },
          "title": {
           "x": 0.05
          },
          "xaxis": {
           "automargin": true,
           "gridcolor": "#EBF0F8",
           "linecolor": "#EBF0F8",
           "ticks": "",
           "title": {
            "standoff": 15
           },
           "zerolinecolor": "#EBF0F8",
           "zerolinewidth": 2
          },
          "yaxis": {
           "automargin": true,
           "gridcolor": "#EBF0F8",
           "linecolor": "#EBF0F8",
           "ticks": "",
           "title": {
            "standoff": 15
           },
           "zerolinecolor": "#EBF0F8",
           "zerolinewidth": 2
          }
         }
        },
        "title": {
         "font": {
          "family": "Space Grotesk"
         }
        },
        "width": 400,
        "xaxis": {
         "anchor": "y",
         "domain": [
          0,
          1
         ],
         "dtick": 2,
         "range": [
          2010,
          2035
         ],
         "tick0": 2010,
         "tickmode": "linear",
         "title": {
          "text": ""
         }
        },
        "yaxis": {
         "anchor": "x",
         "automargin": true,
         "domain": [
          0,
          1
         ],
         "range": [
          -53.22249743768958,
          1117.6724461914812
         ],
         "title": {
          "font": {
           "size": 14
          },
          "standoff": 5,
          "text": "<b>Prevalence of pulmonary TB among<br>adults (per 100,000/year)</b>"
         }
        }
       }
      }
     },
     "metadata": {},
     "output_type": "display_data"
    }
   ],
   "source": [
    "from tb_incubator.plotting import overlay_plots\n",
    "\n",
    "epi_plots = {}\n",
    "indicators = ['notification', 'adults_prevalence_pulmonary', 'incidence', 'mortality']\n",
    "\n",
    "for file in file_suffixes:\n",
    "    epi_plots[file] = {}  \n",
    "    for indicator in indicators:\n",
    "        epi_plots[file][indicator] = plot_output_ranges(\n",
    "            quantile_outputs[file], targets, \n",
    "            [f'{indicator}'], 1, 2010, 2035, 2013, show_legend=False, show_title=False, show_target_data=False\n",
    "        )\n",
    "        \n",
    "notif_none = epi_plots[f'no_extensions_{file_id}']['adults_prevalence_pulmonary']\n",
    "notif_none_xpert = epi_plots[f'no_cdr_{file_id}']['adults_prevalence_pulmonary']\n",
    "notif_notif = epi_plots[f'cdr_notif_noxpert_{file_id}']['adults_prevalence_pulmonary']\n",
    "notif_notif_xpert = epi_plots[f'cdr_notif_{file_id}']['adults_prevalence_pulmonary']\n",
    "notif_detect = epi_plots[f'cdr_detect_noxpert_{file_id}']['adults_prevalence_pulmonary']\n",
    "notif_detect_xpert = epi_plots[f'cdr_detect_{file_id}']['adults_prevalence_pulmonary']\n",
    "\n",
    "fig1 = overlay_plots([notif_none, notif_none_xpert], colors=None, title=None, yaxis_title=None, update_layout=False, show_legend=True, \n",
    "              plot_names=[\"Without Xpert improvement\", \"With Xpert improvement\"],\n",
    "              legend_position=\"bottom-right\")\n",
    "\n",
    "fig2 = overlay_plots([notif_notif, notif_notif_xpert], colors=None, title=None, yaxis_title=None, update_layout=False, show_legend=False, \n",
    "              plot_names=[\"Without Xpert improvement\", \"With Xpert improvement\"],\n",
    "              legend_position=\"bottom-right\")\n",
    "\n",
    "fig3 = overlay_plots([notif_detect, notif_detect_xpert], colors=None, title=None, yaxis_title=None, update_layout=False, show_legend=False, \n",
    "              plot_names=[\"Without Xpert improvement\", \"With Xpert improvement\"],\n",
    "              legend_position=\"bottom-right\")\n",
    "\n",
    "fig1.add_trace(\n",
    "    go.Scatter(\n",
    "        x=targets['adults_prevalence_pulmonary_target'].index,\n",
    "        y=targets['adults_prevalence_pulmonary_target'].values,\n",
    "        mode=\"markers\",\n",
    "        marker=dict(size=5, color='black'),\n",
    "        name=\"Pulmonary TB prevalence in adults (2013-2014 National Prevalence Survey)\",\n",
    "        legendgroup=\"Target\",\n",
    "    )\n",
    ")\n",
    "fig2.add_trace(\n",
    "    go.Scatter(\n",
    "        x=targets['adults_prevalence_pulmonary_target'].index,\n",
    "        y=targets['adults_prevalence_pulmonary_target'].values,\n",
    "        mode=\"markers\",\n",
    "        marker=dict(size=5, color='black'),\n",
    "        name=\"Pulmonary TB prevalence in adults (2013-2014 National Prevalence Survey)\",\n",
    "        legendgroup=\"Target\",\n",
    "    )\n",
    ")\n",
    "fig3.add_trace(\n",
    "    go.Scatter(\n",
    "        x=targets['adults_prevalence_pulmonary_target'].index,\n",
    "        y=targets['adults_prevalence_pulmonary_target'].values,\n",
    "        mode=\"markers\",\n",
    "        marker=dict(size=5, color='black'),\n",
    "        name=\"Pulmonary TB prevalence in adults (2013-2014 National Prevalence Survey)\",\n",
    "        legendgroup=\"Target\",\n",
    "    )\n",
    ")\n",
    "\n",
    "\n",
    "#fig.write_image(image_path / f'xpert_compare.png', width=600, height=400,scale=3)"
   ]
  },
  {
   "cell_type": "code",
   "execution_count": 14,
   "id": "5dd64867",
   "metadata": {},
   "outputs": [
    {
     "data": {
      "application/vnd.plotly.v1+json": {
       "config": {
        "plotlyServerURL": "https://plot.ly"
       },
       "data": [
        {
         "fill": "tonexty",
         "fillcolor": "rgba(27,158,119,0.2)",
         "line": {
          "color": "rgb(27,158,119)",
          "width": 0
         },
         "marker": {
          "color": "rgb(27,158,119)"
         },
         "mode": "lines",
         "name": "0.025",
         "showlegend": false,
         "type": "scatter",
         "x": [
          2010,
          2011,
          2012,
          2013,
          2014,
          2015,
          2016,
          2017,
          2018,
          2019,
          2020,
          2021,
          2022,
          2023,
          2024,
          2025,
          2026,
          2027,
          2028,
          2029,
          2030,
          2031,
          2032,
          2033,
          2034,
          2035
         ],
         "xaxis": "x",
         "y": [
          580.003395475806,
          540.8972477630739,
          506.6318796212358,
          475.6485741112931,
          449.1909494574575,
          427.202566020935,
          407.01998798640193,
          383.37310200304705,
          364.59366957767645,
          340.5696551175396,
          319.1718543706426,
          300.78231159922774,
          282.7211927488295,
          267.3587187851214,
          251.9584460858222,
          236.3338287468361,
          220.99627576548872,
          208.6867280470273,
          198.7937495839191,
          190.78402347903042,
          184.22007693727048,
          178.75561619905065,
          174.12265595733487,
          170.11679706046903,
          166.58376328021671,
          163.40787838257012
         ],
         "yaxis": "y"
        },
        {
         "fill": "tonexty",
         "fillcolor": "rgba(27,158,119,0.2)",
         "line": {
          "color": "rgb(27,158,119)",
          "width": 0
         },
         "marker": {
          "color": "rgb(27,158,119)"
         },
         "mode": "lines",
         "name": "0.25",
         "showlegend": false,
         "type": "scatter",
         "x": [
          2010,
          2011,
          2012,
          2013,
          2014,
          2015,
          2016,
          2017,
          2018,
          2019,
          2020,
          2021,
          2022,
          2023,
          2024,
          2025,
          2026,
          2027,
          2028,
          2029,
          2030,
          2031,
          2032,
          2033,
          2034,
          2035
         ],
         "xaxis": "x",
         "y": [
          955.0204757661422,
          890.6778859405186,
          830.0747662926478,
          761.9761307607114,
          693.2412981347745,
          630.3396859126549,
          573.9026276417655,
          517.2578366977812,
          470.3364864139709,
          428.34662651618044,
          391.9822894999709,
          372.1990889161614,
          361.706394281468,
          350.62277027787997,
          339.90597059999556,
          330.0241319233927,
          321.1293400007901,
          313.20996161513415,
          306.18190239894807,
          299.9358211762395,
          294.36060794858486,
          289.35383443488,
          284.82594283565163,
          280.70068474714657,
          276.91436851091396,
          273.4142272298939
         ],
         "yaxis": "y"
        },
        {
         "fill": "tonexty",
         "fillcolor": "rgba(27,158,119,0.2)",
         "line": {
          "color": "rgb(27,158,119)",
          "width": 0
         },
         "marker": {
          "color": "rgb(27,158,119)"
         },
         "mode": "lines",
         "name": "0.5",
         "showlegend": false,
         "type": "scatter",
         "x": [
          2010,
          2011,
          2012,
          2013,
          2014,
          2015,
          2016,
          2017,
          2018,
          2019,
          2020,
          2021,
          2022,
          2023,
          2024,
          2025,
          2026,
          2027,
          2028,
          2029,
          2030,
          2031,
          2032,
          2033,
          2034,
          2035
         ],
         "xaxis": "x",
         "y": [
          1027.6464680030572,
          944.6082473068743,
          872.5709776909849,
          805.1451781701847,
          746.8043479246138,
          693.9401735012881,
          640.9647714021366,
          582.8327884762325,
          535.4783669835939,
          505.13873531234356,
          473.803437940585,
          457.5962016879686,
          440.5110955728618,
          421.15015236333187,
          402.4403920494975,
          385.62250175827,
          371.012273258301,
          358.50099198251127,
          347.8187246290667,
          338.65919699726174,
          330.7350517597674,
          323.79813851789373,
          317.64370070531197,
          312.1072597123336,
          307.0589083365764,
          304.1958907070061
         ],
         "yaxis": "y"
        },
        {
         "fill": "tonexty",
         "fillcolor": "rgba(27,158,119,0.2)",
         "line": {
          "color": "rgb(27,158,119)",
          "width": 0
         },
         "marker": {
          "color": "rgb(27,158,119)"
         },
         "mode": "lines",
         "name": "0.75",
         "showlegend": false,
         "type": "scatter",
         "x": [
          2010,
          2011,
          2012,
          2013,
          2014,
          2015,
          2016,
          2017,
          2018,
          2019,
          2020,
          2021,
          2022,
          2023,
          2024,
          2025,
          2026,
          2027,
          2028,
          2029,
          2030,
          2031,
          2032,
          2033,
          2034,
          2035
         ],
         "xaxis": "x",
         "y": [
          1265.88169102136,
          1130.7996563921383,
          1006.5453183027478,
          893.3253830762419,
          797.1646458851935,
          735.5309247777466,
          667.6490522166798,
          625.6526565018564,
          596.2789219552377,
          572.7102732278107,
          550.4219634347039,
          533.8907107172183,
          519.1012618042115,
          505.23160505310193,
          492.06036826237926,
          480.0898099936846,
          469.4834320720051,
          460.1770750881435,
          452.01833985166303,
          444.83366417946974,
          438.45821020802885,
          432.7477415162234,
          427.58129964297297,
          422.85996272439104,
          418.5041568032731,
          414.4502277112174
         ],
         "yaxis": "y"
        },
        {
         "fill": "tonexty",
         "fillcolor": "rgba(27,158,119,0.2)",
         "line": {
          "color": "rgb(27,158,119)",
          "width": 0
         },
         "marker": {
          "color": "rgb(27,158,119)"
         },
         "mode": "lines",
         "name": "0.975",
         "showlegend": false,
         "type": "scatter",
         "x": [
          2010,
          2011,
          2012,
          2013,
          2014,
          2015,
          2016,
          2017,
          2018,
          2019,
          2020,
          2021,
          2022,
          2023,
          2024,
          2025,
          2026,
          2027,
          2028,
          2029,
          2030,
          2031,
          2032,
          2033,
          2034,
          2035
         ],
         "xaxis": "x",
         "y": [
          1519.0171757813152,
          1330.929030522441,
          1159.8918901022098,
          1006.951799462723,
          878.6472972751848,
          789.698100662916,
          725.9724801385455,
          678.0680607045837,
          641.9456189570545,
          614.4145585211584,
          593.5482238079472,
          588.515287404154,
          579.9176849010024,
          566.6153392268145,
          551.6329454357561,
          537.3940348299782,
          524.8072669897874,
          514.0585619509774,
          505.0250019189533,
          497.47290890863525,
          491.1494155160219,
          485.82187850478016,
          481.2914261164577,
          477.39508913311437,
          474.00244832176816,
          471.0106822685518
         ],
         "yaxis": "y"
        },
        {
         "fillcolor": "rgba(27,158,119,0.2)",
         "line": {
          "color": "rgb(27,158,119)",
          "width": 2
         },
         "marker": {
          "color": "rgb(27,158,119)"
         },
         "mode": "lines",
         "name": "Without Xpert improvement",
         "showlegend": true,
         "type": "scatter",
         "x": [
          2010,
          2011,
          2012,
          2013,
          2014,
          2015,
          2016,
          2017,
          2018,
          2019,
          2020,
          2021,
          2022,
          2023,
          2024,
          2025,
          2026,
          2027,
          2028,
          2029,
          2030,
          2031,
          2032,
          2033,
          2034,
          2035
         ],
         "xaxis": "x",
         "y": [
          1027.6464680030572,
          944.6082473068743,
          872.5709776909849,
          805.1451781701847,
          746.8043479246138,
          693.9401735012881,
          640.9647714021366,
          582.8327884762325,
          535.4783669835939,
          505.13873531234356,
          473.803437940585,
          457.5962016879686,
          440.5110955728618,
          421.15015236333187,
          402.4403920494975,
          385.62250175827,
          371.012273258301,
          358.50099198251127,
          347.8187246290667,
          338.65919699726174,
          330.7350517597674,
          323.79813851789373,
          317.64370070531197,
          312.1072597123336,
          307.0589083365764,
          304.1958907070061
         ],
         "yaxis": "y"
        },
        {
         "fill": "tonexty",
         "fillcolor": "rgba(217,95,2,0.2)",
         "line": {
          "color": "rgb(217,95,2)",
          "width": 0
         },
         "marker": {
          "color": "rgb(217,95,2)"
         },
         "mode": "lines",
         "name": "0.025",
         "showlegend": false,
         "type": "scatter",
         "x": [
          2010,
          2011,
          2012,
          2013,
          2014,
          2015,
          2016,
          2017,
          2018,
          2019,
          2020,
          2021,
          2022,
          2023,
          2024,
          2025,
          2026,
          2027,
          2028,
          2029,
          2030,
          2031,
          2032,
          2033,
          2034,
          2035
         ],
         "xaxis": "x",
         "y": [
          353.61775078341117,
          344.85719562479954,
          337.7227576307923,
          331.09460916406886,
          325.65621169603577,
          321.290950520724,
          316.82211126630045,
          312.1840460831848,
          307.60616096552644,
          302.88183931604794,
          296.0851211802943,
          289.0932502777793,
          282.92748508789305,
          272.74287912307335,
          261.63024300557663,
          251.32906225357164,
          242.355312097688,
          234.76422725640847,
          228.42006637265325,
          223.12850961938204,
          218.69463312967648,
          214.9456987307173,
          211.73772802135176,
          208.95481406979212,
          206.50568500900962,
          204.31934247233903
         ],
         "yaxis": "y"
        },
        {
         "fill": "tonexty",
         "fillcolor": "rgba(217,95,2,0.2)",
         "line": {
          "color": "rgb(217,95,2)",
          "width": 0
         },
         "marker": {
          "color": "rgb(217,95,2)"
         },
         "mode": "lines",
         "name": "0.25",
         "showlegend": false,
         "type": "scatter",
         "x": [
          2010,
          2011,
          2012,
          2013,
          2014,
          2015,
          2016,
          2017,
          2018,
          2019,
          2020,
          2021,
          2022,
          2023,
          2024,
          2025,
          2026,
          2027,
          2028,
          2029,
          2030,
          2031,
          2032,
          2033,
          2034,
          2035
         ],
         "xaxis": "x",
         "y": [
          704.2451221741703,
          678.9299007217805,
          639.6391652867424,
          603.9037969342943,
          573.2742836860191,
          547.7675371686524,
          528.1386339494255,
          511.5322324298065,
          496.7552839355467,
          478.47240160456795,
          457.2736599070248,
          439.3711635368817,
          424.0561912747261,
          408.36222060536255,
          392.6999803353945,
          378.14403883728403,
          365.2492406710902,
          354.1411745889528,
          344.7210784577611,
          336.79344097418317,
          328.4481658386843,
          320.89909967499966,
          314.5318953384466,
          309.1181768484579,
          304.7173173645574,
          301.6384328064729
         ],
         "yaxis": "y"
        },
        {
         "fill": "tonexty",
         "fillcolor": "rgba(217,95,2,0.2)",
         "line": {
          "color": "rgb(217,95,2)",
          "width": 0
         },
         "marker": {
          "color": "rgb(217,95,2)"
         },
         "mode": "lines",
         "name": "0.5",
         "showlegend": false,
         "type": "scatter",
         "x": [
          2010,
          2011,
          2012,
          2013,
          2014,
          2015,
          2016,
          2017,
          2018,
          2019,
          2020,
          2021,
          2022,
          2023,
          2024,
          2025,
          2026,
          2027,
          2028,
          2029,
          2030,
          2031,
          2032,
          2033,
          2034,
          2035
         ],
         "xaxis": "x",
         "y": [
          866.5481839674052,
          815.7924973280398,
          796.0534446123283,
          778.7831926909597,
          735.6066590109959,
          704.2196831233226,
          671.6366012756633,
          637.7020095189489,
          605.0202106917981,
          573.4086635992005,
          542.2800718211728,
          518.0417518003079,
          494.6949345872583,
          467.56780952732475,
          449.18680882636585,
          435.0439423750439,
          419.9531456525919,
          401.95814209773636,
          386.71788245579233,
          373.8831861380948,
          364.78041035434836,
          357.4880567273285,
          351.5413429732353,
          345.773766956763,
          342.72451494707286,
          339.4699728325677
         ],
         "yaxis": "y"
        },
        {
         "fill": "tonexty",
         "fillcolor": "rgba(217,95,2,0.2)",
         "line": {
          "color": "rgb(217,95,2)",
          "width": 0
         },
         "marker": {
          "color": "rgb(217,95,2)"
         },
         "mode": "lines",
         "name": "0.75",
         "showlegend": false,
         "type": "scatter",
         "x": [
          2010,
          2011,
          2012,
          2013,
          2014,
          2015,
          2016,
          2017,
          2018,
          2019,
          2020,
          2021,
          2022,
          2023,
          2024,
          2025,
          2026,
          2027,
          2028,
          2029,
          2030,
          2031,
          2032,
          2033,
          2034,
          2035
         ],
         "xaxis": "x",
         "y": [
          973.1950796810204,
          930.0392723454981,
          883.4877214476478,
          837.2683039455876,
          802.0500330449092,
          773.0860249457635,
          743.0051306873127,
          712.0703031948582,
          678.2998559992416,
          643.6711254156155,
          610.5947243421014,
          583.8296271073118,
          558.5298533588932,
          530.9297113758646,
          503.2730342122759,
          477.3724919778181,
          454.0854859876632,
          433.6555298215503,
          415.9951905674234,
          403.90597159048207,
          394.6832600157619,
          386.8485840387134,
          380.1390703458792,
          375.10625528828587,
          369.2578657653457,
          364.76293880831923
         ],
         "yaxis": "y"
        },
        {
         "fill": "tonexty",
         "fillcolor": "rgba(217,95,2,0.2)",
         "line": {
          "color": "rgb(217,95,2)",
          "width": 0
         },
         "marker": {
          "color": "rgb(217,95,2)"
         },
         "mode": "lines",
         "name": "0.975",
         "showlegend": false,
         "type": "scatter",
         "x": [
          2010,
          2011,
          2012,
          2013,
          2014,
          2015,
          2016,
          2017,
          2018,
          2019,
          2020,
          2021,
          2022,
          2023,
          2024,
          2025,
          2026,
          2027,
          2028,
          2029,
          2030,
          2031,
          2032,
          2033,
          2034,
          2035
         ],
         "xaxis": "x",
         "y": [
          1068.0971257585456,
          1049.4531902055676,
          1030.089641608435,
          1009.5279156799628,
          988.3587304263704,
          966.8464039714166,
          943.3814973872572,
          914.8689758024908,
          884.6196122838764,
          849.1462714431256,
          808.9877525133182,
          775.2428570907631,
          741.311014867305,
          699.5964119710335,
          654.1263041829217,
          611.8878951197087,
          586.0009848210144,
          563.3257814978216,
          543.5252682680905,
          526.5195442170976,
          512.0694076594291,
          499.87036789956164,
          489.60659691141893,
          480.9796890127807,
          473.72203879595486,
          467.60130420289573
         ],
         "yaxis": "y"
        },
        {
         "fillcolor": "rgba(217,95,2,0.2)",
         "line": {
          "color": "rgb(217,95,2)",
          "width": 2
         },
         "marker": {
          "color": "rgb(217,95,2)"
         },
         "mode": "lines",
         "name": "With Xpert improvement",
         "showlegend": true,
         "type": "scatter",
         "x": [
          2010,
          2011,
          2012,
          2013,
          2014,
          2015,
          2016,
          2017,
          2018,
          2019,
          2020,
          2021,
          2022,
          2023,
          2024,
          2025,
          2026,
          2027,
          2028,
          2029,
          2030,
          2031,
          2032,
          2033,
          2034,
          2035
         ],
         "xaxis": "x",
         "y": [
          866.5481839674052,
          815.7924973280398,
          796.0534446123283,
          778.7831926909597,
          735.6066590109959,
          704.2196831233226,
          671.6366012756633,
          637.7020095189489,
          605.0202106917981,
          573.4086635992005,
          542.2800718211728,
          518.0417518003079,
          494.6949345872583,
          467.56780952732475,
          449.18680882636585,
          435.0439423750439,
          419.9531456525919,
          401.95814209773636,
          386.71788245579233,
          373.8831861380948,
          364.78041035434836,
          357.4880567273285,
          351.5413429732353,
          345.773766956763,
          342.72451494707286,
          339.4699728325677
         ],
         "yaxis": "y"
        },
        {
         "legendgroup": "Target",
         "marker": {
          "color": "black",
          "size": 5
         },
         "mode": "markers",
         "name": "Pulmonary TB prevalence in adults (2013-2014 National Prevalence Survey)",
         "type": "scatter",
         "x": [
          2014
         ],
         "xaxis": "x",
         "y": [
          759.1
         ],
         "yaxis": "y"
        },
        {
         "fill": "tonexty",
         "fillcolor": "rgba(27,158,119,0.2)",
         "line": {
          "color": "rgb(27,158,119)",
          "width": 0
         },
         "marker": {
          "color": "rgb(27,158,119)"
         },
         "mode": "lines",
         "name": "0.025",
         "showlegend": false,
         "type": "scatter",
         "x": [
          2010,
          2011,
          2012,
          2013,
          2014,
          2015,
          2016,
          2017,
          2018,
          2019,
          2020,
          2021,
          2022,
          2023,
          2024,
          2025,
          2026,
          2027,
          2028,
          2029,
          2030,
          2031,
          2032,
          2033,
          2034,
          2035
         ],
         "xaxis": "x2",
         "y": [
          792.3291476827821,
          779.0414991242316,
          763.1008180419809,
          744.9547151636272,
          704.9126904737474,
          640.3792173945575,
          585.4194409370181,
          540.682177078848,
          506.6454109712768,
          480.42291510829017,
          458.74629304309366,
          445.81914479642114,
          433.1732779315138,
          418.7004915046109,
          405.06680853811514,
          393.197976864102,
          383.05342622336303,
          374.5523530659423,
          367.39951461622127,
          359.91336567325015,
          352.5735728080785,
          346.29525665925144,
          340.91267751039044,
          336.2832645291351,
          332.2860274372116,
          328.81912439855967
         ],
         "yaxis": "y2"
        },
        {
         "fill": "tonexty",
         "fillcolor": "rgba(27,158,119,0.2)",
         "line": {
          "color": "rgb(27,158,119)",
          "width": 0
         },
         "marker": {
          "color": "rgb(27,158,119)"
         },
         "mode": "lines",
         "name": "0.25",
         "showlegend": false,
         "type": "scatter",
         "x": [
          2010,
          2011,
          2012,
          2013,
          2014,
          2015,
          2016,
          2017,
          2018,
          2019,
          2020,
          2021,
          2022,
          2023,
          2024,
          2025,
          2026,
          2027,
          2028,
          2029,
          2030,
          2031,
          2032,
          2033,
          2034,
          2035
         ],
         "xaxis": "x2",
         "y": [
          870.2918466723443,
          840.4410647550612,
          804.3394910039787,
          768.9088698181794,
          727.0938269407792,
          704.3171917847501,
          680.725544848426,
          635.5599938114074,
          593.6542277519801,
          560.0927780759424,
          534.2264583070422,
          514.1558028024303,
          496.9765146551374,
          479.40758130164727,
          462.84626675799916,
          448.0552324884842,
          435.26708020139665,
          424.4243649631232,
          416.45947969854836,
          411.6740595102665,
          408.02553766356993,
          405.25969470753466,
          403.1723197805909,
          401.6030594591516,
          400.4275484902217,
          399.5508453660009
         ],
         "yaxis": "y2"
        },
        {
         "fill": "tonexty",
         "fillcolor": "rgba(27,158,119,0.2)",
         "line": {
          "color": "rgb(27,158,119)",
          "width": 0
         },
         "marker": {
          "color": "rgb(27,158,119)"
         },
         "mode": "lines",
         "name": "0.5",
         "showlegend": false,
         "type": "scatter",
         "x": [
          2010,
          2011,
          2012,
          2013,
          2014,
          2015,
          2016,
          2017,
          2018,
          2019,
          2020,
          2021,
          2022,
          2023,
          2024,
          2025,
          2026,
          2027,
          2028,
          2029,
          2030,
          2031,
          2032,
          2033,
          2034,
          2035
         ],
         "xaxis": "x2",
         "y": [
          913.8735741897963,
          874.8320157853252,
          833.4709930586725,
          794.8108065177922,
          757.9750488463043,
          741.1866304393587,
          712.7174654356128,
          695.923275823387,
          681.9237233469256,
          669.3207730108468,
          648.7452260528504,
          636.9741735218652,
          619.5358958739115,
          607.0092371707833,
          594.7777982286906,
          583.8550422350899,
          569.9923254368389,
          557.641944120729,
          550.5931898495928,
          544.5036416250156,
          539.3256469309655,
          534.9932619893262,
          531.4268393302439,
          528.5402886086703,
          522.7605523800225,
          517.0944546783337
         ],
         "yaxis": "y2"
        },
        {
         "fill": "tonexty",
         "fillcolor": "rgba(27,158,119,0.2)",
         "line": {
          "color": "rgb(27,158,119)",
          "width": 0
         },
         "marker": {
          "color": "rgb(27,158,119)"
         },
         "mode": "lines",
         "name": "0.75",
         "showlegend": false,
         "type": "scatter",
         "x": [
          2010,
          2011,
          2012,
          2013,
          2014,
          2015,
          2016,
          2017,
          2018,
          2019,
          2020,
          2021,
          2022,
          2023,
          2024,
          2025,
          2026,
          2027,
          2028,
          2029,
          2030,
          2031,
          2032,
          2033,
          2034,
          2035
         ],
         "xaxis": "x2",
         "y": [
          1039.8626799882773,
          998.9332178424901,
          921.8825846560997,
          858.2656741335333,
          817.1860557352861,
          781.3303372726612,
          759.5014887403593,
          734.6913674096259,
          706.6089089754787,
          683.8932656581449,
          664.1509291656021,
          656.2793960389524,
          650.3988482341501,
          644.0102019001938,
          635.8370209545471,
          627.0360350758092,
          618.3043993089619,
          610.0292955365564,
          597.3373329750502,
          582.5598133722292,
          570.0000625619994,
          559.3760107697368,
          550.427664707953,
          545.3067792627692,
          541.49556256051,
          538.506620899529
         ],
         "yaxis": "y2"
        },
        {
         "fill": "tonexty",
         "fillcolor": "rgba(27,158,119,0.2)",
         "line": {
          "color": "rgb(27,158,119)",
          "width": 0
         },
         "marker": {
          "color": "rgb(27,158,119)"
         },
         "mode": "lines",
         "name": "0.975",
         "showlegend": false,
         "type": "scatter",
         "x": [
          2010,
          2011,
          2012,
          2013,
          2014,
          2015,
          2016,
          2017,
          2018,
          2019,
          2020,
          2021,
          2022,
          2023,
          2024,
          2025,
          2026,
          2027,
          2028,
          2029,
          2030,
          2031,
          2032,
          2033,
          2034,
          2035
         ],
         "xaxis": "x2",
         "y": [
          2655.789101204544,
          2407.0865338036824,
          2167.1250842485188,
          1941.3787440180588,
          1741.1906269670949,
          1570.366625240058,
          1420.6780364999179,
          1293.9570650474352,
          1207.254296239059,
          1151.101746998312,
          1102.7144849954063,
          1067.6925630454296,
          1037.0858931748403,
          1005.609149093684,
          975.267807717314,
          946.8005226973007,
          924.4076028620887,
          906.8979480495364,
          890.1518384068364,
          874.3586935510291,
          859.627021831738,
          846.0077264061654,
          833.5100783636256,
          822.1143268730214,
          811.7810064122147,
          802.4579170121114
         ],
         "yaxis": "y2"
        },
        {
         "fillcolor": "rgba(27,158,119,0.2)",
         "line": {
          "color": "rgb(27,158,119)",
          "width": 2
         },
         "marker": {
          "color": "rgb(27,158,119)"
         },
         "mode": "lines",
         "name": "Without Xpert improvement",
         "showlegend": false,
         "type": "scatter",
         "x": [
          2010,
          2011,
          2012,
          2013,
          2014,
          2015,
          2016,
          2017,
          2018,
          2019,
          2020,
          2021,
          2022,
          2023,
          2024,
          2025,
          2026,
          2027,
          2028,
          2029,
          2030,
          2031,
          2032,
          2033,
          2034,
          2035
         ],
         "xaxis": "x2",
         "y": [
          913.8735741897963,
          874.8320157853252,
          833.4709930586725,
          794.8108065177922,
          757.9750488463043,
          741.1866304393587,
          712.7174654356128,
          695.923275823387,
          681.9237233469256,
          669.3207730108468,
          648.7452260528504,
          636.9741735218652,
          619.5358958739115,
          607.0092371707833,
          594.7777982286906,
          583.8550422350899,
          569.9923254368389,
          557.641944120729,
          550.5931898495928,
          544.5036416250156,
          539.3256469309655,
          534.9932619893262,
          531.4268393302439,
          528.5402886086703,
          522.7605523800225,
          517.0944546783337
         ],
         "yaxis": "y2"
        },
        {
         "fill": "tonexty",
         "fillcolor": "rgba(217,95,2,0.2)",
         "line": {
          "color": "rgb(217,95,2)",
          "width": 0
         },
         "marker": {
          "color": "rgb(217,95,2)"
         },
         "mode": "lines",
         "name": "0.025",
         "showlegend": false,
         "type": "scatter",
         "x": [
          2010,
          2011,
          2012,
          2013,
          2014,
          2015,
          2016,
          2017,
          2018,
          2019,
          2020,
          2021,
          2022,
          2023,
          2024,
          2025,
          2026,
          2027,
          2028,
          2029,
          2030,
          2031,
          2032,
          2033,
          2034,
          2035
         ],
         "xaxis": "x2",
         "y": [
          554.0280139928077,
          543.3124833143139,
          532.7153436879473,
          521.5914883987217,
          510.8496721755575,
          500.6557081438259,
          486.5071797774523,
          462.23529410866894,
          436.9192649362267,
          412.78443139321666,
          389.4706306465576,
          371.7172491687608,
          357.933633996071,
          343.5286326849241,
          329.7417923101305,
          317.94891185769706,
          308.3908183742171,
          300.81217284065497,
          294.8403060966865,
          290.12109658555045,
          286.3581903772755,
          283.2051774264555,
          280.5693173531556,
          278.4229141980117,
          276.6526140671179,
          275.1717090000048
         ],
         "yaxis": "y2"
        },
        {
         "fill": "tonexty",
         "fillcolor": "rgba(217,95,2,0.2)",
         "line": {
          "color": "rgb(217,95,2)",
          "width": 0
         },
         "marker": {
          "color": "rgb(217,95,2)"
         },
         "mode": "lines",
         "name": "0.25",
         "showlegend": false,
         "type": "scatter",
         "x": [
          2010,
          2011,
          2012,
          2013,
          2014,
          2015,
          2016,
          2017,
          2018,
          2019,
          2020,
          2021,
          2022,
          2023,
          2024,
          2025,
          2026,
          2027,
          2028,
          2029,
          2030,
          2031,
          2032,
          2033,
          2034,
          2035
         ],
         "xaxis": "x2",
         "y": [
          842.9193367603905,
          819.254386264008,
          793.596522249039,
          765.5084641700971,
          736.7521407142366,
          674.1585909143871,
          624.0142002748582,
          603.7634593465896,
          595.0676217337634,
          585.8549939048864,
          571.0032972668525,
          553.341408863868,
          537.9481429314324,
          514.8309196773768,
          490.78385452532063,
          467.70206150081276,
          446.63770997158645,
          428.0368159768356,
          411.9792844702571,
          398.34321294830613,
          386.90717965892725,
          377.41153442012774,
          369.59361171908,
          363.20653511026336,
          358.0278244889659,
          353.862528138764
         ],
         "yaxis": "y2"
        },
        {
         "fill": "tonexty",
         "fillcolor": "rgba(217,95,2,0.2)",
         "line": {
          "color": "rgb(217,95,2)",
          "width": 0
         },
         "marker": {
          "color": "rgb(217,95,2)"
         },
         "mode": "lines",
         "name": "0.5",
         "showlegend": false,
         "type": "scatter",
         "x": [
          2010,
          2011,
          2012,
          2013,
          2014,
          2015,
          2016,
          2017,
          2018,
          2019,
          2020,
          2021,
          2022,
          2023,
          2024,
          2025,
          2026,
          2027,
          2028,
          2029,
          2030,
          2031,
          2032,
          2033,
          2034,
          2035
         ],
         "xaxis": "x2",
         "y": [
          951.1355121329797,
          917.2989632994643,
          904.6443551616237,
          879.6312937279076,
          826.5163684578224,
          774.6399624271174,
          763.1356668796684,
          738.9885728261359,
          695.8006761611778,
          654.5291269512318,
          621.2106880535844,
          600.3699995236185,
          591.6428757131669,
          568.2937753975011,
          538.8593653249122,
          514.4385066955275,
          503.1953293431285,
          486.1886378799674,
          471.70974079697555,
          459.9065979145878,
          450.4135407055662,
          442.85953177451427,
          434.72462180421184,
          427.0762296134047,
          420.5879479409753,
          415.0220415534668
         ],
         "yaxis": "y2"
        },
        {
         "fill": "tonexty",
         "fillcolor": "rgba(217,95,2,0.2)",
         "line": {
          "color": "rgb(217,95,2)",
          "width": 0
         },
         "marker": {
          "color": "rgb(217,95,2)"
         },
         "mode": "lines",
         "name": "0.75",
         "showlegend": false,
         "type": "scatter",
         "x": [
          2010,
          2011,
          2012,
          2013,
          2014,
          2015,
          2016,
          2017,
          2018,
          2019,
          2020,
          2021,
          2022,
          2023,
          2024,
          2025,
          2026,
          2027,
          2028,
          2029,
          2030,
          2031,
          2032,
          2033,
          2034,
          2035
         ],
         "xaxis": "x2",
         "y": [
          1090.8074020889712,
          1032.3771928942112,
          966.6376430066913,
          907.6630346167528,
          878.8240912569021,
          835.5700369869163,
          794.3629714903975,
          760.3572892305799,
          734.1681091748883,
          713.8377116695684,
          687.4112610668942,
          662.3530800079766,
          640.063294911344,
          614.4850098602782,
          580.1394328247939,
          560.8059729951392,
          543.6392291482719,
          529.6473282868279,
          514.3505647667729,
          501.7753500556987,
          492.464798254676,
          484.82386768602555,
          478.20969859272543,
          472.45924366058705,
          467.43513039169534,
          463.02210564725885
         ],
         "yaxis": "y2"
        },
        {
         "fill": "tonexty",
         "fillcolor": "rgba(217,95,2,0.2)",
         "line": {
          "color": "rgb(217,95,2)",
          "width": 0
         },
         "marker": {
          "color": "rgb(217,95,2)"
         },
         "mode": "lines",
         "name": "0.975",
         "showlegend": false,
         "type": "scatter",
         "x": [
          2010,
          2011,
          2012,
          2013,
          2014,
          2015,
          2016,
          2017,
          2018,
          2019,
          2020,
          2021,
          2022,
          2023,
          2024,
          2025,
          2026,
          2027,
          2028,
          2029,
          2030,
          2031,
          2032,
          2033,
          2034,
          2035
         ],
         "xaxis": "x2",
         "y": [
          1948.0560347186458,
          1762.3153174102667,
          1588.3527304198992,
          1424.3041213028578,
          1277.944500503857,
          1162.2223376988416,
          1064.2732627126668,
          976.9617085128665,
          903.9002626632393,
          842.3974489331057,
          796.0847170394679,
          763.1848003477304,
          736.0936732754236,
          715.3213845258012,
          695.270659923844,
          675.2914954236013,
          656.4926991757766,
          641.0886896339429,
          628.7204886861803,
          618.7032464875547,
          610.4404724081375,
          603.5932051502119,
          598.2187022194166,
          594.0735109146317,
          590.8511157924652,
          588.3672763681691
         ],
         "yaxis": "y2"
        },
        {
         "fillcolor": "rgba(217,95,2,0.2)",
         "line": {
          "color": "rgb(217,95,2)",
          "width": 2
         },
         "marker": {
          "color": "rgb(217,95,2)"
         },
         "mode": "lines",
         "name": "With Xpert improvement",
         "showlegend": false,
         "type": "scatter",
         "x": [
          2010,
          2011,
          2012,
          2013,
          2014,
          2015,
          2016,
          2017,
          2018,
          2019,
          2020,
          2021,
          2022,
          2023,
          2024,
          2025,
          2026,
          2027,
          2028,
          2029,
          2030,
          2031,
          2032,
          2033,
          2034,
          2035
         ],
         "xaxis": "x2",
         "y": [
          951.1355121329797,
          917.2989632994643,
          904.6443551616237,
          879.6312937279076,
          826.5163684578224,
          774.6399624271174,
          763.1356668796684,
          738.9885728261359,
          695.8006761611778,
          654.5291269512318,
          621.2106880535844,
          600.3699995236185,
          591.6428757131669,
          568.2937753975011,
          538.8593653249122,
          514.4385066955275,
          503.1953293431285,
          486.1886378799674,
          471.70974079697555,
          459.9065979145878,
          450.4135407055662,
          442.85953177451427,
          434.72462180421184,
          427.0762296134047,
          420.5879479409753,
          415.0220415534668
         ],
         "yaxis": "y2"
        },
        {
         "legendgroup": "Target",
         "marker": {
          "color": "black",
          "size": 5
         },
         "mode": "markers",
         "name": "Pulmonary TB prevalence in adults (2013-2014 National Prevalence Survey)",
         "showlegend": false,
         "type": "scatter",
         "x": [
          2014
         ],
         "xaxis": "x2",
         "y": [
          759.1
         ],
         "yaxis": "y2"
        },
        {
         "fill": "tonexty",
         "fillcolor": "rgba(27,158,119,0.2)",
         "line": {
          "color": "rgb(27,158,119)",
          "width": 0
         },
         "marker": {
          "color": "rgb(27,158,119)"
         },
         "mode": "lines",
         "name": "0.025",
         "showlegend": false,
         "type": "scatter",
         "x": [
          2010,
          2011,
          2012,
          2013,
          2014,
          2015,
          2016,
          2017,
          2018,
          2019,
          2020,
          2021,
          2022,
          2023,
          2024,
          2025,
          2026,
          2027,
          2028,
          2029,
          2030,
          2031,
          2032,
          2033,
          2034,
          2035
         ],
         "xaxis": "x3",
         "y": [
          692.3793140953652,
          681.7087775816507,
          670.6212293149844,
          649.4899234914395,
          620.4900847317438,
          594.668418730629,
          570.2932452844399,
          547.3047613132394,
          527.0098392185265,
          508.17344197039057,
          489.7692522860683,
          475.93622239600774,
          460.87553577309166,
          442.0606479002973,
          421.5184443676701,
          397.593941757909,
          376.1949267367722,
          357.72766625865745,
          342.1283307453843,
          329.1138876372687,
          318.32386655679153,
          309.3940836629655,
          301.9918359235705,
          295.82916548169464,
          290.66489457962365,
          286.30137554550134
         ],
         "yaxis": "y3"
        },
        {
         "fill": "tonexty",
         "fillcolor": "rgba(27,158,119,0.2)",
         "line": {
          "color": "rgb(27,158,119)",
          "width": 0
         },
         "marker": {
          "color": "rgb(27,158,119)"
         },
         "mode": "lines",
         "name": "0.25",
         "showlegend": false,
         "type": "scatter",
         "x": [
          2010,
          2011,
          2012,
          2013,
          2014,
          2015,
          2016,
          2017,
          2018,
          2019,
          2020,
          2021,
          2022,
          2023,
          2024,
          2025,
          2026,
          2027,
          2028,
          2029,
          2030,
          2031,
          2032,
          2033,
          2034,
          2035
         ],
         "xaxis": "x3",
         "y": [
          806.4115357425017,
          794.4842272889996,
          773.6068447397065,
          750.4986955501772,
          728.4865832142661,
          708.1132044259398,
          688.1371680585305,
          669.6519262593516,
          653.6930056756485,
          639.1794514291748,
          614.916066718593,
          590.8999807275932,
          570.848399988248,
          555.0132676458993,
          537.0908185999292,
          518.647365376482,
          500.8439281589811,
          484.3178685350591,
          469.3553427213464,
          456.02995614266297,
          444.2938267141556,
          434.0353739358902,
          423.6133747487936,
          412.9044855096563,
          403.48265785518333,
          395.2058612222311
         ],
         "yaxis": "y3"
        },
        {
         "fill": "tonexty",
         "fillcolor": "rgba(27,158,119,0.2)",
         "line": {
          "color": "rgb(27,158,119)",
          "width": 0
         },
         "marker": {
          "color": "rgb(27,158,119)"
         },
         "mode": "lines",
         "name": "0.5",
         "showlegend": false,
         "type": "scatter",
         "x": [
          2010,
          2011,
          2012,
          2013,
          2014,
          2015,
          2016,
          2017,
          2018,
          2019,
          2020,
          2021,
          2022,
          2023,
          2024,
          2025,
          2026,
          2027,
          2028,
          2029,
          2030,
          2031,
          2032,
          2033,
          2034,
          2035
         ],
         "xaxis": "x3",
         "y": [
          880.6844410091551,
          861.8136879513982,
          851.2613702241517,
          840.5864523972749,
          830.272647328398,
          818.9299337160556,
          794.3925718640756,
          769.9175282444651,
          750.0558145062811,
          740.4090256006302,
          729.2272761930515,
          716.9086385564083,
          703.6826744085552,
          688.589854897469,
          663.2266618491137,
          635.817416882872,
          609.7790964965467,
          585.6609841251558,
          563.7220712432547,
          544.0311316036158,
          526.5361923192501,
          513.079127584798,
          507.8630439581745,
          503.7027444797936,
          500.420861628632,
          497.86060578360747
         ],
         "yaxis": "y3"
        },
        {
         "fill": "tonexty",
         "fillcolor": "rgba(27,158,119,0.2)",
         "line": {
          "color": "rgb(27,158,119)",
          "width": 0
         },
         "marker": {
          "color": "rgb(27,158,119)"
         },
         "mode": "lines",
         "name": "0.75",
         "showlegend": false,
         "type": "scatter",
         "x": [
          2010,
          2011,
          2012,
          2013,
          2014,
          2015,
          2016,
          2017,
          2018,
          2019,
          2020,
          2021,
          2022,
          2023,
          2024,
          2025,
          2026,
          2027,
          2028,
          2029,
          2030,
          2031,
          2032,
          2033,
          2034,
          2035
         ],
         "xaxis": "x3",
         "y": [
          946.2832722273647,
          929.5539129067292,
          913.8306059959959,
          897.7344948195391,
          881.8266726789711,
          863.9215836707472,
          845.2506380765642,
          826.6072452319589,
          808.9503616330793,
          791.6377609189879,
          775.1847957731854,
          764.682873609019,
          753.1152863412353,
          738.0153120086187,
          720.8906585477916,
          702.9897676883002,
          680.0743675341469,
          658.4947320063312,
          638.866650345409,
          621.3323239159465,
          605.8754392195378,
          592.6523641743523,
          584.7136129874807,
          578.0502201602753,
          572.4979540409565,
          567.9029446824106
         ],
         "yaxis": "y3"
        },
        {
         "fill": "tonexty",
         "fillcolor": "rgba(27,158,119,0.2)",
         "line": {
          "color": "rgb(27,158,119)",
          "width": 0
         },
         "marker": {
          "color": "rgb(27,158,119)"
         },
         "mode": "lines",
         "name": "0.975",
         "showlegend": false,
         "type": "scatter",
         "x": [
          2010,
          2011,
          2012,
          2013,
          2014,
          2015,
          2016,
          2017,
          2018,
          2019,
          2020,
          2021,
          2022,
          2023,
          2024,
          2025,
          2026,
          2027,
          2028,
          2029,
          2030,
          2031,
          2032,
          2033,
          2034,
          2035
         ],
         "xaxis": "x3",
         "y": [
          1064.4499487537917,
          1042.892242606227,
          1021.3782618676508,
          1001.1245593089859,
          984.8655934031167,
          969.6981391814849,
          954.5471382203444,
          940.0771974537917,
          927.0267169051901,
          914.2700051158599,
          900.4554409271625,
          884.4503754445923,
          865.653400517637,
          839.9768303837504,
          809.7584882356851,
          777.9274118752074,
          747.3261110773258,
          719.605207335486,
          695.4957502488628,
          675.6876604242785,
          660.2900047162168,
          647.7044836684661,
          637.5701321193128,
          629.517488990885,
          623.1973643450743,
          618.2951451612358
         ],
         "yaxis": "y3"
        },
        {
         "fillcolor": "rgba(27,158,119,0.2)",
         "line": {
          "color": "rgb(27,158,119)",
          "width": 2
         },
         "marker": {
          "color": "rgb(27,158,119)"
         },
         "mode": "lines",
         "name": "Without Xpert improvement",
         "showlegend": false,
         "type": "scatter",
         "x": [
          2010,
          2011,
          2012,
          2013,
          2014,
          2015,
          2016,
          2017,
          2018,
          2019,
          2020,
          2021,
          2022,
          2023,
          2024,
          2025,
          2026,
          2027,
          2028,
          2029,
          2030,
          2031,
          2032,
          2033,
          2034,
          2035
         ],
         "xaxis": "x3",
         "y": [
          880.6844410091551,
          861.8136879513982,
          851.2613702241517,
          840.5864523972749,
          830.272647328398,
          818.9299337160556,
          794.3925718640756,
          769.9175282444651,
          750.0558145062811,
          740.4090256006302,
          729.2272761930515,
          716.9086385564083,
          703.6826744085552,
          688.589854897469,
          663.2266618491137,
          635.817416882872,
          609.7790964965467,
          585.6609841251558,
          563.7220712432547,
          544.0311316036158,
          526.5361923192501,
          513.079127584798,
          507.8630439581745,
          503.7027444797936,
          500.420861628632,
          497.86060578360747
         ],
         "yaxis": "y3"
        },
        {
         "fill": "tonexty",
         "fillcolor": "rgba(217,95,2,0.2)",
         "line": {
          "color": "rgb(217,95,2)",
          "width": 0
         },
         "marker": {
          "color": "rgb(217,95,2)"
         },
         "mode": "lines",
         "name": "0.025",
         "showlegend": false,
         "type": "scatter",
         "x": [
          2010,
          2011,
          2012,
          2013,
          2014,
          2015,
          2016,
          2017,
          2018,
          2019,
          2020,
          2021,
          2022,
          2023,
          2024,
          2025,
          2026,
          2027,
          2028,
          2029,
          2030,
          2031,
          2032,
          2033,
          2034,
          2035
         ],
         "xaxis": "x3",
         "y": [
          646.7031904006452,
          638.0109848264301,
          628.159526765487,
          618.0520274859952,
          608.3079122674965,
          597.3494398629084,
          563.1075422311673,
          526.1225931748119,
          496.32754521984526,
          471.1609777396318,
          446.89635517893646,
          425.20905471988164,
          405.0341662846512,
          384.4385511517436,
          364.60867177132127,
          346.81228192334885,
          326.83549346937866,
          310.46382984073176,
          297.26236633269195,
          284.7065830133297,
          272.66008698539605,
          260.6004506634516,
          250.22794079640596,
          241.85349947634876,
          235.01752121638273,
          229.36002861191463
         ],
         "yaxis": "y3"
        },
        {
         "fill": "tonexty",
         "fillcolor": "rgba(217,95,2,0.2)",
         "line": {
          "color": "rgb(217,95,2)",
          "width": 0
         },
         "marker": {
          "color": "rgb(217,95,2)"
         },
         "mode": "lines",
         "name": "0.25",
         "showlegend": false,
         "type": "scatter",
         "x": [
          2010,
          2011,
          2012,
          2013,
          2014,
          2015,
          2016,
          2017,
          2018,
          2019,
          2020,
          2021,
          2022,
          2023,
          2024,
          2025,
          2026,
          2027,
          2028,
          2029,
          2030,
          2031,
          2032,
          2033,
          2034,
          2035
         ],
         "xaxis": "x3",
         "y": [
          774.9383138699843,
          761.4305556961473,
          744.9421148284275,
          727.2757875750824,
          696.2559540722527,
          685.4782909412543,
          665.3646321213465,
          642.7228084079246,
          619.3157416723602,
          603.0510622998254,
          585.4922717208153,
          561.8349237760972,
          534.3976749306711,
          498.7909607135474,
          455.5304746362425,
          418.1938755019346,
          385.324577107405,
          359.2752541254493,
          340.64935796997815,
          324.9764379137707,
          311.8763340793009,
          300.95170377446937,
          288.61825509569996,
          278.44118972100443,
          272.4542225637099,
          268.31713715250737
         ],
         "yaxis": "y3"
        },
        {
         "fill": "tonexty",
         "fillcolor": "rgba(217,95,2,0.2)",
         "line": {
          "color": "rgb(217,95,2)",
          "width": 0
         },
         "marker": {
          "color": "rgb(217,95,2)"
         },
         "mode": "lines",
         "name": "0.5",
         "showlegend": false,
         "type": "scatter",
         "x": [
          2010,
          2011,
          2012,
          2013,
          2014,
          2015,
          2016,
          2017,
          2018,
          2019,
          2020,
          2021,
          2022,
          2023,
          2024,
          2025,
          2026,
          2027,
          2028,
          2029,
          2030,
          2031,
          2032,
          2033,
          2034,
          2035
         ],
         "xaxis": "x3",
         "y": [
          854.9004969498366,
          831.3173292897812,
          805.204511504036,
          769.2260993576688,
          751.8240910222595,
          726.1864547803807,
          701.2795974887428,
          683.7874828863444,
          676.3416581537875,
          664.8650888983739,
          634.2997260584717,
          609.1938785096842,
          585.6804483344968,
          558.6465856966652,
          530.0987694117097,
          502.51094159877636,
          458.3432882734698,
          417.7778720998312,
          383.66696648454723,
          362.7503554882853,
          346.34860288684087,
          333.13425966607565,
          322.43543471241554,
          313.6972922194217,
          306.4762642293261,
          300.4247484519601
         ],
         "yaxis": "y3"
        },
        {
         "fill": "tonexty",
         "fillcolor": "rgba(217,95,2,0.2)",
         "line": {
          "color": "rgb(217,95,2)",
          "width": 0
         },
         "marker": {
          "color": "rgb(217,95,2)"
         },
         "mode": "lines",
         "name": "0.75",
         "showlegend": false,
         "type": "scatter",
         "x": [
          2010,
          2011,
          2012,
          2013,
          2014,
          2015,
          2016,
          2017,
          2018,
          2019,
          2020,
          2021,
          2022,
          2023,
          2024,
          2025,
          2026,
          2027,
          2028,
          2029,
          2030,
          2031,
          2032,
          2033,
          2034,
          2035
         ],
         "xaxis": "x3",
         "y": [
          932.5023127487057,
          918.9822670619942,
          875.8096800437868,
          855.6197906568825,
          831.9717858674387,
          806.00630336472,
          777.4056336973488,
          745.9224115962797,
          713.8529573432289,
          683.9403088921639,
          655.1977144661039,
          635.6976864018438,
          617.8870976236705,
          598.479429623683,
          558.888038523268,
          513.5613807877362,
          483.27843443603126,
          461.67531211430116,
          443.2771058361341,
          427.82492598230954,
          412.22145622753186,
          399.0341124451936,
          390.3511604025886,
          383.2954250493481,
          377.5591946725947,
          372.8854686749204
         ],
         "yaxis": "y3"
        },
        {
         "fill": "tonexty",
         "fillcolor": "rgba(217,95,2,0.2)",
         "line": {
          "color": "rgb(217,95,2)",
          "width": 0
         },
         "marker": {
          "color": "rgb(217,95,2)"
         },
         "mode": "lines",
         "name": "0.975",
         "showlegend": false,
         "type": "scatter",
         "x": [
          2010,
          2011,
          2012,
          2013,
          2014,
          2015,
          2016,
          2017,
          2018,
          2019,
          2020,
          2021,
          2022,
          2023,
          2024,
          2025,
          2026,
          2027,
          2028,
          2029,
          2030,
          2031,
          2032,
          2033,
          2034,
          2035
         ],
         "xaxis": "x3",
         "y": [
          1327.0387227789497,
          1258.0157194375192,
          1215.2684741440135,
          1169.7969037466917,
          1123.6823194356862,
          1078.289704840362,
          1032.374007947071,
          986.7410319560071,
          942.5253721940425,
          894.876696198029,
          842.1111039435443,
          793.4599818795534,
          736.9215822318249,
          678.5849226767332,
          630.4711275361752,
          596.9302373158148,
          572.5139991755796,
          550.8021231306426,
          540.3318839792157,
          531.582753161058,
          524.3799677486393,
          518.4997825396645,
          513.7163020356378,
          509.82412326451947,
          506.64692906477364,
          504.03887094641516
         ],
         "yaxis": "y3"
        },
        {
         "fillcolor": "rgba(217,95,2,0.2)",
         "line": {
          "color": "rgb(217,95,2)",
          "width": 2
         },
         "marker": {
          "color": "rgb(217,95,2)"
         },
         "mode": "lines",
         "name": "With Xpert improvement",
         "showlegend": false,
         "type": "scatter",
         "x": [
          2010,
          2011,
          2012,
          2013,
          2014,
          2015,
          2016,
          2017,
          2018,
          2019,
          2020,
          2021,
          2022,
          2023,
          2024,
          2025,
          2026,
          2027,
          2028,
          2029,
          2030,
          2031,
          2032,
          2033,
          2034,
          2035
         ],
         "xaxis": "x3",
         "y": [
          854.9004969498366,
          831.3173292897812,
          805.204511504036,
          769.2260993576688,
          751.8240910222595,
          726.1864547803807,
          701.2795974887428,
          683.7874828863444,
          676.3416581537875,
          664.8650888983739,
          634.2997260584717,
          609.1938785096842,
          585.6804483344968,
          558.6465856966652,
          530.0987694117097,
          502.51094159877636,
          458.3432882734698,
          417.7778720998312,
          383.66696648454723,
          362.7503554882853,
          346.34860288684087,
          333.13425966607565,
          322.43543471241554,
          313.6972922194217,
          306.4762642293261,
          300.4247484519601
         ],
         "yaxis": "y3"
        },
        {
         "legendgroup": "Target",
         "marker": {
          "color": "black",
          "size": 5
         },
         "mode": "markers",
         "name": "Pulmonary TB prevalence in adults (2013-2014 National Prevalence Survey)",
         "showlegend": false,
         "type": "scatter",
         "x": [
          2014
         ],
         "xaxis": "x3",
         "y": [
          759.1
         ],
         "yaxis": "y3"
        }
       ],
       "layout": {
        "annotations": [
         {
          "font": {
           "size": 16
          },
          "showarrow": false,
          "text": "<b>No CDR</b>",
          "x": 0.5,
          "xanchor": "center",
          "xref": "paper",
          "y": 1,
          "yanchor": "bottom",
          "yref": "paper"
         },
         {
          "font": {
           "size": 16
          },
          "showarrow": false,
          "text": "<b>CDR on notification</b>",
          "x": 0.5,
          "xanchor": "center",
          "xref": "paper",
          "y": 0.6399999999999999,
          "yanchor": "bottom",
          "yref": "paper"
         },
         {
          "font": {
           "size": 16
          },
          "showarrow": false,
          "text": "<b>CDR on treatment commencement</b>",
          "x": 0.5,
          "xanchor": "center",
          "xref": "paper",
          "y": 0.27999999999999997,
          "yanchor": "bottom",
          "yref": "paper"
         }
        ],
        "font": {
         "family": "Space Grotesk"
        },
        "height": 900,
        "legend": {
         "orientation": "h",
         "x": 0.5,
         "xanchor": "center",
         "y": -0.15,
         "yanchor": "bottom"
        },
        "margin": {
         "b": 20,
         "l": 20,
         "r": 20,
         "t": 20
        },
        "showlegend": true,
        "template": {
         "data": {
          "bar": [
           {
            "error_x": {
             "color": "#2a3f5f"
            },
            "error_y": {
             "color": "#2a3f5f"
            },
            "marker": {
             "line": {
              "color": "#E5ECF6",
              "width": 0.5
             },
             "pattern": {
              "fillmode": "overlay",
              "size": 10,
              "solidity": 0.2
             }
            },
            "type": "bar"
           }
          ],
          "barpolar": [
           {
            "marker": {
             "line": {
              "color": "#E5ECF6",
              "width": 0.5
             },
             "pattern": {
              "fillmode": "overlay",
              "size": 10,
              "solidity": 0.2
             }
            },
            "type": "barpolar"
           }
          ],
          "carpet": [
           {
            "aaxis": {
             "endlinecolor": "#2a3f5f",
             "gridcolor": "white",
             "linecolor": "white",
             "minorgridcolor": "white",
             "startlinecolor": "#2a3f5f"
            },
            "baxis": {
             "endlinecolor": "#2a3f5f",
             "gridcolor": "white",
             "linecolor": "white",
             "minorgridcolor": "white",
             "startlinecolor": "#2a3f5f"
            },
            "type": "carpet"
           }
          ],
          "choropleth": [
           {
            "colorbar": {
             "outlinewidth": 0,
             "ticks": ""
            },
            "type": "choropleth"
           }
          ],
          "contour": [
           {
            "colorbar": {
             "outlinewidth": 0,
             "ticks": ""
            },
            "colorscale": [
             [
              0,
              "#0d0887"
             ],
             [
              0.1111111111111111,
              "#46039f"
             ],
             [
              0.2222222222222222,
              "#7201a8"
             ],
             [
              0.3333333333333333,
              "#9c179e"
             ],
             [
              0.4444444444444444,
              "#bd3786"
             ],
             [
              0.5555555555555556,
              "#d8576b"
             ],
             [
              0.6666666666666666,
              "#ed7953"
             ],
             [
              0.7777777777777778,
              "#fb9f3a"
             ],
             [
              0.8888888888888888,
              "#fdca26"
             ],
             [
              1,
              "#f0f921"
             ]
            ],
            "type": "contour"
           }
          ],
          "contourcarpet": [
           {
            "colorbar": {
             "outlinewidth": 0,
             "ticks": ""
            },
            "type": "contourcarpet"
           }
          ],
          "heatmap": [
           {
            "colorbar": {
             "outlinewidth": 0,
             "ticks": ""
            },
            "colorscale": [
             [
              0,
              "#0d0887"
             ],
             [
              0.1111111111111111,
              "#46039f"
             ],
             [
              0.2222222222222222,
              "#7201a8"
             ],
             [
              0.3333333333333333,
              "#9c179e"
             ],
             [
              0.4444444444444444,
              "#bd3786"
             ],
             [
              0.5555555555555556,
              "#d8576b"
             ],
             [
              0.6666666666666666,
              "#ed7953"
             ],
             [
              0.7777777777777778,
              "#fb9f3a"
             ],
             [
              0.8888888888888888,
              "#fdca26"
             ],
             [
              1,
              "#f0f921"
             ]
            ],
            "type": "heatmap"
           }
          ],
          "heatmapgl": [
           {
            "colorbar": {
             "outlinewidth": 0,
             "ticks": ""
            },
            "colorscale": [
             [
              0,
              "#0d0887"
             ],
             [
              0.1111111111111111,
              "#46039f"
             ],
             [
              0.2222222222222222,
              "#7201a8"
             ],
             [
              0.3333333333333333,
              "#9c179e"
             ],
             [
              0.4444444444444444,
              "#bd3786"
             ],
             [
              0.5555555555555556,
              "#d8576b"
             ],
             [
              0.6666666666666666,
              "#ed7953"
             ],
             [
              0.7777777777777778,
              "#fb9f3a"
             ],
             [
              0.8888888888888888,
              "#fdca26"
             ],
             [
              1,
              "#f0f921"
             ]
            ],
            "type": "heatmapgl"
           }
          ],
          "histogram": [
           {
            "marker": {
             "pattern": {
              "fillmode": "overlay",
              "size": 10,
              "solidity": 0.2
             }
            },
            "type": "histogram"
           }
          ],
          "histogram2d": [
           {
            "colorbar": {
             "outlinewidth": 0,
             "ticks": ""
            },
            "colorscale": [
             [
              0,
              "#0d0887"
             ],
             [
              0.1111111111111111,
              "#46039f"
             ],
             [
              0.2222222222222222,
              "#7201a8"
             ],
             [
              0.3333333333333333,
              "#9c179e"
             ],
             [
              0.4444444444444444,
              "#bd3786"
             ],
             [
              0.5555555555555556,
              "#d8576b"
             ],
             [
              0.6666666666666666,
              "#ed7953"
             ],
             [
              0.7777777777777778,
              "#fb9f3a"
             ],
             [
              0.8888888888888888,
              "#fdca26"
             ],
             [
              1,
              "#f0f921"
             ]
            ],
            "type": "histogram2d"
           }
          ],
          "histogram2dcontour": [
           {
            "colorbar": {
             "outlinewidth": 0,
             "ticks": ""
            },
            "colorscale": [
             [
              0,
              "#0d0887"
             ],
             [
              0.1111111111111111,
              "#46039f"
             ],
             [
              0.2222222222222222,
              "#7201a8"
             ],
             [
              0.3333333333333333,
              "#9c179e"
             ],
             [
              0.4444444444444444,
              "#bd3786"
             ],
             [
              0.5555555555555556,
              "#d8576b"
             ],
             [
              0.6666666666666666,
              "#ed7953"
             ],
             [
              0.7777777777777778,
              "#fb9f3a"
             ],
             [
              0.8888888888888888,
              "#fdca26"
             ],
             [
              1,
              "#f0f921"
             ]
            ],
            "type": "histogram2dcontour"
           }
          ],
          "mesh3d": [
           {
            "colorbar": {
             "outlinewidth": 0,
             "ticks": ""
            },
            "type": "mesh3d"
           }
          ],
          "parcoords": [
           {
            "line": {
             "colorbar": {
              "outlinewidth": 0,
              "ticks": ""
             }
            },
            "type": "parcoords"
           }
          ],
          "pie": [
           {
            "automargin": true,
            "type": "pie"
           }
          ],
          "scatter": [
           {
            "fillpattern": {
             "fillmode": "overlay",
             "size": 10,
             "solidity": 0.2
            },
            "type": "scatter"
           }
          ],
          "scatter3d": [
           {
            "line": {
             "colorbar": {
              "outlinewidth": 0,
              "ticks": ""
             }
            },
            "marker": {
             "colorbar": {
              "outlinewidth": 0,
              "ticks": ""
             }
            },
            "type": "scatter3d"
           }
          ],
          "scattercarpet": [
           {
            "marker": {
             "colorbar": {
              "outlinewidth": 0,
              "ticks": ""
             }
            },
            "type": "scattercarpet"
           }
          ],
          "scattergeo": [
           {
            "marker": {
             "colorbar": {
              "outlinewidth": 0,
              "ticks": ""
             }
            },
            "type": "scattergeo"
           }
          ],
          "scattergl": [
           {
            "marker": {
             "colorbar": {
              "outlinewidth": 0,
              "ticks": ""
             }
            },
            "type": "scattergl"
           }
          ],
          "scattermapbox": [
           {
            "marker": {
             "colorbar": {
              "outlinewidth": 0,
              "ticks": ""
             }
            },
            "type": "scattermapbox"
           }
          ],
          "scatterpolar": [
           {
            "marker": {
             "colorbar": {
              "outlinewidth": 0,
              "ticks": ""
             }
            },
            "type": "scatterpolar"
           }
          ],
          "scatterpolargl": [
           {
            "marker": {
             "colorbar": {
              "outlinewidth": 0,
              "ticks": ""
             }
            },
            "type": "scatterpolargl"
           }
          ],
          "scatterternary": [
           {
            "marker": {
             "colorbar": {
              "outlinewidth": 0,
              "ticks": ""
             }
            },
            "type": "scatterternary"
           }
          ],
          "surface": [
           {
            "colorbar": {
             "outlinewidth": 0,
             "ticks": ""
            },
            "colorscale": [
             [
              0,
              "#0d0887"
             ],
             [
              0.1111111111111111,
              "#46039f"
             ],
             [
              0.2222222222222222,
              "#7201a8"
             ],
             [
              0.3333333333333333,
              "#9c179e"
             ],
             [
              0.4444444444444444,
              "#bd3786"
             ],
             [
              0.5555555555555556,
              "#d8576b"
             ],
             [
              0.6666666666666666,
              "#ed7953"
             ],
             [
              0.7777777777777778,
              "#fb9f3a"
             ],
             [
              0.8888888888888888,
              "#fdca26"
             ],
             [
              1,
              "#f0f921"
             ]
            ],
            "type": "surface"
           }
          ],
          "table": [
           {
            "cells": {
             "fill": {
              "color": "#EBF0F8"
             },
             "line": {
              "color": "white"
             }
            },
            "header": {
             "fill": {
              "color": "#C8D4E3"
             },
             "line": {
              "color": "white"
             }
            },
            "type": "table"
           }
          ]
         },
         "layout": {
          "annotationdefaults": {
           "arrowcolor": "#2a3f5f",
           "arrowhead": 0,
           "arrowwidth": 1
          },
          "autotypenumbers": "strict",
          "coloraxis": {
           "colorbar": {
            "outlinewidth": 0,
            "ticks": ""
           }
          },
          "colorscale": {
           "diverging": [
            [
             0,
             "#8e0152"
            ],
            [
             0.1,
             "#c51b7d"
            ],
            [
             0.2,
             "#de77ae"
            ],
            [
             0.3,
             "#f1b6da"
            ],
            [
             0.4,
             "#fde0ef"
            ],
            [
             0.5,
             "#f7f7f7"
            ],
            [
             0.6,
             "#e6f5d0"
            ],
            [
             0.7,
             "#b8e186"
            ],
            [
             0.8,
             "#7fbc41"
            ],
            [
             0.9,
             "#4d9221"
            ],
            [
             1,
             "#276419"
            ]
           ],
           "sequential": [
            [
             0,
             "#0d0887"
            ],
            [
             0.1111111111111111,
             "#46039f"
            ],
            [
             0.2222222222222222,
             "#7201a8"
            ],
            [
             0.3333333333333333,
             "#9c179e"
            ],
            [
             0.4444444444444444,
             "#bd3786"
            ],
            [
             0.5555555555555556,
             "#d8576b"
            ],
            [
             0.6666666666666666,
             "#ed7953"
            ],
            [
             0.7777777777777778,
             "#fb9f3a"
            ],
            [
             0.8888888888888888,
             "#fdca26"
            ],
            [
             1,
             "#f0f921"
            ]
           ],
           "sequentialminus": [
            [
             0,
             "#0d0887"
            ],
            [
             0.1111111111111111,
             "#46039f"
            ],
            [
             0.2222222222222222,
             "#7201a8"
            ],
            [
             0.3333333333333333,
             "#9c179e"
            ],
            [
             0.4444444444444444,
             "#bd3786"
            ],
            [
             0.5555555555555556,
             "#d8576b"
            ],
            [
             0.6666666666666666,
             "#ed7953"
            ],
            [
             0.7777777777777778,
             "#fb9f3a"
            ],
            [
             0.8888888888888888,
             "#fdca26"
            ],
            [
             1,
             "#f0f921"
            ]
           ]
          },
          "colorway": [
           "#636efa",
           "#EF553B",
           "#00cc96",
           "#ab63fa",
           "#FFA15A",
           "#19d3f3",
           "#FF6692",
           "#B6E880",
           "#FF97FF",
           "#FECB52"
          ],
          "font": {
           "color": "#2a3f5f"
          },
          "geo": {
           "bgcolor": "white",
           "lakecolor": "white",
           "landcolor": "#E5ECF6",
           "showlakes": true,
           "showland": true,
           "subunitcolor": "white"
          },
          "hoverlabel": {
           "align": "left"
          },
          "hovermode": "closest",
          "mapbox": {
           "style": "light"
          },
          "paper_bgcolor": "white",
          "plot_bgcolor": "#E5ECF6",
          "polar": {
           "angularaxis": {
            "gridcolor": "white",
            "linecolor": "white",
            "ticks": ""
           },
           "bgcolor": "#E5ECF6",
           "radialaxis": {
            "gridcolor": "white",
            "linecolor": "white",
            "ticks": ""
           }
          },
          "scene": {
           "xaxis": {
            "backgroundcolor": "#E5ECF6",
            "gridcolor": "white",
            "gridwidth": 2,
            "linecolor": "white",
            "showbackground": true,
            "ticks": "",
            "zerolinecolor": "white"
           },
           "yaxis": {
            "backgroundcolor": "#E5ECF6",
            "gridcolor": "white",
            "gridwidth": 2,
            "linecolor": "white",
            "showbackground": true,
            "ticks": "",
            "zerolinecolor": "white"
           },
           "zaxis": {
            "backgroundcolor": "#E5ECF6",
            "gridcolor": "white",
            "gridwidth": 2,
            "linecolor": "white",
            "showbackground": true,
            "ticks": "",
            "zerolinecolor": "white"
           }
          },
          "shapedefaults": {
           "line": {
            "color": "#2a3f5f"
           }
          },
          "ternary": {
           "aaxis": {
            "gridcolor": "white",
            "linecolor": "white",
            "ticks": ""
           },
           "baxis": {
            "gridcolor": "white",
            "linecolor": "white",
            "ticks": ""
           },
           "bgcolor": "#E5ECF6",
           "caxis": {
            "gridcolor": "white",
            "linecolor": "white",
            "ticks": ""
           }
          },
          "title": {
           "x": 0.05
          },
          "xaxis": {
           "automargin": true,
           "gridcolor": "white",
           "linecolor": "white",
           "ticks": "",
           "title": {
            "standoff": 15
           },
           "zerolinecolor": "white",
           "zerolinewidth": 2
          },
          "yaxis": {
           "automargin": true,
           "gridcolor": "white",
           "linecolor": "white",
           "ticks": "",
           "title": {
            "standoff": 15
           },
           "zerolinecolor": "white",
           "zerolinewidth": 2
          }
         }
        },
        "title": {
         "font": {
          "family": "Space Grotesk"
         }
        },
        "xaxis": {
         "anchor": "y",
         "domain": [
          0,
          1
         ],
         "matches": "x3",
         "showticklabels": false
        },
        "xaxis2": {
         "anchor": "y2",
         "domain": [
          0,
          1
         ],
         "matches": "x3",
         "showticklabels": false
        },
        "xaxis3": {
         "anchor": "y3",
         "domain": [
          0,
          1
         ],
         "title": {
          "text": "Year"
         }
        },
        "yaxis": {
         "anchor": "x",
         "domain": [
          0.72,
          1
         ],
         "title": {
          "text": "No. of case notification"
         }
        },
        "yaxis2": {
         "anchor": "x2",
         "domain": [
          0.36,
          0.6399999999999999
         ],
         "title": {
          "text": "No. of case notification"
         }
        },
        "yaxis3": {
         "anchor": "x3",
         "domain": [
          0,
          0.27999999999999997
         ],
         "title": {
          "text": "No. of case notification"
         }
        }
       }
      }
     },
     "metadata": {},
     "output_type": "display_data"
    },
    {
     "data": {
      "application/vnd.plotly.v1+json": {
       "config": {
        "plotlyServerURL": "https://plot.ly"
       },
       "data": [
        {
         "fill": "tonexty",
         "fillcolor": "rgba(27,158,119,0.2)",
         "line": {
          "color": "rgb(27,158,119)",
          "width": 0
         },
         "marker": {
          "color": "rgb(27,158,119)"
         },
         "mode": "lines",
         "name": "0.025",
         "showlegend": false,
         "type": "scatter",
         "x": [
          2010,
          2011,
          2012,
          2013,
          2014,
          2015,
          2016,
          2017,
          2018,
          2019,
          2020,
          2021,
          2022,
          2023,
          2024,
          2025,
          2026,
          2027,
          2028,
          2029,
          2030,
          2031,
          2032,
          2033,
          2034,
          2035
         ],
         "xaxis": "x",
         "y": [
          580.003395475806,
          540.8972477630739,
          506.6318796212358,
          475.6485741112931,
          449.1909494574575,
          427.202566020935,
          407.01998798640193,
          383.37310200304705,
          364.59366957767645,
          340.5696551175396,
          319.1718543706426,
          300.78231159922774,
          282.7211927488295,
          267.3587187851214,
          251.9584460858222,
          236.3338287468361,
          220.99627576548872,
          208.6867280470273,
          198.7937495839191,
          190.78402347903042,
          184.22007693727048,
          178.75561619905065,
          174.12265595733487,
          170.11679706046903,
          166.58376328021671,
          163.40787838257012
         ],
         "yaxis": "y"
        },
        {
         "fill": "tonexty",
         "fillcolor": "rgba(27,158,119,0.2)",
         "line": {
          "color": "rgb(27,158,119)",
          "width": 0
         },
         "marker": {
          "color": "rgb(27,158,119)"
         },
         "mode": "lines",
         "name": "0.25",
         "showlegend": false,
         "type": "scatter",
         "x": [
          2010,
          2011,
          2012,
          2013,
          2014,
          2015,
          2016,
          2017,
          2018,
          2019,
          2020,
          2021,
          2022,
          2023,
          2024,
          2025,
          2026,
          2027,
          2028,
          2029,
          2030,
          2031,
          2032,
          2033,
          2034,
          2035
         ],
         "xaxis": "x",
         "y": [
          955.0204757661422,
          890.6778859405186,
          830.0747662926478,
          761.9761307607114,
          693.2412981347745,
          630.3396859126549,
          573.9026276417655,
          517.2578366977812,
          470.3364864139709,
          428.34662651618044,
          391.9822894999709,
          372.1990889161614,
          361.706394281468,
          350.62277027787997,
          339.90597059999556,
          330.0241319233927,
          321.1293400007901,
          313.20996161513415,
          306.18190239894807,
          299.9358211762395,
          294.36060794858486,
          289.35383443488,
          284.82594283565163,
          280.70068474714657,
          276.91436851091396,
          273.4142272298939
         ],
         "yaxis": "y"
        },
        {
         "fill": "tonexty",
         "fillcolor": "rgba(27,158,119,0.2)",
         "line": {
          "color": "rgb(27,158,119)",
          "width": 0
         },
         "marker": {
          "color": "rgb(27,158,119)"
         },
         "mode": "lines",
         "name": "0.5",
         "showlegend": false,
         "type": "scatter",
         "x": [
          2010,
          2011,
          2012,
          2013,
          2014,
          2015,
          2016,
          2017,
          2018,
          2019,
          2020,
          2021,
          2022,
          2023,
          2024,
          2025,
          2026,
          2027,
          2028,
          2029,
          2030,
          2031,
          2032,
          2033,
          2034,
          2035
         ],
         "xaxis": "x",
         "y": [
          1027.6464680030572,
          944.6082473068743,
          872.5709776909849,
          805.1451781701847,
          746.8043479246138,
          693.9401735012881,
          640.9647714021366,
          582.8327884762325,
          535.4783669835939,
          505.13873531234356,
          473.803437940585,
          457.5962016879686,
          440.5110955728618,
          421.15015236333187,
          402.4403920494975,
          385.62250175827,
          371.012273258301,
          358.50099198251127,
          347.8187246290667,
          338.65919699726174,
          330.7350517597674,
          323.79813851789373,
          317.64370070531197,
          312.1072597123336,
          307.0589083365764,
          304.1958907070061
         ],
         "yaxis": "y"
        },
        {
         "fill": "tonexty",
         "fillcolor": "rgba(27,158,119,0.2)",
         "line": {
          "color": "rgb(27,158,119)",
          "width": 0
         },
         "marker": {
          "color": "rgb(27,158,119)"
         },
         "mode": "lines",
         "name": "0.75",
         "showlegend": false,
         "type": "scatter",
         "x": [
          2010,
          2011,
          2012,
          2013,
          2014,
          2015,
          2016,
          2017,
          2018,
          2019,
          2020,
          2021,
          2022,
          2023,
          2024,
          2025,
          2026,
          2027,
          2028,
          2029,
          2030,
          2031,
          2032,
          2033,
          2034,
          2035
         ],
         "xaxis": "x",
         "y": [
          1265.88169102136,
          1130.7996563921383,
          1006.5453183027478,
          893.3253830762419,
          797.1646458851935,
          735.5309247777466,
          667.6490522166798,
          625.6526565018564,
          596.2789219552377,
          572.7102732278107,
          550.4219634347039,
          533.8907107172183,
          519.1012618042115,
          505.23160505310193,
          492.06036826237926,
          480.0898099936846,
          469.4834320720051,
          460.1770750881435,
          452.01833985166303,
          444.83366417946974,
          438.45821020802885,
          432.7477415162234,
          427.58129964297297,
          422.85996272439104,
          418.5041568032731,
          414.4502277112174
         ],
         "yaxis": "y"
        },
        {
         "fill": "tonexty",
         "fillcolor": "rgba(27,158,119,0.2)",
         "line": {
          "color": "rgb(27,158,119)",
          "width": 0
         },
         "marker": {
          "color": "rgb(27,158,119)"
         },
         "mode": "lines",
         "name": "0.975",
         "showlegend": false,
         "type": "scatter",
         "x": [
          2010,
          2011,
          2012,
          2013,
          2014,
          2015,
          2016,
          2017,
          2018,
          2019,
          2020,
          2021,
          2022,
          2023,
          2024,
          2025,
          2026,
          2027,
          2028,
          2029,
          2030,
          2031,
          2032,
          2033,
          2034,
          2035
         ],
         "xaxis": "x",
         "y": [
          1519.0171757813152,
          1330.929030522441,
          1159.8918901022098,
          1006.951799462723,
          878.6472972751848,
          789.698100662916,
          725.9724801385455,
          678.0680607045837,
          641.9456189570545,
          614.4145585211584,
          593.5482238079472,
          588.515287404154,
          579.9176849010024,
          566.6153392268145,
          551.6329454357561,
          537.3940348299782,
          524.8072669897874,
          514.0585619509774,
          505.0250019189533,
          497.47290890863525,
          491.1494155160219,
          485.82187850478016,
          481.2914261164577,
          477.39508913311437,
          474.00244832176816,
          471.0106822685518
         ],
         "yaxis": "y"
        },
        {
         "fillcolor": "rgba(27,158,119,0.2)",
         "line": {
          "color": "rgb(27,158,119)",
          "width": 2
         },
         "marker": {
          "color": "rgb(27,158,119)"
         },
         "mode": "lines",
         "name": "Without Xpert improvement",
         "showlegend": true,
         "type": "scatter",
         "x": [
          2010,
          2011,
          2012,
          2013,
          2014,
          2015,
          2016,
          2017,
          2018,
          2019,
          2020,
          2021,
          2022,
          2023,
          2024,
          2025,
          2026,
          2027,
          2028,
          2029,
          2030,
          2031,
          2032,
          2033,
          2034,
          2035
         ],
         "xaxis": "x",
         "y": [
          1027.6464680030572,
          944.6082473068743,
          872.5709776909849,
          805.1451781701847,
          746.8043479246138,
          693.9401735012881,
          640.9647714021366,
          582.8327884762325,
          535.4783669835939,
          505.13873531234356,
          473.803437940585,
          457.5962016879686,
          440.5110955728618,
          421.15015236333187,
          402.4403920494975,
          385.62250175827,
          371.012273258301,
          358.50099198251127,
          347.8187246290667,
          338.65919699726174,
          330.7350517597674,
          323.79813851789373,
          317.64370070531197,
          312.1072597123336,
          307.0589083365764,
          304.1958907070061
         ],
         "yaxis": "y"
        },
        {
         "fill": "tonexty",
         "fillcolor": "rgba(217,95,2,0.2)",
         "line": {
          "color": "rgb(217,95,2)",
          "width": 0
         },
         "marker": {
          "color": "rgb(217,95,2)"
         },
         "mode": "lines",
         "name": "0.025",
         "showlegend": false,
         "type": "scatter",
         "x": [
          2010,
          2011,
          2012,
          2013,
          2014,
          2015,
          2016,
          2017,
          2018,
          2019,
          2020,
          2021,
          2022,
          2023,
          2024,
          2025,
          2026,
          2027,
          2028,
          2029,
          2030,
          2031,
          2032,
          2033,
          2034,
          2035
         ],
         "xaxis": "x",
         "y": [
          353.61775078341117,
          344.85719562479954,
          337.7227576307923,
          331.09460916406886,
          325.65621169603577,
          321.290950520724,
          316.82211126630045,
          312.1840460831848,
          307.60616096552644,
          302.88183931604794,
          296.0851211802943,
          289.0932502777793,
          282.92748508789305,
          272.74287912307335,
          261.63024300557663,
          251.32906225357164,
          242.355312097688,
          234.76422725640847,
          228.42006637265325,
          223.12850961938204,
          218.69463312967648,
          214.9456987307173,
          211.73772802135176,
          208.95481406979212,
          206.50568500900962,
          204.31934247233903
         ],
         "yaxis": "y"
        },
        {
         "fill": "tonexty",
         "fillcolor": "rgba(217,95,2,0.2)",
         "line": {
          "color": "rgb(217,95,2)",
          "width": 0
         },
         "marker": {
          "color": "rgb(217,95,2)"
         },
         "mode": "lines",
         "name": "0.25",
         "showlegend": false,
         "type": "scatter",
         "x": [
          2010,
          2011,
          2012,
          2013,
          2014,
          2015,
          2016,
          2017,
          2018,
          2019,
          2020,
          2021,
          2022,
          2023,
          2024,
          2025,
          2026,
          2027,
          2028,
          2029,
          2030,
          2031,
          2032,
          2033,
          2034,
          2035
         ],
         "xaxis": "x",
         "y": [
          704.2451221741703,
          678.9299007217805,
          639.6391652867424,
          603.9037969342943,
          573.2742836860191,
          547.7675371686524,
          528.1386339494255,
          511.5322324298065,
          496.7552839355467,
          478.47240160456795,
          457.2736599070248,
          439.3711635368817,
          424.0561912747261,
          408.36222060536255,
          392.6999803353945,
          378.14403883728403,
          365.2492406710902,
          354.1411745889528,
          344.7210784577611,
          336.79344097418317,
          328.4481658386843,
          320.89909967499966,
          314.5318953384466,
          309.1181768484579,
          304.7173173645574,
          301.6384328064729
         ],
         "yaxis": "y"
        },
        {
         "fill": "tonexty",
         "fillcolor": "rgba(217,95,2,0.2)",
         "line": {
          "color": "rgb(217,95,2)",
          "width": 0
         },
         "marker": {
          "color": "rgb(217,95,2)"
         },
         "mode": "lines",
         "name": "0.5",
         "showlegend": false,
         "type": "scatter",
         "x": [
          2010,
          2011,
          2012,
          2013,
          2014,
          2015,
          2016,
          2017,
          2018,
          2019,
          2020,
          2021,
          2022,
          2023,
          2024,
          2025,
          2026,
          2027,
          2028,
          2029,
          2030,
          2031,
          2032,
          2033,
          2034,
          2035
         ],
         "xaxis": "x",
         "y": [
          866.5481839674052,
          815.7924973280398,
          796.0534446123283,
          778.7831926909597,
          735.6066590109959,
          704.2196831233226,
          671.6366012756633,
          637.7020095189489,
          605.0202106917981,
          573.4086635992005,
          542.2800718211728,
          518.0417518003079,
          494.6949345872583,
          467.56780952732475,
          449.18680882636585,
          435.0439423750439,
          419.9531456525919,
          401.95814209773636,
          386.71788245579233,
          373.8831861380948,
          364.78041035434836,
          357.4880567273285,
          351.5413429732353,
          345.773766956763,
          342.72451494707286,
          339.4699728325677
         ],
         "yaxis": "y"
        },
        {
         "fill": "tonexty",
         "fillcolor": "rgba(217,95,2,0.2)",
         "line": {
          "color": "rgb(217,95,2)",
          "width": 0
         },
         "marker": {
          "color": "rgb(217,95,2)"
         },
         "mode": "lines",
         "name": "0.75",
         "showlegend": false,
         "type": "scatter",
         "x": [
          2010,
          2011,
          2012,
          2013,
          2014,
          2015,
          2016,
          2017,
          2018,
          2019,
          2020,
          2021,
          2022,
          2023,
          2024,
          2025,
          2026,
          2027,
          2028,
          2029,
          2030,
          2031,
          2032,
          2033,
          2034,
          2035
         ],
         "xaxis": "x",
         "y": [
          973.1950796810204,
          930.0392723454981,
          883.4877214476478,
          837.2683039455876,
          802.0500330449092,
          773.0860249457635,
          743.0051306873127,
          712.0703031948582,
          678.2998559992416,
          643.6711254156155,
          610.5947243421014,
          583.8296271073118,
          558.5298533588932,
          530.9297113758646,
          503.2730342122759,
          477.3724919778181,
          454.0854859876632,
          433.6555298215503,
          415.9951905674234,
          403.90597159048207,
          394.6832600157619,
          386.8485840387134,
          380.1390703458792,
          375.10625528828587,
          369.2578657653457,
          364.76293880831923
         ],
         "yaxis": "y"
        },
        {
         "fill": "tonexty",
         "fillcolor": "rgba(217,95,2,0.2)",
         "line": {
          "color": "rgb(217,95,2)",
          "width": 0
         },
         "marker": {
          "color": "rgb(217,95,2)"
         },
         "mode": "lines",
         "name": "0.975",
         "showlegend": false,
         "type": "scatter",
         "x": [
          2010,
          2011,
          2012,
          2013,
          2014,
          2015,
          2016,
          2017,
          2018,
          2019,
          2020,
          2021,
          2022,
          2023,
          2024,
          2025,
          2026,
          2027,
          2028,
          2029,
          2030,
          2031,
          2032,
          2033,
          2034,
          2035
         ],
         "xaxis": "x",
         "y": [
          1068.0971257585456,
          1049.4531902055676,
          1030.089641608435,
          1009.5279156799628,
          988.3587304263704,
          966.8464039714166,
          943.3814973872572,
          914.8689758024908,
          884.6196122838764,
          849.1462714431256,
          808.9877525133182,
          775.2428570907631,
          741.311014867305,
          699.5964119710335,
          654.1263041829217,
          611.8878951197087,
          586.0009848210144,
          563.3257814978216,
          543.5252682680905,
          526.5195442170976,
          512.0694076594291,
          499.87036789956164,
          489.60659691141893,
          480.9796890127807,
          473.72203879595486,
          467.60130420289573
         ],
         "yaxis": "y"
        },
        {
         "fillcolor": "rgba(217,95,2,0.2)",
         "line": {
          "color": "rgb(217,95,2)",
          "width": 2
         },
         "marker": {
          "color": "rgb(217,95,2)"
         },
         "mode": "lines",
         "name": "With Xpert improvement",
         "showlegend": true,
         "type": "scatter",
         "x": [
          2010,
          2011,
          2012,
          2013,
          2014,
          2015,
          2016,
          2017,
          2018,
          2019,
          2020,
          2021,
          2022,
          2023,
          2024,
          2025,
          2026,
          2027,
          2028,
          2029,
          2030,
          2031,
          2032,
          2033,
          2034,
          2035
         ],
         "xaxis": "x",
         "y": [
          866.5481839674052,
          815.7924973280398,
          796.0534446123283,
          778.7831926909597,
          735.6066590109959,
          704.2196831233226,
          671.6366012756633,
          637.7020095189489,
          605.0202106917981,
          573.4086635992005,
          542.2800718211728,
          518.0417518003079,
          494.6949345872583,
          467.56780952732475,
          449.18680882636585,
          435.0439423750439,
          419.9531456525919,
          401.95814209773636,
          386.71788245579233,
          373.8831861380948,
          364.78041035434836,
          357.4880567273285,
          351.5413429732353,
          345.773766956763,
          342.72451494707286,
          339.4699728325677
         ],
         "yaxis": "y"
        },
        {
         "legendgroup": "Target",
         "marker": {
          "color": "black",
          "size": 5
         },
         "mode": "markers",
         "name": "Pulmonary TB prevalence in adults (2013-2014 National Prevalence Survey)",
         "type": "scatter",
         "x": [
          2014
         ],
         "xaxis": "x",
         "y": [
          759.1
         ],
         "yaxis": "y"
        },
        {
         "fill": "tonexty",
         "fillcolor": "rgba(27,158,119,0.2)",
         "line": {
          "color": "rgb(27,158,119)",
          "width": 0
         },
         "marker": {
          "color": "rgb(27,158,119)"
         },
         "mode": "lines",
         "name": "0.025",
         "showlegend": false,
         "type": "scatter",
         "x": [
          2010,
          2011,
          2012,
          2013,
          2014,
          2015,
          2016,
          2017,
          2018,
          2019,
          2020,
          2021,
          2022,
          2023,
          2024,
          2025,
          2026,
          2027,
          2028,
          2029,
          2030,
          2031,
          2032,
          2033,
          2034,
          2035
         ],
         "xaxis": "x2",
         "y": [
          792.3291476827821,
          779.0414991242316,
          763.1008180419809,
          744.9547151636272,
          704.9126904737474,
          640.3792173945575,
          585.4194409370181,
          540.682177078848,
          506.6454109712768,
          480.42291510829017,
          458.74629304309366,
          445.81914479642114,
          433.1732779315138,
          418.7004915046109,
          405.06680853811514,
          393.197976864102,
          383.05342622336303,
          374.5523530659423,
          367.39951461622127,
          359.91336567325015,
          352.5735728080785,
          346.29525665925144,
          340.91267751039044,
          336.2832645291351,
          332.2860274372116,
          328.81912439855967
         ],
         "yaxis": "y2"
        },
        {
         "fill": "tonexty",
         "fillcolor": "rgba(27,158,119,0.2)",
         "line": {
          "color": "rgb(27,158,119)",
          "width": 0
         },
         "marker": {
          "color": "rgb(27,158,119)"
         },
         "mode": "lines",
         "name": "0.25",
         "showlegend": false,
         "type": "scatter",
         "x": [
          2010,
          2011,
          2012,
          2013,
          2014,
          2015,
          2016,
          2017,
          2018,
          2019,
          2020,
          2021,
          2022,
          2023,
          2024,
          2025,
          2026,
          2027,
          2028,
          2029,
          2030,
          2031,
          2032,
          2033,
          2034,
          2035
         ],
         "xaxis": "x2",
         "y": [
          870.2918466723443,
          840.4410647550612,
          804.3394910039787,
          768.9088698181794,
          727.0938269407792,
          704.3171917847501,
          680.725544848426,
          635.5599938114074,
          593.6542277519801,
          560.0927780759424,
          534.2264583070422,
          514.1558028024303,
          496.9765146551374,
          479.40758130164727,
          462.84626675799916,
          448.0552324884842,
          435.26708020139665,
          424.4243649631232,
          416.45947969854836,
          411.6740595102665,
          408.02553766356993,
          405.25969470753466,
          403.1723197805909,
          401.6030594591516,
          400.4275484902217,
          399.5508453660009
         ],
         "yaxis": "y2"
        },
        {
         "fill": "tonexty",
         "fillcolor": "rgba(27,158,119,0.2)",
         "line": {
          "color": "rgb(27,158,119)",
          "width": 0
         },
         "marker": {
          "color": "rgb(27,158,119)"
         },
         "mode": "lines",
         "name": "0.5",
         "showlegend": false,
         "type": "scatter",
         "x": [
          2010,
          2011,
          2012,
          2013,
          2014,
          2015,
          2016,
          2017,
          2018,
          2019,
          2020,
          2021,
          2022,
          2023,
          2024,
          2025,
          2026,
          2027,
          2028,
          2029,
          2030,
          2031,
          2032,
          2033,
          2034,
          2035
         ],
         "xaxis": "x2",
         "y": [
          913.8735741897963,
          874.8320157853252,
          833.4709930586725,
          794.8108065177922,
          757.9750488463043,
          741.1866304393587,
          712.7174654356128,
          695.923275823387,
          681.9237233469256,
          669.3207730108468,
          648.7452260528504,
          636.9741735218652,
          619.5358958739115,
          607.0092371707833,
          594.7777982286906,
          583.8550422350899,
          569.9923254368389,
          557.641944120729,
          550.5931898495928,
          544.5036416250156,
          539.3256469309655,
          534.9932619893262,
          531.4268393302439,
          528.5402886086703,
          522.7605523800225,
          517.0944546783337
         ],
         "yaxis": "y2"
        },
        {
         "fill": "tonexty",
         "fillcolor": "rgba(27,158,119,0.2)",
         "line": {
          "color": "rgb(27,158,119)",
          "width": 0
         },
         "marker": {
          "color": "rgb(27,158,119)"
         },
         "mode": "lines",
         "name": "0.75",
         "showlegend": false,
         "type": "scatter",
         "x": [
          2010,
          2011,
          2012,
          2013,
          2014,
          2015,
          2016,
          2017,
          2018,
          2019,
          2020,
          2021,
          2022,
          2023,
          2024,
          2025,
          2026,
          2027,
          2028,
          2029,
          2030,
          2031,
          2032,
          2033,
          2034,
          2035
         ],
         "xaxis": "x2",
         "y": [
          1039.8626799882773,
          998.9332178424901,
          921.8825846560997,
          858.2656741335333,
          817.1860557352861,
          781.3303372726612,
          759.5014887403593,
          734.6913674096259,
          706.6089089754787,
          683.8932656581449,
          664.1509291656021,
          656.2793960389524,
          650.3988482341501,
          644.0102019001938,
          635.8370209545471,
          627.0360350758092,
          618.3043993089619,
          610.0292955365564,
          597.3373329750502,
          582.5598133722292,
          570.0000625619994,
          559.3760107697368,
          550.427664707953,
          545.3067792627692,
          541.49556256051,
          538.506620899529
         ],
         "yaxis": "y2"
        },
        {
         "fill": "tonexty",
         "fillcolor": "rgba(27,158,119,0.2)",
         "line": {
          "color": "rgb(27,158,119)",
          "width": 0
         },
         "marker": {
          "color": "rgb(27,158,119)"
         },
         "mode": "lines",
         "name": "0.975",
         "showlegend": false,
         "type": "scatter",
         "x": [
          2010,
          2011,
          2012,
          2013,
          2014,
          2015,
          2016,
          2017,
          2018,
          2019,
          2020,
          2021,
          2022,
          2023,
          2024,
          2025,
          2026,
          2027,
          2028,
          2029,
          2030,
          2031,
          2032,
          2033,
          2034,
          2035
         ],
         "xaxis": "x2",
         "y": [
          2655.789101204544,
          2407.0865338036824,
          2167.1250842485188,
          1941.3787440180588,
          1741.1906269670949,
          1570.366625240058,
          1420.6780364999179,
          1293.9570650474352,
          1207.254296239059,
          1151.101746998312,
          1102.7144849954063,
          1067.6925630454296,
          1037.0858931748403,
          1005.609149093684,
          975.267807717314,
          946.8005226973007,
          924.4076028620887,
          906.8979480495364,
          890.1518384068364,
          874.3586935510291,
          859.627021831738,
          846.0077264061654,
          833.5100783636256,
          822.1143268730214,
          811.7810064122147,
          802.4579170121114
         ],
         "yaxis": "y2"
        },
        {
         "fillcolor": "rgba(27,158,119,0.2)",
         "line": {
          "color": "rgb(27,158,119)",
          "width": 2
         },
         "marker": {
          "color": "rgb(27,158,119)"
         },
         "mode": "lines",
         "name": "Without Xpert improvement",
         "showlegend": false,
         "type": "scatter",
         "x": [
          2010,
          2011,
          2012,
          2013,
          2014,
          2015,
          2016,
          2017,
          2018,
          2019,
          2020,
          2021,
          2022,
          2023,
          2024,
          2025,
          2026,
          2027,
          2028,
          2029,
          2030,
          2031,
          2032,
          2033,
          2034,
          2035
         ],
         "xaxis": "x2",
         "y": [
          913.8735741897963,
          874.8320157853252,
          833.4709930586725,
          794.8108065177922,
          757.9750488463043,
          741.1866304393587,
          712.7174654356128,
          695.923275823387,
          681.9237233469256,
          669.3207730108468,
          648.7452260528504,
          636.9741735218652,
          619.5358958739115,
          607.0092371707833,
          594.7777982286906,
          583.8550422350899,
          569.9923254368389,
          557.641944120729,
          550.5931898495928,
          544.5036416250156,
          539.3256469309655,
          534.9932619893262,
          531.4268393302439,
          528.5402886086703,
          522.7605523800225,
          517.0944546783337
         ],
         "yaxis": "y2"
        },
        {
         "fill": "tonexty",
         "fillcolor": "rgba(217,95,2,0.2)",
         "line": {
          "color": "rgb(217,95,2)",
          "width": 0
         },
         "marker": {
          "color": "rgb(217,95,2)"
         },
         "mode": "lines",
         "name": "0.025",
         "showlegend": false,
         "type": "scatter",
         "x": [
          2010,
          2011,
          2012,
          2013,
          2014,
          2015,
          2016,
          2017,
          2018,
          2019,
          2020,
          2021,
          2022,
          2023,
          2024,
          2025,
          2026,
          2027,
          2028,
          2029,
          2030,
          2031,
          2032,
          2033,
          2034,
          2035
         ],
         "xaxis": "x2",
         "y": [
          554.0280139928077,
          543.3124833143139,
          532.7153436879473,
          521.5914883987217,
          510.8496721755575,
          500.6557081438259,
          486.5071797774523,
          462.23529410866894,
          436.9192649362267,
          412.78443139321666,
          389.4706306465576,
          371.7172491687608,
          357.933633996071,
          343.5286326849241,
          329.7417923101305,
          317.94891185769706,
          308.3908183742171,
          300.81217284065497,
          294.8403060966865,
          290.12109658555045,
          286.3581903772755,
          283.2051774264555,
          280.5693173531556,
          278.4229141980117,
          276.6526140671179,
          275.1717090000048
         ],
         "yaxis": "y2"
        },
        {
         "fill": "tonexty",
         "fillcolor": "rgba(217,95,2,0.2)",
         "line": {
          "color": "rgb(217,95,2)",
          "width": 0
         },
         "marker": {
          "color": "rgb(217,95,2)"
         },
         "mode": "lines",
         "name": "0.25",
         "showlegend": false,
         "type": "scatter",
         "x": [
          2010,
          2011,
          2012,
          2013,
          2014,
          2015,
          2016,
          2017,
          2018,
          2019,
          2020,
          2021,
          2022,
          2023,
          2024,
          2025,
          2026,
          2027,
          2028,
          2029,
          2030,
          2031,
          2032,
          2033,
          2034,
          2035
         ],
         "xaxis": "x2",
         "y": [
          842.9193367603905,
          819.254386264008,
          793.596522249039,
          765.5084641700971,
          736.7521407142366,
          674.1585909143871,
          624.0142002748582,
          603.7634593465896,
          595.0676217337634,
          585.8549939048864,
          571.0032972668525,
          553.341408863868,
          537.9481429314324,
          514.8309196773768,
          490.78385452532063,
          467.70206150081276,
          446.63770997158645,
          428.0368159768356,
          411.9792844702571,
          398.34321294830613,
          386.90717965892725,
          377.41153442012774,
          369.59361171908,
          363.20653511026336,
          358.0278244889659,
          353.862528138764
         ],
         "yaxis": "y2"
        },
        {
         "fill": "tonexty",
         "fillcolor": "rgba(217,95,2,0.2)",
         "line": {
          "color": "rgb(217,95,2)",
          "width": 0
         },
         "marker": {
          "color": "rgb(217,95,2)"
         },
         "mode": "lines",
         "name": "0.5",
         "showlegend": false,
         "type": "scatter",
         "x": [
          2010,
          2011,
          2012,
          2013,
          2014,
          2015,
          2016,
          2017,
          2018,
          2019,
          2020,
          2021,
          2022,
          2023,
          2024,
          2025,
          2026,
          2027,
          2028,
          2029,
          2030,
          2031,
          2032,
          2033,
          2034,
          2035
         ],
         "xaxis": "x2",
         "y": [
          951.1355121329797,
          917.2989632994643,
          904.6443551616237,
          879.6312937279076,
          826.5163684578224,
          774.6399624271174,
          763.1356668796684,
          738.9885728261359,
          695.8006761611778,
          654.5291269512318,
          621.2106880535844,
          600.3699995236185,
          591.6428757131669,
          568.2937753975011,
          538.8593653249122,
          514.4385066955275,
          503.1953293431285,
          486.1886378799674,
          471.70974079697555,
          459.9065979145878,
          450.4135407055662,
          442.85953177451427,
          434.72462180421184,
          427.0762296134047,
          420.5879479409753,
          415.0220415534668
         ],
         "yaxis": "y2"
        },
        {
         "fill": "tonexty",
         "fillcolor": "rgba(217,95,2,0.2)",
         "line": {
          "color": "rgb(217,95,2)",
          "width": 0
         },
         "marker": {
          "color": "rgb(217,95,2)"
         },
         "mode": "lines",
         "name": "0.75",
         "showlegend": false,
         "type": "scatter",
         "x": [
          2010,
          2011,
          2012,
          2013,
          2014,
          2015,
          2016,
          2017,
          2018,
          2019,
          2020,
          2021,
          2022,
          2023,
          2024,
          2025,
          2026,
          2027,
          2028,
          2029,
          2030,
          2031,
          2032,
          2033,
          2034,
          2035
         ],
         "xaxis": "x2",
         "y": [
          1090.8074020889712,
          1032.3771928942112,
          966.6376430066913,
          907.6630346167528,
          878.8240912569021,
          835.5700369869163,
          794.3629714903975,
          760.3572892305799,
          734.1681091748883,
          713.8377116695684,
          687.4112610668942,
          662.3530800079766,
          640.063294911344,
          614.4850098602782,
          580.1394328247939,
          560.8059729951392,
          543.6392291482719,
          529.6473282868279,
          514.3505647667729,
          501.7753500556987,
          492.464798254676,
          484.82386768602555,
          478.20969859272543,
          472.45924366058705,
          467.43513039169534,
          463.02210564725885
         ],
         "yaxis": "y2"
        },
        {
         "fill": "tonexty",
         "fillcolor": "rgba(217,95,2,0.2)",
         "line": {
          "color": "rgb(217,95,2)",
          "width": 0
         },
         "marker": {
          "color": "rgb(217,95,2)"
         },
         "mode": "lines",
         "name": "0.975",
         "showlegend": false,
         "type": "scatter",
         "x": [
          2010,
          2011,
          2012,
          2013,
          2014,
          2015,
          2016,
          2017,
          2018,
          2019,
          2020,
          2021,
          2022,
          2023,
          2024,
          2025,
          2026,
          2027,
          2028,
          2029,
          2030,
          2031,
          2032,
          2033,
          2034,
          2035
         ],
         "xaxis": "x2",
         "y": [
          1948.0560347186458,
          1762.3153174102667,
          1588.3527304198992,
          1424.3041213028578,
          1277.944500503857,
          1162.2223376988416,
          1064.2732627126668,
          976.9617085128665,
          903.9002626632393,
          842.3974489331057,
          796.0847170394679,
          763.1848003477304,
          736.0936732754236,
          715.3213845258012,
          695.270659923844,
          675.2914954236013,
          656.4926991757766,
          641.0886896339429,
          628.7204886861803,
          618.7032464875547,
          610.4404724081375,
          603.5932051502119,
          598.2187022194166,
          594.0735109146317,
          590.8511157924652,
          588.3672763681691
         ],
         "yaxis": "y2"
        },
        {
         "fillcolor": "rgba(217,95,2,0.2)",
         "line": {
          "color": "rgb(217,95,2)",
          "width": 2
         },
         "marker": {
          "color": "rgb(217,95,2)"
         },
         "mode": "lines",
         "name": "With Xpert improvement",
         "showlegend": false,
         "type": "scatter",
         "x": [
          2010,
          2011,
          2012,
          2013,
          2014,
          2015,
          2016,
          2017,
          2018,
          2019,
          2020,
          2021,
          2022,
          2023,
          2024,
          2025,
          2026,
          2027,
          2028,
          2029,
          2030,
          2031,
          2032,
          2033,
          2034,
          2035
         ],
         "xaxis": "x2",
         "y": [
          951.1355121329797,
          917.2989632994643,
          904.6443551616237,
          879.6312937279076,
          826.5163684578224,
          774.6399624271174,
          763.1356668796684,
          738.9885728261359,
          695.8006761611778,
          654.5291269512318,
          621.2106880535844,
          600.3699995236185,
          591.6428757131669,
          568.2937753975011,
          538.8593653249122,
          514.4385066955275,
          503.1953293431285,
          486.1886378799674,
          471.70974079697555,
          459.9065979145878,
          450.4135407055662,
          442.85953177451427,
          434.72462180421184,
          427.0762296134047,
          420.5879479409753,
          415.0220415534668
         ],
         "yaxis": "y2"
        },
        {
         "legendgroup": "Target",
         "marker": {
          "color": "black",
          "size": 5
         },
         "mode": "markers",
         "name": "Pulmonary TB prevalence in adults (2013-2014 National Prevalence Survey)",
         "showlegend": false,
         "type": "scatter",
         "x": [
          2014
         ],
         "xaxis": "x2",
         "y": [
          759.1
         ],
         "yaxis": "y2"
        },
        {
         "fill": "tonexty",
         "fillcolor": "rgba(27,158,119,0.2)",
         "line": {
          "color": "rgb(27,158,119)",
          "width": 0
         },
         "marker": {
          "color": "rgb(27,158,119)"
         },
         "mode": "lines",
         "name": "0.025",
         "showlegend": false,
         "type": "scatter",
         "x": [
          2010,
          2011,
          2012,
          2013,
          2014,
          2015,
          2016,
          2017,
          2018,
          2019,
          2020,
          2021,
          2022,
          2023,
          2024,
          2025,
          2026,
          2027,
          2028,
          2029,
          2030,
          2031,
          2032,
          2033,
          2034,
          2035
         ],
         "xaxis": "x3",
         "y": [
          692.3793140953652,
          681.7087775816507,
          670.6212293149844,
          649.4899234914395,
          620.4900847317438,
          594.668418730629,
          570.2932452844399,
          547.3047613132394,
          527.0098392185265,
          508.17344197039057,
          489.7692522860683,
          475.93622239600774,
          460.87553577309166,
          442.0606479002973,
          421.5184443676701,
          397.593941757909,
          376.1949267367722,
          357.72766625865745,
          342.1283307453843,
          329.1138876372687,
          318.32386655679153,
          309.3940836629655,
          301.9918359235705,
          295.82916548169464,
          290.66489457962365,
          286.30137554550134
         ],
         "yaxis": "y3"
        },
        {
         "fill": "tonexty",
         "fillcolor": "rgba(27,158,119,0.2)",
         "line": {
          "color": "rgb(27,158,119)",
          "width": 0
         },
         "marker": {
          "color": "rgb(27,158,119)"
         },
         "mode": "lines",
         "name": "0.25",
         "showlegend": false,
         "type": "scatter",
         "x": [
          2010,
          2011,
          2012,
          2013,
          2014,
          2015,
          2016,
          2017,
          2018,
          2019,
          2020,
          2021,
          2022,
          2023,
          2024,
          2025,
          2026,
          2027,
          2028,
          2029,
          2030,
          2031,
          2032,
          2033,
          2034,
          2035
         ],
         "xaxis": "x3",
         "y": [
          806.4115357425017,
          794.4842272889996,
          773.6068447397065,
          750.4986955501772,
          728.4865832142661,
          708.1132044259398,
          688.1371680585305,
          669.6519262593516,
          653.6930056756485,
          639.1794514291748,
          614.916066718593,
          590.8999807275932,
          570.848399988248,
          555.0132676458993,
          537.0908185999292,
          518.647365376482,
          500.8439281589811,
          484.3178685350591,
          469.3553427213464,
          456.02995614266297,
          444.2938267141556,
          434.0353739358902,
          423.6133747487936,
          412.9044855096563,
          403.48265785518333,
          395.2058612222311
         ],
         "yaxis": "y3"
        },
        {
         "fill": "tonexty",
         "fillcolor": "rgba(27,158,119,0.2)",
         "line": {
          "color": "rgb(27,158,119)",
          "width": 0
         },
         "marker": {
          "color": "rgb(27,158,119)"
         },
         "mode": "lines",
         "name": "0.5",
         "showlegend": false,
         "type": "scatter",
         "x": [
          2010,
          2011,
          2012,
          2013,
          2014,
          2015,
          2016,
          2017,
          2018,
          2019,
          2020,
          2021,
          2022,
          2023,
          2024,
          2025,
          2026,
          2027,
          2028,
          2029,
          2030,
          2031,
          2032,
          2033,
          2034,
          2035
         ],
         "xaxis": "x3",
         "y": [
          880.6844410091551,
          861.8136879513982,
          851.2613702241517,
          840.5864523972749,
          830.272647328398,
          818.9299337160556,
          794.3925718640756,
          769.9175282444651,
          750.0558145062811,
          740.4090256006302,
          729.2272761930515,
          716.9086385564083,
          703.6826744085552,
          688.589854897469,
          663.2266618491137,
          635.817416882872,
          609.7790964965467,
          585.6609841251558,
          563.7220712432547,
          544.0311316036158,
          526.5361923192501,
          513.079127584798,
          507.8630439581745,
          503.7027444797936,
          500.420861628632,
          497.86060578360747
         ],
         "yaxis": "y3"
        },
        {
         "fill": "tonexty",
         "fillcolor": "rgba(27,158,119,0.2)",
         "line": {
          "color": "rgb(27,158,119)",
          "width": 0
         },
         "marker": {
          "color": "rgb(27,158,119)"
         },
         "mode": "lines",
         "name": "0.75",
         "showlegend": false,
         "type": "scatter",
         "x": [
          2010,
          2011,
          2012,
          2013,
          2014,
          2015,
          2016,
          2017,
          2018,
          2019,
          2020,
          2021,
          2022,
          2023,
          2024,
          2025,
          2026,
          2027,
          2028,
          2029,
          2030,
          2031,
          2032,
          2033,
          2034,
          2035
         ],
         "xaxis": "x3",
         "y": [
          946.2832722273647,
          929.5539129067292,
          913.8306059959959,
          897.7344948195391,
          881.8266726789711,
          863.9215836707472,
          845.2506380765642,
          826.6072452319589,
          808.9503616330793,
          791.6377609189879,
          775.1847957731854,
          764.682873609019,
          753.1152863412353,
          738.0153120086187,
          720.8906585477916,
          702.9897676883002,
          680.0743675341469,
          658.4947320063312,
          638.866650345409,
          621.3323239159465,
          605.8754392195378,
          592.6523641743523,
          584.7136129874807,
          578.0502201602753,
          572.4979540409565,
          567.9029446824106
         ],
         "yaxis": "y3"
        },
        {
         "fill": "tonexty",
         "fillcolor": "rgba(27,158,119,0.2)",
         "line": {
          "color": "rgb(27,158,119)",
          "width": 0
         },
         "marker": {
          "color": "rgb(27,158,119)"
         },
         "mode": "lines",
         "name": "0.975",
         "showlegend": false,
         "type": "scatter",
         "x": [
          2010,
          2011,
          2012,
          2013,
          2014,
          2015,
          2016,
          2017,
          2018,
          2019,
          2020,
          2021,
          2022,
          2023,
          2024,
          2025,
          2026,
          2027,
          2028,
          2029,
          2030,
          2031,
          2032,
          2033,
          2034,
          2035
         ],
         "xaxis": "x3",
         "y": [
          1064.4499487537917,
          1042.892242606227,
          1021.3782618676508,
          1001.1245593089859,
          984.8655934031167,
          969.6981391814849,
          954.5471382203444,
          940.0771974537917,
          927.0267169051901,
          914.2700051158599,
          900.4554409271625,
          884.4503754445923,
          865.653400517637,
          839.9768303837504,
          809.7584882356851,
          777.9274118752074,
          747.3261110773258,
          719.605207335486,
          695.4957502488628,
          675.6876604242785,
          660.2900047162168,
          647.7044836684661,
          637.5701321193128,
          629.517488990885,
          623.1973643450743,
          618.2951451612358
         ],
         "yaxis": "y3"
        },
        {
         "fillcolor": "rgba(27,158,119,0.2)",
         "line": {
          "color": "rgb(27,158,119)",
          "width": 2
         },
         "marker": {
          "color": "rgb(27,158,119)"
         },
         "mode": "lines",
         "name": "Without Xpert improvement",
         "showlegend": false,
         "type": "scatter",
         "x": [
          2010,
          2011,
          2012,
          2013,
          2014,
          2015,
          2016,
          2017,
          2018,
          2019,
          2020,
          2021,
          2022,
          2023,
          2024,
          2025,
          2026,
          2027,
          2028,
          2029,
          2030,
          2031,
          2032,
          2033,
          2034,
          2035
         ],
         "xaxis": "x3",
         "y": [
          880.6844410091551,
          861.8136879513982,
          851.2613702241517,
          840.5864523972749,
          830.272647328398,
          818.9299337160556,
          794.3925718640756,
          769.9175282444651,
          750.0558145062811,
          740.4090256006302,
          729.2272761930515,
          716.9086385564083,
          703.6826744085552,
          688.589854897469,
          663.2266618491137,
          635.817416882872,
          609.7790964965467,
          585.6609841251558,
          563.7220712432547,
          544.0311316036158,
          526.5361923192501,
          513.079127584798,
          507.8630439581745,
          503.7027444797936,
          500.420861628632,
          497.86060578360747
         ],
         "yaxis": "y3"
        },
        {
         "fill": "tonexty",
         "fillcolor": "rgba(217,95,2,0.2)",
         "line": {
          "color": "rgb(217,95,2)",
          "width": 0
         },
         "marker": {
          "color": "rgb(217,95,2)"
         },
         "mode": "lines",
         "name": "0.025",
         "showlegend": false,
         "type": "scatter",
         "x": [
          2010,
          2011,
          2012,
          2013,
          2014,
          2015,
          2016,
          2017,
          2018,
          2019,
          2020,
          2021,
          2022,
          2023,
          2024,
          2025,
          2026,
          2027,
          2028,
          2029,
          2030,
          2031,
          2032,
          2033,
          2034,
          2035
         ],
         "xaxis": "x3",
         "y": [
          646.7031904006452,
          638.0109848264301,
          628.159526765487,
          618.0520274859952,
          608.3079122674965,
          597.3494398629084,
          563.1075422311673,
          526.1225931748119,
          496.32754521984526,
          471.1609777396318,
          446.89635517893646,
          425.20905471988164,
          405.0341662846512,
          384.4385511517436,
          364.60867177132127,
          346.81228192334885,
          326.83549346937866,
          310.46382984073176,
          297.26236633269195,
          284.7065830133297,
          272.66008698539605,
          260.6004506634516,
          250.22794079640596,
          241.85349947634876,
          235.01752121638273,
          229.36002861191463
         ],
         "yaxis": "y3"
        },
        {
         "fill": "tonexty",
         "fillcolor": "rgba(217,95,2,0.2)",
         "line": {
          "color": "rgb(217,95,2)",
          "width": 0
         },
         "marker": {
          "color": "rgb(217,95,2)"
         },
         "mode": "lines",
         "name": "0.25",
         "showlegend": false,
         "type": "scatter",
         "x": [
          2010,
          2011,
          2012,
          2013,
          2014,
          2015,
          2016,
          2017,
          2018,
          2019,
          2020,
          2021,
          2022,
          2023,
          2024,
          2025,
          2026,
          2027,
          2028,
          2029,
          2030,
          2031,
          2032,
          2033,
          2034,
          2035
         ],
         "xaxis": "x3",
         "y": [
          774.9383138699843,
          761.4305556961473,
          744.9421148284275,
          727.2757875750824,
          696.2559540722527,
          685.4782909412543,
          665.3646321213465,
          642.7228084079246,
          619.3157416723602,
          603.0510622998254,
          585.4922717208153,
          561.8349237760972,
          534.3976749306711,
          498.7909607135474,
          455.5304746362425,
          418.1938755019346,
          385.324577107405,
          359.2752541254493,
          340.64935796997815,
          324.9764379137707,
          311.8763340793009,
          300.95170377446937,
          288.61825509569996,
          278.44118972100443,
          272.4542225637099,
          268.31713715250737
         ],
         "yaxis": "y3"
        },
        {
         "fill": "tonexty",
         "fillcolor": "rgba(217,95,2,0.2)",
         "line": {
          "color": "rgb(217,95,2)",
          "width": 0
         },
         "marker": {
          "color": "rgb(217,95,2)"
         },
         "mode": "lines",
         "name": "0.5",
         "showlegend": false,
         "type": "scatter",
         "x": [
          2010,
          2011,
          2012,
          2013,
          2014,
          2015,
          2016,
          2017,
          2018,
          2019,
          2020,
          2021,
          2022,
          2023,
          2024,
          2025,
          2026,
          2027,
          2028,
          2029,
          2030,
          2031,
          2032,
          2033,
          2034,
          2035
         ],
         "xaxis": "x3",
         "y": [
          854.9004969498366,
          831.3173292897812,
          805.204511504036,
          769.2260993576688,
          751.8240910222595,
          726.1864547803807,
          701.2795974887428,
          683.7874828863444,
          676.3416581537875,
          664.8650888983739,
          634.2997260584717,
          609.1938785096842,
          585.6804483344968,
          558.6465856966652,
          530.0987694117097,
          502.51094159877636,
          458.3432882734698,
          417.7778720998312,
          383.66696648454723,
          362.7503554882853,
          346.34860288684087,
          333.13425966607565,
          322.43543471241554,
          313.6972922194217,
          306.4762642293261,
          300.4247484519601
         ],
         "yaxis": "y3"
        },
        {
         "fill": "tonexty",
         "fillcolor": "rgba(217,95,2,0.2)",
         "line": {
          "color": "rgb(217,95,2)",
          "width": 0
         },
         "marker": {
          "color": "rgb(217,95,2)"
         },
         "mode": "lines",
         "name": "0.75",
         "showlegend": false,
         "type": "scatter",
         "x": [
          2010,
          2011,
          2012,
          2013,
          2014,
          2015,
          2016,
          2017,
          2018,
          2019,
          2020,
          2021,
          2022,
          2023,
          2024,
          2025,
          2026,
          2027,
          2028,
          2029,
          2030,
          2031,
          2032,
          2033,
          2034,
          2035
         ],
         "xaxis": "x3",
         "y": [
          932.5023127487057,
          918.9822670619942,
          875.8096800437868,
          855.6197906568825,
          831.9717858674387,
          806.00630336472,
          777.4056336973488,
          745.9224115962797,
          713.8529573432289,
          683.9403088921639,
          655.1977144661039,
          635.6976864018438,
          617.8870976236705,
          598.479429623683,
          558.888038523268,
          513.5613807877362,
          483.27843443603126,
          461.67531211430116,
          443.2771058361341,
          427.82492598230954,
          412.22145622753186,
          399.0341124451936,
          390.3511604025886,
          383.2954250493481,
          377.5591946725947,
          372.8854686749204
         ],
         "yaxis": "y3"
        },
        {
         "fill": "tonexty",
         "fillcolor": "rgba(217,95,2,0.2)",
         "line": {
          "color": "rgb(217,95,2)",
          "width": 0
         },
         "marker": {
          "color": "rgb(217,95,2)"
         },
         "mode": "lines",
         "name": "0.975",
         "showlegend": false,
         "type": "scatter",
         "x": [
          2010,
          2011,
          2012,
          2013,
          2014,
          2015,
          2016,
          2017,
          2018,
          2019,
          2020,
          2021,
          2022,
          2023,
          2024,
          2025,
          2026,
          2027,
          2028,
          2029,
          2030,
          2031,
          2032,
          2033,
          2034,
          2035
         ],
         "xaxis": "x3",
         "y": [
          1327.0387227789497,
          1258.0157194375192,
          1215.2684741440135,
          1169.7969037466917,
          1123.6823194356862,
          1078.289704840362,
          1032.374007947071,
          986.7410319560071,
          942.5253721940425,
          894.876696198029,
          842.1111039435443,
          793.4599818795534,
          736.9215822318249,
          678.5849226767332,
          630.4711275361752,
          596.9302373158148,
          572.5139991755796,
          550.8021231306426,
          540.3318839792157,
          531.582753161058,
          524.3799677486393,
          518.4997825396645,
          513.7163020356378,
          509.82412326451947,
          506.64692906477364,
          504.03887094641516
         ],
         "yaxis": "y3"
        },
        {
         "fillcolor": "rgba(217,95,2,0.2)",
         "line": {
          "color": "rgb(217,95,2)",
          "width": 2
         },
         "marker": {
          "color": "rgb(217,95,2)"
         },
         "mode": "lines",
         "name": "With Xpert improvement",
         "showlegend": false,
         "type": "scatter",
         "x": [
          2010,
          2011,
          2012,
          2013,
          2014,
          2015,
          2016,
          2017,
          2018,
          2019,
          2020,
          2021,
          2022,
          2023,
          2024,
          2025,
          2026,
          2027,
          2028,
          2029,
          2030,
          2031,
          2032,
          2033,
          2034,
          2035
         ],
         "xaxis": "x3",
         "y": [
          854.9004969498366,
          831.3173292897812,
          805.204511504036,
          769.2260993576688,
          751.8240910222595,
          726.1864547803807,
          701.2795974887428,
          683.7874828863444,
          676.3416581537875,
          664.8650888983739,
          634.2997260584717,
          609.1938785096842,
          585.6804483344968,
          558.6465856966652,
          530.0987694117097,
          502.51094159877636,
          458.3432882734698,
          417.7778720998312,
          383.66696648454723,
          362.7503554882853,
          346.34860288684087,
          333.13425966607565,
          322.43543471241554,
          313.6972922194217,
          306.4762642293261,
          300.4247484519601
         ],
         "yaxis": "y3"
        },
        {
         "legendgroup": "Target",
         "marker": {
          "color": "black",
          "size": 5
         },
         "mode": "markers",
         "name": "Pulmonary TB prevalence in adults (2013-2014 National Prevalence Survey)",
         "showlegend": false,
         "type": "scatter",
         "x": [
          2014
         ],
         "xaxis": "x3",
         "y": [
          759.1
         ],
         "yaxis": "y3"
        }
       ],
       "layout": {
        "annotations": [
         {
          "font": {
           "size": 16
          },
          "showarrow": false,
          "text": "<b>No CDR</b>",
          "x": 0.5,
          "xanchor": "center",
          "xref": "paper",
          "y": 1,
          "yanchor": "bottom",
          "yref": "paper"
         },
         {
          "font": {
           "size": 16
          },
          "showarrow": false,
          "text": "<b>CDR on notification</b>",
          "x": 0.5,
          "xanchor": "center",
          "xref": "paper",
          "y": 0.6399999999999999,
          "yanchor": "bottom",
          "yref": "paper"
         },
         {
          "font": {
           "size": 16
          },
          "showarrow": false,
          "text": "<b>CDR on treatment commencement</b>",
          "x": 0.5,
          "xanchor": "center",
          "xref": "paper",
          "y": 0.27999999999999997,
          "yanchor": "bottom",
          "yref": "paper"
         },
         {
          "font": {
           "color": "#949191",
           "size": 9
          },
          "showarrow": false,
          "text": "1st inventory study",
          "textangle": -90,
          "x": 2017,
          "xanchor": "left",
          "xref": "x",
          "y": 0,
          "yanchor": "bottom",
          "yref": "y domain"
         },
         {
          "font": {
           "color": "#949191",
           "size": 9
          },
          "showarrow": false,
          "text": "2nd inventory study",
          "textangle": -90,
          "x": 2023,
          "xanchor": "left",
          "xref": "x",
          "y": 0,
          "yanchor": "bottom",
          "yref": "y domain"
         },
         {
          "font": {
           "color": "#949191",
           "size": 9
          },
          "showarrow": false,
          "text": "1st inventory study",
          "textangle": -90,
          "x": 2017,
          "xanchor": "left",
          "xref": "x2",
          "y": 0,
          "yanchor": "bottom",
          "yref": "y2 domain"
         },
         {
          "font": {
           "color": "#949191",
           "size": 9
          },
          "showarrow": false,
          "text": "2nd inventory study",
          "textangle": -90,
          "x": 2023,
          "xanchor": "left",
          "xref": "x2",
          "y": 0,
          "yanchor": "bottom",
          "yref": "y2 domain"
         },
         {
          "font": {
           "color": "#949191",
           "size": 9
          },
          "showarrow": false,
          "text": "1st inventory study",
          "textangle": -90,
          "x": 2017,
          "xanchor": "left",
          "xref": "x3",
          "y": 0,
          "yanchor": "bottom",
          "yref": "y3 domain"
         },
         {
          "font": {
           "color": "#949191",
           "size": 9
          },
          "showarrow": false,
          "text": "2nd inventory study",
          "textangle": -90,
          "x": 2023,
          "xanchor": "left",
          "xref": "x3",
          "y": 0,
          "yanchor": "bottom",
          "yref": "y3 domain"
         }
        ],
        "font": {
         "family": "Space Grotesk"
        },
        "height": 900,
        "legend": {
         "orientation": "h",
         "x": 0.5,
         "xanchor": "center",
         "y": -0.15,
         "yanchor": "bottom"
        },
        "margin": {
         "b": 20,
         "l": 20,
         "r": 20,
         "t": 20
        },
        "shapes": [
         {
          "line": {
           "color": "rgba(148, 145, 145, 0.5)",
           "dash": "dot",
           "width": 1
          },
          "type": "line",
          "x0": 2017,
          "x1": 2017,
          "xref": "x",
          "y0": 0,
          "y1": 1,
          "yref": "y domain"
         },
         {
          "line": {
           "color": "rgba(148, 145, 145, 0.5)",
           "dash": "dot",
           "width": 1
          },
          "type": "line",
          "x0": 2023,
          "x1": 2023,
          "xref": "x",
          "y0": 0,
          "y1": 1,
          "yref": "y domain"
         },
         {
          "line": {
           "color": "rgba(148, 145, 145, 0.5)",
           "dash": "dot",
           "width": 1
          },
          "type": "line",
          "x0": 2017,
          "x1": 2017,
          "xref": "x2",
          "y0": 0,
          "y1": 1,
          "yref": "y2 domain"
         },
         {
          "line": {
           "color": "rgba(148, 145, 145, 0.5)",
           "dash": "dot",
           "width": 1
          },
          "type": "line",
          "x0": 2023,
          "x1": 2023,
          "xref": "x2",
          "y0": 0,
          "y1": 1,
          "yref": "y2 domain"
         },
         {
          "line": {
           "color": "rgba(148, 145, 145, 0.5)",
           "dash": "dot",
           "width": 1
          },
          "type": "line",
          "x0": 2017,
          "x1": 2017,
          "xref": "x3",
          "y0": 0,
          "y1": 1,
          "yref": "y3 domain"
         },
         {
          "line": {
           "color": "rgba(148, 145, 145, 0.5)",
           "dash": "dot",
           "width": 1
          },
          "type": "line",
          "x0": 2023,
          "x1": 2023,
          "xref": "x3",
          "y0": 0,
          "y1": 1,
          "yref": "y3 domain"
         }
        ],
        "showlegend": true,
        "template": {
         "data": {
          "bar": [
           {
            "error_x": {
             "color": "#2a3f5f"
            },
            "error_y": {
             "color": "#2a3f5f"
            },
            "marker": {
             "line": {
              "color": "#E5ECF6",
              "width": 0.5
             },
             "pattern": {
              "fillmode": "overlay",
              "size": 10,
              "solidity": 0.2
             }
            },
            "type": "bar"
           }
          ],
          "barpolar": [
           {
            "marker": {
             "line": {
              "color": "#E5ECF6",
              "width": 0.5
             },
             "pattern": {
              "fillmode": "overlay",
              "size": 10,
              "solidity": 0.2
             }
            },
            "type": "barpolar"
           }
          ],
          "carpet": [
           {
            "aaxis": {
             "endlinecolor": "#2a3f5f",
             "gridcolor": "white",
             "linecolor": "white",
             "minorgridcolor": "white",
             "startlinecolor": "#2a3f5f"
            },
            "baxis": {
             "endlinecolor": "#2a3f5f",
             "gridcolor": "white",
             "linecolor": "white",
             "minorgridcolor": "white",
             "startlinecolor": "#2a3f5f"
            },
            "type": "carpet"
           }
          ],
          "choropleth": [
           {
            "colorbar": {
             "outlinewidth": 0,
             "ticks": ""
            },
            "type": "choropleth"
           }
          ],
          "contour": [
           {
            "colorbar": {
             "outlinewidth": 0,
             "ticks": ""
            },
            "colorscale": [
             [
              0,
              "#0d0887"
             ],
             [
              0.1111111111111111,
              "#46039f"
             ],
             [
              0.2222222222222222,
              "#7201a8"
             ],
             [
              0.3333333333333333,
              "#9c179e"
             ],
             [
              0.4444444444444444,
              "#bd3786"
             ],
             [
              0.5555555555555556,
              "#d8576b"
             ],
             [
              0.6666666666666666,
              "#ed7953"
             ],
             [
              0.7777777777777778,
              "#fb9f3a"
             ],
             [
              0.8888888888888888,
              "#fdca26"
             ],
             [
              1,
              "#f0f921"
             ]
            ],
            "type": "contour"
           }
          ],
          "contourcarpet": [
           {
            "colorbar": {
             "outlinewidth": 0,
             "ticks": ""
            },
            "type": "contourcarpet"
           }
          ],
          "heatmap": [
           {
            "colorbar": {
             "outlinewidth": 0,
             "ticks": ""
            },
            "colorscale": [
             [
              0,
              "#0d0887"
             ],
             [
              0.1111111111111111,
              "#46039f"
             ],
             [
              0.2222222222222222,
              "#7201a8"
             ],
             [
              0.3333333333333333,
              "#9c179e"
             ],
             [
              0.4444444444444444,
              "#bd3786"
             ],
             [
              0.5555555555555556,
              "#d8576b"
             ],
             [
              0.6666666666666666,
              "#ed7953"
             ],
             [
              0.7777777777777778,
              "#fb9f3a"
             ],
             [
              0.8888888888888888,
              "#fdca26"
             ],
             [
              1,
              "#f0f921"
             ]
            ],
            "type": "heatmap"
           }
          ],
          "heatmapgl": [
           {
            "colorbar": {
             "outlinewidth": 0,
             "ticks": ""
            },
            "colorscale": [
             [
              0,
              "#0d0887"
             ],
             [
              0.1111111111111111,
              "#46039f"
             ],
             [
              0.2222222222222222,
              "#7201a8"
             ],
             [
              0.3333333333333333,
              "#9c179e"
             ],
             [
              0.4444444444444444,
              "#bd3786"
             ],
             [
              0.5555555555555556,
              "#d8576b"
             ],
             [
              0.6666666666666666,
              "#ed7953"
             ],
             [
              0.7777777777777778,
              "#fb9f3a"
             ],
             [
              0.8888888888888888,
              "#fdca26"
             ],
             [
              1,
              "#f0f921"
             ]
            ],
            "type": "heatmapgl"
           }
          ],
          "histogram": [
           {
            "marker": {
             "pattern": {
              "fillmode": "overlay",
              "size": 10,
              "solidity": 0.2
             }
            },
            "type": "histogram"
           }
          ],
          "histogram2d": [
           {
            "colorbar": {
             "outlinewidth": 0,
             "ticks": ""
            },
            "colorscale": [
             [
              0,
              "#0d0887"
             ],
             [
              0.1111111111111111,
              "#46039f"
             ],
             [
              0.2222222222222222,
              "#7201a8"
             ],
             [
              0.3333333333333333,
              "#9c179e"
             ],
             [
              0.4444444444444444,
              "#bd3786"
             ],
             [
              0.5555555555555556,
              "#d8576b"
             ],
             [
              0.6666666666666666,
              "#ed7953"
             ],
             [
              0.7777777777777778,
              "#fb9f3a"
             ],
             [
              0.8888888888888888,
              "#fdca26"
             ],
             [
              1,
              "#f0f921"
             ]
            ],
            "type": "histogram2d"
           }
          ],
          "histogram2dcontour": [
           {
            "colorbar": {
             "outlinewidth": 0,
             "ticks": ""
            },
            "colorscale": [
             [
              0,
              "#0d0887"
             ],
             [
              0.1111111111111111,
              "#46039f"
             ],
             [
              0.2222222222222222,
              "#7201a8"
             ],
             [
              0.3333333333333333,
              "#9c179e"
             ],
             [
              0.4444444444444444,
              "#bd3786"
             ],
             [
              0.5555555555555556,
              "#d8576b"
             ],
             [
              0.6666666666666666,
              "#ed7953"
             ],
             [
              0.7777777777777778,
              "#fb9f3a"
             ],
             [
              0.8888888888888888,
              "#fdca26"
             ],
             [
              1,
              "#f0f921"
             ]
            ],
            "type": "histogram2dcontour"
           }
          ],
          "mesh3d": [
           {
            "colorbar": {
             "outlinewidth": 0,
             "ticks": ""
            },
            "type": "mesh3d"
           }
          ],
          "parcoords": [
           {
            "line": {
             "colorbar": {
              "outlinewidth": 0,
              "ticks": ""
             }
            },
            "type": "parcoords"
           }
          ],
          "pie": [
           {
            "automargin": true,
            "type": "pie"
           }
          ],
          "scatter": [
           {
            "fillpattern": {
             "fillmode": "overlay",
             "size": 10,
             "solidity": 0.2
            },
            "type": "scatter"
           }
          ],
          "scatter3d": [
           {
            "line": {
             "colorbar": {
              "outlinewidth": 0,
              "ticks": ""
             }
            },
            "marker": {
             "colorbar": {
              "outlinewidth": 0,
              "ticks": ""
             }
            },
            "type": "scatter3d"
           }
          ],
          "scattercarpet": [
           {
            "marker": {
             "colorbar": {
              "outlinewidth": 0,
              "ticks": ""
             }
            },
            "type": "scattercarpet"
           }
          ],
          "scattergeo": [
           {
            "marker": {
             "colorbar": {
              "outlinewidth": 0,
              "ticks": ""
             }
            },
            "type": "scattergeo"
           }
          ],
          "scattergl": [
           {
            "marker": {
             "colorbar": {
              "outlinewidth": 0,
              "ticks": ""
             }
            },
            "type": "scattergl"
           }
          ],
          "scattermapbox": [
           {
            "marker": {
             "colorbar": {
              "outlinewidth": 0,
              "ticks": ""
             }
            },
            "type": "scattermapbox"
           }
          ],
          "scatterpolar": [
           {
            "marker": {
             "colorbar": {
              "outlinewidth": 0,
              "ticks": ""
             }
            },
            "type": "scatterpolar"
           }
          ],
          "scatterpolargl": [
           {
            "marker": {
             "colorbar": {
              "outlinewidth": 0,
              "ticks": ""
             }
            },
            "type": "scatterpolargl"
           }
          ],
          "scatterternary": [
           {
            "marker": {
             "colorbar": {
              "outlinewidth": 0,
              "ticks": ""
             }
            },
            "type": "scatterternary"
           }
          ],
          "surface": [
           {
            "colorbar": {
             "outlinewidth": 0,
             "ticks": ""
            },
            "colorscale": [
             [
              0,
              "#0d0887"
             ],
             [
              0.1111111111111111,
              "#46039f"
             ],
             [
              0.2222222222222222,
              "#7201a8"
             ],
             [
              0.3333333333333333,
              "#9c179e"
             ],
             [
              0.4444444444444444,
              "#bd3786"
             ],
             [
              0.5555555555555556,
              "#d8576b"
             ],
             [
              0.6666666666666666,
              "#ed7953"
             ],
             [
              0.7777777777777778,
              "#fb9f3a"
             ],
             [
              0.8888888888888888,
              "#fdca26"
             ],
             [
              1,
              "#f0f921"
             ]
            ],
            "type": "surface"
           }
          ],
          "table": [
           {
            "cells": {
             "fill": {
              "color": "#EBF0F8"
             },
             "line": {
              "color": "white"
             }
            },
            "header": {
             "fill": {
              "color": "#C8D4E3"
             },
             "line": {
              "color": "white"
             }
            },
            "type": "table"
           }
          ]
         },
         "layout": {
          "annotationdefaults": {
           "arrowcolor": "#2a3f5f",
           "arrowhead": 0,
           "arrowwidth": 1
          },
          "autotypenumbers": "strict",
          "coloraxis": {
           "colorbar": {
            "outlinewidth": 0,
            "ticks": ""
           }
          },
          "colorscale": {
           "diverging": [
            [
             0,
             "#8e0152"
            ],
            [
             0.1,
             "#c51b7d"
            ],
            [
             0.2,
             "#de77ae"
            ],
            [
             0.3,
             "#f1b6da"
            ],
            [
             0.4,
             "#fde0ef"
            ],
            [
             0.5,
             "#f7f7f7"
            ],
            [
             0.6,
             "#e6f5d0"
            ],
            [
             0.7,
             "#b8e186"
            ],
            [
             0.8,
             "#7fbc41"
            ],
            [
             0.9,
             "#4d9221"
            ],
            [
             1,
             "#276419"
            ]
           ],
           "sequential": [
            [
             0,
             "#0d0887"
            ],
            [
             0.1111111111111111,
             "#46039f"
            ],
            [
             0.2222222222222222,
             "#7201a8"
            ],
            [
             0.3333333333333333,
             "#9c179e"
            ],
            [
             0.4444444444444444,
             "#bd3786"
            ],
            [
             0.5555555555555556,
             "#d8576b"
            ],
            [
             0.6666666666666666,
             "#ed7953"
            ],
            [
             0.7777777777777778,
             "#fb9f3a"
            ],
            [
             0.8888888888888888,
             "#fdca26"
            ],
            [
             1,
             "#f0f921"
            ]
           ],
           "sequentialminus": [
            [
             0,
             "#0d0887"
            ],
            [
             0.1111111111111111,
             "#46039f"
            ],
            [
             0.2222222222222222,
             "#7201a8"
            ],
            [
             0.3333333333333333,
             "#9c179e"
            ],
            [
             0.4444444444444444,
             "#bd3786"
            ],
            [
             0.5555555555555556,
             "#d8576b"
            ],
            [
             0.6666666666666666,
             "#ed7953"
            ],
            [
             0.7777777777777778,
             "#fb9f3a"
            ],
            [
             0.8888888888888888,
             "#fdca26"
            ],
            [
             1,
             "#f0f921"
            ]
           ]
          },
          "colorway": [
           "#636efa",
           "#EF553B",
           "#00cc96",
           "#ab63fa",
           "#FFA15A",
           "#19d3f3",
           "#FF6692",
           "#B6E880",
           "#FF97FF",
           "#FECB52"
          ],
          "font": {
           "color": "#2a3f5f"
          },
          "geo": {
           "bgcolor": "white",
           "lakecolor": "white",
           "landcolor": "#E5ECF6",
           "showlakes": true,
           "showland": true,
           "subunitcolor": "white"
          },
          "hoverlabel": {
           "align": "left"
          },
          "hovermode": "closest",
          "mapbox": {
           "style": "light"
          },
          "paper_bgcolor": "white",
          "plot_bgcolor": "#E5ECF6",
          "polar": {
           "angularaxis": {
            "gridcolor": "white",
            "linecolor": "white",
            "ticks": ""
           },
           "bgcolor": "#E5ECF6",
           "radialaxis": {
            "gridcolor": "white",
            "linecolor": "white",
            "ticks": ""
           }
          },
          "scene": {
           "xaxis": {
            "backgroundcolor": "#E5ECF6",
            "gridcolor": "white",
            "gridwidth": 2,
            "linecolor": "white",
            "showbackground": true,
            "ticks": "",
            "zerolinecolor": "white"
           },
           "yaxis": {
            "backgroundcolor": "#E5ECF6",
            "gridcolor": "white",
            "gridwidth": 2,
            "linecolor": "white",
            "showbackground": true,
            "ticks": "",
            "zerolinecolor": "white"
           },
           "zaxis": {
            "backgroundcolor": "#E5ECF6",
            "gridcolor": "white",
            "gridwidth": 2,
            "linecolor": "white",
            "showbackground": true,
            "ticks": "",
            "zerolinecolor": "white"
           }
          },
          "shapedefaults": {
           "line": {
            "color": "#2a3f5f"
           }
          },
          "ternary": {
           "aaxis": {
            "gridcolor": "white",
            "linecolor": "white",
            "ticks": ""
           },
           "baxis": {
            "gridcolor": "white",
            "linecolor": "white",
            "ticks": ""
           },
           "bgcolor": "#E5ECF6",
           "caxis": {
            "gridcolor": "white",
            "linecolor": "white",
            "ticks": ""
           }
          },
          "title": {
           "x": 0.05
          },
          "xaxis": {
           "automargin": true,
           "gridcolor": "white",
           "linecolor": "white",
           "ticks": "",
           "title": {
            "standoff": 15
           },
           "zerolinecolor": "white",
           "zerolinewidth": 2
          },
          "yaxis": {
           "automargin": true,
           "gridcolor": "white",
           "linecolor": "white",
           "ticks": "",
           "title": {
            "standoff": 15
           },
           "zerolinecolor": "white",
           "zerolinewidth": 2
          }
         }
        },
        "title": {
         "font": {
          "family": "Space Grotesk"
         }
        },
        "xaxis": {
         "anchor": "y",
         "domain": [
          0,
          1
         ],
         "matches": "x3",
         "showticklabels": false
        },
        "xaxis2": {
         "anchor": "y2",
         "domain": [
          0,
          1
         ],
         "matches": "x3",
         "showticklabels": false
        },
        "xaxis3": {
         "anchor": "y3",
         "domain": [
          0,
          1
         ],
         "title": {
          "text": "Year"
         }
        },
        "yaxis": {
         "anchor": "x",
         "domain": [
          0.72,
          1
         ],
         "title": {
          "text": "No. of case notification"
         }
        },
        "yaxis2": {
         "anchor": "x2",
         "domain": [
          0.36,
          0.6399999999999999
         ],
         "title": {
          "text": "No. of case notification"
         }
        },
        "yaxis3": {
         "anchor": "x3",
         "domain": [
          0,
          0.27999999999999997
         ],
         "title": {
          "text": "No. of case notification"
         }
        }
       }
      }
     },
     "metadata": {},
     "output_type": "display_data"
    }
   ],
   "source": [
    "from plotly.subplots import make_subplots\n",
    "import plotly.graph_objects as go\n",
    "\n",
    "stacked_fig = make_subplots(\n",
    "    rows=3, cols=1,\n",
    "    subplot_titles=[f\"<b>No CDR</b>\", f\"<b>CDR on notification</b>\", f\"<b>CDR on treatment commencement</b>\"],  # Update with your actual titles\n",
    "    vertical_spacing=0.08,  # Adjust spacing between subplots\n",
    "    shared_xaxes=True  # Share x-axis if they have the same range\n",
    ")\n",
    "\n",
    "# Add traces from fig1 to row 1\n",
    "for trace in fig1.data:\n",
    "    stacked_fig.add_trace(trace, row=1, col=1)\n",
    "\n",
    "# Add traces from fig2 to row 2\n",
    "for trace in fig2.data:\n",
    "    trace.showlegend = False  # Hide duplicate legends\n",
    "    stacked_fig.add_trace(trace, row=2, col=1)\n",
    "\n",
    "# Add traces from fig3 to row 3\n",
    "for trace in fig3.data:\n",
    "    trace.showlegend = False  # Hide duplicate legends\n",
    "    stacked_fig.add_trace(trace, row=3, col=1)\n",
    "\n",
    "# Update layout\n",
    "stacked_fig.update_layout(\n",
    "    height=900,  # Adjust total height\n",
    "    showlegend=True,\n",
    "    font_family=\"Space Grotesk\",\n",
    "    title_font_family=\"Space Grotesk\",\n",
    "    margin=dict(l=20, r=20, t=20, b=20),\n",
    "    legend=dict(\n",
    "        orientation=\"h\",\n",
    "        yanchor=\"bottom\",\n",
    "        y=-0.15,\n",
    "        xanchor=\"center\",\n",
    "        x=0.5\n",
    "    )\n",
    ")\n",
    "\n",
    "# Update y-axis titles if needed\n",
    "stacked_fig.update_yaxes(title_text=\"No. of case notification\", row=1, col=1)\n",
    "stacked_fig.update_yaxes(title_text=\"No. of case notification\", row=2, col=1)\n",
    "stacked_fig.update_yaxes(title_text=\"No. of case notification\", row=3, col=1)\n",
    "\n",
    "stacked_fig.update_xaxes(title_text=\"Year\", row=3, col=1)  # Only bottom x-axis gets label\n",
    "\n",
    "stacked_fig.show()\n",
    "\n",
    "\n",
    "positions = [(1, 1), (2, 1), (3, 1)]\n",
    "years_data = [\n",
    "    (2017, \"1st inventory study\"),\n",
    "    (2023, \"2nd inventory study\")\n",
    "]\n",
    "\n",
    "for row, col in positions:\n",
    "    for year, text in years_data:\n",
    "        stacked_fig.add_vline(x=year, line_dash=\"dot\", row=row, col=col, \n",
    "                       line_color=\"rgba(148, 145, 145, 0.5)\", line_width=1,\n",
    "                       annotation_text=text, annotation_textangle=-90,\n",
    "                       annotation_position=\"bottom right\",\n",
    "                       annotation_font_size=9, annotation_font_color=\"#949191\")\n",
    "\n",
    "stacked_fig\n",
    "#stacked_fig.write_image(image_path / f'assumpt_xpert_compare_prev.png', width=800, height=800,scale=3)\n"
   ]
  },
  {
   "cell_type": "code",
   "execution_count": null,
   "id": "5ec5771e",
   "metadata": {},
   "outputs": [],
   "source": []
  }
 ],
 "metadata": {
  "kernelspec": {
   "display_name": "tbmodel310",
   "language": "python",
   "name": "python3"
  },
  "language_info": {
   "codemirror_mode": {
    "name": "ipython",
    "version": 3
   },
   "file_extension": ".py",
   "mimetype": "text/x-python",
   "name": "python",
   "nbconvert_exporter": "python",
   "pygments_lexer": "ipython3",
   "version": "3.10.16"
  }
 },
 "nbformat": 4,
 "nbformat_minor": 5
}
