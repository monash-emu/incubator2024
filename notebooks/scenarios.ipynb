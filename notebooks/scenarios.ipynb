{
 "cells": [
  {
   "cell_type": "code",
   "execution_count": null,
   "metadata": {},
   "outputs": [],
   "source": [
    "import warnings\n",
    "\n",
    "warnings.filterwarnings(\"ignore\")\n",
    "import pandas as pd\n",
    "from tb_incubator.input import load_targets\n",
    "from tb_incubator.constants import set_project_base_path, image_path\n",
    "from tb_incubator.plotting import (\n",
    "    plot_scenario_output_ranges, \n",
    "    get_combined_plot, apply_legend_config,\n",
    "    plot_detection_scenarios_comparison_box)\n",
    "\n",
    "import pickle\n",
    "\n",
    "pd.options.plotting.backend = \"plotly\"  \n",
    "project_paths = set_project_base_path(\"../tb_incubator/\")\n",
    "output_path = project_paths[\"OUTPUTS\"]\n",
    "targets = load_targets()"
   ]
  },
  {
   "cell_type": "markdown",
   "metadata": {},
   "source": [
    "## Xpert"
   ]
  },
  {
   "cell_type": "code",
   "execution_count": null,
   "metadata": {},
   "outputs": [],
   "source": [
    "with open(output_path / f'xpert_quant_outputs.pkl', 'rb') as f:\n",
    "    basecase_xpert = pickle.load(f)"
   ]
  },
  {
   "cell_type": "code",
   "execution_count": null,
   "metadata": {},
   "outputs": [],
   "source": [
    "xpert_plot = plot_scenario_output_ranges(basecase_xpert, ['incidence', 'mortality'], 2, 2025, 2035, palette=\"scientific_rainbow\", max_alpha=0.1, showlegend=True, show_title=False, horizontal_spacing=0.05)\n",
    "apply_legend_config(xpert_plot)\n",
    "xpert_plot.write_image(image_path / f'scenario_xpert.png', width=800, height=500,scale=3)\n",
    "xpert_plot.show()"
   ]
  },
  {
   "cell_type": "code",
   "execution_count": null,
   "metadata": {},
   "outputs": [],
   "source": [
    "for key, df in basecase_xpert.items():\n",
    "    if isinstance(df, pd.DataFrame):\n",
    "        df.to_csv(output_path / f'results_xpert_{key}_outputs.csv', index=True)"
   ]
  },
  {
   "cell_type": "markdown",
   "metadata": {},
   "source": [
    "# Passive detection"
   ]
  },
  {
   "cell_type": "code",
   "execution_count": null,
   "metadata": {},
   "outputs": [],
   "source": [
    "with open(output_path / f'detection_quant_outputs.pkl', 'rb') as f:\n",
    "    basecase_detection = pickle.load(f)"
   ]
  },
  {
   "cell_type": "code",
   "execution_count": null,
   "metadata": {},
   "outputs": [],
   "source": [
    "det_plot = plot_scenario_output_ranges(basecase_detection, ['incidence', 'mortality'], 2, 2025, 2035, palette=\"scientific_rainbow\", max_alpha=0.1, showlegend=True, show_title=False, horizontal_spacing=0.05)\n",
    "apply_legend_config(det_plot)\n",
    "det_plot.write_image(image_path / f'scenario_detection.png', width=800, height=600,scale=3)\n",
    "det_plot.show()"
   ]
  },
  {
   "cell_type": "code",
   "execution_count": null,
   "metadata": {},
   "outputs": [],
   "source": [
    "for key, df in basecase_detection.items():\n",
    "    if isinstance(df, pd.DataFrame):\n",
    "        df.to_csv(output_path / f'results_detection_{key}_outputs.csv', index=True)"
   ]
  },
  {
   "cell_type": "markdown",
   "metadata": {},
   "source": [
    "# Treatment Success Rate"
   ]
  },
  {
   "cell_type": "code",
   "execution_count": null,
   "metadata": {},
   "outputs": [],
   "source": [
    "with open(output_path / f'tsr_quant_outputs.pkl', 'rb') as f:\n",
    "    basecase_tsr = pickle.load(f)"
   ]
  },
  {
   "cell_type": "code",
   "execution_count": null,
   "metadata": {},
   "outputs": [],
   "source": [
    "tsr_plot = plot_scenario_output_ranges(basecase_tsr, ['incidence', 'mortality'], 2, 2025, 2035, palette=\"scientific_rainbow\", max_alpha=0.1, showlegend=True, show_title=False, horizontal_spacing=0.05)\n",
    "apply_legend_config(tsr_plot)\n",
    "tsr_plot.write_image(image_path / f'scenario_tsr.png', width=800, height=600,scale=3)\n",
    "tsr_plot.show()"
   ]
  },
  {
   "cell_type": "code",
   "execution_count": null,
   "metadata": {},
   "outputs": [],
   "source": [
    "for key, df in basecase_tsr.items():\n",
    "    if isinstance(df, pd.DataFrame):\n",
    "        df.to_csv(output_path / f'results_tsr_{key}_outputs.csv', index=True)"
   ]
  },
  {
   "cell_type": "markdown",
   "metadata": {},
   "source": [
    "# ACF"
   ]
  },
  {
   "cell_type": "code",
   "execution_count": null,
   "metadata": {},
   "outputs": [],
   "source": [
    "with open(output_path / f'acf_quant_outputs.pkl', 'rb') as f:\n",
    "    basecase_acf = pickle.load(f)"
   ]
  },
  {
   "cell_type": "code",
   "execution_count": null,
   "metadata": {},
   "outputs": [],
   "source": [
    "acf_plot = plot_scenario_output_ranges(basecase_acf, ['incidence', 'mortality'], 2, 2025, 2035, palette=\"scientific_rainbow\", max_alpha=0.1, showlegend=True, show_ranges=True, show_title=False,\n",
    "                                       vertical_spacing=0.1, horizontal_spacing=0.1)\n",
    "apply_legend_config(acf_plot)\n",
    "acf_plot.write_image(image_path / f'scenario_acf.png', width=800, height=600,scale=3)\n",
    "acf_plot.show()"
   ]
  },
  {
   "cell_type": "code",
   "execution_count": null,
   "metadata": {},
   "outputs": [],
   "source": [
    "for key, df in basecase_acf.items():\n",
    "    if isinstance(df, pd.DataFrame):\n",
    "        df.to_csv(output_path / f'results_acf_{key}_outputs.csv', index=True)"
   ]
  },
  {
   "cell_type": "markdown",
   "metadata": {},
   "source": [
    "# Combination"
   ]
  },
  {
   "cell_type": "code",
   "execution_count": null,
   "metadata": {},
   "outputs": [],
   "source": [
    "with open(output_path / f'progressive_quant_outputs.pkl', 'rb') as f:\n",
    "    basecase_progressive_best = pickle.load(f)\n",
    "\n",
    "with open(output_path / f'progressive_quant_outputs_mid.pkl', 'rb') as f:\n",
    "    basecase_progressive_mid = pickle.load(f)\n",
    "\n",
    "with open(output_path / f'progressive_quant_outputs_low.pkl', 'rb') as f:\n",
    "    basecase_progressive_low = pickle.load(f)\n",
    "\n",
    "with open(output_path / f'progressive_quant_outputs_oth.pkl', 'rb') as f:\n",
    "    basecase_progressive_oth = pickle.load(f)\n",
    "\n",
    "with open(output_path / f'progressive_quant_outputs_oth2.pkl', 'rb') as f:\n",
    "    basecase_progressive_oth2 = pickle.load(f)"
   ]
  },
  {
   "cell_type": "code",
   "execution_count": null,
   "metadata": {},
   "outputs": [],
   "source": [
    "oth2_plot = plot_scenario_output_ranges(basecase_progressive_oth2, ['incidence', 'mortality'], 2, 2025, 2035, palette=\"scientific_rainbow\", max_alpha=0.1, showlegend=True, show_ranges=True, show_title=False,\n",
    "                                       vertical_spacing=0.1, horizontal_spacing=0.1)\n",
    "apply_legend_config(oth2_plot)\n",
    "oth2_plot.write_image(image_path / f'scenario_prog_oth2.png', width=800, height=400,scale=3)\n",
    "oth2_plot.show()"
   ]
  },
  {
   "cell_type": "code",
   "execution_count": null,
   "metadata": {},
   "outputs": [],
   "source": [
    "oth_plot = plot_scenario_output_ranges(basecase_progressive_oth, ['incidence', 'mortality'], 2, 2025, 2035, palette=\"scientific_rainbow\", max_alpha=0.1, showlegend=True, show_ranges=True, show_title=False,\n",
    "                                       vertical_spacing=0.1, horizontal_spacing=0.1)\n",
    "apply_legend_config(oth_plot)\n",
    "oth_plot.write_image(image_path / f'scenario_prog_oth.png', width=800, height=400,scale=3)\n",
    "oth_plot.show()"
   ]
  },
  {
   "cell_type": "code",
   "execution_count": null,
   "metadata": {},
   "outputs": [],
   "source": [
    "best_plot = plot_scenario_output_ranges(basecase_progressive_best, ['incidence', 'mortality'], 2, 2025, 2035, palette=\"scientific_rainbow\", max_alpha=0.1, showlegend=True, show_ranges=True, show_title=False,\n",
    "                                       vertical_spacing=0.1, horizontal_spacing=0.1)\n",
    "apply_legend_config(best_plot)\n",
    "#best_plot.write_image(image_path / f'scenario_prog_best.png', width=800, height=400,scale=3)\n",
    "best_plot.show()"
   ]
  },
  {
   "cell_type": "code",
   "execution_count": null,
   "metadata": {},
   "outputs": [],
   "source": [
    "mid_plot = plot_scenario_output_ranges(basecase_progressive_mid, ['incidence', 'mortality'], 2, 2025, 2035, palette=\"scientific_rainbow\", max_alpha=0.1, showlegend=True, show_ranges=True, show_title=False,\n",
    "                                       vertical_spacing=0.1, horizontal_spacing=0.1)\n",
    "apply_legend_config(mid_plot)\n",
    "mid_plot.write_image(image_path / f'scenario_prog_mid.png', width=800, height=400,scale=3)\n",
    "mid_plot.show()"
   ]
  },
  {
   "cell_type": "code",
   "execution_count": null,
   "metadata": {},
   "outputs": [],
   "source": [
    "low_plot = plot_scenario_output_ranges(basecase_progressive_low, ['incidence', 'mortality'], 2, 2025, 2035, palette=\"scientific_rainbow\", max_alpha=0.1, showlegend=True, show_ranges=True, show_title=False,\n",
    "                                       vertical_spacing=0.1, horizontal_spacing=0.1)\n",
    "apply_legend_config(low_plot)\n",
    "low_plot.write_image(image_path / f'scenario_prog_low.png', width=800, height=400,scale=3)\n",
    "low_plot.show()"
   ]
  },
  {
   "cell_type": "code",
   "execution_count": null,
   "metadata": {},
   "outputs": [],
   "source": [
    "prog_plots = {}  \n",
    "fig_list = [basecase_progressive_low, basecase_progressive_best]\n",
    "indicators = ['incidence', 'mortality']\n",
    "\n",
    "for ind in indicators:\n",
    "    prog_plots[ind] = []  \n",
    "    for no, fig in enumerate(fig_list):\n",
    "        plot_result = plot_scenario_output_ranges(\n",
    "            fig, [ind],  \n",
    "            1, 2025, 2035,\n",
    "            palette=\"scientific_rainbow\", max_alpha=0.1,\n",
    "            showlegend=True, show_ranges=True,\n",
    "            show_title=False, vertical_spacing=0.1,\n",
    "            horizontal_spacing=0.1\n",
    "        )\n",
    "        prog_plots[ind].append(plot_result)  "
   ]
  },
  {
   "cell_type": "code",
   "execution_count": null,
   "metadata": {},
   "outputs": [],
   "source": [
    "plot1 = plot_scenario_output_ranges(basecase_progressive_low, ['incidence'], 1, 2025, 2035, \n",
    "                                   palette=\"scientific_rainbow\", max_alpha=0.1, showlegend=True, \n",
    "                                   show_ranges=True, show_title=False, vertical_spacing=0.1, horizontal_spacing=0.1)\n",
    "\n",
    "plot2 = plot_scenario_output_ranges(basecase_progressive_best, ['incidence'], 1, 2025, 2035, \n",
    "                                   palette=\"scientific_rainbow\", max_alpha=0.1, showlegend=True, \n",
    "                                   show_ranges=True, show_title=False, vertical_spacing=0.1, horizontal_spacing=0.1)\n",
    "\n",
    "plot3 = plot_scenario_output_ranges(basecase_progressive_low, ['mortality'], 1, 2025, 2035, \n",
    "                                   palette=\"scientific_rainbow\", max_alpha=0.1, showlegend=True, \n",
    "                                   show_ranges=True, show_title=False, vertical_spacing=0.1, horizontal_spacing=0.1)\n",
    "\n",
    "plot4 = plot_scenario_output_ranges(basecase_progressive_best, ['mortality'], 1, 2025, 2035, \n",
    "                                   palette=\"scientific_rainbow\", max_alpha=0.1, showlegend=True, \n",
    "                                   show_ranges=True, show_title=False, vertical_spacing=0.1, horizontal_spacing=0.1)\n",
    "\n",
    "for trace in plot2.data:\n",
    "    trace.showlegend = False\n",
    "\n",
    "for trace in plot3.data:\n",
    "    trace.showlegend = False\n",
    "    \n",
    "for trace in plot4.data:\n",
    "    trace.showlegend = False\n",
    "\n",
    "# Now combine\n",
    "combined_fig = get_combined_plot([plot1, plot2, plot3, plot4], n_cols=2, \n",
    "                                 subplot_titles= ['Scenario 1', 'Scenario 2', '', ''],horizontal_spacing=0.08)\n",
    "apply_legend_config(combined_fig)\n",
    "combined_fig.write_image(image_path / f'scenario_prog_comb_supp.png', width=800, height=800,scale=3)"
   ]
  },
  {
   "cell_type": "code",
   "execution_count": null,
   "metadata": {},
   "outputs": [],
   "source": [
    "with open(output_path / f'cumul_progress2.pkl', 'rb') as f:\n",
    "    progressive_cumul = pickle.load(f)"
   ]
  },
  {
   "cell_type": "code",
   "execution_count": null,
   "metadata": {},
   "outputs": [],
   "source": [
    "fig = plot_detection_scenarios_comparison_box(progressive_cumul,plot_type=\"abs\", log_scale=False, year=2029.0)\n",
    "newnames = {'Cumulative diseased':'TB incidence averted', 'Cumulative deaths': 'TB deaths averted'}\n",
    "fig.for_each_trace(lambda t: t.update(name = newnames[t.name],\n",
    "                                      legendgroup = newnames[t.name]\n",
    "                                     )\n",
    "                  )\n",
    "fig.update_layout(\n",
    "    margin=dict(l=20, r=20, t=20, b=30)\n",
    ")\n",
    "fig.write_image(image_path / f'scenario_all_averted.png', width=800, height=400, scale=3)\n",
    "fig"
   ]
  },
  {
   "cell_type": "code",
   "execution_count": null,
   "metadata": {},
   "outputs": [],
   "source": [
    "progressive_cumul['acf_xpert_tsr_detect']['abs']"
   ]
  },
  {
   "cell_type": "code",
   "execution_count": null,
   "metadata": {},
   "outputs": [],
   "source": []
  },
  {
   "cell_type": "code",
   "execution_count": null,
   "metadata": {},
   "outputs": [],
   "source": []
  }
 ],
 "metadata": {
  "kernelspec": {
   "display_name": "tbmodel310",
   "language": "python",
   "name": "python3"
  },
  "language_info": {
   "codemirror_mode": {
    "name": "ipython",
    "version": 3
   },
   "file_extension": ".py",
   "mimetype": "text/x-python",
   "name": "python",
   "nbconvert_exporter": "python",
   "pygments_lexer": "ipython3",
   "version": "3.10.16"
  }
 },
 "nbformat": 4,
 "nbformat_minor": 2
}
