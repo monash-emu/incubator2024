{
 "cells": [
  {
   "cell_type": "code",
   "execution_count": null,
   "metadata": {},
   "outputs": [],
   "source": [
    "import warnings\n",
    "\n",
    "warnings.filterwarnings(\"ignore\")\n",
    "import pandas as pd\n",
    "from tb_incubator.input import load_param_info, load_targets\n",
    "from tb_incubator.constants import set_project_base_path\n",
    "from tb_incubator.plotting import plot_scenario_output_ranges_by_col, plot_scenario_output_ranges\n",
    "import pickle\n",
    "\n",
    "pd.options.plotting.backend = \"plotly\"  \n",
    "project_paths = set_project_base_path(\"../tb_incubator/\")\n",
    "output_path = project_paths[\"OUTPUTS\"]\n",
    "targets = load_targets()"
   ]
  },
  {
   "cell_type": "code",
   "execution_count": null,
   "metadata": {},
   "outputs": [],
   "source": [
    "with open(output_path / f'xpert_quant_outputs.pkl', 'rb') as f:\n",
    "    basecase_xpert = pickle.load(f)\n",
    "\n",
    "with open(output_path / f'detection_quant_outputs.pkl', 'rb') as f:\n",
    "    basecase_detection = pickle.load(f)\n",
    "\n",
    "with open(output_path / f'covid_quant_outputs.pkl', 'rb') as f:\n",
    "    basecase_covid = pickle.load(f)"
   ]
  },
  {
   "cell_type": "code",
   "execution_count": null,
   "metadata": {},
   "outputs": [],
   "source": [
    "plot_scenario_output_ranges_by_col(basecase_xpert)"
   ]
  },
  {
   "cell_type": "code",
   "execution_count": null,
   "metadata": {},
   "outputs": [],
   "source": [
    "plot_scenario_output_ranges(basecase_xpert, ['incidence', 'mortality'], 2, 2025, 2035)"
   ]
  },
  {
   "cell_type": "code",
   "execution_count": null,
   "metadata": {},
   "outputs": [],
   "source": [
    "plot_scenario_output_ranges(basecase_detection, ['incidence', 'mortality'], 2, 2025, 2035)"
   ]
  },
  {
   "cell_type": "code",
   "execution_count": null,
   "metadata": {},
   "outputs": [],
   "source": [
    "covid_output = {}\n",
    "for scenario_name, data in basecase_covid.items():\n",
    "    covid_output[scenario_name] = data[\"indicator_outputs\"]"
   ]
  },
  {
   "cell_type": "code",
   "execution_count": null,
   "metadata": {},
   "outputs": [],
   "source": [
    "plot_scenario_output_ranges(covid_output, ['incidence', 'mortality'], 2, 2016, 2035)"
   ]
  },
  {
   "cell_type": "code",
   "execution_count": null,
   "metadata": {},
   "outputs": [],
   "source": [
    "plot_scenario_output_ranges(covid_output, ['notification'], 1, 2016, 2035)"
   ]
  },
  {
   "cell_type": "code",
   "execution_count": null,
   "metadata": {},
   "outputs": [],
   "source": []
  }
 ],
 "metadata": {
  "kernelspec": {
   "display_name": "tbmodel310",
   "language": "python",
   "name": "python3"
  },
  "language_info": {
   "codemirror_mode": {
    "name": "ipython",
    "version": 3
   },
   "file_extension": ".py",
   "mimetype": "text/x-python",
   "name": "python",
   "nbconvert_exporter": "python",
   "pygments_lexer": "ipython3",
   "version": "3.10.16"
  }
 },
 "nbformat": 4,
 "nbformat_minor": 2
}
