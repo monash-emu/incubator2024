{
 "cells": [
  {
   "cell_type": "code",
   "execution_count": null,
   "metadata": {},
   "outputs": [],
   "source": [
    "import warnings\n",
    "\n",
    "warnings.filterwarnings(\"ignore\")\n",
    "import pandas as pd\n",
    "from tb_incubator.input import load_param_info, load_targets\n",
    "from tb_incubator.constants import set_project_base_path\n",
    "from tb_incubator.plotting import plot_scenario_output_ranges, plot_indicator_vs_indicator\n",
    "from tb_incubator.utils import calculate_proportional_reduction\n",
    "import pickle\n",
    "\n",
    "pd.options.plotting.backend = \"plotly\"  \n",
    "project_paths = set_project_base_path(\"../tb_incubator/\")\n",
    "output_path = project_paths[\"OUTPUTS\"]\n",
    "targets = load_targets()"
   ]
  },
  {
   "cell_type": "code",
   "execution_count": null,
   "metadata": {},
   "outputs": [],
   "source": [
    "with open(output_path / f'xpert_quant_outputs.pkl', 'rb') as f:\n",
    "    basecase_xpert = pickle.load(f)\n",
    "\n",
    "with open(output_path / f'detection_quant_outputs.pkl', 'rb') as f:\n",
    "    basecase_detection = pickle.load(f)\n",
    "\n",
    "with open(output_path / f'combined_quant_outputs.pkl', 'rb') as f:\n",
    "    basecase_combined = pickle.load(f)"
   ]
  },
  {
   "cell_type": "code",
   "execution_count": null,
   "metadata": {},
   "outputs": [],
   "source": [
    "plot_scenario_output_ranges(basecase_detection, ['incidence', 'mortality'], 2, 2025, 2035, show_ranges=False)"
   ]
  },
  {
   "cell_type": "code",
   "execution_count": null,
   "metadata": {},
   "outputs": [],
   "source": [
    "plot_scenario_output_ranges(basecase_xpert, ['incidence', 'mortality'], 2, 2025, 2035, show_ranges=False)"
   ]
  },
  {
   "cell_type": "code",
   "execution_count": null,
   "metadata": {},
   "outputs": [],
   "source": [
    "plot_scenario_output_ranges(basecase_combined, ['incidence', 'mortality'], 2, 2025, 2035, show_ranges= False)"
   ]
  },
  {
   "cell_type": "code",
   "execution_count": null,
   "metadata": {},
   "outputs": [],
   "source": [
    "fig = plot_indicator_vs_indicator(\n",
    "    basecase_detection,\n",
    "    indicators=['notification', 'treatment_commencement'],\n",
    "    year_range=[2030], \n",
    "    quantile=0.5,\n",
    "    plot_trajectory=True\n",
    ")\n",
    "fig.show()\n"
   ]
  },
  {
   "cell_type": "code",
   "execution_count": null,
   "metadata": {},
   "outputs": [],
   "source": [
    "fig = plot_indicator_vs_indicator(\n",
    "    basecase_combined,\n",
    "    indicators=['mortality', 'treatment_commencement'],\n",
    "    year_range=[2025, 2030], \n",
    "    quantile=0.5,\n",
    "    plot_trajectory=True\n",
    ")\n",
    "fig.show()\n"
   ]
  },
  {
   "cell_type": "code",
   "execution_count": null,
   "metadata": {},
   "outputs": [],
   "source": [
    "mort_reduction = calculate_proportional_reduction(basecase_detection, 'mortality', 2015, 2030)\n",
    "mort_reduction"
   ]
  },
  {
   "cell_type": "code",
   "execution_count": null,
   "metadata": {},
   "outputs": [],
   "source": [
    "import plotly.express as px\n",
    "\n",
    "fig = px.bar(mort_reduction,\n",
    "             x=\"scenario\",\n",
    "             y=f\"percent_reduction_mortality_2030\",\n",
    "             title=\"Proportional reduction in mortality by 2030\",\n",
    "             labels={f\"percent_reduction_mortality_2030\": \"% reduction\"},\n",
    "             text=f\"percent_reduction_mortality_2030\")\n",
    "\n",
    "fig.update_layout(xaxis_tickangle=-45)\n",
    "fig.show()\n"
   ]
  },
  {
   "cell_type": "code",
   "execution_count": null,
   "metadata": {},
   "outputs": [],
   "source": []
  }
 ],
 "metadata": {
  "kernelspec": {
   "display_name": "tbmodel310",
   "language": "python",
   "name": "python3"
  },
  "language_info": {
   "codemirror_mode": {
    "name": "ipython",
    "version": 3
   },
   "file_extension": ".py",
   "mimetype": "text/x-python",
   "name": "python",
   "nbconvert_exporter": "python",
   "pygments_lexer": "ipython3",
   "version": "3.10.16"
  }
 },
 "nbformat": 4,
 "nbformat_minor": 2
}
