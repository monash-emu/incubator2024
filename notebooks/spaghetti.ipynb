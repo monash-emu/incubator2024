{
 "cells": [
  {
   "cell_type": "code",
   "execution_count": null,
   "metadata": {},
   "outputs": [],
   "source": [
    "import pandas as pd\n",
    "from tb_incubator.constants import set_project_base_path, quantiles\n",
    "from tb_incubator.calibrate import plot_spaghetti_calib_comparison, plot_output_ranges\n",
    "from tb_incubator.plotting import display_plot\n",
    "from tb_incubator.input import load_targets\n",
    "from estival.sampling import tools as esamp\n",
    "\n",
    "project_paths = set_project_base_path(\"../tb_incubator/\")\n",
    "calib_out = project_paths[\"OUT_PATH\"]"
   ]
  },
  {
   "cell_type": "code",
   "execution_count": null,
   "metadata": {},
   "outputs": [],
   "source": [
    "file_suffix = \"p12_10\"\n",
    "spaghetti = pd.read_hdf(calib_out / f'results_{file_suffix}.hdf', 'spaghetti')\n",
    "targets = load_targets()\n",
    "out_req = [\"notification_log\", \"prevalence_log\"]\n",
    "quantile_outputs = esamp.quantiles_for_results(spaghetti, quantiles)"
   ]
  },
  {
   "cell_type": "code",
   "execution_count": null,
   "metadata": {},
   "outputs": [],
   "source": [
    "fig = plot_spaghetti_calib_comparison(spaghetti, out_req)\n",
    "fig\n",
    "\n",
    "#display_plot(fig, \"calib_spaghetti\", \"svg\")\n",
    "#fig.update_xaxes(range=[1970, 2035])\n",
    "#display_plot(fig, \"calib_spaghetti_2000\", \"svg\")"
   ]
  },
  {
   "cell_type": "code",
   "execution_count": null,
   "metadata": {},
   "outputs": [],
   "source": [
    "plot_output_ranges(quantile_outputs, targets, ['prevalence', 'notification'], 2, 1980, 2035, 2013, show_legend=True)"
   ]
  },
  {
   "cell_type": "code",
   "execution_count": null,
   "metadata": {},
   "outputs": [],
   "source": []
  }
 ],
 "metadata": {
  "kernelspec": {
   "display_name": "tbmodel",
   "language": "python",
   "name": "python3"
  },
  "language_info": {
   "codemirror_mode": {
    "name": "ipython",
    "version": 3
   },
   "file_extension": ".py",
   "mimetype": "text/x-python",
   "name": "python",
   "nbconvert_exporter": "python",
   "pygments_lexer": "ipython3",
   "version": "3.8.20"
  }
 },
 "nbformat": 4,
 "nbformat_minor": 2
}
