{
 "cells": [
  {
   "cell_type": "markdown",
   "metadata": {},
   "source": [
    "# Calibration"
   ]
  },
  {
   "cell_type": "code",
   "execution_count": null,
   "metadata": {},
   "outputs": [],
   "source": [
    "import multiprocessing as mp\n",
    "import platform\n",
    "\n",
    "if platform.system() != \"Windows\":\n",
    "    mp.set_start_method('forkserver')\n",
    "\n",
    "\n",
    "from tb_incubator.constants import set_project_base_path\n",
    "from tb_incubator.input import load_targets, load_param_info\n",
    "from tb_incubator.calibrate import get_bcm, tabulate_calib_results, plot_posterior_comparison, get_all_priors\n",
    "from tb_incubator.plotting import plot_model_vs_actual\n",
    "\n",
    "from estival.wrappers import pymc as epm\n",
    "import pymc as pm\n",
    "from estival.sampling import tools as esamp\n",
    "\n",
    "import arviz as az\n",
    "from estival.sampling.tools import likelihood_extras_for_idata\n",
    "from estival.utils.parallel import map_parallel\n",
    "\n",
    "#pd.options.plotting.backend = \"plotly\"  \n",
    "project_paths = set_project_base_path(\"../tb_incubator/\")\n"
   ]
  },
  {
   "cell_type": "code",
   "execution_count": 2,
   "metadata": {},
   "outputs": [],
   "source": [
    "params= load_param_info()[\"value\"]"
   ]
  },
  {
   "cell_type": "code",
   "execution_count": 3,
   "metadata": {},
   "outputs": [],
   "source": [
    "bcm = get_bcm(params)"
   ]
  },
  {
   "cell_type": "code",
   "execution_count": 4,
   "metadata": {},
   "outputs": [],
   "source": [
    "def calibrate(draws, tune):\n",
    "    with pm.Model() as model:\n",
    "        variables = epm.use_model(bcm)\n",
    "        idata = pm.sample(step=[pm.DEMetropolis(variables)], draws=draws, tune=tune,cores=8,chains=8)\n",
    "\n",
    "    return idata"
   ]
  },
  {
   "cell_type": "code",
   "execution_count": null,
   "metadata": {},
   "outputs": [],
   "source": [
    "idata = calibrate(1000, 1000)"
   ]
  },
  {
   "cell_type": "code",
   "execution_count": 7,
   "metadata": {},
   "outputs": [],
   "source": [
    "likelihood_df = likelihood_extras_for_idata(idata, bcm)\n",
    "ldf_sorted = likelihood_df.sort_values(by=\"logposterior\",ascending=False)\n",
    "map_params = idata.posterior.to_dataframe().loc[ldf_sorted.index[0]].to_dict()\n",
    "map_res = bcm.run(map_params)"
   ]
  },
  {
   "cell_type": "code",
   "execution_count": null,
   "metadata": {},
   "outputs": [],
   "source": [
    "plot_posterior_comparison(idata, 0.995)"
   ]
  },
  {
   "cell_type": "code",
   "execution_count": null,
   "metadata": {},
   "outputs": [],
   "source": [
    "param_info = load_param_info()\n",
    "\n",
    "tabulate_calib_results(idata, param_info)"
   ]
  },
  {
   "cell_type": "code",
   "execution_count": null,
   "metadata": {},
   "outputs": [],
   "source": [
    "variable = \"notification\"\n",
    "fig = plot_model_vs_actual(map_res.derived_outputs, \n",
    "                     bcm.targets[variable].data,\n",
    "                     variable,\n",
    "                     variable,\n",
    "                     \"\",\n",
    "                     \"Actual data\")\n",
    "fig.update_xaxes(range=[1998, 2023])\n",
    "fig\n",
    "\n"
   ]
  },
  {
   "cell_type": "code",
   "execution_count": null,
   "metadata": {},
   "outputs": [],
   "source": [
    "variable = \"prevalence\"\n",
    "fig = plot_model_vs_actual(map_res.derived_outputs, \n",
    "                     bcm.targets[variable].data,\n",
    "                     variable,\n",
    "                     variable,\n",
    "                     \"\",\n",
    "                     \"Actual data\")\n",
    "#fig.update_xaxes(range=[1998, 2023])\n",
    "fig"
   ]
  },
  {
   "cell_type": "code",
   "execution_count": null,
   "metadata": {},
   "outputs": [],
   "source": []
  }
 ],
 "metadata": {
  "kernelspec": {
   "display_name": "tbmodel",
   "language": "python",
   "name": "python3"
  },
  "language_info": {
   "codemirror_mode": {
    "name": "ipython",
    "version": 3
   },
   "file_extension": ".py",
   "mimetype": "text/x-python",
   "name": "python",
   "nbconvert_exporter": "python",
   "pygments_lexer": "ipython3",
   "version": "3.10.14"
  }
 },
 "nbformat": 4,
 "nbformat_minor": 2
}
