{
 "cells": [
  {
   "cell_type": "code",
   "execution_count": null,
   "metadata": {},
   "outputs": [],
   "source": [
    "import pymc as pm\n",
    "import numpy as np\n",
    "import pandas as pd \n",
    "import multiprocessing as mp\n",
    "import platform\n",
    "if platform.system() != \"Windows\":\n",
    "    mp.set_start_method('forkserver')\n",
    "\n",
    "from tb_incubator.constants import set_project_base_path, BURN_IN\n",
    "from tb_incubator.input import load_param_info\n",
    "from tb_incubator.calibrate import get_bcm, save_priors\n",
    "from tb_incubator.utils import get_next_run_number\n",
    "\n",
    "from estival.wrappers import pymc as epm\n",
    "from estival.sampling import tools as esamp\n",
    "import arviz as az\n",
    "\n",
    "from estival.utils.sample import SampleTypes\n",
    "import nevergrad as ng\n",
    "from estival.wrappers import nevergrad as eng\n",
    "from estival.utils.parallel import map_parallel\n",
    "\n",
    "pd.options.plotting.backend = \"plotly\"  \n",
    "project_paths = set_project_base_path(\"../tb_incubator/\")\n",
    "calib_out = project_paths[\"OUT_PATH\"]\n"
   ]
  },
  {
   "cell_type": "code",
   "execution_count": null,
   "metadata": {},
   "outputs": [],
   "source": [
    "params= load_param_info()[\"value\"]\n",
    "param_info = load_param_info()\n",
    "covid_effects = {\n",
    "    'detection_reduction':True\n",
    "}"
   ]
  },
  {
   "cell_type": "code",
   "execution_count": null,
   "metadata": {},
   "outputs": [],
   "source": [
    "bcm = get_bcm(params, xpert_improvement=True, covid_effects=covid_effects)"
   ]
  },
  {
   "cell_type": "code",
   "execution_count": null,
   "metadata": {},
   "outputs": [],
   "source": [
    "def calibrate(out_path, draws, tune, num_params):\n",
    "    run_number = get_next_run_number(out_path, num_params)\n",
    "    file_suffix = f'p{num_params:02d}_{run_number}'\n",
    "\n",
    "    def optimize_ng_with_idx(item):\n",
    "        idx, sample = item\n",
    "        opt = eng.optimize_model(bcm, budget=500, opt_class=ng.optimizers.TwoPointsDE, suggested = sample, num_workers=8)\n",
    "        rec= opt.minimize(500)\n",
    "        return idx, rec.value[1]\n",
    "\n",
    "    lhs_samples = bcm.sample.lhs(6, ci=0.67)\n",
    "    lhs_lle = esamp.likelihood_extras_for_samples(lhs_samples, bcm)\n",
    "    lhs_sorted = lhs_lle.sort_values(\"loglikelihood\", ascending=False)\n",
    "    opt_samples_idx = map_parallel(optimize_ng_with_idx, lhs_sorted.iterrows())\n",
    "    best_opt_samps = bcm.sample.convert(opt_samples_idx)\n",
    "    init_samps = best_opt_samps.convert(SampleTypes.LIST_OF_DICTS)[0:6]\n",
    "\n",
    "    with pm.Model() as model:\n",
    "        variables = epm.use_model(bcm)\n",
    "        idata = pm.sample(step=[pm.DEMetropolisZ(variables)], draws=draws, tune=tune,cores=4,chains=6, initvals=init_samps)\n",
    "    idata.to_netcdf(str(out_path / f'calib_full_out_{file_suffix}.nc'))\n",
    "    \n",
    "    burnt_idata = idata.sel(draw=np.s_[25000:])\n",
    "    idata_extract = az.extract(burnt_idata, num_samples=15)\n",
    "    bcm.sample.convert(idata_extract).to_hdf5(out_path / f'calib_extract_out_{file_suffix}.h5')\n",
    "\n",
    "    spaghetti_res = esamp.model_results_for_samples(idata_extract, bcm) \n",
    "    spaghetti_res.results.to_hdf(str(out_path / f\"results_{file_suffix}.hdf\"), \"spaghetti\")\n",
    "\n",
    "    like_df = esamp.likelihood_extras_for_idata(idata, bcm)\n",
    "    like_df.to_hdf(str(out_path / f'results_{file_suffix}.hdf'), 'likelihood')\n",
    "\n",
    "    return idata, file_suffix"
   ]
  },
  {
   "cell_type": "code",
   "execution_count": null,
   "metadata": {},
   "outputs": [],
   "source": [
    "idata, file_suffix = calibrate(calib_out, 50000, 10000, 17)"
   ]
  },
  {
   "cell_type": "code",
   "execution_count": null,
   "metadata": {},
   "outputs": [],
   "source": [
    "save_priors(file_suffix, calib_out, covid_effects=covid_effects)"
   ]
  }
 ],
 "metadata": {
  "kernelspec": {
   "display_name": "tbmodel",
   "language": "python",
   "name": "python3"
  },
  "language_info": {
   "codemirror_mode": {
    "name": "ipython",
    "version": 3
   },
   "file_extension": ".py",
   "mimetype": "text/x-python",
   "name": "python",
   "nbconvert_exporter": "python",
   "pygments_lexer": "ipython3",
   "version": "3.8.20"
  }
 },
 "nbformat": 4,
 "nbformat_minor": 4
}
