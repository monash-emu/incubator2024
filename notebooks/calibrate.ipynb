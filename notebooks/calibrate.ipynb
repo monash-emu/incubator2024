{
 "cells": [
  {
   "cell_type": "markdown",
   "metadata": {},
   "source": [
    "# Calibration"
   ]
  },
  {
   "cell_type": "code",
   "execution_count": null,
   "metadata": {},
   "outputs": [],
   "source": [
    "import multiprocessing as mp\n",
    "import platform\n",
    "\n",
    "if platform.system() != \"Windows\":\n",
    "    mp.set_start_method('forkserver')\n",
    "\n",
    "\n",
    "from tb_incubator.constants import set_project_base_path\n",
    "from tb_incubator.input import load_param_info\n",
    "from tb_incubator.calibrate import get_bcm, tabulate_calib_results, plot_posterior_comparison\n",
    "from tb_incubator.plotting import plot_model_vs_actual\n",
    "\n",
    "from estival.wrappers import pymc as epm\n",
    "import pymc as pm\n",
    "\n",
    "import arviz as az\n",
    "from estival.sampling.tools import likelihood_extras_for_idata\n",
    "\n",
    "#pd.options.plotting.backend = \"plotly\"  \n",
    "project_paths = set_project_base_path(\"../tb_incubator/\")\n"
   ]
  },
  {
   "cell_type": "code",
   "execution_count": 2,
   "metadata": {},
   "outputs": [],
   "source": [
    "params= load_param_info()[\"value\"]\n",
    "param_info = load_param_info()"
   ]
  },
  {
   "cell_type": "code",
   "execution_count": 3,
   "metadata": {},
   "outputs": [],
   "source": [
    "bcm = get_bcm(params)"
   ]
  },
  {
   "cell_type": "code",
   "execution_count": 4,
   "metadata": {},
   "outputs": [],
   "source": [
    "def calibrate(draws, tune):\n",
    "    with pm.Model() as model:\n",
    "        variables = epm.use_model(bcm)\n",
    "        idata = pm.sample(step=[pm.DEMetropolis(variables)], draws=draws, tune=tune,cores=8,chains=16)\n",
    "\n",
    "    return idata"
   ]
  },
  {
   "cell_type": "code",
   "execution_count": 5,
   "metadata": {},
   "outputs": [
    {
     "data": {
      "text/html": [
       "<pre style=\"white-space:pre;overflow-x:auto;line-height:normal;font-family:Menlo,'DejaVu Sans Mono',consolas,'Courier New',monospace\"></pre>\n"
      ],
      "text/plain": []
     },
     "metadata": {},
     "output_type": "display_data"
    },
    {
     "ename": "KeyboardInterrupt",
     "evalue": "",
     "output_type": "error",
     "traceback": [
      "\u001b[0;31m---------------------------------------------------------------------------\u001b[0m",
      "\u001b[0;31mKeyboardInterrupt\u001b[0m                         Traceback (most recent call last)",
      "Cell \u001b[0;32mIn[5], line 1\u001b[0m\n\u001b[0;32m----> 1\u001b[0m idata \u001b[38;5;241m=\u001b[39m \u001b[43mcalibrate\u001b[49m\u001b[43m(\u001b[49m\u001b[38;5;241;43m1500\u001b[39;49m\u001b[43m,\u001b[49m\u001b[43m \u001b[49m\u001b[38;5;241;43m1000\u001b[39;49m\u001b[43m)\u001b[49m\n",
      "Cell \u001b[0;32mIn[4], line 4\u001b[0m, in \u001b[0;36mcalibrate\u001b[0;34m(draws, tune)\u001b[0m\n\u001b[1;32m      2\u001b[0m \u001b[38;5;28;01mwith\u001b[39;00m pm\u001b[38;5;241m.\u001b[39mModel() \u001b[38;5;28;01mas\u001b[39;00m model:\n\u001b[1;32m      3\u001b[0m     variables \u001b[38;5;241m=\u001b[39m epm\u001b[38;5;241m.\u001b[39muse_model(bcm)\n\u001b[0;32m----> 4\u001b[0m     idata \u001b[38;5;241m=\u001b[39m \u001b[43mpm\u001b[49m\u001b[38;5;241;43m.\u001b[39;49m\u001b[43msample\u001b[49m\u001b[43m(\u001b[49m\u001b[43mstep\u001b[49m\u001b[38;5;241;43m=\u001b[39;49m\u001b[43m[\u001b[49m\u001b[43mpm\u001b[49m\u001b[38;5;241;43m.\u001b[39;49m\u001b[43mDEMetropolis\u001b[49m\u001b[43m(\u001b[49m\u001b[43mvariables\u001b[49m\u001b[43m)\u001b[49m\u001b[43m]\u001b[49m\u001b[43m,\u001b[49m\u001b[43m \u001b[49m\u001b[43mdraws\u001b[49m\u001b[38;5;241;43m=\u001b[39;49m\u001b[43mdraws\u001b[49m\u001b[43m,\u001b[49m\u001b[43m \u001b[49m\u001b[43mtune\u001b[49m\u001b[38;5;241;43m=\u001b[39;49m\u001b[43mtune\u001b[49m\u001b[43m,\u001b[49m\u001b[43mcores\u001b[49m\u001b[38;5;241;43m=\u001b[39;49m\u001b[38;5;241;43m8\u001b[39;49m\u001b[43m,\u001b[49m\u001b[43mchains\u001b[49m\u001b[38;5;241;43m=\u001b[39;49m\u001b[38;5;241;43m16\u001b[39;49m\u001b[43m)\u001b[49m\n\u001b[1;32m      6\u001b[0m \u001b[38;5;28;01mreturn\u001b[39;00m idata\n",
      "File \u001b[0;32m/opt/anaconda3/envs/tb_model/lib/python3.10/site-packages/pymc/sampling/mcmc.py:864\u001b[0m, in \u001b[0;36msample\u001b[0;34m(draws, tune, chains, cores, random_seed, progressbar, progressbar_theme, step, var_names, nuts_sampler, initvals, init, jitter_max_retries, n_init, trace, discard_tuned_samples, compute_convergence_checks, keep_warning_stat, return_inferencedata, idata_kwargs, nuts_sampler_kwargs, callback, mp_ctx, blas_cores, model, **kwargs)\u001b[0m\n\u001b[1;32m    862\u001b[0m     _print_step_hierarchy(step)\n\u001b[1;32m    863\u001b[0m     \u001b[38;5;28;01mwith\u001b[39;00m joined_blas_limiter():\n\u001b[0;32m--> 864\u001b[0m         \u001b[43m_sample_population\u001b[49m\u001b[43m(\u001b[49m\n\u001b[1;32m    865\u001b[0m \u001b[43m            \u001b[49m\u001b[43minitial_points\u001b[49m\u001b[38;5;241;43m=\u001b[39;49m\u001b[43minitial_points\u001b[49m\u001b[43m,\u001b[49m\u001b[43m \u001b[49m\u001b[43mparallelize\u001b[49m\u001b[38;5;241;43m=\u001b[39;49m\u001b[43mcores\u001b[49m\u001b[43m \u001b[49m\u001b[38;5;241;43m>\u001b[39;49m\u001b[43m \u001b[49m\u001b[38;5;241;43m1\u001b[39;49m\u001b[43m,\u001b[49m\u001b[43m \u001b[49m\u001b[38;5;241;43m*\u001b[39;49m\u001b[38;5;241;43m*\u001b[39;49m\u001b[43msample_args\u001b[49m\n\u001b[1;32m    866\u001b[0m \u001b[43m        \u001b[49m\u001b[43m)\u001b[49m\n\u001b[1;32m    867\u001b[0m \u001b[38;5;28;01melse\u001b[39;00m:\n\u001b[1;32m    868\u001b[0m     _log\u001b[38;5;241m.\u001b[39minfo(\u001b[38;5;124mf\u001b[39m\u001b[38;5;124m\"\u001b[39m\u001b[38;5;124mSequential sampling (\u001b[39m\u001b[38;5;132;01m{\u001b[39;00mchains\u001b[38;5;132;01m}\u001b[39;00m\u001b[38;5;124m chains in 1 job)\u001b[39m\u001b[38;5;124m\"\u001b[39m)\n",
      "File \u001b[0;32m/opt/anaconda3/envs/tb_model/lib/python3.10/site-packages/pymc/sampling/population.py:105\u001b[0m, in \u001b[0;36m_sample_population\u001b[0;34m(initial_points, draws, start, random_seed, step, tune, model, progressbar, parallelize, traces, **kwargs)\u001b[0m\n\u001b[1;32m    103\u001b[0m \u001b[38;5;28;01mwith\u001b[39;00m CustomProgress(disable\u001b[38;5;241m=\u001b[39m\u001b[38;5;129;01mnot\u001b[39;00m progressbar) \u001b[38;5;28;01mas\u001b[39;00m progress:\n\u001b[1;32m    104\u001b[0m     task \u001b[38;5;241m=\u001b[39m progress\u001b[38;5;241m.\u001b[39madd_task(\u001b[38;5;124m\"\u001b[39m\u001b[38;5;124m[red]Sampling...\u001b[39m\u001b[38;5;124m\"\u001b[39m, total\u001b[38;5;241m=\u001b[39mdraws)\n\u001b[0;32m--> 105\u001b[0m     \u001b[38;5;28;01mfor\u001b[39;00m _ \u001b[38;5;129;01min\u001b[39;00m sampling:\n\u001b[1;32m    106\u001b[0m         progress\u001b[38;5;241m.\u001b[39mupdate(task)\n\u001b[1;32m    108\u001b[0m \u001b[38;5;28;01mreturn\u001b[39;00m\n",
      "File \u001b[0;32m/opt/anaconda3/envs/tb_model/lib/python3.10/site-packages/pymc/sampling/population.py:429\u001b[0m, in \u001b[0;36m_iter_population\u001b[0;34m(draws, tune, popstep, steppers, traces, points)\u001b[0m\n\u001b[1;32m    424\u001b[0m \u001b[38;5;28;01mwith\u001b[39;00m popstep:\n\u001b[1;32m    425\u001b[0m     \u001b[38;5;66;03m# iterate draws of all chains\u001b[39;00m\n\u001b[1;32m    426\u001b[0m     \u001b[38;5;28;01mfor\u001b[39;00m i \u001b[38;5;129;01min\u001b[39;00m \u001b[38;5;28mrange\u001b[39m(draws):\n\u001b[1;32m    427\u001b[0m         \u001b[38;5;66;03m# this call steps all chains and returns a list of (point, stats)\u001b[39;00m\n\u001b[1;32m    428\u001b[0m         \u001b[38;5;66;03m# the `popstep` may interact with subprocesses internally\u001b[39;00m\n\u001b[0;32m--> 429\u001b[0m         updates \u001b[38;5;241m=\u001b[39m \u001b[43mpopstep\u001b[49m\u001b[38;5;241;43m.\u001b[39;49m\u001b[43mstep\u001b[49m\u001b[43m(\u001b[49m\u001b[43mi\u001b[49m\u001b[43m \u001b[49m\u001b[38;5;241;43m==\u001b[39;49m\u001b[43m \u001b[49m\u001b[43mtune\u001b[49m\u001b[43m,\u001b[49m\u001b[43m \u001b[49m\u001b[43mpoints\u001b[49m\u001b[43m)\u001b[49m\n\u001b[1;32m    431\u001b[0m         \u001b[38;5;66;03m# apply the update to the points and record to the traces\u001b[39;00m\n\u001b[1;32m    432\u001b[0m         \u001b[38;5;28;01mfor\u001b[39;00m c, strace \u001b[38;5;129;01min\u001b[39;00m \u001b[38;5;28menumerate\u001b[39m(traces):\n",
      "File \u001b[0;32m/opt/anaconda3/envs/tb_model/lib/python3.10/site-packages/pymc/sampling/population.py:308\u001b[0m, in \u001b[0;36mPopulationStepper.step\u001b[0;34m(self, tune_stop, population)\u001b[0m\n\u001b[1;32m    306\u001b[0m         \u001b[38;5;28;01mif\u001b[39;00m tune_stop:\n\u001b[1;32m    307\u001b[0m             \u001b[38;5;28mself\u001b[39m\u001b[38;5;241m.\u001b[39m_steppers[c]\u001b[38;5;241m.\u001b[39mstop_tuning()\n\u001b[0;32m--> 308\u001b[0m         updates\u001b[38;5;241m.\u001b[39mappend(\u001b[38;5;28;43mself\u001b[39;49m\u001b[38;5;241;43m.\u001b[39;49m\u001b[43m_steppers\u001b[49m\u001b[43m[\u001b[49m\u001b[43mc\u001b[49m\u001b[43m]\u001b[49m\u001b[38;5;241;43m.\u001b[39;49m\u001b[43mstep\u001b[49m\u001b[43m(\u001b[49m\u001b[43mpopulation\u001b[49m\u001b[43m[\u001b[49m\u001b[43mc\u001b[49m\u001b[43m]\u001b[49m\u001b[43m)\u001b[49m)\n\u001b[1;32m    309\u001b[0m \u001b[38;5;28;01mreturn\u001b[39;00m updates\n",
      "File \u001b[0;32m/opt/anaconda3/envs/tb_model/lib/python3.10/site-packages/pymc/step_methods/arraystep.py:101\u001b[0m, in \u001b[0;36mArrayStepShared.step\u001b[0;34m(self, point)\u001b[0m\n\u001b[1;32m     98\u001b[0m var_dict \u001b[38;5;241m=\u001b[39m {cast(\u001b[38;5;28mstr\u001b[39m, v\u001b[38;5;241m.\u001b[39mname): point[cast(\u001b[38;5;28mstr\u001b[39m, v\u001b[38;5;241m.\u001b[39mname)] \u001b[38;5;28;01mfor\u001b[39;00m v \u001b[38;5;129;01min\u001b[39;00m \u001b[38;5;28mself\u001b[39m\u001b[38;5;241m.\u001b[39mvars}\n\u001b[1;32m     99\u001b[0m q \u001b[38;5;241m=\u001b[39m DictToArrayBijection\u001b[38;5;241m.\u001b[39mmap(var_dict)\n\u001b[0;32m--> 101\u001b[0m apoint, stats \u001b[38;5;241m=\u001b[39m \u001b[38;5;28;43mself\u001b[39;49m\u001b[38;5;241;43m.\u001b[39;49m\u001b[43mastep\u001b[49m\u001b[43m(\u001b[49m\u001b[43mq\u001b[49m\u001b[43m)\u001b[49m\n\u001b[1;32m    103\u001b[0m \u001b[38;5;28;01mif\u001b[39;00m \u001b[38;5;129;01mnot\u001b[39;00m \u001b[38;5;28misinstance\u001b[39m(apoint, RaveledVars):\n\u001b[1;32m    104\u001b[0m     \u001b[38;5;66;03m# We assume that the mapping has stayed the same\u001b[39;00m\n\u001b[1;32m    105\u001b[0m     apoint \u001b[38;5;241m=\u001b[39m RaveledVars(apoint, q\u001b[38;5;241m.\u001b[39mpoint_map_info)\n",
      "File \u001b[0;32m/opt/anaconda3/envs/tb_model/lib/python3.10/site-packages/pymc/step_methods/metropolis.py:834\u001b[0m, in \u001b[0;36mDEMetropolis.astep\u001b[0;34m(self, q0)\u001b[0m\n\u001b[1;32m    831\u001b[0m \u001b[38;5;66;03m# propose a jump\u001b[39;00m\n\u001b[1;32m    832\u001b[0m q \u001b[38;5;241m=\u001b[39m floatX(q0d \u001b[38;5;241m+\u001b[39m \u001b[38;5;28mself\u001b[39m\u001b[38;5;241m.\u001b[39mlamb \u001b[38;5;241m*\u001b[39m (r1\u001b[38;5;241m.\u001b[39mdata \u001b[38;5;241m-\u001b[39m r2\u001b[38;5;241m.\u001b[39mdata) \u001b[38;5;241m+\u001b[39m epsilon)\n\u001b[0;32m--> 834\u001b[0m accept \u001b[38;5;241m=\u001b[39m \u001b[38;5;28;43mself\u001b[39;49m\u001b[38;5;241;43m.\u001b[39;49m\u001b[43mdelta_logp\u001b[49m\u001b[43m(\u001b[49m\u001b[43mq\u001b[49m\u001b[43m,\u001b[49m\u001b[43m \u001b[49m\u001b[43mq0d\u001b[49m\u001b[43m)\u001b[49m\n\u001b[1;32m    835\u001b[0m q_new, accepted \u001b[38;5;241m=\u001b[39m metrop_select(accept, q, q0d)\n\u001b[1;32m    836\u001b[0m \u001b[38;5;28mself\u001b[39m\u001b[38;5;241m.\u001b[39maccepted \u001b[38;5;241m+\u001b[39m\u001b[38;5;241m=\u001b[39m accepted\n",
      "File \u001b[0;32m/opt/anaconda3/envs/tb_model/lib/python3.10/site-packages/pytensor/compile/function/types.py:959\u001b[0m, in \u001b[0;36mFunction.__call__\u001b[0;34m(self, *args, **kwargs)\u001b[0m\n\u001b[1;32m    956\u001b[0m t0_fn \u001b[38;5;241m=\u001b[39m time\u001b[38;5;241m.\u001b[39mperf_counter()\n\u001b[1;32m    957\u001b[0m \u001b[38;5;28;01mtry\u001b[39;00m:\n\u001b[1;32m    958\u001b[0m     outputs \u001b[38;5;241m=\u001b[39m (\n\u001b[0;32m--> 959\u001b[0m         \u001b[38;5;28;43mself\u001b[39;49m\u001b[38;5;241;43m.\u001b[39;49m\u001b[43mvm\u001b[49m\u001b[43m(\u001b[49m\u001b[43m)\u001b[49m\n\u001b[1;32m    960\u001b[0m         \u001b[38;5;28;01mif\u001b[39;00m output_subset \u001b[38;5;129;01mis\u001b[39;00m \u001b[38;5;28;01mNone\u001b[39;00m\n\u001b[1;32m    961\u001b[0m         \u001b[38;5;28;01melse\u001b[39;00m \u001b[38;5;28mself\u001b[39m\u001b[38;5;241m.\u001b[39mvm(output_subset\u001b[38;5;241m=\u001b[39moutput_subset)\n\u001b[1;32m    962\u001b[0m     )\n\u001b[1;32m    963\u001b[0m \u001b[38;5;28;01mexcept\u001b[39;00m \u001b[38;5;167;01mException\u001b[39;00m:\n\u001b[1;32m    964\u001b[0m     restore_defaults()\n",
      "File \u001b[0;32m/opt/anaconda3/envs/tb_model/lib/python3.10/site-packages/pytensor/graph/op.py:524\u001b[0m, in \u001b[0;36mOp.make_py_thunk.<locals>.rval\u001b[0;34m(p, i, o, n)\u001b[0m\n\u001b[1;32m    522\u001b[0m \u001b[38;5;129m@is_thunk_type\u001b[39m\n\u001b[1;32m    523\u001b[0m \u001b[38;5;28;01mdef\u001b[39;00m \u001b[38;5;21mrval\u001b[39m(p\u001b[38;5;241m=\u001b[39mp, i\u001b[38;5;241m=\u001b[39mnode_input_storage, o\u001b[38;5;241m=\u001b[39mnode_output_storage, n\u001b[38;5;241m=\u001b[39mnode):\n\u001b[0;32m--> 524\u001b[0m     r \u001b[38;5;241m=\u001b[39m \u001b[43mp\u001b[49m\u001b[43m(\u001b[49m\u001b[43mn\u001b[49m\u001b[43m,\u001b[49m\u001b[43m \u001b[49m\u001b[43m[\u001b[49m\u001b[43mx\u001b[49m\u001b[43m[\u001b[49m\u001b[38;5;241;43m0\u001b[39;49m\u001b[43m]\u001b[49m\u001b[43m \u001b[49m\u001b[38;5;28;43;01mfor\u001b[39;49;00m\u001b[43m \u001b[49m\u001b[43mx\u001b[49m\u001b[43m \u001b[49m\u001b[38;5;129;43;01min\u001b[39;49;00m\u001b[43m \u001b[49m\u001b[43mi\u001b[49m\u001b[43m]\u001b[49m\u001b[43m,\u001b[49m\u001b[43m \u001b[49m\u001b[43mo\u001b[49m\u001b[43m)\u001b[49m\n\u001b[1;32m    525\u001b[0m     \u001b[38;5;28;01mfor\u001b[39;00m o \u001b[38;5;129;01min\u001b[39;00m node\u001b[38;5;241m.\u001b[39moutputs:\n\u001b[1;32m    526\u001b[0m         compute_map[o][\u001b[38;5;241m0\u001b[39m] \u001b[38;5;241m=\u001b[39m \u001b[38;5;28;01mTrue\u001b[39;00m\n",
      "File \u001b[0;32m/opt/anaconda3/envs/tb_model/lib/python3.10/site-packages/estival/wrappers/pymc.py:64\u001b[0m, in \u001b[0;36mget_wrapped_ll.<locals>.BCMLogLike.perform\u001b[0;34m(self, node, inputs, outputs)\u001b[0m\n\u001b[1;32m     61\u001b[0m \u001b[38;5;66;03m# call the log-likelihood function\u001b[39;00m\n\u001b[1;32m     62\u001b[0m logl \u001b[38;5;241m=\u001b[39m \u001b[38;5;28mself\u001b[39m\u001b[38;5;241m.\u001b[39mbcm\u001b[38;5;241m.\u001b[39mloglikelihood(\u001b[38;5;241m*\u001b[39m\u001b[38;5;241m*\u001b[39mkwargs)\n\u001b[0;32m---> 64\u001b[0m outputs[\u001b[38;5;241m0\u001b[39m][\u001b[38;5;241m0\u001b[39m] \u001b[38;5;241m=\u001b[39m \u001b[43mnp\u001b[49m\u001b[38;5;241;43m.\u001b[39;49m\u001b[43marray\u001b[49m\u001b[43m(\u001b[49m\u001b[43mlogl\u001b[49m\u001b[43m)\u001b[49m\n",
      "\u001b[0;31mKeyboardInterrupt\u001b[0m: "
     ]
    }
   ],
   "source": [
    "idata = calibrate(1500, 1000)"
   ]
  },
  {
   "cell_type": "code",
   "execution_count": 6,
   "metadata": {},
   "outputs": [],
   "source": [
    "likelihood_df = likelihood_extras_for_idata(idata, bcm)\n",
    "ldf_sorted = likelihood_df.sort_values(by=\"logposterior\",ascending=False)\n",
    "map_params = idata.posterior.to_dataframe().loc[ldf_sorted.index[0]].to_dict()\n",
    "map_res = bcm.run(map_params)"
   ]
  },
  {
   "cell_type": "code",
   "execution_count": null,
   "metadata": {},
   "outputs": [],
   "source": [
    "plot_posterior_comparison(idata, 0.995)"
   ]
  },
  {
   "cell_type": "code",
   "execution_count": null,
   "metadata": {},
   "outputs": [],
   "source": [
    "tabulate_calib_results(idata, param_info)"
   ]
  },
  {
   "cell_type": "code",
   "execution_count": null,
   "metadata": {},
   "outputs": [],
   "source": [
    "variable = \"notification\"\n",
    "fig = plot_model_vs_actual(map_res.derived_outputs, \n",
    "                     bcm.targets[variable].data,\n",
    "                     variable,\n",
    "                     variable,\n",
    "                     \"\",\n",
    "                     \"Actual data\")\n",
    "#fig.update_xaxes(range=[1998, 2023])\n",
    "fig\n",
    "\n"
   ]
  },
  {
   "cell_type": "code",
   "execution_count": null,
   "metadata": {},
   "outputs": [],
   "source": [
    "variable = \"prevalence\"\n",
    "fig = plot_model_vs_actual(map_res.derived_outputs, \n",
    "                     bcm.targets[variable].data,\n",
    "                     variable,\n",
    "                     variable,\n",
    "                     \"\",\n",
    "                     \"Actual data\")\n",
    "#fig.update_xaxes(range=[1998, 2023])\n",
    "fig"
   ]
  },
  {
   "cell_type": "code",
   "execution_count": null,
   "metadata": {},
   "outputs": [],
   "source": []
  }
 ],
 "metadata": {
  "kernelspec": {
   "display_name": "tb_model",
   "language": "python",
   "name": "python3"
  },
  "language_info": {
   "codemirror_mode": {
    "name": "ipython",
    "version": 3
   },
   "file_extension": ".py",
   "mimetype": "text/x-python",
   "name": "python",
   "nbconvert_exporter": "python",
   "pygments_lexer": "ipython3",
   "version": "3.10.15"
  }
 },
 "nbformat": 4,
 "nbformat_minor": 2
}
