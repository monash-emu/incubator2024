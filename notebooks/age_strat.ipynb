{
 "cells": [
  {
   "cell_type": "code",
   "execution_count": null,
   "metadata": {},
   "outputs": [],
   "source": [
    "import pandas as pd\n",
    "from plotly import graph_objects as go\n",
    "import nevergrad as ng\n",
    "from summer2 import AgeStratification, Overwrite\n",
    "\n",
    "from estival.wrappers.nevergrad import optimize_model\n",
    "import estival.priors as esp\n",
    "import estival.targets as est\n",
    "from estival.model import BayesianCompartmentalModel\n",
    "from estival.wrappers import pymc as epm\n",
    "from summer2 import CompartmentalModel\n",
    "from summer2.parameters import Parameter, DerivedOutput\n",
    "from summer2.functions.time import get_sigmoidal_interpolation_function\n",
    "\n",
    "from tb_incubator.demographics import add_extra_crude_birth_flow\n",
    "from tb_incubator.constants import set_project_base_path\n",
    "from tb_incubator.input import get_birth_rate, get_pop_death_data, get_death_rates\n",
    "\n",
    "pd.options.plotting.backend = \"plotly\"\n",
    "project_paths = set_project_base_path(\"../tb_incubator/\")"
   ]
  },
  {
   "cell_type": "code",
   "execution_count": null,
   "metadata": {},
   "outputs": [],
   "source": [
    "# load birth data\n",
    "birth_rates = get_birth_rate()"
   ]
  },
  {
   "cell_type": "code",
   "execution_count": null,
   "metadata": {},
   "outputs": [],
   "source": [
    "# load age-stratified, population & deaths data\n",
    "pop_death = get_pop_death_data()\n",
    "\n",
    "target_pops = pop_death.groupby(level=[0]).sum()[\"population\"]"
   ]
  },
  {
   "cell_type": "code",
   "execution_count": null,
   "metadata": {},
   "outputs": [],
   "source": [
    "# load death rates\n",
    "death_rates = get_death_rates()"
   ]
  },
  {
   "cell_type": "code",
   "execution_count": null,
   "metadata": {},
   "outputs": [],
   "source": [
    "death_rates.plot()"
   ]
  },
  {
   "cell_type": "code",
   "execution_count": null,
   "metadata": {},
   "outputs": [],
   "source": [
    "# Arbitrary base model construction\n",
    "model_comps = [\"susceptible\", \"early latent\", \"late latent\", \"infectious\", \"recovered\"]\n",
    "model_times = [1850.0, 2024.0]\n",
    "model = CompartmentalModel(\n",
    "    times=model_times,\n",
    "    compartments=model_comps,\n",
    "    infectious_compartments=[\"infectious\"],\n",
    ")\n",
    "init_pops = {\"susceptible\": Parameter(\"starting population\"), \"infectious\": 0.0}\n",
    "model.set_initial_population(init_pops)"
   ]
  },
  {
   "cell_type": "code",
   "execution_count": null,
   "metadata": {},
   "outputs": [],
   "source": [
    "# TB transitions, some meaningless TB-related flows\n",
    "#model.add_death_flow(\"TB death\", Parameter(\"death rate\"), \"infectious\")"
   ]
  },
  {
   "cell_type": "code",
   "execution_count": null,
   "metadata": {},
   "outputs": [],
   "source": [
    "# Demographic transitions\n",
    "model.add_universal_death_flows(\"population_death\", 1.0)\n",
    "model.add_replacement_birth_flow(\"replacement_birth\", \"susceptible\")\n",
    "add_extra_crude_birth_flow(model, \"extra_birth\", Parameter(\"population growth rate\"), \"susceptible\")"
   ]
  },
  {
   "cell_type": "code",
   "execution_count": null,
   "metadata": {},
   "outputs": [],
   "source": [
    "# Arbitrary epidemiological parameter\n",
    "params = {\"population growth rate\": 0.1,\n",
    "          \"starting population\" : 1e7}"
   ]
  },
  {
   "cell_type": "code",
   "execution_count": null,
   "metadata": {},
   "outputs": [],
   "source": [
    "# Apply age stratification with age-specific death rate functions of time\n",
    "agegroup_request = [[0, 4], [5, 14], [15, 34], [35, 49], [50, 100]]\n",
    "age_strata = [i[0] for i in agegroup_request]\n",
    "strat = AgeStratification(\"age\", age_strata, model_comps)\n",
    "death_adjs = {}\n",
    "for age in age_strata:\n",
    "    years = death_rates.index\n",
    "    rates = death_rates[age]\n",
    "    pop_death_func = get_sigmoidal_interpolation_function(years, rates)\n",
    "    death_adjs[str(age)] = Overwrite(pop_death_func)\n",
    "strat.set_flow_adjustments(\"population_death\", death_adjs)\n",
    "model.stratify_with(strat)"
   ]
  },
  {
   "cell_type": "code",
   "execution_count": null,
   "metadata": {},
   "outputs": [],
   "source": [
    "# Track population\n",
    "model.request_output_for_compartments(\"total_population\", model_comps)\n",
    "for s in age_strata:\n",
    "    model.request_output_for_compartments(f\"{s}_population\", model_comps, strata={\"age\": str(s)})"
   ]
  },
  {
   "cell_type": "code",
   "execution_count": null,
   "metadata": {},
   "outputs": [],
   "source": [
    "model.run(parameters=params)\n",
    "age_pops = model.get_derived_outputs_df()\n",
    "age_pops.plot.area()"
   ]
  },
  {
   "cell_type": "code",
   "execution_count": null,
   "metadata": {},
   "outputs": [],
   "source": [
    "# Prepare calibration model\n",
    "priors = [\n",
    "    esp.UniformPrior(\"population growth rate\", (0.005, 0.03)),\n",
    "    esp.UniformPrior(\"starting population\", (1e6, 3e7)),\n",
    "]\n",
    "targets = [est.NegativeBinomialTarget(\"total_population\", target_pops, dispersion_param=100.0)]\n",
    "bcm = BayesianCompartmentalModel(model, params, priors, targets)"
   ]
  },
  {
   "cell_type": "code",
   "execution_count": null,
   "metadata": {},
   "outputs": [],
   "source": [
    "# Set up optimisation\n",
    "budget = 1000\n",
    "opt_class = ng.optimizers.NGOpt\n",
    "orunner = optimize_model(bcm, opt_class=opt_class, budget=budget)\n",
    "start_params = {\"population growth rate\": 0.01, \"starting population\": 1.5e6}\n",
    "orunner = optimize_model(bcm, opt_class=opt_class, suggested=start_params, init_method=\"midpoint\")"
   ]
  },
  {
   "cell_type": "code",
   "execution_count": null,
   "metadata": {},
   "outputs": [],
   "source": [
    "# Optimise\n",
    "rec = orunner.minimize(budget)\n",
    "map_params = rec.value[1]\n",
    "print(\"Best candidate parameters:\")\n",
    "for i_param, param in enumerate(map_params):\n",
    "    print(f\"\\t{param}: {round(map_params[param], 3)} (within bound {priors[i_param].bounds()}\")"
   ]
  },
  {
   "cell_type": "code",
   "execution_count": null,
   "metadata": {},
   "outputs": [],
   "source": [
    "# Run with optimised parameters\n",
    "model.run(parameters=params | map_params)"
   ]
  },
  {
   "cell_type": "code",
   "execution_count": null,
   "metadata": {},
   "outputs": [],
   "source": [
    "# Inspect outputs\n",
    "outputs = model.get_derived_outputs_df()\n",
    "fig = go.Figure()\n",
    "fig.add_trace(go.Scatter(x=outputs.index, y=outputs[\"total_population\"], name=\"modelled\"))\n",
    "fig.add_trace(go.Scatter(x=target_pops.index, y=target_pops, name=\"target\", mode=\"markers\", marker=dict(color=\"black\", size=2.0)))\n",
    "fig.update_layout(yaxis={\"range\": [0.0, 3e8]})"
   ]
  },
  {
   "cell_type": "code",
   "execution_count": null,
   "metadata": {},
   "outputs": [],
   "source": []
  }
 ],
 "metadata": {
  "kernelspec": {
   "display_name": "Python 3 (ipykernel)",
   "language": "python",
   "name": "python3"
  },
  "language_info": {
   "codemirror_mode": {
    "name": "ipython",
    "version": 3
   },
   "file_extension": ".py",
   "mimetype": "text/x-python",
   "name": "python",
   "nbconvert_exporter": "python",
   "pygments_lexer": "ipython3",
   "version": "3.10.14"
  }
 },
 "nbformat": 4,
 "nbformat_minor": 4
}
