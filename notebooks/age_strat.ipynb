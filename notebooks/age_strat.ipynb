{
 "cells": [
  {
   "cell_type": "code",
   "execution_count": null,
   "metadata": {},
   "outputs": [],
   "source": [
    "import pandas as pd\n",
    "from plotly import graph_objects as go\n",
    "import nevergrad as ng\n",
    "from summer2 import AgeStratification, Overwrite\n",
    "\n",
    "from estival.wrappers.nevergrad import optimize_model\n",
    "import estival.priors as esp\n",
    "import estival.targets as est\n",
    "from estival.model import BayesianCompartmentalModel\n",
    "from estival.wrappers import pymc as epm\n",
    "from summer2 import CompartmentalModel\n",
    "from summer2.parameters import Parameter, Function, DerivedOutput\n",
    "from summer2.functions.time import get_sigmoidal_interpolation_function\n",
    "\n",
    "from tb_incubator.demographics import add_extra_crude_birth_flow\n",
    "from tb_incubator.constants import set_project_base_path\n",
    "from tb_incubator.input import get_birth_rate, get_pop_death_data, get_death_rates\n",
    "\n",
    "pd.options.plotting.backend = \"plotly\"\n",
    "project_paths = set_project_base_path(\"../tb_incubator/\")"
   ]
  },
  {
   "cell_type": "code",
   "execution_count": null,
   "metadata": {},
   "outputs": [],
   "source": [
    "# Load birth data\n",
    "birth_rates = get_birth_rate()"
   ]
  },
  {
   "cell_type": "code",
   "execution_count": null,
   "metadata": {},
   "outputs": [],
   "source": [
    "# Load age-stratified, population and death data\n",
    "pop_death = get_pop_death_data()\n",
    "target_pops = pop_death.groupby(level=[0]).sum()[\"population\"]"
   ]
  },
  {
   "cell_type": "code",
   "execution_count": null,
   "metadata": {},
   "outputs": [],
   "source": [
    "# Load death rates\n",
    "death_rates = get_death_rates()"
   ]
  },
  {
   "cell_type": "code",
   "execution_count": null,
   "metadata": {},
   "outputs": [],
   "source": [
    "# Arbitrary base model construction\n",
    "model_comps = [\"susceptible\", \"early latent\", \"late latent\", \"infectious\", \"recovered\"]\n",
    "model_times = [1850.0, 2024.0]\n",
    "model = CompartmentalModel(\n",
    "    times=model_times,\n",
    "    compartments=model_comps,\n",
    "    infectious_compartments=[\"infectious\"],\n",
    ")\n",
    "model.set_initial_population({})"
   ]
  },
  {
   "cell_type": "code",
   "execution_count": null,
   "metadata": {},
   "outputs": [],
   "source": [
    "# TB transitions, some meaningless TB-related flows - can add to these to test\n",
    "model.add_death_flow(\"TB death\", Parameter(\"death rate\"), \"infectious\")"
   ]
  },
  {
   "cell_type": "code",
   "execution_count": null,
   "metadata": {},
   "outputs": [],
   "source": [
    "# Demographic transitions\n",
    "model.add_universal_death_flows(\"population_death\", 1.0)  # Placeholder to overwrite later\n",
    "model.add_replacement_birth_flow(\"replacement_birth\", \"susceptible\")"
   ]
  },
  {
   "cell_type": "code",
   "execution_count": null,
   "metadata": {},
   "outputs": [],
   "source": [
    "# Population by year and get the duration of the run-in period\n",
    "total_pop_by_year = pop_death.groupby(\"year\")[\"population\"].sum()\n",
    "pop_start_year = total_pop_by_year.index[0]\n",
    "start_period = pop_start_year - model_times[0]"
   ]
  },
  {
   "cell_type": "code",
   "execution_count": null,
   "metadata": {},
   "outputs": [],
   "source": [
    "pop_entry"
   ]
  },
  {
   "cell_type": "code",
   "execution_count": null,
   "metadata": {},
   "outputs": [],
   "source": [
    "# Calculate population entry rates and convert to function\n",
    "pop_entry = total_pop_by_year.diff().dropna()  # Note this will only work if data are annual\n",
    "pop_entry[pop_start_year] = total_pop_by_year[pop_start_year] / start_period\n",
    "pop_entry = pop_entry.sort_index()\n",
    "entry_rate = get_sigmoidal_interpolation_function(pop_entry.index, pop_entry)"
   ]
  },
  {
   "cell_type": "code",
   "execution_count": null,
   "metadata": {},
   "outputs": [],
   "source": [
    "pop_entry = total_pop_by_year.diff().dropna()  # Note this will only work if data are annual\n",
    "pop_entry[pop_start_year] = total_pop_by_year[pop_start_year] / start_period"
   ]
  },
  {
   "cell_type": "code",
   "execution_count": null,
   "metadata": {},
   "outputs": [],
   "source": [
    "# Apply age stratification with age-specific death rate functions of time\n",
    "agegroup_request = [[0, 4], [5, 14], [15, 34], [35, 49], [50, 100]]\n",
    "age_strata = [i[0] for i in agegroup_request]\n",
    "strat = AgeStratification(\"age\", age_strata, model_comps)\n",
    "death_adjs = {}\n",
    "for age in age_strata:\n",
    "    years = death_rates.index\n",
    "    rates = death_rates[age]\n",
    "    pop_death_func = get_sigmoidal_interpolation_function(years, rates)\n",
    "    death_adjs[str(age)] = Overwrite(pop_death_func)\n",
    "strat.set_flow_adjustments(\"population_death\", death_adjs)\n",
    "model.stratify_with(strat)"
   ]
  },
  {
   "cell_type": "code",
   "execution_count": null,
   "metadata": {},
   "outputs": [],
   "source": [
    "# Add births as additional entry rate (split imports in case the susceptible compartments are further stratified later)\n",
    "model.add_importation_flow(\"births\", entry_rate, dest=\"susceptible\", split_imports=True, dest_strata={\"age\": \"0\"})"
   ]
  },
  {
   "cell_type": "code",
   "execution_count": null,
   "metadata": {},
   "outputs": [],
   "source": [
    "# Track populations\n",
    "age_pop_outputs = [model.request_output_for_compartments(s, model_comps, strata={\"age\": str(s)}) for s in age_strata]"
   ]
  },
  {
   "cell_type": "code",
   "execution_count": null,
   "metadata": {},
   "outputs": [],
   "source": [
    "# Run and inspect results\n",
    "model.run({\"death rate\": 0.01})\n",
    "fig = model.get_derived_outputs_df().plot.area()\n",
    "fig.add_trace(go.Scatter(x=target_pops.index, y=target_pops, name=\"target\", mode=\"markers\", marker=dict(color=\"black\", size=2.0)))"
   ]
  },
  {
   "cell_type": "code",
   "execution_count": null,
   "metadata": {},
   "outputs": [],
   "source": []
  }
 ],
 "metadata": {
  "kernelspec": {
   "display_name": "Python 3 (ipykernel)",
   "language": "python",
   "name": "python3"
  },
  "language_info": {
   "codemirror_mode": {
    "name": "ipython",
    "version": 3
   },
   "file_extension": ".py",
   "mimetype": "text/x-python",
   "name": "python",
   "nbconvert_exporter": "python",
   "pygments_lexer": "ipython3",
   "version": "3.10.14"
  }
 },
 "nbformat": 4,
 "nbformat_minor": 4
}
