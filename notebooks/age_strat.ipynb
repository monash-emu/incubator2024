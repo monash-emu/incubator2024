{
 "cells": [
  {
   "cell_type": "code",
   "execution_count": null,
   "metadata": {},
   "outputs": [],
   "source": [
    "import pandas as pd\n",
    "from plotly import graph_objects as go\n",
    "import nevergrad as ng\n",
    "from summer2 import AgeStratification, Overwrite\n",
    "\n",
    "from estival.wrappers.nevergrad import optimize_model\n",
    "import estival.priors as esp\n",
    "import estival.targets as est\n",
    "from estival.model import BayesianCompartmentalModel\n",
    "from estival.wrappers import pymc as epm\n",
    "from summer2 import CompartmentalModel\n",
    "from summer2.parameters import Parameter, DerivedOutput\n",
    "from summer2.functions.time import get_sigmoidal_interpolation_function\n",
    "\n",
    "from tb_incubator.demographics import add_extra_crude_birth_flow\n",
    "from tb_incubator.constants import set_project_base_path\n",
    "\n",
    "pd.options.plotting.backend = \"plotly\"\n",
    "project_paths = set_project_base_path(\"../incubator2024/tb_incubator\")"
   ]
  },
  {
   "cell_type": "code",
   "execution_count": null,
   "metadata": {},
   "outputs": [],
   "source": [
    "# Can move this out of the notebook now\n",
    "def get_age_groups_in_range(data_ages, lower_limit, upper_limit):\n",
    "    return [i for i in data_ages if \"+\" not in i and lower_limit <= int(i.split(\"-\")[0]) <= upper_limit]"
   ]
  },
  {
   "cell_type": "code",
   "execution_count": null,
   "metadata": {},
   "outputs": [],
   "source": [
    "# UN birth data\n",
    "data_path = project_paths[\"DATA_PATH\"]\n",
    "birth_rates = pd.read_csv(data_path / \"id_birth.csv\", index_col=0)[\"value\"]"
   ]
  },
  {
   "cell_type": "code",
   "execution_count": null,
   "metadata": {},
   "outputs": [],
   "source": [
    "# Load population and deaths\n",
    "un_pop_data = pd.read_csv(data_path / \"id_pop_deaths.csv\")"
   ]
  },
  {
   "cell_type": "code",
   "execution_count": null,
   "metadata": {},
   "outputs": [],
   "source": [
    "# Process demographic data into multi-indexed dataframe\n",
    "un_pops = pd.DataFrame({\n",
    "    \"population\": un_pop_data[\"population\"],\n",
    "    \"deaths\": un_pop_data[\"deaths\"]\n",
    "})\n",
    "un_pops.index = pd.MultiIndex.from_frame(un_pop_data[[\"year\", \"age\"]])\n",
    "\n",
    "target_pops = un_pops.groupby(level=[0]).sum()[\"population\"]\n",
    "target_deaths = un_pops.groupby(level=[0]).sum()[\"deaths\"]\n",
    "data_ages = set(un_pops.index.get_level_values(1))\n",
    "years = set(un_pops.index.get_level_values(0))"
   ]
  },
  {
   "cell_type": "code",
   "execution_count": null,
   "metadata": {},
   "outputs": [],
   "source": [
    "# Get mapping from modelled age groups to data\n",
    "agegroup_request = [[0, 4], [5, 14], [15, 34], [35, 49], [50, 74]]\n",
    "agegroup_map = {low: get_age_groups_in_range(data_ages, low, up) for low, up in agegroup_request}\n",
    "agegroup_map[agegroup_request[-1][0]].append(\"75+\")"
   ]
  },
  {
   "cell_type": "code",
   "execution_count": null,
   "metadata": {},
   "outputs": [],
   "source": [
    "# Calculate death rates\n",
    "mapped_rates = pd.DataFrame()\n",
    "for year in years:\n",
    "    for agegroup in agegroup_map:\n",
    "        age_mask = [i in agegroup_map[agegroup] for i in un_pops.index.get_level_values(1)]\n",
    "        age_year_data = un_pops.loc[age_mask].loc[year, :]\n",
    "        total = age_year_data.sum()\n",
    "        mapped_rates.loc[year, agegroup] = total[\"deaths\"] / total[\"population\"]\n",
    "death_rates = mapped_rates.loc[birth_rates.index]"
   ]
  },
  {
   "cell_type": "code",
   "execution_count": null,
   "metadata": {},
   "outputs": [],
   "source": [
    "death_rates.plot()"
   ]
  },
  {
   "cell_type": "code",
   "execution_count": null,
   "metadata": {},
   "outputs": [],
   "source": [
    "# Arbitrary base model construction\n",
    "model_comps = [\"susceptible\", \"early latent\", \"late latent\", \"infectious\", \"recovered\"]\n",
    "model_times = [1850.0, 2024.0]\n",
    "model = CompartmentalModel(\n",
    "    times=model_times,\n",
    "    compartments=model_comps,\n",
    "    infectious_compartments=[\"infectious\"],\n",
    ")\n",
    "init_pops = {\"susceptible\": Parameter(\"starting population\"), \"infectious\": 0.0}\n",
    "model.set_initial_population(init_pops)"
   ]
  },
  {
   "cell_type": "code",
   "execution_count": null,
   "metadata": {},
   "outputs": [],
   "source": [
    "# TB transitions, some meaningless TB-related flows\n",
    "model.add_death_flow(\"TB death\", Parameter(\"death rate\"), \"infectious\")"
   ]
  },
  {
   "cell_type": "code",
   "execution_count": null,
   "metadata": {},
   "outputs": [],
   "source": [
    "# Demographic transitions\n",
    "model.add_universal_death_flows(\"population_death\", 1.0)\n",
    "model.add_replacement_birth_flow(\"replacement_birth\", \"susceptible\")\n",
    "add_extra_crude_birth_flow(model, \"extra_birth\", Parameter(\"population growth rate\"), \"susceptible\")"
   ]
  },
  {
   "cell_type": "code",
   "execution_count": null,
   "metadata": {},
   "outputs": [],
   "source": [
    "# Arbitrary epidemiological parameter\n",
    "params = {\"death rate\": 0.1}"
   ]
  },
  {
   "cell_type": "code",
   "execution_count": null,
   "metadata": {},
   "outputs": [],
   "source": [
    "# Apply age stratification with age-specific death rate functions of time\n",
    "age_strata = [i[0] for i in agegroup_request]\n",
    "strat = AgeStratification(\"age\", age_strata, model_comps)\n",
    "death_adjs = {}\n",
    "for age in age_strata:\n",
    "    years = death_rates.index\n",
    "    rates = death_rates[age]\n",
    "    pop_death_func = get_sigmoidal_interpolation_function(years, rates)\n",
    "    death_adjs[str(age)] = Overwrite(pop_death_func)\n",
    "strat.set_flow_adjustments(\"population_death\", death_adjs)\n",
    "model.stratify_with(strat)"
   ]
  },
  {
   "cell_type": "code",
   "execution_count": null,
   "metadata": {},
   "outputs": [],
   "source": [
    "# Track population\n",
    "model.request_output_for_compartments(\"total_population\", model_comps);"
   ]
  },
  {
   "cell_type": "code",
   "execution_count": null,
   "metadata": {},
   "outputs": [],
   "source": [
    "# Prepare calibration model\n",
    "priors = [\n",
    "    esp.UniformPrior(\"population growth rate\", (0.005, 0.03)),\n",
    "    esp.UniformPrior(\"starting population\", (1e6, 3e7)),\n",
    "]\n",
    "targets = [est.NegativeBinomialTarget(\"total_population\", target_pops, dispersion_param=100.0)]\n",
    "bcm = BayesianCompartmentalModel(model, params, priors, targets)"
   ]
  },
  {
   "cell_type": "code",
   "execution_count": null,
   "metadata": {},
   "outputs": [],
   "source": [
    "# Set up optimisation\n",
    "budget = 1000\n",
    "opt_class = ng.optimizers.NGOpt\n",
    "orunner = optimize_model(bcm, opt_class=opt_class, budget=budget)\n",
    "start_params = {\"population growth rate\": 0.01, \"starting population\": 1.5e6}\n",
    "orunner = optimize_model(bcm, opt_class=opt_class, suggested=start_params, init_method=\"midpoint\")"
   ]
  },
  {
   "cell_type": "code",
   "execution_count": null,
   "metadata": {},
   "outputs": [],
   "source": [
    "# Optimise\n",
    "rec = orunner.minimize(budget)\n",
    "map_params = rec.value[1]\n",
    "print(\"Best candidate parameters:\")\n",
    "for i_param, param in enumerate(map_params):\n",
    "    print(f\"\\t{param}: {round(map_params[param], 3)} (within bound {priors[i_param].bounds()}\")"
   ]
  },
  {
   "cell_type": "code",
   "execution_count": null,
   "metadata": {},
   "outputs": [],
   "source": [
    "# Run with optimised parameters\n",
    "model.run(parameters=params | map_params)"
   ]
  },
  {
   "cell_type": "code",
   "execution_count": null,
   "metadata": {},
   "outputs": [],
   "source": [
    "# Inspect outputs\n",
    "outputs = model.get_derived_outputs_df()\n",
    "fig = go.Figure()\n",
    "fig.add_trace(go.Scatter(x=outputs.index, y=outputs[\"total_population\"], name=\"modelled\"))\n",
    "fig.add_trace(go.Scatter(x=target_pops.index, y=target_pops, name=\"target\", mode=\"markers\", marker=dict(color=\"black\", size=2.0)))\n",
    "fig.update_layout(yaxis={\"range\": [0.0, 3e8]})"
   ]
  }
 ],
 "metadata": {
  "kernelspec": {
   "display_name": "Python 3 (ipykernel)",
   "language": "python",
   "name": "python3"
  },
  "language_info": {
   "codemirror_mode": {
    "name": "ipython",
    "version": 3
   },
   "file_extension": ".py",
   "mimetype": "text/x-python",
   "name": "python",
   "nbconvert_exporter": "python",
   "pygments_lexer": "ipython3",
   "version": "3.10.13"
  }
 },
 "nbformat": 4,
 "nbformat_minor": 4
}
