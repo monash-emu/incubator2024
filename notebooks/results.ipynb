{
 "cells": [
  {
   "cell_type": "markdown",
   "id": "a13b063e",
   "metadata": {},
   "source": [
    "---\n",
    "title: \"TB model for Indonesia\"\n",
    "format: \n",
    "  pdf:\n",
    "    include-in-header:\n",
    "      text: |\n",
    "        \\usepackage[labelfont=bf]{caption}\n",
    "execute:\n",
    "  echo: false\n",
    "  warning: false\n",
    "jupyter: python3\n",
    "bibliography: ../supplementary/tb_refs.bib\n",
    "csl: https://www.zotero.org/styles/the-lancet\n",
    "---"
   ]
  },
  {
   "cell_type": "code",
   "execution_count": null,
   "id": "6d7b428c",
   "metadata": {},
   "outputs": [],
   "source": [
    "from IPython.display import Image, display\n",
    "from tb_incubator.constants import set_project_base_path, image_path\n",
    "\n",
    "project_paths = set_project_base_path(\"../tb_incubator/\")\n",
    "calib_out = project_paths[\"OUT_PATH\"]"
   ]
  },
  {
   "cell_type": "markdown",
   "id": "dc712443",
   "metadata": {},
   "source": [
    "# Results"
   ]
  },
  {
   "cell_type": "markdown",
   "id": "a4308bb5",
   "metadata": {},
   "source": [
    "## Candidate model comparison\n",
    "\n",
    "Figure X illustrates the fit of the four modelled assumptions to the observed data. Each modelled assumption demonstrated a good fit to the observed prevalence of pulmonary TB among adults [@fig-adultprev-assump]. However, when compared to the TB case notifications, the fit varied [@fig-notif-assump]. The first and third assumptions, both of which incorporated increased GeneXpert utilisation, provided the best fit among all assumptions. These assumptions captured the increasing trend in case notifications observed before the COVID-19 pandemic and the post-pandemic rebound in case notifications, demonstrating a better fit to the observed data compared to other assumptions. The first assumption slightly outperformed the third assumption in the estimated log pointwise density using Watanabe-Akaike Information Criterion (ELPD-WAIC). Thus, the model with Assumption 1 was chosen for further analysis. \n",
    "\n",
    "Figure Y shows how the epidemic trajectory under Assumption 1 fits to the observed local data and previously modelled estimates over the last 15 years. Our model simulates the upward trend of adult prevalence of pulmonary TB, incidence, and mortality in the 1950s, coinciding with the population growth during the same period (Supp. Figure X, Supp. Fig. Y). These trends then started declining from 1975 and continued steadily downward thereafter. In contrast, the simulated percentage of population with latent TB showed the opposite pattern in the 1950s—initially declining then slightly increasing—before eventually declining in line with the other indicators. \n",
    "\n",
    "Over the last 15 years, our model suggests a steady decline in adults prevalence of pulmonary TB over time. The estimated pulmonary TB prevalence median in adults in 2014 was 788 per 100,000 population (95% CrI: 525.4 - 1580.9), closely aligned with the reported value from the Indonesia TB Prevalence Survey from the same period (759.1 per 100,000 populations (95% CrI: 589.7 - 960.8)) [CITE]. The model projects a continued decline to 614 per 100,000 population by 2024 (95% CrI: 408 - 1,025), representing an estimated 22% reduction over the decade.\n",
    "\n",
    "Estimates for incidence, mortality, and percentage of population with latent TB also demonstrated consistent decline over time. However, the simulated outputs exceeded the previously reported estimates [CITE WHO & Ding et al]. Our median estimate of TB incidence in 2023 (568 per 100,000 population (95% CrI: 451.3 - 617.5)) was 47% higher than WHO estimates (387 per 100,000 population (95% CrI: 354-432)). We also estimated that approximately 530,000 deaths were caused by TB in the same year (189 per 100,000 population (95% CrI: 96 - 374.2)), which was four times higher than the WHO estimates [CITE]. The modelled percentage of latent TB in the population in 2019 was approximately two-fold than the estimate reported in Ding et al. (2022).\n"
   ]
  },
  {
   "cell_type": "code",
   "execution_count": null,
   "id": "2edf83f0",
   "metadata": {},
   "outputs": [],
   "source": [
    "#| label: fig-notif-assump\n",
    "#| fig-cap: \"Comparison of model fits for TB cases notification under different assumptions. Solid green lines show median of model estimates; shaded areas indicate interquartile ranges (dark) and 95% credible intervals (light). Black filled circles are calibration targets; open circles represent additional historical data.\"\n",
    "\n",
    "fig = Image(filename=image_path/'notifications_comp_25000d10000t_01.png')\n",
    "display(fig)"
   ]
  },
  {
   "cell_type": "markdown",
   "id": "61540f43",
   "metadata": {},
   "source": []
  },
  {
   "cell_type": "code",
   "execution_count": null,
   "id": "150d25aa",
   "metadata": {},
   "outputs": [],
   "source": [
    "fig = Image(filename=image_path/'tb_epi_hist_xpert_only_25000d10000t_01.png')\n",
    "display(fig)\n"
   ]
  },
  {
   "cell_type": "markdown",
   "id": "fe8a4f4d",
   "metadata": {},
   "source": []
  },
  {
   "cell_type": "code",
   "execution_count": null,
   "id": "54bc58d7",
   "metadata": {},
   "outputs": [],
   "source": [
    "#| label: fig-adultprev-assump\n",
    "#| fig-cap: \"Comparison of model fits for prevalence of pulmonary TB among adults (/100,000 person) under different assumptions. Solid blue lines show median of model estimates; shaded areas indicate interquartile ranges (dark) and 95% credible intervals (light). Black filled circles are calibration targets; open circles represent additional historical data.\"\n",
    "\n",
    "fig = Image(filename=image_path/'adults_prev_comp_25000d10000t_01.png')\n",
    "display(fig)\n",
    "\n",
    "\n"
   ]
  },
  {
   "cell_type": "code",
   "execution_count": null,
   "id": "bf765c0b",
   "metadata": {},
   "outputs": [],
   "source": [
    "fig = Image(filename=image_path/'tb_epi_xpert_only_25000d10000t_01.png')\n",
    "display(fig)"
   ]
  },
  {
   "cell_type": "code",
   "execution_count": null,
   "id": "fbed85e6",
   "metadata": {},
   "outputs": [],
   "source": []
  }
 ],
 "metadata": {
  "kernelspec": {
   "display_name": "tbmodel310",
   "language": "python",
   "name": "python3"
  },
  "language_info": {
   "codemirror_mode": {
    "name": "ipython",
    "version": 3
   },
   "file_extension": ".py",
   "mimetype": "text/x-python",
   "name": "python",
   "nbconvert_exporter": "python",
   "pygments_lexer": "ipython3",
   "version": "3.10.16"
  }
 },
 "nbformat": 4,
 "nbformat_minor": 5
}
