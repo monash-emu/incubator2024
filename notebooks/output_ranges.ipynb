{
 "cells": [
  {
   "cell_type": "code",
   "execution_count": null,
   "id": "b0ee2db9",
   "metadata": {},
   "outputs": [],
   "source": [
    "import warnings\n",
    "warnings.filterwarnings(\"ignore\")\n",
    "import pandas as pd\n",
    "from tb_incubator.constants import set_project_base_path, QUANTILES, image_path\n",
    "from tb_incubator.calibrate import plot_spaghetti_calib_comparison, plot_output_ranges\n",
    "from tb_incubator.plotting import get_combined_plot\n",
    "from tb_incubator.input import load_targets\n",
    "from estival.sampling import tools as esamp\n",
    "import plotly.graph_objects as go\n",
    "\n",
    "project_paths = set_project_base_path(\"../tb_incubator/\")\n",
    "calib_out = project_paths[\"OUT_PATH\"]"
   ]
  },
  {
   "cell_type": "code",
   "execution_count": null,
   "id": "49c9e301",
   "metadata": {},
   "outputs": [],
   "source": [
    "file_suffix = \"xpert_utilisation_improvement_p17_01\"\n",
    "spaghetti = pd.read_hdf(calib_out / f'results_{file_suffix}.hdf', 'spaghetti')\n",
    "targets = load_targets()\n",
    "out_req = [\"notification_log\", \"adults_prevalence_pulmonary_log\"]\n",
    "quantile_outputs = esamp.quantiles_for_results(spaghetti, QUANTILES)"
   ]
  },
  {
   "cell_type": "code",
   "execution_count": null,
   "id": "ad84adc2",
   "metadata": {},
   "outputs": [],
   "source": [
    "plot_output_ranges(quantile_outputs, targets, ['adults_prevalence_pulmonary','notification'], 2, 2010, 2025, 2013, show_legend=True)"
   ]
  },
  {
   "cell_type": "code",
   "execution_count": null,
   "id": "0c32787d",
   "metadata": {},
   "outputs": [],
   "source": [
    "plot_output_ranges(quantile_outputs, targets, ['incidence'], 1, 2010, 2035, 2040, show_title=False,show_legend=False)"
   ]
  },
  {
   "cell_type": "code",
   "execution_count": null,
   "id": "ca5d0f20",
   "metadata": {},
   "outputs": [],
   "source": [
    "epi_aspects = plot_output_ranges(quantile_outputs, targets, ['incidence', 'mortality', 'adults_prevalence_pulmonary','percentage_latent'], 2, 2010, 2025, 2040, show_title=False,show_legend=False)\n",
    "#epi_aspects.write_image(image_path / f'tb_epi_{file_suffix}.png', width=1400, height=500,scale=3)"
   ]
  },
  {
   "cell_type": "code",
   "execution_count": null,
   "id": "b51ae491",
   "metadata": {},
   "outputs": [],
   "source": [
    "detect = plot_output_ranges(quantile_outputs, targets, ['base_detection', 'diagnostic_capacity', 'final_detection', 'notif_ratio'], 2, 2010, 2025, 2040, show_title=False,show_legend=False)\n",
    "#detect.write_image(image_path / f'tb_detect_{file_suffix}.png', width=1400, height=500,scale=3)"
   ]
  },
  {
   "cell_type": "code",
   "execution_count": null,
   "id": "98987c03",
   "metadata": {},
   "outputs": [],
   "source": [
    "tot_pop = plot_output_ranges(quantile_outputs, targets, ['total_population'], 1, 2010, 2025, 2040, show_legend=True, show_title=False, legend_name=\"Population estimates\")\n",
    "tot_pop.add_trace(\n",
    "    go.Scatter(\n",
    "        x=targets[\"census_pop\"].index,\n",
    "        y=targets[\"census_pop\"],\n",
    "        mode=\"markers\",\n",
    "        marker=dict(\n",
    "            symbol=\"circle\",\n",
    "            size=4,\n",
    "            color=\"black\",\n",
    "            line=dict(width=1)  \n",
    "        ), \n",
    "        name=\"Census data\",\n",
    "    )\n",
    ")\n",
    "\n",
    "tot_pop.update_layout(\n",
    "    height=300, \n",
    "    width=550,\n",
    "    showlegend=False,\n",
    "    margin=dict(\n",
    "        l=50,   # left margin\n",
    "        r=50,   # right margin\n",
    "        t=30,   # top margin\n",
    "        b=30    # bottom margin\n",
    "    )\n",
    ")\n",
    "#tot_pop.write_image(image_path / f'total_pop_comp_{file_suffix}.png', scale=3)"
   ]
  },
  {
   "cell_type": "code",
   "execution_count": null,
   "id": "fa03799a",
   "metadata": {},
   "outputs": [],
   "source": []
  }
 ],
 "metadata": {
  "kernelspec": {
   "display_name": "tbmodel310",
   "language": "python",
   "name": "python3"
  },
  "language_info": {
   "codemirror_mode": {
    "name": "ipython",
    "version": 3
   },
   "file_extension": ".py",
   "mimetype": "text/x-python",
   "name": "python",
   "nbconvert_exporter": "python",
   "pygments_lexer": "ipython3",
   "version": "3.10.16"
  }
 },
 "nbformat": 4,
 "nbformat_minor": 5
}
