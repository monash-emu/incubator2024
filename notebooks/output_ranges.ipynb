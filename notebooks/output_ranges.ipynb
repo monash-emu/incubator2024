{
 "cells": [
  {
   "cell_type": "code",
   "execution_count": null,
   "id": "b0ee2db9",
   "metadata": {},
   "outputs": [],
   "source": [
    "import warnings\n",
    "warnings.filterwarnings(\"ignore\")\n",
    "import pandas as pd\n",
    "from tb_incubator.constants import set_project_base_path, QUANTILES, image_path, MODEL_TIMES\n",
    "from tb_incubator.calibrate import plot_output_ranges, get_quantile_outputs\n",
    "from tb_incubator.plotting import get_combined_plot\n",
    "from tb_incubator.input import load_targets\n",
    "from estival.sampling import tools as esamp\n",
    "import plotly.graph_objects as go\n",
    "\n",
    "project_paths = set_project_base_path(\"../tb_incubator/\")\n",
    "calib_out = project_paths[\"OUT_PATH\"]"
   ]
  },
  {
   "cell_type": "code",
   "execution_count": null,
   "id": "49c9e301",
   "metadata": {},
   "outputs": [],
   "source": [
    "targets = load_targets()\n",
    "out_req = [\"notification_log\", \"adults_prevalence_pulmonary_log\"]\n",
    "\n",
    "file_suffixes = [\"xpert_only_25000d10000t_01\", \"no_xpert_no_cdr_25000d10000t_01\"]\n",
    "quantile_outputs = get_quantile_outputs(file_suffixes, calib_out)"
   ]
  },
  {
   "cell_type": "code",
   "execution_count": null,
   "id": "ad84adc2",
   "metadata": {},
   "outputs": [],
   "source": [
    "epi_plots = {}\n",
    "indicators = ['notification', 'adults_prevalence_pulmonary', 'incidence', 'mortality']\n",
    "\n",
    "for indicator in indicators:\n",
    "    epi_plots[indicator] = plot_output_ranges(\n",
    "        quantile_outputs[\"xpert_only_25000d10000t_01\"], targets, \n",
    "        [f'{indicator}'], 1, 2015, 2035, 2013, show_legend=False, show_title=False\n",
    "    )"
   ]
  },
  {
   "cell_type": "code",
   "execution_count": null,
   "id": "ca5d0f20",
   "metadata": {},
   "outputs": [],
   "source": [
    "epi_aspects = plot_output_ranges(quantile_outputs[\"xpert_only_25000d10000t_01\"], targets, \n",
    "                                 ['adults_prevalence_pulmonary', 'incidence', 'mortality', 'percentage_latent'], \n",
    "                                 2, 2010, 2025, 2040, show_title=False,show_legend=False)\n",
    "#epi_aspects.write_image(image_path / f'tb_epi_{file_suffixes[0]}.png', scale=3)\n",
    "epi_aspects"
   ]
  },
  {
   "cell_type": "code",
   "execution_count": null,
   "id": "6b016705",
   "metadata": {},
   "outputs": [],
   "source": [
    "epi_aspects_hist = plot_output_ranges(quantile_outputs[\"xpert_only_25000d10000t_01\"], targets, \n",
    "                                      ['adults_prevalence_pulmonary', 'incidence', 'mortality', 'percentage_latent'], 2, MODEL_TIMES[0], MODEL_TIMES[1], 2040, show_title=False,show_legend=False, history=True, show_target_data=False)\n",
    "#epi_aspects_hist.write_image(image_path / f'tb_epi_hist_{file_suffixes[0]}.png', width=800, height=600,scale=3)"
   ]
  },
  {
   "cell_type": "code",
   "execution_count": null,
   "id": "b51ae491",
   "metadata": {},
   "outputs": [],
   "source": [
    "detect = plot_output_ranges(quantile_outputs[\"xpert_only_25000d10000t_01\"], targets, \n",
    "                            ['base_detection', 'diagnostic_capacity', 'final_detection', 'notif_ratio'], 2, 2010, 2025, 2040, show_title=False,show_legend=False)\n",
    "#detect.write_image(image_path / f'tb_detect_{file_suffixes[0]}.png', width=1400, height=500,scale=3)"
   ]
  },
  {
   "cell_type": "code",
   "execution_count": null,
   "id": "98987c03",
   "metadata": {},
   "outputs": [],
   "source": [
    "tot_pop = plot_output_ranges(quantile_outputs[\"xpert_only_25000d10000t_01\"], targets, \n",
    "                             ['total_population'], 1, 2010, 2025, 2040, show_legend=True, show_title=False, legend_name=\"Population estimates\")\n",
    "tot_pop.add_trace(\n",
    "    go.Scatter(\n",
    "        x=targets[\"census_pop\"].index,\n",
    "        y=targets[\"census_pop\"],\n",
    "        mode=\"markers\",\n",
    "        marker=dict(\n",
    "            symbol=\"circle\",\n",
    "            size=4,\n",
    "            color=\"black\",\n",
    "            line=dict(width=1)  \n",
    "        ), \n",
    "        name=\"Census data\",\n",
    "    )\n",
    ")\n",
    "\n",
    "tot_pop.update_layout(\n",
    "    height=300, \n",
    "    width=550,\n",
    "    showlegend=False,\n",
    "    margin=dict(\n",
    "        l=50,   # left margin\n",
    "        r=50,   # right margin\n",
    "        t=30,   # top margin\n",
    "        b=30    # bottom margin\n",
    "    )\n",
    ")\n",
    "#tot_pop.write_image(image_path / f'total_pop_comp_{file_suffixes[0]}.png', scale=3)"
   ]
  },
  {
   "cell_type": "code",
   "execution_count": null,
   "id": "af270d5a",
   "metadata": {},
   "outputs": [],
   "source": [
    "import plotly.graph_objects as go\n",
    "\n",
    "detect_plot = plot_output_ranges(quantile_outputs[\"xpert_only_25000d10000t_01\"], targets, ['passive_notification_raw'], 1, 2010, 2025, 2040, show_legend=True, show_title=False, colour=\"255, 127, 0\")\n",
    "notif_plot = plot_output_ranges(quantile_outputs[\"xpert_only_25000d10000t_01\"], targets, ['notification'], 1, 2010, 2025, 2040, show_legend=False, show_title=False, show_target_data=False)\n",
    "combined_fig = go.Figure()\n",
    "\n",
    "for trace in detect_plot.data:\n",
    "    combined_fig.add_trace(trace)\n",
    "\n",
    "for trace in notif_plot.data:\n",
    "    combined_fig.add_trace(trace)\n",
    "\n",
    "combined_fig.update_layout(\n",
    "    xaxis_title=\"Year\",\n",
    "    yaxis_title=\"Value\",\n",
    "    legend_title=\"Indicator\",\n",
    "    height=600,\n",
    "    showlegend=True\n",
    ")\n",
    "\n",
    "combined_fig.show()\n",
    "#combined_fig.write_image(image_path / f'tb_detect_vs_notif_{file_suffixes[0]}.png', width=1400, height=500,scale=3)"
   ]
  },
  {
   "cell_type": "code",
   "execution_count": null,
   "id": "422d09b0",
   "metadata": {},
   "outputs": [],
   "source": []
  }
 ],
 "metadata": {
  "kernelspec": {
   "display_name": "tbmodel310",
   "language": "python",
   "name": "python3"
  },
  "language_info": {
   "codemirror_mode": {
    "name": "ipython",
    "version": 3
   },
   "file_extension": ".py",
   "mimetype": "text/x-python",
   "name": "python",
   "nbconvert_exporter": "python",
   "pygments_lexer": "ipython3",
   "version": "3.10.16"
  }
 },
 "nbformat": 4,
 "nbformat_minor": 5
}
