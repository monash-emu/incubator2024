{
 "cells": [
  {
   "cell_type": "code",
   "execution_count": null,
   "id": "b0ee2db9",
   "metadata": {},
   "outputs": [],
   "source": [
    "import warnings\n",
    "warnings.filterwarnings(\"ignore\")\n",
    "import pandas as pd\n",
    "from tb_incubator.constants import set_project_base_path, MODEL_TIMES, image_path, ImplementCDR, QUANTILES\n",
    "from tb_incubator.calibrate import plot_output_ranges, get_bcm\n",
    "from tb_incubator.scenario_utils import get_quantile_outputs\n",
    "from tb_incubator.plotting import get_combined_plot\n",
    "from tb_incubator.input import load_targets\n",
    "import plotly.graph_objects as go\n",
    "import arviz as az\n",
    "import numpy as np\n",
    "from estival.sampling import tools as esamp\n",
    "project_paths = set_project_base_path(\"../tb_incubator/\")\n",
    "calib_out = project_paths[\"OUT_PATH\"]\n",
    "output_path = project_paths[\"OUTPUTS\"]"
   ]
  },
  {
   "cell_type": "code",
   "execution_count": null,
   "id": "49c9e301",
   "metadata": {},
   "outputs": [],
   "source": [
    "targets = load_targets()\n",
    "out_req = [\"notification_log\", \"adults_prevalence_pulmonary_log\"]\n",
    "file_id = \"25000d10000t_01rs\"\n",
    "file_suffix = [f'cdr_notif_{file_id}']\n",
    "\n",
    "params = {\n",
    "    \"start_population_size\": 1.0,\n",
    "    \"seed_time\": 1805.0,\n",
    "    \"seed_num\": 1.0,\n",
    "    \"seed_duration\": 1.0\n",
    "}\n",
    "\n",
    "idata_raw = az.from_netcdf(calib_out / f'calib_full_out_{file_suffix[0]}.nc')\n",
    "burnt_idata = idata_raw.sel(draw=np.s_[5000:])\n",
    "idata_extract = az.extract(burnt_idata, num_samples=1000)\n",
    "bcm = get_bcm(params, covid_effects=True, apply_diagnostic_capacity=True, xpert_improvement=True, apply_cdr=ImplementCDR.ON_NOTIFICATION)\n",
    "base_results = esamp.model_results_for_samples(idata_extract, bcm).results\n",
    "outputs = esamp.quantiles_for_results(base_results, QUANTILES)"
   ]
  },
  {
   "cell_type": "code",
   "execution_count": null,
   "id": "1940c7b8",
   "metadata": {},
   "outputs": [],
   "source": [
    "outputs.to_csv(output_path / f'results_{file_suffix[0]}_quantile_outputs.csv', index=True)\n",
    "outputs_transpose = outputs.T\n",
    "outputs_transpose.to_csv(output_path / f'results_{file_suffix[0]}_quantile_outputs_transpose.csv', index=True)"
   ]
  },
  {
   "cell_type": "code",
   "execution_count": null,
   "id": "ad84adc2",
   "metadata": {},
   "outputs": [],
   "source": [
    "epi_plots = {}\n",
    "indicators = ['notification', 'prevalence_smear_positive', 'incidence', 'mortality', 'total_population']\n",
    "\n",
    "for indicator in indicators:\n",
    "    epi_plots[indicator] = plot_output_ranges(\n",
    "        outputs, targets, \n",
    "        [f'{indicator}'], 1, 2010, 2035, 2013, show_legend=False, show_title=False, history=False\n",
    "    )"
   ]
  },
  {
   "cell_type": "code",
   "execution_count": null,
   "id": "310fc0db",
   "metadata": {},
   "outputs": [],
   "source": [
    "#prev = epi_plots['prevalence_smear_positive']\n",
    "inc_h = epi_plots['incidence']\n",
    "mort_h = epi_plots['mortality']\n",
    "\n",
    "plot_list = [inc_h, mort_h]\n",
    "\n",
    "epi_plot = get_combined_plot(plot_list=plot_list, n_cols=2, shared_xaxes=False, shared_yaxes=False, horizontal_spacing=0.1)\n",
    "\n",
    "milestone = [(1, 163), (2, 10)]\n",
    "for col, val in milestone:\n",
    "    epi_plot.add_hline(y=val, line_dash=\"dot\", row=1, col=col,               \n",
    "                   annotation_text=\"2025 milestone\", \n",
    "                   annotation_position=\"bottom left\",\n",
    "                   annotation_font_color=\"gray\")\n",
    "\n",
    "epi_plot\n",
    "\n",
    "#epi_plot.write_image(image_path / f'epi.png', scale=3)"
   ]
  },
  {
   "cell_type": "code",
   "execution_count": null,
   "id": "ad27dae8",
   "metadata": {},
   "outputs": [],
   "source": [
    "hist = plot_output_ranges(outputs, targets, ['total_population', 'adults_prevalence_pulmonary', 'incidence', 'mortality'], 2, MODEL_TIMES[0], MODEL_TIMES[1], 2040, show_legend=False, show_title=False, history=True)\n",
    "hist.write_image(image_path / f'hist.png', scale=3)"
   ]
  },
  {
   "cell_type": "code",
   "execution_count": null,
   "id": "98987c03",
   "metadata": {},
   "outputs": [],
   "source": [
    "tot_pop = plot_output_ranges(outputs, targets, \n",
    "                             ['total_population'], 1, 2009, 2025, 2040, show_legend=True, show_title=False, legend_name=\"UN World population estimates\")\n",
    "tot_pop.add_trace(\n",
    "    go.Scatter(\n",
    "        x=targets[\"census_pop\"].index,\n",
    "        y=targets[\"census_pop\"],\n",
    "        mode=\"markers\",\n",
    "        marker=dict(\n",
    "            symbol=\"circle\",\n",
    "            size=4,\n",
    "            color=\"black\",\n",
    "            line=dict(width=1)  \n",
    "        ), \n",
    "        name=\"Census data\",\n",
    "    )\n",
    ")\n",
    "\n",
    "tot_pop.update_layout(\n",
    "    height=300, \n",
    "    width=550,\n",
    "    showlegend=True,\n",
    "    margin=dict(\n",
    "        l=50,   # left margin\n",
    "        r=50,   # right margin\n",
    "        t=30,   # top margin\n",
    "        b=30    # bottom margin\n",
    "    )\n",
    ")\n",
    "#tot_pop.write_image(image_path / f'total_pop.png', scale=3)"
   ]
  },
  {
   "cell_type": "code",
   "execution_count": null,
   "id": "d982793f",
   "metadata": {},
   "outputs": [],
   "source": []
  }
 ],
 "metadata": {
  "kernelspec": {
   "display_name": "tbmodel310",
   "language": "python",
   "name": "python3"
  },
  "language_info": {
   "codemirror_mode": {
    "name": "ipython",
    "version": 3
   },
   "file_extension": ".py",
   "mimetype": "text/x-python",
   "name": "python",
   "nbconvert_exporter": "python",
   "pygments_lexer": "ipython3",
   "version": "3.10.16"
  }
 },
 "nbformat": 4,
 "nbformat_minor": 5
}
