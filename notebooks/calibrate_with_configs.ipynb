{
 "cells": [
  {
   "cell_type": "code",
   "execution_count": 1,
   "metadata": {},
   "outputs": [],
   "source": [
    "import pymc as pm\n",
    "import numpy as np\n",
    "import pandas as pd \n",
    "import multiprocessing as mp\n",
    "import platform\n",
    "if platform.system() != \"Windows\":\n",
    "    mp.set_start_method('forkserver')\n",
    "\n",
    "from tb_incubator.constants import set_project_base_path, BURN_IN\n",
    "from tb_incubator.input import load_param_info\n",
    "from tb_incubator.calibrate import get_bcm, save_priors\n",
    "from tb_incubator.utils import get_next_run_number\n",
    "\n",
    "from estival.wrappers import pymc as epm\n",
    "from estival.sampling import tools as esamp\n",
    "import arviz as az\n",
    "\n",
    "from estival.utils.sample import SampleTypes\n",
    "import nevergrad as ng\n",
    "from estival.wrappers import nevergrad as eng\n",
    "from estival.utils.parallel import map_parallel\n",
    "\n",
    "pd.options.plotting.backend = \"plotly\"  \n",
    "project_paths = set_project_base_path(\"../tb_incubator/\")\n",
    "calib_out = project_paths[\"OUT_PATH\"]"
   ]
  },
  {
   "cell_type": "code",
   "execution_count": 2,
   "metadata": {},
   "outputs": [],
   "source": [
    "xpert_configs = {\n",
    "    'no_xpert_utilisation_improvement': {\n",
    "        'xpert_improvement': False\n",
    "    },\n",
    "    'xpert_utilisation_improvement': {\n",
    "        'xpert_imprvement': True\n",
    "    }\n",
    "}\n",
    "\n",
    "params= load_param_info()[\"value\"]\n",
    "param_info = load_param_info()\n",
    "covid_effects = {\n",
    "    'detection_reduction':True\n",
    "}"
   ]
  },
  {
   "cell_type": "code",
   "execution_count": 3,
   "metadata": {},
   "outputs": [],
   "source": [
    "def calibrate_with_configs(out_path, params, xpert_configs, covid_effects, draws, tune, num_params):\n",
    "    for config_name, xpert_config in xpert_configs.items():\n",
    "        bcm = get_bcm(params, xpert_config, covid_effects=covid_effects)\n",
    "\n",
    "        run_number = get_next_run_number(out_path, num_params)\n",
    "        file_suffix = f'{config_name}_p{num_params:02d}_{run_number}'\n",
    "\n",
    "        def optimize_ng_with_idx(item):\n",
    "            idx, sample = item\n",
    "            opt = eng.optimize_model(bcm, budget=500, opt_class=ng.optimizers.TwoPointsDE, suggested = sample, num_workers=8)\n",
    "            rec= opt.minimize(500)\n",
    "            return idx, rec.value[1]\n",
    "\n",
    "        lhs_samples = bcm.sample.lhs(16, ci=0.67)\n",
    "        lhs_lle = esamp.likelihood_extras_for_samples(lhs_samples, bcm)\n",
    "        lhs_sorted = lhs_lle.sort_values(\"loglikelihood\", ascending=False)\n",
    "        opt_samples_idx = map_parallel(optimize_ng_with_idx, lhs_sorted.iterrows())\n",
    "        best_opt_samps = bcm.sample.convert(opt_samples_idx)\n",
    "        init_samps = best_opt_samps.convert(SampleTypes.LIST_OF_DICTS)[0:8]\n",
    "\n",
    "        with pm.Model() as model:\n",
    "            variables = epm.use_model(bcm)\n",
    "            idata_raw = pm.sample(step=[pm.DEMetropolisZ(variables)], draws=draws, tune=tune,cores=4,chains=8, initvals=init_samps)\n",
    "        idata_raw.to_netcdf(str(out_path / f'calib_full_out_{file_suffix}.nc'))\n",
    "        \n",
    "        burnt_idata = idata_raw.sel(draw=np.s_[12500:])\n",
    "        idata_extract = az.extract(burnt_idata, num_samples=15)\n",
    "        bcm.sample.convert(idata_extract).to_hdf5(out_path / f'calib_extract_out_{file_suffix}.h5')\n",
    "\n",
    "        spaghetti_res = esamp.model_results_for_samples(idata_extract, bcm) \n",
    "        spaghetti_res.results.to_hdf(str(out_path / f\"results_{file_suffix}.hdf\"), \"spaghetti\")\n",
    "\n",
    "        like_df = esamp.likelihood_extras_for_idata(idata_raw, bcm)\n",
    "        like_df.to_hdf(str(out_path / f'results_{file_suffix}.hdf'), 'likelihood')\n",
    "\n",
    "    return idata_raw, file_suffix"
   ]
  },
  {
   "cell_type": "code",
   "execution_count": 4,
   "metadata": {},
   "outputs": [
    {
     "name": "stderr",
     "output_type": "stream",
     "text": [
      "Multiprocess sampling (8 chains in 4 jobs)\n",
      "DEMetropolisZ: [contact_rate, rr_infection_latent, rr_infection_recovered, smear_positive_death_rate, smear_negative_death_rate, smear_positive_self_recovery, smear_negative_self_recovery, screening_scaleup_shape, screening_inflection_time, time_to_screening_end_asymp, notif_start_time, base_diagnostic_capacity, initial_notif_rate, latest_notif_rate, mid_notif_rate, incidence_props_smear_positive_among_pulmonary, genexpert_sensitivity, detection_reduction, notification_dispersion, prevalence_dispersion]\n"
     ]
    },
    {
     "data": {
      "text/html": [
       "\n",
       "<style>\n",
       "    /* Turns off some styling */\n",
       "    progress {\n",
       "        /* gets rid of default border in Firefox and Opera. */\n",
       "        border: none;\n",
       "        /* Needs to be in here for Safari polyfill so background images work as expected. */\n",
       "        background-size: auto;\n",
       "    }\n",
       "    progress:not([value]), progress:not([value])::-webkit-progress-bar {\n",
       "        background: repeating-linear-gradient(45deg, #7e7e7e, #7e7e7e 10px, #5c5c5c 10px, #5c5c5c 20px);\n",
       "    }\n",
       "    .progress-bar-interrupted, .progress-bar-interrupted::-webkit-progress-bar {\n",
       "        background: #F44336;\n",
       "    }\n",
       "</style>\n"
      ],
      "text/plain": [
       "<IPython.core.display.HTML object>"
      ]
     },
     "metadata": {},
     "output_type": "display_data"
    },
    {
     "data": {
      "text/html": [
       "\n",
       "    <div>\n",
       "      <progress value='280000' class='' max='280000' style='width:300px; height:20px; vertical-align: middle;'></progress>\n",
       "      100.00% [280000/280000 30:14&lt;00:00 Sampling 8 chains, 0 divergences]\n",
       "    </div>\n",
       "    "
      ],
      "text/plain": [
       "<IPython.core.display.HTML object>"
      ]
     },
     "metadata": {},
     "output_type": "display_data"
    },
    {
     "name": "stderr",
     "output_type": "stream",
     "text": [
      "Sampling 8 chains for 10_000 tune and 25_000 draw iterations (80_000 + 200_000 draws total) took 1815 seconds.\n",
      "The rhat statistic is larger than 1.01 for some parameters. This indicates problems during sampling. See https://arxiv.org/abs/1903.08008 for details\n",
      "Multiprocess sampling (8 chains in 4 jobs)\n",
      "DEMetropolisZ: [contact_rate, rr_infection_latent, rr_infection_recovered, smear_positive_death_rate, smear_negative_death_rate, smear_positive_self_recovery, smear_negative_self_recovery, screening_scaleup_shape, screening_inflection_time, time_to_screening_end_asymp, notif_start_time, base_diagnostic_capacity, initial_notif_rate, latest_notif_rate, mid_notif_rate, incidence_props_smear_positive_among_pulmonary, genexpert_sensitivity, detection_reduction, notification_dispersion, prevalence_dispersion]\n"
     ]
    },
    {
     "data": {
      "text/html": [
       "\n",
       "<style>\n",
       "    /* Turns off some styling */\n",
       "    progress {\n",
       "        /* gets rid of default border in Firefox and Opera. */\n",
       "        border: none;\n",
       "        /* Needs to be in here for Safari polyfill so background images work as expected. */\n",
       "        background-size: auto;\n",
       "    }\n",
       "    progress:not([value]), progress:not([value])::-webkit-progress-bar {\n",
       "        background: repeating-linear-gradient(45deg, #7e7e7e, #7e7e7e 10px, #5c5c5c 10px, #5c5c5c 20px);\n",
       "    }\n",
       "    .progress-bar-interrupted, .progress-bar-interrupted::-webkit-progress-bar {\n",
       "        background: #F44336;\n",
       "    }\n",
       "</style>\n"
      ],
      "text/plain": [
       "<IPython.core.display.HTML object>"
      ]
     },
     "metadata": {},
     "output_type": "display_data"
    },
    {
     "data": {
      "text/html": [
       "\n",
       "    <div>\n",
       "      <progress value='280000' class='' max='280000' style='width:300px; height:20px; vertical-align: middle;'></progress>\n",
       "      100.00% [280000/280000 24:35&lt;00:00 Sampling 8 chains, 0 divergences]\n",
       "    </div>\n",
       "    "
      ],
      "text/plain": [
       "<IPython.core.display.HTML object>"
      ]
     },
     "metadata": {},
     "output_type": "display_data"
    },
    {
     "name": "stderr",
     "output_type": "stream",
     "text": [
      "Sampling 8 chains for 10_000 tune and 25_000 draw iterations (80_000 + 200_000 draws total) took 1476 seconds.\n",
      "The rhat statistic is larger than 1.01 for some parameters. This indicates problems during sampling. See https://arxiv.org/abs/1903.08008 for details\n"
     ]
    }
   ],
   "source": [
    "idata, file_suffix = calibrate_with_configs(calib_out, params, xpert_configs, covid_effects, 25000, 10000, 17)"
   ]
  }
 ],
 "metadata": {
  "kernelspec": {
   "display_name": "tbmodel",
   "language": "python",
   "name": "python3"
  },
  "language_info": {
   "codemirror_mode": {
    "name": "ipython",
    "version": 3
   },
   "file_extension": ".py",
   "mimetype": "text/x-python",
   "name": "python",
   "nbconvert_exporter": "python",
   "pygments_lexer": "ipython3",
   "version": "3.8.20"
  }
 },
 "nbformat": 4,
 "nbformat_minor": 2
}
