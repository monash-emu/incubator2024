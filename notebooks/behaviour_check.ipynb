{
 "cells": [
  {
   "cell_type": "raw",
   "metadata": {},
   "source": [
    "---\n",
    "title: \"TB model: Indonesia\"\n",
    "format: \n",
    "  pdf\n",
    "execute:\n",
    "  echo: false\n",
    "  warning: false\n",
    "jupyter: python3\n",
    "bibliography: tb_refs.bib\n",
    "csl: https://www.zotero.org/styles/the-lancet\n",
    "---"
   ]
  },
  {
   "cell_type": "code",
   "execution_count": 1,
   "metadata": {},
   "outputs": [],
   "source": [
    "import pandas as pd\n",
    "import plotly.express as px\n",
    "import numpy as np\n",
    "from IPython.display import Markdown\n",
    "\n",
    "from tb_incubator.constants import set_project_base_path\n",
    "from tb_incubator.constants import compartments, latent_compartments, infectious_compartments, model_times, age_strata\n",
    "from tb_incubator.model import build_model\n",
    "from tb_incubator.utils import load_param_info\n",
    "from tb_incubator.plotting import get_plot_param_checks\n",
    "\n",
    "pd.options.plotting.backend = \"plotly\"  \n",
    "project_paths = set_project_base_path(\"../tb_incubator/\")\n"
   ]
  },
  {
   "cell_type": "code",
   "execution_count": 2,
   "metadata": {},
   "outputs": [],
   "source": [
    "param_info = load_param_info()\n",
    "params = param_info[\"value\"]\n",
    "param_label = param_info[\"descriptions\"]"
   ]
  },
  {
   "cell_type": "code",
   "execution_count": null,
   "metadata": {},
   "outputs": [],
   "source": [
    "model, desc = build_model(\n",
    "    compartments,\n",
    "    latent_compartments,\n",
    "    infectious_compartments,\n",
    "    age_strata,\n",
    "    params,\n",
    "    model_times\n",
    ")\n",
    "Markdown(desc)"
   ]
  },
  {
   "cell_type": "code",
   "execution_count": 4,
   "metadata": {},
   "outputs": [],
   "source": [
    "model.run(params)"
   ]
  },
  {
   "cell_type": "code",
   "execution_count": null,
   "metadata": {},
   "outputs": [],
   "source": [
    "outs = model.get_derived_outputs_df()\n",
    "outs[[f\"comp_size_{c}\" for c in compartments]].plot()"
   ]
  },
  {
   "cell_type": "markdown",
   "metadata": {},
   "source": [
    "## Contact rate"
   ]
  },
  {
   "cell_type": "code",
   "execution_count": null,
   "metadata": {},
   "outputs": [],
   "source": [
    "output = \"percentage_latent\"\n",
    "output_label = \"Percentage of the population latently infected\"\n",
    "param_name = \"contact_rate\"\n",
    "label = param_label[param_name]\n",
    "get_plot_param_checks(model, output, output_label, params, param_name, label, 0.5, 5.1, 0.5)"
   ]
  },
  {
   "cell_type": "code",
   "execution_count": null,
   "metadata": {},
   "outputs": [],
   "source": [
    "output = \"prevalence\"\n",
    "output_label = \"TB prevalence\"\n",
    "param_name = \"contact_rate\"\n",
    "label = param_label[param_name]\n",
    "get_plot_param_checks(model, output, output_label, params, param_name, label, 0.2, 2, 0.1)"
   ]
  },
  {
   "cell_type": "code",
   "execution_count": null,
   "metadata": {},
   "outputs": [],
   "source": [
    "output = \"comp_size_infectious\"\n",
    "output_label = \"Compartment size of infectious individuals\"\n",
    "param_name = \"contact_rate\"\n",
    "label = param_label[param_name]\n",
    "get_plot_param_checks(model, output, output_label, params, param_name, label, 0.2, 2, 0.1)"
   ]
  },
  {
   "cell_type": "code",
   "execution_count": null,
   "metadata": {},
   "outputs": [],
   "source": [
    "output = \"comp_size_recovered\"\n",
    "output_label = \"Compartment size of recovered individuals\"\n",
    "param_name = \"contact_rate\"\n",
    "label = param_label[param_name]\n",
    "get_plot_param_checks(model, output, output_label, params, param_name, label, 0.2, 2, 0.1)"
   ]
  },
  {
   "cell_type": "markdown",
   "metadata": {},
   "source": [
    "## Recovery rate"
   ]
  },
  {
   "cell_type": "code",
   "execution_count": null,
   "metadata": {},
   "outputs": [],
   "source": [
    "output = \"percentage_latent\"\n",
    "output_label = \"Percentage of the population latently infected\"\n",
    "param_name = \"self_recovery_rate\"\n",
    "label = param_label[param_name]\n",
    "get_plot_param_checks(model, output, output_label, params, param_name, label, 0.05, 0.3, 0.05)"
   ]
  },
  {
   "cell_type": "code",
   "execution_count": null,
   "metadata": {},
   "outputs": [],
   "source": [
    "output = \"prevalence\"\n",
    "output_label = \"TB prevalence\"\n",
    "param_name = \"self_recovery_rate\"\n",
    "label = param_label[param_name]\n",
    "get_plot_param_checks(model, output, output_label, params, param_name, label, 0.05, 0.3, 0.05)"
   ]
  },
  {
   "cell_type": "code",
   "execution_count": null,
   "metadata": {},
   "outputs": [],
   "source": [
    "output = \"comp_size_infectious\"\n",
    "output_label = \"Compartment size of infectious individuals\"\n",
    "param_name = \"self_recovery_rate\"\n",
    "label = param_label[param_name]\n",
    "get_plot_param_checks(model, output, output_label, params, param_name, label, 0.05, 0.3, 0.05)"
   ]
  },
  {
   "cell_type": "code",
   "execution_count": null,
   "metadata": {},
   "outputs": [],
   "source": [
    "output = \"comp_size_recovered\"\n",
    "output_label = \"Compartment size of recovered individuals\"\n",
    "param_name = \"self_recovery_rate\"\n",
    "label = param_label[param_name]\n",
    "get_plot_param_checks(model, output, output_label, params, param_name, label, 0.05, 0.3, 0.05)"
   ]
  },
  {
   "cell_type": "markdown",
   "metadata": {},
   "source": [
    "## Relative risk of reinfection while latently infected "
   ]
  },
  {
   "cell_type": "code",
   "execution_count": null,
   "metadata": {},
   "outputs": [],
   "source": [
    "output = \"percentage_latent\"\n",
    "output_label = \"Percentage of the population latently infected\"\n",
    "param_name = \"rr_infection_latent\"\n",
    "label = param_label[param_name]\n",
    "get_plot_param_checks(model, output, output_label, params, param_name, label, 0.2, 2, 0.1)"
   ]
  },
  {
   "cell_type": "code",
   "execution_count": null,
   "metadata": {},
   "outputs": [],
   "source": [
    "output = \"prevalence\"\n",
    "output_label = \"TB prevalence\"\n",
    "param_name = \"rr_infection_latent\"\n",
    "label = param_label[param_name]\n",
    "get_plot_param_checks(model, output, output_label, params, param_name, label, 0.2, 2, 0.1)"
   ]
  },
  {
   "cell_type": "code",
   "execution_count": null,
   "metadata": {},
   "outputs": [],
   "source": [
    "output = \"comp_size_recovered\"\n",
    "output_label = \"Compartment size of recovered individuals\"\n",
    "param_name = \"rr_infection_latent\"\n",
    "label = param_label[param_name]\n",
    "get_plot_param_checks(model, output, output_label, params, param_name, label, 0.2, 2, 0.1)"
   ]
  },
  {
   "cell_type": "markdown",
   "metadata": {},
   "source": [
    "## Rate of TB-specific mortality"
   ]
  },
  {
   "cell_type": "code",
   "execution_count": null,
   "metadata": {},
   "outputs": [],
   "source": [
    "output = \"percentage_latent\"\n",
    "output_label = \"Percentage of the population latently infected\"\n",
    "param_name = \"death_rate\"\n",
    "label = param_label[param_name]\n",
    "get_plot_param_checks(model, output, output_label, params, param_name, label, 0.02, 0.46, 0.01)"
   ]
  },
  {
   "cell_type": "code",
   "execution_count": null,
   "metadata": {},
   "outputs": [],
   "source": [
    "output = \"prevalence\"\n",
    "output_label = \"TB prevalence\"\n",
    "param_name = \"death_rate\"\n",
    "label = param_label[param_name]\n",
    "get_plot_param_checks(model, output, output_label, params, param_name, label, 0.02, 0.46, 0.01)"
   ]
  },
  {
   "cell_type": "code",
   "execution_count": null,
   "metadata": {},
   "outputs": [],
   "source": [
    "output = \"comp_size_recovered\"\n",
    "output_label = \"Compartment size of recovered individuals\"\n",
    "param_name = \"death_rate\"\n",
    "label = param_label[param_name]\n",
    "get_plot_param_checks(model, output, output_label, params, param_name, label, 0.02, 0.46, 0.01)"
   ]
  },
  {
   "cell_type": "markdown",
   "metadata": {},
   "source": []
  }
 ],
 "metadata": {
  "kernelspec": {
   "display_name": "tbmodel",
   "language": "python",
   "name": "python3"
  },
  "language_info": {
   "codemirror_mode": {
    "name": "ipython",
    "version": 3
   },
   "file_extension": ".py",
   "mimetype": "text/x-python",
   "name": "python",
   "nbconvert_exporter": "python",
   "pygments_lexer": "ipython3",
   "version": "3.10.14"
  }
 },
 "nbformat": 4,
 "nbformat_minor": 2
}
