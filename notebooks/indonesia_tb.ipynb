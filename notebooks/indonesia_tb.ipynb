{
 "cells": [
  {
   "cell_type": "raw",
   "id": "0",
   "metadata": {
    "vscode": {
     "languageId": "raw"
    }
   },
   "source": [
    "---\n",
    "title: \"TB model: Indonesia\"\n",
    "format: \n",
    "  html\n",
    "execute:\n",
    "  echo: false\n",
    "  warning: false\n",
    "jupyter: python3\n",
    "bibliography: ../supplementary/tb_refs.bib\n",
    "csl: https://www.zotero.org/styles/the-lancet\n",
    "---"
   ]
  },
  {
   "cell_type": "code",
   "execution_count": null,
   "id": "1",
   "metadata": {},
   "outputs": [],
   "source": [
    "import pandas as pd\n",
    "from IPython.display import Markdown\n",
    "import plotly.graph_objects as go\n",
    "\n",
    "import tb_incubator.constants as const\n",
    "from tb_incubator.constants import set_project_base_path\n",
    "from tb_incubator.model import build_model\n",
    "from tb_incubator.plotting import display_plot, plot_tracked_outputs, plot_model_vs_actual\n",
    "from tb_incubator.input import load_targets, load_param_info, load_report_section\n",
    "from tb_incubator.utils import get_param_table\n",
    "from tb_incubator.calibrate import get_all_priors\n",
    "\n",
    "import arviz as az\n",
    "az.style.use(\"arviz-doc\")\n",
    "\n",
    "pd.options.plotting.backend = \"plotly\"  \n",
    "project_paths = set_project_base_path(\"../tb_incubator/\")\n",
    "calib_out = project_paths[\"OUT_PATH\"]"
   ]
  },
  {
   "cell_type": "markdown",
   "id": "8aa59846",
   "metadata": {},
   "source": [
    "## Results\n",
    "\n",
    "- [Calibration results](calibration_results.ipynb): Comparison between parameter prior and posterior distribution\n",
    "- [Output ranges](spaghetti.ipynb): Output ranges\n",
    "- [Scenarios](scenarios.ipynb): Scenario analysis"
   ]
  },
  {
   "cell_type": "code",
   "execution_count": null,
   "id": "e5c8ac2b",
   "metadata": {},
   "outputs": [],
   "source": [
    "targets = load_targets()\n",
    "indicator_names = const.indicator_names\n",
    "compartments = const.COMPARTMENTS\n",
    "param_info = load_param_info()\n",
    "fixed_params = param_info[\"value\"]\n",
    "covid_effects = {\n",
    "    'detection_reduction':True,\n",
    "    #'post_covid_improvement': True\n",
    "}"
   ]
  },
  {
   "cell_type": "code",
   "execution_count": null,
   "id": "3a1fa526",
   "metadata": {},
   "outputs": [],
   "source": [
    "file_suffix = \"p17_39\"\n",
    "idata = az.from_netcdf(calib_out / f'calib_full_out_{file_suffix}.nc')\n",
    "likelihood_df = pd.read_hdf(calib_out / f'results_{file_suffix}.hdf', 'likelihood')\n",
    "ldf_sorted = likelihood_df.sort_values(by=\"logposterior\",ascending=False)\n",
    "map_params = idata.posterior.to_dataframe().loc[ldf_sorted.index[0]].to_dict()\n",
    "map_params_filtered = {k: v for k, v in map_params.items() \n",
    "                      if \"_dispersion\" not in k}\n",
    "fixed_params.update(map_params_filtered)"
   ]
  },
  {
   "cell_type": "code",
   "execution_count": null,
   "id": "84775818",
   "metadata": {},
   "outputs": [],
   "source": [
    "params = {}"
   ]
  },
  {
   "cell_type": "code",
   "execution_count": null,
   "id": "8e3570fb",
   "metadata": {},
   "outputs": [],
   "source": [
    "map_params_filtered"
   ]
  },
  {
   "cell_type": "markdown",
   "id": "dbc9ca35",
   "metadata": {},
   "source": [
    "## Introduction"
   ]
  },
  {
   "cell_type": "code",
   "execution_count": null,
   "id": "3a738bf8",
   "metadata": {},
   "outputs": [],
   "source": [
    "#load_report_section('reporting.yaml', 'introduction')\n",
    "#load_report_section('reporting.yaml', 'introduction2')"
   ]
  },
  {
   "cell_type": "markdown",
   "id": "afceb89d",
   "metadata": {},
   "source": [
    "## Model construction"
   ]
  },
  {
   "cell_type": "code",
   "execution_count": null,
   "id": "c4035414",
   "metadata": {},
   "outputs": [],
   "source": [
    "model, desc = build_model(fixed_params, xpert_improvement=True, covid_effects=covid_effects)\n",
    "#Markdown(desc)"
   ]
  },
  {
   "cell_type": "code",
   "execution_count": null,
   "id": "39ae96b5",
   "metadata": {},
   "outputs": [],
   "source": [
    "model.run(fixed_params | params)"
   ]
  },
  {
   "cell_type": "markdown",
   "id": "f4756445",
   "metadata": {},
   "source": [
    "## Results"
   ]
  },
  {
   "cell_type": "code",
   "execution_count": null,
   "id": "90348a9a",
   "metadata": {},
   "outputs": [],
   "source": [
    "outs = model.get_derived_outputs_df()"
   ]
  },
  {
   "cell_type": "code",
   "execution_count": null,
   "id": "dfde589f",
   "metadata": {},
   "outputs": [],
   "source": [
    "fig=plot_model_vs_actual(\n",
    "    outs, targets['notification'], \"notification\", \"Notification\", \"Modelled vs Data\", \"Actual data\"\n",
    ")\n",
    "fig.update_xaxes(range=[1980, 2035])"
   ]
  },
  {
   "cell_type": "code",
   "execution_count": null,
   "id": "465e43e5",
   "metadata": {},
   "outputs": [],
   "source": [
    "fig=plot_model_vs_actual(\n",
    "    outs, targets['adults_prevalence_pulmonary_target'], \"adults_prevalence_pulmonary\", \"adults_prevalence_pulmonary\", \"Modelled vs Data\", \"Actual data\"\n",
    ")\n",
    "fig.update_xaxes(range=[2000, 2035])"
   ]
  },
  {
   "cell_type": "code",
   "execution_count": null,
   "id": "4ea75255",
   "metadata": {},
   "outputs": [],
   "source": [
    "fig=plot_model_vs_actual(\n",
    "    outs, targets['incidence'], \"incidence\", \"incidence\", \"Modelled vs Data\", \"Actual data\"\n",
    ")\n",
    "fig.update_xaxes(range=[2000, 2035])"
   ]
  },
  {
   "cell_type": "code",
   "execution_count": null,
   "id": "77d6a535",
   "metadata": {},
   "outputs": [],
   "source": [
    "tracked_outputs = [\n",
    "    \"base_detection\",\n",
    "    \"diagnostic_improvement\",\n",
    "    \"covid_impacts\",\n",
    "    \"final_detection\",\n",
    "    \"notif_ratio\"\n",
    "]\n",
    "\n",
    "plot_tracked_outputs(outs, tracked_outputs, layout=(3,2), plot_start_date=1990)"
   ]
  },
  {
   "cell_type": "code",
   "execution_count": null,
   "id": "726a688a",
   "metadata": {},
   "outputs": [],
   "source": [
    "#load_report_section('reporting.yaml', 'result-conclusion')"
   ]
  },
  {
   "cell_type": "markdown",
   "id": "ecc98cfb",
   "metadata": {},
   "source": [
    "\\newpage\n",
    "## Supplementary"
   ]
  },
  {
   "cell_type": "code",
   "execution_count": null,
   "id": "412a74e0",
   "metadata": {},
   "outputs": [],
   "source": [
    "#| label: tbl-params\n",
    "#| tbl-cap: Model parameters\n",
    "#| tbl-cap-location: top\n",
    "\n",
    "prior_names = [p.name for p in get_all_priors()]\n",
    "fixed_param_table = get_param_table(param_info, prior_names)\n",
    "fixed_param_table\n",
    "#Markdown(fixed_param_table.to_markdown())\n"
   ]
  },
  {
   "cell_type": "code",
   "execution_count": null,
   "id": "45e8f25a",
   "metadata": {},
   "outputs": [],
   "source": []
  },
  {
   "cell_type": "code",
   "execution_count": null,
   "id": "d2720fc8",
   "metadata": {},
   "outputs": [],
   "source": []
  },
  {
   "cell_type": "markdown",
   "id": "eddbd2ef",
   "metadata": {},
   "source": [
    "\\newpage\n",
    "## References"
   ]
  },
  {
   "cell_type": "markdown",
   "id": "4c9e224c",
   "metadata": {},
   "source": []
  }
 ],
 "metadata": {
  "kernelspec": {
   "display_name": "tbmodel310",
   "language": "python",
   "name": "python3"
  },
  "language_info": {
   "codemirror_mode": {
    "name": "ipython",
    "version": 3
   },
   "file_extension": ".py",
   "mimetype": "text/x-python",
   "name": "python",
   "nbconvert_exporter": "python",
   "pygments_lexer": "ipython3",
   "version": "3.10.16"
  }
 },
 "nbformat": 4,
 "nbformat_minor": 5
}
