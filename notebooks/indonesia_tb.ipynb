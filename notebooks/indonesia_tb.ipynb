{
 "cells": [
  {
   "cell_type": "raw",
   "id": "0",
   "metadata": {},
   "source": [
    "---\n",
    "title: \"TB model: Indonesia\"\n",
    "format: \n",
    "  pdf\n",
    "execute:\n",
    "  echo: false\n",
    "  warning: false\n",
    "jupyter: python3\n",
    "bibliography: tb_refs.bib\n",
    "csl: https://www.zotero.org/styles/the-lancet\n",
    "---"
   ]
  },
  {
   "cell_type": "code",
   "execution_count": 1,
   "id": "1",
   "metadata": {},
   "outputs": [],
   "source": [
    "import pandas as pd\n",
    "from IPython.display import Markdown\n",
    "\n",
    "import tb_incubator.constants as const\n",
    "from tb_incubator.constants import set_project_base_path\n",
    "from tb_incubator.model import build_model\n",
    "from tb_incubator.plotting import set_plot_label, display_plot, plot_model_vs_actual\n",
    "from tb_incubator.input import load_targets, load_param_info, get_param_table\n",
    "from tb_incubator.reporting import load_report_section\n",
    "\n",
    "pd.options.plotting.backend = \"plotly\"  \n",
    "project_paths = set_project_base_path(\"../tb_incubator/\")"
   ]
  },
  {
   "cell_type": "markdown",
   "id": "dbc9ca35",
   "metadata": {},
   "source": [
    "## Introduction"
   ]
  },
  {
   "cell_type": "code",
   "execution_count": null,
   "id": "3a738bf8",
   "metadata": {},
   "outputs": [],
   "source": [
    "load_report_section('reporting.yaml', 'introduction')\n",
    "load_report_section('reporting.yaml', 'introduction2')"
   ]
  },
  {
   "cell_type": "code",
   "execution_count": 3,
   "id": "c67bda10",
   "metadata": {},
   "outputs": [],
   "source": [
    "targets = load_targets()\n",
    "indicator_names = const.indicator_names\n",
    "compartments = const.compartments"
   ]
  },
  {
   "cell_type": "code",
   "execution_count": null,
   "id": "ae71961d",
   "metadata": {},
   "outputs": [],
   "source": [
    "#| label: fig-notif\n",
    "#| fig-cap: \"Case notifications for tuberculosis in Indonesia\"\n",
    "#| fig-pos: '!tbph'\n",
    "\n",
    "notif = targets[\"notif\"]\n",
    "fig = notif.plot()\n",
    "fig.update_layout(showlegend=False, xaxis_title='Time')\n",
    "set_plot_label(fig, indicator_names, \"TB case notification\")\n",
    "fig.update_layout(margin={'t':10,'l':10,'b':10,'r':10})\n",
    "fig.show(renderer=\"svg\", width=500, height=300)"
   ]
  },
  {
   "cell_type": "markdown",
   "id": "afceb89d",
   "metadata": {},
   "source": [
    "## Model construction"
   ]
  },
  {
   "cell_type": "code",
   "execution_count": 5,
   "id": "c4035414",
   "metadata": {},
   "outputs": [],
   "source": [
    "param_info = load_param_info()\n",
    "params = param_info[\"value\"]"
   ]
  },
  {
   "cell_type": "code",
   "execution_count": null,
   "id": "18d9a0cd",
   "metadata": {},
   "outputs": [],
   "source": [
    "model, desc = build_model(params)\n",
    "Markdown(desc)"
   ]
  },
  {
   "cell_type": "code",
   "execution_count": 7,
   "id": "6e80f1e3",
   "metadata": {},
   "outputs": [],
   "source": [
    "test_params = {\n",
    "\t'contact_rate': 9.623371230009333,\n",
    "\t'self_recovery_rate': 0.3285404841721671,\n",
    "\t'genexpert_sensitivity': 1.0,\n",
    "    'progression_multiplier': 1.5778946545692025,\n",
    "    'base_sensitivity': 0.3,\n",
    "    #'time_to_screening_end_asymp': 0.1,\n",
    "    #'screening_scaleup_shape': 0.05,\n",
    "    #'screening_inflection_time': 1995.3,\n",
    "    #'seed_time': 1850,\n",
    "}\n"
   ]
  },
  {
   "cell_type": "code",
   "execution_count": 8,
   "id": "39ae96b5",
   "metadata": {},
   "outputs": [],
   "source": [
    "model.run(params | test_params)"
   ]
  },
  {
   "cell_type": "markdown",
   "id": "f4756445",
   "metadata": {},
   "source": [
    "## Results"
   ]
  },
  {
   "cell_type": "code",
   "execution_count": 9,
   "id": "90348a9a",
   "metadata": {},
   "outputs": [],
   "source": [
    "outs = model.get_derived_outputs_df()"
   ]
  },
  {
   "cell_type": "code",
   "execution_count": null,
   "id": "beef9101",
   "metadata": {},
   "outputs": [],
   "source": [
    "load_report_section('reporting.yaml', 'result-compartment')"
   ]
  },
  {
   "cell_type": "code",
   "execution_count": null,
   "id": "7fe4973f",
   "metadata": {},
   "outputs": [],
   "source": [
    "#| layout-ncol: 2\n",
    "#| label: fig-compsize\n",
    "#| fig-cap: \"Base model of TB dynamics in Indonesia.\"\n",
    "#| fig-subcap: \n",
    "#|   - \"Compartment size\"\n",
    "#|   - \"Percentage of latent TB infection\"\n",
    "#| fig-pos: '!h'\n",
    "\n",
    "fig = outs[[f\"comp_size_{c}\" for c in compartments]].plot.area()\n",
    "#fig.add_scatter(x=targets[\"census_pop\"].index, y=targets[\"census_pop\"], mode=\"markers\", name=\"Census data\")\n",
    "fig.update_layout(legend=dict(\n",
    "    yanchor=\"top\",\n",
    "    y=0.99,\n",
    "    xanchor=\"left\",\n",
    "    x=0.01\n",
    "))\n",
    "set_plot_label(fig, indicator_names, \"Compartment size\")\n",
    "display_plot(fig, \"comp_size\", \"svg\")\n",
    "\n",
    "fig = outs[\"percentage_latent\"].plot()\n",
    "fig.update_layout(showlegend=False)\n",
    "set_plot_label(fig, indicator_names, \"Percentage of latent TB infection (%)\")\n",
    "display_plot(fig, \"percentage_latent\", \"svg\")"
   ]
  },
  {
   "cell_type": "code",
   "execution_count": null,
   "id": "7deb2da3",
   "metadata": {},
   "outputs": [],
   "source": [
    "load_report_section('reporting.yaml', 'result-notifprev')"
   ]
  },
  {
   "cell_type": "code",
   "execution_count": null,
   "id": "b3a30e6c",
   "metadata": {},
   "outputs": [],
   "source": [
    "#| label: fig-notifprev\n",
    "#| fig-cap: \"Comparison between model outputs and local data for calibration targets. The red dots represent the actual data from all periods, while the green dots indicate the data specifically used for calibration targets. For prevalence, all actual data is used as the calibration target.\"\n",
    "#| fig-subcap: \n",
    "#|   - \"TB notifications\"\n",
    "#|   - \"TB prevalence\"\n",
    "#| layout-ncol: 2\n",
    "#| fig-pos: '!ht'\n",
    "\n",
    "fig = plot_model_vs_actual(outs, \n",
    "                     targets[\"notif\"],\n",
    "                     \"notification\",\n",
    "                     \"Notification\",\n",
    "                     \"\",\n",
    "                     \"Actual data (All periods)\")\n",
    "#fig.add_scatter(x=targets[\"new_cases\"].index, y=targets[\"new_cases\"], mode=\"markers\", name=\"NTCP data\")\n",
    "fig.add_scatter(x=targets[\"notif2000\"].index, y=targets[\"notif2000\"], mode=\"markers\", name=\"Target data\")\n",
    "fig.update_layout(showlegend=False)\n",
    "fig.update_xaxes(range=[1978, 2023])\n",
    "display_plot(fig, \"notification\", \"svg\")\n",
    "\n",
    "fig = plot_model_vs_actual(outs, \n",
    "                     targets[\"prevalence\"],\n",
    "                     \"prevalence\",\n",
    "                     \"Prevalence\",\n",
    "                     \"\",\n",
    "                     \"Actual data\")\n",
    "fig.update_layout(showlegend=False)\n",
    "display_plot(fig, \"prevalence\", \"svg\")"
   ]
  },
  {
   "cell_type": "code",
   "execution_count": null,
   "id": "726a688a",
   "metadata": {},
   "outputs": [],
   "source": [
    "load_report_section('reporting.yaml', 'result-conclusion')"
   ]
  },
  {
   "cell_type": "code",
   "execution_count": 15,
   "id": "d7933a0c",
   "metadata": {},
   "outputs": [],
   "source": [
    "#fig = outs[[\"incidence\", \"prevalence\", \"mortality\"]].plot()\n",
    "#set_plot_label(fig, indicator_names, \"value\")\n",
    "#display_plot(fig, \"inc_prev_mort\", \"svg\")\n",
    "#fig"
   ]
  },
  {
   "cell_type": "code",
   "execution_count": 16,
   "id": "cafcab45",
   "metadata": {},
   "outputs": [],
   "source": [
    "#actual_data = targets[\"notif\"] / targets[\"incidence_num\"] * 100\n",
    "#fig = plot_model_vs_actual(outs, \n",
    "                     #actual_data,\n",
    "                     #\"notification_per_incidence\",\n",
    "                     #\"Notification per incidence\",\n",
    "                     #\"\",\n",
    "                     #\"Actual data\")\n",
    "\n",
    "#display_plot(fig, \"notification_per_incidence\", \"svg\")"
   ]
  },
  {
   "cell_type": "markdown",
   "id": "ecc98cfb",
   "metadata": {},
   "source": [
    "\\newpage\n",
    "## Supplementary"
   ]
  },
  {
   "cell_type": "code",
   "execution_count": null,
   "id": "412a74e0",
   "metadata": {},
   "outputs": [],
   "source": [
    "#| label: tbl-params\n",
    "#| tbl-cap: Model parameters\n",
    "#| tbl-cap-location: top\n",
    "\n",
    "fixed_param_table = get_param_table(param_info)\n",
    "Markdown(fixed_param_table.to_markdown())\n"
   ]
  },
  {
   "cell_type": "markdown",
   "id": "eddbd2ef",
   "metadata": {},
   "source": [
    "\\newpage\n",
    "## References"
   ]
  },
  {
   "cell_type": "markdown",
   "id": "4c9e224c",
   "metadata": {},
   "source": []
  }
 ],
 "metadata": {
  "kernelspec": {
   "display_name": "Python 3 (ipykernel)",
   "language": "python",
   "name": "python3"
  },
  "language_info": {
   "codemirror_mode": {
    "name": "ipython",
    "version": 3
   },
   "file_extension": ".py",
   "mimetype": "text/x-python",
   "name": "python",
   "nbconvert_exporter": "python",
   "pygments_lexer": "ipython3",
   "version": "3.10.14"
  }
 },
 "nbformat": 4,
 "nbformat_minor": 5
}
