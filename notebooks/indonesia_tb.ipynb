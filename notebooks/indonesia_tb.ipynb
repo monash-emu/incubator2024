{
 "cells": [
  {
   "cell_type": "raw",
   "id": "0",
   "metadata": {},
   "source": [
    "---\n",
    "title: \"Renewal model fitting\"\n",
    "format: \n",
    "  pdf\n",
    "execute:\n",
    "  echo: false\n",
    "  warning: false\n",
    "jupyter: python3\n",
    "bibliography: tb_refs.bib\n",
    "csl: https://www.zotero.org/styles/the-lancet\n",
    "---"
   ]
  },
  {
   "cell_type": "code",
   "execution_count": null,
   "id": "1",
   "metadata": {},
   "outputs": [],
   "source": [
    "import pandas as pd\n",
    "from IPython.display import Markdown\n",
    "import arviz as az\n",
    "import pymc as pm\n",
    "from estival.wrappers import pymc as epm\n",
    "from estival.sampling import tools as esamp\n",
    "\n",
    "from summer2 import CompartmentalModel\n",
    "from summer2.parameters import Parameter, DerivedOutput\n",
    "from estival.model import BayesianCompartmentalModel\n",
    "import estival.priors as esp\n",
    "import estival.targets as est"
   ]
  },
  {
   "cell_type": "code",
   "execution_count": null,
   "id": "2",
   "metadata": {},
   "outputs": [],
   "source": [
    "# Base model construction\n",
    "model = CompartmentalModel(\n",
    "    times=[1850.0, 2024.0],\n",
    "    compartments=[\"susceptible\", \"early latent\", \"late latent\", \"infectious\", \"recovered\"],\n",
    "    infectious_compartments=[\"infectious\"],\n",
    ")\n",
    "model.set_initial_population({\"susceptible\": 1000.0, \"infectious\": 1.0})"
   ]
  },
  {
   "cell_type": "markdown",
   "id": "3",
   "metadata": {},
   "source": [
    "We built a model of TB transmission. [@trauer2014]"
   ]
  },
  {
   "cell_type": "code",
   "execution_count": null,
   "id": "4",
   "metadata": {},
   "outputs": [],
   "source": [
    "# Add latency structures\n",
    "latency_flows = [\n",
    "    [\"stabilisation\", \"early latent\", \"late latent\"],\n",
    "    [\"early activation\", \"early latent\", \"infectious\"],\n",
    "    [\"late activation\", \"late latent\", \"infectious\"],\n",
    "]\n",
    "for flow, source, dest in latency_flows:\n",
    "    model.add_transition_flow(flow, Parameter(f\"{flow} rate\"), source, dest)"
   ]
  },
  {
   "cell_type": "code",
   "execution_count": null,
   "id": "5",
   "metadata": {},
   "outputs": [],
   "source": [
    "# Add infection processes\n",
    "infection_origins = [\"susceptible\", \"late latent\", \"recovered\"]\n",
    "for origin in infection_origins:\n",
    "    model.add_infection_frequency_flow(f\"infection_from_{origin}\", Parameter(\"contact rate\"), origin, \"early latent\")"
   ]
  },
  {
   "cell_type": "code",
   "execution_count": null,
   "id": "6",
   "metadata": {},
   "outputs": [],
   "source": [
    "# Natural history flows\n",
    "model.add_transition_flow(\"recovery\", Parameter(\"recovery rate\"), \"infectious\", \"recovered\")\n",
    "model.add_death_flow(\"TB death\", Parameter(\"death rate\"), \"infectious\")"
   ]
  },
  {
   "cell_type": "code",
   "execution_count": null,
   "id": "7",
   "metadata": {},
   "outputs": [],
   "source": [
    "# Demographic flows\n",
    "model.add_replacement_birth_flow(\"birth\", \"susceptible\")"
   ]
  },
  {
   "cell_type": "code",
   "execution_count": null,
   "id": "8",
   "metadata": {},
   "outputs": [],
   "source": [
    "# Track relevant outputs\n",
    "for timing in [\"early\", \"late\"]:\n",
    "    model.request_output_for_flow(f\"{timing} activation\", f\"{timing} activation\", save_results=False)\n",
    "inc = model.request_function_output(\"incidence\", DerivedOutput(\"early activation\") + DerivedOutput(\"late activation\"), save_results=False)\n",
    "model.request_function_output(\"notifications\", inc * Parameter(\"case detection rate\"));"
   ]
  },
  {
   "cell_type": "code",
   "execution_count": null,
   "id": "9",
   "metadata": {},
   "outputs": [],
   "source": [
    "# Parameters\n",
    "params = {\n",
    "    \"contact rate\": 3.0,\n",
    "    \"stabilisation rate\": 1.0,\n",
    "    \"early activation rate\": 1.0,\n",
    "    \"late activation rate\": 1.0,\n",
    "    \"case detection rate\": 1.0,\n",
    "    \"recovery rate\": 1.0,\n",
    "    \"death rate\": 0.1,\n",
    "}\n",
    "param_units = {\n",
    "    \"contact rate\": \"per day\",\n",
    "    \"stabilisation rate\": \"per day\",\n",
    "    \"early activation rate\": \"per day\",\n",
    "    \"late activation rate\": \"per day\",\n",
    "    \"case detection rate\": \"\",\n",
    "    \"recovery rate\": \"per day\",\n",
    "    \"death rate\": \"per day\",\n",
    "}\n",
    "fixed_param_table = pd.DataFrame({\"values\": params, \"units\": param_units})"
   ]
  },
  {
   "cell_type": "code",
   "execution_count": null,
   "id": "10",
   "metadata": {},
   "outputs": [],
   "source": [
    "Markdown(fixed_param_table.to_markdown())"
   ]
  },
  {
   "cell_type": "code",
   "execution_count": null,
   "id": "11",
   "metadata": {},
   "outputs": [],
   "source": [
    "priors = [esp.UniformPrior(\"contact rate\", (1.0, 2.0))]\n",
    "dummy_target = pd.Series({1900.0: 50.0, 1910.0: 70.0})\n",
    "targets = [est.NormalTarget(\"notifications\", dummy_target, 20.0)]\n",
    "bcm = BayesianCompartmentalModel(model, params, priors, targets)"
   ]
  },
  {
   "cell_type": "code",
   "execution_count": null,
   "id": "12",
   "metadata": {},
   "outputs": [],
   "source": [
    "with pm.Model() as pm_model:\n",
    "    variables = epm.use_model(bcm)\n",
    "    idata = pm.sample(step=[pm.DEMetropolisZ(variables)], draws=1000, tune=1000, cores=8, chains=8, idata_kwargs={\"log_likelihood\": True})"
   ]
  },
  {
   "cell_type": "code",
   "execution_count": null,
   "id": "13",
   "metadata": {},
   "outputs": [],
   "source": [
    "like_df = esamp.likelihood_extras_for_idata(idata, bcm)\n",
    "chain, draw = like_df[\"logposterior\"].idxmax()\n",
    "calib_result = {k.name: float(idata.posterior.isel(chain=chain, draw=draw)[k.name]) for k in priors}"
   ]
  },
  {
   "cell_type": "code",
   "execution_count": null,
   "id": "14",
   "metadata": {},
   "outputs": [],
   "source": [
    "model.run(params | calib_result)"
   ]
  },
  {
   "cell_type": "code",
   "execution_count": null,
   "id": "15",
   "metadata": {},
   "outputs": [],
   "source": [
    "az.plot_trace(idata);"
   ]
  },
  {
   "cell_type": "code",
   "execution_count": null,
   "id": "16",
   "metadata": {},
   "outputs": [],
   "source": [
    "plot = model.get_derived_outputs_df().plot()\n",
    "plot.scatter(dummy_target.index, dummy_target)"
   ]
  },
  {
   "cell_type": "code",
   "execution_count": null,
   "id": "17",
   "metadata": {},
   "outputs": [],
   "source": [
    "model.get_outputs_df().plot()"
   ]
  }
 ],
 "metadata": {
  "kernelspec": {
   "display_name": "Python 3 (ipykernel)",
   "language": "python",
   "name": "python3"
  },
  "language_info": {
   "codemirror_mode": {
    "name": "ipython",
    "version": 3
   },
   "file_extension": ".py",
   "mimetype": "text/x-python",
   "name": "python",
   "nbconvert_exporter": "python",
   "pygments_lexer": "ipython3",
   "version": "3.10.13"
  }
 },
 "nbformat": 4,
 "nbformat_minor": 5
}
