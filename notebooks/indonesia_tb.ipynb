{
 "cells": [
  {
   "cell_type": "raw",
   "id": "4ece4d31-b2ec-4f2a-97ef-469ec3cea5e6",
   "metadata": {},
   "source": [
    "---\n",
    "title: \"Renewal model fitting\"\n",
    "format: \n",
    "  pdf\n",
    "execute:\n",
    "  echo: false\n",
    "  warning: false\n",
    "jupyter: python3\n",
    "csl: https://www.zotero.org/styles/the-lancet\n",
    "---"
   ]
  },
  {
   "cell_type": "code",
   "execution_count": 1,
   "id": "0",
   "metadata": {},
   "outputs": [
    {
     "name": "stderr",
     "output_type": "stream",
     "text": [
      "WARNING (pytensor.tensor.blas): Using NumPy C-API based implementation for BLAS functions.\n"
     ]
    }
   ],
   "source": [
    "import pandas as pd\n",
    "from IPython.display import Markdown\n",
    "\n",
    "from summer2 import CompartmentalModel\n",
    "from summer2.parameters import Parameter, DerivedOutput\n",
    "from estival.model import BayesianCompartmentalModel\n",
    "import estival.priors as esp\n",
    "import estival.targets as est"
   ]
  },
  {
   "cell_type": "code",
   "execution_count": 2,
   "id": "1",
   "metadata": {},
   "outputs": [],
   "source": [
    "# Base model construction\n",
    "model = CompartmentalModel(\n",
    "    times=[1850.0, 2024.0],\n",
    "    compartments=[\"susceptible\", \"early latent\", \"late latent\", \"infectious\", \"recovered\"],\n",
    "    infectious_compartments=[\"infectious\"],\n",
    ")\n",
    "model.set_initial_population({\"susceptible\": 1000.0, \"infectious\": 1.0})"
   ]
  },
  {
   "cell_type": "code",
   "execution_count": 3,
   "id": "2",
   "metadata": {},
   "outputs": [],
   "source": [
    "# Add latency structures\n",
    "latency_flows = [\n",
    "    (\"stabilisation\", \"early latent\", \"late latent\"),\n",
    "    (\"early activation\", \"early latent\", \"infectious\"),\n",
    "    (\"late activation\", \"late latent\", \"infectious\"),\n",
    "]\n",
    "for flow, source, dest in latency_flows:\n",
    "    model.add_transition_flow(flow, Parameter(f\"{flow} rate\"), source, dest)"
   ]
  },
  {
   "cell_type": "code",
   "execution_count": 4,
   "id": "3",
   "metadata": {},
   "outputs": [],
   "source": [
    "# Add infection processes\n",
    "infection_origins = [\"susceptible\", \"late latent\", \"recovered\"]\n",
    "for origin in infection_origins:\n",
    "    model.add_infection_frequency_flow(f\"infection_from_{origin}\", Parameter(\"contact rate\"), origin, \"early latent\")"
   ]
  },
  {
   "cell_type": "code",
   "execution_count": 5,
   "id": "9503a799-0922-47a1-93a2-be93bfe98d82",
   "metadata": {},
   "outputs": [],
   "source": [
    "# Natural history flows\n",
    "model.add_transition_flow(\"recovery\", Parameter(\"recovery rate\"), \"infectious\", \"recovered\")\n",
    "# model.add_death_flow(\"TB death\", Parameter(\"death rate\"), \"infectious\")"
   ]
  },
  {
   "cell_type": "code",
   "execution_count": 6,
   "id": "c6b9a5ba-f0f9-4dba-93b2-5294201a82ed",
   "metadata": {},
   "outputs": [],
   "source": [
    "# Track relevant outputs\n",
    "for timing in [\"early\", \"late\"]:\n",
    "    model.request_output_for_flow(f\"{timing} activation\", f\"{timing} activation\", save_results=False)\n",
    "inc = model.request_function_output(\"incidence\", DerivedOutput(\"early activation\") + DerivedOutput(\"late activation\"))\n",
    "model.request_function_output(\"notifications\", inc * Parameter(\"case detection rate\"));"
   ]
  },
  {
   "cell_type": "code",
   "execution_count": 7,
   "id": "4",
   "metadata": {},
   "outputs": [],
   "source": [
    "# Parameters\n",
    "params = {\n",
    "    \"contact rate\": 3.0,\n",
    "    \"stabilisation rate\": 1.0,\n",
    "    \"early activation rate\": 1.0,\n",
    "    \"late activation rate\": 1.0,\n",
    "    \"case detection rate\": 1.0,\n",
    "    \"recovery rate\": 1.0,\n",
    "    \"death rate\": 1.0,\n",
    "}\n",
    "param_units = {\n",
    "    \"contact rate\": \"per day\",\n",
    "    \"stabilisation rate\": \"per day\",\n",
    "    \"early activation rate\": \"per day\",\n",
    "    \"late activation rate\": \"per day\",\n",
    "    \"case detection rate\": \"\",\n",
    "    \"recovery rate\": \"per day\",\n",
    "    \"death rate\": \"per day\",\n",
    "}\n",
    "fixed_param_table = pd.DataFrame({\"values\": params, \"units\": param_units})"
   ]
  },
  {
   "cell_type": "code",
   "execution_count": 8,
   "id": "5ff774e9-590d-42c8-963c-eb8617161e7f",
   "metadata": {},
   "outputs": [
    {
     "data": {
      "text/markdown": [
       "|                       |   values | units   |\n",
       "|:----------------------|---------:|:--------|\n",
       "| contact rate          |        3 | per day |\n",
       "| stabilisation rate    |        1 | per day |\n",
       "| early activation rate |        1 | per day |\n",
       "| late activation rate  |        1 | per day |\n",
       "| case detection rate   |        1 |         |\n",
       "| recovery rate         |        1 | per day |\n",
       "| death rate            |        1 | per day |"
      ],
      "text/plain": [
       "<IPython.core.display.Markdown object>"
      ]
     },
     "execution_count": 8,
     "metadata": {},
     "output_type": "execute_result"
    }
   ],
   "source": [
    "Markdown(fixed_param_table.to_markdown())"
   ]
  },
  {
   "cell_type": "code",
   "execution_count": 9,
   "id": "f2f1a1b8-c9e0-4fc9-8753-e5210bb538ea",
   "metadata": {},
   "outputs": [],
   "source": [
    "model.run(params)\n",
    "priors = [esp.UniformPrior(\"contact rate\", (0.02, 0.15))]\n",
    "dummy_target = pd.Series({1900.0: 200.0, 1910.0: 210})\n",
    "targets = [est.NormalTarget(\"notifications\", dummy_target, 20.0)]\n",
    "bcm = BayesianCompartmentalModel(model, params, priors, targets)"
   ]
  },
  {
   "cell_type": "code",
   "execution_count": 12,
   "id": "782a7ec7-d673-4f5d-bc68-d88fb8c65d56",
   "metadata": {},
   "outputs": [
    {
     "data": {
      "text/plain": [
       "<matplotlib.collections.PathCollection at 0x30733fd30>"
      ]
     },
     "execution_count": 12,
     "metadata": {},
     "output_type": "execute_result"
    },
    {
     "data": {
      "image/png": "[encoded data removed]",
      "text/plain": [
       "<Figure size 640x480 with 1 Axes>"
      ]
     },
     "metadata": {},
     "output_type": "display_data"
    }
   ],
   "source": [
    "plot = model.get_derived_outputs_df().plot()\n",
    "plot.scatter(dummy_target.index, dummy_target)"
   ]
  },
  {
   "cell_type": "code",
   "execution_count": 11,
   "id": "6",
   "metadata": {},
   "outputs": [
    {
     "data": {
      "text/plain": [
       "[<TransitionFlow 'stabilisation' from early latent to late latent>,\n",
       " <TransitionFlow 'early activation' from early latent to infectious>,\n",
       " <TransitionFlow 'late activation' from late latent to infectious>,\n",
       " <InfectionFrequencyFlow 'infection_from_susceptible' from susceptible to early latent>,\n",
       " <InfectionFrequencyFlow 'infection_from_late latent' from late latent to early latent>,\n",
       " <InfectionFrequencyFlow 'infection_from_recovered' from recovered to early latent>,\n",
       " <TransitionFlow 'recovery' from infectious to recovered>]"
      ]
     },
     "execution_count": 11,
     "metadata": {},
     "output_type": "execute_result"
    }
   ],
   "source": [
    "model.flows"
   ]
  }
 ],
 "metadata": {
  "kernelspec": {
   "display_name": "Python 3 (ipykernel)",
   "language": "python",
   "name": "python3"
  },
  "language_info": {
   "codemirror_mode": {
    "name": "ipython",
    "version": 3
   },
   "file_extension": ".py",
   "mimetype": "text/x-python",
   "name": "python",
   "nbconvert_exporter": "python",
   "pygments_lexer": "ipython3",
   "version": "3.10.13"
  }
 },
 "nbformat": 4,
 "nbformat_minor": 5
}
