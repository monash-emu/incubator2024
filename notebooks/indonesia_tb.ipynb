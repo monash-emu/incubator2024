{
 "cells": [
  {
   "cell_type": "raw",
   "id": "0",
   "metadata": {},
   "source": [
    "---\n",
    "title: \"TB model: Indonesia\"\n",
    "format: \n",
    "  pdf\n",
    "execute:\n",
    "  echo: false\n",
    "  warning: false\n",
    "jupyter: python3\n",
    "bibliography: tb_refs.bib\n",
    "csl: https://www.zotero.org/styles/the-lancet\n",
    "---"
   ]
  },
  {
   "cell_type": "code",
   "execution_count": 12,
   "id": "1",
   "metadata": {},
   "outputs": [],
   "source": [
    "import pandas as pd\n",
    "import plotly.graph_objects as go\n",
    "from IPython.display import Markdown\n",
    "\n",
    "import tb_incubator.targets as targets\n",
    "from tb_incubator.constants import set_project_base_path\n",
    "from tb_incubator.constants import compartments, latent_compartments, infectious_compartments, model_times, age_strata, indicator_names\n",
    "from tb_incubator.model import build_model\n",
    "from tb_incubator.utils import load_param_info, get_param_table\n",
    "from tb_incubator.plotting import set_plot_label, display_plot\n",
    "\n",
    "pd.options.plotting.backend = \"plotly\"  \n",
    "project_paths = set_project_base_path(\"../tb_incubator/\")\n"
   ]
  },
  {
   "cell_type": "markdown",
   "id": "afceb89d",
   "metadata": {},
   "source": [
    "## Model construction"
   ]
  },
  {
   "cell_type": "code",
   "execution_count": 13,
   "id": "c4035414",
   "metadata": {},
   "outputs": [],
   "source": [
    "param_info = load_param_info()\n",
    "params = param_info[\"value\"]"
   ]
  },
  {
   "cell_type": "code",
   "execution_count": null,
   "id": "18d9a0cd",
   "metadata": {},
   "outputs": [],
   "source": [
    "model, desc = build_model(\n",
    "    compartments,\n",
    "    latent_compartments,\n",
    "    infectious_compartments,\n",
    "    age_strata,\n",
    "    params,\n",
    "    model_times\n",
    ")\n",
    "Markdown(desc)"
   ]
  },
  {
   "cell_type": "code",
   "execution_count": 15,
   "id": "39ae96b5",
   "metadata": {},
   "outputs": [],
   "source": [
    "model.run(params)"
   ]
  },
  {
   "cell_type": "markdown",
   "id": "8fbbb6ff",
   "metadata": {},
   "source": [
    "## Parameters"
   ]
  },
  {
   "cell_type": "code",
   "execution_count": null,
   "id": "25e47d0b",
   "metadata": {},
   "outputs": [],
   "source": [
    "fixed_param_table = get_param_table(param_info)\n",
    "Markdown(fixed_param_table.to_markdown())"
   ]
  },
  {
   "cell_type": "markdown",
   "id": "f4756445",
   "metadata": {},
   "source": [
    "## Results"
   ]
  },
  {
   "cell_type": "code",
   "execution_count": null,
   "id": "7fe4973f",
   "metadata": {},
   "outputs": [],
   "source": [
    "outs = model.get_derived_outputs_df()\n",
    "fig = outs[[f\"comp_size_{c}\" for c in compartments]].plot.area()\n",
    "set_plot_label(fig, indicator_names, \"Compartment size\")\n",
    "#display_plot(fig, \"comp_size\", \"svg\")\n",
    "fig"
   ]
  },
  {
   "cell_type": "code",
   "execution_count": null,
   "id": "b3a30e6c",
   "metadata": {},
   "outputs": [],
   "source": [
    "fig = outs[[\"notification\"]].plot()\n",
    "set_plot_label(fig, indicator_names, \"value\")\n",
    "display_plot(fig, \"notification\", \"svg\")"
   ]
  },
  {
   "cell_type": "code",
   "execution_count": null,
   "id": "b253f556",
   "metadata": {},
   "outputs": [],
   "source": [
    "fig = outs[\"percentage_latent\"].plot()\n",
    "set_plot_label(fig, indicator_names, \"value\")\n",
    "display_plot(fig, \"percentage_latent\", \"svg\")"
   ]
  },
  {
   "cell_type": "code",
   "execution_count": null,
   "id": "d7933a0c",
   "metadata": {},
   "outputs": [],
   "source": [
    "fig = outs[[\"incidence\", \"prevalence\", \"mortality\"]].plot()\n",
    "set_plot_label(fig, indicator_names, \"value\")\n",
    "display_plot(fig, \"inc_prev_mort\", \"svg\")"
   ]
  },
  {
   "cell_type": "code",
   "execution_count": null,
   "id": "cafcab45",
   "metadata": {},
   "outputs": [],
   "source": [
    "treatment_cov = targets.treatment_coverage\n",
    "treatment_cov = pd.Series(treatment_cov)\n",
    "fig = outs[[\"detection_rate\"]].plot()\n",
    "set_plot_label(fig, indicator_names, \"value\")\n",
    "fig.add_trace(go.Scatter(x=treatment_cov.index, y=treatment_cov, mode='markers', name='Treatment coverage'))\n",
    "display_plot(fig, \"detection_rate\", \"svg\")"
   ]
  }
 ],
 "metadata": {
  "kernelspec": {
   "display_name": "Python 3 (ipykernel)",
   "language": "python",
   "name": "python3"
  },
  "language_info": {
   "codemirror_mode": {
    "name": "ipython",
    "version": 3
   },
   "file_extension": ".py",
   "mimetype": "text/x-python",
   "name": "python",
   "nbconvert_exporter": "python",
   "pygments_lexer": "ipython3",
   "version": "3.10.14"
  }
 },
 "nbformat": 4,
 "nbformat_minor": 5
}
