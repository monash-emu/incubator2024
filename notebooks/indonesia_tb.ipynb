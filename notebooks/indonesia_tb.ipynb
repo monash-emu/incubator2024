{
 "cells": [
  {
   "cell_type": "raw",
   "id": "4ece4d31-b2ec-4f2a-97ef-469ec3cea5e6",
   "metadata": {},
   "source": [
    "---\n",
    "title: \"Renewal model fitting\"\n",
    "format: \n",
    "  pdf\n",
    "execute:\n",
    "  echo: false\n",
    "  warning: false\n",
    "jupyter: python3\n",
    "csl: https://www.zotero.org/styles/the-lancet\n",
    "---"
   ]
  },
  {
   "cell_type": "code",
   "execution_count": 1,
   "id": "0",
   "metadata": {},
   "outputs": [],
   "source": [
    "from summer2 import CompartmentalModel\n",
    "from summer2.parameters import Parameter"
   ]
  },
  {
   "cell_type": "code",
   "execution_count": 2,
   "id": "1",
   "metadata": {},
   "outputs": [],
   "source": [
    "model = CompartmentalModel(\n",
    "    times=[1850.0, 2024.0],\n",
    "    compartments=[\"susceptible\", \"early_latent\", \"late_latent\", \"infectious\", \"recovered\"],\n",
    "    infectious_compartments=[\"infectious\"],\n",
    ")\n",
    "model.set_initial_population({\"susceptible\": 1.0})"
   ]
  },
  {
   "cell_type": "code",
   "execution_count": 3,
   "id": "2",
   "metadata": {},
   "outputs": [],
   "source": [
    "latency_flows = [\n",
    "    (\"stabilisation\", \"early_latent\", \"late_latent\"),\n",
    "    (\"early_activation\", \"early_latent\", \"infectious\"),\n",
    "    (\"late_activation\", \"late_latent\", \"infectious\"),\n",
    "]\n",
    "for flow, source, dest in latency_flows:\n",
    "    model.add_transition_flow(flow, Parameter(f\"{flow}_rate\"), source, dest)"
   ]
  },
  {
   "cell_type": "code",
   "execution_count": 4,
   "id": "3",
   "metadata": {},
   "outputs": [],
   "source": [
    "infection_origins = [\"susceptible\", \"late_latent\", \"recovered\"]\n",
    "for origin in infection_origins:\n",
    "    model.add_infection_frequency_flow(f\"infection_from_{origin}\", Parameter(\"contact_rate\"), origin, \"early_latent\")"
   ]
  },
  {
   "cell_type": "code",
   "execution_count": 5,
   "id": "4",
   "metadata": {},
   "outputs": [],
   "source": [
    "params = {\n",
    "    \"contact_rate\": 1.0,\n",
    "    \"stabilisation_rate\": 1.0,\n",
    "    \"early_activation_rate\": 1.0,\n",
    "    \"late_activation_rate\": 1.0,\n",
    "}"
   ]
  },
  {
   "cell_type": "code",
   "execution_count": 10,
   "id": "8311d742-e536-4151-9674-9d8cb46a5132",
   "metadata": {},
   "outputs": [],
   "source": [
    "from IPython.display import Markdown"
   ]
  },
  {
   "cell_type": "code",
   "execution_count": 13,
   "id": "5ff774e9-590d-42c8-963c-eb8617161e7f",
   "metadata": {},
   "outputs": [
    {
     "data": {
      "text/markdown": [
       "|                       |   0 |\n",
       "|:----------------------|----:|\n",
       "| contact_rate          |   1 |\n",
       "| stabilisation_rate    |   1 |\n",
       "| early_activation_rate |   1 |\n",
       "| late_activation_rate  |   1 |"
      ],
      "text/plain": [
       "<IPython.core.display.Markdown object>"
      ]
     },
     "execution_count": 13,
     "metadata": {},
     "output_type": "execute_result"
    }
   ],
   "source": [
    "import pandas as pd\n",
    "\n",
    "Markdown(pd.Series(params).to_markdown())"
   ]
  },
  {
   "cell_type": "code",
   "execution_count": 6,
   "id": "5",
   "metadata": {},
   "outputs": [],
   "source": [
    "model.run(params)"
   ]
  },
  {
   "cell_type": "code",
   "execution_count": 14,
   "id": "6",
   "metadata": {},
   "outputs": [],
   "source": [
    "# model.flows"
   ]
  }
 ],
 "metadata": {
  "kernelspec": {
   "display_name": "Python 3 (ipykernel)",
   "language": "python",
   "name": "python3"
  },
  "language_info": {
   "codemirror_mode": {
    "name": "ipython",
    "version": 3
   },
   "file_extension": ".py",
   "mimetype": "text/x-python",
   "name": "python",
   "nbconvert_exporter": "python",
   "pygments_lexer": "ipython3",
   "version": "3.10.13"
  }
 },
 "nbformat": 4,
 "nbformat_minor": 5
}
