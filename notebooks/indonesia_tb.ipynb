{
 "cells": [
  {
   "cell_type": "raw",
   "id": "0",
   "metadata": {},
   "source": [
    "---\n",
    "title: \"TB model: Indonesia\"\n",
    "format: \n",
    "  pdf\n",
    "execute:\n",
    "  echo: false\n",
    "  warning: false\n",
    "jupyter: python3\n",
    "bibliography: tb_refs.bib\n",
    "csl: https://www.zotero.org/styles/the-lancet\n",
    "---"
   ]
  },
  {
   "cell_type": "code",
   "execution_count": 15,
   "id": "1",
   "metadata": {},
   "outputs": [],
   "source": [
    "import pandas as pd\n",
    "from IPython.display import Markdown\n",
    "\n",
    "from tb_incubator.constants import set_project_base_path\n",
    "from tb_incubator.constants import compartments, infectious_compartments, model_times, age_strata, indicator_names\n",
    "from tb_incubator.model import build_model\n",
    "from tb_incubator.plotting import set_plot_label, display_plot, plot_model_vs_actual\n",
    "from tb_incubator.input import load_targets, load_param_info, get_param_table\n",
    "\n",
    "pd.options.plotting.backend = \"plotly\"  \n",
    "project_paths = set_project_base_path(\"../tb_incubator/\")\n"
   ]
  },
  {
   "cell_type": "markdown",
   "id": "afceb89d",
   "metadata": {},
   "source": [
    "## Model construction"
   ]
  },
  {
   "cell_type": "code",
   "execution_count": 16,
   "id": "c4035414",
   "metadata": {},
   "outputs": [],
   "source": [
    "param_info = load_param_info()\n",
    "params = param_info[\"value\"]"
   ]
  },
  {
   "cell_type": "code",
   "execution_count": null,
   "id": "18d9a0cd",
   "metadata": {},
   "outputs": [],
   "source": [
    "model, desc = build_model(\n",
    "    compartments,\n",
    "    infectious_compartments,\n",
    "    age_strata,\n",
    "    params,\n",
    "    model_times\n",
    ")\n",
    "Markdown(desc)"
   ]
  },
  {
   "cell_type": "markdown",
   "id": "8fbbb6ff",
   "metadata": {},
   "source": [
    "## Parameters"
   ]
  },
  {
   "cell_type": "code",
   "execution_count": 18,
   "id": "90024370",
   "metadata": {},
   "outputs": [],
   "source": [
    "calib_params = {'contact_rate': 2.5005249495731374,\n",
    "               'screening_inflection_time': 2015.4973243240213,\n",
    "               'screening_scaleup_shape': 0.06997698059772811,\n",
    "               'self_recovery_rate': 0.12085224978486633,\n",
    "               'time_to_screening_end_asymp': 3.2205030858785073}"
   ]
  },
  {
   "cell_type": "code",
   "execution_count": 19,
   "id": "39ae96b5",
   "metadata": {},
   "outputs": [],
   "source": [
    "model.run(params | calib_params)"
   ]
  },
  {
   "cell_type": "code",
   "execution_count": null,
   "id": "e39df2bf",
   "metadata": {},
   "outputs": [],
   "source": [
    "param_text = \"The parameters used in this model are listed below. Please note that most of the values are currently arbitrary, as we have not yet performed calibration at this stage.\"\n",
    "Markdown(param_text)"
   ]
  },
  {
   "cell_type": "code",
   "execution_count": null,
   "id": "25e47d0b",
   "metadata": {},
   "outputs": [],
   "source": [
    "fixed_param_table = get_param_table(param_info)\n",
    "Markdown(fixed_param_table.to_markdown())"
   ]
  },
  {
   "cell_type": "markdown",
   "id": "f4756445",
   "metadata": {},
   "source": [
    "## Results"
   ]
  },
  {
   "cell_type": "code",
   "execution_count": 22,
   "id": "90348a9a",
   "metadata": {},
   "outputs": [],
   "source": [
    "targets = load_targets()\n",
    "outs = model.get_derived_outputs_df()"
   ]
  },
  {
   "cell_type": "markdown",
   "id": "a3af1a3f",
   "metadata": {},
   "source": [
    "### Size of each compartment"
   ]
  },
  {
   "cell_type": "code",
   "execution_count": null,
   "id": "7fe4973f",
   "metadata": {},
   "outputs": [],
   "source": [
    "fig = outs[[f\"comp_size_{c}\" for c in compartments]].plot.area()\n",
    "set_plot_label(fig, indicator_names, \"Compartment size\")\n",
    "display_plot(fig, \"comp_size\", \"svg\")\n",
    "#fig"
   ]
  },
  {
   "cell_type": "markdown",
   "id": "e4bd0672",
   "metadata": {},
   "source": [
    "### TB Notifications"
   ]
  },
  {
   "cell_type": "code",
   "execution_count": null,
   "id": "b3a30e6c",
   "metadata": {},
   "outputs": [],
   "source": [
    "fig = plot_model_vs_actual(outs, \n",
    "                     targets[\"notif\"],\n",
    "                     \"notification\",\n",
    "                     \"Notification\",\n",
    "                     \"Modelled vs Data\")\n",
    "fig.add_scatter(x=targets[\"new_cases\"].index, y=targets[\"new_cases\"], mode=\"markers\", name=\"Actual Data (NTCP)\")\n",
    "display_plot(fig, \"notification\", \"svg\")"
   ]
  },
  {
   "cell_type": "markdown",
   "id": "107facb5",
   "metadata": {},
   "source": [
    "### TB incidence, prevalence, and deaths"
   ]
  },
  {
   "cell_type": "code",
   "execution_count": null,
   "id": "d7933a0c",
   "metadata": {},
   "outputs": [],
   "source": [
    "fig = outs[[\"incidence\", \"prevalence\", \"mortality\"]].plot()\n",
    "set_plot_label(fig, indicator_names, \"value\")\n",
    "display_plot(fig, \"inc_prev_mort\", \"svg\")"
   ]
  },
  {
   "cell_type": "code",
   "execution_count": null,
   "id": "819f7a8d",
   "metadata": {},
   "outputs": [],
   "source": [
    "fig = plot_model_vs_actual(outs, \n",
    "                     targets[\"prevalence\"],\n",
    "                     \"prevalence\",\n",
    "                     \"Prevalence\",\n",
    "                     \"Modelled vs Data (WHO)\")\n",
    "\n",
    "display_plot(fig, \"prevalence\", \"svg\")"
   ]
  },
  {
   "cell_type": "markdown",
   "id": "a1c1b72f",
   "metadata": {},
   "source": [
    "### Notification per incidence"
   ]
  },
  {
   "cell_type": "code",
   "execution_count": null,
   "id": "cafcab45",
   "metadata": {},
   "outputs": [],
   "source": [
    "actual_data = targets[\"notif\"] / targets[\"incidence_num\"] * 100\n",
    "fig = plot_model_vs_actual(outs, \n",
    "                     actual_data,\n",
    "                     \"notification_per_incidence\",\n",
    "                     \"Notification per incidence\",\n",
    "                     \"Modelled vs Data (WHO)\")\n",
    "\n",
    "display_plot(fig, \"notification_per_incidence\", \"svg\")"
   ]
  },
  {
   "cell_type": "markdown",
   "id": "262efbc0",
   "metadata": {},
   "source": [
    "### Percentage of latent TB infection"
   ]
  },
  {
   "cell_type": "code",
   "execution_count": null,
   "id": "b253f556",
   "metadata": {},
   "outputs": [],
   "source": [
    "fig = outs[\"percentage_latent\"].plot()\n",
    "set_plot_label(fig, indicator_names, \"value\")\n",
    "display_plot(fig, \"percentage_latent\", \"svg\")"
   ]
  },
  {
   "cell_type": "markdown",
   "id": "eddbd2ef",
   "metadata": {},
   "source": [
    "## References"
   ]
  },
  {
   "cell_type": "markdown",
   "id": "4936ca7d",
   "metadata": {},
   "source": []
  }
 ],
 "metadata": {
  "kernelspec": {
   "display_name": "Python 3 (ipykernel)",
   "language": "python",
   "name": "python3"
  },
  "language_info": {
   "codemirror_mode": {
    "name": "ipython",
    "version": 3
   },
   "file_extension": ".py",
   "mimetype": "text/x-python",
   "name": "python",
   "nbconvert_exporter": "python",
   "pygments_lexer": "ipython3",
   "version": "3.10.14"
  }
 },
 "nbformat": 4,
 "nbformat_minor": 5
}
