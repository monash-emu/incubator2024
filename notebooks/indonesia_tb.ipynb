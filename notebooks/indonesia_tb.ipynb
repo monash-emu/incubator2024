{
 "cells": [
  {
   "cell_type": "raw",
   "metadata": {
    "vscode": {
     "languageId": "raw"
    }
   },
   "source": [
    "---\n",
    "title: \"Demographic Model - Indonesia\"\n",
    "format: \n",
    "  pdf\n",
    "execute:\n",
    "  echo: false\n",
    "  warning: false\n",
    "jupyter: python3\n",
    "bibliography: tb_refs.bib\n",
    "csl: https://www.zotero.org/styles/the-lancet\n",
    "---"
   ]
  },
  {
   "cell_type": "code",
   "execution_count": null,
   "metadata": {},
   "outputs": [],
   "source": [
    "import pandas as pd\n",
    "from IPython.display import Markdown\n",
    "from plotly import graph_objects as go\n",
    "\n",
    "from summer2 import AgeStratification\n",
    "from summer2 import CompartmentalModel\n",
    "from summer2.parameters import Parameter\n",
    "\n",
    "from tb_incubator.constants import set_project_base_path\n",
    "from tb_incubator.input import get_pop_death_data, get_death_rates, get_population_entry_rate, get_death_adjs\n",
    "from tb_incubator.model import add_latency_flow, add_infection_flow\n",
    "\n",
    "pd.options.plotting.backend = \"plotly\"\n",
    "project_paths = set_project_base_path(\"../tb_incubator/\")"
   ]
  },
  {
   "cell_type": "markdown",
   "metadata": {},
   "source": [
    "## Population data"
   ]
  },
  {
   "cell_type": "markdown",
   "metadata": {},
   "source": [
    "Estimates for the total population, deaths, and birth rate were obtained from the United Nations World Population Prospects [@unwpp2024]."
   ]
  },
  {
   "cell_type": "code",
   "execution_count": null,
   "metadata": {},
   "outputs": [],
   "source": [
    "# Load age-stratified, population and death data\n",
    "pop_death, description = get_pop_death_data()\n",
    "target_pops = pop_death.groupby(level=[0]).sum()[\"population\"]\n",
    "Markdown(description)"
   ]
  },
  {
   "cell_type": "code",
   "execution_count": null,
   "metadata": {},
   "outputs": [],
   "source": [
    "# Load death rates\n",
    "death_rates, description = get_death_rates()\n",
    "Markdown(description)"
   ]
  },
  {
   "cell_type": "markdown",
   "metadata": {},
   "source": [
    "## Model construction\n",
    "This is arbitrary, but including some epidemiological transitions in the background."
   ]
  },
  {
   "cell_type": "code",
   "execution_count": null,
   "metadata": {},
   "outputs": [],
   "source": [
    "# Arbitrary base model construction\n",
    "model_comps = [\"susceptible\", \"early latent\", \"late latent\", \"infectious\", \"recovered\"]\n",
    "model_times = [1850.0, 2024.0]\n",
    "model = CompartmentalModel(\n",
    "    times=model_times,\n",
    "    compartments=model_comps,\n",
    "    infectious_compartments=[\"infectious\"],\n",
    ")\n",
    "\n",
    "# Note that we need some population at the start to avoid dividing by zero in the force of infection calculation\n",
    "model.set_initial_population({\"susceptible\": 1.0})\n",
    "\n",
    "# TB natural history\n",
    "model.add_death_flow(\"TB death\", Parameter(\"death rate\"), \"infectious\")\n",
    "model.add_transition_flow(\"self_recovery\", Parameter(\"self recovery rate\"), \"infectious\", \"recovered\")\n",
    "\n",
    "# Demographic transitions\n",
    "model.add_universal_death_flows(\"population_death\", Parameter(\"universal death\"))  # Placeholder to overwrite later\n",
    "model.add_replacement_birth_flow(\"replacement_birth\", \"susceptible\")\n",
    "\n",
    "# Infection\n",
    "add_infection_flow(model)\n",
    "\n",
    "# Latency progression\n",
    "add_latency_flow(model);"
   ]
  },
  {
   "cell_type": "code",
   "execution_count": null,
   "metadata": {},
   "outputs": [],
   "source": [
    "# Age stratification\n",
    "agegroup_request = [[0, 4], [5, 14], [15, 34], [35, 49], [50, 100]]\n",
    "age_strata = [i[0] for i in agegroup_request]\n",
    "age_strat = AgeStratification(\"age\", age_strata, model_comps)\n",
    "death_adjs = get_death_adjs(death_rates, age_strata=age_strata)\n",
    "age_strat.set_flow_adjustments(\"population_death\", death_adjs)\n",
    "\n",
    "# Apply age stratification with age-specific death rate functions of time\n",
    "model.stratify_with(age_strat)"
   ]
  },
  {
   "cell_type": "code",
   "execution_count": null,
   "metadata": {},
   "outputs": [],
   "source": [
    "# Calculate population entry rates \n",
    "entry_rate, description = get_population_entry_rate(pop_death, 1850)\n",
    "\n",
    "# Add births as additional entry rate (split imports in case the susceptible compartments are further stratified later)\n",
    "model.add_importation_flow(\"births\", entry_rate, dest=\"susceptible\", split_imports=True, dest_strata={\"age\": \"0\"})\n",
    "Markdown(description)"
   ]
  },
  {
   "cell_type": "code",
   "execution_count": null,
   "metadata": {},
   "outputs": [],
   "source": [
    "params = {\n",
    "    \"death rate\": 0.2,\n",
    "    \"universal death\": 1.0,\n",
    "    \"stabilisation rate\": 1.0,\n",
    "    \"early activation rate\": 1.0,\n",
    "    \"late activation rate\": 1.0,\n",
    "    \"contact rate\": 0.0001,\n",
    "    \"self recovery rate\": 0.2,\n",
    "    \"rr_infection_latent\": 0.2,\n",
    "    \"rr_infection_recovered\": 0.2,\n",
    "}"
   ]
  },
  {
   "cell_type": "code",
   "execution_count": null,
   "metadata": {},
   "outputs": [],
   "source": [
    "model.run(params)\n",
    "model.get_outputs_df().plot()"
   ]
  }
 ],
 "metadata": {
  "kernelspec": {
   "display_name": "Python 3 (ipykernel)",
   "language": "python",
   "name": "python3"
  },
  "language_info": {
   "codemirror_mode": {
    "name": "ipython",
    "version": 3
   },
   "file_extension": ".py",
   "mimetype": "text/x-python",
   "name": "python",
   "nbconvert_exporter": "python",
   "pygments_lexer": "ipython3",
   "version": "3.10.13"
  }
 },
 "nbformat": 4,
 "nbformat_minor": 4
}
