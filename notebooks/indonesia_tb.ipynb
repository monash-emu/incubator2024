{
 "cells": [
  {
   "cell_type": "raw",
   "id": "0",
   "metadata": {},
   "source": [
    "---\n",
    "title: \"TB model: Indonesia\"\n",
    "format: \n",
    "  pdf\n",
    "execute:\n",
    "  echo: false\n",
    "  warning: false\n",
    "jupyter: python3\n",
    "bibliography: tb_refs.bib\n",
    "csl: https://www.zotero.org/styles/the-lancet\n",
    "---"
   ]
  },
  {
   "cell_type": "code",
   "execution_count": 1,
   "id": "1",
   "metadata": {},
   "outputs": [],
   "source": [
    "import pandas as pd\n",
    "from IPython.display import Markdown\n",
    "\n",
    "import tb_incubator.constants as const\n",
    "from tb_incubator.constants import set_project_base_path\n",
    "from tb_incubator.model import build_model\n",
    "from tb_incubator.plotting import set_plot_label, display_plot, plot_model_vs_actual\n",
    "from tb_incubator.input import load_targets, load_param_info, get_param_table\n",
    "from tb_incubator.reporting import load_report_section\n",
    "\n",
    "pd.options.plotting.backend = \"plotly\"  \n",
    "project_paths = set_project_base_path(\"../tb_incubator/\")"
   ]
  },
  {
   "cell_type": "markdown",
   "id": "dbc9ca35",
   "metadata": {},
   "source": [
    "## Introduction"
   ]
  },
  {
   "cell_type": "code",
   "execution_count": 2,
   "id": "3a738bf8",
   "metadata": {},
   "outputs": [
    {
     "data": {
      "text/markdown": [
       "Indonesia is ranked as the second highest tuberculosis (TB) burden in the world [@whotb2023]. According to the most recent Global TB Report, TB incidence in Indonesia increased by 18% in 2022 compared to 2015. TB prevalence was estimated during the 2013-2014 national TB prevalence survey. It is reported that the TB prevalence estimate was 759 (95% CI 590-961) smear-positive, bacteriologically-confirmed infections per 100,000 population in people aged over 15 years [@indoprevsurv2015]. This estimate provides additional insights regarding the underreporting of TB cases.\n",
       "\n",
       "Indonesia has committed to eliminating TB by 2030. To achieve this goal, the Ministry of Health (MoH) and the National TB Control Programme (NTCP) have developed six strategic plans for 2020–2024. Modelling can be a powerful tool to support these plans by providing epidemiological insights into TB dynamics and control, and by helping optimise strategies through projections of future trends based on current efforts [@trauer2016]. However, our preliminary survey revealed that very few TB models, particularly those for programme evaluation purposes, have been developed for Indonesia.\n",
       "\n",
       "The Epidemiological Modelling Unit at Monash University has developed software to create a TB transmission model. This tool is based on the Susceptible-Infectious-Recovered (SIR) compartmental model framework. Models for several countries have already been developed to assess the impact of interventions by local TB control programmes [@ragonnet2022, @ragonnet2019, @doan2019, @trauer2016]. \n"
      ],
      "text/plain": [
       "<IPython.core.display.Markdown object>"
      ]
     },
     "metadata": {},
     "output_type": "display_data"
    },
    {
     "data": {
      "text/markdown": [
       "@fig-notif illustrates TB case notifications in Indonesia in 2000-2022 [@whotb2023]. The notification began to rise in 2016 until 2018, followed by a slight reduction in 2019 and significant drop in 2020. The trend then starts to increase again in 2021, followed by a dramatic increase in 2022. Here we assume that the rise in TB notifications in 2016 may be attributed to improvements in the TB detection programme, alongside the implementation of active case finding (ACF) in 2018-2019 [@moh2020]. The decline in notifications in 2020 may also be related to the impact of the COVID-19 pandemic [@surendra2023]. We aim to capture these dynamics, particularly over the last decade, where improved programmatic interventions have been implemented.\n"
      ],
      "text/plain": [
       "<IPython.core.display.Markdown object>"
      ]
     },
     "metadata": {},
     "output_type": "display_data"
    }
   ],
   "source": [
    "load_report_section('reporting.yaml', 'introduction')\n",
    "load_report_section('reporting.yaml', 'introduction2')"
   ]
  },
  {
   "cell_type": "code",
   "execution_count": 3,
   "id": "c67bda10",
   "metadata": {},
   "outputs": [],
   "source": [
    "targets = load_targets()\n",
    "indicator_names = const.indicator_names\n",
    "compartments = const.compartments"
   ]
  },
  {
   "cell_type": "code",
   "execution_count": 4,
   "id": "ae71961d",
   "metadata": {},
   "outputs": [
    {
     "name": "stdout",
     "output_type": "stream",
     "text": [
      "\n"
     ]
    },
    {
     "data": {
      "image/svg+xml": [
       "<svg class=\"main-svg\" xmlns=\"http://www.w3.org/2000/svg\" xmlns:xlink=\"http://www.w3.org/1999/xlink\" width=\"500\" height=\"300\" style=\"\" viewBox=\"0 0 500 300\"><rect x=\"0\" y=\"0\" width=\"500\" height=\"300\" style=\"fill: rgb(255, 255, 255); fill-opacity: 1;\"/><defs id=\"defs-bdf8e6\"><g class=\"clips\"><clipPath id=\"clipbdf8e6xyplot\" class=\"plotclip\"><rect width=\"424\" height=\"240\"/></clipPath><clipPath class=\"axesclip\" id=\"clipbdf8e6x\"><rect x=\"66\" y=\"0\" width=\"424\" height=\"300\"/></clipPath><clipPath class=\"axesclip\" id=\"clipbdf8e6y\"><rect x=\"0\" y=\"10\" width=\"500\" height=\"240\"/></clipPath><clipPath class=\"axesclip\" id=\"clipbdf8e6xy\"><rect x=\"66\" y=\"10\" width=\"424\" height=\"240\"/></clipPath></g><g class=\"gradients\"/><g class=\"patterns\"/></defs><g class=\"bglayer\"><rect class=\"bg\" x=\"66\" y=\"10\" width=\"424\" height=\"240\" style=\"fill: rgb(229, 236, 246); fill-opacity: 1; stroke-width: 0;\"/></g><g class=\"layer-below\"><g class=\"imagelayer\"/><g class=\"shapelayer\"/></g><g class=\"cartesianlayer\"><g class=\"subplot xy\"><g class=\"layer-subplot\"><g class=\"shapelayer\"/><g class=\"imagelayer\"/></g><g class=\"minor-gridlayer\"><g class=\"x\"/><g class=\"y\"/></g><g class=\"gridlayer\"><g class=\"x\"><path class=\"xgrid crisp\" transform=\"translate(166.95,0)\" d=\"M0,10v240\" style=\"stroke: rgb(255, 255, 255); stroke-opacity: 1; stroke-width: 1px;\"/><path class=\"xgrid crisp\" transform=\"translate(267.9,0)\" d=\"M0,10v240\" style=\"stroke: rgb(255, 255, 255); stroke-opacity: 1; stroke-width: 1px;\"/><path class=\"xgrid crisp\" transform=\"translate(368.86,0)\" d=\"M0,10v240\" style=\"stroke: rgb(255, 255, 255); stroke-opacity: 1; stroke-width: 1px;\"/><path class=\"xgrid crisp\" transform=\"translate(469.81,0)\" d=\"M0,10v240\" style=\"stroke: rgb(255, 255, 255); stroke-opacity: 1; stroke-width: 1px;\"/></g><g class=\"y\"><path class=\"ygrid crisp\" transform=\"translate(0,177.04)\" d=\"M66,0h424\" style=\"stroke: rgb(255, 255, 255); stroke-opacity: 1; stroke-width: 1px;\"/><path class=\"ygrid crisp\" transform=\"translate(0,116.08)\" d=\"M66,0h424\" style=\"stroke: rgb(255, 255, 255); stroke-opacity: 1; stroke-width: 1px;\"/><path class=\"ygrid crisp\" transform=\"translate(0,55.12)\" d=\"M66,0h424\" style=\"stroke: rgb(255, 255, 255); stroke-opacity: 1; stroke-width: 1px;\"/></g></g><g class=\"zerolinelayer\"><path class=\"yzl zl crisp\" transform=\"translate(0,238)\" d=\"M66,0h424\" style=\"stroke: rgb(255, 255, 255); stroke-opacity: 1; stroke-width: 2px;\"/></g><path class=\"xlines-below\"/><path class=\"ylines-below\"/><g class=\"overlines-below\"/><g class=\"xaxislayer-below\"/><g class=\"yaxislayer-below\"/><g class=\"overaxes-below\"/><g class=\"plot\" transform=\"translate(66,10)\" clip-path=\"url(#clipbdf8e6xyplot)\"><g class=\"scatterlayer mlayer\"><g class=\"trace scatter trace657b62\" style=\"stroke-miterlimit: 2; opacity: 1;\"><g class=\"fills\"/><g class=\"errorbars\"/><g class=\"lines\"><path class=\"js-line\" d=\"M0,220.31L10.1,218.11L20.19,217.94L40.38,218.11L50.48,222.61L60.57,222.89L70.67,228L80.76,198.28L90.86,195.84L100.95,205.3L111.05,209.47L121.14,197.99L131.24,208.81L161.52,220.49L171.62,221.24L181.71,215.66L191.81,206.95L201.9,202.22L212,199.72L222.1,180.7L232.19,174.91L242.29,163.92L252.38,150.4L262.48,143.39L272.57,144.12L282.67,137.62L292.76,138.77L302.86,136.36L312.95,130.78L323.05,127.77L333.14,128.76L343.24,129.61L353.33,126.9L363.43,116.85L373.52,93.23L383.62,54.61L393.71,57.36L403.81,110.95L413.9,96.15L424,12\" style=\"vector-effect: none; fill: none; stroke: rgb(99, 110, 250); stroke-opacity: 1; stroke-width: 2px; opacity: 1;\"/></g><g class=\"points\"/><g class=\"text\"/></g></g></g><g class=\"overplot\"/><path class=\"xlines-above crisp\" d=\"M0,0\" style=\"fill: none;\"/><path class=\"ylines-above crisp\" d=\"M0,0\" style=\"fill: none;\"/><g class=\"overlines-above\"/><g class=\"xaxislayer-above\"><g class=\"xtick\"><text text-anchor=\"middle\" x=\"0\" y=\"263\" transform=\"translate(66,0)\" style=\"font-family: 'Open Sans', verdana, arial, sans-serif; font-size: 12px; fill: rgb(42, 63, 95); fill-opacity: 1; white-space: pre; opacity: 1;\">1980</text></g><g class=\"xtick\"><text text-anchor=\"middle\" x=\"0\" y=\"263\" style=\"font-family: 'Open Sans', verdana, arial, sans-serif; font-size: 12px; fill: rgb(42, 63, 95); fill-opacity: 1; white-space: pre; opacity: 1;\" transform=\"translate(166.95,0)\">1990</text></g><g class=\"xtick\"><text text-anchor=\"middle\" x=\"0\" y=\"263\" style=\"font-family: 'Open Sans', verdana, arial, sans-serif; font-size: 12px; fill: rgb(42, 63, 95); fill-opacity: 1; white-space: pre; opacity: 1;\" transform=\"translate(267.9,0)\">2000</text></g><g class=\"xtick\"><text text-anchor=\"middle\" x=\"0\" y=\"263\" style=\"font-family: 'Open Sans', verdana, arial, sans-serif; font-size: 12px; fill: rgb(42, 63, 95); fill-opacity: 1; white-space: pre; opacity: 1;\" transform=\"translate(368.86,0)\">2010</text></g><g class=\"xtick\"><text text-anchor=\"middle\" x=\"0\" y=\"263\" style=\"font-family: 'Open Sans', verdana, arial, sans-serif; font-size: 12px; fill: rgb(42, 63, 95); fill-opacity: 1; white-space: pre; opacity: 1;\" transform=\"translate(469.81,0)\">2020</text></g></g><g class=\"yaxislayer-above\"><g class=\"ytick\"><text text-anchor=\"end\" x=\"65\" y=\"4.199999999999999\" transform=\"translate(0,238)\" style=\"font-family: 'Open Sans', verdana, arial, sans-serif; font-size: 12px; fill: rgb(42, 63, 95); fill-opacity: 1; white-space: pre; opacity: 1;\">0</text></g><g class=\"ytick\"><text text-anchor=\"end\" x=\"65\" y=\"4.199999999999999\" style=\"font-family: 'Open Sans', verdana, arial, sans-serif; font-size: 12px; fill: rgb(42, 63, 95); fill-opacity: 1; white-space: pre; opacity: 1;\" transform=\"translate(0,177.04)\">200k</text></g><g class=\"ytick\"><text text-anchor=\"end\" x=\"65\" y=\"4.199999999999999\" style=\"font-family: 'Open Sans', verdana, arial, sans-serif; font-size: 12px; fill: rgb(42, 63, 95); fill-opacity: 1; white-space: pre; opacity: 1;\" transform=\"translate(0,116.08)\">400k</text></g><g class=\"ytick\"><text text-anchor=\"end\" x=\"65\" y=\"4.199999999999999\" style=\"font-family: 'Open Sans', verdana, arial, sans-serif; font-size: 12px; fill: rgb(42, 63, 95); fill-opacity: 1; white-space: pre; opacity: 1;\" transform=\"translate(0,55.12)\">600k</text></g></g><g class=\"overaxes-above\"/></g></g><g class=\"polarlayer\"/><g class=\"smithlayer\"/><g class=\"ternarylayer\"/><g class=\"geolayer\"/><g class=\"funnelarealayer\"/><g class=\"pielayer\"/><g class=\"iciclelayer\"/><g class=\"treemaplayer\"/><g class=\"sunburstlayer\"/><g class=\"glimages\"/><defs id=\"topdefs-bdf8e6\"><g class=\"clips\"/></defs><g class=\"layer-above\"><g class=\"imagelayer\"/><g class=\"shapelayer\"/></g><g class=\"infolayer\"><g class=\"g-gtitle\"/><g class=\"g-xtitle\"><text class=\"xtitle\" x=\"278\" y=\"289.8\" text-anchor=\"middle\" style=\"font-family: 'Open Sans', verdana, arial, sans-serif; font-size: 14px; fill: rgb(42, 63, 95); opacity: 1; font-weight: normal; white-space: pre;\">Time</text></g><g class=\"g-ytitle\" transform=\"translate(3.2998046875,0)\"><text class=\"ytitle\" transform=\"rotate(-90,10.700000000000003,130)\" x=\"10.700000000000003\" y=\"130\" text-anchor=\"middle\" style=\"font-family: 'Open Sans', verdana, arial, sans-serif; font-size: 14px; fill: rgb(42, 63, 95); opacity: 1; font-weight: normal; white-space: pre;\">TB case notification</text></g></g></svg>"
      ]
     },
     "metadata": {},
     "output_type": "display_data"
    }
   ],
   "source": [
    "#| label: fig-notif\n",
    "#| fig-cap: \"Case notifications for tuberculosis in Indonesia\"\n",
    "#| fig-pos: '!tbph'\n",
    "\n",
    "notif = targets[\"notif\"]\n",
    "fig = notif.plot()\n",
    "fig.update_layout(showlegend=False, xaxis_title='Time')\n",
    "set_plot_label(fig, indicator_names, \"TB case notification\")\n",
    "fig.update_layout(margin={'t':10,'l':10,'b':10,'r':10})\n",
    "fig.show(renderer=\"svg\", width=500, height=300)"
   ]
  },
  {
   "cell_type": "markdown",
   "id": "afceb89d",
   "metadata": {},
   "source": [
    "## Model construction"
   ]
  },
  {
   "cell_type": "code",
   "execution_count": 5,
   "id": "c4035414",
   "metadata": {},
   "outputs": [],
   "source": [
    "param_info = load_param_info()\n",
    "params = param_info[\"value\"]"
   ]
  },
  {
   "cell_type": "code",
   "execution_count": 6,
   "id": "18d9a0cd",
   "metadata": {},
   "outputs": [
    {
     "data": {
      "text/markdown": [
       "We used the [summer framework](https://summer2.readthedocs.io/en/latest/) to construct a compartmental model of tuberculosis (TB) dynamics. The base model consists of 6 compartments: susceptible, early latent, late latent, infectious, recovered, missed--with flows added to represent the transitions and interactions between compartments. The susceptible (S) compartment includes individuals who have never had TB and are at risk of being infected by Mycobacterium tuberculosis. Latent TB infection is modelled using two compartments: early latent (E) and late latent (L). Latently infected individuals who progress to active TB move to the infectious (I) compartment. Those who recover through self-recovery are transferred to the recovery (R) compartment. We also account for under-reporting by modelling transitions of some individuals from the infectious (I) compartment to the missed (M) compartment.\n",
       "\n",
       "Our model predicts the TB dynamics from 1820 to 2024. We mostly used estimates from previous study [@ragonnet2022] to inform TB progression and natural history of TB. We also fitted some parameters to local data on TB notifications [@whotb2023] and prevalence [@indoprevsurv2015], while considering uncertainty around TB progression parameters (see @tbl-params). Initially, we introduce a small number of population and seed infectious individuals to the model. Births are modelled using a time-variant function of the population entry rate. The entry rate was calculated by dividing the yearly population difference by the duration of the run-in period. Time-varying and age-specific non-TB-related mortality was applied to all compartments to represent deaths from non-TB causes. Estimates from the United Nations’ World Population Prospects [@unwpp2024] were used as reference data. We also assume that the population is closed, where the number of births replaces the total number of deaths each year. \n",
       "\n",
       "The detection rate refers to the progression of individuals with active TB (I) to the recovered (R) compartment, based on the assumption that detected individuals receive immediate treatment upon diagnosis, leading to their recovery. Furthermore, we implement changes in the diagnostic algorithm to model the improved diagnostic test (GeneXpert) utilisation. We assume that utilisation is proportional to the number of confirmed cases identified by GeneXpert. The calculated improvement in diagnostic sensitivity is then applied to the following year's data. On the other hand, the flow of under-reporting, or “missing” TB cases, refers to the potential sensitivity bias multiplied by the detection function.  \n",
       "\n",
       "We use estimates reported in a previous study [@ragonnet2022] for TB-specific mortality, self-recovery rate, and age-specific infectiousness to inform the TB dynamics. Reinfection was illustrated in two different ways: flows from late latent (L) to early latent compartment (E) and from individuals who have recovered from TB (R) to early latent. Both pathways can be adjusted to reflect different reinfection risks compared to infection-naïve individuals. Progression flows from latent compartments to infectious compartment are also implemented to model the progression from individuals with latent infection to active TB. We stratified the model based on 5 age groups: 0-4, 5-14, 15-34, 35-49, 50-100. Age group-specific adjustments were applied for population death flows, latency flows, and infectiousness."
      ],
      "text/plain": [
       "<IPython.core.display.Markdown object>"
      ]
     },
     "execution_count": 6,
     "metadata": {},
     "output_type": "execute_result"
    }
   ],
   "source": [
    "model, desc = build_model(params)\n",
    "Markdown(desc)"
   ]
  },
  {
   "cell_type": "code",
   "execution_count": 7,
   "id": "6e80f1e3",
   "metadata": {},
   "outputs": [],
   "source": [
    "test_params = {\n",
    "\t'contact_rate': 9.543921666073745,\n",
    "\t'self_recovery_rate': 0.29688347664390236,\n",
    "\t'screening_scaleup_shape': 0.19889392155636598,\n",
    "\t'screening_inflection_time': 2005.3016735363497,\n",
    "\t'time_to_screening_end_asymp': 0.3361714758423252,\n",
    "\t'rr_infection_latent': 0.116003030825429,\n",
    "\t'rr_infection_recovered': 0.8720080623263372,\n",
    "\t'seed_time': 1860.49881702568,\n",
    "\t'seed_duration': 19.549815951426623,\n",
    "\t'seed_rate': 70.64648160388384,\n",
    "\t'base_sensitivity': 0.2867398245514573,\n",
    "\t'genexpert_sensitivity': 0.826222381252117,\n",
    "\t'progression_multiplier': 1.436023746975478,\n",
    "}\n"
   ]
  },
  {
   "cell_type": "code",
   "execution_count": 8,
   "id": "39ae96b5",
   "metadata": {},
   "outputs": [],
   "source": [
    "model.run(params)"
   ]
  },
  {
   "cell_type": "markdown",
   "id": "f4756445",
   "metadata": {},
   "source": [
    "## Results"
   ]
  },
  {
   "cell_type": "code",
   "execution_count": 9,
   "id": "90348a9a",
   "metadata": {},
   "outputs": [],
   "source": [
    "outs = model.get_derived_outputs_df()"
   ]
  },
  {
   "cell_type": "code",
   "execution_count": 10,
   "id": "beef9101",
   "metadata": {},
   "outputs": [
    {
     "data": {
      "text/markdown": [
       "@fig-compsize illustrates the size of each compartment in our base model and percentage of latently infected individuals. The model fits with the demographic trends from the UN population estimates [@unwpp2024] and national census data [@indostatistics2020]. The model predicts that epidemics will occur between 1910 and 1920, as the number of susceptible individuals decreases, while the number of individuals in the late latent stage of TB infection increases. As the population grows exponentially, the number of susceptible individuals begins to rise again in the 1950s, with a continued increase in the late latent compartment. We also calculated the percentage of people with latent TB by dividing the sum of people in the early latent and late latent compartments by the total population.\n"
      ],
      "text/plain": [
       "<IPython.core.display.Markdown object>"
      ]
     },
     "metadata": {},
     "output_type": "display_data"
    }
   ],
   "source": [
    "load_report_section('reporting.yaml', 'result-compartment')"
   ]
  },
  {
   "cell_type": "code",
   "execution_count": 11,
   "id": "7fe4973f",
   "metadata": {},
   "outputs": [
    {
     "data": {
      "image/svg+xml": [
       "<svg xmlns=\"http://www.w3.org/2000/svg\" xmlns:xlink=\"http://www.w3.org/1999/xlink\" class=\"main-svg\" width=\"700\" height=\"500\" style=\"\" viewBox=\"0 0 700 500\"><rect x=\"0\" y=\"0\" width=\"700\" height=\"500\" style=\"fill: rgb(255, 255, 255); fill-opacity: 1;\"/><defs id=\"defs-648782\"><g class=\"clips\"><clipPath id=\"clip648782xyplot\" class=\"plotclip\"><rect width=\"540\" height=\"360\"/></clipPath><clipPath class=\"axesclip\" id=\"clip648782x\"><rect x=\"80\" y=\"0\" width=\"540\" height=\"500\"/></clipPath><clipPath class=\"axesclip\" id=\"clip648782y\"><rect x=\"0\" y=\"60\" width=\"700\" height=\"360\"/></clipPath><clipPath class=\"axesclip\" id=\"clip648782xy\"><rect x=\"80\" y=\"60\" width=\"540\" height=\"360\"/></clipPath></g><g class=\"gradients\"/><g class=\"patterns\"/></defs><g class=\"bglayer\"><rect class=\"bg\" x=\"80\" y=\"60\" width=\"540\" height=\"360\" style=\"fill: rgb(229, 236, 246); fill-opacity: 1; stroke-width: 0;\"/></g><g class=\"layer-below\"><g class=\"imagelayer\"/><g class=\"shapelayer\"/></g><g class=\"cartesianlayer\"><g class=\"subplot xy\"><g class=\"layer-subplot\"><g class=\"shapelayer\"/><g class=\"imagelayer\"/></g><g class=\"minor-gridlayer\"><g class=\"x\"/><g class=\"y\"/></g><g class=\"gridlayer\"><g class=\"x\"><path class=\"xgrid crisp\" transform=\"translate(159.41,0)\" d=\"M0,60v360\" style=\"stroke: rgb(255, 255, 255); stroke-opacity: 1; stroke-width: 1px;\"/><path class=\"xgrid crisp\" transform=\"translate(291.76,0)\" d=\"M0,60v360\" style=\"stroke: rgb(255, 255, 255); stroke-opacity: 1; stroke-width: 1px;\"/><path class=\"xgrid crisp\" transform=\"translate(424.12,0)\" d=\"M0,60v360\" style=\"stroke: rgb(255, 255, 255); stroke-opacity: 1; stroke-width: 1px;\"/><path class=\"xgrid crisp\" transform=\"translate(556.47,0)\" d=\"M0,60v360\" style=\"stroke: rgb(255, 255, 255); stroke-opacity: 1; stroke-width: 1px;\"/></g><g class=\"y\"><path class=\"ygrid crisp\" transform=\"translate(0,359.5)\" d=\"M80,0h540\" style=\"stroke: rgb(255, 255, 255); stroke-opacity: 1; stroke-width: 1px;\"/><path class=\"ygrid crisp\" transform=\"translate(0,299)\" d=\"M80,0h540\" style=\"stroke: rgb(255, 255, 255); stroke-opacity: 1; stroke-width: 1px;\"/><path class=\"ygrid crisp\" transform=\"translate(0,238.49)\" d=\"M80,0h540\" style=\"stroke: rgb(255, 255, 255); stroke-opacity: 1; stroke-width: 1px;\"/><path class=\"ygrid crisp\" transform=\"translate(0,177.99)\" d=\"M80,0h540\" style=\"stroke: rgb(255, 255, 255); stroke-opacity: 1; stroke-width: 1px;\"/><path class=\"ygrid crisp\" transform=\"translate(0,117.49000000000001)\" d=\"M80,0h540\" style=\"stroke: rgb(255, 255, 255); stroke-opacity: 1; stroke-width: 1px;\"/></g></g><g class=\"zerolinelayer\"><path class=\"yzl zl crisp\" transform=\"translate(0,420)\" d=\"M80,0h540\" style=\"stroke: rgb(255, 255, 255); stroke-opacity: 1; stroke-width: 2px;\"/></g><path class=\"xlines-below\"/><path class=\"ylines-below\"/><g class=\"overlines-below\"/><g class=\"xaxislayer-below\"/><g class=\"yaxislayer-below\"/><g class=\"overaxes-below\"/><g class=\"plot\" transform=\"translate(80,60)\" clip-path=\"url(#clip648782xyplot)\"><g class=\"scatterlayer mlayer\"><g class=\"trace scatter trace50ff61\" style=\"stroke-miterlimit: 2;\"><g class=\"fills\"><g><path class=\"js-fill\" d=\"M540,360L0,360L0,360L230.29,305.03L232.94,304.58L246.18,303.28L248.82,303.33L256.76,304.47L259.41,305.27L267.35,309.22L270,311.07L277.94,317.9L280.59,320.43L293.82,332.27L296.47,334.18L304.41,338.76L307.06,339.93L317.65,343.28L320.29,343.85L333.53,345.74L336.18,345.98L346.76,346.09L349.41,345.04L360,340.05L362.65,338.62L378.53,329.07L381.18,327.37L410.29,311.44L412.94,310.17L431.47,302.41L434.12,301.48L442.06,299.56L444.71,299.17L460.59,297.81L463.24,297.64L484.41,296.79L487.06,296.67L495,295.18L497.65,294.32L510.88,288.93L513.53,287.84L529.41,282.81L532.06,282.22L537.35,280.86L540,279.69\" style=\"fill: rgb(99, 110, 250); fill-opacity: 0.5; stroke-width: 0;\"/></g><g><path class=\"js-fill\" d=\"M0,360L230.29,304.96L232.94,304.49L246.18,303.04L248.82,303.03L256.76,303.94L259.41,304.64L267.35,308.24L270,309.97L277.94,316.49L280.59,318.96L293.82,330.86L296.47,332.83L304.41,337.62L307.06,338.86L317.65,342.43L320.29,343.04L333.53,345.07L336.18,345.33L346.76,345.48L349.41,344.44L360,339.45L362.65,338.01L378.53,328.35L381.18,326.61L410.29,310.24L412.94,308.93L431.47,300.83L434.12,299.85L442.06,297.81L444.71,297.37L457.94,295.98L460.59,295.8L481.76,294.78L484.41,294.73L492.35,294.03L495,293.36L505.59,289.69L508.24,288.51L518.82,284.44L521.47,283.67L540,278.61L540,279.69L537.35,280.86L532.06,282.22L529.41,282.81L513.53,287.84L510.88,288.93L497.65,294.32L495,295.18L487.06,296.67L484.41,296.79L463.24,297.64L460.59,297.81L444.71,299.17L442.06,299.56L434.12,301.48L431.47,302.41L412.94,310.17L410.29,311.44L381.18,327.37L378.53,329.07L362.65,338.62L360,340.05L349.41,345.04L346.76,346.09L336.18,345.98L333.53,345.74L320.29,343.85L317.65,343.28L307.06,339.93L304.41,338.76L296.47,334.18L293.82,332.27L280.59,320.43L277.94,317.9L270,311.07L267.35,309.22L259.41,305.27L256.76,304.47L248.82,303.33L246.18,303.28L232.94,304.58L230.29,305.03L0,360Z\" style=\"fill: rgb(239, 85, 59); fill-opacity: 0.5; stroke-width: 0;\"/></g></g><g class=\"errorbars\"/><g class=\"lines\"><path class=\"js-line\" d=\"M0,360L230.29,305.03L232.94,304.58L246.18,303.28L248.82,303.33L256.76,304.47L259.41,305.27L267.35,309.22L270,311.07L277.94,317.9L280.59,320.43L293.82,332.27L296.47,334.18L304.41,338.76L307.06,339.93L317.65,343.28L320.29,343.85L333.53,345.74L336.18,345.98L346.76,346.09L349.41,345.04L360,340.05L362.65,338.62L378.53,329.07L381.18,327.37L410.29,311.44L412.94,310.17L431.47,302.41L434.12,301.48L442.06,299.56L444.71,299.17L460.59,297.81L463.24,297.64L484.41,296.79L487.06,296.67L495,295.18L497.65,294.32L510.88,288.93L513.53,287.84L529.41,282.81L532.06,282.22L537.35,280.86L540,279.69\" style=\"vector-effect: none; fill: none; stroke: rgb(99, 110, 250); stroke-opacity: 1; stroke-width: 2px; opacity: 1;\"/></g><g class=\"points\"/><g class=\"text\"/></g><g class=\"trace scatter tracefd1716\" style=\"stroke-miterlimit: 2;\"><g class=\"fills\"><g><path class=\"js-fill\" d=\"M0,360L256.76,298.56L259.41,298.06L285.88,294.09L288.53,293.69L312.35,289.18L315,288.61L344.12,282.06L346.76,280.89L357.35,273.1L360,270.89L370.59,261.05L373.24,258.34L394.41,234.98L397.06,231.61L420.88,199.62L423.53,195.84L455.29,151.14L457.94,147.56L487.06,108.7L489.71,105.41L524.12,61.14L526.76,58.3L534.71,51.17L537.35,48.76L540,46.19L540,278.61L521.47,283.67L518.82,284.44L508.24,288.51L505.59,289.69L495,293.36L492.35,294.03L484.41,294.73L481.76,294.78L460.59,295.8L457.94,295.98L444.71,297.37L442.06,297.81L434.12,299.85L431.47,300.83L412.94,308.93L410.29,310.24L381.18,326.61L378.53,328.35L362.65,338.01L360,339.45L349.41,344.44L346.76,345.48L336.18,345.33L333.53,345.07L320.29,343.04L317.65,342.43L307.06,338.86L304.41,337.62L296.47,332.83L293.82,330.86L280.59,318.96L277.94,316.49L270,309.97L267.35,308.24L259.41,304.64L256.76,303.94L248.82,303.03L246.18,303.04L232.94,304.49L230.29,304.96L0,360Z\" style=\"fill: rgb(0, 204, 150); fill-opacity: 0.5; stroke-width: 0;\"/></g></g><g class=\"errorbars\"/><g class=\"lines\"><path class=\"js-line\" d=\"M0,360L230.29,304.96L232.94,304.49L246.18,303.04L248.82,303.03L256.76,303.94L259.41,304.64L267.35,308.24L270,309.97L277.94,316.49L280.59,318.96L293.82,330.86L296.47,332.83L304.41,337.62L307.06,338.86L317.65,342.43L320.29,343.04L333.53,345.07L336.18,345.33L346.76,345.48L349.41,344.44L360,339.45L362.65,338.01L378.53,328.35L381.18,326.61L410.29,310.24L412.94,308.93L431.47,300.83L434.12,299.85L442.06,297.81L444.71,297.37L457.94,295.98L460.59,295.8L481.76,294.78L484.41,294.73L492.35,294.03L495,293.36L505.59,289.69L508.24,288.51L518.82,284.44L521.47,283.67L540,278.61\" style=\"vector-effect: none; fill: none; stroke: rgb(239, 85, 59); stroke-opacity: 1; stroke-width: 2px; opacity: 1;\"/></g><g class=\"points\"/><g class=\"text\"/></g><g class=\"trace scatter traceff8540\" style=\"stroke-miterlimit: 2;\"><g class=\"fills\"><g><path class=\"js-fill\" d=\"M0,360L264.71,296.64L267.35,296.13L336.18,282.82L338.82,282.23L346.76,279.88L349.41,278.07L360,269.69L362.65,267.31L375.88,253.91L378.53,250.94L397.06,229.26L399.71,225.73L423.53,192.5L426.18,188.6L450,154.18L452.65,150.55L481.76,111.71L484.41,108.69L500.29,90.58L502.94,87.27L524.12,60.76L526.76,57.94L534.71,50.86L537.35,48.47L540,45.9L540,46.19L537.35,48.76L534.71,51.17L526.76,58.3L524.12,61.14L489.71,105.41L487.06,108.7L457.94,147.56L455.29,151.14L423.53,195.84L420.88,199.62L397.06,231.61L394.41,234.98L373.24,258.34L370.59,261.05L360,270.89L357.35,273.1L346.76,280.89L344.12,282.06L315,288.61L312.35,289.18L288.53,293.69L285.88,294.09L259.41,298.06L256.76,298.56L0,360Z\" style=\"fill: rgb(171, 99, 250); fill-opacity: 0.5; stroke-width: 0;\"/></g></g><g class=\"errorbars\"/><g class=\"lines\"><path class=\"js-line\" d=\"M0,360L256.76,298.56L259.41,298.06L285.88,294.09L288.53,293.69L312.35,289.18L315,288.61L344.12,282.06L346.76,280.89L357.35,273.1L360,270.89L370.59,261.05L373.24,258.34L394.41,234.98L397.06,231.61L420.88,199.62L423.53,195.84L455.29,151.14L457.94,147.56L487.06,108.7L489.71,105.41L524.12,61.14L526.76,58.3L534.71,51.17L537.35,48.76L540,46.19\" style=\"vector-effect: none; fill: none; stroke: rgb(0, 204, 150); stroke-opacity: 1; stroke-width: 2px; opacity: 1;\"/></g><g class=\"points\"/><g class=\"text\"/></g><g class=\"trace scatter trace907dd9\" style=\"stroke-miterlimit: 2;\"><g class=\"fills\"><g><path class=\"js-fill\" d=\"M0,360L346.76,275.53L349.41,273.67L360,264.96L362.65,262.47L373.24,251.33L375.88,248.25L394.41,225.38L397.06,221.63L418.24,189.98L420.88,185.8L455.29,131.7L457.94,127.76L481.76,93.3L484.41,89.91L500.29,69.31L502.94,65.65L524.12,36.41L526.76,33.11L534.71,24.8L537.35,21.97L540,19.01L540,45.9L537.35,48.47L534.71,50.86L526.76,57.94L524.12,60.76L502.94,87.27L500.29,90.58L484.41,108.69L481.76,111.71L452.65,150.55L450,154.18L426.18,188.6L423.53,192.5L399.71,225.73L397.06,229.26L378.53,250.94L375.88,253.91L362.65,267.31L360,269.69L349.41,278.07L346.76,279.88L338.82,282.23L336.18,282.82L267.35,296.13L264.71,296.64L0,360Z\" style=\"fill: rgb(255, 161, 90); fill-opacity: 0.5; stroke-width: 0;\"/></g></g><g class=\"errorbars\"/><g class=\"lines\"><path class=\"js-line\" d=\"M0,360L264.71,296.64L267.35,296.13L336.18,282.82L338.82,282.23L346.76,279.88L349.41,278.07L360,269.69L362.65,267.31L375.88,253.91L378.53,250.94L397.06,229.26L399.71,225.73L423.53,192.5L426.18,188.6L450,154.18L452.65,150.55L481.76,111.71L484.41,108.69L500.29,90.58L502.94,87.27L524.12,60.76L526.76,57.94L534.71,50.86L537.35,48.47L540,45.9\" style=\"vector-effect: none; fill: none; stroke: rgb(171, 99, 250); stroke-opacity: 1; stroke-width: 2px; opacity: 1;\"/></g><g class=\"points\"/><g class=\"text\"/></g><g class=\"trace scatter tracee09b89\" style=\"stroke-miterlimit: 2;\"><g class=\"fills\"><g><path class=\"js-fill\" d=\"M0,360L346.76,275.53L349.41,273.67L360,264.96L362.65,262.47L373.24,251.33L375.88,248.25L394.41,225.38L397.06,221.63L418.24,189.98L420.88,185.8L455.29,131.69L457.94,127.74L484.41,89.15L487.06,85.62L502.94,63.5L505.59,59.72L521.47,37.82L524.12,34.6L532.06,25.97L534.71,23.54L540,18L540,19.01L537.35,21.97L534.71,24.8L526.76,33.11L524.12,36.41L502.94,65.65L500.29,69.31L484.41,89.91L481.76,93.3L457.94,127.76L455.29,131.7L420.88,185.8L418.24,189.98L397.06,221.63L394.41,225.38L375.88,248.25L373.24,251.33L362.65,262.47L360,264.96L349.41,273.67L346.76,275.53L0,360Z\" style=\"fill: rgb(25, 211, 243); fill-opacity: 0.5; stroke-width: 0;\"/></g></g><g class=\"errorbars\"/><g class=\"lines\"><path class=\"js-line\" d=\"M0,360L346.76,275.53L349.41,273.67L360,264.96L362.65,262.47L373.24,251.33L375.88,248.25L394.41,225.38L397.06,221.63L418.24,189.98L420.88,185.8L455.29,131.7L457.94,127.76L481.76,93.3L484.41,89.91L500.29,69.31L502.94,65.65L524.12,36.41L526.76,33.11L534.71,24.8L537.35,21.97L540,19.01\" style=\"vector-effect: none; fill: none; stroke: rgb(255, 161, 90); stroke-opacity: 1; stroke-width: 2px; opacity: 1;\"/></g><g class=\"points\"/><g class=\"text\"/></g><g class=\"trace scatter tracea1b2ee\" style=\"stroke-miterlimit: 2;\"><g class=\"fills\"/><g class=\"errorbars\"/><g class=\"lines\"><path class=\"js-line\" d=\"M0,360L346.76,275.53L349.41,273.67L360,264.96L362.65,262.47L373.24,251.33L375.88,248.25L394.41,225.38L397.06,221.63L418.24,189.98L420.88,185.8L455.29,131.69L457.94,127.74L484.41,89.15L487.06,85.62L502.94,63.5L505.59,59.72L521.47,37.82L524.12,34.6L532.06,25.97L534.71,23.54L540,18\" style=\"vector-effect: none; fill: none; stroke: rgb(25, 211, 243); stroke-opacity: 1; stroke-width: 2px; opacity: 1;\"/></g><g class=\"points\"/><g class=\"text\"/></g></g></g><g class=\"overplot\"/><path class=\"xlines-above crisp\" d=\"M0,0\" style=\"fill: none;\"/><path class=\"ylines-above crisp\" d=\"M0,0\" style=\"fill: none;\"/><g class=\"overlines-above\"/><g class=\"xaxislayer-above\"><g class=\"xtick\"><text text-anchor=\"middle\" x=\"0\" y=\"433\" transform=\"translate(159.41,0)\" style=\"font-family: 'Open Sans', verdana, arial, sans-serif; font-size: 12px; fill: rgb(42, 63, 95); fill-opacity: 1; white-space: pre; opacity: 1;\">1850</text></g><g class=\"xtick\"><text text-anchor=\"middle\" x=\"0\" y=\"433\" style=\"font-family: 'Open Sans', verdana, arial, sans-serif; font-size: 12px; fill: rgb(42, 63, 95); fill-opacity: 1; white-space: pre; opacity: 1;\" transform=\"translate(291.76,0)\">1900</text></g><g class=\"xtick\"><text text-anchor=\"middle\" x=\"0\" y=\"433\" style=\"font-family: 'Open Sans', verdana, arial, sans-serif; font-size: 12px; fill: rgb(42, 63, 95); fill-opacity: 1; white-space: pre; opacity: 1;\" transform=\"translate(424.12,0)\">1950</text></g><g class=\"xtick\"><text text-anchor=\"middle\" x=\"0\" y=\"433\" style=\"font-family: 'Open Sans', verdana, arial, sans-serif; font-size: 12px; fill: rgb(42, 63, 95); fill-opacity: 1; white-space: pre; opacity: 1;\" transform=\"translate(556.47,0)\">2000</text></g></g><g class=\"yaxislayer-above\"><g class=\"ytick\"><text text-anchor=\"end\" x=\"79\" y=\"4.199999999999999\" transform=\"translate(0,420)\" style=\"font-family: 'Open Sans', verdana, arial, sans-serif; font-size: 12px; fill: rgb(42, 63, 95); fill-opacity: 1; white-space: pre; opacity: 1;\">0</text></g><g class=\"ytick\"><text text-anchor=\"end\" x=\"79\" y=\"4.199999999999999\" style=\"font-family: 'Open Sans', verdana, arial, sans-serif; font-size: 12px; fill: rgb(42, 63, 95); fill-opacity: 1; white-space: pre; opacity: 1;\" transform=\"translate(0,359.5)\">50M</text></g><g class=\"ytick\"><text text-anchor=\"end\" x=\"79\" y=\"4.199999999999999\" style=\"font-family: 'Open Sans', verdana, arial, sans-serif; font-size: 12px; fill: rgb(42, 63, 95); fill-opacity: 1; white-space: pre; opacity: 1;\" transform=\"translate(0,299)\">100M</text></g><g class=\"ytick\"><text text-anchor=\"end\" x=\"79\" y=\"4.199999999999999\" style=\"font-family: 'Open Sans', verdana, arial, sans-serif; font-size: 12px; fill: rgb(42, 63, 95); fill-opacity: 1; white-space: pre; opacity: 1;\" transform=\"translate(0,238.49)\">150M</text></g><g class=\"ytick\"><text text-anchor=\"end\" x=\"79\" y=\"4.199999999999999\" style=\"font-family: 'Open Sans', verdana, arial, sans-serif; font-size: 12px; fill: rgb(42, 63, 95); fill-opacity: 1; white-space: pre; opacity: 1;\" transform=\"translate(0,177.99)\">200M</text></g><g class=\"ytick\"><text text-anchor=\"end\" x=\"79\" y=\"4.199999999999999\" style=\"font-family: 'Open Sans', verdana, arial, sans-serif; font-size: 12px; fill: rgb(42, 63, 95); fill-opacity: 1; white-space: pre; opacity: 1;\" transform=\"translate(0,117.49000000000001)\">250M</text></g></g><g class=\"overaxes-above\"/></g></g><g class=\"polarlayer\"/><g class=\"smithlayer\"/><g class=\"ternarylayer\"/><g class=\"geolayer\"/><g class=\"funnelarealayer\"/><g class=\"pielayer\"/><g class=\"iciclelayer\"/><g class=\"treemaplayer\"/><g class=\"sunburstlayer\"/><g class=\"glimages\"/><defs id=\"topdefs-648782\"><g class=\"clips\"/><clipPath id=\"legend648782\"><rect width=\"115\" height=\"143\" x=\"0\" y=\"0\"/></clipPath></defs><g class=\"layer-above\"><g class=\"imagelayer\"/><g class=\"shapelayer\"/></g><g class=\"infolayer\"><g class=\"legend\" pointer-events=\"all\" transform=\"translate(85.4,63.6)\"><rect class=\"bg\" shape-rendering=\"crispEdges\" style=\"stroke: rgb(68, 68, 68); stroke-opacity: 1; fill: rgb(255, 255, 255); fill-opacity: 1; stroke-width: 0px;\" width=\"115\" height=\"143\" x=\"0\" y=\"0\"/><g class=\"scrollbox\" transform=\"\" clip-path=\"url(#legend648782)\"><text class=\"legendtitletext\" text-anchor=\"start\" x=\"2\" y=\"18.2\" style=\"font-family: 'Open Sans', verdana, arial, sans-serif; font-size: 14px; fill: rgb(42, 63, 95); fill-opacity: 1; white-space: pre;\">variable</text><g class=\"groups\" transform=\"\"><g class=\"traces\" transform=\"translate(0,32.7)\" style=\"opacity: 1;\"><text class=\"legendtext\" text-anchor=\"start\" x=\"40\" y=\"4.680000000000001\" style=\"font-family: 'Open Sans', verdana, arial, sans-serif; font-size: 12px; fill: rgb(42, 63, 95); fill-opacity: 1; white-space: pre;\">Susceptible</text><g class=\"layers\"><g class=\"legendfill\"><path class=\"js-fill\" d=\"M5,-2h30v6h-30z\" style=\"stroke-width: 0; fill: rgb(99, 110, 250); fill-opacity: 0.5;\"/></g><g class=\"legendlines\"><path class=\"js-line\" d=\"M5,-2h30\" style=\"fill: none; stroke: rgb(99, 110, 250); stroke-opacity: 1; stroke-width: 2px;\"/></g><g class=\"legendsymbols\"><g class=\"legendpoints\"/></g></g><rect class=\"legendtoggle\" x=\"0\" y=\"-9.5\" width=\"109.234375\" height=\"19\" style=\"fill: rgb(0, 0, 0); fill-opacity: 0;\"/></g></g><g class=\"groups\" transform=\"\"><g class=\"traces\" transform=\"translate(0,51.7)\" style=\"opacity: 1;\"><text class=\"legendtext\" text-anchor=\"start\" x=\"40\" y=\"4.680000000000001\" style=\"font-family: 'Open Sans', verdana, arial, sans-serif; font-size: 12px; fill: rgb(42, 63, 95); fill-opacity: 1; white-space: pre;\">Early latent</text><g class=\"layers\"><g class=\"legendfill\"><path class=\"js-fill\" d=\"M5,-2h30v6h-30z\" style=\"stroke-width: 0; fill: rgb(239, 85, 59); fill-opacity: 0.5;\"/></g><g class=\"legendlines\"><path class=\"js-line\" d=\"M5,-2h30\" style=\"fill: none; stroke: rgb(239, 85, 59); stroke-opacity: 1; stroke-width: 2px;\"/></g><g class=\"legendsymbols\"><g class=\"legendpoints\"/></g></g><rect class=\"legendtoggle\" x=\"0\" y=\"-9.5\" width=\"109.234375\" height=\"19\" style=\"fill: rgb(0, 0, 0); fill-opacity: 0;\"/></g></g><g class=\"groups\" transform=\"\"><g class=\"traces\" transform=\"translate(0,70.7)\" style=\"opacity: 1;\"><text class=\"legendtext\" text-anchor=\"start\" x=\"40\" y=\"4.680000000000001\" style=\"font-family: 'Open Sans', verdana, arial, sans-serif; font-size: 12px; fill: rgb(42, 63, 95); fill-opacity: 1; white-space: pre;\">Late latent</text><g class=\"layers\"><g class=\"legendfill\"><path class=\"js-fill\" d=\"M5,-2h30v6h-30z\" style=\"stroke-width: 0; fill: rgb(0, 204, 150); fill-opacity: 0.5;\"/></g><g class=\"legendlines\"><path class=\"js-line\" d=\"M5,-2h30\" style=\"fill: none; stroke: rgb(0, 204, 150); stroke-opacity: 1; stroke-width: 2px;\"/></g><g class=\"legendsymbols\"><g class=\"legendpoints\"/></g></g><rect class=\"legendtoggle\" x=\"0\" y=\"-9.5\" width=\"109.234375\" height=\"19\" style=\"fill: rgb(0, 0, 0); fill-opacity: 0;\"/></g></g><g class=\"groups\" transform=\"\"><g class=\"traces\" transform=\"translate(0,89.7)\" style=\"opacity: 1;\"><text class=\"legendtext\" text-anchor=\"start\" x=\"40\" y=\"4.680000000000001\" style=\"font-family: 'Open Sans', verdana, arial, sans-serif; font-size: 12px; fill: rgb(42, 63, 95); fill-opacity: 1; white-space: pre;\">Infectious</text><g class=\"layers\"><g class=\"legendfill\"><path class=\"js-fill\" d=\"M5,-2h30v6h-30z\" style=\"stroke-width: 0; fill: rgb(171, 99, 250); fill-opacity: 0.5;\"/></g><g class=\"legendlines\"><path class=\"js-line\" d=\"M5,-2h30\" style=\"fill: none; stroke: rgb(171, 99, 250); stroke-opacity: 1; stroke-width: 2px;\"/></g><g class=\"legendsymbols\"><g class=\"legendpoints\"/></g></g><rect class=\"legendtoggle\" x=\"0\" y=\"-9.5\" width=\"109.234375\" height=\"19\" style=\"fill: rgb(0, 0, 0); fill-opacity: 0;\"/></g></g><g class=\"groups\" transform=\"\"><g class=\"traces\" transform=\"translate(0,108.7)\" style=\"opacity: 1;\"><text class=\"legendtext\" text-anchor=\"start\" x=\"40\" y=\"4.680000000000001\" style=\"font-family: 'Open Sans', verdana, arial, sans-serif; font-size: 12px; fill: rgb(42, 63, 95); fill-opacity: 1; white-space: pre;\">Recovered</text><g class=\"layers\"><g class=\"legendfill\"><path class=\"js-fill\" d=\"M5,-2h30v6h-30z\" style=\"stroke-width: 0; fill: rgb(255, 161, 90); fill-opacity: 0.5;\"/></g><g class=\"legendlines\"><path class=\"js-line\" d=\"M5,-2h30\" style=\"fill: none; stroke: rgb(255, 161, 90); stroke-opacity: 1; stroke-width: 2px;\"/></g><g class=\"legendsymbols\"><g class=\"legendpoints\"/></g></g><rect class=\"legendtoggle\" x=\"0\" y=\"-9.5\" width=\"109.234375\" height=\"19\" style=\"fill: rgb(0, 0, 0); fill-opacity: 0;\"/></g></g><g class=\"groups\" transform=\"\"><g class=\"traces\" transform=\"translate(0,127.7)\" style=\"opacity: 1;\"><text class=\"legendtext\" text-anchor=\"start\" x=\"40\" y=\"4.680000000000001\" style=\"font-family: 'Open Sans', verdana, arial, sans-serif; font-size: 12px; fill: rgb(42, 63, 95); fill-opacity: 1; white-space: pre;\">Missed</text><g class=\"layers\"><g class=\"legendfill\"><path class=\"js-fill\" d=\"M5,-2h30v6h-30z\" style=\"stroke-width: 0; fill: rgb(25, 211, 243); fill-opacity: 0.5;\"/></g><g class=\"legendlines\"><path class=\"js-line\" d=\"M5,-2h30\" style=\"fill: none; stroke: rgb(25, 211, 243); stroke-opacity: 1; stroke-width: 2px;\"/></g><g class=\"legendsymbols\"><g class=\"legendpoints\"/></g></g><rect class=\"legendtoggle\" x=\"0\" y=\"-9.5\" width=\"109.234375\" height=\"19\" style=\"fill: rgb(0, 0, 0); fill-opacity: 0;\"/></g></g></g><rect class=\"scrollbar\" rx=\"20\" ry=\"3\" width=\"0\" height=\"0\" style=\"fill: rgb(128, 139, 164); fill-opacity: 1;\" x=\"0\" y=\"0\"/></g><g class=\"g-gtitle\"/><g class=\"g-xtitle\"><text class=\"xtitle\" x=\"350\" y=\"459.8\" text-anchor=\"middle\" style=\"font-family: 'Open Sans', verdana, arial, sans-serif; font-size: 14px; fill: rgb(42, 63, 95); opacity: 1; font-weight: normal; white-space: pre;\">index</text></g><g class=\"g-ytitle\"><text class=\"ytitle\" transform=\"rotate(-90,21.700000000000003,240)\" x=\"21.700000000000003\" y=\"240\" text-anchor=\"middle\" style=\"font-family: 'Open Sans', verdana, arial, sans-serif; font-size: 14px; fill: rgb(42, 63, 95); opacity: 1; font-weight: normal; white-space: pre;\">Compartment size</text></g></g></svg>"
      ],
      "text/plain": [
       "<IPython.core.display.SVG object>"
      ]
     },
     "metadata": {},
     "output_type": "display_data"
    },
    {
     "data": {
      "image/svg+xml": [
       "<svg xmlns=\"http://www.w3.org/2000/svg\" xmlns:xlink=\"http://www.w3.org/1999/xlink\" class=\"main-svg\" width=\"700\" height=\"500\" style=\"\" viewBox=\"0 0 700 500\"><rect x=\"0\" y=\"0\" width=\"700\" height=\"500\" style=\"fill: rgb(255, 255, 255); fill-opacity: 1;\"/><defs id=\"defs-c26cc9\"><g class=\"clips\"><clipPath id=\"clipc26cc9xyplot\" class=\"plotclip\"><rect width=\"540\" height=\"360\"/></clipPath><clipPath class=\"axesclip\" id=\"clipc26cc9x\"><rect x=\"80\" y=\"0\" width=\"540\" height=\"500\"/></clipPath><clipPath class=\"axesclip\" id=\"clipc26cc9y\"><rect x=\"0\" y=\"60\" width=\"700\" height=\"360\"/></clipPath><clipPath class=\"axesclip\" id=\"clipc26cc9xy\"><rect x=\"80\" y=\"60\" width=\"540\" height=\"360\"/></clipPath></g><g class=\"gradients\"/><g class=\"patterns\"/></defs><g class=\"bglayer\"><rect class=\"bg\" x=\"80\" y=\"60\" width=\"540\" height=\"360\" style=\"fill: rgb(229, 236, 246); fill-opacity: 1; stroke-width: 0;\"/></g><g class=\"layer-below\"><g class=\"imagelayer\"/><g class=\"shapelayer\"/></g><g class=\"cartesianlayer\"><g class=\"subplot xy\"><g class=\"layer-subplot\"><g class=\"shapelayer\"/><g class=\"imagelayer\"/></g><g class=\"minor-gridlayer\"><g class=\"x\"/><g class=\"y\"/></g><g class=\"gridlayer\"><g class=\"x\"><path class=\"xgrid crisp\" transform=\"translate(159.41,0)\" d=\"M0,60v360\" style=\"stroke: rgb(255, 255, 255); stroke-opacity: 1; stroke-width: 1px;\"/><path class=\"xgrid crisp\" transform=\"translate(291.76,0)\" d=\"M0,60v360\" style=\"stroke: rgb(255, 255, 255); stroke-opacity: 1; stroke-width: 1px;\"/><path class=\"xgrid crisp\" transform=\"translate(424.12,0)\" d=\"M0,60v360\" style=\"stroke: rgb(255, 255, 255); stroke-opacity: 1; stroke-width: 1px;\"/><path class=\"xgrid crisp\" transform=\"translate(556.47,0)\" d=\"M0,60v360\" style=\"stroke: rgb(255, 255, 255); stroke-opacity: 1; stroke-width: 1px;\"/></g><g class=\"y\"><path class=\"ygrid crisp\" transform=\"translate(0,360.16)\" d=\"M80,0h540\" style=\"stroke: rgb(255, 255, 255); stroke-opacity: 1; stroke-width: 1px;\"/><path class=\"ygrid crisp\" transform=\"translate(0,318.31)\" d=\"M80,0h540\" style=\"stroke: rgb(255, 255, 255); stroke-opacity: 1; stroke-width: 1px;\"/><path class=\"ygrid crisp\" transform=\"translate(0,276.47)\" d=\"M80,0h540\" style=\"stroke: rgb(255, 255, 255); stroke-opacity: 1; stroke-width: 1px;\"/><path class=\"ygrid crisp\" transform=\"translate(0,234.62)\" d=\"M80,0h540\" style=\"stroke: rgb(255, 255, 255); stroke-opacity: 1; stroke-width: 1px;\"/><path class=\"ygrid crisp\" transform=\"translate(0,192.78)\" d=\"M80,0h540\" style=\"stroke: rgb(255, 255, 255); stroke-opacity: 1; stroke-width: 1px;\"/><path class=\"ygrid crisp\" transform=\"translate(0,150.93)\" d=\"M80,0h540\" style=\"stroke: rgb(255, 255, 255); stroke-opacity: 1; stroke-width: 1px;\"/><path class=\"ygrid crisp\" transform=\"translate(0,109.09)\" d=\"M80,0h540\" style=\"stroke: rgb(255, 255, 255); stroke-opacity: 1; stroke-width: 1px;\"/><path class=\"ygrid crisp\" transform=\"translate(0,67.24)\" d=\"M80,0h540\" style=\"stroke: rgb(255, 255, 255); stroke-opacity: 1; stroke-width: 1px;\"/></g></g><g class=\"zerolinelayer\"><path class=\"yzl zl crisp\" transform=\"translate(0,402)\" d=\"M80,0h540\" style=\"stroke: rgb(255, 255, 255); stroke-opacity: 1; stroke-width: 2px;\"/></g><path class=\"xlines-below\"/><path class=\"ylines-below\"/><g class=\"overlines-below\"/><g class=\"xaxislayer-below\"/><g class=\"yaxislayer-below\"/><g class=\"overaxes-below\"/><g class=\"plot\" transform=\"translate(80,60)\" clip-path=\"url(#clipc26cc9xyplot)\"><g class=\"scatterlayer mlayer\"><g class=\"trace scatter trace78dd7b\" style=\"stroke-miterlimit: 2; opacity: 1;\"><g class=\"fills\"/><g class=\"errorbars\"/><g class=\"lines\"><path class=\"js-line\" d=\"M0,342L206.47,341.36L209.12,341.19L222.35,339.44L225,338.81L232.94,335.84L235.59,334.36L240.88,330.28L243.53,327.52L248.82,320.07L251.47,315.13L256.76,302.2L259.41,293.95L264.71,273.41L267.35,261.07L275.29,216.96L277.94,200.69L291.18,122.77L293.82,109.8L299.12,87.46L301.76,78.06L307.06,62.43L309.71,56.01L315,45.46L317.65,41.15L322.94,34.05L325.59,31.12L333.53,24.22L336.18,22.41L344.12,18L346.76,19L357.35,33.5L360,37.48L375.88,60.39L378.53,63.75L383.82,69.52L386.47,71.25L402.35,81.61L405,82.71L412.94,84.61L415.59,84.86L426.18,84.57L428.82,84.19L436.76,82.32L439.41,81.28L452.65,74.2L455.29,72.61L476.47,60.67L479.12,59.19L487.06,55.34L489.71,54.39L495,53.5L497.65,53.39L508.24,54.05L510.88,54.39L521.47,54.78L524.12,54.83L540,56.29\" style=\"vector-effect: none; fill: none; stroke: rgb(99, 110, 250); stroke-opacity: 1; stroke-width: 2px; opacity: 1;\"/></g><g class=\"points\"/><g class=\"text\"/></g></g></g><g class=\"overplot\"/><path class=\"xlines-above crisp\" d=\"M0,0\" style=\"fill: none;\"/><path class=\"ylines-above crisp\" d=\"M0,0\" style=\"fill: none;\"/><g class=\"overlines-above\"/><g class=\"xaxislayer-above\"><g class=\"xtick\"><text text-anchor=\"middle\" x=\"0\" y=\"433\" transform=\"translate(159.41,0)\" style=\"font-family: 'Open Sans', verdana, arial, sans-serif; font-size: 12px; fill: rgb(42, 63, 95); fill-opacity: 1; white-space: pre; opacity: 1;\">1850</text></g><g class=\"xtick\"><text text-anchor=\"middle\" x=\"0\" y=\"433\" style=\"font-family: 'Open Sans', verdana, arial, sans-serif; font-size: 12px; fill: rgb(42, 63, 95); fill-opacity: 1; white-space: pre; opacity: 1;\" transform=\"translate(291.76,0)\">1900</text></g><g class=\"xtick\"><text text-anchor=\"middle\" x=\"0\" y=\"433\" style=\"font-family: 'Open Sans', verdana, arial, sans-serif; font-size: 12px; fill: rgb(42, 63, 95); fill-opacity: 1; white-space: pre; opacity: 1;\" transform=\"translate(424.12,0)\">1950</text></g><g class=\"xtick\"><text text-anchor=\"middle\" x=\"0\" y=\"433\" style=\"font-family: 'Open Sans', verdana, arial, sans-serif; font-size: 12px; fill: rgb(42, 63, 95); fill-opacity: 1; white-space: pre; opacity: 1;\" transform=\"translate(556.47,0)\">2000</text></g></g><g class=\"yaxislayer-above\"><g class=\"ytick\"><text text-anchor=\"end\" x=\"79\" y=\"4.199999999999999\" transform=\"translate(0,402)\" style=\"font-family: 'Open Sans', verdana, arial, sans-serif; font-size: 12px; fill: rgb(42, 63, 95); fill-opacity: 1; white-space: pre; opacity: 1;\">0</text></g><g class=\"ytick\"><text text-anchor=\"end\" x=\"79\" y=\"4.199999999999999\" style=\"font-family: 'Open Sans', verdana, arial, sans-serif; font-size: 12px; fill: rgb(42, 63, 95); fill-opacity: 1; white-space: pre; opacity: 1;\" transform=\"translate(0,360.16)\">10</text></g><g class=\"ytick\"><text text-anchor=\"end\" x=\"79\" y=\"4.199999999999999\" style=\"font-family: 'Open Sans', verdana, arial, sans-serif; font-size: 12px; fill: rgb(42, 63, 95); fill-opacity: 1; white-space: pre; opacity: 1;\" transform=\"translate(0,318.31)\">20</text></g><g class=\"ytick\"><text text-anchor=\"end\" x=\"79\" y=\"4.199999999999999\" style=\"font-family: 'Open Sans', verdana, arial, sans-serif; font-size: 12px; fill: rgb(42, 63, 95); fill-opacity: 1; white-space: pre; opacity: 1;\" transform=\"translate(0,276.47)\">30</text></g><g class=\"ytick\"><text text-anchor=\"end\" x=\"79\" y=\"4.199999999999999\" style=\"font-family: 'Open Sans', verdana, arial, sans-serif; font-size: 12px; fill: rgb(42, 63, 95); fill-opacity: 1; white-space: pre; opacity: 1;\" transform=\"translate(0,234.62)\">40</text></g><g class=\"ytick\"><text text-anchor=\"end\" x=\"79\" y=\"4.199999999999999\" style=\"font-family: 'Open Sans', verdana, arial, sans-serif; font-size: 12px; fill: rgb(42, 63, 95); fill-opacity: 1; white-space: pre; opacity: 1;\" transform=\"translate(0,192.78)\">50</text></g><g class=\"ytick\"><text text-anchor=\"end\" x=\"79\" y=\"4.199999999999999\" style=\"font-family: 'Open Sans', verdana, arial, sans-serif; font-size: 12px; fill: rgb(42, 63, 95); fill-opacity: 1; white-space: pre; opacity: 1;\" transform=\"translate(0,150.93)\">60</text></g><g class=\"ytick\"><text text-anchor=\"end\" x=\"79\" y=\"4.199999999999999\" style=\"font-family: 'Open Sans', verdana, arial, sans-serif; font-size: 12px; fill: rgb(42, 63, 95); fill-opacity: 1; white-space: pre; opacity: 1;\" transform=\"translate(0,109.09)\">70</text></g><g class=\"ytick\"><text text-anchor=\"end\" x=\"79\" y=\"4.199999999999999\" style=\"font-family: 'Open Sans', verdana, arial, sans-serif; font-size: 12px; fill: rgb(42, 63, 95); fill-opacity: 1; white-space: pre; opacity: 1;\" transform=\"translate(0,67.24)\">80</text></g></g><g class=\"overaxes-above\"/></g></g><g class=\"polarlayer\"/><g class=\"smithlayer\"/><g class=\"ternarylayer\"/><g class=\"geolayer\"/><g class=\"funnelarealayer\"/><g class=\"pielayer\"/><g class=\"iciclelayer\"/><g class=\"treemaplayer\"/><g class=\"sunburstlayer\"/><g class=\"glimages\"/><defs id=\"topdefs-c26cc9\"><g class=\"clips\"/></defs><g class=\"layer-above\"><g class=\"imagelayer\"/><g class=\"shapelayer\"/></g><g class=\"infolayer\"><g class=\"g-gtitle\"/><g class=\"g-xtitle\"><text class=\"xtitle\" x=\"350\" y=\"459.8\" text-anchor=\"middle\" style=\"font-family: 'Open Sans', verdana, arial, sans-serif; font-size: 14px; fill: rgb(42, 63, 95); opacity: 1; font-weight: normal; white-space: pre;\">index</text></g><g class=\"g-ytitle\"><text class=\"ytitle\" transform=\"rotate(-90,39.434375,240)\" x=\"39.434375\" y=\"240\" text-anchor=\"middle\" style=\"font-family: 'Open Sans', verdana, arial, sans-serif; font-size: 14px; fill: rgb(42, 63, 95); opacity: 1; font-weight: normal; white-space: pre;\">Percentage of latent TB infection (%)</text></g></g></svg>"
      ],
      "text/plain": [
       "<IPython.core.display.SVG object>"
      ]
     },
     "metadata": {},
     "output_type": "display_data"
    }
   ],
   "source": [
    "#| layout-ncol: 2\n",
    "#| label: fig-compsize\n",
    "#| fig-cap: \"Base model of TB dynamics in Indonesia.\"\n",
    "#| fig-subcap: \n",
    "#|   - \"Compartment size\"\n",
    "#|   - \"Percentage of latent TB infection\"\n",
    "#| fig-pos: '!h'\n",
    "\n",
    "fig = outs[[f\"comp_size_{c}\" for c in compartments]].plot.area()\n",
    "#fig.add_scatter(x=targets[\"census_pop\"].index, y=targets[\"census_pop\"], mode=\"markers\", name=\"Census data\")\n",
    "fig.update_layout(legend=dict(\n",
    "    yanchor=\"top\",\n",
    "    y=0.99,\n",
    "    xanchor=\"left\",\n",
    "    x=0.01\n",
    "))\n",
    "set_plot_label(fig, indicator_names, \"Compartment size\")\n",
    "display_plot(fig, \"comp_size\", \"svg\")\n",
    "\n",
    "fig = outs[\"percentage_latent\"].plot()\n",
    "fig.update_layout(showlegend=False)\n",
    "set_plot_label(fig, indicator_names, \"Percentage of latent TB infection (%)\")\n",
    "display_plot(fig, \"percentage_latent\", \"svg\")"
   ]
  },
  {
   "cell_type": "code",
   "execution_count": 12,
   "id": "7deb2da3",
   "metadata": {},
   "outputs": [
    {
     "data": {
      "text/markdown": [
       "The results of our baseline calibration are shown in @fig-notifprev, where the model was fitted to local TB epidemiology data, particularly data for case notifications and prevalence. This demonstrates that the baseline model can capture the general dynamics from 2000 to 2020 and aligns well with the prevalence data from the 2013-2014 survey. \n"
      ],
      "text/plain": [
       "<IPython.core.display.Markdown object>"
      ]
     },
     "metadata": {},
     "output_type": "display_data"
    }
   ],
   "source": [
    "load_report_section('reporting.yaml', 'result-notifprev')"
   ]
  },
  {
   "cell_type": "code",
   "execution_count": 13,
   "id": "b3a30e6c",
   "metadata": {},
   "outputs": [
    {
     "data": {
      "image/svg+xml": [
       "<svg xmlns=\"http://www.w3.org/2000/svg\" xmlns:xlink=\"http://www.w3.org/1999/xlink\" class=\"main-svg\" width=\"700\" height=\"500\" style=\"\" viewBox=\"0 0 700 500\"><rect x=\"0\" y=\"0\" width=\"700\" height=\"500\" style=\"fill: rgb(255, 255, 255); fill-opacity: 1;\"/><defs id=\"defs-266b11\"><g class=\"clips\"><clipPath id=\"clip266b11xyplot\" class=\"plotclip\"><rect width=\"540\" height=\"320\"/></clipPath><clipPath class=\"axesclip\" id=\"clip266b11x\"><rect x=\"80\" y=\"0\" width=\"540\" height=\"500\"/></clipPath><clipPath class=\"axesclip\" id=\"clip266b11y\"><rect x=\"0\" y=\"100\" width=\"700\" height=\"320\"/></clipPath><clipPath class=\"axesclip\" id=\"clip266b11xy\"><rect x=\"80\" y=\"100\" width=\"540\" height=\"320\"/></clipPath></g><g class=\"gradients\"/><g class=\"patterns\"/></defs><g class=\"bglayer\"><rect class=\"bg\" x=\"80\" y=\"100\" width=\"540\" height=\"320\" style=\"fill: rgb(229, 236, 246); fill-opacity: 1; stroke-width: 0;\"/></g><g class=\"layer-below\"><g class=\"imagelayer\"/><g class=\"shapelayer\"/></g><g class=\"cartesianlayer\"><g class=\"subplot xy\"><g class=\"layer-subplot\"><g class=\"shapelayer\"/><g class=\"imagelayer\"/></g><g class=\"minor-gridlayer\"><g class=\"x\"/><g class=\"y\"/></g><g class=\"gridlayer\"><g class=\"x\"><path class=\"xgrid crisp\" transform=\"translate(104,0)\" d=\"M0,100v320\" style=\"stroke: rgb(255, 255, 255); stroke-opacity: 1; stroke-width: 1px;\"/><path class=\"xgrid crisp\" transform=\"translate(224,0)\" d=\"M0,100v320\" style=\"stroke: rgb(255, 255, 255); stroke-opacity: 1; stroke-width: 1px;\"/><path class=\"xgrid crisp\" transform=\"translate(344,0)\" d=\"M0,100v320\" style=\"stroke: rgb(255, 255, 255); stroke-opacity: 1; stroke-width: 1px;\"/><path class=\"xgrid crisp\" transform=\"translate(464,0)\" d=\"M0,100v320\" style=\"stroke: rgb(255, 255, 255); stroke-opacity: 1; stroke-width: 1px;\"/><path class=\"xgrid crisp\" transform=\"translate(584,0)\" d=\"M0,100v320\" style=\"stroke: rgb(255, 255, 255); stroke-opacity: 1; stroke-width: 1px;\"/></g><g class=\"y\"><path class=\"ygrid crisp\" transform=\"translate(0,360.67)\" d=\"M80,0h540\" style=\"stroke: rgb(255, 255, 255); stroke-opacity: 1; stroke-width: 1px;\"/><path class=\"ygrid crisp\" transform=\"translate(0,321.09000000000003)\" d=\"M80,0h540\" style=\"stroke: rgb(255, 255, 255); stroke-opacity: 1; stroke-width: 1px;\"/><path class=\"ygrid crisp\" transform=\"translate(0,281.5)\" d=\"M80,0h540\" style=\"stroke: rgb(255, 255, 255); stroke-opacity: 1; stroke-width: 1px;\"/><path class=\"ygrid crisp\" transform=\"translate(0,241.92)\" d=\"M80,0h540\" style=\"stroke: rgb(255, 255, 255); stroke-opacity: 1; stroke-width: 1px;\"/><path class=\"ygrid crisp\" transform=\"translate(0,202.34)\" d=\"M80,0h540\" style=\"stroke: rgb(255, 255, 255); stroke-opacity: 1; stroke-width: 1px;\"/><path class=\"ygrid crisp\" transform=\"translate(0,162.76)\" d=\"M80,0h540\" style=\"stroke: rgb(255, 255, 255); stroke-opacity: 1; stroke-width: 1px;\"/><path class=\"ygrid crisp\" transform=\"translate(0,123.18)\" d=\"M80,0h540\" style=\"stroke: rgb(255, 255, 255); stroke-opacity: 1; stroke-width: 1px;\"/></g></g><g class=\"zerolinelayer\"><path class=\"yzl zl crisp\" transform=\"translate(0,400.25)\" d=\"M80,0h540\" style=\"stroke: rgb(255, 255, 255); stroke-opacity: 1; stroke-width: 2px;\"/></g><path class=\"xlines-below\"/><path class=\"ylines-below\"/><g class=\"overlines-below\"/><g class=\"xaxislayer-below\"/><g class=\"yaxislayer-below\"/><g class=\"overaxes-below\"/><g class=\"plot\" transform=\"translate(80,100)\" clip-path=\"url(#clip266b11xyplot)\"><g class=\"scatterlayer mlayer\"><g class=\"trace scatter trace233193\" style=\"stroke-miterlimit: 2; opacity: 1;\"><g class=\"fills\"/><g class=\"errorbars\"/><g class=\"lines\"><path class=\"js-line\" d=\"M-1896,300.25L156,299.58L168,299.25L192,298L204,296.88L216,295.23L228,292.81L240,289.28L252,284.2L264,277.07L276,267.35L288,254.67L300,239.14L324,204.75L336,190.98L348,182.71L360,180.14L372,181.4L384,184.03L408,188.19L420,189.27L444,190.46L456,165.52L468,143.79L480,133.91L492,111.64L504,108.01L516,134.71L528,132.46L540,113.42L552,121.84\" style=\"vector-effect: none; fill: none; stroke: rgb(99, 110, 250); stroke-opacity: 1; stroke-width: 2px; opacity: 1;\"/></g><g class=\"points\"/><g class=\"text\"/></g><g class=\"trace scatter trace83b439\" style=\"stroke-miterlimit: 2; opacity: 1;\"><g class=\"fills\"/><g class=\"errorbars\"/><g class=\"lines\"/><g class=\"points\"><path class=\"point\" transform=\"translate(24,290.26)\" d=\"M3,0A3,3 0 1,1 0,-3A3,3 0 0,1 3,0Z\" style=\"opacity: 1; stroke-width: 0px; fill: rgb(255, 0, 0); fill-opacity: 1;\"/><path class=\"point\" transform=\"translate(36,287.4)\" d=\"M3,0A3,3 0 1,1 0,-3A3,3 0 0,1 3,0Z\" style=\"opacity: 1; stroke-width: 0px; fill: rgb(255, 0, 0); fill-opacity: 1;\"/><path class=\"point\" transform=\"translate(48,287.19)\" d=\"M3,0A3,3 0 1,1 0,-3A3,3 0 0,1 3,0Z\" style=\"opacity: 1; stroke-width: 0px; fill: rgb(255, 0, 0); fill-opacity: 1;\"/><path class=\"point\" transform=\"translate(60,287.66)\" d=\"M3,0A3,3 0 1,1 0,-3A3,3 0 0,1 3,0Z\" style=\"opacity: 1; stroke-width: 0px; fill: rgb(255, 0, 0); fill-opacity: 1;\"/><path class=\"point\" transform=\"translate(72,287.41)\" d=\"M3,0A3,3 0 1,1 0,-3A3,3 0 0,1 3,0Z\" style=\"opacity: 1; stroke-width: 0px; fill: rgb(255, 0, 0); fill-opacity: 1;\"/><path class=\"point\" transform=\"translate(84,293.25)\" d=\"M3,0A3,3 0 1,1 0,-3A3,3 0 0,1 3,0Z\" style=\"opacity: 1; stroke-width: 0px; fill: rgb(255, 0, 0); fill-opacity: 1;\"/><path class=\"point\" transform=\"translate(96,293.62)\" d=\"M3,0A3,3 0 1,1 0,-3A3,3 0 0,1 3,0Z\" style=\"opacity: 1; stroke-width: 0px; fill: rgb(255, 0, 0); fill-opacity: 1;\"/><path class=\"point\" transform=\"translate(108,300.25)\" d=\"M3,0A3,3 0 1,1 0,-3A3,3 0 0,1 3,0Z\" style=\"opacity: 1; stroke-width: 0px; fill: rgb(255, 0, 0); fill-opacity: 1;\"/><path class=\"point\" transform=\"translate(120,261.66)\" d=\"M3,0A3,3 0 1,1 0,-3A3,3 0 0,1 3,0Z\" style=\"opacity: 1; stroke-width: 0px; fill: rgb(255, 0, 0); fill-opacity: 1;\"/><path class=\"point\" transform=\"translate(132,258.48)\" d=\"M3,0A3,3 0 1,1 0,-3A3,3 0 0,1 3,0Z\" style=\"opacity: 1; stroke-width: 0px; fill: rgb(255, 0, 0); fill-opacity: 1;\"/><path class=\"point\" transform=\"translate(144,270.77)\" d=\"M3,0A3,3 0 1,1 0,-3A3,3 0 0,1 3,0Z\" style=\"opacity: 1; stroke-width: 0px; fill: rgb(255, 0, 0); fill-opacity: 1;\"/><path class=\"point\" transform=\"translate(156,276.18)\" d=\"M3,0A3,3 0 1,1 0,-3A3,3 0 0,1 3,0Z\" style=\"opacity: 1; stroke-width: 0px; fill: rgb(255, 0, 0); fill-opacity: 1;\"/><path class=\"point\" transform=\"translate(168,261.28)\" d=\"M3,0A3,3 0 1,1 0,-3A3,3 0 0,1 3,0Z\" style=\"opacity: 1; stroke-width: 0px; fill: rgb(255, 0, 0); fill-opacity: 1;\"/><path class=\"point\" transform=\"translate(180,275.33)\" d=\"M3,0A3,3 0 1,1 0,-3A3,3 0 0,1 3,0Z\" style=\"opacity: 1; stroke-width: 0px; fill: rgb(255, 0, 0); fill-opacity: 1;\"/><path class=\"point\" transform=\"translate(192,280.6)\" d=\"M3,0A3,3 0 1,1 0,-3A3,3 0 0,1 3,0Z\" style=\"opacity: 1; stroke-width: 0px; fill: rgb(255, 0, 0); fill-opacity: 1;\"/><path class=\"point\" transform=\"translate(204,286.19)\" d=\"M3,0A3,3 0 1,1 0,-3A3,3 0 0,1 3,0Z\" style=\"opacity: 1; stroke-width: 0px; fill: rgb(255, 0, 0); fill-opacity: 1;\"/><path class=\"point\" transform=\"translate(216,290.49)\" d=\"M3,0A3,3 0 1,1 0,-3A3,3 0 0,1 3,0Z\" style=\"opacity: 1; stroke-width: 0px; fill: rgb(255, 0, 0); fill-opacity: 1;\"/><path class=\"point\" transform=\"translate(228,291.47)\" d=\"M3,0A3,3 0 1,1 0,-3A3,3 0 0,1 3,0Z\" style=\"opacity: 1; stroke-width: 0px; fill: rgb(255, 0, 0); fill-opacity: 1;\"/><path class=\"point\" transform=\"translate(240,284.22)\" d=\"M3,0A3,3 0 1,1 0,-3A3,3 0 0,1 3,0Z\" style=\"opacity: 1; stroke-width: 0px; fill: rgb(255, 0, 0); fill-opacity: 1;\"/><path class=\"point\" transform=\"translate(252,272.91)\" d=\"M3,0A3,3 0 1,1 0,-3A3,3 0 0,1 3,0Z\" style=\"opacity: 1; stroke-width: 0px; fill: rgb(255, 0, 0); fill-opacity: 1;\"/><path class=\"point\" transform=\"translate(264,266.77)\" d=\"M3,0A3,3 0 1,1 0,-3A3,3 0 0,1 3,0Z\" style=\"opacity: 1; stroke-width: 0px; fill: rgb(255, 0, 0); fill-opacity: 1;\"/><path class=\"point\" transform=\"translate(276,263.52)\" d=\"M3,0A3,3 0 1,1 0,-3A3,3 0 0,1 3,0Z\" style=\"opacity: 1; stroke-width: 0px; fill: rgb(255, 0, 0); fill-opacity: 1;\"/><path class=\"point\" transform=\"translate(288,238.82)\" d=\"M3,0A3,3 0 1,1 0,-3A3,3 0 0,1 3,0Z\" style=\"opacity: 1; stroke-width: 0px; fill: rgb(255, 0, 0); fill-opacity: 1;\"/><path class=\"point\" transform=\"translate(300,231.31)\" d=\"M3,0A3,3 0 1,1 0,-3A3,3 0 0,1 3,0Z\" style=\"opacity: 1; stroke-width: 0px; fill: rgb(255, 0, 0); fill-opacity: 1;\"/><path class=\"point\" transform=\"translate(312,217.04)\" d=\"M3,0A3,3 0 1,1 0,-3A3,3 0 0,1 3,0Z\" style=\"opacity: 1; stroke-width: 0px; fill: rgb(255, 0, 0); fill-opacity: 1;\"/><path class=\"point\" transform=\"translate(324,199.47)\" d=\"M3,0A3,3 0 1,1 0,-3A3,3 0 0,1 3,0Z\" style=\"opacity: 1; stroke-width: 0px; fill: rgb(255, 0, 0); fill-opacity: 1;\"/><path class=\"point\" transform=\"translate(336,190.38)\" d=\"M3,0A3,3 0 1,1 0,-3A3,3 0 0,1 3,0Z\" style=\"opacity: 1; stroke-width: 0px; fill: rgb(255, 0, 0); fill-opacity: 1;\"/><path class=\"point\" transform=\"translate(348,191.32)\" d=\"M3,0A3,3 0 1,1 0,-3A3,3 0 0,1 3,0Z\" style=\"opacity: 1; stroke-width: 0px; fill: rgb(255, 0, 0); fill-opacity: 1;\"/><path class=\"point\" transform=\"translate(360,182.88)\" d=\"M3,0A3,3 0 1,1 0,-3A3,3 0 0,1 3,0Z\" style=\"opacity: 1; stroke-width: 0px; fill: rgb(255, 0, 0); fill-opacity: 1;\"/><path class=\"point\" transform=\"translate(372,184.37)\" d=\"M3,0A3,3 0 1,1 0,-3A3,3 0 0,1 3,0Z\" style=\"opacity: 1; stroke-width: 0px; fill: rgb(255, 0, 0); fill-opacity: 1;\"/><path class=\"point\" transform=\"translate(384,181.24)\" d=\"M3,0A3,3 0 1,1 0,-3A3,3 0 0,1 3,0Z\" style=\"opacity: 1; stroke-width: 0px; fill: rgb(255, 0, 0); fill-opacity: 1;\"/><path class=\"point\" transform=\"translate(396,174)\" d=\"M3,0A3,3 0 1,1 0,-3A3,3 0 0,1 3,0Z\" style=\"opacity: 1; stroke-width: 0px; fill: rgb(255, 0, 0); fill-opacity: 1;\"/><path class=\"point\" transform=\"translate(408,170.1)\" d=\"M3,0A3,3 0 1,1 0,-3A3,3 0 0,1 3,0Z\" style=\"opacity: 1; stroke-width: 0px; fill: rgb(255, 0, 0); fill-opacity: 1;\"/><path class=\"point\" transform=\"translate(420,171.38)\" d=\"M3,0A3,3 0 1,1 0,-3A3,3 0 0,1 3,0Z\" style=\"opacity: 1; stroke-width: 0px; fill: rgb(255, 0, 0); fill-opacity: 1;\"/><path class=\"point\" transform=\"translate(432,172.48)\" d=\"M3,0A3,3 0 1,1 0,-3A3,3 0 0,1 3,0Z\" style=\"opacity: 1; stroke-width: 0px; fill: rgb(255, 0, 0); fill-opacity: 1;\"/><path class=\"point\" transform=\"translate(444,168.96)\" d=\"M3,0A3,3 0 1,1 0,-3A3,3 0 0,1 3,0Z\" style=\"opacity: 1; stroke-width: 0px; fill: rgb(255, 0, 0); fill-opacity: 1;\"/><path class=\"point\" transform=\"translate(456,155.91)\" d=\"M3,0A3,3 0 1,1 0,-3A3,3 0 0,1 3,0Z\" style=\"opacity: 1; stroke-width: 0px; fill: rgb(255, 0, 0); fill-opacity: 1;\"/><path class=\"point\" transform=\"translate(468,125.23)\" d=\"M3,0A3,3 0 1,1 0,-3A3,3 0 0,1 3,0Z\" style=\"opacity: 1; stroke-width: 0px; fill: rgb(255, 0, 0); fill-opacity: 1;\"/><path class=\"point\" transform=\"translate(480,75.08)\" d=\"M3,0A3,3 0 1,1 0,-3A3,3 0 0,1 3,0Z\" style=\"opacity: 1; stroke-width: 0px; fill: rgb(255, 0, 0); fill-opacity: 1;\"/><path class=\"point\" transform=\"translate(492,78.65)\" d=\"M3,0A3,3 0 1,1 0,-3A3,3 0 0,1 3,0Z\" style=\"opacity: 1; stroke-width: 0px; fill: rgb(255, 0, 0); fill-opacity: 1;\"/><path class=\"point\" transform=\"translate(504,148.25)\" d=\"M3,0A3,3 0 1,1 0,-3A3,3 0 0,1 3,0Z\" style=\"opacity: 1; stroke-width: 0px; fill: rgb(255, 0, 0); fill-opacity: 1;\"/><path class=\"point\" transform=\"translate(516,129.03)\" d=\"M3,0A3,3 0 1,1 0,-3A3,3 0 0,1 3,0Z\" style=\"opacity: 1; stroke-width: 0px; fill: rgb(255, 0, 0); fill-opacity: 1;\"/><path class=\"point\" transform=\"translate(528,19.75)\" d=\"M3,0A3,3 0 1,1 0,-3A3,3 0 0,1 3,0Z\" style=\"opacity: 1; stroke-width: 0px; fill: rgb(255, 0, 0); fill-opacity: 1;\"/></g><g class=\"text\"/></g><g class=\"trace scatter trace09fc27\" style=\"stroke-miterlimit: 2; opacity: 1;\"><g class=\"fills\"/><g class=\"errorbars\"/><g class=\"lines\"/><g class=\"points\"><path class=\"point\" transform=\"translate(264,266.77)\" d=\"M3,0A3,3 0 1,1 0,-3A3,3 0 0,1 3,0Z\" style=\"opacity: 1; stroke-width: 0px; fill: rgb(0, 204, 150); fill-opacity: 1;\"/><path class=\"point\" transform=\"translate(276,263.52)\" d=\"M3,0A3,3 0 1,1 0,-3A3,3 0 0,1 3,0Z\" style=\"opacity: 1; stroke-width: 0px; fill: rgb(0, 204, 150); fill-opacity: 1;\"/><path class=\"point\" transform=\"translate(288,238.82)\" d=\"M3,0A3,3 0 1,1 0,-3A3,3 0 0,1 3,0Z\" style=\"opacity: 1; stroke-width: 0px; fill: rgb(0, 204, 150); fill-opacity: 1;\"/><path class=\"point\" transform=\"translate(300,231.31)\" d=\"M3,0A3,3 0 1,1 0,-3A3,3 0 0,1 3,0Z\" style=\"opacity: 1; stroke-width: 0px; fill: rgb(0, 204, 150); fill-opacity: 1;\"/><path class=\"point\" transform=\"translate(312,217.04)\" d=\"M3,0A3,3 0 1,1 0,-3A3,3 0 0,1 3,0Z\" style=\"opacity: 1; stroke-width: 0px; fill: rgb(0, 204, 150); fill-opacity: 1;\"/><path class=\"point\" transform=\"translate(324,199.47)\" d=\"M3,0A3,3 0 1,1 0,-3A3,3 0 0,1 3,0Z\" style=\"opacity: 1; stroke-width: 0px; fill: rgb(0, 204, 150); fill-opacity: 1;\"/><path class=\"point\" transform=\"translate(336,190.38)\" d=\"M3,0A3,3 0 1,1 0,-3A3,3 0 0,1 3,0Z\" style=\"opacity: 1; stroke-width: 0px; fill: rgb(0, 204, 150); fill-opacity: 1;\"/><path class=\"point\" transform=\"translate(348,191.32)\" d=\"M3,0A3,3 0 1,1 0,-3A3,3 0 0,1 3,0Z\" style=\"opacity: 1; stroke-width: 0px; fill: rgb(0, 204, 150); fill-opacity: 1;\"/><path class=\"point\" transform=\"translate(360,182.88)\" d=\"M3,0A3,3 0 1,1 0,-3A3,3 0 0,1 3,0Z\" style=\"opacity: 1; stroke-width: 0px; fill: rgb(0, 204, 150); fill-opacity: 1;\"/><path class=\"point\" transform=\"translate(372,184.37)\" d=\"M3,0A3,3 0 1,1 0,-3A3,3 0 0,1 3,0Z\" style=\"opacity: 1; stroke-width: 0px; fill: rgb(0, 204, 150); fill-opacity: 1;\"/><path class=\"point\" transform=\"translate(384,181.24)\" d=\"M3,0A3,3 0 1,1 0,-3A3,3 0 0,1 3,0Z\" style=\"opacity: 1; stroke-width: 0px; fill: rgb(0, 204, 150); fill-opacity: 1;\"/><path class=\"point\" transform=\"translate(396,174)\" d=\"M3,0A3,3 0 1,1 0,-3A3,3 0 0,1 3,0Z\" style=\"opacity: 1; stroke-width: 0px; fill: rgb(0, 204, 150); fill-opacity: 1;\"/><path class=\"point\" transform=\"translate(408,170.1)\" d=\"M3,0A3,3 0 1,1 0,-3A3,3 0 0,1 3,0Z\" style=\"opacity: 1; stroke-width: 0px; fill: rgb(0, 204, 150); fill-opacity: 1;\"/><path class=\"point\" transform=\"translate(420,171.38)\" d=\"M3,0A3,3 0 1,1 0,-3A3,3 0 0,1 3,0Z\" style=\"opacity: 1; stroke-width: 0px; fill: rgb(0, 204, 150); fill-opacity: 1;\"/><path class=\"point\" transform=\"translate(432,172.48)\" d=\"M3,0A3,3 0 1,1 0,-3A3,3 0 0,1 3,0Z\" style=\"opacity: 1; stroke-width: 0px; fill: rgb(0, 204, 150); fill-opacity: 1;\"/><path class=\"point\" transform=\"translate(444,168.96)\" d=\"M3,0A3,3 0 1,1 0,-3A3,3 0 0,1 3,0Z\" style=\"opacity: 1; stroke-width: 0px; fill: rgb(0, 204, 150); fill-opacity: 1;\"/><path class=\"point\" transform=\"translate(456,155.91)\" d=\"M3,0A3,3 0 1,1 0,-3A3,3 0 0,1 3,0Z\" style=\"opacity: 1; stroke-width: 0px; fill: rgb(0, 204, 150); fill-opacity: 1;\"/><path class=\"point\" transform=\"translate(468,125.23)\" d=\"M3,0A3,3 0 1,1 0,-3A3,3 0 0,1 3,0Z\" style=\"opacity: 1; stroke-width: 0px; fill: rgb(0, 204, 150); fill-opacity: 1;\"/><path class=\"point\" transform=\"translate(480,75.08)\" d=\"M3,0A3,3 0 1,1 0,-3A3,3 0 0,1 3,0Z\" style=\"opacity: 1; stroke-width: 0px; fill: rgb(0, 204, 150); fill-opacity: 1;\"/><path class=\"point\" transform=\"translate(492,78.65)\" d=\"M3,0A3,3 0 1,1 0,-3A3,3 0 0,1 3,0Z\" style=\"opacity: 1; stroke-width: 0px; fill: rgb(0, 204, 150); fill-opacity: 1;\"/><path class=\"point\" transform=\"translate(504,148.25)\" d=\"M3,0A3,3 0 1,1 0,-3A3,3 0 0,1 3,0Z\" style=\"opacity: 1; stroke-width: 0px; fill: rgb(0, 204, 150); fill-opacity: 1;\"/><path class=\"point\" transform=\"translate(516,129.03)\" d=\"M3,0A3,3 0 1,1 0,-3A3,3 0 0,1 3,0Z\" style=\"opacity: 1; stroke-width: 0px; fill: rgb(0, 204, 150); fill-opacity: 1;\"/><path class=\"point\" transform=\"translate(528,19.75)\" d=\"M3,0A3,3 0 1,1 0,-3A3,3 0 0,1 3,0Z\" style=\"opacity: 1; stroke-width: 0px; fill: rgb(0, 204, 150); fill-opacity: 1;\"/></g><g class=\"text\"/></g></g></g><g class=\"overplot\"/><path class=\"xlines-above crisp\" d=\"M0,0\" style=\"fill: none;\"/><path class=\"ylines-above crisp\" d=\"M0,0\" style=\"fill: none;\"/><g class=\"overlines-above\"/><g class=\"xaxislayer-above\"><g class=\"xtick\"><text text-anchor=\"middle\" x=\"0\" y=\"433\" transform=\"translate(104,0)\" style=\"font-family: 'Open Sans', verdana, arial, sans-serif; font-size: 12px; fill: rgb(42, 63, 95); fill-opacity: 1; white-space: pre; opacity: 1;\">1980</text></g><g class=\"xtick\"><text text-anchor=\"middle\" x=\"0\" y=\"433\" style=\"font-family: 'Open Sans', verdana, arial, sans-serif; font-size: 12px; fill: rgb(42, 63, 95); fill-opacity: 1; white-space: pre; opacity: 1;\" transform=\"translate(224,0)\">1990</text></g><g class=\"xtick\"><text text-anchor=\"middle\" x=\"0\" y=\"433\" style=\"font-family: 'Open Sans', verdana, arial, sans-serif; font-size: 12px; fill: rgb(42, 63, 95); fill-opacity: 1; white-space: pre; opacity: 1;\" transform=\"translate(344,0)\">2000</text></g><g class=\"xtick\"><text text-anchor=\"middle\" x=\"0\" y=\"433\" style=\"font-family: 'Open Sans', verdana, arial, sans-serif; font-size: 12px; fill: rgb(42, 63, 95); fill-opacity: 1; white-space: pre; opacity: 1;\" transform=\"translate(464,0)\">2010</text></g><g class=\"xtick\"><text text-anchor=\"middle\" x=\"0\" y=\"433\" style=\"font-family: 'Open Sans', verdana, arial, sans-serif; font-size: 12px; fill: rgb(42, 63, 95); fill-opacity: 1; white-space: pre; opacity: 1;\" transform=\"translate(584,0)\">2020</text></g></g><g class=\"yaxislayer-above\"><g class=\"ytick\"><text text-anchor=\"end\" x=\"79\" y=\"4.199999999999999\" transform=\"translate(0,400.25)\" style=\"font-family: 'Open Sans', verdana, arial, sans-serif; font-size: 12px; fill: rgb(42, 63, 95); fill-opacity: 1; white-space: pre; opacity: 1;\">0</text></g><g class=\"ytick\"><text text-anchor=\"end\" x=\"79\" y=\"4.199999999999999\" style=\"font-family: 'Open Sans', verdana, arial, sans-serif; font-size: 12px; fill: rgb(42, 63, 95); fill-opacity: 1; white-space: pre; opacity: 1;\" transform=\"translate(0,360.67)\">100k</text></g><g class=\"ytick\"><text text-anchor=\"end\" x=\"79\" y=\"4.199999999999999\" style=\"font-family: 'Open Sans', verdana, arial, sans-serif; font-size: 12px; fill: rgb(42, 63, 95); fill-opacity: 1; white-space: pre; opacity: 1;\" transform=\"translate(0,321.09000000000003)\">200k</text></g><g class=\"ytick\"><text text-anchor=\"end\" x=\"79\" y=\"4.199999999999999\" style=\"font-family: 'Open Sans', verdana, arial, sans-serif; font-size: 12px; fill: rgb(42, 63, 95); fill-opacity: 1; white-space: pre; opacity: 1;\" transform=\"translate(0,281.5)\">300k</text></g><g class=\"ytick\"><text text-anchor=\"end\" x=\"79\" y=\"4.199999999999999\" style=\"font-family: 'Open Sans', verdana, arial, sans-serif; font-size: 12px; fill: rgb(42, 63, 95); fill-opacity: 1; white-space: pre; opacity: 1;\" transform=\"translate(0,241.92)\">400k</text></g><g class=\"ytick\"><text text-anchor=\"end\" x=\"79\" y=\"4.199999999999999\" style=\"font-family: 'Open Sans', verdana, arial, sans-serif; font-size: 12px; fill: rgb(42, 63, 95); fill-opacity: 1; white-space: pre; opacity: 1;\" transform=\"translate(0,202.34)\">500k</text></g><g class=\"ytick\"><text text-anchor=\"end\" x=\"79\" y=\"4.199999999999999\" style=\"font-family: 'Open Sans', verdana, arial, sans-serif; font-size: 12px; fill: rgb(42, 63, 95); fill-opacity: 1; white-space: pre; opacity: 1;\" transform=\"translate(0,162.76)\">600k</text></g><g class=\"ytick\"><text text-anchor=\"end\" x=\"79\" y=\"4.199999999999999\" style=\"font-family: 'Open Sans', verdana, arial, sans-serif; font-size: 12px; fill: rgb(42, 63, 95); fill-opacity: 1; white-space: pre; opacity: 1;\" transform=\"translate(0,123.18)\">700k</text></g></g><g class=\"overaxes-above\"/></g></g><g class=\"polarlayer\"/><g class=\"smithlayer\"/><g class=\"ternarylayer\"/><g class=\"geolayer\"/><g class=\"funnelarealayer\"/><g class=\"pielayer\"/><g class=\"iciclelayer\"/><g class=\"treemaplayer\"/><g class=\"sunburstlayer\"/><g class=\"glimages\"/><defs id=\"topdefs-266b11\"><g class=\"clips\"/></defs><g class=\"layer-above\"><g class=\"imagelayer\"/><g class=\"shapelayer\"/></g><g class=\"infolayer\"><g class=\"g-gtitle\"/><g class=\"g-xtitle\"><text class=\"xtitle\" x=\"350\" y=\"459.8\" text-anchor=\"middle\" style=\"font-family: 'Open Sans', verdana, arial, sans-serif; font-size: 14px; fill: rgb(42, 63, 95); opacity: 1; font-weight: normal; white-space: pre;\">Year</text></g><g class=\"g-ytitle\"><text class=\"ytitle\" transform=\"rotate(-90,24.700000000000003,260)\" x=\"24.700000000000003\" y=\"260\" text-anchor=\"middle\" style=\"font-family: 'Open Sans', verdana, arial, sans-serif; font-size: 14px; fill: rgb(42, 63, 95); opacity: 1; font-weight: normal; white-space: pre;\">Notification</text></g></g></svg>"
      ],
      "text/plain": [
       "<IPython.core.display.SVG object>"
      ]
     },
     "metadata": {},
     "output_type": "display_data"
    },
    {
     "data": {
      "image/svg+xml": [
       "<svg xmlns=\"http://www.w3.org/2000/svg\" xmlns:xlink=\"http://www.w3.org/1999/xlink\" class=\"main-svg\" width=\"700\" height=\"500\" style=\"\" viewBox=\"0 0 700 500\"><rect x=\"0\" y=\"0\" width=\"700\" height=\"500\" style=\"fill: rgb(255, 255, 255); fill-opacity: 1;\"/><defs id=\"defs-e1bde7\"><g class=\"clips\"><clipPath id=\"clipe1bde7xyplot\" class=\"plotclip\"><rect width=\"540\" height=\"320\"/></clipPath><clipPath class=\"axesclip\" id=\"clipe1bde7x\"><rect x=\"80\" y=\"0\" width=\"540\" height=\"500\"/></clipPath><clipPath class=\"axesclip\" id=\"clipe1bde7y\"><rect x=\"0\" y=\"100\" width=\"700\" height=\"320\"/></clipPath><clipPath class=\"axesclip\" id=\"clipe1bde7xy\"><rect x=\"80\" y=\"100\" width=\"540\" height=\"320\"/></clipPath></g><g class=\"gradients\"/><g class=\"patterns\"/></defs><g class=\"bglayer\"><rect class=\"bg\" x=\"80\" y=\"100\" width=\"540\" height=\"320\" style=\"fill: rgb(229, 236, 246); fill-opacity: 1; stroke-width: 0;\"/></g><g class=\"layer-below\"><g class=\"imagelayer\"/><g class=\"shapelayer\"/></g><g class=\"cartesianlayer\"><g class=\"subplot xy\"><g class=\"layer-subplot\"><g class=\"shapelayer\"/><g class=\"imagelayer\"/></g><g class=\"minor-gridlayer\"><g class=\"x\"/><g class=\"y\"/></g><g class=\"gridlayer\"><g class=\"x\"><path class=\"xgrid crisp\" transform=\"translate(158.75,0)\" d=\"M0,100v320\" style=\"stroke: rgb(255, 255, 255); stroke-opacity: 1; stroke-width: 1px;\"/><path class=\"xgrid crisp\" transform=\"translate(290,0)\" d=\"M0,100v320\" style=\"stroke: rgb(255, 255, 255); stroke-opacity: 1; stroke-width: 1px;\"/><path class=\"xgrid crisp\" transform=\"translate(421.25,0)\" d=\"M0,100v320\" style=\"stroke: rgb(255, 255, 255); stroke-opacity: 1; stroke-width: 1px;\"/><path class=\"xgrid crisp\" transform=\"translate(552.5,0)\" d=\"M0,100v320\" style=\"stroke: rgb(255, 255, 255); stroke-opacity: 1; stroke-width: 1px;\"/></g><g class=\"y\"><path class=\"ygrid crisp\" transform=\"translate(0,328.05)\" d=\"M80,0h540\" style=\"stroke: rgb(255, 255, 255); stroke-opacity: 1; stroke-width: 1px;\"/><path class=\"ygrid crisp\" transform=\"translate(0,252.09)\" d=\"M80,0h540\" style=\"stroke: rgb(255, 255, 255); stroke-opacity: 1; stroke-width: 1px;\"/><path class=\"ygrid crisp\" transform=\"translate(0,176.14)\" d=\"M80,0h540\" style=\"stroke: rgb(255, 255, 255); stroke-opacity: 1; stroke-width: 1px;\"/></g></g><g class=\"zerolinelayer\"><path class=\"yzl zl crisp\" transform=\"translate(0,404)\" d=\"M80,0h540\" style=\"stroke: rgb(255, 255, 255); stroke-opacity: 1; stroke-width: 2px;\"/></g><path class=\"xlines-below\"/><path class=\"ylines-below\"/><g class=\"overlines-below\"/><g class=\"xaxislayer-below\"/><g class=\"yaxislayer-below\"/><g class=\"overaxes-below\"/><g class=\"plot\" transform=\"translate(80,100)\" clip-path=\"url(#clipe1bde7xyplot)\"><g class=\"scatterlayer mlayer\"><g class=\"trace scatter traceee3dde\" style=\"stroke-miterlimit: 2; opacity: 1;\"><g class=\"fills\"/><g class=\"errorbars\"/><g class=\"lines\"><path class=\"js-line\" d=\"M0,304L194.25,303.38L196.88,303.22L210,301.75L212.63,301.23L220.5,298.82L223.13,297.62L228.38,294.31L231,292.07L236.25,285.95L238.88,281.84L244.13,270.81L246.75,263.55L252,244.65L254.63,232.66L259.88,203.1L262.5,185.56L273,104.05L275.63,83.9L280.88,49.23L283.5,36.02L286.13,26.09L288.75,19.56L291.38,16.3L294,16L296.63,18.23L299.25,22.5L304.5,35.17L307.13,42.7L320.25,80.46L322.88,86.94L330.75,103.35L333.38,107.84L341.25,118.75L343.88,122.5L346.5,124.03L349.13,122.83L354.38,116.23L357,111.88L370.13,87.15L372.75,82.07L385.88,57.56L388.5,53.92L406.88,30.26L409.5,27.68L417.38,21.7L420,20.24L427.88,17.21L430.5,16.66L438.38,16.28L441,16.89L446.25,19.2L448.88,20.77L456.75,27.32L459.38,30.12L464.63,36.74L467.25,40.71L472.5,50.79L475.13,57.57L480.38,76.02L483,87.8L493.5,139.5L496.13,149.24L501.38,163.64L504,168.88L509.25,176.57L511.88,179.43L514.5,185.37L517.13,193.33L522.38,212.33L525,222.18L530.25,233.24L532.88,240.81L535.5,246.69\" style=\"vector-effect: none; fill: none; stroke: rgb(99, 110, 250); stroke-opacity: 1; stroke-width: 2px; opacity: 1;\"/></g><g class=\"points\"/><g class=\"text\"/></g><g class=\"trace scatter traceae2520\" style=\"stroke-miterlimit: 2; opacity: 1;\"><g class=\"fills\"/><g class=\"errorbars\"/><g class=\"lines\"/><g class=\"points\"><path class=\"point\" transform=\"translate(509.25,188.69)\" d=\"M3,0A3,3 0 1,1 0,-3A3,3 0 0,1 3,0Z\" style=\"opacity: 1; stroke-width: 0px; fill: rgb(255, 0, 0); fill-opacity: 1;\"/></g><g class=\"text\"/></g></g></g><g class=\"overplot\"/><path class=\"xlines-above crisp\" d=\"M0,0\" style=\"fill: none;\"/><path class=\"ylines-above crisp\" d=\"M0,0\" style=\"fill: none;\"/><g class=\"overlines-above\"/><g class=\"xaxislayer-above\"><g class=\"xtick\"><text text-anchor=\"middle\" x=\"0\" y=\"433\" transform=\"translate(158.75,0)\" style=\"font-family: 'Open Sans', verdana, arial, sans-serif; font-size: 12px; fill: rgb(42, 63, 95); fill-opacity: 1; white-space: pre; opacity: 1;\">1850</text></g><g class=\"xtick\"><text text-anchor=\"middle\" x=\"0\" y=\"433\" style=\"font-family: 'Open Sans', verdana, arial, sans-serif; font-size: 12px; fill: rgb(42, 63, 95); fill-opacity: 1; white-space: pre; opacity: 1;\" transform=\"translate(290,0)\">1900</text></g><g class=\"xtick\"><text text-anchor=\"middle\" x=\"0\" y=\"433\" style=\"font-family: 'Open Sans', verdana, arial, sans-serif; font-size: 12px; fill: rgb(42, 63, 95); fill-opacity: 1; white-space: pre; opacity: 1;\" transform=\"translate(421.25,0)\">1950</text></g><g class=\"xtick\"><text text-anchor=\"middle\" x=\"0\" y=\"433\" style=\"font-family: 'Open Sans', verdana, arial, sans-serif; font-size: 12px; fill: rgb(42, 63, 95); fill-opacity: 1; white-space: pre; opacity: 1;\" transform=\"translate(552.5,0)\">2000</text></g></g><g class=\"yaxislayer-above\"><g class=\"ytick\"><text text-anchor=\"end\" x=\"79\" y=\"4.199999999999999\" transform=\"translate(0,404)\" style=\"font-family: 'Open Sans', verdana, arial, sans-serif; font-size: 12px; fill: rgb(42, 63, 95); fill-opacity: 1; white-space: pre; opacity: 1;\">0</text></g><g class=\"ytick\"><text text-anchor=\"end\" x=\"79\" y=\"4.199999999999999\" style=\"font-family: 'Open Sans', verdana, arial, sans-serif; font-size: 12px; fill: rgb(42, 63, 95); fill-opacity: 1; white-space: pre; opacity: 1;\" transform=\"translate(0,328.05)\">500</text></g><g class=\"ytick\"><text text-anchor=\"end\" x=\"79\" y=\"4.199999999999999\" style=\"font-family: 'Open Sans', verdana, arial, sans-serif; font-size: 12px; fill: rgb(42, 63, 95); fill-opacity: 1; white-space: pre; opacity: 1;\" transform=\"translate(0,252.09)\">1000</text></g><g class=\"ytick\"><text text-anchor=\"end\" x=\"79\" y=\"4.199999999999999\" style=\"font-family: 'Open Sans', verdana, arial, sans-serif; font-size: 12px; fill: rgb(42, 63, 95); fill-opacity: 1; white-space: pre; opacity: 1;\" transform=\"translate(0,176.14)\">1500</text></g><g class=\"ytick\"><text text-anchor=\"end\" x=\"79\" y=\"4.199999999999999\" style=\"font-family: 'Open Sans', verdana, arial, sans-serif; font-size: 12px; fill: rgb(42, 63, 95); fill-opacity: 1; white-space: pre; opacity: 1;\" transform=\"translate(0,100.18)\">2000</text></g></g><g class=\"overaxes-above\"/></g></g><g class=\"polarlayer\"/><g class=\"smithlayer\"/><g class=\"ternarylayer\"/><g class=\"geolayer\"/><g class=\"funnelarealayer\"/><g class=\"pielayer\"/><g class=\"iciclelayer\"/><g class=\"treemaplayer\"/><g class=\"sunburstlayer\"/><g class=\"glimages\"/><defs id=\"topdefs-e1bde7\"><g class=\"clips\"/></defs><g class=\"layer-above\"><g class=\"imagelayer\"/><g class=\"shapelayer\"/></g><g class=\"infolayer\"><g class=\"g-gtitle\"/><g class=\"g-xtitle\"><text class=\"xtitle\" x=\"350\" y=\"459.8\" text-anchor=\"middle\" style=\"font-family: 'Open Sans', verdana, arial, sans-serif; font-size: 14px; fill: rgb(42, 63, 95); opacity: 1; font-weight: normal; white-space: pre;\">Year</text></g><g class=\"g-ytitle\"><text class=\"ytitle\" transform=\"rotate(-90,24.184375000000003,260)\" x=\"24.184375000000003\" y=\"260\" text-anchor=\"middle\" style=\"font-family: 'Open Sans', verdana, arial, sans-serif; font-size: 14px; fill: rgb(42, 63, 95); opacity: 1; font-weight: normal; white-space: pre;\">Prevalence</text></g></g></svg>"
      ],
      "text/plain": [
       "<IPython.core.display.SVG object>"
      ]
     },
     "metadata": {},
     "output_type": "display_data"
    }
   ],
   "source": [
    "#| label: fig-notifprev\n",
    "#| fig-cap: \"Comparison between model outputs and local data for calibration targets. The red dots represent the actual data from all periods, while the green dots indicate the data specifically used for calibration targets. For prevalence, all actual data is used as the calibration target.\"\n",
    "#| fig-subcap: \n",
    "#|   - \"TB notifications\"\n",
    "#|   - \"TB prevalence\"\n",
    "#| layout-ncol: 2\n",
    "#| fig-pos: '!ht'\n",
    "\n",
    "fig = plot_model_vs_actual(outs, \n",
    "                     targets[\"notif\"],\n",
    "                     \"notification\",\n",
    "                     \"Notification\",\n",
    "                     \"\",\n",
    "                     \"Actual data (All periods)\")\n",
    "#fig.add_scatter(x=targets[\"new_cases\"].index, y=targets[\"new_cases\"], mode=\"markers\", name=\"NTCP data\")\n",
    "fig.add_scatter(x=targets[\"notif2000\"].index, y=targets[\"notif2000\"], mode=\"markers\", name=\"Target data\")\n",
    "fig.update_layout(showlegend=False)\n",
    "fig.update_xaxes(range=[1978, 2023])\n",
    "display_plot(fig, \"notification\", \"svg\")\n",
    "\n",
    "fig = plot_model_vs_actual(outs, \n",
    "                     targets[\"prevalence\"],\n",
    "                     \"prevalence\",\n",
    "                     \"Prevalence\",\n",
    "                     \"\",\n",
    "                     \"Actual data\")\n",
    "fig.update_layout(showlegend=False)\n",
    "display_plot(fig, \"prevalence\", \"svg\")"
   ]
  },
  {
   "cell_type": "code",
   "execution_count": 14,
   "id": "726a688a",
   "metadata": {},
   "outputs": [
    {
     "data": {
      "text/markdown": [
       "We believe that further improvements can be made to the model, and obtaining more reliable data will help us better capture overall trends. Once we establish the baseline epidemic, we can investigate counterfactual scenarios by introducing or removing interventions. This approach will allow us to evaluate their effectiveness and potential impact."
      ],
      "text/plain": [
       "<IPython.core.display.Markdown object>"
      ]
     },
     "metadata": {},
     "output_type": "display_data"
    }
   ],
   "source": [
    "load_report_section('reporting.yaml', 'result-conclusion')"
   ]
  },
  {
   "cell_type": "code",
   "execution_count": 15,
   "id": "d7933a0c",
   "metadata": {},
   "outputs": [],
   "source": [
    "#fig = outs[[\"incidence\", \"prevalence\", \"mortality\"]].plot()\n",
    "#set_plot_label(fig, indicator_names, \"value\")\n",
    "#display_plot(fig, \"inc_prev_mort\", \"svg\")\n",
    "#fig"
   ]
  },
  {
   "cell_type": "code",
   "execution_count": 16,
   "id": "cafcab45",
   "metadata": {},
   "outputs": [],
   "source": [
    "#actual_data = targets[\"notif\"] / targets[\"incidence_num\"] * 100\n",
    "#fig = plot_model_vs_actual(outs, \n",
    "                     #actual_data,\n",
    "                     #\"notification_per_incidence\",\n",
    "                     #\"Notification per incidence\",\n",
    "                     #\"\",\n",
    "                     #\"Actual data\")\n",
    "\n",
    "#display_plot(fig, \"notification_per_incidence\", \"svg\")"
   ]
  },
  {
   "cell_type": "markdown",
   "id": "ecc98cfb",
   "metadata": {},
   "source": [
    "\\newpage\n",
    "## Supplementary"
   ]
  },
  {
   "cell_type": "code",
   "execution_count": 17,
   "id": "412a74e0",
   "metadata": {},
   "outputs": [
    {
     "data": {
      "text/markdown": [
       "| Parameter                                                                   | Value                                               | Unit                        | Source                                                                                        |\n",
       "|:----------------------------------------------------------------------------|:----------------------------------------------------|:----------------------------|:----------------------------------------------------------------------------------------------|\n",
       "| Start population size                                                       | 1.0                                                 | person                      | A value to avoid dividing by zero in the force of infection calculation                       |\n",
       "| Age infectiousness switch                                                   | 15.0                                                | years old                   | Set based on duration of BCG protection [@ngupidop2016, @roy2019]                             |\n",
       "| TB-specific death rate                                                      | 0.1                                                 | per year                    | United Nations Population Division data for Indonesia [@unwpp2024]                            |\n",
       "| Contact rate                                                                | 9.54                                                | contacts per person per day | Fitted [@ragonnet2022]                                                                        |\n",
       "| Self-recovery rate                                                          | 0.29                                                | per year                    | Fitted [@ragonnet2020]                                                                        |\n",
       "| Relative risk of reinfection while latently infected (ref. infection-naive) | 0.12                                                |                             | Fitted [@andrews2012]                                                                         |\n",
       "| Relative risk of reinfection after recovery (ref. infection-naive)          | 0.87                                                |                             | Fitted [@andrews2012]                                                                         |\n",
       "| Rate of rapid progression to active TB, based on age groups                 | 0: 2.4/5: 2.0/15: 0.1/35: 0.1/50: 0.1               | per year                    | Arbitrary value selected from a parameter range published in a previous study [@ragonnet2017] |\n",
       "| Rate of late reactivation, based on age groups                              | 0: 7e-09/5: 0.0023/15: 0.0012/35: 0.0012/50: 0.0012 | per year                    | Arbitrary value selected from a parameter range published in a previous study [@ragonnet2017] |\n",
       "| Rate of stabilization from early to late latency, based on age groups       | 0: 4.4/5: 4.4/15: 2.0/35: 2.0/50: 2.0               | per year                    | Arbitrary value selected from a parameter range published in a previous study [@ragonnet2017] |\n",
       "| TB progression multiplier                                                   | 1.44                                                |                             | Arbitrary value selected from a parameter range published in a previous study [@ragonnet2022] |\n",
       "| Seed time                                                                   | 1881.5                                              |                             | Fitted                                                                                        |\n",
       "| Seed duration                                                               | 19.55                                               | days                        | Fitted                                                                                        |\n",
       "| Seed rate                                                                   | 70.65                                               | persons per day             | Fitted                                                                                        |\n",
       "| Passive screening shape                                                     | 0.199                                               |                             | Fitted                                                                                        |\n",
       "| Passive screening inflection time                                           | 2009.3                                              |                             | Fitted                                                                                        |\n",
       "| Time from active TB to be screened                                          | 0.336                                               |                             | Fitted                                                                                        |\n",
       "| Preceding diagnostic algorithm sensitivity.                                 | 0.287                                               |                             | Fitted                                                                                        |\n",
       "| Diagnostic test sensitivity                                                 | 0.826                                               |                             | Fitted                                                                                        |"
      ],
      "text/plain": [
       "<IPython.core.display.Markdown object>"
      ]
     },
     "execution_count": 17,
     "metadata": {},
     "output_type": "execute_result"
    }
   ],
   "source": [
    "#| label: tbl-params\n",
    "#| tbl-cap: Model parameters\n",
    "#| tbl-cap-location: top\n",
    "\n",
    "fixed_param_table = get_param_table(param_info)\n",
    "Markdown(fixed_param_table.to_markdown())\n"
   ]
  },
  {
   "cell_type": "markdown",
   "id": "eddbd2ef",
   "metadata": {},
   "source": [
    "\\newpage\n",
    "## References"
   ]
  },
  {
   "cell_type": "markdown",
   "id": "4c9e224c",
   "metadata": {},
   "source": []
  }
 ],
 "metadata": {
  "kernelspec": {
   "display_name": "Python 3 (ipykernel)",
   "language": "python",
   "name": "python3"
  },
  "language_info": {
   "codemirror_mode": {
    "name": "ipython",
    "version": 3
   },
   "file_extension": ".py",
   "mimetype": "text/x-python",
   "name": "python",
   "nbconvert_exporter": "python",
   "pygments_lexer": "ipython3",
   "version": "3.10.13"
  }
 },
 "nbformat": 4,
 "nbformat_minor": 5
}
