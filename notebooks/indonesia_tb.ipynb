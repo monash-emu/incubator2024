{
 "cells": [
  {
   "cell_type": "raw",
   "id": "0",
   "metadata": {},
   "source": [
    "---\n",
    "title: \"TB model: Indonesia\"\n",
    "format: \n",
    "  pdf\n",
    "execute:\n",
    "  echo: false\n",
    "  warning: false\n",
    "jupyter: python3\n",
    "bibliography: tb_refs.bib\n",
    "csl: https://www.zotero.org/styles/the-lancet\n",
    "---"
   ]
  },
  {
   "cell_type": "code",
   "execution_count": 19,
   "id": "1",
   "metadata": {},
   "outputs": [],
   "source": [
    "import pandas as pd\n",
    "from IPython.display import Markdown\n",
    "import plotly.graph_objects as go\n",
    "\n",
    "import tb_incubator.constants as const\n",
    "from tb_incubator.constants import set_project_base_path\n",
    "from tb_incubator.model import build_model\n",
    "from tb_incubator.plotting import set_plot_label, display_plot, plot_model_vs_actual\n",
    "from tb_incubator.input import load_targets, load_param_info, get_param_table, load_genexpert_util, load_report_section\n",
    "\n",
    "pd.options.plotting.backend = \"plotly\"  \n",
    "project_paths = set_project_base_path(\"../tb_incubator/\")"
   ]
  },
  {
   "cell_type": "markdown",
   "id": "dbc9ca35",
   "metadata": {},
   "source": [
    "## Introduction"
   ]
  },
  {
   "cell_type": "code",
   "execution_count": 20,
   "id": "3a738bf8",
   "metadata": {},
   "outputs": [],
   "source": [
    "#load_report_section('reporting.yaml', 'introduction')\n",
    "#load_report_section('reporting.yaml', 'introduction2')"
   ]
  },
  {
   "cell_type": "code",
   "execution_count": 21,
   "id": "c67bda10",
   "metadata": {},
   "outputs": [],
   "source": [
    "targets = load_targets()\n",
    "indicator_names = const.indicator_names\n",
    "compartments = const.compartments"
   ]
  },
  {
   "cell_type": "markdown",
   "id": "afceb89d",
   "metadata": {},
   "source": [
    "## Model construction"
   ]
  },
  {
   "cell_type": "code",
   "execution_count": 22,
   "id": "c4035414",
   "metadata": {},
   "outputs": [],
   "source": [
    "param_info = load_param_info()\n",
    "params = param_info[\"value\"]"
   ]
  },
  {
   "cell_type": "code",
   "execution_count": 23,
   "id": "18d9a0cd",
   "metadata": {},
   "outputs": [],
   "source": [
    "model, desc = build_model(params, xpert_sensitivity=False, covid_effects=True)\n",
    "\n",
    "#Markdown(desc)"
   ]
  },
  {
   "cell_type": "code",
   "execution_count": 24,
   "id": "584fc62e",
   "metadata": {},
   "outputs": [],
   "source": [
    "calib_params = {\n",
    "    'contact_rate': 36.203285817215914,\n",
    "    'progression_multiplier': 0.7975952842355304,\n",
    "    'detection_reduction': 0.5707673479232517,\n",
    "    'post_covid_improvement': 1.9226694724100577,\n",
    "    'sustained_improvement': 5.1324558252247225,\n",
    "}"
   ]
  },
  {
   "cell_type": "code",
   "execution_count": 25,
   "id": "39ae96b5",
   "metadata": {},
   "outputs": [],
   "source": [
    "model.run(params | calib_params)"
   ]
  },
  {
   "cell_type": "markdown",
   "id": "f4756445",
   "metadata": {},
   "source": [
    "## Results"
   ]
  },
  {
   "cell_type": "code",
   "execution_count": 26,
   "id": "90348a9a",
   "metadata": {},
   "outputs": [],
   "source": [
    "outs = model.get_derived_outputs_df()"
   ]
  },
  {
   "cell_type": "code",
   "execution_count": null,
   "id": "beef9101",
   "metadata": {},
   "outputs": [],
   "source": [
    "load_report_section('reporting.yaml', 'result-compartment')"
   ]
  },
  {
   "cell_type": "code",
   "execution_count": 28,
   "id": "876b8136",
   "metadata": {},
   "outputs": [],
   "source": [
    "file_prefix = \"id_noxpert\""
   ]
  },
  {
   "cell_type": "code",
   "execution_count": null,
   "id": "bcb0cefa",
   "metadata": {},
   "outputs": [],
   "source": [
    "fig = outs[[f\"comp_size_{c}\" for c in compartments]].plot.area()\n",
    "#fig.add_scatter(x=targets[\"census_pop\"].index, y=targets[\"census_pop\"], mode=\"markers\", name=\"Census data\")\n",
    "fig.update_layout(legend=dict(yanchor=\"top\", y=0.99, xanchor=\"left\", x=0.01))\n",
    "set_plot_label(fig, indicator_names, \"Compartment size\")\n",
    "fig\n",
    "\n",
    "#fig.update_xaxes(range=[2000, 2035])\n",
    "display_plot(fig, f\"{file_prefix}_comp_size\", \"svg\")\n"
   ]
  },
  {
   "cell_type": "code",
   "execution_count": null,
   "id": "7deb2da3",
   "metadata": {},
   "outputs": [],
   "source": [
    "load_report_section('reporting.yaml', 'result-notifprev')"
   ]
  },
  {
   "cell_type": "code",
   "execution_count": null,
   "id": "b3a30e6c",
   "metadata": {},
   "outputs": [],
   "source": [
    "#| label: fig-notifprev\n",
    "#| fig-cap: \"Comparison between model outputs and local data for calibration targets. The red dots represent the actual data from all periods, while the green dots indicate the data specifically used for calibration targets. For prevalence, all actual data is used as the calibration target.\"\n",
    "#| fig-subcap: \n",
    "#|   - \"TB notifications\"\n",
    "#|   - \"TB prevalence\"\n",
    "#| layout-ncol: 2\n",
    "#| fig-pos: '!ht'\n",
    "\n",
    "fig = plot_model_vs_actual(outs, \n",
    "                     targets[\"notif\"],\n",
    "                     \"notification\",\n",
    "                     \"Notification\",\n",
    "                     \"\",\n",
    "                     \"Actual data (All periods)\", actual_color=\"gray\")\n",
    "fig.update_layout(showlegend=True)\n",
    "\n",
    "# Add target points as a scatter trace\n",
    "fig.add_trace(\n",
    "    go.Scatter(\n",
    "        x=targets[\"notif2000\"].index,  # Filter for 2013-2023\n",
    "        y=targets[\"notif2000\"],\n",
    "        mode='markers',  # Only show markers, no lines\n",
    "        marker=dict(\n",
    "            color='hotpink',  \n",
    "        ),\n",
    "        name='Target'  # This will show in legend if you enable it\n",
    "    )\n",
    ")\n",
    "fig.update_layout(legend=dict(yanchor=\"top\", y=0.99, xanchor=\"left\", x=0.01))\n",
    "fig.update_xaxes(range=[2000, 2024])\n",
    "display_plot(fig, f\"{file_prefix}_notif\", \"svg\")"
   ]
  },
  {
   "cell_type": "code",
   "execution_count": null,
   "id": "6e4a76ed",
   "metadata": {},
   "outputs": [],
   "source": [
    "fig = plot_model_vs_actual(outs, \n",
    "                     targets[\"prevalence\"],\n",
    "                     \"prevalence\",\n",
    "                     \"Prevalence\",\n",
    "                     \"\",\n",
    "                     \"Actual data\", actual_color=\"gray\")\n",
    "fig.update_layout(showlegend=True)\n",
    "fig.update_layout(legend=dict(yanchor=\"top\", y=0.99, xanchor=\"left\", x=0.01))\n",
    "fig.update_xaxes(range=[2000, 2024])\n",
    "display_plot(fig, f\"{file_prefix}_prevalence\", \"svg\")"
   ]
  },
  {
   "cell_type": "code",
   "execution_count": null,
   "id": "476af37d",
   "metadata": {},
   "outputs": [],
   "source": [
    "fig = plot_model_vs_actual(outs, \n",
    "                     targets[\"incidence\"],\n",
    "                     \"incidence\",\n",
    "                     \"Incidence (per 100,000)\",\n",
    "                     \"\",\n",
    "                     \"Actual data\", actual_color=\"gray\")\n",
    "fig.update_layout(showlegend=True)\n",
    "\n",
    "fig.add_trace(\n",
    "    go.Scatter(\n",
    "        x=[2030.],  \n",
    "        y=[65.0],\n",
    "        mode='markers',  \n",
    "        marker=dict(\n",
    "            color='hotpink',  \n",
    "        ),\n",
    "        name='2030 Target'  # This will show in legend if you enable it\n",
    "    )\n",
    ")\n",
    "fig.update_layout(legend=dict(yanchor=\"top\", y=0.99, xanchor=\"left\", x=0.01))\n",
    "fig.update_xaxes(range=[2000, 2035])\n",
    "display_plot(fig, f\"{file_prefix}_incidence\", \"svg\")"
   ]
  },
  {
   "cell_type": "code",
   "execution_count": null,
   "id": "50e9bca4",
   "metadata": {},
   "outputs": [],
   "source": [
    "fig = outs[\"percentage_latent\"].plot()\n",
    "fig.update_layout(showlegend=False)\n",
    "fig.update_xaxes(range=[2000, 2035], title_text=\"Year\")\n",
    "\n",
    "set_plot_label(fig, indicator_names, \"Percentage of latent TB infection (%)\")\n",
    "fig\n",
    "display_plot(fig, f\"{file_prefix}_ltbi\", \"svg\")"
   ]
  },
  {
   "cell_type": "code",
   "execution_count": 35,
   "id": "726a688a",
   "metadata": {},
   "outputs": [],
   "source": [
    "#load_report_section('reporting.yaml', 'result-conclusion')"
   ]
  },
  {
   "cell_type": "markdown",
   "id": "ecc98cfb",
   "metadata": {},
   "source": [
    "\\newpage\n",
    "## Supplementary"
   ]
  },
  {
   "cell_type": "code",
   "execution_count": 36,
   "id": "412a74e0",
   "metadata": {},
   "outputs": [],
   "source": [
    "#| label: tbl-params\n",
    "#| tbl-cap: Model parameters\n",
    "#| tbl-cap-location: top\n",
    "\n",
    "fixed_param_table = get_param_table(param_info)\n",
    "#Markdown(fixed_param_table.to_markdown())\n"
   ]
  },
  {
   "cell_type": "markdown",
   "id": "eddbd2ef",
   "metadata": {},
   "source": [
    "\\newpage\n",
    "## References"
   ]
  },
  {
   "cell_type": "markdown",
   "id": "4c9e224c",
   "metadata": {},
   "source": []
  }
 ],
 "metadata": {
  "kernelspec": {
   "display_name": "tb_new",
   "language": "python",
   "name": "python3"
  },
  "language_info": {
   "codemirror_mode": {
    "name": "ipython",
    "version": 3
   },
   "file_extension": ".py",
   "mimetype": "text/x-python",
   "name": "python",
   "nbconvert_exporter": "python",
   "pygments_lexer": "ipython3",
   "version": "3.10.0"
  }
 },
 "nbformat": 4,
 "nbformat_minor": 5
}
