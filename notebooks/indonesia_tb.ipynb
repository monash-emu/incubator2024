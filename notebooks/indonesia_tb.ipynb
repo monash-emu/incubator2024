{
 "cells": [
  {
   "cell_type": "raw",
   "id": "4ece4d31-b2ec-4f2a-97ef-469ec3cea5e6",
   "metadata": {},
   "source": [
    "---\n",
    "title: \"Renewal model fitting\"\n",
    "format: \n",
    "  pdf\n",
    "execute:\n",
    "  echo: false\n",
    "  warning: false\n",
    "jupyter: python3\n",
    "csl: https://www.zotero.org/styles/the-lancet\n",
    "---"
   ]
  },
  {
   "cell_type": "code",
   "execution_count": 1,
   "id": "0",
   "metadata": {},
   "outputs": [],
   "source": [
    "import pandas as pd\n",
    "from IPython.display import Markdown\n",
    "\n",
    "from summer2 import CompartmentalModel\n",
    "from summer2.parameters import Parameter, DerivedOutput"
   ]
  },
  {
   "cell_type": "code",
   "execution_count": 2,
   "id": "1",
   "metadata": {},
   "outputs": [],
   "source": [
    "# Base model construction\n",
    "model = CompartmentalModel(\n",
    "    times=[1850.0, 2024.0],\n",
    "    compartments=[\"susceptible\", \"early latent\", \"late latent\", \"infectious\", \"recovered\"],\n",
    "    infectious_compartments=[\"infectious\"],\n",
    ")\n",
    "model.set_initial_population({\"susceptible\": 1.0, \"infectious\": 1.0})"
   ]
  },
  {
   "cell_type": "code",
   "execution_count": 3,
   "id": "2",
   "metadata": {},
   "outputs": [],
   "source": [
    "# Add latency structures\n",
    "latency_flows = [\n",
    "    (\"stabilisation\", \"early latent\", \"late latent\"),\n",
    "    (\"early activation\", \"early latent\", \"infectious\"),\n",
    "    (\"late activation\", \"late latent\", \"infectious\"),\n",
    "]\n",
    "for flow, source, dest in latency_flows:\n",
    "    model.add_transition_flow(flow, Parameter(f\"{flow} rate\"), source, dest)"
   ]
  },
  {
   "cell_type": "code",
   "execution_count": 4,
   "id": "3",
   "metadata": {},
   "outputs": [],
   "source": [
    "# Add infection processes\n",
    "infection_origins = [\"susceptible\", \"late latent\", \"recovered\"]\n",
    "for origin in infection_origins:\n",
    "    model.add_infection_frequency_flow(f\"infection_from_{origin}\", Parameter(\"contact rate\"), origin, \"early latent\")"
   ]
  },
  {
   "cell_type": "code",
   "execution_count": 5,
   "id": "c6b9a5ba-f0f9-4dba-93b2-5294201a82ed",
   "metadata": {},
   "outputs": [
    {
     "data": {
      "text/plain": [
       "DerivedOutput noticiations {'request_type': 'param_func', 'func': Function: 'multiply', args=(DerivedOutput...esults': True}, Parameter case detection rate), kwargs={}), 'save_results': True}"
      ]
     },
     "execution_count": 5,
     "metadata": {},
     "output_type": "execute_result"
    }
   ],
   "source": [
    "# Track relevant outputs\n",
    "for timing in [\"early\", \"late\"]:\n",
    "    model.request_output_for_flow(f\"{timing} activation\", f\"{timing} activation\", save_results=False)\n",
    "inc = model.request_function_output(\"incidence\", DerivedOutput(\"early activation\") + DerivedOutput(\"late activation\"))\n",
    "model.request_function_output(\"noticiations\", inc * Parameter(\"case detection rate\"))"
   ]
  },
  {
   "cell_type": "code",
   "execution_count": 6,
   "id": "4",
   "metadata": {},
   "outputs": [],
   "source": [
    "# Parameters\n",
    "params = {\n",
    "    \"contact rate\": 1.0,\n",
    "    \"stabilisation rate\": 1.0,\n",
    "    \"early activation rate\": 1.0,\n",
    "    \"late activation rate\": 1.0,\n",
    "    \"case detection rate\": 1.0,\n",
    "}\n",
    "param_units = {\n",
    "    \"contact rate\": \"per day\",\n",
    "    \"stabilisation rate\": \"per day\",\n",
    "    \"early activation rate\": \"per day\",\n",
    "    \"late activation rate\": \"per day\",\n",
    "    \"case detection rate\": \"\",\n",
    "}\n",
    "fixed_param_table = pd.DataFrame({\"values\": params, \"units\": param_units})"
   ]
  },
  {
   "cell_type": "code",
   "execution_count": 7,
   "id": "5ff774e9-590d-42c8-963c-eb8617161e7f",
   "metadata": {},
   "outputs": [
    {
     "data": {
      "text/markdown": [
       "|                       |   values | units   |\n",
       "|:----------------------|---------:|:--------|\n",
       "| contact rate          |        1 | per day |\n",
       "| stabilisation rate    |        1 | per day |\n",
       "| early activation rate |        1 | per day |\n",
       "| late activation rate  |        1 | per day |\n",
       "| case detection rate   |        1 |         |"
      ],
      "text/plain": [
       "<IPython.core.display.Markdown object>"
      ]
     },
     "execution_count": 7,
     "metadata": {},
     "output_type": "execute_result"
    }
   ],
   "source": [
    "Markdown(fixed_param_table.to_markdown())"
   ]
  },
  {
   "cell_type": "code",
   "execution_count": 8,
   "id": "5",
   "metadata": {},
   "outputs": [],
   "source": [
    "model.run(params)"
   ]
  },
  {
   "cell_type": "code",
   "execution_count": 9,
   "id": "6",
   "metadata": {},
   "outputs": [],
   "source": [
    "# model.flows"
   ]
  }
 ],
 "metadata": {
  "kernelspec": {
   "display_name": "Python 3 (ipykernel)",
   "language": "python",
   "name": "python3"
  },
  "language_info": {
   "codemirror_mode": {
    "name": "ipython",
    "version": 3
   },
   "file_extension": ".py",
   "mimetype": "text/x-python",
   "name": "python",
   "nbconvert_exporter": "python",
   "pygments_lexer": "ipython3",
   "version": "3.10.13"
  }
 },
 "nbformat": 4,
 "nbformat_minor": 5
}
