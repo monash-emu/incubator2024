{
 "cells": [
  {
   "cell_type": "raw",
   "id": "0",
   "metadata": {
    "vscode": {
     "languageId": "raw"
    }
   },
   "source": [
    "---\n",
    "title: \"TB model for Indonesia\"\n",
    "format: \n",
    "  html:\n",
    "    theme: cosmo\n",
    "execute:\n",
    "  echo: false\n",
    "  warning: false\n",
    "jupyter: python3\n",
    "bibliography: ../supplementary/tb_refs.bib\n",
    "csl: https://www.zotero.org/styles/the-lancet\n",
    "---"
   ]
  },
  {
   "cell_type": "code",
   "execution_count": null,
   "id": "1",
   "metadata": {},
   "outputs": [],
   "source": [
    "import pandas as pd\n",
    "from IPython.display import Markdown\n",
    "import plotly.graph_objects as go\n",
    "import warnings\n",
    "warnings.filterwarnings(\"ignore\")\n",
    "\n",
    "import tb_incubator.constants as const\n",
    "from tb_incubator.constants import set_project_base_path\n",
    "from tb_incubator.model import build_model\n",
    "from tb_incubator.plotting import plot_tracked_outputs\n",
    "from tb_incubator.input import load_targets, load_param_info\n",
    "from tb_incubator.utils import get_param_table\n",
    "import arviz as az\n",
    "az.style.use(\"arviz-doc\")\n",
    "\n",
    "pd.options.plotting.backend = \"plotly\"  \n",
    "project_paths = set_project_base_path(\"../tb_incubator/\")\n",
    "calib_out = project_paths[\"OUT_PATH\"]"
   ]
  },
  {
   "cell_type": "markdown",
   "id": "79244564",
   "metadata": {},
   "source": [
    "## Build epi model"
   ]
  },
  {
   "cell_type": "code",
   "execution_count": null,
   "id": "e5c8ac2b",
   "metadata": {},
   "outputs": [],
   "source": [
    "targets = load_targets()\n",
    "indicator_names = const.indicator_names\n",
    "compartments = const.COMPARTMENTS\n",
    "param_info = load_param_info()\n",
    "\n",
    "# Load fixed parameters\n",
    "fixed_params = param_info[\"value\"]\n",
    "covid_effects = {\n",
    "    'detection_reduction':True\n",
    "}"
   ]
  },
  {
   "cell_type": "code",
   "execution_count": null,
   "id": "3a1fa526",
   "metadata": {},
   "outputs": [],
   "source": [
    "# Load best parameter set from calibration\n",
    "file_suffix = \"xpert_utilisation_improvement_p17_96\"\n",
    "idata = az.from_netcdf(calib_out / f'calib_full_out_{file_suffix}.nc')\n",
    "likelihood_df = pd.read_hdf(calib_out / f'results_{file_suffix}.hdf', 'likelihood')\n",
    "ldf_sorted = likelihood_df.sort_values(by=\"logposterior\",ascending=False)\n",
    "map_params = idata.posterior.to_dataframe().loc[ldf_sorted.index[0]].to_dict()\n",
    "map_params_filtered = {k: v for k, v in map_params.items() \n",
    "                      if \"_dispersion\" not in k}\n",
    "fixed_params.update(map_params_filtered)"
   ]
  },
  {
   "cell_type": "code",
   "execution_count": null,
   "id": "84775818",
   "metadata": {},
   "outputs": [],
   "source": [
    "params = {}\n",
    "acf_screening_rate = {\n",
    "    2024.0 : 0.0,\n",
    "    2025.0 : 0.0,\n",
    "    2026.0 : 0.22,\n",
    "    2027.0 : 0.22,\n",
    "    2027.01: 0.0\n",
    "}"
   ]
  },
  {
   "cell_type": "code",
   "execution_count": null,
   "id": "c4035414",
   "metadata": {},
   "outputs": [],
   "source": [
    "model, desc = build_model(fixed_params, xpert_improvement=True, covid_effects=covid_effects, acf_screening_rate=acf_screening_rate)"
   ]
  },
  {
   "cell_type": "code",
   "execution_count": null,
   "id": "39ae96b5",
   "metadata": {},
   "outputs": [],
   "source": [
    "model.run(fixed_params | params)"
   ]
  },
  {
   "cell_type": "markdown",
   "id": "4480c742",
   "metadata": {},
   "source": [
    "## Outputs"
   ]
  },
  {
   "cell_type": "code",
   "execution_count": null,
   "id": "a01e331f",
   "metadata": {},
   "outputs": [],
   "source": [
    "outs = model.get_derived_outputs_df()"
   ]
  },
  {
   "cell_type": "code",
   "execution_count": null,
   "id": "dec41def",
   "metadata": {},
   "outputs": [],
   "source": [
    "outs[\"total_population\"].plot()"
   ]
  },
  {
   "cell_type": "code",
   "execution_count": null,
   "id": "2369b3e8",
   "metadata": {},
   "outputs": [],
   "source": [
    "outs[[f'total_populationXage_{age}' for age in [0, 5, 15, 35, 50]]].plot()"
   ]
  },
  {
   "cell_type": "code",
   "execution_count": null,
   "id": "3252db90",
   "metadata": {},
   "outputs": [],
   "source": [
    "outs['incidence'].plot()"
   ]
  },
  {
   "cell_type": "code",
   "execution_count": null,
   "id": "638c611c",
   "metadata": {},
   "outputs": [],
   "source": [
    "outs['prevalence_pulmonary'].plot()"
   ]
  },
  {
   "cell_type": "code",
   "execution_count": null,
   "id": "bd35b6c1",
   "metadata": {},
   "outputs": [],
   "source": [
    "fig = outs['notification'].plot()\n",
    "fig.update_xaxes(range=[2000,2035])"
   ]
  },
  {
   "cell_type": "code",
   "execution_count": null,
   "id": "b6325b3d",
   "metadata": {},
   "outputs": [],
   "source": [
    "tracked_outputs = [\"base_detection\", \"diagnostic_capacity\", \"diagnostic_improvement\", \"final_detection\"]\n",
    "plot_tracked_outputs(outs, tracked_outputs)"
   ]
  },
  {
   "cell_type": "code",
   "execution_count": null,
   "id": "553dfcec",
   "metadata": {},
   "outputs": [],
   "source": [
    "import plotly.express as px\n",
    "\n",
    "compartments = const.COMPARTMENTS\n",
    "df = outs[[f\"prop_{comp}\" for comp in compartments]]\n",
    "fig = px.area(df, x=df.index, y=[f\"prop_{comp}\" for comp in compartments])\n",
    "fig.update_xaxes(range=[1970,2025])"
   ]
  },
  {
   "cell_type": "code",
   "execution_count": null,
   "id": "412a74e0",
   "metadata": {},
   "outputs": [],
   "source": [
    "#| label: tbl-params\n",
    "#| tbl-cap: Model parameters\n",
    "#| tbl-cap-location: top\n",
    "\n",
    "#prior_names = [p.name for p in get_all_priors()]\n",
    "#fixed_param_table = get_param_table(param_info, prior_names)\n",
    "#fixed_param_table\n",
    "#Markdown(fixed_param_table.to_markdown())\n"
   ]
  },
  {
   "cell_type": "markdown",
   "id": "4c9e224c",
   "metadata": {},
   "source": []
  }
 ],
 "metadata": {
  "kernelspec": {
   "display_name": "tbmodel310",
   "language": "python",
   "name": "python3"
  },
  "language_info": {
   "codemirror_mode": {
    "name": "ipython",
    "version": 3
   },
   "file_extension": ".py",
   "mimetype": "text/x-python",
   "name": "python",
   "nbconvert_exporter": "python",
   "pygments_lexer": "ipython3",
   "version": "3.10.16"
  }
 },
 "nbformat": 4,
 "nbformat_minor": 5
}
