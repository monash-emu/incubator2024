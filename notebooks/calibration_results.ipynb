{
 "cells": [
  {
   "cell_type": "code",
   "execution_count": null,
   "metadata": {},
   "outputs": [],
   "source": [
    "import pandas as pd\n",
    "\n",
    "from tb_incubator.constants import set_project_base_path, ImplementCDR\n",
    "from tb_incubator.input import load_param_info\n",
    "from tb_incubator.utils import load_full_param_info\n",
    "from tb_incubator.calibrate import tabulate_calib_results, plot_posterior_comparison\n",
    "\n",
    "import arviz as az\n",
    "az.style.use(\"arviz-doc\")\n",
    "import numpy as np\n",
    "\n",
    "pd.options.plotting.backend = \"plotly\"  \n",
    "project_paths = set_project_base_path(\"../tb_incubator/\")\n",
    "calib_out = project_paths[\"OUT_PATH\"]\n",
    "image_path = project_paths[\"IMAGE_PATH\"]\n",
    "out_path = project_paths[\"OUTPUTS\"]\n"
   ]
  },
  {
   "cell_type": "code",
   "execution_count": null,
   "metadata": {},
   "outputs": [],
   "source": [
    "params = load_param_info()\n",
    "params_full = load_full_param_info()"
   ]
  },
  {
   "cell_type": "code",
   "execution_count": null,
   "metadata": {},
   "outputs": [],
   "source": [
    "file_suffix = \"cdr_notif_25000d10000t_01nr\"\n",
    "idata = az.from_netcdf(calib_out / f'calib_full_out_{file_suffix}.nc')\n",
    "burnt_idata = idata.sel(draw=np.s_[2500:])"
   ]
  },
  {
   "cell_type": "markdown",
   "metadata": {},
   "source": [
    "### Parameter traces"
   ]
  },
  {
   "cell_type": "code",
   "execution_count": null,
   "metadata": {},
   "outputs": [],
   "source": [
    "#az.plot_trace(burnt_idata, figsize=(15, 22), compact=False, legend=False)"
   ]
  },
  {
   "cell_type": "markdown",
   "metadata": {},
   "source": [
    "### Comparison of parameter posteriors to priors"
   ]
  },
  {
   "cell_type": "code",
   "execution_count": null,
   "metadata": {},
   "outputs": [],
   "source": [
    "pp_comp = plot_posterior_comparison(burnt_idata, 0.995, covid_effects=True, xpert_improvement=True, apply_diagnostic_capacity=True,\n",
    "                                    apply_cdr=ImplementCDR.ON_NOTIFICATION,\n",
    "                                    color=\"cornflowerblue\", width=15, height=15, ncols=3)\n",
    "pp_comp.savefig(image_path / \"pp_comp.png\",dpi=300, format=\"png\")\n",
    "pp_comp"
   ]
  },
  {
   "cell_type": "code",
   "execution_count": null,
   "metadata": {},
   "outputs": [],
   "source": [
    "from IPython.display import Markdown\n",
    "results_table = tabulate_calib_results(burnt_idata, params_full)\n",
    "results_table.to_csv(out_path / 'results_table_calib.csv', index=True)\n",
    "results_table.columns = [f\"**{col}**\" for col in results_table.columns]\n",
    "Markdown(results_table.to_markdown())"
   ]
  },
  {
   "cell_type": "code",
   "execution_count": null,
   "metadata": {},
   "outputs": [],
   "source": []
  }
 ],
 "metadata": {
  "kernelspec": {
   "display_name": "tbmodel310",
   "language": "python",
   "name": "python3"
  },
  "language_info": {
   "codemirror_mode": {
    "name": "ipython",
    "version": 3
   },
   "file_extension": ".py",
   "mimetype": "text/x-python",
   "name": "python",
   "nbconvert_exporter": "python",
   "pygments_lexer": "ipython3",
   "version": "3.10.16"
  }
 },
 "nbformat": 4,
 "nbformat_minor": 2
}
