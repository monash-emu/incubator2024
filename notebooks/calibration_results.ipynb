{
 "cells": [
  {
   "cell_type": "code",
   "execution_count": 1,
   "metadata": {},
   "outputs": [],
   "source": [
    "import numpy as np\n",
    "import pandas as pd\n",
    "\n",
    "from tb_incubator.constants import set_project_base_path\n",
    "from tb_incubator.input import load_param_info\n",
    "from tb_incubator.calibrate import get_bcm, tabulate_calib_results, plot_posterior_comparison, plot_spaghetti_calib_comparison\n",
    "from tb_incubator.plotting import plot_model_vs_actual, display_plot\n",
    "import arviz as az\n",
    "\n",
    "\n",
    "#pd.options.plotting.backend = \"plotly\"  \n",
    "project_paths = set_project_base_path(\"../tb_incubator/\")\n",
    "calib_out = project_paths[\"OUT_PATH\"]\n"
   ]
  },
  {
   "cell_type": "code",
   "execution_count": 2,
   "metadata": {},
   "outputs": [],
   "source": [
    "params= load_param_info()[\"value\"]\n",
    "param_info = load_param_info()\n",
    "bcm = get_bcm(params, xpert_sensitivity=True, covid_effects=True)"
   ]
  },
  {
   "cell_type": "code",
   "execution_count": 3,
   "metadata": {},
   "outputs": [],
   "source": [
    "file_suffix = \"p06_54\"\n",
    "idata = az.from_netcdf(calib_out / f'calib_full_out_{file_suffix}.nc')"
   ]
  },
  {
   "cell_type": "code",
   "execution_count": 4,
   "metadata": {},
   "outputs": [],
   "source": [
    "likelihood_df = pd.read_hdf(calib_out / f'results_{file_suffix}.hdf', 'likelihood')\n",
    "ldf_sorted = likelihood_df.sort_values(by=\"logposterior\",ascending=False)\n",
    "map_params = idata.posterior.to_dataframe().loc[ldf_sorted.index[0]].to_dict()\n",
    "map_res = bcm.run(map_params)"
   ]
  },
  {
   "cell_type": "code",
   "execution_count": null,
   "metadata": {},
   "outputs": [],
   "source": [
    "map_params"
   ]
  },
  {
   "cell_type": "code",
   "execution_count": null,
   "metadata": {},
   "outputs": [],
   "source": [
    "az.plot_trace(idata, figsize=(15, 22), compact=False, legend=False)"
   ]
  },
  {
   "cell_type": "code",
   "execution_count": null,
   "metadata": {},
   "outputs": [],
   "source": [
    "from IPython.display import Markdown\n",
    "\n",
    "results_table = tabulate_calib_results(idata, param_info)\n",
    "Markdown(results_table.to_markdown())"
   ]
  },
  {
   "cell_type": "code",
   "execution_count": null,
   "metadata": {},
   "outputs": [],
   "source": [
    "plot_posterior_comparison(idata, 0.995)"
   ]
  },
  {
   "cell_type": "code",
   "execution_count": null,
   "metadata": {},
   "outputs": [],
   "source": [
    "variable = \"notification\"\n",
    "fig = plot_model_vs_actual(map_res.derived_outputs, \n",
    "                     np.exp(bcm.targets[\"notification_log\"].data),\n",
    "                     variable,\n",
    "                     variable,\n",
    "                     \"\",\n",
    "                     \"Target data\")\n",
    "fig.update_xaxes(range=[1998, 2024])"
   ]
  },
  {
   "cell_type": "code",
   "execution_count": null,
   "metadata": {},
   "outputs": [],
   "source": [
    "variable = \"prevalence\"\n",
    "fig = plot_model_vs_actual(map_res.derived_outputs, \n",
    "                     np.exp(bcm.targets[\"prevalence_log\"].data),\n",
    "                     variable,\n",
    "                     variable,\n",
    "                     \"\",\n",
    "                     \"Target data\")\n",
    "#fig.update_xaxes(range=[1998, 2023])\n",
    "fig"
   ]
  },
  {
   "cell_type": "code",
   "execution_count": null,
   "metadata": {},
   "outputs": [],
   "source": [
    "spaghetti = pd.read_hdf(calib_out / f'results_{file_suffix}.hdf', 'spaghetti')\n",
    "out_req = [\"notification_log\", \"prevalence_log\"]\n",
    "fig = plot_spaghetti_calib_comparison(spaghetti, out_req)\n",
    "fig\n",
    "\n",
    "#display_plot(fig, \"calib_spaghetti\", \"svg\")"
   ]
  },
  {
   "cell_type": "code",
   "execution_count": null,
   "metadata": {},
   "outputs": [],
   "source": [
    "fig.update_xaxes(range=[1998, 2024])\n",
    "#display_plot(fig, \"calib_spaghetti_2000\", \"svg\")"
   ]
  },
  {
   "cell_type": "code",
   "execution_count": null,
   "metadata": {},
   "outputs": [],
   "source": [
    "map_params"
   ]
  },
  {
   "cell_type": "code",
   "execution_count": null,
   "metadata": {},
   "outputs": [],
   "source": []
  }
 ],
 "metadata": {
  "kernelspec": {
   "display_name": "tbmodel",
   "language": "python",
   "name": "python3"
  },
  "language_info": {
   "codemirror_mode": {
    "name": "ipython",
    "version": 3
   },
   "file_extension": ".py",
   "mimetype": "text/x-python",
   "name": "python",
   "nbconvert_exporter": "python",
   "pygments_lexer": "ipython3",
   "version": "3.8.20"
  }
 },
 "nbformat": 4,
 "nbformat_minor": 2
}
