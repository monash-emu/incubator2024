{
 "cells": [
  {
   "cell_type": "code",
   "execution_count": null,
   "id": "0",
   "metadata": {},
   "outputs": [],
   "source": [
    "import pandas as pd\n",
    "pd.options.plotting.backend = \"plotly\"\n",
    "from summer2 import CompartmentalModel\n",
    "from summer2.parameters import Parameter, DerivedOutput"
   ]
  },
  {
   "cell_type": "code",
   "execution_count": null,
   "id": "1",
   "metadata": {},
   "outputs": [],
   "source": [
    "# Base model construction\n",
    "model_comps = [\"susceptible\", \"early latent\", \"late latent\", \"infectious\", \"recovered\"]\n",
    "model = CompartmentalModel(\n",
    "    times=[1850.0, 2024.0],\n",
    "    compartments=model_comps,\n",
    "    infectious_compartments=[\"infectious\"],\n",
    ")\n",
    "model.set_initial_population({\"susceptible\": 500.0, \"infectious\": 500.0})"
   ]
  },
  {
   "cell_type": "code",
   "execution_count": null,
   "id": "2",
   "metadata": {},
   "outputs": [],
   "source": [
    "# TB transitions\n",
    "model.add_death_flow(\"TB death\", Parameter(\"death rate\"), \"infectious\")\n",
    "model.add_transition_flow(\"silly_transition\", Parameter(\"silly rate\"), \"susceptible\", \"infectious\")"
   ]
  },
  {
   "cell_type": "code",
   "execution_count": null,
   "id": "3",
   "metadata": {},
   "outputs": [],
   "source": [
    "# Demographic transitions\n",
    "model.add_universal_death_flows(\"population_death\", Parameter(\"population death rate\"))\n",
    "model.add_replacement_birth_flow(\"replacement_birth\", \"susceptible\")"
   ]
  },
  {
   "cell_type": "code",
   "execution_count": null,
   "id": "4",
   "metadata": {},
   "outputs": [],
   "source": [
    "from summer2 import flows\n",
    "from summer2.model import _validate_flowparam\n",
    "from summer2.adjust import FlowParam\n",
    "from typing import Dict, Optional\n"
   ]
  },
  {
   "cell_type": "code",
   "execution_count": null,
   "id": "5",
   "metadata": {},
   "outputs": [],
   "source": [
    "def add_crude_birth_flow(\n",
    "    model,\n",
    "    name: str,\n",
    "    birth_rate: FlowParam,\n",
    "    dest: str,\n",
    "    dest_strata: Optional[Dict[str, str]] = None,\n",
    "    expected_flow_count: Optional[int] = None,\n",
    "):\n",
    "    _validate_flowparam(birth_rate)\n",
    "    model._add_entry_flow(\n",
    "        flows.CrudeBirthFlow,\n",
    "        name,\n",
    "        birth_rate,\n",
    "        dest,\n",
    "        dest_strata,\n",
    "        expected_flow_count,\n",
    "    )"
   ]
  },
  {
   "cell_type": "code",
   "execution_count": null,
   "id": "6",
   "metadata": {},
   "outputs": [],
   "source": [
    "add_crude_birth_flow(model, \"extra_birth\", Parameter(\"extra birth\"), \"susceptible\")"
   ]
  },
  {
   "cell_type": "code",
   "execution_count": null,
   "id": "7",
   "metadata": {},
   "outputs": [],
   "source": [
    "model.request_output_for_compartments(\"total_population\", model_comps);"
   ]
  },
  {
   "cell_type": "code",
   "execution_count": null,
   "id": "8",
   "metadata": {},
   "outputs": [],
   "source": [
    "params = {\n",
    "    \"silly rate\": 1.0,\n",
    "    \"extra birth\": 0.001,\n",
    "    \"death rate\": 0.1,\n",
    "    \"population death rate\": 0.01,\n",
    "}"
   ]
  },
  {
   "cell_type": "code",
   "execution_count": null,
   "id": "9",
   "metadata": {},
   "outputs": [],
   "source": [
    "model.run(params)"
   ]
  },
  {
   "cell_type": "code",
   "execution_count": null,
   "id": "10",
   "metadata": {},
   "outputs": [],
   "source": [
    "model.get_outputs_df().plot.area()"
   ]
  },
  {
   "cell_type": "code",
   "execution_count": null,
   "id": "11",
   "metadata": {},
   "outputs": [],
   "source": [
    "model.get_derived_outputs_df()"
   ]
  }
 ],
 "metadata": {
  "kernelspec": {
   "display_name": "Python 3 (ipykernel)",
   "language": "python",
   "name": "python3"
  },
  "language_info": {
   "codemirror_mode": {
    "name": "ipython",
    "version": 3
   },
   "file_extension": ".py",
   "mimetype": "text/x-python",
   "name": "python",
   "nbconvert_exporter": "python",
   "pygments_lexer": "ipython3",
   "version": "3.10.13"
  }
 },
 "nbformat": 4,
 "nbformat_minor": 5
}
