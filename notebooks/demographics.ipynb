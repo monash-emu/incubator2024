{
 "cells": [
  {
   "cell_type": "raw",
   "metadata": {
    "vscode": {
     "languageId": "raw"
    }
   },
   "source": [
    "---\n",
    "title: \"Demographic Model - Indonesia\"\n",
    "format: \n",
    "  pdf\n",
    "execute:\n",
    "  echo: false\n",
    "  warning: false\n",
    "jupyter: python3\n",
    "bibliography: tb_refs.bib\n",
    "csl: https://www.zotero.org/styles/the-lancet\n",
    "---"
   ]
  },
  {
   "cell_type": "code",
   "execution_count": null,
   "metadata": {},
   "outputs": [],
   "source": [
    "import pandas as pd\n",
    "import numpy as np\n",
    "from IPython.display import Markdown\n",
    "from plotly import graph_objects as go\n",
    "import plotly.express as px\n",
    "\n",
    "\n",
    "import tb_incubator.constants as const\n",
    "from tb_incubator.constants import set_project_base_path\n",
    "from tb_incubator.input import get_pop_death_data, get_death_rates\n",
    "from tb_incubator.model import build_model\n",
    "from tb_incubator.input import load_param_info\n",
    "from tb_incubator.plotting import display_plot\n",
    "\n",
    "pd.options.plotting.backend = \"plotly\"\n",
    "project_paths = set_project_base_path(\"../tb_incubator/\")"
   ]
  },
  {
   "cell_type": "markdown",
   "metadata": {},
   "source": [
    "## Population data"
   ]
  },
  {
   "cell_type": "markdown",
   "metadata": {},
   "source": [
    "We used estimates for the total population, deaths, and birth rate from the United Nations World Population Prospects [@unwpp2024]."
   ]
  },
  {
   "cell_type": "code",
   "execution_count": null,
   "metadata": {},
   "outputs": [],
   "source": [
    "# Load age-stratified, population and death data\n",
    "pop_death, description = get_pop_death_data()\n",
    "target_pops = pop_death.groupby(level=[0]).sum()[\"population\"]\n",
    "Markdown(description)"
   ]
  },
  {
   "cell_type": "markdown",
   "metadata": {},
   "source": [
    "## Model construction\n",
    "This is arbitrary, but including some epidemiological transitions in the background."
   ]
  },
  {
   "cell_type": "code",
   "execution_count": null,
   "metadata": {},
   "outputs": [],
   "source": [
    "compartments = const.COMPARTMENTS\n",
    "age_strata = const.AGE_STRATA\n",
    "covid_effects = {\n",
    "    'detection_reduction':True\n",
    "}"
   ]
  },
  {
   "cell_type": "code",
   "execution_count": null,
   "metadata": {},
   "outputs": [],
   "source": [
    "param_info = load_param_info()\n",
    "fixed_params = param_info[\"value\"]\n",
    "params = {\n",
    "    'base_diagnostic_capacity': 0.6759881242729308,\n",
    "    'contact_rate': 63.36486942195536,\n",
    "    'detection_reduction': 0.6006425343385974,\n",
    "    'genexpert_sensitivity': 0.9215736965003359,\n",
    "    'incidence_props_smear_positive_among_pulmonary': 0.590232769667581,\n",
    "    'initial_notif_rate': 0.4649436995023598,\n",
    "    'latest_notif_rate': 0.7915609033439653,\n",
    "    'rr_infection_latent': 0.17725105090258983,\n",
    "    'rr_infection_recovered': 0.5096458681008372,\n",
    "    'screening_inflection_time': 2013.3492360665543,\n",
    "    'screening_scaleup_shape': 0.08648392571375052,\n",
    "    'smear_negative_death_rate': 0.025911961086601855,\n",
    "    'smear_negative_self_recovery': 0.1399643939493157,\n",
    "    'smear_positive_death_rate': 0.42933478679483505,\n",
    "    'smear_positive_self_recovery': 0.24182351464224994,\n",
    "    'time_to_screening_end_asymp': 1.7890398328562447\n",
    "}\n",
    "\n",
    "fixed_params.update(params)\n",
    "model, desc = build_model(fixed_params, xpert_improvement=True, covid_effects=covid_effects)\n",
    "Markdown(desc)"
   ]
  },
  {
   "cell_type": "markdown",
   "metadata": {},
   "source": [
    "## Demographic results"
   ]
  },
  {
   "cell_type": "code",
   "execution_count": null,
   "metadata": {},
   "outputs": [],
   "source": [
    "# Run and inspect results\n",
    "file_prefix = \"ID\"\n",
    "model.run(fixed_params)\n",
    "\n",
    "df = model.get_derived_outputs_df()[[f\"total_populationXage_{age}\" for age in age_strata]]\n",
    "fig = px.area(df, x=df.index, y=[f\"total_populationXage_{age}\" for age in age_strata])\n",
    "fig.add_trace(go.Scatter(x=target_pops.index, y=target_pops, name=\"target\", mode=\"markers\", marker=dict(color=\"black\", size=2.0)))\n",
    "#display_plot(fig, f\"{file_prefix}_comp_size\", \"svg\")"
   ]
  },
  {
   "cell_type": "code",
   "execution_count": null,
   "metadata": {},
   "outputs": [],
   "source": []
  }
 ],
 "metadata": {
  "kernelspec": {
   "display_name": "tbmodel310",
   "language": "python",
   "name": "python3"
  },
  "language_info": {
   "codemirror_mode": {
    "name": "ipython",
    "version": 3
   },
   "file_extension": ".py",
   "mimetype": "text/x-python",
   "name": "python",
   "nbconvert_exporter": "python",
   "pygments_lexer": "ipython3",
   "version": "3.10.16"
  }
 },
 "nbformat": 4,
 "nbformat_minor": 4
}
