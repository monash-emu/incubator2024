{
 "cells": [
  {
   "cell_type": "code",
   "execution_count": null,
   "id": "0",
   "metadata": {},
   "outputs": [],
   "source": [
    "import numpy as np\n",
    "import pandas as pd\n",
    "from plotly import graph_objects as go\n",
    "import nevergrad as ng\n",
    "\n",
    "from estival.wrappers.nevergrad import optimize_model\n",
    "import estival.priors as esp\n",
    "import estival.targets as est\n",
    "from estival.model import BayesianCompartmentalModel\n",
    "from estival.wrappers import pymc as epm\n",
    "pd.options.plotting.backend = \"plotly\"\n",
    "from summer2 import CompartmentalModel\n",
    "from summer2.parameters import Parameter, DerivedOutput\n",
    "\n",
    "from tb_incubator.demographics import add_extra_crude_birth_flow"
   ]
  },
  {
   "cell_type": "code",
   "execution_count": null,
   "id": "1",
   "metadata": {},
   "outputs": [],
   "source": [
    "# Base model construction - also quite arbitrary\n",
    "model_comps = [\"susceptible\", \"early latent\", \"late latent\", \"infectious\", \"recovered\"]\n",
    "model_times = [1850.0, 2024.0]\n",
    "model = CompartmentalModel(\n",
    "    times=model_times,\n",
    "    compartments=model_comps,\n",
    "    infectious_compartments=[\"infectious\"],\n",
    ")\n",
    "init_pops = {\"susceptible\": Parameter(\"starting population\"), \"infectious\": 0.0}\n",
    "model.set_initial_population(init_pops)\n",
    "model.request_output_for_compartments(\"total_population\", model_comps);"
   ]
  },
  {
   "cell_type": "code",
   "execution_count": null,
   "id": "2",
   "metadata": {},
   "outputs": [],
   "source": [
    "# TB transitions, some meaningless TB-related flows\n",
    "model.add_death_flow(\"TB death\", Parameter(\"death rate\"), \"infectious\")\n",
    "model.add_transition_flow(\"silly_transition\", Parameter(\"silly transition rate\"), \"susceptible\", \"infectious\")"
   ]
  },
  {
   "cell_type": "code",
   "execution_count": null,
   "id": "3",
   "metadata": {},
   "outputs": [],
   "source": [
    "# Demographic transitions\n",
    "model.add_universal_death_flows(\"population_death\", Parameter(\"population death rate\"))\n",
    "model.add_replacement_birth_flow(\"replacement_birth\", \"susceptible\")\n",
    "add_extra_crude_birth_flow(model, \"extra_birth\", Parameter(\"population growth rate\"), \"susceptible\")"
   ]
  },
  {
   "cell_type": "code",
   "execution_count": null,
   "id": "4",
   "metadata": {},
   "outputs": [],
   "source": [
    "params = {\n",
    "    \"silly transition rate\": 1.0,\n",
    "    \"population growth rate\": 0.001,\n",
    "    \"death rate\": 0.1,\n",
    "    \"population death rate\": 0.01,\n",
    "    \"starting population\": 500.0,\n",
    "}"
   ]
  },
  {
   "cell_type": "code",
   "execution_count": null,
   "id": "5",
   "metadata": {},
   "outputs": [],
   "source": [
    "model.run(params)"
   ]
  },
  {
   "cell_type": "code",
   "execution_count": null,
   "id": "6",
   "metadata": {},
   "outputs": [],
   "source": [
    "model.get_outputs_df().plot.area()"
   ]
  },
  {
   "cell_type": "code",
   "execution_count": null,
   "id": "7",
   "metadata": {},
   "outputs": [],
   "source": [
    "outputs = model.get_derived_outputs_df()\n",
    "outputs[\"check\"] = params[\"starting population\"] * np.exp(np.arange(0.0, model_times[1] - model_times[0] + 1, 1.0) * params[\"population growth rate\"])\n",
    "outputs.plot()"
   ]
  },
  {
   "cell_type": "code",
   "execution_count": null,
   "id": "8",
   "metadata": {},
   "outputs": [],
   "source": [
    "# Prepare calibration model\n",
    "priors = [\n",
    "    esp.UniformPrior(\"population growth rate\", (0.0, 0.2)),\n",
    "    esp.UniformPrior(\"starting population\", (0.0, 20000.0)),\n",
    "]\n",
    "target_pops = pd.Series({\n",
    "    2010.0: 10000.0,\n",
    "    2015.0: 11000.0,\n",
    "})\n",
    "targets = [est.NegativeBinomialTarget(\"total_population\", target_pops, dispersion_param=100.0)]\n",
    "bcm = BayesianCompartmentalModel(model, params, priors, targets)"
   ]
  },
  {
   "cell_type": "code",
   "execution_count": null,
   "id": "9",
   "metadata": {},
   "outputs": [],
   "source": [
    "# Set up optimisation\n",
    "budget = 1000\n",
    "opt_class = ng.optimizers.NGOpt\n",
    "orunner = optimize_model(bcm, opt_class=opt_class, budget=budget)\n",
    "start_params = {\"population growth rate\": 0.1, \"starting population\": 500.0}\n",
    "orunner = optimize_model(bcm, opt_class=opt_class, suggested=start_params, init_method=\"midpoint\")"
   ]
  },
  {
   "cell_type": "code",
   "execution_count": null,
   "id": "10",
   "metadata": {},
   "outputs": [],
   "source": [
    "rec = orunner.minimize(budget)\n",
    "map_params = rec.value[1]\n",
    "print(\"Best candidate parameters:\")\n",
    "for i_param, param in enumerate(map_params):\n",
    "    print(f\"   {param}: {round(map_params[param], 4)} (within bound {priors[i_param].bounds()}\")"
   ]
  },
  {
   "cell_type": "code",
   "execution_count": null,
   "id": "11",
   "metadata": {},
   "outputs": [],
   "source": [
    "model.run(parameters=params | map_params)"
   ]
  },
  {
   "cell_type": "code",
   "execution_count": null,
   "id": "12",
   "metadata": {},
   "outputs": [],
   "source": [
    "outputs = model.get_derived_outputs_df()\n",
    "fig = go.Figure()\n",
    "fig.add_trace(go.Scatter(x=outputs.index, y=outputs[\"total_population\"], name=\"modelled\"))\n",
    "fig.add_trace(go.Scatter(x=target_pops.index, y=target_pops, name=\"target\", line={\"width\": 0.0}))\n",
    "fig.update_layout(yaxis={\"range\": [0.0, 15000.0]})"
   ]
  }
 ],
 "metadata": {
  "kernelspec": {
   "display_name": "Python 3 (ipykernel)",
   "language": "python",
   "name": "python3"
  },
  "language_info": {
   "codemirror_mode": {
    "name": "ipython",
    "version": 3
   },
   "file_extension": ".py",
   "mimetype": "text/x-python",
   "name": "python",
   "nbconvert_exporter": "python",
   "pygments_lexer": "ipython3",
   "version": "3.10.13"
  }
 },
 "nbformat": 4,
 "nbformat_minor": 5
}
