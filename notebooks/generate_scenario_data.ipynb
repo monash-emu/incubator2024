{
 "cells": [
  {
   "cell_type": "code",
   "execution_count": null,
   "metadata": {},
   "outputs": [],
   "source": [
    "import warnings\n",
    "warnings.filterwarnings(\"ignore\") \n",
    "import arviz as az\n",
    "import numpy as np\n",
    "import pandas as pd\n",
    "import pickle\n",
    "from typing import List, Dict, Any\n",
    "\n",
    "# Set Plotly as default plotting backend for pandas\n",
    "pd.options.plotting.backend = \"plotly\"  \n",
    "\n",
    "from tb_incubator.constants import set_project_base_path, ImplementCDR, QUANTILES\n",
    "from tb_incubator.scenario_utils import (\n",
    "    calculate_xpert_scenario_outputs,\n",
    "    calculate_detection_scenario_outputs,\n",
    "    calculate_acf_scenario_outputs,\n",
    "    calculate_tsr_scenario_outputs,\n",
    "    calculate_progressive_intervention_scenarios,\n",
    "    calculate_combined_scenario_diff_cum_quantiles\n",
    ")\n",
    "\n",
    "from tb_incubator.utils import create_periodic_time_series\n",
    "\n",
    "# Set project base path\n",
    "project_paths = set_project_base_path(\"../tb_incubator/\")\n"
   ]
  },
  {
   "cell_type": "code",
   "execution_count": null,
   "metadata": {},
   "outputs": [],
   "source": [
    "calib_out = project_paths[\"OUT_PATH\"]\n",
    "output_path = project_paths[\"OUTPUTS\"]\n",
    "file_suffix = \"cdr_notif_25000d10000t_01rs\""
   ]
  },
  {
   "cell_type": "code",
   "execution_count": null,
   "metadata": {},
   "outputs": [],
   "source": [
    "# extract data - only run for first time\n",
    "idata = az.from_netcdf(calib_out / f'calib_full_out_{file_suffix}.nc')"
   ]
  },
  {
   "cell_type": "code",
   "execution_count": null,
   "metadata": {},
   "outputs": [],
   "source": [
    "burnt_idata = idata.sel(draw=np.s_[5000:])\n",
    "idata_extract = az.extract(burnt_idata, num_samples=1000)\n",
    "inference_data = az.convert_to_inference_data(idata_extract.reset_index('sample'))\n",
    "az.to_netcdf(inference_data, calib_out / f'inference_data_{file_suffix}.nc')"
   ]
  },
  {
   "cell_type": "code",
   "execution_count": null,
   "metadata": {},
   "outputs": [],
   "source": [
    "# Load saved idata\n",
    "idata = az.from_netcdf(calib_out / f'inference_data_{file_suffix}.nc')"
   ]
  },
  {
   "cell_type": "code",
   "execution_count": null,
   "metadata": {},
   "outputs": [],
   "source": [
    "params = {\n",
    "    \"start_population_size\": 1.0,\n",
    "    \"seed_time\": 1805.0,\n",
    "    \"seed_num\": 1.0,\n",
    "    \"seed_duration\": 1.0,\n",
    "    \"acf_sensitivity\": 0.90\n",
    "}"
   ]
  },
  {
   "cell_type": "markdown",
   "metadata": {},
   "source": [
    "# Increase in Xpert utilisation (70% - 95%)"
   ]
  },
  {
   "cell_type": "code",
   "execution_count": null,
   "metadata": {},
   "outputs": [],
   "source": [
    "basecase_xpert = calculate_xpert_scenario_outputs(params, idata, covid_effects=True, apply_cdr=ImplementCDR.ON_NOTIFICATION,\n",
    "                                                  xpert_target_list=[0.7, 0.8, 0.95])\n",
    "with open(output_path / f'xpert_quant_outputs.pkl', 'wb') as f:\n",
    "     pickle.dump(basecase_xpert, f)"
   ]
  },
  {
   "cell_type": "markdown",
   "metadata": {},
   "source": [
    "# Increase in passive detection (2 - 5 fold increase)"
   ]
  },
  {
   "cell_type": "code",
   "execution_count": null,
   "metadata": {},
   "outputs": [],
   "source": [
    "basecase_detection = calculate_detection_scenario_outputs(params, idata, covid_effects=True, apply_cdr=ImplementCDR.ON_NOTIFICATION, \n",
    "                                                          detection_multiplier_list=[2.0, 3.0, 5.0])\n",
    "with open(output_path / f'detection_quant_outputs.pkl', 'wb') as f:\n",
    "     pickle.dump(basecase_detection, f)"
   ]
  },
  {
   "cell_type": "markdown",
   "metadata": {},
   "source": [
    "# Increase in treatment success rate (90% - 95%)"
   ]
  },
  {
   "cell_type": "code",
   "execution_count": null,
   "metadata": {},
   "outputs": [],
   "source": [
    "basecase_tsr = calculate_tsr_scenario_outputs(params, idata, covid_effects=True, apply_cdr=ImplementCDR.ON_NOTIFICATION, \n",
    "                                                          tsr_target_list=[0.90, 0.95])\n",
    "with open(output_path / f'tsr_quant_outputs.pkl', 'wb') as f:\n",
    "     pickle.dump(basecase_tsr, f)"
   ]
  },
  {
   "cell_type": "markdown",
   "metadata": {},
   "source": [
    "# ACF Implementation"
   ]
  },
  {
   "cell_type": "code",
   "execution_count": null,
   "metadata": {},
   "outputs": [],
   "source": [
    "percentages = [1, 5, 10, 20, 30, 40, 50, 60]\n",
    "acf_configs = {\n",
    "    f\"acf_{pct}\": create_periodic_time_series(2026., pct/100, 1.)\n",
    "    for pct in percentages\n",
    "}\n"
   ]
  },
  {
   "cell_type": "code",
   "execution_count": null,
   "metadata": {},
   "outputs": [],
   "source": [
    "basecase_acf = calculate_acf_scenario_outputs(params, idata, acf_rate_configs=acf_configs, frequency=None, covid_effects=True, apply_cdr=ImplementCDR.ON_NOTIFICATION)\n",
    "\n",
    "with open(output_path / f'acf_quant_outputs.pkl', 'wb') as f:\n",
    "     pickle.dump(basecase_acf, f)"
   ]
  },
  {
   "cell_type": "markdown",
   "metadata": {},
   "source": [
    "# Combinations"
   ]
  },
  {
   "cell_type": "markdown",
   "metadata": {},
   "source": [
    "## Progressive scenario"
   ]
  },
  {
   "cell_type": "code",
   "execution_count": null,
   "metadata": {},
   "outputs": [],
   "source": [
    "periodic_acf = create_periodic_time_series(2026.0, 0.6, 1.0)\n",
    "\n",
    "model_configs = {\n",
    "    'xpert': {\n",
    "        'xpert_util_target': 0.95,\n",
    "        'tsr_target': None,\n",
    "        'improved_detection_multiplier': None,\n",
    "        'acf_screening_rate': None,\n",
    "    },\n",
    "    'xpert_tsr': {\n",
    "        'xpert_util_target': 0.95,\n",
    "        'tsr_target': 0.95,\n",
    "        'improved_detection_multiplier': None,\n",
    "        'acf_screening_rate': None,\n",
    "    },\n",
    "    'xpert_tsr_detect': {\n",
    "        'xpert_util_target': 0.95,\n",
    "        'tsr_target': 0.95,\n",
    "        'improved_detection_multiplier': 5.,\n",
    "        'acf_screening_rate': None,\n",
    "    },\n",
    "    'xpert_tsr_detect_acf': {\n",
    "        'xpert_util_target': 0.95,\n",
    "        'tsr_target': 0.95,\n",
    "        'improved_detection_multiplier': 3.,\n",
    "        'acf_screening_rate': periodic_acf,\n",
    "    },\n",
    "}"
   ]
  },
  {
   "cell_type": "code",
   "execution_count": null,
   "metadata": {},
   "outputs": [],
   "source": [
    "progressive_scenario_best = calculate_progressive_intervention_scenarios(params, idata, covid_effects=True,\n",
    "                                                                    apply_cdr=ImplementCDR.ON_NOTIFICATION, \n",
    "                                                                    xpert_util_target=0.95,\n",
    "                                                                    tsr_target=0.95,\n",
    "                                                                    improved_detection_multiplier=5.,\n",
    "                                                                    acf_frequency=1.,\n",
    "                                                                    acf_rate=0.6, baseline_year=2026.0)"
   ]
  },
  {
   "cell_type": "code",
   "execution_count": null,
   "metadata": {},
   "outputs": [],
   "source": [
    "with open(output_path / f'progressive_quant_outputs.pkl', 'wb') as f:\n",
    "     pickle.dump(progressive_scenario_best, f)"
   ]
  },
  {
   "cell_type": "code",
   "execution_count": null,
   "metadata": {},
   "outputs": [],
   "source": [
    "progressive_scenario_low = calculate_progressive_intervention_scenarios(params, idata, covid_effects=True,\n",
    "                                                                    apply_cdr=ImplementCDR.ON_NOTIFICATION, \n",
    "                                                                    xpert_util_target=0.70,\n",
    "                                                                    tsr_target=0.90,\n",
    "                                                                    improved_detection_multiplier=2.,\n",
    "                                                                    acf_frequency=1.,\n",
    "                                                                    acf_rate=0.01)"
   ]
  },
  {
   "cell_type": "code",
   "execution_count": null,
   "metadata": {},
   "outputs": [],
   "source": [
    "with open(output_path / f'progressive_quant_outputs_low.pkl', 'wb') as f:\n",
    "     pickle.dump(progressive_scenario_low, f)"
   ]
  },
  {
   "cell_type": "code",
   "execution_count": null,
   "metadata": {},
   "outputs": [],
   "source": [
    "progressive_scenario_mid = calculate_progressive_intervention_scenarios(params, idata, covid_effects=True,\n",
    "                                                                    apply_cdr=ImplementCDR.ON_NOTIFICATION, \n",
    "                                                                    xpert_util_target=0.80,\n",
    "                                                                    tsr_target=0.90,\n",
    "                                                                    improved_detection_multiplier=3.,\n",
    "                                                                    acf_frequency=1.,\n",
    "                                                                    acf_rate=0.30)"
   ]
  },
  {
   "cell_type": "code",
   "execution_count": null,
   "metadata": {},
   "outputs": [],
   "source": [
    "with open(output_path / f'progressive_quant_outputs_mid.pkl', 'wb') as f:\n",
    "     pickle.dump(progressive_scenario_mid, f)"
   ]
  },
  {
   "cell_type": "code",
   "execution_count": null,
   "metadata": {},
   "outputs": [],
   "source": [
    "progressive_scenario_oth = calculate_progressive_intervention_scenarios(params, idata, covid_effects=True,\n",
    "                                                                    apply_cdr=ImplementCDR.ON_NOTIFICATION, \n",
    "                                                                    xpert_util_target=0.70,\n",
    "                                                                    tsr_target=0.90,\n",
    "                                                                    improved_detection_multiplier=5.,\n",
    "                                                                    acf_frequency=1.,\n",
    "                                                                    acf_rate=0.30)"
   ]
  },
  {
   "cell_type": "code",
   "execution_count": null,
   "metadata": {},
   "outputs": [],
   "source": [
    "with open(output_path / f'progressive_quant_outputs_oth.pkl', 'wb') as f:\n",
    "     pickle.dump(progressive_scenario_oth, f)"
   ]
  },
  {
   "cell_type": "markdown",
   "metadata": {},
   "source": [
    "## Cumulative-progressive"
   ]
  },
  {
   "cell_type": "code",
   "execution_count": null,
   "metadata": {},
   "outputs": [],
   "source": [
    "periodic_acf = create_periodic_time_series(2026.0, 0.30, 1.)\n",
    "\n",
    "model_configs = {\n",
    "    'acf': {\n",
    "        'xpert_util_target': None,\n",
    "        'tsr_target': None,\n",
    "        'improved_detection_multiplier': None,\n",
    "        'acf_screening_rate': periodic_acf,\n",
    "    },\n",
    "    'acf_xpert': {\n",
    "        'xpert_util_target': 0.70,\n",
    "        'tsr_target': None,\n",
    "        'improved_detection_multiplier': None,\n",
    "        'acf_screening_rate': periodic_acf,\n",
    "    },\n",
    "    'acf_xpert_tsr': {\n",
    "        'xpert_util_target': 0.70,\n",
    "        'tsr_target': 0.90,\n",
    "        'improved_detection_multiplier': None,\n",
    "        'acf_screening_rate': periodic_acf,\n",
    "    },\n",
    "    'acf_xpert_tsr_detect': {\n",
    "        'xpert_util_target': 0.70,\n",
    "        'tsr_target': 0.90,\n",
    "        'improved_detection_multiplier': 5.,\n",
    "        'acf_screening_rate': periodic_acf,\n",
    "    },\n",
    "}"
   ]
  },
  {
   "cell_type": "code",
   "execution_count": null,
   "metadata": {},
   "outputs": [],
   "source": [
    "cumul_scenario2 = calculate_combined_scenario_diff_cum_quantiles(params, idata, model_configs, apply_diagnostic_capacity=True, cumulative_start_time=2025, year=2029.0)\n",
    "with open(output_path / f'cumul_progress2.pkl', 'wb') as f:\n",
    "     pickle.dump(cumul_scenario2, f)"
   ]
  },
  {
   "cell_type": "code",
   "execution_count": null,
   "metadata": {},
   "outputs": [],
   "source": []
  }
 ],
 "metadata": {
  "kernelspec": {
   "display_name": "tbmodel310",
   "language": "python",
   "name": "python3"
  },
  "language_info": {
   "codemirror_mode": {
    "name": "ipython",
    "version": 3
   },
   "file_extension": ".py",
   "mimetype": "text/x-python",
   "name": "python",
   "nbconvert_exporter": "python",
   "pygments_lexer": "ipython3",
   "version": "3.10.16"
  }
 },
 "nbformat": 4,
 "nbformat_minor": 2
}
