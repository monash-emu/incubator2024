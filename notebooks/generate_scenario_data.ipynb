{
 "cells": [
  {
   "cell_type": "code",
   "execution_count": null,
   "metadata": {},
   "outputs": [],
   "source": [
    "import warnings\n",
    "warnings.filterwarnings(\"ignore\") \n",
    "import arviz as az\n",
    "import numpy as np\n",
    "import pandas as pd\n",
    "import pickle\n",
    "\n",
    "# Set Plotly as default plotting backend for pandas\n",
    "pd.options.plotting.backend = \"plotly\"  \n",
    "\n",
    "\n",
    "from tb_incubator.input import load_param_info\n",
    "from tb_incubator.constants import set_project_base_path\n",
    "from tb_incubator.calibrate import (\n",
    "    calculate_xpert_scenario_outputs,\n",
    "    calculate_detection_scenario_outputs,\n",
    "    calculate_combined_detection_xpert_outputs,\n",
    "    calculate_acf_scenario_outputs,\n",
    "    calculate_combined_xpert_acf_scenario_outputs,\n",
    ")\n",
    "\n",
    "# Set project base path\n",
    "project_paths = set_project_base_path(\"../tb_incubator/\")\n"
   ]
  },
  {
   "cell_type": "code",
   "execution_count": null,
   "metadata": {},
   "outputs": [],
   "source": [
    "calib_out = project_paths[\"OUT_PATH\"]\n",
    "output_path = project_paths[\"OUTPUTS\"]\n",
    "file_suffix = \"xpert_utilisation_improvement_p17_96\""
   ]
  },
  {
   "cell_type": "code",
   "execution_count": null,
   "metadata": {},
   "outputs": [],
   "source": [
    "# extract data - only run for first time\n",
    "idata = az.from_netcdf(calib_out / f'calib_full_out_{file_suffix}.nc')"
   ]
  },
  {
   "cell_type": "code",
   "execution_count": null,
   "metadata": {},
   "outputs": [],
   "source": [
    "burnt_idata = idata.sel(draw=np.s_[2500:])\n",
    "idata_extract = az.extract(burnt_idata, num_samples=1000)\n",
    "inference_data = az.convert_to_inference_data(idata_extract.reset_index('sample'))\n",
    "az.to_netcdf(inference_data, calib_out / f'inference_data_{file_suffix}.nc')"
   ]
  },
  {
   "cell_type": "code",
   "execution_count": null,
   "metadata": {},
   "outputs": [],
   "source": [
    "# Load saved idata\n",
    "idata = az.from_netcdf(calib_out / f'inference_data_{file_suffix}.nc')"
   ]
  },
  {
   "cell_type": "code",
   "execution_count": null,
   "metadata": {},
   "outputs": [],
   "source": [
    "param_info = load_param_info()\n",
    "fixed_params = param_info[\"value\"]\n",
    "covid_effects = {\n",
    "    'detection_reduction':True\n",
    "}"
   ]
  },
  {
   "cell_type": "code",
   "execution_count": null,
   "metadata": {},
   "outputs": [],
   "source": [
    "basecase_xpert = calculate_xpert_scenario_outputs(fixed_params, idata, covid_effects=covid_effects)\n",
    "with open(output_path / f'xpert_quant_outputs.pkl', 'wb') as f:\n",
    "     pickle.dump(basecase_xpert, f)"
   ]
  },
  {
   "cell_type": "code",
   "execution_count": null,
   "metadata": {},
   "outputs": [],
   "source": [
    "basecase_detection = calculate_detection_scenario_outputs(fixed_params, idata, covid_effects=covid_effects)\n",
    "with open(output_path / f'detection_quant_outputs.pkl', 'wb') as f:\n",
    "     pickle.dump(basecase_detection, f)"
   ]
  },
  {
   "cell_type": "code",
   "execution_count": null,
   "metadata": {},
   "outputs": [],
   "source": [
    "basecase_combined = calculate_combined_detection_xpert_outputs(fixed_params, idata, covid_effects=covid_effects)\n",
    "with open(output_path / f'combined_quant_outputs.pkl', 'wb') as f:\n",
    "     pickle.dump(basecase_combined, f)"
   ]
  },
  {
   "cell_type": "code",
   "execution_count": null,
   "metadata": {},
   "outputs": [],
   "source": [
    "percentages = [5, 10, 20, 30, 40, 50, 60, 70, 80]  \n",
    "acf_configs = {\n",
    "    f\"acf_{pct}\": {\n",
    "        2026.0: 0.0,\n",
    "        2026.01: round(float(-np.log(1 - pct/100)), 2),\n",
    "        2027.0: round(float(-np.log(1 - pct/100)), 2),\n",
    "        2027.01: 0.0\n",
    "    }\n",
    "    for pct in percentages\n",
    "}"
   ]
  },
  {
   "cell_type": "code",
   "execution_count": null,
   "metadata": {},
   "outputs": [],
   "source": [
    "basecase_acf = calculate_acf_scenario_outputs(fixed_params, idata, acf_rate_configs=acf_configs, frequency=None, covid_effects=covid_effects)"
   ]
  },
  {
   "cell_type": "code",
   "execution_count": null,
   "metadata": {},
   "outputs": [],
   "source": [
    "with open(output_path / f'acf_quant_outputs.pkl', 'wb') as f:\n",
    "     pickle.dump(basecase_acf, f)"
   ]
  },
  {
   "cell_type": "code",
   "execution_count": null,
   "metadata": {},
   "outputs": [],
   "source": [
    "acf_outputs = {}\n",
    "for coverage in [0.2, 0.4, 0.8]:\n",
    "    rate = -np.log(1 - coverage)\n",
    "    acf_outputs[coverage] = calculate_acf_scenario_outputs(\n",
    "        fixed_params, idata, covid_effects=covid_effects, acf_rate=rate\n",
    "    )\n"
   ]
  },
  {
   "cell_type": "code",
   "execution_count": null,
   "metadata": {},
   "outputs": [],
   "source": [
    "with open(output_path / f'acf_freq_quant_outputs.pkl', 'wb') as f:\n",
    "     pickle.dump(acf_outputs, f)"
   ]
  },
  {
   "cell_type": "code",
   "execution_count": null,
   "metadata": {},
   "outputs": [],
   "source": [
    "basecase_combined_acf_xpert = calculate_combined_xpert_acf_scenario_outputs(\n",
    "    fixed_params,\n",
    "    idata,\n",
    "    covid_effects=covid_effects,\n",
    "    acf_rate_configs=acf_configs\n",
    ")"
   ]
  },
  {
   "cell_type": "code",
   "execution_count": null,
   "metadata": {},
   "outputs": [],
   "source": [
    "with open(output_path / f'comb_acf_xpert_quant_outputs.pkl', 'wb') as f:\n",
    "     pickle.dump(basecase_combined_acf_xpert, f)"
   ]
  },
  {
   "cell_type": "code",
   "execution_count": null,
   "metadata": {},
   "outputs": [],
   "source": []
  }
 ],
 "metadata": {
  "kernelspec": {
   "display_name": "tbmodel310",
   "language": "python",
   "name": "python3"
  },
  "language_info": {
   "codemirror_mode": {
    "name": "ipython",
    "version": 3
   },
   "file_extension": ".py",
   "mimetype": "text/x-python",
   "name": "python",
   "nbconvert_exporter": "python",
   "pygments_lexer": "ipython3",
   "version": "3.10.16"
  }
 },
 "nbformat": 4,
 "nbformat_minor": 2
}
