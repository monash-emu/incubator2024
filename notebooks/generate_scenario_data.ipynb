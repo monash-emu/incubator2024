{
 "cells": [
  {
   "cell_type": "code",
   "execution_count": null,
   "metadata": {},
   "outputs": [],
   "source": [
    "import warnings\n",
    "\n",
    "warnings.filterwarnings(\"ignore\")\n",
    "import arviz as az\n",
    "import numpy as np\n",
    "import pandas as pd\n",
    "from tb_incubator.input import load_param_info\n",
    "from tb_incubator.constants import set_project_base_path\n",
    "from tb_incubator.calibrate import calculate_xpert_scenario_outputs, calculate_detection_scenario_outputs, calculate_outputs_for_covid\n",
    "import pickle\n",
    "\n",
    "pd.options.plotting.backend = \"plotly\"  \n",
    "project_paths = set_project_base_path(\"../tb_incubator/\")"
   ]
  },
  {
   "cell_type": "code",
   "execution_count": null,
   "metadata": {},
   "outputs": [],
   "source": [
    "calib_out = project_paths[\"OUT_PATH\"]\n",
    "output_path = project_paths[\"OUTPUTS\"]\n",
    "file_suffix = \"xpert_utilisation_improvement_p17_96\""
   ]
  },
  {
   "cell_type": "code",
   "execution_count": null,
   "metadata": {},
   "outputs": [],
   "source": [
    "# extract data - only run for first time\n",
    "idata = az.from_netcdf(calib_out / f'calib_full_out_{file_suffix}.nc')"
   ]
  },
  {
   "cell_type": "code",
   "execution_count": null,
   "metadata": {},
   "outputs": [],
   "source": [
    "burnt_idata = idata.sel(draw=np.s_[2500:])\n",
    "idata_extract = az.extract(burnt_idata, num_samples=1000)\n",
    "inference_data = az.convert_to_inference_data(idata_extract.reset_index('sample'))\n",
    "az.to_netcdf(inference_data, calib_out / f'inference_data_{file_suffix}.nc')"
   ]
  },
  {
   "cell_type": "code",
   "execution_count": null,
   "metadata": {},
   "outputs": [],
   "source": [
    "# Load saved idata\n",
    "idata = az.from_netcdf(calib_out / f'inference_data_{file_suffix}.nc')"
   ]
  },
  {
   "cell_type": "code",
   "execution_count": null,
   "metadata": {},
   "outputs": [],
   "source": [
    "param_info = load_param_info()\n",
    "fixed_params = param_info[\"value\"]\n",
    "covid_effects = {\n",
    "    'detection_reduction':True\n",
    "}"
   ]
  },
  {
   "cell_type": "code",
   "execution_count": null,
   "metadata": {},
   "outputs": [],
   "source": [
    "basecase_xpert = calculate_xpert_scenario_outputs(fixed_params, idata, covid_effects=covid_effects)\n",
    "with open(output_path / f'xpert_quant_outputs.pkl', 'wb') as f:\n",
    "     pickle.dump(basecase_xpert, f)"
   ]
  },
  {
   "cell_type": "code",
   "execution_count": null,
   "metadata": {},
   "outputs": [],
   "source": [
    "basecase_detection = calculate_detection_scenario_outputs(fixed_params, idata, covid_effects=covid_effects)\n",
    "with open(output_path / f'detection_quant_outputs.pkl', 'wb') as f:\n",
    "     pickle.dump(basecase_detection, f)"
   ]
  }
 ],
 "metadata": {
  "kernelspec": {
   "display_name": "tbmodel310",
   "language": "python",
   "name": "python3"
  },
  "language_info": {
   "codemirror_mode": {
    "name": "ipython",
    "version": 3
   },
   "file_extension": ".py",
   "mimetype": "text/x-python",
   "name": "python",
   "nbconvert_exporter": "python",
   "pygments_lexer": "ipython3",
   "version": "3.10.16"
  }
 },
 "nbformat": 4,
 "nbformat_minor": 2
}
