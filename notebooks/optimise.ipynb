{
 "cells": [
  {
   "cell_type": "code",
   "execution_count": null,
   "metadata": {},
   "outputs": [],
   "source": [
    "import pandas as pd\n",
    "from estival.wrappers.nevergrad import optimize_model\n",
    "from tb_incubator.plotting import plot_model_vs_actual\n",
    "from tb_incubator.input import load_targets, load_param_info\n",
    "from tb_incubator.calibrate import get_bcm\n",
    "from tb_incubator.constants import ImplementCDR\n",
    "from multiprocessing import cpu_count\n",
    "pd.options.plotting.backend = \"plotly\""
   ]
  },
  {
   "cell_type": "code",
   "execution_count": null,
   "metadata": {},
   "outputs": [],
   "source": [
    "fixed_params = load_param_info()\n",
    "all_targets = load_targets()\n",
    "params = {\n",
    "    'start_population_size': 1.0,\n",
    "    \"seed_time\": 1805.0,\n",
    "    \"seed_num\": 1.0,\n",
    "    \"seed_duration\": 1.0\n",
    "}\n",
    "bcm = get_bcm(params, covid_effects=True, xpert_improvement=True, apply_cdr=ImplementCDR.ON_NOTIFICATION, apply_diagnostic_capacity=True)"
   ]
  },
  {
   "cell_type": "code",
   "execution_count": null,
   "metadata": {},
   "outputs": [],
   "source": [
    "def calibrate_model_with_optimisation(bcm):\n",
    "    \"\"\"\n",
    "    This function performs a model calibration using optimisation. \n",
    "    Calibration is performed using the estival package, which implements a wrapper for optimisation methods provided by the nevergrad package. \n",
    "\n",
    "    Args:\n",
    "        bcm: the calibration model object (type BayesianCompartmentalModel) \n",
    "    \"\"\"\n",
    "\n",
    "    from nevergrad.optimization.differentialevolution import TwoPointsDE\n",
    "    orunner = optimize_model(bcm, opt_class=TwoPointsDE, num_workers=cpu_count(), budget=4000)\n",
    "    rec = orunner.minimize(4000)\n",
    "    optimised_params = rec.value[1]    \n",
    "   \n",
    "    return optimised_params"
   ]
  },
  {
   "cell_type": "code",
   "execution_count": null,
   "metadata": {},
   "outputs": [],
   "source": [
    "optimised_params = calibrate_model_with_optimisation(bcm)"
   ]
  },
  {
   "cell_type": "code",
   "execution_count": null,
   "metadata": {},
   "outputs": [],
   "source": [
    "optimised_params"
   ]
  },
  {
   "cell_type": "code",
   "execution_count": null,
   "metadata": {},
   "outputs": [],
   "source": [
    "# run the model with the optimised parameter set\n",
    "res = bcm.run(optimised_params)\n",
    "outs = res.derived_outputs"
   ]
  },
  {
   "cell_type": "markdown",
   "metadata": {},
   "source": [
    "### Results"
   ]
  },
  {
   "cell_type": "code",
   "execution_count": null,
   "metadata": {},
   "outputs": [],
   "source": [
    "fig = plot_model_vs_actual(\n",
    "    outs, all_targets['notification'], \"notification\", \"Notification\", \"Modelled vs Data\", \"Target data\"\n",
    ")\n",
    "fig.update_xaxes(range=[2010, 2035])\n",
    "#display_plot(fig, \"genexpert_2points_notif\")"
   ]
  },
  {
   "cell_type": "code",
   "execution_count": null,
   "metadata": {},
   "outputs": [],
   "source": [
    "fig = plot_model_vs_actual(\n",
    "    outs, all_targets['adults_prevalence_pulmonary_target'], \"adults_prevalence_pulmonary\", \"Prevalence (Adult, Pulmonary)\", \"Modelled vs Data\", \"Target data\"\n",
    ")\n",
    "fig.update_xaxes(range=[2010, 2035])"
   ]
  },
  {
   "cell_type": "code",
   "execution_count": null,
   "metadata": {},
   "outputs": [],
   "source": []
  }
 ],
 "metadata": {
  "kernelspec": {
   "display_name": "tbmodel310",
   "language": "python",
   "name": "python3"
  },
  "language_info": {
   "codemirror_mode": {
    "name": "ipython",
    "version": 3
   },
   "file_extension": ".py",
   "mimetype": "text/x-python",
   "name": "python",
   "nbconvert_exporter": "python",
   "pygments_lexer": "ipython3",
   "version": "3.10.16"
  }
 },
 "nbformat": 4,
 "nbformat_minor": 2
}
