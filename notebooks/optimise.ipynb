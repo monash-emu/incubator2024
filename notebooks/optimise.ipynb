{
 "cells": [
  {
   "cell_type": "code",
   "execution_count": null,
   "metadata": {},
   "outputs": [],
   "source": [
    "import pandas as pd\n",
    "\n",
    "from estival.wrappers.nevergrad import optimize_model\n",
    "\n",
    "from tb_incubator.plotting import plot_model_vs_actual, display_plot\n",
    "from tb_incubator.input import load_targets, load_param_info\n",
    "from tb_incubator.calibrate import get_bcm\n",
    "\n",
    "from multiprocessing import cpu_count\n",
    "pd.options.plotting.backend = \"plotly\""
   ]
  },
  {
   "cell_type": "code",
   "execution_count": null,
   "metadata": {},
   "outputs": [],
   "source": [
    "fixed_params = load_param_info()[\"value\"]\n",
    "#params = {\n",
    "#    \"screening_scaleup_shape\": 0.05,\n",
    "#    \"screening_inflection_time\": 2006.0\n",
    "#}\n",
    "#fixed_params.update(params)\n",
    "all_targets = load_targets()\n",
    "file_prefix = \"opt3\"\n",
    "covid_effects = {\n",
    "    'detection_reduction':True,\n",
    "    #'post_covid_improvement': True\n",
    "}\n",
    "bcm = get_bcm(fixed_params, xpert_improvement=True, covid_effects=covid_effects)"
   ]
  },
  {
   "cell_type": "code",
   "execution_count": null,
   "metadata": {},
   "outputs": [],
   "source": [
    "def calibrate_model_with_optimisation(bcm):\n",
    "    \"\"\"\n",
    "    This function performs a model calibration using optimisation. \n",
    "    Calibration is performed using the estival package, which implements a wrapper for optimisation methods provided by the nevergrad package. \n",
    "\n",
    "    Args:\n",
    "        bcm: the calibration model object (type BayesianCompartmentalModel) \n",
    "    \"\"\"\n",
    "\n",
    "    from nevergrad.optimization.differentialevolution import TwoPointsDE\n",
    "    orunner = optimize_model(bcm, opt_class=TwoPointsDE, num_workers=cpu_count(), budget=4000)\n",
    "    rec = orunner.minimize(4000)\n",
    "    optimised_params = rec.value[1]    \n",
    "   \n",
    "    return optimised_params"
   ]
  },
  {
   "cell_type": "code",
   "execution_count": null,
   "metadata": {},
   "outputs": [],
   "source": [
    "optimised_params = calibrate_model_with_optimisation(bcm)\n",
    "optimised_params"
   ]
  },
  {
   "cell_type": "code",
   "execution_count": null,
   "metadata": {},
   "outputs": [],
   "source": [
    "# run the modle with the optimised parameter set\n",
    "res = bcm.run(optimised_params)\n",
    "outs = res.derived_outputs"
   ]
  },
  {
   "cell_type": "markdown",
   "metadata": {},
   "source": [
    "### Results"
   ]
  },
  {
   "cell_type": "code",
   "execution_count": null,
   "metadata": {},
   "outputs": [],
   "source": [
    "fig = plot_model_vs_actual(\n",
    "    outs, all_targets['notification'], \"notification\", \"Notification\", \"Modelled vs Data\", \"Actual data\"\n",
    ")\n",
    "fig.update_xaxes(range=[1950, 2035])\n"
   ]
  },
  {
   "cell_type": "code",
   "execution_count": null,
   "metadata": {},
   "outputs": [],
   "source": [
    "fig = plot_model_vs_actual(\n",
    "    outs, all_targets['prevalence'], \"prevalence\", \"Prevalence\", \"Modelled vs Data\", \"Actual data\"\n",
    ")\n",
    "fig.update_xaxes(range=[1970, 2035])"
   ]
  },
  {
   "cell_type": "code",
   "execution_count": null,
   "metadata": {},
   "outputs": [],
   "source": []
  },
  {
   "cell_type": "code",
   "execution_count": null,
   "metadata": {},
   "outputs": [],
   "source": []
  }
 ],
 "metadata": {
  "kernelspec": {
   "display_name": "tbmodel310",
   "language": "python",
   "name": "python3"
  },
  "language_info": {
   "codemirror_mode": {
    "name": "ipython",
    "version": 3
   },
   "file_extension": ".py",
   "mimetype": "text/x-python",
   "name": "python",
   "nbconvert_exporter": "python",
   "pygments_lexer": "ipython3",
   "version": "3.10.16"
  }
 },
 "nbformat": 4,
 "nbformat_minor": 2
}
