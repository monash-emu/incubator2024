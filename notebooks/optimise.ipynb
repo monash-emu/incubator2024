{
 "cells": [
  {
   "cell_type": "raw",
   "metadata": {
    "vscode": {
     "languageId": "raw"
    }
   },
   "source": [
    "---\n",
    "title: \"TB model for Indonesia, optimisation\"\n",
    "format: \n",
    "  html:\n",
    "    theme: cosmo\n",
    "execute:\n",
    "  echo: false\n",
    "  warning: false\n",
    "jupyter: python3\n",
    "bibliography: ../supplementary/tb_refs.bib\n",
    "csl: https://www.zotero.org/styles/the-lancet\n",
    "---"
   ]
  },
  {
   "cell_type": "markdown",
   "metadata": {},
   "source": [
    "### Model configuration:\n",
    "\n",
    "- Detection scale-up function is multiplied by base diagnostic capacity\n",
    "- GeneXpert utilization improvement is implemented\n",
    "- COVID-related detection reduction is incorporated into the model\n",
    "- For proportion of reported cases, two time points (2017 and 2023) are used with calibrated values for each time point"
   ]
  },
  {
   "cell_type": "code",
   "execution_count": null,
   "metadata": {},
   "outputs": [],
   "source": [
    "import pandas as pd\n",
    "from estival.wrappers.nevergrad import optimize_model\n",
    "from tb_incubator.plotting import plot_model_vs_actual, display_plot, plot_tracked_outputs\n",
    "from tb_incubator.input import load_targets, load_param_info\n",
    "from tb_incubator.calibrate import get_bcm\n",
    "from tb_incubator.utils import get_param_table, dict_to_markdown_table\n",
    "from multiprocessing import cpu_count\n",
    "pd.options.plotting.backend = \"plotly\""
   ]
  },
  {
   "cell_type": "code",
   "execution_count": null,
   "metadata": {},
   "outputs": [],
   "source": [
    "fixed_params = load_param_info()[\"value\"]\n",
    "param_info = load_param_info()\n",
    "all_targets = load_targets()\n",
    "covid_effects = {\n",
    "    'detection_reduction':True\n",
    "}\n",
    "bcm = get_bcm(fixed_params, xpert_improvement=True, covid_effects=covid_effects)"
   ]
  },
  {
   "cell_type": "code",
   "execution_count": null,
   "metadata": {},
   "outputs": [],
   "source": [
    "def calibrate_model_with_optimisation(bcm):\n",
    "    \"\"\"\n",
    "    This function performs a model calibration using optimisation. \n",
    "    Calibration is performed using the estival package, which implements a wrapper for optimisation methods provided by the nevergrad package. \n",
    "\n",
    "    Args:\n",
    "        bcm: the calibration model object (type BayesianCompartmentalModel) \n",
    "    \"\"\"\n",
    "\n",
    "    from nevergrad.optimization.differentialevolution import TwoPointsDE\n",
    "    orunner = optimize_model(bcm, opt_class=TwoPointsDE, num_workers=cpu_count(), budget=4000)\n",
    "    rec = orunner.minimize(4000)\n",
    "    optimised_params = rec.value[1]    \n",
    "   \n",
    "    return optimised_params"
   ]
  },
  {
   "cell_type": "code",
   "execution_count": null,
   "metadata": {},
   "outputs": [],
   "source": [
    "optimised_params = calibrate_model_with_optimisation(bcm)\n",
    "#optimised_params"
   ]
  },
  {
   "cell_type": "code",
   "execution_count": null,
   "metadata": {},
   "outputs": [],
   "source": [
    "from IPython.display import Markdown, display\n",
    "\n",
    "param_table = dict_to_markdown_table(optimised_params)\n",
    "\n",
    "display(Markdown(param_table))"
   ]
  },
  {
   "cell_type": "code",
   "execution_count": null,
   "metadata": {},
   "outputs": [],
   "source": [
    "# run the modle with the optimised parameter set\n",
    "res = bcm.run(optimised_params)\n",
    "outs = res.derived_outputs"
   ]
  },
  {
   "cell_type": "markdown",
   "metadata": {},
   "source": [
    "### Results"
   ]
  },
  {
   "cell_type": "code",
   "execution_count": null,
   "metadata": {},
   "outputs": [],
   "source": [
    "fig = plot_model_vs_actual(\n",
    "    outs, all_targets['notification'], \"notification\", \"Notification\", \"Modelled vs Data\", \"Target data\"\n",
    ")\n",
    "fig.update_xaxes(range=[1970, 2035])\n",
    "#display_plot(fig, \"genexpert_2points_notif\")"
   ]
  },
  {
   "cell_type": "code",
   "execution_count": null,
   "metadata": {},
   "outputs": [],
   "source": [
    "fig = plot_model_vs_actual(\n",
    "    outs, all_targets[\"adults_prevalence_pulmonary_target\"], \"adults_prevalence_pulmonary\", \"Prevalence (Adult, Pulmonary)\", \"Modelled vs Data\", \"Target data\"\n",
    ")\n",
    "fig.update_xaxes(range=[1970, 2035])"
   ]
  },
  {
   "cell_type": "code",
   "execution_count": null,
   "metadata": {},
   "outputs": [],
   "source": [
    "tracked_outputs = [\n",
    "    \"base_detection\",\n",
    "    \"diagnostic_improvement\",\n",
    "    \"diagnostic_capacity\",\n",
    "    \"covid_impacts\",\n",
    "    \"final_detection\",\n",
    "    \"notif_ratio\"\n",
    "]\n",
    "\n",
    "plot_tracked_outputs(outs, tracked_outputs, layout=(3,2), plot_start_date=2000)"
   ]
  },
  {
   "cell_type": "code",
   "execution_count": null,
   "metadata": {},
   "outputs": [],
   "source": []
  }
 ],
 "metadata": {
  "kernelspec": {
   "display_name": "tbmodel310",
   "language": "python",
   "name": "python3"
  },
  "language_info": {
   "codemirror_mode": {
    "name": "ipython",
    "version": 3
   },
   "file_extension": ".py",
   "mimetype": "text/x-python",
   "name": "python",
   "nbconvert_exporter": "python",
   "pygments_lexer": "ipython3",
   "version": "3.12.2"
  }
 },
 "nbformat": 4,
 "nbformat_minor": 2
}
