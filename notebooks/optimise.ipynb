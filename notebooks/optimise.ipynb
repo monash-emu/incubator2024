{
 "cells": [
  {
   "cell_type": "code",
   "execution_count": null,
   "metadata": {},
   "outputs": [],
   "source": [
    "import pandas as pd\n",
    "\n",
    "from estival.wrappers.nevergrad import optimize_model\n",
    "\n",
    "from tb_incubator.plotting import plot_model_vs_actual, display_plot\n",
    "from tb_incubator.input import load_targets, load_param_info\n",
    "from tb_incubator.calibrate import get_bcm\n",
    "\n",
    "from multiprocessing import cpu_count\n",
    "pd.options.plotting.backend = \"plotly\""
   ]
  },
  {
   "cell_type": "code",
   "execution_count": null,
   "metadata": {},
   "outputs": [],
   "source": [
    "params = load_param_info()[\"value\"]\n",
    "all_targets = load_targets()\n",
    "file_prefix = \"opt3\"\n",
    "\n",
    "bcm = get_bcm(params, improved_detection=True, xpert_sensitivity=True, covid_effects=True)"
   ]
  },
  {
   "cell_type": "code",
   "execution_count": null,
   "metadata": {},
   "outputs": [],
   "source": [
    "def calibrate_model_with_optimisation(bcm):\n",
    "    \"\"\"\n",
    "    This function performs a model calibration using optimisation. \n",
    "    Calibration is performed using the estival package, which implements a wrapper for optimisation methods provided by the nevergrad package. \n",
    "\n",
    "    Args:\n",
    "        bcm: the calibration model object (type BayesianCompartmentalModel) \n",
    "    \"\"\"\n",
    "\n",
    "    from nevergrad.optimization.differentialevolution import TwoPointsDE\n",
    "    orunner = optimize_model(bcm, opt_class=TwoPointsDE, num_workers=cpu_count(), budget=4000)\n",
    "    rec = orunner.minimize(4000)\n",
    "    optimised_params = rec.value[1]    \n",
    "   \n",
    "    return optimised_params"
   ]
  },
  {
   "cell_type": "code",
   "execution_count": null,
   "metadata": {},
   "outputs": [],
   "source": [
    "optimised_params = calibrate_model_with_optimisation(bcm)\n",
    "optimised_params"
   ]
  },
  {
   "cell_type": "code",
   "execution_count": null,
   "metadata": {},
   "outputs": [],
   "source": [
    "# run the modle with the optimised parameter set\n",
    "res = bcm.run(optimised_params)\n",
    "outs = res.derived_outputs"
   ]
  },
  {
   "cell_type": "code",
   "execution_count": null,
   "metadata": {},
   "outputs": [],
   "source": [
    "plot = plot_model_vs_actual(\n",
    "    outs, all_targets['notif'], \"notification\", \"Notification\", \"Modelled vs Data\", \"Actual data\"\n",
    ")\n",
    "\n",
    "plot.update_xaxes(range=[2000, 2024])\n",
    "plot\n",
    "#display_plot(plot, f\"{file_prefix}_notif_opt\", \"svg\")"
   ]
  },
  {
   "cell_type": "code",
   "execution_count": null,
   "metadata": {},
   "outputs": [],
   "source": [
    "plot = plot_model_vs_actual(\n",
    "    outs, all_targets['prevalence'], \"prevalence\", \"Prevalence\", \"Modelled vs Data\", \"Actual data\"\n",
    ")\n",
    "\n",
    "plot.update_xaxes(range=[2003, 2024])\n",
    "plot\n",
    "#display_plot(plot, f\"{file_prefix}_prev_opt\", \"svg\")"
   ]
  },
  {
   "cell_type": "code",
   "execution_count": null,
   "metadata": {},
   "outputs": [],
   "source": [
    "plot = plot_model_vs_actual(\n",
    "    outs, all_targets['incidence'], \"incidence\", \"incidence\", \"Modelled vs Data\", \"Actual data\"\n",
    ")\n",
    "plot.update_xaxes(range=[2000, 2024])\n",
    "plot\n",
    "#display_plot(plot, f\"{file_prefix}_inc_opt\", \"svg\")"
   ]
  },
  {
   "cell_type": "code",
   "execution_count": null,
   "metadata": {},
   "outputs": [],
   "source": [
    "fig = outs[\"percentage_latent\"].plot()\n",
    "fig.update_xaxes(range=[2000, 2024])\n",
    "\n",
    "fig\n",
    "#display_plot(fig, f\"{file_prefix}_ltbi_opt\", \"svg\")"
   ]
  }
 ],
 "metadata": {
  "kernelspec": {
   "display_name": "tbmodel",
   "language": "python",
   "name": "python3"
  },
  "language_info": {
   "codemirror_mode": {
    "name": "ipython",
    "version": 3
   },
   "file_extension": ".py",
   "mimetype": "text/x-python",
   "name": "python",
   "nbconvert_exporter": "python",
   "pygments_lexer": "ipython3",
   "version": "3.8.20"
  }
 },
 "nbformat": 4,
 "nbformat_minor": 2
}
