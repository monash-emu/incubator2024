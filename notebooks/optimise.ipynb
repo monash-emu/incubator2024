{
 "cells": [
  {
   "cell_type": "code",
   "execution_count": 1,
   "metadata": {},
   "outputs": [],
   "source": [
    "import pandas as pd\n",
    "from estival.wrappers.nevergrad import optimize_model\n",
    "from tb_incubator.plotting import plot_model_vs_actual, display_plot, plot_tracked_outputs\n",
    "from tb_incubator.input import load_targets, load_param_info\n",
    "from tb_incubator.calibrate import get_bcm\n",
    "from tb_incubator.utils import get_param_table, dict_to_markdown_table\n",
    "from multiprocessing import cpu_count\n",
    "pd.options.plotting.backend = \"plotly\""
   ]
  },
  {
   "cell_type": "code",
   "execution_count": 2,
   "metadata": {},
   "outputs": [],
   "source": [
    "fixed_params = load_param_info()[\"value\"]\n",
    "param_info = load_param_info()\n",
    "all_targets = load_targets()\n",
    "covid_effects = {\n",
    "    'detection_reduction':True\n",
    "}\n",
    "acf_screening_rate = {\n",
    "    2024.0 : 0.0,\n",
    "    2025.0 : 0.0,\n",
    "    2026.0 : 0.22,\n",
    "    2027.0 : 0.22,\n",
    "    2027.01: 0.0\n",
    "}\n",
    "bcm = get_bcm(fixed_params, xpert_improvement=True, covid_effects=covid_effects, acf_screening_rate=acf_screening_rate)"
   ]
  },
  {
   "cell_type": "code",
   "execution_count": 3,
   "metadata": {},
   "outputs": [],
   "source": [
    "def calibrate_model_with_optimisation(bcm):\n",
    "    \"\"\"\n",
    "    This function performs a model calibration using optimisation. \n",
    "    Calibration is performed using the estival package, which implements a wrapper for optimisation methods provided by the nevergrad package. \n",
    "\n",
    "    Args:\n",
    "        bcm: the calibration model object (type BayesianCompartmentalModel) \n",
    "    \"\"\"\n",
    "\n",
    "    from nevergrad.optimization.differentialevolution import TwoPointsDE\n",
    "    orunner = optimize_model(bcm, opt_class=TwoPointsDE, num_workers=cpu_count(), budget=4000)\n",
    "    rec = orunner.minimize(4000)\n",
    "    optimised_params = rec.value[1]    \n",
    "   \n",
    "    return optimised_params, rec"
   ]
  },
  {
   "cell_type": "code",
   "execution_count": 4,
   "metadata": {},
   "outputs": [],
   "source": [
    "optimised_params = calibrate_model_with_optimisation(bcm)"
   ]
  },
  {
   "cell_type": "code",
   "execution_count": 5,
   "metadata": {},
   "outputs": [
    {
     "ename": "AttributeError",
     "evalue": "'tuple' object has no attribute 'items'",
     "output_type": "error",
     "traceback": [
      "\u001b[0;31m---------------------------------------------------------------------------\u001b[0m",
      "\u001b[0;31mAttributeError\u001b[0m                            Traceback (most recent call last)",
      "Cell \u001b[0;32mIn[5], line 2\u001b[0m\n\u001b[1;32m      1\u001b[0m \u001b[38;5;66;03m# run the model with the optimised parameter set\u001b[39;00m\n\u001b[0;32m----> 2\u001b[0m res \u001b[38;5;241m=\u001b[39m \u001b[43mbcm\u001b[49m\u001b[38;5;241;43m.\u001b[39;49m\u001b[43mrun\u001b[49m\u001b[43m(\u001b[49m\u001b[43moptimised_params\u001b[49m\u001b[43m)\u001b[49m\n\u001b[1;32m      3\u001b[0m outs \u001b[38;5;241m=\u001b[39m res\u001b[38;5;241m.\u001b[39mget_derived_outputs_df()\n",
      "File \u001b[0;32m/opt/homebrew/envs/tbmodel310/lib/python3.10/site-packages/estival/model/bcm.py:151\u001b[0m, in \u001b[0;36mBayesianCompartmentalModel.run\u001b[0;34m(self, parameters, include_extras, include_outputs)\u001b[0m\n\u001b[1;32m    140\u001b[0m \u001b[38;5;28;01mdef\u001b[39;00m\u001b[38;5;250m \u001b[39m\u001b[38;5;21mrun\u001b[39m(\u001b[38;5;28mself\u001b[39m, parameters: \u001b[38;5;28mdict\u001b[39m, include_extras\u001b[38;5;241m=\u001b[39m\u001b[38;5;28;01mTrue\u001b[39;00m, include_outputs\u001b[38;5;241m=\u001b[39m\u001b[38;5;28;01mTrue\u001b[39;00m) \u001b[38;5;241m-\u001b[39m\u001b[38;5;241m>\u001b[39m ResultsData:\n\u001b[1;32m    141\u001b[0m \u001b[38;5;250m    \u001b[39m\u001b[38;5;124;03m\"\"\"Run the model for a given set of parameters.\u001b[39;00m\n\u001b[1;32m    142\u001b[0m \u001b[38;5;124;03m    Note that only parameters specified as priors affect the outputs; other parameters\u001b[39;00m\n\u001b[1;32m    143\u001b[0m \u001b[38;5;124;03m    are in-filled from the initial arguments supplied to BayesianCompartmentalModel\u001b[39;00m\n\u001b[0;32m   (...)\u001b[0m\n\u001b[1;32m    149\u001b[0m \u001b[38;5;124;03m        ResultsData, an extensible container with derived_outputs as a DataFrame\u001b[39;00m\n\u001b[1;32m    150\u001b[0m \u001b[38;5;124;03m    \"\"\"\u001b[39;00m\n\u001b[0;32m--> 151\u001b[0m     run_params \u001b[38;5;241m=\u001b[39m {k: v \u001b[38;5;28;01mfor\u001b[39;00m k, v \u001b[38;5;129;01min\u001b[39;00m \u001b[43mparameters\u001b[49m\u001b[38;5;241;43m.\u001b[39;49m\u001b[43mitems\u001b[49m() \u001b[38;5;28;01mif\u001b[39;00m k \u001b[38;5;129;01min\u001b[39;00m \u001b[38;5;28mself\u001b[39m\u001b[38;5;241m.\u001b[39m_model_parameters}\n\u001b[1;32m    152\u001b[0m     results \u001b[38;5;241m=\u001b[39m \u001b[38;5;28mself\u001b[39m\u001b[38;5;241m.\u001b[39m_full_runner\u001b[38;5;241m.\u001b[39m_run_func(run_params)\n\u001b[1;32m    154\u001b[0m     \u001b[38;5;28;01mif\u001b[39;00m include_extras:\n",
      "\u001b[0;31mAttributeError\u001b[0m: 'tuple' object has no attribute 'items'"
     ]
    }
   ],
   "source": [
    "# run the model with the optimised parameter set\n",
    "res = bcm.run(optimised_params)\n",
    "outs = res.get_derived_outputs_df()"
   ]
  },
  {
   "cell_type": "markdown",
   "metadata": {},
   "source": [
    "### Results"
   ]
  },
  {
   "cell_type": "code",
   "execution_count": null,
   "metadata": {},
   "outputs": [],
   "source": [
    "fig = plot_model_vs_actual(\n",
    "    outs, all_targets['notification'], \"notification\", \"Notification\", \"Modelled vs Data\", \"Target data\"\n",
    ")\n",
    "fig.update_xaxes(range=[1970, 2035])\n",
    "#display_plot(fig, \"genexpert_2points_notif\")"
   ]
  },
  {
   "cell_type": "code",
   "execution_count": null,
   "metadata": {},
   "outputs": [],
   "source": [
    "fig = plot_model_vs_actual(\n",
    "    outs, all_targets[\"adults_prevalence_pulmonary_target\"], \"adults_prevalence_pulmonary\", \"Prevalence (Adult, Pulmonary)\", \"Modelled vs Data\", \"Target data\"\n",
    ")\n",
    "fig.update_xaxes(range=[1970, 2035])"
   ]
  },
  {
   "cell_type": "code",
   "execution_count": null,
   "metadata": {},
   "outputs": [],
   "source": []
  }
 ],
 "metadata": {
  "kernelspec": {
   "display_name": "tbmodel310",
   "language": "python",
   "name": "python3"
  },
  "language_info": {
   "codemirror_mode": {
    "name": "ipython",
    "version": 3
   },
   "file_extension": ".py",
   "mimetype": "text/x-python",
   "name": "python",
   "nbconvert_exporter": "python",
   "pygments_lexer": "ipython3",
   "version": "3.10.16"
  }
 },
 "nbformat": 4,
 "nbformat_minor": 2
}
