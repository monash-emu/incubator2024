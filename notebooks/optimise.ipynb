{
 "cells": [
  {
   "cell_type": "code",
   "execution_count": null,
   "metadata": {},
   "outputs": [],
   "source": [
    "import pandas as pd\n",
    "import numpy as np\n",
    "#from tbdynamics.plotting import plot_model_vs_actual\n",
    "import nevergrad as ng\n",
    "\n",
    "# Import our convenience wrapper\n",
    "from estival.wrappers.nevergrad import optimize_model\n",
    "from tb_incubator.plotting import set_plot_label, display_plot, plot_model_vs_actual\n",
    "from tb_incubator.input import load_targets, load_param_info, get_param_table\n",
    "from tb_incubator.model import build_model\n",
    "from multiprocessing import cpu_count\n",
    "pd.options.plotting.backend = \"plotly\"\n",
    "\n",
    "from estival import targets as est\n",
    "from estival import priors as esp\n",
    "from estival.model import BayesianCompartmentalModel\n",
    "from estival.wrappers import pymc as epm\n",
    "import pymc as pm\n",
    "import tb_incubator.constants as const"
   ]
  },
  {
   "cell_type": "code",
   "execution_count": 2,
   "metadata": {},
   "outputs": [],
   "source": [
    "param_info = load_param_info()\n",
    "params = param_info[\"value\"]\n",
    "\n",
    "compartments = const.compartments\n",
    "infectious_compartments = const.infectious_compartments\n",
    "age_strata = const.age_strata\n",
    "model_times = const.model_times\n",
    "\n",
    "model, desc = build_model(\n",
    "    compartments,\n",
    "    infectious_compartments,\n",
    "    age_strata,\n",
    "    params,\n",
    "    model_times\n",
    ")\n",
    "\n",
    "model.run(params)"
   ]
  },
  {
   "cell_type": "code",
   "execution_count": 3,
   "metadata": {},
   "outputs": [],
   "source": [
    "all_targets = load_targets()"
   ]
  },
  {
   "cell_type": "code",
   "execution_count": 4,
   "metadata": {},
   "outputs": [],
   "source": [
    "targets = [\n",
    "    est.TruncatedNormalTarget(\"prevalence\", all_targets[\"prevalence\"], (0.0, np.inf),\n",
    "        esp.UniformPrior(\"prevalence_dispersion\", (0.1, all_targets[\"prevalence\"].max() * 0.1))\n",
    "    ),\n",
    "    est.TruncatedNormalTarget(\"notification\", all_targets[\"notif2000\"], (0.0, np.inf),\n",
    "        esp.UniformPrior(\"notification_dispersion\", (0.1, all_targets[\"notif2000\"].max() * 0.1))\n",
    "    )\n",
    "]\n",
    "\n",
    "priors = [\n",
    "    esp.UniformPrior(\"contact_rate\", (0.01, 3.0)),\n",
    "    esp.UniformPrior(\"self_recovery_rate\", (0.05, 0.30)),\n",
    "    esp.UniformPrior(\"screening_scaleup_shape\", (0.01, 0.3)),\n",
    "    esp.UniformPrior(\"screening_inflection_time\", (1990.0, 2020.0)),\n",
    "    esp.UniformPrior(\"time_to_screening_end_asymp\", (0.1, 20.0)),\n",
    "    esp.UniformPrior(\"rr_infection_latent\", (0.01, 1.0)),\n",
    "    esp.UniformPrior(\"rr_infection_recovered\", (0.01, 1.0)),\n",
    "    esp.UniformPrior(\"seed_time\", (1840.0, 1900.0)),\n",
    "    esp.UniformPrior(\"seed_duration\", (1.0, 20.0)),\n",
    "    esp.UniformPrior(\"seed_rate\", (1.0, 100.0)),\n",
    "]\n",
    "\n",
    "bcm = BayesianCompartmentalModel(model, params, priors, targets)"
   ]
  },
  {
   "cell_type": "code",
   "execution_count": 5,
   "metadata": {},
   "outputs": [],
   "source": [
    "def calibrate_model_with_optimisation(bcm):\n",
    "    \"\"\"\n",
    "    This function performs a model calibration using optimisation. \n",
    "    Calibration is performed using the estival package, which implements a wrapper for optimisation methods provided by the nevergrad package. \n",
    "\n",
    "    Args:\n",
    "        bcm: the calibration model object (type BayesianCompartmentalModel) \n",
    "    \"\"\"\n",
    "    # create a nevergrad optimisation runner\n",
    "    from nevergrad.optimization.differentialevolution import TwoPointsDE\n",
    "    orunner = optimize_model(bcm, opt_class=TwoPointsDE, num_workers=cpu_count(), budget=4000)\n",
    "    # perform optimisation, allowing for up to 1000 model evaluations\n",
    "    rec = orunner.minimize(4000)\n",
    "    # retrieve optimised parameter values\n",
    "    optimised_params = rec.value[1]    \n",
    "   \n",
    "    return optimised_params"
   ]
  },
  {
   "cell_type": "code",
   "execution_count": null,
   "metadata": {},
   "outputs": [],
   "source": [
    "optimised_params = calibrate_model_with_optimisation(bcm)\n",
    "optimised_params"
   ]
  },
  {
   "cell_type": "code",
   "execution_count": 7,
   "metadata": {},
   "outputs": [],
   "source": [
    "# run the modle with the optimised parameter set\n",
    "res = bcm.run(params | optimised_params)"
   ]
  },
  {
   "cell_type": "code",
   "execution_count": 8,
   "metadata": {},
   "outputs": [],
   "source": [
    "derived_df_0 = res.derived_outputs"
   ]
  },
  {
   "cell_type": "code",
   "execution_count": null,
   "metadata": {},
   "outputs": [],
   "source": [
    "plot = plot_model_vs_actual(\n",
    "    derived_df_0, all_targets['notif'], \"notification\", \"Notification\", \"Modelled vs Data\"\n",
    ")\n",
    "\n",
    "plot.update_xaxes(range=[1978, 2023])"
   ]
  },
  {
   "cell_type": "code",
   "execution_count": 10,
   "metadata": {},
   "outputs": [],
   "source": [
    "def calibrate_model_with_sampling(bcm):\n",
    "    \"\"\"\n",
    "    This function performs a model calibration using Bayesian sampling. \n",
    "    Calibration is performed using the estival package, which implements a wrapper for sampling methods provided by the PyMC package. \n",
    "\n",
    "    Args:\n",
    "        bcm: the calibration model object (type BayesianCompartmentalModel) \n",
    "    \"\"\"\n",
    "\n",
    "    with pm.Model() as model:\n",
    "        # This is all you need - a single call to use_model\n",
    "        variables = epm.use_model(bcm)\n",
    "\n",
    "        # Now call a sampler using the variables from use_model\n",
    "        # In this case we use the Differential Evolution Metropolis(Z) sampler\n",
    "        # See the PyMC docs for more details\n",
    "        idata = pm.sample(step=[pm.DEMetropolisZ(variables)], draws=2000, tune=2000,cores=4,chains=4)\n",
    "    \n",
    "    return idata"
   ]
  },
  {
   "cell_type": "code",
   "execution_count": null,
   "metadata": {},
   "outputs": [],
   "source": [
    "# Set the number of workers for parallel optimization\n",
    "orunner = optimize_model(bcm, opt_class=ng.optimizers.TwoPointsDE, num_workers=cpu_count())\n",
    "for i in range(8):\n",
    "    rec = orunner.minimize(1000)\n",
    "mle_params = rec.value[1]\n",
    "mle_params"
   ]
  },
  {
   "cell_type": "code",
   "execution_count": 12,
   "metadata": {},
   "outputs": [],
   "source": [
    "res = bcm.run(params | mle_params)\n",
    "derived_df_0 = res.derived_outputs"
   ]
  },
  {
   "cell_type": "code",
   "execution_count": null,
   "metadata": {},
   "outputs": [],
   "source": [
    "plot = plot_model_vs_actual(\n",
    "    derived_df_0, all_targets['notif'], \"notification\", \"Notification\", \"Modelled vs Data\"\n",
    ")\n",
    "\n",
    "plot.update_xaxes(range=[1978, 2023])"
   ]
  },
  {
   "cell_type": "code",
   "execution_count": null,
   "metadata": {},
   "outputs": [],
   "source": []
  }
 ],
 "metadata": {
  "kernelspec": {
   "display_name": "tbmodel",
   "language": "python",
   "name": "python3"
  },
  "language_info": {
   "codemirror_mode": {
    "name": "ipython",
    "version": 3
   },
   "file_extension": ".py",
   "mimetype": "text/x-python",
   "name": "python",
   "nbconvert_exporter": "python",
   "pygments_lexer": "ipython3",
   "version": "3.10.14"
  }
 },
 "nbformat": 4,
 "nbformat_minor": 2
}
