{
 "cells": [
  {
   "cell_type": "raw",
   "metadata": {
    "vscode": {
     "languageId": "raw"
    }
   },
   "source": [
    "---\n",
    "title: \"Demographic Model - Indonesia\"\n",
    "format: \n",
    "  pdf\n",
    "execute:\n",
    "  echo: false\n",
    "  warning: false\n",
    "jupyter: python3\n",
    "bibliography: tb_refs.bib\n",
    "csl: https://www.zotero.org/styles/the-lancet\n",
    "---"
   ]
  },
  {
   "cell_type": "code",
   "execution_count": 8,
   "metadata": {},
   "outputs": [],
   "source": [
    "import pandas as pd\n",
    "import numpy as np\n",
    "from IPython.display import Markdown\n",
    "from plotly import graph_objects as go\n",
    "\n",
    "import tb_incubator.constants as const\n",
    "from tb_incubator.constants import set_project_base_path\n",
    "from tb_incubator.input import get_pop_death_data, get_death_rates\n",
    "from tb_incubator.model import build_model\n",
    "from tb_incubator.input import load_param_info\n",
    "from tb_incubator.plotting import display_plot\n",
    "\n",
    "pd.options.plotting.backend = \"plotly\"\n",
    "project_paths = set_project_base_path(\"../tb_incubator/\")"
   ]
  },
  {
   "cell_type": "markdown",
   "metadata": {},
   "source": [
    "## Population data"
   ]
  },
  {
   "cell_type": "markdown",
   "metadata": {},
   "source": [
    "We used estimates for the total population, deaths, and birth rate from the United Nations World Population Prospects [@unwpp2024]."
   ]
  },
  {
   "cell_type": "code",
   "execution_count": null,
   "metadata": {},
   "outputs": [],
   "source": [
    "# Load age-stratified, population and death data\n",
    "pop_death, description = get_pop_death_data()\n",
    "target_pops = pop_death.groupby(level=[0]).sum()[\"population\"]\n",
    "Markdown(description)"
   ]
  },
  {
   "cell_type": "markdown",
   "metadata": {},
   "source": [
    "## Model construction\n",
    "This is arbitrary, but including some epidemiological transitions in the background."
   ]
  },
  {
   "cell_type": "code",
   "execution_count": 3,
   "metadata": {},
   "outputs": [],
   "source": [
    "compartments = const.compartments\n",
    "age_strata = const.age_strata"
   ]
  },
  {
   "cell_type": "code",
   "execution_count": null,
   "metadata": {},
   "outputs": [],
   "source": [
    "param_info = load_param_info()\n",
    "params = param_info[\"value\"]\n",
    "\n",
    "model, desc = build_model(params, xpert_sensitivity=True, covid_effects=True)\n",
    "Markdown(desc)"
   ]
  },
  {
   "cell_type": "code",
   "execution_count": 5,
   "metadata": {},
   "outputs": [],
   "source": [
    "# age-stratified population\n",
    "age_pops_output = [model.request_output_for_compartments(f\"total_populationXage_{s}\", compartments, strata={\"age\": str(s)}) for s in age_strata]\n"
   ]
  },
  {
   "cell_type": "markdown",
   "metadata": {},
   "source": [
    "## Demographic results"
   ]
  },
  {
   "cell_type": "code",
   "execution_count": null,
   "metadata": {},
   "outputs": [],
   "source": [
    "# Run and inspect results\n",
    "file_prefix = \"ID\"\n",
    "model.run(params)\n",
    "fig = model.get_derived_outputs_df()[[f\"total_populationXage_{age}\" for age in age_strata]].plot.area()\n",
    "fig.add_trace(go.Scatter(x=target_pops.index, y=target_pops, name=\"target\", mode=\"markers\", marker=dict(color=\"black\", size=2.0)))\n",
    "#display_plot(fig, f\"{file_prefix}_comp_size\", \"svg\")"
   ]
  },
  {
   "cell_type": "code",
   "execution_count": null,
   "metadata": {},
   "outputs": [],
   "source": []
  }
 ],
 "metadata": {
  "kernelspec": {
   "display_name": "Python 3 (ipykernel)",
   "language": "python",
   "name": "python3"
  },
  "language_info": {
   "codemirror_mode": {
    "name": "ipython",
    "version": 3
   },
   "file_extension": ".py",
   "mimetype": "text/x-python",
   "name": "python",
   "nbconvert_exporter": "python",
   "pygments_lexer": "ipython3",
   "version": "3.10.14"
  }
 },
 "nbformat": 4,
 "nbformat_minor": 4
}
