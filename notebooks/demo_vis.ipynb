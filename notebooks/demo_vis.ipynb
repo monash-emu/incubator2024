{
 "cells": [
  {
   "cell_type": "raw",
   "metadata": {
    "vscode": {
     "languageId": "raw"
    }
   },
   "source": [
    "---\n",
    "title: \"Demographic Model - Indonesia\"\n",
    "format: \n",
    "  pdf\n",
    "execute:\n",
    "  echo: false\n",
    "  warning: false\n",
    "jupyter: python3\n",
    "bibliography: tb_refs.bib\n",
    "csl: https://www.zotero.org/styles/the-lancet\n",
    "---"
   ]
  },
  {
   "cell_type": "code",
   "execution_count": 1,
   "metadata": {},
   "outputs": [],
   "source": [
    "import pandas as pd\n",
    "import numpy as np\n",
    "from IPython.display import Markdown\n",
    "from plotly import graph_objects as go\n",
    "\n",
    "import tb_incubator.constants as const\n",
    "from tb_incubator.constants import set_project_base_path\n",
    "from tb_incubator.input import get_pop_death_data, get_death_rates\n",
    "from tb_incubator.model import build_model\n",
    "from tb_incubator.input import load_param_info\n",
    "\n",
    "pd.options.plotting.backend = \"plotly\"\n",
    "project_paths = set_project_base_path(\"../tb_incubator/\")"
   ]
  },
  {
   "cell_type": "markdown",
   "metadata": {},
   "source": [
    "## Population data"
   ]
  },
  {
   "cell_type": "markdown",
   "metadata": {},
   "source": [
    "We used estimates for the total population, deaths, and birth rate from the United Nations World Population Prospects [@unwpp2024]."
   ]
  },
  {
   "cell_type": "code",
   "execution_count": null,
   "metadata": {},
   "outputs": [],
   "source": [
    "# Load age-stratified, population and death data\n",
    "pop_death, description = get_pop_death_data()\n",
    "target_pops = pop_death.groupby(level=[0]).sum()[\"population\"]\n",
    "Markdown(description)"
   ]
  },
  {
   "cell_type": "markdown",
   "metadata": {},
   "source": [
    "## Model construction\n",
    "This is arbitrary, but including some epidemiological transitions in the background."
   ]
  },
  {
   "cell_type": "code",
   "execution_count": 3,
   "metadata": {},
   "outputs": [],
   "source": [
    "compartments = const.compartments\n",
    "infectious_compartments = const.infectious_compartments\n",
    "age_strata = const.age_strata\n",
    "model_times = const.model_times"
   ]
  },
  {
   "cell_type": "code",
   "execution_count": null,
   "metadata": {},
   "outputs": [],
   "source": [
    "param_info = load_param_info()\n",
    "params = param_info[\"value\"]\n",
    "\n",
    "model, desc = build_model(\n",
    "    compartments,\n",
    "    infectious_compartments,\n",
    "    age_strata,\n",
    "    params,\n",
    "    model_times\n",
    ")\n",
    "Markdown(desc)"
   ]
  },
  {
   "cell_type": "code",
   "execution_count": 5,
   "metadata": {},
   "outputs": [],
   "source": [
    "test_params = {\n",
    "\t'contact_rate': 9.543921666073745,\n",
    "\t'self_recovery_rate': 0.29688347664390236,\n",
    "\t'screening_scaleup_shape': 0.19889392155636598,\n",
    "\t'screening_inflection_time': 2009.3016735363497,\n",
    "\t'time_to_screening_end_asymp': 0.3361714758423252,\n",
    "\t'rr_infection_latent': 0.116003030825429,\n",
    "\t'rr_infection_recovered': 0.8720080623263372,\n",
    "\t'seed_time': 1881.49881702568,\n",
    "\t'seed_duration': 19.549815951426623,\n",
    "\t'seed_rate': 70.64648160388384,\n",
    "\t'base_sensitivity': 0.2867398245514573,\n",
    "\t'genexpert_sensitivity': 0.826222381252117,\n",
    "\t'progression_multiplier': 1.436023746975478,\n",
    "}\n"
   ]
  },
  {
   "cell_type": "code",
   "execution_count": 6,
   "metadata": {},
   "outputs": [],
   "source": [
    "# age-stratified population\n",
    "age_pops_output = [model.request_output_for_compartments(f\"total_populationXage_{s}\", compartments, strata={\"age\": str(s)}) for s in age_strata]\n"
   ]
  },
  {
   "cell_type": "code",
   "execution_count": 7,
   "metadata": {},
   "outputs": [],
   "source": [
    "model.run(params | test_params)"
   ]
  },
  {
   "cell_type": "markdown",
   "metadata": {},
   "source": [
    "## Demographic results"
   ]
  },
  {
   "cell_type": "code",
   "execution_count": null,
   "metadata": {},
   "outputs": [],
   "source": [
    "# Run and inspect results\n",
    "model.run(params)\n",
    "fig = model.get_derived_outputs_df()[[f\"total_populationXage_{age}\" for age in age_strata]].plot.area()\n",
    "fig.add_trace(go.Scatter(x=target_pops.index, y=target_pops, name=\"target\", mode=\"markers\", marker=dict(color=\"black\", size=2.0)))"
   ]
  },
  {
   "cell_type": "code",
   "execution_count": null,
   "metadata": {},
   "outputs": [],
   "source": []
  }
 ],
 "metadata": {
  "kernelspec": {
   "display_name": "Python 3 (ipykernel)",
   "language": "python",
   "name": "python3"
  },
  "language_info": {
   "codemirror_mode": {
    "name": "ipython",
    "version": 3
   },
   "file_extension": ".py",
   "mimetype": "text/x-python",
   "name": "python",
   "nbconvert_exporter": "python",
   "pygments_lexer": "ipython3",
   "version": "3.10.14"
  }
 },
 "nbformat": 4,
 "nbformat_minor": 4
}
