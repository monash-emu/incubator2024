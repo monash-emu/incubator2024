{
 "cells": [
  {
   "cell_type": "code",
   "execution_count": null,
   "metadata": {},
   "outputs": [],
   "source": [
    "import pandas as pd\n",
    "import pathlib"
   ]
  },
  {
   "cell_type": "code",
   "execution_count": null,
   "metadata": {},
   "outputs": [],
   "source": [
    "# set working directory\n",
    "%cd /path/to/your/repo"
   ]
  },
  {
   "cell_type": "markdown",
   "metadata": {},
   "source": [
    "# TB notification data"
   ]
  },
  {
   "cell_type": "code",
   "execution_count": null,
   "metadata": {},
   "outputs": [],
   "source": [
    "# set path to data\n",
    "notif_data_path = pathlib.Path('./tb_incubator/data/tb_notifications_all_countries_who_raw.csv')\n",
    "\n",
    "# read in who data to dataframe\n",
    "who_notif_data = pd.read_csv(notif_data_path)"
   ]
  },
  {
   "cell_type": "code",
   "execution_count": null,
   "metadata": {},
   "outputs": [],
   "source": [
    "# case notifications for Indonesia\n",
    "countries = ['Indonesia']\n",
    "target_data = who_notif_data.loc[who_notif_data['country'].isin(countries)]"
   ]
  },
  {
   "cell_type": "code",
   "execution_count": null,
   "metadata": {},
   "outputs": [],
   "source": [
    "# select needed columns\n",
    "target_data = target_data[['year', 'country', 'c_newinc']]\n",
    "\n",
    "\n",
    "# rename the columns\n",
    "target_data = target_data.rename(columns={'c_newinc': 'new_relapse_cases'})\n",
    "\n",
    "\n",
    "# Convert NaNs to 0\n",
    "target_data= target_data.fillna(0)\n",
    "\n",
    "# set date column to be datetime and set date column to index\n",
    "target_data['year'] = pd.to_datetime(target_data['year'].astype(str), format='%Y')\n",
    "target_data['year'] = target_data['year'].dt.year\n",
    "target_data = target_data.set_index('year')"
   ]
  },
  {
   "cell_type": "code",
   "execution_count": null,
   "metadata": {},
   "outputs": [],
   "source": [
    "target_data"
   ]
  },
  {
   "cell_type": "code",
   "execution_count": null,
   "metadata": {},
   "outputs": [],
   "source": [
    "save_path = pathlib.Path('./tb_incubator/data/tb_notifications_indonesia_who_cleaned.csv')\n",
    "\n",
    "# save dataframe to csv\n",
    "target_data.to_csv(save_path, index = True)"
   ]
  },
  {
   "cell_type": "markdown",
   "metadata": {},
   "source": [
    "# TB mortality data"
   ]
  },
  {
   "cell_type": "code",
   "execution_count": null,
   "metadata": {},
   "outputs": [],
   "source": [
    "# set path to data\n",
    "mort_data_path = pathlib.Path('./tb_incubator/data/tb_mortality_all_countries_who_raw.csv')\n",
    "\n",
    "# read in who data to dataframe\n",
    "who_mort_data = pd.read_csv(mort_data_path)"
   ]
  },
  {
   "cell_type": "code",
   "execution_count": null,
   "metadata": {},
   "outputs": [],
   "source": [
    "# incidence and mortality for Indonesia\n",
    "countries = ['Indonesia']\n",
    "mort_data = who_mort_data.loc[mort_data['country'].isin(countries)]"
   ]
  },
  {
   "cell_type": "code",
   "execution_count": null,
   "metadata": {},
   "outputs": [],
   "source": [
    "# select needed columns\n",
    "mort_data = mort_data[['year', 'country','e_pop_num', 'e_inc_num', 'e_inc_tbhiv_num', 'e_mort_num', 'e_mort_exc_tbhiv_num', 'e_mort_tbhiv_num']]\n",
    "\n",
    "# Convert NaNs to 0\n",
    "mort_data = mort_data.fillna(0)\n",
    "\n",
    "# set date column to be datetime and set date column to index\n",
    "mort_data['year'] = pd.to_datetime(mort_data['year'].astype(str), format='%Y')\n",
    "mort_data['year'] = mort_data['year'].dt.year # show the year only\n",
    "\n",
    "# sort by date\n",
    "mort_data = mort_data.set_index('year') "
   ]
  },
  {
   "cell_type": "code",
   "execution_count": null,
   "metadata": {},
   "outputs": [],
   "source": [
    "mort_data"
   ]
  },
  {
   "cell_type": "code",
   "execution_count": null,
   "metadata": {},
   "outputs": [],
   "source": [
    "save_path = pathlib.Path('./tb_incubator/data/tb_incidence_mortality_indonesia_who_cleaned.csv')\n",
    "\n",
    "# save dataframe to csv\n",
    "mort_data.to_csv(save_path, index = True)"
   ]
  },
  {
   "cell_type": "markdown",
   "metadata": {},
   "source": [
    "# BCG vaccination coverage"
   ]
  },
  {
   "cell_type": "code",
   "execution_count": null,
   "metadata": {},
   "outputs": [],
   "source": [
    "# set path to data\n",
    "bcg_data_path = pathlib.Path('./tb_incubator/data/bcg_immunisation_coverage_all_countries_who.csv')\n",
    "\n",
    "# read in who data to dataframe\n",
    "who_bcg_data = pd.read_csv(bcg_data_path)"
   ]
  },
  {
   "cell_type": "code",
   "execution_count": null,
   "metadata": {},
   "outputs": [],
   "source": [
    "# bcg immunisation coverage for Indonesia\n",
    "countries = ['Indonesia']\n",
    "bcg_data = who_bcg_data.loc[who_bcg_data['Location'].isin(countries)]"
   ]
  },
  {
   "cell_type": "code",
   "execution_count": null,
   "metadata": {},
   "outputs": [],
   "source": [
    "# select needed columns\n",
    "bcg_data = bcg_data[['Period', 'Location','Value']]\n",
    "\n",
    "# rename the columns for consistency\n",
    "bcg_data = bcg_data.rename(columns={'Period': 'year', 'Location': 'country', 'Value': 'bcg_coverage'})\n",
    "\n",
    "# Convert NaNs to 0\n",
    "bcg_data= bcg_data.fillna(0)\n",
    "\n",
    "# set date column to be datetime and set date column to index\n",
    "bcg_data['year'] = pd.to_datetime(bcg_data['year'].astype(str), format='%Y')\n",
    "bcg_data['year'] = bcg_data['year'].dt.year # show the year only\n",
    "bcg_data = bcg_data.set_index('year')\n",
    "\n",
    "# sort by date\n",
    "bcg_data = bcg_data.sort_values(by='year')"
   ]
  },
  {
   "cell_type": "code",
   "execution_count": null,
   "metadata": {},
   "outputs": [],
   "source": [
    "bcg_data"
   ]
  },
  {
   "cell_type": "code",
   "execution_count": null,
   "metadata": {},
   "outputs": [],
   "source": [
    "save_path = pathlib.Path('./tb_incubator/data/bcg_immunisation_coverage_indonesia_who_cleaned.csv')\n",
    "\n",
    "# save dataframe to csv\n",
    "bcg_data.to_csv(save_path, index = True)"
   ]
  },
  {
   "cell_type": "markdown",
   "metadata": {},
   "source": [
    "# Population data"
   ]
  },
  {
   "cell_type": "markdown",
   "metadata": {},
   "source": [
    "### Statistics Indonesia (BPS) Local Data"
   ]
  },
  {
   "cell_type": "code",
   "execution_count": null,
   "metadata": {},
   "outputs": [],
   "source": [
    "# data from Statistics Indonesia (BPS) 2010 - 2022\n",
    "bps_pop_data = pd.read_csv('./tb_incubator/data/local_data/population_total_id.csv')"
   ]
  },
  {
   "cell_type": "code",
   "execution_count": null,
   "metadata": {},
   "outputs": [],
   "source": [
    "# set date column to datetime\n",
    "bps_pop_data['year'] = pd.to_datetime(bps_pop_data['year'].astype(str), format='%Y')\n",
    "bps_pop_data['year'] = bps_pop_data['year'].dt.year\n",
    "\n",
    "# set date column to index\n",
    "bps_pop_data = bps_pop_data.set_index('year')\n",
    "\n",
    "# sort by date\n",
    "bps_pop_data = bps_pop_data.sort_values(by='year')"
   ]
  },
  {
   "cell_type": "code",
   "execution_count": null,
   "metadata": {},
   "outputs": [],
   "source": [
    "# save dataframe to csv\n",
    "bps_pop_data.to_csv('./tb_incubator/data/local_data/population_total_id.csv', index = True)"
   ]
  },
  {
   "cell_type": "code",
   "execution_count": null,
   "metadata": {},
   "outputs": [],
   "source": [
    "# data from Statistics Indonesia (BPS) 2010 - 2022, by 5-year age groups\n",
    "bps_pop_age = pd.read_csv('./tb_incubator/data/local_data/population_age_group_id.csv')\n"
   ]
  },
  {
   "cell_type": "code",
   "execution_count": null,
   "metadata": {},
   "outputs": [],
   "source": [
    "# set date column to datetime\n",
    "bps_pop_age['year'] = pd.to_datetime(bps_pop_age['year'].astype(str), format='%Y')\n",
    "bps_pop_age['year'] = bps_pop_age['year'].dt.year\n",
    "\n",
    "# set date column to index\n",
    "bps_pop_age = bps_pop_age.set_index('year')\n",
    "\n",
    "# sort the date\n",
    "bps_pop_age = bps_pop_age.sort_values(by='year')"
   ]
  },
  {
   "cell_type": "code",
   "execution_count": null,
   "metadata": {},
   "outputs": [],
   "source": [
    "# save dataframe to csv\n",
    "bps_pop_age.to_csv('./tb_incubator/data/local_data/population_age_group_id.csv', index = True)"
   ]
  },
  {
   "cell_type": "markdown",
   "metadata": {},
   "source": [
    "### UN Data"
   ]
  },
  {
   "cell_type": "code",
   "execution_count": null,
   "metadata": {},
   "outputs": [],
   "source": [
    "# data from UN World Population Prospects 2024\n",
    "# see https://population.un.org/wpp/Download/Files/1_Indicator%20(Standard)/EXCEL_FILES/2_Population/WPP2024_POP_F02_1_POPULATION_5-YEAR_AGE_GROUPS_BOTH_SEXES.xlsx\n",
    "# for raw data\n",
    "\n",
    "un_pop_data = pd.read_csv('./tb_incubator/data/un_population_est_age_group.csv')"
   ]
  },
  {
   "cell_type": "code",
   "execution_count": null,
   "metadata": {},
   "outputs": [],
   "source": [
    "un_pop_data"
   ]
  },
  {
   "cell_type": "code",
   "execution_count": null,
   "metadata": {},
   "outputs": [],
   "source": [
    "# Melt the UN data\n",
    "un_pop_data_melt = pd.melt(un_pop_data, id_vars=['year'])\n",
    "un_pop_data_melt"
   ]
  },
  {
   "cell_type": "code",
   "execution_count": null,
   "metadata": {},
   "outputs": [],
   "source": [
    "# rename the columns for consistency\n",
    "un_pop_data_melt = un_pop_data_melt.rename(columns={'variable': 'age_group', 'value': 'total'})\n",
    "\n",
    "# set date column to datetime\n",
    "un_pop_data_melt['year'] = pd.to_datetime(un_pop_data_melt['year'].astype(str) + '-01-01', format='%Y-%m-%d')\n",
    "un_pop_data_melt['year'] = un_pop_data_melt['year'].dt.year\n",
    "\n",
    "# set date column to index\n",
    "un_pop_data_melt = un_pop_data_melt.set_index('year')"
   ]
  },
  {
   "cell_type": "code",
   "execution_count": null,
   "metadata": {},
   "outputs": [],
   "source": [
    "un_pop_data_melt"
   ]
  },
  {
   "cell_type": "code",
   "execution_count": null,
   "metadata": {},
   "outputs": [],
   "source": [
    "# save dataframe to csv\n",
    "un_pop_data_melt.to_csv('./tb_incubator/data/un_population_est_age_group_cleaned.csv', index = True)"
   ]
  },
  {
   "cell_type": "markdown",
   "metadata": {},
   "source": [
    "#### Recent years data (2021 - 2023)"
   ]
  },
  {
   "cell_type": "code",
   "execution_count": null,
   "metadata": {},
   "outputs": [],
   "source": [
    "# most recent years (2021 - 2023)\n",
    "un_pop_data_melt_3 = un_pop_data_melt.loc[[2021,2022,2023]]"
   ]
  },
  {
   "cell_type": "code",
   "execution_count": null,
   "metadata": {},
   "outputs": [],
   "source": [
    "# save dataframe to csv\n",
    "un_pop_data_melt_3.to_csv('./tb_incubator/data/un_population_est_age_group_2021_2023.csv', index = True)"
   ]
  },
  {
   "cell_type": "code",
   "execution_count": null,
   "metadata": {},
   "outputs": [],
   "source": []
  }
 ],
 "metadata": {
  "kernelspec": {
   "display_name": "tbmodel",
   "language": "python",
   "name": "python3"
  },
  "language_info": {
   "codemirror_mode": {
    "name": "ipython",
    "version": 3
   },
   "file_extension": ".py",
   "mimetype": "text/x-python",
   "name": "python",
   "nbconvert_exporter": "python",
   "pygments_lexer": "ipython3",
   "version": "3.10.14"
  }
 },
 "nbformat": 4,
 "nbformat_minor": 2
}
